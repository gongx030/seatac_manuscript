{
  "nbformat": 4,
  "nbformat_minor": 0,
  "metadata": {
    "kernelspec": {
      "display_name": "R",
      "language": "R",
      "name": "ir"
    },
    "language_info": {
      "codemirror_mode": "r",
      "file_extension": ".r",
      "mimetype": "text/x-r-source",
      "name": "R",
      "pygments_lexer": "r",
      "version": "3.3.1"
    },
    "colab": {
      "name": "OSK_RNA_and_NOR_NFR_sf6ef.ipynb",
      "provenance": [],
      "collapsed_sections": [],
      "machine_shape": "hm",
      "toc_visible": true,
      "include_colab_link": true
    }
  },
  "cells": [
    {
      "cell_type": "markdown",
      "metadata": {
        "id": "view-in-github",
        "colab_type": "text"
      },
      "source": [
        "<a href=\"https://colab.research.google.com/github/gongx030/seatac_manuscript/blob/main/OSK_RNA_and_NOR_NFR_sf6ef.ipynb\" target=\"_parent\"><img src=\"https://colab.research.google.com/assets/colab-badge.svg\" alt=\"Open In Colab\"/></a>"
      ]
    },
    {
      "cell_type": "markdown",
      "source": [
        "# The notebook run Differential expression analysis between MEFs and D7 MEFs post OSK induction and lists genes with regions going from NFR to NOR and are significantly down at D7."
      ],
      "metadata": {
        "id": "Ab8RwYcN7Wfk"
      }
    },
    {
      "cell_type": "code",
      "metadata": {
        "id": "6OhqEEeZHroa"
      },
      "source": [
        "start_time0 <- Sys.time()\n",
        "options(max.print=1000)"
      ],
      "execution_count": 1,
      "outputs": []
    },
    {
      "cell_type": "markdown",
      "metadata": {
        "id": "obcf6pAcw6TQ"
      },
      "source": [
        "### Install external packages"
      ]
    },
    {
      "cell_type": "code",
      "metadata": {
        "id": "99vS8MZUxApi",
        "colab": {
          "base_uri": "https://localhost:8080/",
          "height": 156
        },
        "outputId": "d70e4332-742d-47a0-eebc-908ce46105ce"
      },
      "source": [
        "system('apt-get -q install libgsl-dev', intern = TRUE)"
      ],
      "execution_count": 2,
      "outputs": [
        {
          "output_type": "display_data",
          "data": {
            "text/html": [
              "<style>\n",
              ".list-inline {list-style: none; margin:0; padding: 0}\n",
              ".list-inline>li {display: inline-block}\n",
              ".list-inline>li:not(:last-child)::after {content: \"\\00b7\"; padding: 0 .5ex}\n",
              "</style>\n",
              "<ol class=list-inline><li>'Reading package lists...'</li><li>'Building dependency tree...'</li><li>'Reading state information...'</li><li>'The following additional packages will be installed:'</li><li><span style=white-space:pre-wrap>'  libgsl23 libgslcblas0'</span></li><li>'Suggested packages:'</li><li><span style=white-space:pre-wrap>'  gsl-ref-psdoc | gsl-doc-pdf | gsl-doc-info | gsl-ref-html'</span></li><li>'The following NEW packages will be installed:'</li><li><span style=white-space:pre-wrap>'  libgsl-dev libgsl23 libgslcblas0'</span></li><li>'0 upgraded, 3 newly installed, 0 to remove and 39 not upgraded.'</li><li>'Need to get 1,926 kB of archives.'</li><li>'After this operation, 9,474 kB of additional disk space will be used.'</li><li>'Get:1 http://archive.ubuntu.com/ubuntu bionic/universe amd64 libgslcblas0 amd64 2.4+dfsg-6 [79.7 kB]'</li><li>'Get:2 http://archive.ubuntu.com/ubuntu bionic/universe amd64 libgsl23 amd64 2.4+dfsg-6 [823 kB]'</li><li>'Get:3 http://archive.ubuntu.com/ubuntu bionic/universe amd64 libgsl-dev amd64 2.4+dfsg-6 [1,023 kB]'</li><li>'Fetched 1,926 kB in 1s (2,388 kB/s)'</li><li>'Selecting previously unselected package libgslcblas0:amd64.\\r'</li><li>'(Reading database ... \\r(Reading database ... 5%\\r(Reading database ... 10%\\r(Reading database ... 15%\\r(Reading database ... 20%\\r(Reading database ... 25%\\r(Reading database ... 30%\\r(Reading database ... 35%\\r(Reading database ... 40%\\r(Reading database ... 45%\\r(Reading database ... 50%\\r(Reading database ... 55%\\r(Reading database ... 60%\\r(Reading database ... 65%\\r(Reading database ... 70%\\r(Reading database ... 75%\\r(Reading database ... 80%\\r(Reading database ... 85%\\r(Reading database ... 90%\\r(Reading database ... 95%\\r(Reading database ... 100%\\r(Reading database ... 155455 files and directories currently installed.)\\r'</li><li>'Preparing to unpack .../libgslcblas0_2.4+dfsg-6_amd64.deb ...\\r'</li><li>'Unpacking libgslcblas0:amd64 (2.4+dfsg-6) ...\\r'</li><li>'Selecting previously unselected package libgsl23:amd64.\\r'</li><li>'Preparing to unpack .../libgsl23_2.4+dfsg-6_amd64.deb ...\\r'</li><li>'Unpacking libgsl23:amd64 (2.4+dfsg-6) ...\\r'</li><li>'Selecting previously unselected package libgsl-dev.\\r'</li><li>'Preparing to unpack .../libgsl-dev_2.4+dfsg-6_amd64.deb ...\\r'</li><li>'Unpacking libgsl-dev (2.4+dfsg-6) ...\\r'</li><li>'Setting up libgslcblas0:amd64 (2.4+dfsg-6) ...\\r'</li><li>'Setting up libgsl23:amd64 (2.4+dfsg-6) ...\\r'</li><li>'Setting up libgsl-dev (2.4+dfsg-6) ...\\r'</li><li>'Processing triggers for man-db (2.8.3-2ubuntu0.1) ...\\r'</li><li>'Processing triggers for libc-bin (2.27-3ubuntu1.3) ...\\r'</li><li>'/sbin/ldconfig.real: /usr/local/lib/python3.7/dist-packages/ideep4py/lib/libmkldnn.so.0 is not a symbolic link\\r'</li><li>'\\r'</li></ol>\n"
            ],
            "text/markdown": "1. 'Reading package lists...'\n2. 'Building dependency tree...'\n3. 'Reading state information...'\n4. 'The following additional packages will be installed:'\n5. <span style=white-space:pre-wrap>'  libgsl23 libgslcblas0'</span>\n6. 'Suggested packages:'\n7. <span style=white-space:pre-wrap>'  gsl-ref-psdoc | gsl-doc-pdf | gsl-doc-info | gsl-ref-html'</span>\n8. 'The following NEW packages will be installed:'\n9. <span style=white-space:pre-wrap>'  libgsl-dev libgsl23 libgslcblas0'</span>\n10. '0 upgraded, 3 newly installed, 0 to remove and 39 not upgraded.'\n11. 'Need to get 1,926 kB of archives.'\n12. 'After this operation, 9,474 kB of additional disk space will be used.'\n13. 'Get:1 http://archive.ubuntu.com/ubuntu bionic/universe amd64 libgslcblas0 amd64 2.4+dfsg-6 [79.7 kB]'\n14. 'Get:2 http://archive.ubuntu.com/ubuntu bionic/universe amd64 libgsl23 amd64 2.4+dfsg-6 [823 kB]'\n15. 'Get:3 http://archive.ubuntu.com/ubuntu bionic/universe amd64 libgsl-dev amd64 2.4+dfsg-6 [1,023 kB]'\n16. 'Fetched 1,926 kB in 1s (2,388 kB/s)'\n17. 'Selecting previously unselected package libgslcblas0:amd64.\\r'\n18. '(Reading database ... \\r(Reading database ... 5%\\r(Reading database ... 10%\\r(Reading database ... 15%\\r(Reading database ... 20%\\r(Reading database ... 25%\\r(Reading database ... 30%\\r(Reading database ... 35%\\r(Reading database ... 40%\\r(Reading database ... 45%\\r(Reading database ... 50%\\r(Reading database ... 55%\\r(Reading database ... 60%\\r(Reading database ... 65%\\r(Reading database ... 70%\\r(Reading database ... 75%\\r(Reading database ... 80%\\r(Reading database ... 85%\\r(Reading database ... 90%\\r(Reading database ... 95%\\r(Reading database ... 100%\\r(Reading database ... 155455 files and directories currently installed.)\\r'\n19. 'Preparing to unpack .../libgslcblas0_2.4+dfsg-6_amd64.deb ...\\r'\n20. 'Unpacking libgslcblas0:amd64 (2.4+dfsg-6) ...\\r'\n21. 'Selecting previously unselected package libgsl23:amd64.\\r'\n22. 'Preparing to unpack .../libgsl23_2.4+dfsg-6_amd64.deb ...\\r'\n23. 'Unpacking libgsl23:amd64 (2.4+dfsg-6) ...\\r'\n24. 'Selecting previously unselected package libgsl-dev.\\r'\n25. 'Preparing to unpack .../libgsl-dev_2.4+dfsg-6_amd64.deb ...\\r'\n26. 'Unpacking libgsl-dev (2.4+dfsg-6) ...\\r'\n27. 'Setting up libgslcblas0:amd64 (2.4+dfsg-6) ...\\r'\n28. 'Setting up libgsl23:amd64 (2.4+dfsg-6) ...\\r'\n29. 'Setting up libgsl-dev (2.4+dfsg-6) ...\\r'\n30. 'Processing triggers for man-db (2.8.3-2ubuntu0.1) ...\\r'\n31. 'Processing triggers for libc-bin (2.27-3ubuntu1.3) ...\\r'\n32. '/sbin/ldconfig.real: /usr/local/lib/python3.7/dist-packages/ideep4py/lib/libmkldnn.so.0 is not a symbolic link\\r'\n33. '\\r'\n\n\n",
            "text/latex": "\\begin{enumerate*}\n\\item 'Reading package lists...'\n\\item 'Building dependency tree...'\n\\item 'Reading state information...'\n\\item 'The following additional packages will be installed:'\n\\item '  libgsl23 libgslcblas0'\n\\item 'Suggested packages:'\n\\item '  gsl-ref-psdoc \\textbar{} gsl-doc-pdf \\textbar{} gsl-doc-info \\textbar{} gsl-ref-html'\n\\item 'The following NEW packages will be installed:'\n\\item '  libgsl-dev libgsl23 libgslcblas0'\n\\item '0 upgraded, 3 newly installed, 0 to remove and 39 not upgraded.'\n\\item 'Need to get 1,926 kB of archives.'\n\\item 'After this operation, 9,474 kB of additional disk space will be used.'\n\\item 'Get:1 http://archive.ubuntu.com/ubuntu bionic/universe amd64 libgslcblas0 amd64 2.4+dfsg-6 {[}79.7 kB{]}'\n\\item 'Get:2 http://archive.ubuntu.com/ubuntu bionic/universe amd64 libgsl23 amd64 2.4+dfsg-6 {[}823 kB{]}'\n\\item 'Get:3 http://archive.ubuntu.com/ubuntu bionic/universe amd64 libgsl-dev amd64 2.4+dfsg-6 {[}1,023 kB{]}'\n\\item 'Fetched 1,926 kB in 1s (2,388 kB/s)'\n\\item 'Selecting previously unselected package libgslcblas0:amd64.\\textbackslash{}r'\n\\item '(Reading database ... \\textbackslash{}r(Reading database ... 5\\%\\textbackslash{}r(Reading database ... 10\\%\\textbackslash{}r(Reading database ... 15\\%\\textbackslash{}r(Reading database ... 20\\%\\textbackslash{}r(Reading database ... 25\\%\\textbackslash{}r(Reading database ... 30\\%\\textbackslash{}r(Reading database ... 35\\%\\textbackslash{}r(Reading database ... 40\\%\\textbackslash{}r(Reading database ... 45\\%\\textbackslash{}r(Reading database ... 50\\%\\textbackslash{}r(Reading database ... 55\\%\\textbackslash{}r(Reading database ... 60\\%\\textbackslash{}r(Reading database ... 65\\%\\textbackslash{}r(Reading database ... 70\\%\\textbackslash{}r(Reading database ... 75\\%\\textbackslash{}r(Reading database ... 80\\%\\textbackslash{}r(Reading database ... 85\\%\\textbackslash{}r(Reading database ... 90\\%\\textbackslash{}r(Reading database ... 95\\%\\textbackslash{}r(Reading database ... 100\\%\\textbackslash{}r(Reading database ... 155455 files and directories currently installed.)\\textbackslash{}r'\n\\item 'Preparing to unpack .../libgslcblas0\\_2.4+dfsg-6\\_amd64.deb ...\\textbackslash{}r'\n\\item 'Unpacking libgslcblas0:amd64 (2.4+dfsg-6) ...\\textbackslash{}r'\n\\item 'Selecting previously unselected package libgsl23:amd64.\\textbackslash{}r'\n\\item 'Preparing to unpack .../libgsl23\\_2.4+dfsg-6\\_amd64.deb ...\\textbackslash{}r'\n\\item 'Unpacking libgsl23:amd64 (2.4+dfsg-6) ...\\textbackslash{}r'\n\\item 'Selecting previously unselected package libgsl-dev.\\textbackslash{}r'\n\\item 'Preparing to unpack .../libgsl-dev\\_2.4+dfsg-6\\_amd64.deb ...\\textbackslash{}r'\n\\item 'Unpacking libgsl-dev (2.4+dfsg-6) ...\\textbackslash{}r'\n\\item 'Setting up libgslcblas0:amd64 (2.4+dfsg-6) ...\\textbackslash{}r'\n\\item 'Setting up libgsl23:amd64 (2.4+dfsg-6) ...\\textbackslash{}r'\n\\item 'Setting up libgsl-dev (2.4+dfsg-6) ...\\textbackslash{}r'\n\\item 'Processing triggers for man-db (2.8.3-2ubuntu0.1) ...\\textbackslash{}r'\n\\item 'Processing triggers for libc-bin (2.27-3ubuntu1.3) ...\\textbackslash{}r'\n\\item '/sbin/ldconfig.real: /usr/local/lib/python3.7/dist-packages/ideep4py/lib/libmkldnn.so.0 is not a symbolic link\\textbackslash{}r'\n\\item '\\textbackslash{}r'\n\\end{enumerate*}\n",
            "text/plain": [
              " [1] \"Reading package lists...\"                                                                                                                                                                                                                                                                                                                                                                                                                                                                                                                                                                                                                                      \n",
              " [2] \"Building dependency tree...\"                                                                                                                                                                                                                                                                                                                                                                                                                                                                                                                                                                                                                                   \n",
              " [3] \"Reading state information...\"                                                                                                                                                                                                                                                                                                                                                                                                                                                                                                                                                                                                                                  \n",
              " [4] \"The following additional packages will be installed:\"                                                                                                                                                                                                                                                                                                                                                                                                                                                                                                                                                                                                          \n",
              " [5] \"  libgsl23 libgslcblas0\"                                                                                                                                                                                                                                                                                                                                                                                                                                                                                                                                                                                                                                       \n",
              " [6] \"Suggested packages:\"                                                                                                                                                                                                                                                                                                                                                                                                                                                                                                                                                                                                                                           \n",
              " [7] \"  gsl-ref-psdoc | gsl-doc-pdf | gsl-doc-info | gsl-ref-html\"                                                                                                                                                                                                                                                                                                                                                                                                                                                                                                                                                                                                   \n",
              " [8] \"The following NEW packages will be installed:\"                                                                                                                                                                                                                                                                                                                                                                                                                                                                                                                                                                                                                 \n",
              " [9] \"  libgsl-dev libgsl23 libgslcblas0\"                                                                                                                                                                                                                                                                                                                                                                                                                                                                                                                                                                                                                            \n",
              "[10] \"0 upgraded, 3 newly installed, 0 to remove and 39 not upgraded.\"                                                                                                                                                                                                                                                                                                                                                                                                                                                                                                                                                                                               \n",
              "[11] \"Need to get 1,926 kB of archives.\"                                                                                                                                                                                                                                                                                                                                                                                                                                                                                                                                                                                                                             \n",
              "[12] \"After this operation, 9,474 kB of additional disk space will be used.\"                                                                                                                                                                                                                                                                                                                                                                                                                                                                                                                                                                                         \n",
              "[13] \"Get:1 http://archive.ubuntu.com/ubuntu bionic/universe amd64 libgslcblas0 amd64 2.4+dfsg-6 [79.7 kB]\"                                                                                                                                                                                                                                                                                                                                                                                                                                                                                                                                                          \n",
              "[14] \"Get:2 http://archive.ubuntu.com/ubuntu bionic/universe amd64 libgsl23 amd64 2.4+dfsg-6 [823 kB]\"                                                                                                                                                                                                                                                                                                                                                                                                                                                                                                                                                               \n",
              "[15] \"Get:3 http://archive.ubuntu.com/ubuntu bionic/universe amd64 libgsl-dev amd64 2.4+dfsg-6 [1,023 kB]\"                                                                                                                                                                                                                                                                                                                                                                                                                                                                                                                                                           \n",
              "[16] \"Fetched 1,926 kB in 1s (2,388 kB/s)\"                                                                                                                                                                                                                                                                                                                                                                                                                                                                                                                                                                                                                           \n",
              "[17] \"Selecting previously unselected package libgslcblas0:amd64.\\r\"                                                                                                                                                                                                                                                                                                                                                                                                                                                                                                                                                                                                 \n",
              "[18] \"(Reading database ... \\r(Reading database ... 5%\\r(Reading database ... 10%\\r(Reading database ... 15%\\r(Reading database ... 20%\\r(Reading database ... 25%\\r(Reading database ... 30%\\r(Reading database ... 35%\\r(Reading database ... 40%\\r(Reading database ... 45%\\r(Reading database ... 50%\\r(Reading database ... 55%\\r(Reading database ... 60%\\r(Reading database ... 65%\\r(Reading database ... 70%\\r(Reading database ... 75%\\r(Reading database ... 80%\\r(Reading database ... 85%\\r(Reading database ... 90%\\r(Reading database ... 95%\\r(Reading database ... 100%\\r(Reading database ... 155455 files and directories currently installed.)\\r\"\n",
              "[19] \"Preparing to unpack .../libgslcblas0_2.4+dfsg-6_amd64.deb ...\\r\"                                                                                                                                                                                                                                                                                                                                                                                                                                                                                                                                                                                               \n",
              "[20] \"Unpacking libgslcblas0:amd64 (2.4+dfsg-6) ...\\r\"                                                                                                                                                                                                                                                                                                                                                                                                                                                                                                                                                                                                               \n",
              "[21] \"Selecting previously unselected package libgsl23:amd64.\\r\"                                                                                                                                                                                                                                                                                                                                                                                                                                                                                                                                                                                                     \n",
              "[22] \"Preparing to unpack .../libgsl23_2.4+dfsg-6_amd64.deb ...\\r\"                                                                                                                                                                                                                                                                                                                                                                                                                                                                                                                                                                                                   \n",
              "[23] \"Unpacking libgsl23:amd64 (2.4+dfsg-6) ...\\r\"                                                                                                                                                                                                                                                                                                                                                                                                                                                                                                                                                                                                                   \n",
              "[24] \"Selecting previously unselected package libgsl-dev.\\r\"                                                                                                                                                                                                                                                                                                                                                                                                                                                                                                                                                                                                         \n",
              "[25] \"Preparing to unpack .../libgsl-dev_2.4+dfsg-6_amd64.deb ...\\r\"                                                                                                                                                                                                                                                                                                                                                                                                                                                                                                                                                                                                 \n",
              "[26] \"Unpacking libgsl-dev (2.4+dfsg-6) ...\\r\"                                                                                                                                                                                                                                                                                                                                                                                                                                                                                                                                                                                                                       \n",
              "[27] \"Setting up libgslcblas0:amd64 (2.4+dfsg-6) ...\\r\"                                                                                                                                                                                                                                                                                                                                                                                                                                                                                                                                                                                                              \n",
              "[28] \"Setting up libgsl23:amd64 (2.4+dfsg-6) ...\\r\"                                                                                                                                                                                                                                                                                                                                                                                                                                                                                                                                                                                                                  \n",
              "[29] \"Setting up libgsl-dev (2.4+dfsg-6) ...\\r\"                                                                                                                                                                                                                                                                                                                                                                                                                                                                                                                                                                                                                      \n",
              "[30] \"Processing triggers for man-db (2.8.3-2ubuntu0.1) ...\\r\"                                                                                                                                                                                                                                                                                                                                                                                                                                                                                                                                                                                                       \n",
              "[31] \"Processing triggers for libc-bin (2.27-3ubuntu1.3) ...\\r\"                                                                                                                                                                                                                                                                                                                                                                                                                                                                                                                                                                                                      \n",
              "[32] \"/sbin/ldconfig.real: /usr/local/lib/python3.7/dist-packages/ideep4py/lib/libmkldnn.so.0 is not a symbolic link\\r\"                                                                                                                                                                                                                                                                                                                                                                                                                                                                                                                                              \n",
              "[33] \"\\r\"                                                                                                                                                                                                                                                                                                                                                                                                                                                                                                                                                                                                                                                            "
            ]
          },
          "metadata": {}
        }
      ]
    },
    {
      "cell_type": "code",
      "metadata": {
        "id": "HgPXAFx1xZHE",
        "colab": {
          "base_uri": "https://localhost:8080/",
          "height": 208
        },
        "outputId": "ca8d2f5b-4ea2-4975-8e98-552989325b2c"
      },
      "source": [
        "system('apt-get install libcairo2-dev', intern = TRUE) # for Cairo package that is required by ComplexHeatmap package"
      ],
      "execution_count": 3,
      "outputs": [
        {
          "output_type": "display_data",
          "data": {
            "text/html": [
              "<style>\n",
              ".list-inline {list-style: none; margin:0; padding: 0}\n",
              ".list-inline>li {display: inline-block}\n",
              ".list-inline>li:not(:last-child)::after {content: \"\\00b7\"; padding: 0 .5ex}\n",
              "</style>\n",
              "<ol class=list-inline><li>'Reading package lists...'</li><li>'Building dependency tree...'</li><li>'Reading state information...'</li><li>'The following additional packages will be installed:'</li><li><span style=white-space:pre-wrap>'  libcairo-script-interpreter2 libpixman-1-dev libxcb-shm0-dev'</span></li><li>'Suggested packages:'</li><li><span style=white-space:pre-wrap>'  libcairo2-doc'</span></li><li>'The following NEW packages will be installed:'</li><li><span style=white-space:pre-wrap>'  libcairo-script-interpreter2 libcairo2-dev libpixman-1-dev libxcb-shm0-dev'</span></li><li>'0 upgraded, 4 newly installed, 0 to remove and 39 not upgraded.'</li><li>'Need to get 930 kB of archives.'</li><li>'After this operation, 3,986 kB of additional disk space will be used.'</li><li>'Get:1 http://archive.ubuntu.com/ubuntu bionic-updates/main amd64 libcairo-script-interpreter2 amd64 1.15.10-2ubuntu0.1 [53.5 kB]'</li><li>'Get:2 http://archive.ubuntu.com/ubuntu bionic/main amd64 libpixman-1-dev amd64 0.34.0-2 [244 kB]'</li><li>'Get:3 http://archive.ubuntu.com/ubuntu bionic-updates/main amd64 libxcb-shm0-dev amd64 1.13-2~ubuntu18.04 [6,684 B]'</li><li>'Get:4 http://archive.ubuntu.com/ubuntu bionic-updates/main amd64 libcairo2-dev amd64 1.15.10-2ubuntu0.1 [626 kB]'</li><li>'Fetched 930 kB in 1s (1,309 kB/s)'</li><li>'Selecting previously unselected package libcairo-script-interpreter2:amd64.\\r'</li><li>'(Reading database ... \\r(Reading database ... 5%\\r(Reading database ... 10%\\r(Reading database ... 15%\\r(Reading database ... 20%\\r(Reading database ... 25%\\r(Reading database ... 30%\\r(Reading database ... 35%\\r(Reading database ... 40%\\r(Reading database ... 45%\\r(Reading database ... 50%\\r(Reading database ... 55%\\r(Reading database ... 60%\\r(Reading database ... 65%\\r(Reading database ... 70%\\r(Reading database ... 75%\\r(Reading database ... 80%\\r(Reading database ... 85%\\r(Reading database ... 90%\\r(Reading database ... 95%\\r(Reading database ... 100%\\r(Reading database ... 155727 files and directories currently installed.)\\r'</li><li>'Preparing to unpack .../libcairo-script-interpreter2_1.15.10-2ubuntu0.1_amd64.deb ...\\r'</li><li>'Unpacking libcairo-script-interpreter2:amd64 (1.15.10-2ubuntu0.1) ...\\r'</li><li>'Selecting previously unselected package libpixman-1-dev:amd64.\\r'</li><li>'Preparing to unpack .../libpixman-1-dev_0.34.0-2_amd64.deb ...\\r'</li><li>'Unpacking libpixman-1-dev:amd64 (0.34.0-2) ...\\r'</li><li>'Selecting previously unselected package libxcb-shm0-dev:amd64.\\r'</li><li>'Preparing to unpack .../libxcb-shm0-dev_1.13-2~ubuntu18.04_amd64.deb ...\\r'</li><li>'Unpacking libxcb-shm0-dev:amd64 (1.13-2~ubuntu18.04) ...\\r'</li><li>'Selecting previously unselected package libcairo2-dev:amd64.\\r'</li><li>'Preparing to unpack .../libcairo2-dev_1.15.10-2ubuntu0.1_amd64.deb ...\\r'</li><li>'Unpacking libcairo2-dev:amd64 (1.15.10-2ubuntu0.1) ...\\r'</li><li>'Setting up libcairo-script-interpreter2:amd64 (1.15.10-2ubuntu0.1) ...\\r'</li><li>'Setting up libxcb-shm0-dev:amd64 (1.13-2~ubuntu18.04) ...\\r'</li><li>'Setting up libpixman-1-dev:amd64 (0.34.0-2) ...\\r'</li><li>'Setting up libcairo2-dev:amd64 (1.15.10-2ubuntu0.1) ...\\r'</li><li>'Processing triggers for libc-bin (2.27-3ubuntu1.3) ...\\r'</li><li>'/sbin/ldconfig.real: /usr/local/lib/python3.7/dist-packages/ideep4py/lib/libmkldnn.so.0 is not a symbolic link\\r'</li><li>'\\r'</li></ol>\n"
            ],
            "text/markdown": "1. 'Reading package lists...'\n2. 'Building dependency tree...'\n3. 'Reading state information...'\n4. 'The following additional packages will be installed:'\n5. <span style=white-space:pre-wrap>'  libcairo-script-interpreter2 libpixman-1-dev libxcb-shm0-dev'</span>\n6. 'Suggested packages:'\n7. <span style=white-space:pre-wrap>'  libcairo2-doc'</span>\n8. 'The following NEW packages will be installed:'\n9. <span style=white-space:pre-wrap>'  libcairo-script-interpreter2 libcairo2-dev libpixman-1-dev libxcb-shm0-dev'</span>\n10. '0 upgraded, 4 newly installed, 0 to remove and 39 not upgraded.'\n11. 'Need to get 930 kB of archives.'\n12. 'After this operation, 3,986 kB of additional disk space will be used.'\n13. 'Get:1 http://archive.ubuntu.com/ubuntu bionic-updates/main amd64 libcairo-script-interpreter2 amd64 1.15.10-2ubuntu0.1 [53.5 kB]'\n14. 'Get:2 http://archive.ubuntu.com/ubuntu bionic/main amd64 libpixman-1-dev amd64 0.34.0-2 [244 kB]'\n15. 'Get:3 http://archive.ubuntu.com/ubuntu bionic-updates/main amd64 libxcb-shm0-dev amd64 1.13-2~ubuntu18.04 [6,684 B]'\n16. 'Get:4 http://archive.ubuntu.com/ubuntu bionic-updates/main amd64 libcairo2-dev amd64 1.15.10-2ubuntu0.1 [626 kB]'\n17. 'Fetched 930 kB in 1s (1,309 kB/s)'\n18. 'Selecting previously unselected package libcairo-script-interpreter2:amd64.\\r'\n19. '(Reading database ... \\r(Reading database ... 5%\\r(Reading database ... 10%\\r(Reading database ... 15%\\r(Reading database ... 20%\\r(Reading database ... 25%\\r(Reading database ... 30%\\r(Reading database ... 35%\\r(Reading database ... 40%\\r(Reading database ... 45%\\r(Reading database ... 50%\\r(Reading database ... 55%\\r(Reading database ... 60%\\r(Reading database ... 65%\\r(Reading database ... 70%\\r(Reading database ... 75%\\r(Reading database ... 80%\\r(Reading database ... 85%\\r(Reading database ... 90%\\r(Reading database ... 95%\\r(Reading database ... 100%\\r(Reading database ... 155727 files and directories currently installed.)\\r'\n20. 'Preparing to unpack .../libcairo-script-interpreter2_1.15.10-2ubuntu0.1_amd64.deb ...\\r'\n21. 'Unpacking libcairo-script-interpreter2:amd64 (1.15.10-2ubuntu0.1) ...\\r'\n22. 'Selecting previously unselected package libpixman-1-dev:amd64.\\r'\n23. 'Preparing to unpack .../libpixman-1-dev_0.34.0-2_amd64.deb ...\\r'\n24. 'Unpacking libpixman-1-dev:amd64 (0.34.0-2) ...\\r'\n25. 'Selecting previously unselected package libxcb-shm0-dev:amd64.\\r'\n26. 'Preparing to unpack .../libxcb-shm0-dev_1.13-2~ubuntu18.04_amd64.deb ...\\r'\n27. 'Unpacking libxcb-shm0-dev:amd64 (1.13-2~ubuntu18.04) ...\\r'\n28. 'Selecting previously unselected package libcairo2-dev:amd64.\\r'\n29. 'Preparing to unpack .../libcairo2-dev_1.15.10-2ubuntu0.1_amd64.deb ...\\r'\n30. 'Unpacking libcairo2-dev:amd64 (1.15.10-2ubuntu0.1) ...\\r'\n31. 'Setting up libcairo-script-interpreter2:amd64 (1.15.10-2ubuntu0.1) ...\\r'\n32. 'Setting up libxcb-shm0-dev:amd64 (1.13-2~ubuntu18.04) ...\\r'\n33. 'Setting up libpixman-1-dev:amd64 (0.34.0-2) ...\\r'\n34. 'Setting up libcairo2-dev:amd64 (1.15.10-2ubuntu0.1) ...\\r'\n35. 'Processing triggers for libc-bin (2.27-3ubuntu1.3) ...\\r'\n36. '/sbin/ldconfig.real: /usr/local/lib/python3.7/dist-packages/ideep4py/lib/libmkldnn.so.0 is not a symbolic link\\r'\n37. '\\r'\n\n\n",
            "text/latex": "\\begin{enumerate*}\n\\item 'Reading package lists...'\n\\item 'Building dependency tree...'\n\\item 'Reading state information...'\n\\item 'The following additional packages will be installed:'\n\\item '  libcairo-script-interpreter2 libpixman-1-dev libxcb-shm0-dev'\n\\item 'Suggested packages:'\n\\item '  libcairo2-doc'\n\\item 'The following NEW packages will be installed:'\n\\item '  libcairo-script-interpreter2 libcairo2-dev libpixman-1-dev libxcb-shm0-dev'\n\\item '0 upgraded, 4 newly installed, 0 to remove and 39 not upgraded.'\n\\item 'Need to get 930 kB of archives.'\n\\item 'After this operation, 3,986 kB of additional disk space will be used.'\n\\item 'Get:1 http://archive.ubuntu.com/ubuntu bionic-updates/main amd64 libcairo-script-interpreter2 amd64 1.15.10-2ubuntu0.1 {[}53.5 kB{]}'\n\\item 'Get:2 http://archive.ubuntu.com/ubuntu bionic/main amd64 libpixman-1-dev amd64 0.34.0-2 {[}244 kB{]}'\n\\item 'Get:3 http://archive.ubuntu.com/ubuntu bionic-updates/main amd64 libxcb-shm0-dev amd64 1.13-2\\textasciitilde{}ubuntu18.04 {[}6,684 B{]}'\n\\item 'Get:4 http://archive.ubuntu.com/ubuntu bionic-updates/main amd64 libcairo2-dev amd64 1.15.10-2ubuntu0.1 {[}626 kB{]}'\n\\item 'Fetched 930 kB in 1s (1,309 kB/s)'\n\\item 'Selecting previously unselected package libcairo-script-interpreter2:amd64.\\textbackslash{}r'\n\\item '(Reading database ... \\textbackslash{}r(Reading database ... 5\\%\\textbackslash{}r(Reading database ... 10\\%\\textbackslash{}r(Reading database ... 15\\%\\textbackslash{}r(Reading database ... 20\\%\\textbackslash{}r(Reading database ... 25\\%\\textbackslash{}r(Reading database ... 30\\%\\textbackslash{}r(Reading database ... 35\\%\\textbackslash{}r(Reading database ... 40\\%\\textbackslash{}r(Reading database ... 45\\%\\textbackslash{}r(Reading database ... 50\\%\\textbackslash{}r(Reading database ... 55\\%\\textbackslash{}r(Reading database ... 60\\%\\textbackslash{}r(Reading database ... 65\\%\\textbackslash{}r(Reading database ... 70\\%\\textbackslash{}r(Reading database ... 75\\%\\textbackslash{}r(Reading database ... 80\\%\\textbackslash{}r(Reading database ... 85\\%\\textbackslash{}r(Reading database ... 90\\%\\textbackslash{}r(Reading database ... 95\\%\\textbackslash{}r(Reading database ... 100\\%\\textbackslash{}r(Reading database ... 155727 files and directories currently installed.)\\textbackslash{}r'\n\\item 'Preparing to unpack .../libcairo-script-interpreter2\\_1.15.10-2ubuntu0.1\\_amd64.deb ...\\textbackslash{}r'\n\\item 'Unpacking libcairo-script-interpreter2:amd64 (1.15.10-2ubuntu0.1) ...\\textbackslash{}r'\n\\item 'Selecting previously unselected package libpixman-1-dev:amd64.\\textbackslash{}r'\n\\item 'Preparing to unpack .../libpixman-1-dev\\_0.34.0-2\\_amd64.deb ...\\textbackslash{}r'\n\\item 'Unpacking libpixman-1-dev:amd64 (0.34.0-2) ...\\textbackslash{}r'\n\\item 'Selecting previously unselected package libxcb-shm0-dev:amd64.\\textbackslash{}r'\n\\item 'Preparing to unpack .../libxcb-shm0-dev\\_1.13-2\\textasciitilde{}ubuntu18.04\\_amd64.deb ...\\textbackslash{}r'\n\\item 'Unpacking libxcb-shm0-dev:amd64 (1.13-2\\textasciitilde{}ubuntu18.04) ...\\textbackslash{}r'\n\\item 'Selecting previously unselected package libcairo2-dev:amd64.\\textbackslash{}r'\n\\item 'Preparing to unpack .../libcairo2-dev\\_1.15.10-2ubuntu0.1\\_amd64.deb ...\\textbackslash{}r'\n\\item 'Unpacking libcairo2-dev:amd64 (1.15.10-2ubuntu0.1) ...\\textbackslash{}r'\n\\item 'Setting up libcairo-script-interpreter2:amd64 (1.15.10-2ubuntu0.1) ...\\textbackslash{}r'\n\\item 'Setting up libxcb-shm0-dev:amd64 (1.13-2\\textasciitilde{}ubuntu18.04) ...\\textbackslash{}r'\n\\item 'Setting up libpixman-1-dev:amd64 (0.34.0-2) ...\\textbackslash{}r'\n\\item 'Setting up libcairo2-dev:amd64 (1.15.10-2ubuntu0.1) ...\\textbackslash{}r'\n\\item 'Processing triggers for libc-bin (2.27-3ubuntu1.3) ...\\textbackslash{}r'\n\\item '/sbin/ldconfig.real: /usr/local/lib/python3.7/dist-packages/ideep4py/lib/libmkldnn.so.0 is not a symbolic link\\textbackslash{}r'\n\\item '\\textbackslash{}r'\n\\end{enumerate*}\n",
            "text/plain": [
              " [1] \"Reading package lists...\"                                                                                                                                                                                                                                                                                                                                                                                                                                                                                                                                                                                                                                      \n",
              " [2] \"Building dependency tree...\"                                                                                                                                                                                                                                                                                                                                                                                                                                                                                                                                                                                                                                   \n",
              " [3] \"Reading state information...\"                                                                                                                                                                                                                                                                                                                                                                                                                                                                                                                                                                                                                                  \n",
              " [4] \"The following additional packages will be installed:\"                                                                                                                                                                                                                                                                                                                                                                                                                                                                                                                                                                                                          \n",
              " [5] \"  libcairo-script-interpreter2 libpixman-1-dev libxcb-shm0-dev\"                                                                                                                                                                                                                                                                                                                                                                                                                                                                                                                                                                                                \n",
              " [6] \"Suggested packages:\"                                                                                                                                                                                                                                                                                                                                                                                                                                                                                                                                                                                                                                           \n",
              " [7] \"  libcairo2-doc\"                                                                                                                                                                                                                                                                                                                                                                                                                                                                                                                                                                                                                                               \n",
              " [8] \"The following NEW packages will be installed:\"                                                                                                                                                                                                                                                                                                                                                                                                                                                                                                                                                                                                                 \n",
              " [9] \"  libcairo-script-interpreter2 libcairo2-dev libpixman-1-dev libxcb-shm0-dev\"                                                                                                                                                                                                                                                                                                                                                                                                                                                                                                                                                                                  \n",
              "[10] \"0 upgraded, 4 newly installed, 0 to remove and 39 not upgraded.\"                                                                                                                                                                                                                                                                                                                                                                                                                                                                                                                                                                                               \n",
              "[11] \"Need to get 930 kB of archives.\"                                                                                                                                                                                                                                                                                                                                                                                                                                                                                                                                                                                                                               \n",
              "[12] \"After this operation, 3,986 kB of additional disk space will be used.\"                                                                                                                                                                                                                                                                                                                                                                                                                                                                                                                                                                                         \n",
              "[13] \"Get:1 http://archive.ubuntu.com/ubuntu bionic-updates/main amd64 libcairo-script-interpreter2 amd64 1.15.10-2ubuntu0.1 [53.5 kB]\"                                                                                                                                                                                                                                                                                                                                                                                                                                                                                                                              \n",
              "[14] \"Get:2 http://archive.ubuntu.com/ubuntu bionic/main amd64 libpixman-1-dev amd64 0.34.0-2 [244 kB]\"                                                                                                                                                                                                                                                                                                                                                                                                                                                                                                                                                              \n",
              "[15] \"Get:3 http://archive.ubuntu.com/ubuntu bionic-updates/main amd64 libxcb-shm0-dev amd64 1.13-2~ubuntu18.04 [6,684 B]\"                                                                                                                                                                                                                                                                                                                                                                                                                                                                                                                                           \n",
              "[16] \"Get:4 http://archive.ubuntu.com/ubuntu bionic-updates/main amd64 libcairo2-dev amd64 1.15.10-2ubuntu0.1 [626 kB]\"                                                                                                                                                                                                                                                                                                                                                                                                                                                                                                                                              \n",
              "[17] \"Fetched 930 kB in 1s (1,309 kB/s)\"                                                                                                                                                                                                                                                                                                                                                                                                                                                                                                                                                                                                                             \n",
              "[18] \"Selecting previously unselected package libcairo-script-interpreter2:amd64.\\r\"                                                                                                                                                                                                                                                                                                                                                                                                                                                                                                                                                                                 \n",
              "[19] \"(Reading database ... \\r(Reading database ... 5%\\r(Reading database ... 10%\\r(Reading database ... 15%\\r(Reading database ... 20%\\r(Reading database ... 25%\\r(Reading database ... 30%\\r(Reading database ... 35%\\r(Reading database ... 40%\\r(Reading database ... 45%\\r(Reading database ... 50%\\r(Reading database ... 55%\\r(Reading database ... 60%\\r(Reading database ... 65%\\r(Reading database ... 70%\\r(Reading database ... 75%\\r(Reading database ... 80%\\r(Reading database ... 85%\\r(Reading database ... 90%\\r(Reading database ... 95%\\r(Reading database ... 100%\\r(Reading database ... 155727 files and directories currently installed.)\\r\"\n",
              "[20] \"Preparing to unpack .../libcairo-script-interpreter2_1.15.10-2ubuntu0.1_amd64.deb ...\\r\"                                                                                                                                                                                                                                                                                                                                                                                                                                                                                                                                                                       \n",
              "[21] \"Unpacking libcairo-script-interpreter2:amd64 (1.15.10-2ubuntu0.1) ...\\r\"                                                                                                                                                                                                                                                                                                                                                                                                                                                                                                                                                                                       \n",
              "[22] \"Selecting previously unselected package libpixman-1-dev:amd64.\\r\"                                                                                                                                                                                                                                                                                                                                                                                                                                                                                                                                                                                              \n",
              "[23] \"Preparing to unpack .../libpixman-1-dev_0.34.0-2_amd64.deb ...\\r\"                                                                                                                                                                                                                                                                                                                                                                                                                                                                                                                                                                                              \n",
              "[24] \"Unpacking libpixman-1-dev:amd64 (0.34.0-2) ...\\r\"                                                                                                                                                                                                                                                                                                                                                                                                                                                                                                                                                                                                              \n",
              "[25] \"Selecting previously unselected package libxcb-shm0-dev:amd64.\\r\"                                                                                                                                                                                                                                                                                                                                                                                                                                                                                                                                                                                              \n",
              "[26] \"Preparing to unpack .../libxcb-shm0-dev_1.13-2~ubuntu18.04_amd64.deb ...\\r\"                                                                                                                                                                                                                                                                                                                                                                                                                                                                                                                                                                                    \n",
              "[27] \"Unpacking libxcb-shm0-dev:amd64 (1.13-2~ubuntu18.04) ...\\r\"                                                                                                                                                                                                                                                                                                                                                                                                                                                                                                                                                                                                    \n",
              "[28] \"Selecting previously unselected package libcairo2-dev:amd64.\\r\"                                                                                                                                                                                                                                                                                                                                                                                                                                                                                                                                                                                                \n",
              "[29] \"Preparing to unpack .../libcairo2-dev_1.15.10-2ubuntu0.1_amd64.deb ...\\r\"                                                                                                                                                                                                                                                                                                                                                                                                                                                                                                                                                                                      \n",
              "[30] \"Unpacking libcairo2-dev:amd64 (1.15.10-2ubuntu0.1) ...\\r\"                                                                                                                                                                                                                                                                                                                                                                                                                                                                                                                                                                                                      \n",
              "[31] \"Setting up libcairo-script-interpreter2:amd64 (1.15.10-2ubuntu0.1) ...\\r\"                                                                                                                                                                                                                                                                                                                                                                                                                                                                                                                                                                                      \n",
              "[32] \"Setting up libxcb-shm0-dev:amd64 (1.13-2~ubuntu18.04) ...\\r\"                                                                                                                                                                                                                                                                                                                                                                                                                                                                                                                                                                                                   \n",
              "[33] \"Setting up libpixman-1-dev:amd64 (0.34.0-2) ...\\r\"                                                                                                                                                                                                                                                                                                                                                                                                                                                                                                                                                                                                             \n",
              "[34] \"Setting up libcairo2-dev:amd64 (1.15.10-2ubuntu0.1) ...\\r\"                                                                                                                                                                                                                                                                                                                                                                                                                                                                                                                                                                                                     \n",
              "[35] \"Processing triggers for libc-bin (2.27-3ubuntu1.3) ...\\r\"                                                                                                                                                                                                                                                                                                                                                                                                                                                                                                                                                                                                      \n",
              "[36] \"/sbin/ldconfig.real: /usr/local/lib/python3.7/dist-packages/ideep4py/lib/libmkldnn.so.0 is not a symbolic link\\r\"                                                                                                                                                                                                                                                                                                                                                                                                                                                                                                                                              \n",
              "[37] \"\\r\"                                                                                                                                                                                                                                                                                                                                                                                                                                                                                                                                                                                                                                                            "
            ]
          },
          "metadata": {}
        }
      ]
    },
    {
      "cell_type": "markdown",
      "metadata": {
        "id": "wFuTF2MUEiAk"
      },
      "source": [
        "## Install R packages"
      ]
    },
    {
      "cell_type": "code",
      "metadata": {
        "colab": {
          "base_uri": "https://localhost:8080/"
        },
        "id": "0c02HPWEh2nU",
        "outputId": "f6667eca-33ea-41b4-d090-b07c46d2d89d"
      },
      "source": [
        "install.packages('BiocManager')"
      ],
      "execution_count": 4,
      "outputs": [
        {
          "output_type": "stream",
          "name": "stderr",
          "text": [
            "Installing package into ‘/usr/local/lib/R/site-library’\n",
            "(as ‘lib’ is unspecified)\n",
            "\n"
          ]
        }
      ]
    },
    {
      "cell_type": "code",
      "metadata": {
        "id": "8EZ8Zm7zagc0"
      },
      "source": [
        "required_packages <- c(\n",
        "  'devtools',\n",
        "  'DESeq2',\n",
        "  'org.Mm.eg.db',\n",
        "  'clusterProfiler',\n",
        "  'TxDb.Mmusculus.UCSC.mm10.knownGene',\n",
        "  'motifmatchr',\n",
        "  'BSgenome.Mmusculus.UCSC.mm10'\n",
        ")"
      ],
      "execution_count": 5,
      "outputs": []
    },
    {
      "cell_type": "code",
      "metadata": {
        "id": "icve41ciuJim",
        "colab": {
          "base_uri": "https://localhost:8080/"
        },
        "outputId": "cbc39ab8-0b4a-47e3-fbb0-46e8974a0abd"
      },
      "source": [
        "missing_packages <- required_packages[!required_packages %in% rownames(installed.packages())]\n",
        "if (length(missing_packages) > 0){\n",
        "    BiocManager::install(missing_packages)\n",
        "}"
      ],
      "execution_count": 6,
      "outputs": [
        {
          "output_type": "stream",
          "name": "stderr",
          "text": [
            "'getOption(\"repos\")' replaces Bioconductor standard repositories, see\n",
            "'?repositories' for details\n",
            "\n",
            "replacement repositories:\n",
            "    CRAN: https://cran.rstudio.com\n",
            "\n",
            "\n",
            "Bioconductor version 3.14 (BiocManager 1.30.16), R 4.1.3 (2022-03-10)\n",
            "\n",
            "Installing package(s) 'BiocVersion', 'DESeq2', 'org.Mm.eg.db',\n",
            "  'clusterProfiler', 'TxDb.Mmusculus.UCSC.mm10.knownGene', 'motifmatchr',\n",
            "  'BSgenome.Mmusculus.UCSC.mm10'\n",
            "\n",
            "also installing the dependencies ‘formatR’, ‘gridGraphics’, ‘tweenr’, ‘polyclip’, ‘RcppEigen’, ‘lazyeval’, ‘rjson’, ‘filelock’, ‘pracma’, ‘R.oo’, ‘R.methodsS3’, ‘lambda.r’, ‘futile.options’, ‘xtable’, ‘plogr’, ‘png’, ‘gridExtra’, ‘fastmatch’, ‘ggfun’, ‘ggplotify’, ‘patchwork’, ‘ggforce’, ‘ggrepel’, ‘viridis’, ‘tidygraph’, ‘graphlayouts’, ‘ape’, ‘tidytree’, ‘treeio’, ‘GenomicAlignments’, ‘restfulr’, ‘BiocFileCache’, ‘poweRlaw’, ‘R.utils’, ‘XVector’, ‘MatrixGenerics’, ‘DelayedArray’, ‘futile.logger’, ‘snow’, ‘BH’, ‘annotate’, ‘RSQLite’, ‘KEGGREST’, ‘DO.db’, ‘fgsea’, ‘reshape2’, ‘aplot’, ‘ggraph’, ‘igraph’, ‘scatterpie’, ‘shadowtext’, ‘ggtree’, ‘RCurl’, ‘BiocIO’, ‘rtracklayer’, ‘biomaRt’, ‘caTools’, ‘CNEr’, ‘DirichletMultinomial’, ‘gtools’, ‘seqLogo’, ‘TFMPvalue’, ‘XML’, ‘matrixStats’, ‘zlibbioc’, ‘bitops’, ‘Rhtslib’, ‘GenomeInfoDbData’, ‘S4Vectors’, ‘IRanges’, ‘GenomicRanges’, ‘SummarizedExperiment’, ‘BiocGenerics’, ‘Biobase’, ‘BiocParallel’, ‘genefilter’, ‘locfit’, ‘geneplotter’, ‘Rcpp’, ‘RcppArmadillo’, ‘AnnotationDbi’, ‘downloader’, ‘DOSE’, ‘enrichplot’, ‘GO.db’, ‘GOSemSim’, ‘plyr’, ‘qvalue’, ‘yulab.utils’, ‘GenomicFeatures’, ‘TFBSTools’, ‘Biostrings’, ‘BSgenome’, ‘Rsamtools’, ‘GenomeInfoDb’\n",
            "\n",
            "\n",
            "Old packages: 'blob', 'broom', 'haven', 'RColorBrewer', 'scales', 'vctrs'\n",
            "\n"
          ]
        }
      ]
    },
    {
      "cell_type": "markdown",
      "source": [
        "# Download packages from Github"
      ],
      "metadata": {
        "id": "0LXZzGqK7_mK"
      }
    },
    {
      "cell_type": "code",
      "source": [
        "devtools::install_github(\"GreenleafLab/chromVARmotifs\")"
      ],
      "metadata": {
        "colab": {
          "base_uri": "https://localhost:8080/"
        },
        "id": "6k1WsNXQVM-L",
        "outputId": "3aeb66e0-e816-4483-834b-de55e088edff"
      },
      "execution_count": 7,
      "outputs": [
        {
          "output_type": "stream",
          "name": "stderr",
          "text": [
            "Downloading GitHub repo GreenleafLab/chromVARmotifs@HEAD\n",
            "\n"
          ]
        },
        {
          "output_type": "stream",
          "name": "stdout",
          "text": [
            "vctrs        (0.4.0 -> 0.4.1) [CRAN]\n",
            "blob         (1.2.2 -> 1.2.3) [CRAN]\n",
            "RColorBrewer (1.1-2 -> 1.1-3) [CRAN]\n",
            "scales       (1.1.1 -> 1.2.0) [CRAN]\n"
          ]
        },
        {
          "output_type": "stream",
          "name": "stderr",
          "text": [
            "Installing 4 packages: vctrs, blob, RColorBrewer, scales\n",
            "\n",
            "Installing packages into ‘/usr/local/lib/R/site-library’\n",
            "(as ‘lib’ is unspecified)\n",
            "\n"
          ]
        },
        {
          "output_type": "stream",
          "name": "stdout",
          "text": [
            "* checking for file ‘/tmp/RtmpB0zzEJ/remotes565176349d/GreenleafLab-chromVARmotifs-38bed55/DESCRIPTION’ ... OK\n",
            "* preparing ‘chromVARmotifs’:\n",
            "* checking DESCRIPTION meta-information ... OK\n",
            "* checking for LF line-endings in source and make files and shell scripts\n",
            "* checking for empty or unneeded directories\n",
            "* building ‘chromVARmotifs_0.2.0.tar.gz’\n",
            "\n"
          ]
        },
        {
          "output_type": "stream",
          "name": "stderr",
          "text": [
            "Installing package into ‘/usr/local/lib/R/site-library’\n",
            "(as ‘lib’ is unspecified)\n",
            "\n"
          ]
        }
      ]
    },
    {
      "cell_type": "code",
      "source": [
        "devtools::install_github(\"GuangchuangYu/ChIPseeker\")"
      ],
      "metadata": {
        "colab": {
          "base_uri": "https://localhost:8080/"
        },
        "id": "Tal1Qux-ZqHI",
        "outputId": "ec5a3810-d9e8-4bc4-e5d5-eecc140b85b1"
      },
      "execution_count": 8,
      "outputs": [
        {
          "output_type": "stream",
          "name": "stderr",
          "text": [
            "Downloading GitHub repo GuangchuangYu/ChIPseeker@HEAD\n",
            "\n"
          ]
        },
        {
          "output_type": "stream",
          "name": "stdout",
          "text": [
            "enrichplot   (1.14.2 -> d11b60bb6...) [GitHub]\n",
            "TxDb.Hsap... (NA     -> 3.2.2       ) [CRAN]\n",
            "plotrix      (NA     -> 3.8-2       ) [CRAN]\n",
            "gplots       (NA     -> 3.1.1       ) [CRAN]\n"
          ]
        },
        {
          "output_type": "stream",
          "name": "stderr",
          "text": [
            "Installing 3 packages: TxDb.Hsapiens.UCSC.hg19.knownGene, plotrix, gplots\n",
            "\n",
            "Installing packages into ‘/usr/local/lib/R/site-library’\n",
            "(as ‘lib’ is unspecified)\n",
            "\n",
            "Downloading GitHub repo GuangchuangYu/enrichplot@HEAD\n",
            "\n"
          ]
        },
        {
          "output_type": "stream",
          "name": "stdout",
          "text": [
            "\n",
            "* checking for file ‘/tmp/RtmpB0zzEJ/remotes563a87cf36/GuangchuangYu-enrichplot-d11b60b/DESCRIPTION’ ... OK\n",
            "* preparing ‘enrichplot’:\n",
            "* checking DESCRIPTION meta-information ... OK\n",
            "* checking for LF line-endings in source and make files and shell scripts\n",
            "* checking for empty or unneeded directories\n",
            "* building ‘enrichplot_1.13.1.992.tar.gz’\n",
            "\n"
          ]
        },
        {
          "output_type": "stream",
          "name": "stderr",
          "text": [
            "Installing package into ‘/usr/local/lib/R/site-library’\n",
            "(as ‘lib’ is unspecified)\n",
            "\n"
          ]
        },
        {
          "output_type": "stream",
          "name": "stdout",
          "text": [
            "* checking for file ‘/tmp/RtmpB0zzEJ/remotes5610c4fa2f/YuLab-SMU-ChIPseeker-5945269/DESCRIPTION’ ... OK\n",
            "* preparing ‘ChIPseeker’:\n",
            "* checking DESCRIPTION meta-information ... OK\n",
            "* checking for LF line-endings in source and make files and shell scripts\n",
            "* checking for empty or unneeded directories\n",
            "* looking to see if a ‘data/datalist’ file should be added\n",
            "* building ‘ChIPseeker_1.31.4.tar.gz’\n",
            "\n"
          ]
        },
        {
          "output_type": "stream",
          "name": "stderr",
          "text": [
            "Installing package into ‘/usr/local/lib/R/site-library’\n",
            "(as ‘lib’ is unspecified)\n",
            "\n"
          ]
        }
      ]
    },
    {
      "cell_type": "markdown",
      "metadata": {
        "id": "-r47NH7jiD99"
      },
      "source": [
        "## Load R packages"
      ]
    },
    {
      "cell_type": "code",
      "metadata": {
        "id": "nQFQk04TzjFj",
        "colab": {
          "base_uri": "https://localhost:8080/"
        },
        "outputId": "589d4412-54d6-4e8e-9a9e-cc7ca876ca9a"
      },
      "source": [
        "library(tidyr)\n",
        "library(dplyr)\n",
        "library(ggplot2) # colorRamp2\n",
        "library(parallel)\n",
        "library(DESeq2)\n",
        "library(ChIPseeker)\n",
        "library(clusterProfiler)\n",
        "library(TxDb.Mmusculus.UCSC.mm10.knownGene)\n",
        "library(org.Mm.eg.db)\n",
        "library(motifmatchr)\n",
        "library(chromVARmotifs)\n",
        "library(BSgenome.Mmusculus.UCSC.mm10)\n",
        "library(data.table)"
      ],
      "execution_count": 9,
      "outputs": [
        {
          "output_type": "stream",
          "name": "stderr",
          "text": [
            "\n",
            "Attaching package: ‘dplyr’\n",
            "\n",
            "\n",
            "The following objects are masked from ‘package:stats’:\n",
            "\n",
            "    filter, lag\n",
            "\n",
            "\n",
            "The following objects are masked from ‘package:base’:\n",
            "\n",
            "    intersect, setdiff, setequal, union\n",
            "\n",
            "\n",
            "Loading required package: S4Vectors\n",
            "\n",
            "Loading required package: stats4\n",
            "\n",
            "Loading required package: BiocGenerics\n",
            "\n",
            "\n",
            "Attaching package: ‘BiocGenerics’\n",
            "\n",
            "\n",
            "The following objects are masked from ‘package:dplyr’:\n",
            "\n",
            "    combine, intersect, setdiff, union\n",
            "\n",
            "\n",
            "The following objects are masked from ‘package:stats’:\n",
            "\n",
            "    IQR, mad, sd, var, xtabs\n",
            "\n",
            "\n",
            "The following objects are masked from ‘package:base’:\n",
            "\n",
            "    anyDuplicated, append, as.data.frame, basename, cbind, colnames,\n",
            "    dirname, do.call, duplicated, eval, evalq, Filter, Find, get, grep,\n",
            "    grepl, intersect, is.unsorted, lapply, Map, mapply, match, mget,\n",
            "    order, paste, pmax, pmax.int, pmin, pmin.int, Position, rank,\n",
            "    rbind, Reduce, rownames, sapply, setdiff, sort, table, tapply,\n",
            "    union, unique, unsplit, which.max, which.min\n",
            "\n",
            "\n",
            "\n",
            "Attaching package: ‘S4Vectors’\n",
            "\n",
            "\n",
            "The following objects are masked from ‘package:dplyr’:\n",
            "\n",
            "    first, rename\n",
            "\n",
            "\n",
            "The following object is masked from ‘package:tidyr’:\n",
            "\n",
            "    expand\n",
            "\n",
            "\n",
            "The following objects are masked from ‘package:base’:\n",
            "\n",
            "    expand.grid, I, unname\n",
            "\n",
            "\n",
            "Loading required package: IRanges\n",
            "\n",
            "\n",
            "Attaching package: ‘IRanges’\n",
            "\n",
            "\n",
            "The following objects are masked from ‘package:dplyr’:\n",
            "\n",
            "    collapse, desc, slice\n",
            "\n",
            "\n",
            "Loading required package: GenomicRanges\n",
            "\n",
            "Loading required package: GenomeInfoDb\n",
            "\n",
            "Loading required package: SummarizedExperiment\n",
            "\n",
            "Loading required package: MatrixGenerics\n",
            "\n",
            "Loading required package: matrixStats\n",
            "\n",
            "\n",
            "Attaching package: ‘matrixStats’\n",
            "\n",
            "\n",
            "The following object is masked from ‘package:dplyr’:\n",
            "\n",
            "    count\n",
            "\n",
            "\n",
            "\n",
            "Attaching package: ‘MatrixGenerics’\n",
            "\n",
            "\n",
            "The following objects are masked from ‘package:matrixStats’:\n",
            "\n",
            "    colAlls, colAnyNAs, colAnys, colAvgsPerRowSet, colCollapse,\n",
            "    colCounts, colCummaxs, colCummins, colCumprods, colCumsums,\n",
            "    colDiffs, colIQRDiffs, colIQRs, colLogSumExps, colMadDiffs,\n",
            "    colMads, colMaxs, colMeans2, colMedians, colMins, colOrderStats,\n",
            "    colProds, colQuantiles, colRanges, colRanks, colSdDiffs, colSds,\n",
            "    colSums2, colTabulates, colVarDiffs, colVars, colWeightedMads,\n",
            "    colWeightedMeans, colWeightedMedians, colWeightedSds,\n",
            "    colWeightedVars, rowAlls, rowAnyNAs, rowAnys, rowAvgsPerColSet,\n",
            "    rowCollapse, rowCounts, rowCummaxs, rowCummins, rowCumprods,\n",
            "    rowCumsums, rowDiffs, rowIQRDiffs, rowIQRs, rowLogSumExps,\n",
            "    rowMadDiffs, rowMads, rowMaxs, rowMeans2, rowMedians, rowMins,\n",
            "    rowOrderStats, rowProds, rowQuantiles, rowRanges, rowRanks,\n",
            "    rowSdDiffs, rowSds, rowSums2, rowTabulates, rowVarDiffs, rowVars,\n",
            "    rowWeightedMads, rowWeightedMeans, rowWeightedMedians,\n",
            "    rowWeightedSds, rowWeightedVars\n",
            "\n",
            "\n",
            "Loading required package: Biobase\n",
            "\n",
            "Welcome to Bioconductor\n",
            "\n",
            "    Vignettes contain introductory material; view with\n",
            "    'browseVignettes()'. To cite Bioconductor, see\n",
            "    'citation(\"Biobase\")', and for packages 'citation(\"pkgname\")'.\n",
            "\n",
            "\n",
            "\n",
            "Attaching package: ‘Biobase’\n",
            "\n",
            "\n",
            "The following object is masked from ‘package:MatrixGenerics’:\n",
            "\n",
            "    rowMedians\n",
            "\n",
            "\n",
            "The following objects are masked from ‘package:matrixStats’:\n",
            "\n",
            "    anyMissing, rowMedians\n",
            "\n",
            "\n",
            "\n",
            "\n",
            "Registered S3 method overwritten by 'ggtree':\n",
            "  method      from \n",
            "  identify.gg ggfun\n",
            "\n",
            "ChIPseeker v1.31.4  For help: https://guangchuangyu.github.io/software/ChIPseeker\n",
            "\n",
            "If you use ChIPseeker in published research, please cite:\n",
            "Guangchuang Yu, Li-Gen Wang, Qing-Yu He. ChIPseeker: an R/Bioconductor package for ChIP peak annotation, comparison and visualization. Bioinformatics 2015, 31(14):2382-2383\n",
            "\n",
            "clusterProfiler v4.2.2  For help: https://yulab-smu.top/biomedical-knowledge-mining-book/\n",
            "\n",
            "If you use clusterProfiler in published research, please cite:\n",
            "T Wu, E Hu, S Xu, M Chen, P Guo, Z Dai, T Feng, L Zhou, W Tang, L Zhan, X Fu, S Liu, X Bo, and G Yu. clusterProfiler 4.0: A universal enrichment tool for interpreting omics data. The Innovation. 2021, 2(3):100141\n",
            "\n",
            "\n",
            "Attaching package: ‘clusterProfiler’\n",
            "\n",
            "\n",
            "The following object is masked from ‘package:IRanges’:\n",
            "\n",
            "    slice\n",
            "\n",
            "\n",
            "The following object is masked from ‘package:S4Vectors’:\n",
            "\n",
            "    rename\n",
            "\n",
            "\n",
            "The following object is masked from ‘package:stats’:\n",
            "\n",
            "    filter\n",
            "\n",
            "\n",
            "Loading required package: GenomicFeatures\n",
            "\n",
            "Loading required package: AnnotationDbi\n",
            "\n",
            "\n",
            "Attaching package: ‘AnnotationDbi’\n",
            "\n",
            "\n",
            "The following object is masked from ‘package:clusterProfiler’:\n",
            "\n",
            "    select\n",
            "\n",
            "\n",
            "The following object is masked from ‘package:dplyr’:\n",
            "\n",
            "    select\n",
            "\n",
            "\n",
            "\n",
            "\n",
            "Loading required package: BSgenome\n",
            "\n",
            "Loading required package: Biostrings\n",
            "\n",
            "Loading required package: XVector\n",
            "\n",
            "\n",
            "Attaching package: ‘Biostrings’\n",
            "\n",
            "\n",
            "The following object is masked from ‘package:base’:\n",
            "\n",
            "    strsplit\n",
            "\n",
            "\n",
            "Loading required package: rtracklayer\n",
            "\n",
            "\n",
            "Attaching package: ‘data.table’\n",
            "\n",
            "\n",
            "The following object is masked from ‘package:SummarizedExperiment’:\n",
            "\n",
            "    shift\n",
            "\n",
            "\n",
            "The following object is masked from ‘package:GenomicRanges’:\n",
            "\n",
            "    shift\n",
            "\n",
            "\n",
            "The following object is masked from ‘package:IRanges’:\n",
            "\n",
            "    shift\n",
            "\n",
            "\n",
            "The following objects are masked from ‘package:S4Vectors’:\n",
            "\n",
            "    first, second\n",
            "\n",
            "\n",
            "The following objects are masked from ‘package:dplyr’:\n",
            "\n",
            "    between, first, last\n",
            "\n",
            "\n"
          ]
        }
      ]
    },
    {
      "cell_type": "markdown",
      "source": [
        "# Read regions from SeATAC for the putative OSK motifs"
      ],
      "metadata": {
        "id": "zXcfEy-Q7tW0"
      }
    },
    {
      "cell_type": "code",
      "source": [
        "tab <- read.table('https://s3.msi.umn.edu/gongx030/projects/seatac_project/config/seatac_OSKM/results.tsv', sep = '\\t', header = TRUE)"
      ],
      "metadata": {
        "id": "B-CSShxCE-FG"
      },
      "execution_count": 10,
      "outputs": []
    },
    {
      "cell_type": "code",
      "metadata": {
        "id": "GmhFQtDRRXcw"
      },
      "source": [
        "mef <- read.table(tab[tab$vae_latent == 5,]$remote_output_file, header = FALSE, sep = '\\t')"
      ],
      "execution_count": 11,
      "outputs": []
    },
    {
      "cell_type": "code",
      "source": [
        "colnames(mef) <- c('seqnames','start','end','width','strand','pvalue_z','padj','nucleosome_treatment','nucleosome_control','log_ratio')"
      ],
      "metadata": {
        "id": "idD6YFdQpqvt"
      },
      "execution_count": 12,
      "outputs": []
    },
    {
      "cell_type": "code",
      "source": [
        "mef <- GRanges(mef)"
      ],
      "metadata": {
        "id": "rDfqsIpe5XSK"
      },
      "execution_count": 13,
      "outputs": []
    },
    {
      "cell_type": "code",
      "metadata": {
        "colab": {
          "base_uri": "https://localhost:8080/"
        },
        "id": "QijS2vz2fJAI",
        "outputId": "27aaf7b0-568a-4b7f-e7d0-cf1fa05edc43"
      },
      "source": [
        "sprintf('number of motif-centric regions: %s', length(mef)) %>% message()"
      ],
      "execution_count": 14,
      "outputs": [
        {
          "output_type": "stream",
          "name": "stderr",
          "text": [
            "number of motif-centric regions: 282789\n",
            "\n"
          ]
        }
      ]
    },
    {
      "cell_type": "code",
      "source": [
        "is_signif <- mef$padj < 0.05\n",
        "sprintf('# of significantly differential V-plots called by SeATAC: %d', sum(is_signif)) %>% message()"
      ],
      "metadata": {
        "colab": {
          "base_uri": "https://localhost:8080/"
        },
        "id": "aKcjBPE6E9Rb",
        "outputId": "8e97efba-d4cb-43d4-c793-a2213b845601"
      },
      "execution_count": 15,
      "outputs": [
        {
          "output_type": "stream",
          "name": "stderr",
          "text": [
            "# of significantly differential V-plots called by SeATAC: 19603\n",
            "\n"
          ]
        }
      ]
    },
    {
      "cell_type": "markdown",
      "source": [
        "#OSK individual motifs"
      ],
      "metadata": {
        "id": "W8DMfzjBYgto"
      }
    },
    {
      "cell_type": "code",
      "source": [
        "osk_dat <- read.table('https://s3.msi.umn.edu/dsouz072/datasets/dataset=seatac_file_version=20200209a/Seatac_dataset.tsv', header = TRUE, sep = '\\t')\n",
        "head(osk_dat)\n",
        "osk_bam <- osk_dat[grepl('https://s3.msi.umn.edu/dsouz072/datasets/dataset=iPSC_reprogramming_version=20200208a/', osk_dat$BAM),]\n",
        "osk <- osk_bam[grepl('OSK-D0-rep|OSK-D1-rep|OSK-D7-rep|_mES-OSK-|MEF-rep1|_ESCs-rep1|_iPS-rep1', osk_bam$BAM),]\n",
        "\n",
        "ARGS <- list(\n",
        "  bin_size = 5L,\n",
        "  fragment_size_range_max = 640L,\n",
        "  fragment_size_interval = 10L,\n",
        "  window_size = 1000L,\n",
        "  heatmap_window_size = 2000L,\n",
        "  block_size = 640L,\n",
        "  sliding_step = 20L,\n",
        "  min_reads = 5L,\n",
        "  step_size = 200L,\n",
        "  \n",
        "  vae_num_peaks = 5000L,\n",
        "  vae_latent = c(10L),\n",
        "  vae_filters0 = c(128L),\n",
        "  vae_filters = c(32L),\n",
        "  vae_downsample_layers = 4L,\n",
        "  vae_upsample_layers = 4L,\n",
        "  vae_base_learning_rate = c(1e-2),\n",
        "  vae_epochs = 200L,\n",
        "  vae_beta_schedule_method = c('constant'),\n",
        "  vae_beta0 = 1,\n",
        "  vae_batch_size = c(128L),\n",
        "  vae_warmup_ratio = 0.1,\n",
        "  \n",
        "  target_width = 100L,\n",
        "  min_test_reads = 1L,\n",
        "  max_test_reads = 10L,\n",
        "  center_width = 100L # the center width\n",
        ")\n",
        "\n",
        "gr_all <- lapply(as.character(osk$BED), function(bed_file){\n",
        "  peaks <- read.table(bed_file, header = FALSE, sep = '\\t')\n",
        "  peaks <- GRanges(seqnames = peaks[, 1], range = IRanges(start = peaks[, 2], end = peaks[, 3]))\n",
        "  peaks <- resize(peaks, fix = 'center', width = ARGS[['step_size']])\n",
        "  peaks\n",
        "}) %>%\n",
        "  GRangesList() %>%\n",
        "  coverage() %>%\n",
        "  IRanges::slice(lower = 1, rangesOnly = TRUE) %>%\n",
        "  GRanges() %>%\n",
        "  resize(fix = 'center', width = ARGS[['window_size']])\n",
        "gr_all <- gr_all[!seqnames(gr_all) %in% c('chrM', 'chrY')]\n",
        "\n",
        "\n",
        "\n",
        "data('homer_pwms')\n",
        "\n",
        "\n",
        "\n",
        "gr_oct4 <- matchMotifs(homer_pwms[\"Oct4(POU,Homeobox)/mES-Oct4-ChIP-Seq(GSE11431)/Homer\"], gr_all, genome = BSgenome.Mmusculus.UCSC.mm10, out = 'positions')[[1]] %>%\n",
        "  resize(width = ARGS[['block_size']], fix = 'center')\n",
        "gr_sox2 <- matchMotifs(homer_pwms[\"Sox2(HMG)/mES-Sox2-ChIP-Seq(GSE11431)/Homer\"], gr_all, genome = BSgenome.Mmusculus.UCSC.mm10, out = 'positions')[[1]] %>%\n",
        "  resize(width = ARGS[['block_size']], fix = 'center')\n",
        "gr_klf4 <- matchMotifs(homer_pwms[\"Klf4(Zf)/mES-Klf4-ChIP-Seq(GSE11431)/Homer\"], gr_all, genome = BSgenome.Mmusculus.UCSC.mm10, out = 'positions')[[1]] %>%\n",
        "  resize(width = ARGS[['block_size']], fix = 'center')"
      ],
      "metadata": {
        "id": "Sntz3vKLYmaZ",
        "colab": {
          "base_uri": "https://localhost:8080/",
          "height": 390
        },
        "outputId": "d3b4ec18-12da-4167-eb4e-9c7ec5d4aadf"
      },
      "execution_count": 16,
      "outputs": [
        {
          "output_type": "display_data",
          "data": {
            "text/html": [
              "<table class=\"dataframe\">\n",
              "<caption>A data.frame: 6 × 4</caption>\n",
              "<thead>\n",
              "\t<tr><th></th><th scope=col>BAM</th><th scope=col>BED</th><th scope=col>Nucleoatac</th><th scope=col>Genome</th></tr>\n",
              "\t<tr><th></th><th scope=col>&lt;chr&gt;</th><th scope=col>&lt;chr&gt;</th><th scope=col>&lt;chr&gt;</th><th scope=col>&lt;chr&gt;</th></tr>\n",
              "</thead>\n",
              "<tbody>\n",
              "\t<tr><th scope=row>1</th><td>https://s3.msi.umn.edu/dsouz072/datasets/dataset=Baf_version=20200129a/Baf_rep1.dedup.bam          </td><td>https://s3.msi.umn.edu/dsouz072/datasets/dataset=Baf_version=20200129a/Baf_rep1_summits.bed          </td><td>https://s3.msi.umn.edu/dsouz072/datasets/dataset=Baf_version=20200129a/Baf_rep1.nucleoatac_signal.smooth.bw </td><td>hg19</td></tr>\n",
              "\t<tr><th scope=row>2</th><td>https://s3.msi.umn.edu/dsouz072/datasets/dataset=Baf_version=20200129a/Baf_rep2.dedup.bam          </td><td>https://s3.msi.umn.edu/dsouz072/datasets/dataset=Baf_version=20200129a/Baf_rep2_summits.bed          </td><td>https://s3.msi.umn.edu/dsouz072/datasets/dataset=Baf_version=20200129a/Baf_rep2.nucleoatac_signal.smooth.bw </td><td>hg19</td></tr>\n",
              "\t<tr><th scope=row>3</th><td>https://s3.msi.umn.edu/dsouz072/datasets/dataset=Baf_version=20200129a/Ctrl_rep1.dedup.bam         </td><td>https://s3.msi.umn.edu/dsouz072/datasets/dataset=Baf_version=20200129a/Ctrl_rep1_summits.bed         </td><td>https://s3.msi.umn.edu/dsouz072/datasets/dataset=Baf_version=20200129a/Ctrl_rep1.nucleoatac_signal.smooth.bw</td><td>hg19</td></tr>\n",
              "\t<tr><th scope=row>4</th><td>https://s3.msi.umn.edu/dsouz072/datasets/dataset=Baf_version=20200129a/Ctrl_rep2.dedup.bam         </td><td>https://s3.msi.umn.edu/dsouz072/datasets/dataset=Baf_version=20200129a/Ctrl_rep2_summits.bed         </td><td>https://s3.msi.umn.edu/dsouz072/datasets/dataset=Baf_version=20200129a/Ctrl_rep2.nucleoatac_signal.smooth.bw</td><td>hg19</td></tr>\n",
              "\t<tr><th scope=row>5</th><td>https://s3.msi.umn.edu/dsouz072/datasets/dataset=Ascl1_version=20200128a/MEF.dedup.bam             </td><td>https://s3.msi.umn.edu/dsouz072/datasets/dataset=Ascl1_version=20200128a/MEF_summits.bed             </td><td>NA                                                                                                          </td><td>mm10</td></tr>\n",
              "\t<tr><th scope=row>6</th><td>https://s3.msi.umn.edu/dsouz072/datasets/dataset=Ascl1_version=20200128a/MEF_rtTA_B1_rep1.dedup.bam</td><td>https://s3.msi.umn.edu/dsouz072/datasets/dataset=Ascl1_version=20200128a/MEF_rtTA_B1_rep1_summits.bed</td><td>NA                                                                                                          </td><td>mm10</td></tr>\n",
              "</tbody>\n",
              "</table>\n"
            ],
            "text/markdown": "\nA data.frame: 6 × 4\n\n| <!--/--> | BAM &lt;chr&gt; | BED &lt;chr&gt; | Nucleoatac &lt;chr&gt; | Genome &lt;chr&gt; |\n|---|---|---|---|---|\n| 1 | https://s3.msi.umn.edu/dsouz072/datasets/dataset=Baf_version=20200129a/Baf_rep1.dedup.bam           | https://s3.msi.umn.edu/dsouz072/datasets/dataset=Baf_version=20200129a/Baf_rep1_summits.bed           | https://s3.msi.umn.edu/dsouz072/datasets/dataset=Baf_version=20200129a/Baf_rep1.nucleoatac_signal.smooth.bw  | hg19 |\n| 2 | https://s3.msi.umn.edu/dsouz072/datasets/dataset=Baf_version=20200129a/Baf_rep2.dedup.bam           | https://s3.msi.umn.edu/dsouz072/datasets/dataset=Baf_version=20200129a/Baf_rep2_summits.bed           | https://s3.msi.umn.edu/dsouz072/datasets/dataset=Baf_version=20200129a/Baf_rep2.nucleoatac_signal.smooth.bw  | hg19 |\n| 3 | https://s3.msi.umn.edu/dsouz072/datasets/dataset=Baf_version=20200129a/Ctrl_rep1.dedup.bam          | https://s3.msi.umn.edu/dsouz072/datasets/dataset=Baf_version=20200129a/Ctrl_rep1_summits.bed          | https://s3.msi.umn.edu/dsouz072/datasets/dataset=Baf_version=20200129a/Ctrl_rep1.nucleoatac_signal.smooth.bw | hg19 |\n| 4 | https://s3.msi.umn.edu/dsouz072/datasets/dataset=Baf_version=20200129a/Ctrl_rep2.dedup.bam          | https://s3.msi.umn.edu/dsouz072/datasets/dataset=Baf_version=20200129a/Ctrl_rep2_summits.bed          | https://s3.msi.umn.edu/dsouz072/datasets/dataset=Baf_version=20200129a/Ctrl_rep2.nucleoatac_signal.smooth.bw | hg19 |\n| 5 | https://s3.msi.umn.edu/dsouz072/datasets/dataset=Ascl1_version=20200128a/MEF.dedup.bam              | https://s3.msi.umn.edu/dsouz072/datasets/dataset=Ascl1_version=20200128a/MEF_summits.bed              | NA                                                                                                           | mm10 |\n| 6 | https://s3.msi.umn.edu/dsouz072/datasets/dataset=Ascl1_version=20200128a/MEF_rtTA_B1_rep1.dedup.bam | https://s3.msi.umn.edu/dsouz072/datasets/dataset=Ascl1_version=20200128a/MEF_rtTA_B1_rep1_summits.bed | NA                                                                                                           | mm10 |\n\n",
            "text/latex": "A data.frame: 6 × 4\n\\begin{tabular}{r|llll}\n  & BAM & BED & Nucleoatac & Genome\\\\\n  & <chr> & <chr> & <chr> & <chr>\\\\\n\\hline\n\t1 & https://s3.msi.umn.edu/dsouz072/datasets/dataset=Baf\\_version=20200129a/Baf\\_rep1.dedup.bam           & https://s3.msi.umn.edu/dsouz072/datasets/dataset=Baf\\_version=20200129a/Baf\\_rep1\\_summits.bed           & https://s3.msi.umn.edu/dsouz072/datasets/dataset=Baf\\_version=20200129a/Baf\\_rep1.nucleoatac\\_signal.smooth.bw  & hg19\\\\\n\t2 & https://s3.msi.umn.edu/dsouz072/datasets/dataset=Baf\\_version=20200129a/Baf\\_rep2.dedup.bam           & https://s3.msi.umn.edu/dsouz072/datasets/dataset=Baf\\_version=20200129a/Baf\\_rep2\\_summits.bed           & https://s3.msi.umn.edu/dsouz072/datasets/dataset=Baf\\_version=20200129a/Baf\\_rep2.nucleoatac\\_signal.smooth.bw  & hg19\\\\\n\t3 & https://s3.msi.umn.edu/dsouz072/datasets/dataset=Baf\\_version=20200129a/Ctrl\\_rep1.dedup.bam          & https://s3.msi.umn.edu/dsouz072/datasets/dataset=Baf\\_version=20200129a/Ctrl\\_rep1\\_summits.bed          & https://s3.msi.umn.edu/dsouz072/datasets/dataset=Baf\\_version=20200129a/Ctrl\\_rep1.nucleoatac\\_signal.smooth.bw & hg19\\\\\n\t4 & https://s3.msi.umn.edu/dsouz072/datasets/dataset=Baf\\_version=20200129a/Ctrl\\_rep2.dedup.bam          & https://s3.msi.umn.edu/dsouz072/datasets/dataset=Baf\\_version=20200129a/Ctrl\\_rep2\\_summits.bed          & https://s3.msi.umn.edu/dsouz072/datasets/dataset=Baf\\_version=20200129a/Ctrl\\_rep2.nucleoatac\\_signal.smooth.bw & hg19\\\\\n\t5 & https://s3.msi.umn.edu/dsouz072/datasets/dataset=Ascl1\\_version=20200128a/MEF.dedup.bam              & https://s3.msi.umn.edu/dsouz072/datasets/dataset=Ascl1\\_version=20200128a/MEF\\_summits.bed              & NA                                                                                                           & mm10\\\\\n\t6 & https://s3.msi.umn.edu/dsouz072/datasets/dataset=Ascl1\\_version=20200128a/MEF\\_rtTA\\_B1\\_rep1.dedup.bam & https://s3.msi.umn.edu/dsouz072/datasets/dataset=Ascl1\\_version=20200128a/MEF\\_rtTA\\_B1\\_rep1\\_summits.bed & NA                                                                                                           & mm10\\\\\n\\end{tabular}\n",
            "text/plain": [
              "  BAM                                                                                                \n",
              "1 https://s3.msi.umn.edu/dsouz072/datasets/dataset=Baf_version=20200129a/Baf_rep1.dedup.bam          \n",
              "2 https://s3.msi.umn.edu/dsouz072/datasets/dataset=Baf_version=20200129a/Baf_rep2.dedup.bam          \n",
              "3 https://s3.msi.umn.edu/dsouz072/datasets/dataset=Baf_version=20200129a/Ctrl_rep1.dedup.bam         \n",
              "4 https://s3.msi.umn.edu/dsouz072/datasets/dataset=Baf_version=20200129a/Ctrl_rep2.dedup.bam         \n",
              "5 https://s3.msi.umn.edu/dsouz072/datasets/dataset=Ascl1_version=20200128a/MEF.dedup.bam             \n",
              "6 https://s3.msi.umn.edu/dsouz072/datasets/dataset=Ascl1_version=20200128a/MEF_rtTA_B1_rep1.dedup.bam\n",
              "  BED                                                                                                  \n",
              "1 https://s3.msi.umn.edu/dsouz072/datasets/dataset=Baf_version=20200129a/Baf_rep1_summits.bed          \n",
              "2 https://s3.msi.umn.edu/dsouz072/datasets/dataset=Baf_version=20200129a/Baf_rep2_summits.bed          \n",
              "3 https://s3.msi.umn.edu/dsouz072/datasets/dataset=Baf_version=20200129a/Ctrl_rep1_summits.bed         \n",
              "4 https://s3.msi.umn.edu/dsouz072/datasets/dataset=Baf_version=20200129a/Ctrl_rep2_summits.bed         \n",
              "5 https://s3.msi.umn.edu/dsouz072/datasets/dataset=Ascl1_version=20200128a/MEF_summits.bed             \n",
              "6 https://s3.msi.umn.edu/dsouz072/datasets/dataset=Ascl1_version=20200128a/MEF_rtTA_B1_rep1_summits.bed\n",
              "  Nucleoatac                                                                                                  \n",
              "1 https://s3.msi.umn.edu/dsouz072/datasets/dataset=Baf_version=20200129a/Baf_rep1.nucleoatac_signal.smooth.bw \n",
              "2 https://s3.msi.umn.edu/dsouz072/datasets/dataset=Baf_version=20200129a/Baf_rep2.nucleoatac_signal.smooth.bw \n",
              "3 https://s3.msi.umn.edu/dsouz072/datasets/dataset=Baf_version=20200129a/Ctrl_rep1.nucleoatac_signal.smooth.bw\n",
              "4 https://s3.msi.umn.edu/dsouz072/datasets/dataset=Baf_version=20200129a/Ctrl_rep2.nucleoatac_signal.smooth.bw\n",
              "5 NA                                                                                                          \n",
              "6 NA                                                                                                          \n",
              "  Genome\n",
              "1 hg19  \n",
              "2 hg19  \n",
              "3 hg19  \n",
              "4 hg19  \n",
              "5 mm10  \n",
              "6 mm10  "
            ]
          },
          "metadata": {}
        }
      ]
    },
    {
      "cell_type": "code",
      "source": [
        "gr_oct4 <- matchMotifs(homer_pwms[\"Oct4(POU,Homeobox)/mES-Oct4-ChIP-Seq(GSE11431)/Homer\"], mef, genome = BSgenome.Mmusculus.UCSC.mm10, out = 'positions')[[1]] %>%\n",
        "  resize(width = ARGS[['block_size']], fix = 'center')\n",
        "gr_sox2 <- matchMotifs(homer_pwms[\"Sox2(HMG)/mES-Sox2-ChIP-Seq(GSE11431)/Homer\"], mef, genome = BSgenome.Mmusculus.UCSC.mm10, out = 'positions')[[1]] %>%\n",
        "  resize(width = ARGS[['block_size']], fix = 'center')\n",
        "gr_klf4 <- matchMotifs(homer_pwms[\"Klf4(Zf)/mES-Klf4-ChIP-Seq(GSE11431)/Homer\"], mef, genome = BSgenome.Mmusculus.UCSC.mm10, out = 'positions')[[1]] %>%\n",
        "  resize(width = ARGS[['block_size']], fix = 'center')"
      ],
      "metadata": {
        "id": "ZWU2HC4wbVOf"
      },
      "execution_count": 17,
      "outputs": []
    },
    {
      "cell_type": "code",
      "source": [
        "mef_oct4 <- subsetByOverlaps(mef, gr_oct4)\n",
        "mef_sox2 <- subsetByOverlaps(mef, gr_sox2)\n",
        "mef_klf4 <- subsetByOverlaps(mef, gr_klf4)"
      ],
      "metadata": {
        "id": "DsOJ3BHibySX"
      },
      "execution_count": 18,
      "outputs": []
    },
    {
      "cell_type": "code",
      "source": [
        "osk_gr <- list(oct4 = mef_oct4, sox2 = mef_sox2, klf4 = mef_klf4)"
      ],
      "metadata": {
        "id": "XAHMlru9cLhW"
      },
      "execution_count": 19,
      "outputs": []
    },
    {
      "cell_type": "markdown",
      "metadata": {
        "id": "suGsvJ4wtKZD"
      },
      "source": [
        "## Read bulk RNA-seq of MEF reprogramming"
      ]
    },
    {
      "cell_type": "code",
      "source": [
        "remote_res <- c(rna = 'https://s3.msi.umn.edu/dsouz072/datasets/dataset=iPSC_reprogramming_version=20200208a/GSE93027_RNAseq_tag_count.tsv.gz')\n",
        "for (f in remote_res){\n",
        "  system(sprintf('wget -cx %s', f))\n",
        "}\n",
        "rna <- gsub('https://', './', remote_res)"
      ],
      "metadata": {
        "id": "pKqGl75rDJkA"
      },
      "execution_count": 20,
      "outputs": []
    },
    {
      "cell_type": "code",
      "metadata": {
        "id": "frgpTS3xhprU"
      },
      "source": [
        "bulk <- read.table(gzfile(rna[['rna']]), header = TRUE, sep = '\\t')"
      ],
      "execution_count": 21,
      "outputs": []
    },
    {
      "cell_type": "markdown",
      "source": [
        "## Assigning gene symbol to Ensembl gene ID"
      ],
      "metadata": {
        "id": "EhxyUDnf8pXk"
      }
    },
    {
      "cell_type": "code",
      "source": [
        "t2g_dat <- read.table('https://s3.msi.umn.edu/dsouz072/datasets/dataset=Foxk1_version=20191130a/transcripts_to_genes.txt', sep = '\\t')"
      ],
      "metadata": {
        "id": "sAvwPBTAFPOH"
      },
      "execution_count": 22,
      "outputs": []
    },
    {
      "cell_type": "code",
      "source": [
        "colnames(t2g_dat) <- c('ensembl_transcript', 'ensembl_gene', 'gene_name')\n",
        "head(t2g_dat)"
      ],
      "metadata": {
        "colab": {
          "base_uri": "https://localhost:8080/",
          "height": 286
        },
        "id": "QhAkb5TsFRQg",
        "outputId": "8e12537b-8822-4c91-e7b9-6139b34f360a"
      },
      "execution_count": 23,
      "outputs": [
        {
          "output_type": "display_data",
          "data": {
            "text/html": [
              "<table class=\"dataframe\">\n",
              "<caption>A data.frame: 6 × 3</caption>\n",
              "<thead>\n",
              "\t<tr><th></th><th scope=col>ensembl_transcript</th><th scope=col>ensembl_gene</th><th scope=col>gene_name</th></tr>\n",
              "\t<tr><th></th><th scope=col>&lt;chr&gt;</th><th scope=col>&lt;chr&gt;</th><th scope=col>&lt;chr&gt;</th></tr>\n",
              "</thead>\n",
              "<tbody>\n",
              "\t<tr><th scope=row>1</th><td>ENSMUST00000193812.1</td><td>ENSMUSG00000102693.1</td><td>4933401J01Rik</td></tr>\n",
              "\t<tr><th scope=row>2</th><td>ENSMUST00000082908.1</td><td>ENSMUSG00000064842.1</td><td>Gm26206      </td></tr>\n",
              "\t<tr><th scope=row>3</th><td>ENSMUST00000162897.1</td><td>ENSMUSG00000051951.5</td><td>Xkr4         </td></tr>\n",
              "\t<tr><th scope=row>4</th><td>ENSMUST00000159265.1</td><td>ENSMUSG00000051951.5</td><td>Xkr4         </td></tr>\n",
              "\t<tr><th scope=row>5</th><td>ENSMUST00000070533.4</td><td>ENSMUSG00000051951.5</td><td>Xkr4         </td></tr>\n",
              "\t<tr><th scope=row>6</th><td>ENSMUST00000192857.1</td><td>ENSMUSG00000102851.1</td><td>Gm18956      </td></tr>\n",
              "</tbody>\n",
              "</table>\n"
            ],
            "text/markdown": "\nA data.frame: 6 × 3\n\n| <!--/--> | ensembl_transcript &lt;chr&gt; | ensembl_gene &lt;chr&gt; | gene_name &lt;chr&gt; |\n|---|---|---|---|\n| 1 | ENSMUST00000193812.1 | ENSMUSG00000102693.1 | 4933401J01Rik |\n| 2 | ENSMUST00000082908.1 | ENSMUSG00000064842.1 | Gm26206       |\n| 3 | ENSMUST00000162897.1 | ENSMUSG00000051951.5 | Xkr4          |\n| 4 | ENSMUST00000159265.1 | ENSMUSG00000051951.5 | Xkr4          |\n| 5 | ENSMUST00000070533.4 | ENSMUSG00000051951.5 | Xkr4          |\n| 6 | ENSMUST00000192857.1 | ENSMUSG00000102851.1 | Gm18956       |\n\n",
            "text/latex": "A data.frame: 6 × 3\n\\begin{tabular}{r|lll}\n  & ensembl\\_transcript & ensembl\\_gene & gene\\_name\\\\\n  & <chr> & <chr> & <chr>\\\\\n\\hline\n\t1 & ENSMUST00000193812.1 & ENSMUSG00000102693.1 & 4933401J01Rik\\\\\n\t2 & ENSMUST00000082908.1 & ENSMUSG00000064842.1 & Gm26206      \\\\\n\t3 & ENSMUST00000162897.1 & ENSMUSG00000051951.5 & Xkr4         \\\\\n\t4 & ENSMUST00000159265.1 & ENSMUSG00000051951.5 & Xkr4         \\\\\n\t5 & ENSMUST00000070533.4 & ENSMUSG00000051951.5 & Xkr4         \\\\\n\t6 & ENSMUST00000192857.1 & ENSMUSG00000102851.1 & Gm18956      \\\\\n\\end{tabular}\n",
            "text/plain": [
              "  ensembl_transcript   ensembl_gene         gene_name    \n",
              "1 ENSMUST00000193812.1 ENSMUSG00000102693.1 4933401J01Rik\n",
              "2 ENSMUST00000082908.1 ENSMUSG00000064842.1 Gm26206      \n",
              "3 ENSMUST00000162897.1 ENSMUSG00000051951.5 Xkr4         \n",
              "4 ENSMUST00000159265.1 ENSMUSG00000051951.5 Xkr4         \n",
              "5 ENSMUST00000070533.4 ENSMUSG00000051951.5 Xkr4         \n",
              "6 ENSMUST00000192857.1 ENSMUSG00000102851.1 Gm18956      "
            ]
          },
          "metadata": {}
        }
      ]
    },
    {
      "cell_type": "code",
      "source": [
        "t2g_dat$ensg <- gsub('\\\\.[0-9]+','', t2g_dat$ensembl_gene)"
      ],
      "metadata": {
        "id": "m85WTiEKF1Bl"
      },
      "execution_count": 24,
      "outputs": []
    },
    {
      "cell_type": "code",
      "source": [
        "gene_dat <- data.frame(ensg = bulk$X)"
      ],
      "metadata": {
        "id": "Z00mC-TTGZli"
      },
      "execution_count": 25,
      "outputs": []
    },
    {
      "cell_type": "code",
      "source": [
        "gene_dat$gene_name <-t2g_dat$gene_name[match(gene_dat$ensg, t2g_dat$ensg)]"
      ],
      "metadata": {
        "id": "b4QtKGidGm77"
      },
      "execution_count": 26,
      "outputs": []
    },
    {
      "cell_type": "code",
      "source": [
        "bulk$X <- gene_dat$gene_name[match(bulk$X, gene_dat$ensg)]"
      ],
      "metadata": {
        "id": "4yfiF_RbG2ZY"
      },
      "execution_count": 27,
      "outputs": []
    },
    {
      "cell_type": "markdown",
      "source": [
        "### Summarized experiment file with count data"
      ],
      "metadata": {
        "id": "dZWs6W_I8u1I"
      }
    },
    {
      "cell_type": "code",
      "source": [
        "se_bulk <- SummarizedExperiment(list(counts = as.matrix(bulk[!colnames(bulk) %in% c('X')])), \n",
        "  rowData = DataFrame(SYMBOL = bulk$X),\n",
        "  colData = DataFrame(id = colnames(bulk[!colnames(bulk) %in% c('X')])))"
      ],
      "metadata": {
        "id": "ixRmqDDf-Hxl"
      },
      "execution_count": 28,
      "outputs": []
    },
    {
      "cell_type": "code",
      "source": [
        "se_bulk$group <- gsub('\\\\.','_', se_bulk$id)\n",
        "se_bulk$group <- gsub('_rep[0-9]','', se_bulk$group)"
      ],
      "metadata": {
        "id": "ih8XywFw_Lbf"
      },
      "execution_count": 29,
      "outputs": []
    },
    {
      "cell_type": "code",
      "source": [
        "se_bulk"
      ],
      "metadata": {
        "colab": {
          "base_uri": "https://localhost:8080/",
          "height": 181
        },
        "id": "MydLwiRCCnuR",
        "outputId": "d2bd3a95-aea8-4f66-b1bf-f7299bdc67e6"
      },
      "execution_count": 30,
      "outputs": [
        {
          "output_type": "display_data",
          "data": {
            "text/plain": [
              "class: SummarizedExperiment \n",
              "dim: 18198 26 \n",
              "metadata(0):\n",
              "assays(1): counts\n",
              "rownames: NULL\n",
              "rowData names(1): SYMBOL\n",
              "colnames(26): ESCs.rep1 ESCs.rep2 ... OSK.shSap30.D7.rep1\n",
              "  OSK.shSap30.D7.rep2\n",
              "colData names(2): id group"
            ]
          },
          "metadata": {}
        }
      ]
    },
    {
      "cell_type": "markdown",
      "source": [
        "#Deseq2"
      ],
      "metadata": {
        "id": "_8zGNjolN7dH"
      }
    },
    {
      "cell_type": "markdown",
      "metadata": {
        "id": "l4iZYk_Ihqzu"
      },
      "source": [
        "## Find  DE genes between MEF and D7 cells post induction"
      ]
    },
    {
      "cell_type": "code",
      "metadata": {
        "id": "BomFTf6KsnEp",
        "colab": {
          "base_uri": "https://localhost:8080/"
        },
        "outputId": "54670db1-0060-406e-9d56-78590d992a5e"
      },
      "source": [
        "se_bulk <- DESeqDataSet(se_bulk, design = ~ group)\n",
        "se_bulk <- estimateSizeFactors(se_bulk)\n",
        "se_bulk <- DESeq(se_bulk)\n",
        "assays(se_bulk)$normalized_counts <- log2(counts(se_bulk, normalized = TRUE) + 1)\n",
        "res <- results(se_bulk, contrast = c('group', 'OKS_D7', 'MEF'))"
      ],
      "execution_count": 31,
      "outputs": [
        {
          "output_type": "stream",
          "name": "stderr",
          "text": [
            "Warning message in DESeqDataSet(se_bulk, design = ~group):\n",
            "“some variables in design formula are characters, converting to factors”\n",
            "using pre-existing size factors\n",
            "\n",
            "estimating dispersions\n",
            "\n",
            "gene-wise dispersion estimates\n",
            "\n",
            "mean-dispersion relationship\n",
            "\n",
            "-- note: fitType='parametric', but the dispersion trend was not well captured by the\n",
            "   function: y = a/x + b, and a local regression fit was automatically substituted.\n",
            "   specify fitType='local' or 'mean' to avoid this message next time.\n",
            "\n",
            "final dispersion estimates\n",
            "\n",
            "fitting model and testing\n",
            "\n"
          ]
        }
      ]
    },
    {
      "cell_type": "code",
      "source": [
        "res$SYMBOL <- rowData(se_bulk)$SYMBOL"
      ],
      "metadata": {
        "id": "oDj4t6dQDy8n"
      },
      "execution_count": 32,
      "outputs": []
    },
    {
      "cell_type": "code",
      "source": [
        "summary(res)"
      ],
      "metadata": {
        "colab": {
          "base_uri": "https://localhost:8080/"
        },
        "id": "htqAln5jD2jG",
        "outputId": "1f693192-56dd-460a-be5c-e705364f3043"
      },
      "execution_count": 33,
      "outputs": [
        {
          "output_type": "stream",
          "name": "stdout",
          "text": [
            "\n",
            "out of 17950 with nonzero total read count\n",
            "adjusted p-value < 0.1\n",
            "LFC > 0 (up)       : 3548, 20%\n",
            "LFC < 0 (down)     : 3248, 18%\n",
            "outliers [1]       : 0, 0%\n",
            "low counts [2]     : 1391, 7.7%\n",
            "(mean count < 2)\n",
            "[1] see 'cooksCutoff' argument of ?results\n",
            "[2] see 'independentFiltering' argument of ?results\n",
            "\n"
          ]
        }
      ]
    },
    {
      "cell_type": "markdown",
      "source": [
        "# NFR -> NOR \n",
        "(MEF to D7 MEFs post OSK induction)"
      ],
      "metadata": {
        "id": "cv544KQl52bW"
      }
    },
    {
      "cell_type": "code",
      "source": [
        "down <- lapply(osk_gr, function(o){\n",
        "  o[o$log_ratio > 0.1 & o$padj < 0.05]\n",
        "})"
      ],
      "metadata": {
        "id": "Bc-STbROeDdV"
      },
      "execution_count": 34,
      "outputs": []
    },
    {
      "cell_type": "code",
      "source": [
        "anno <- lapply(down, function(d){\n",
        "  annotatePeak(d, tssRegion = c(-5000, 1000),TxDb = TxDb.Mmusculus.UCSC.mm10.knownGene,\n",
        "        annoDb = 'org.Mm.eg.db')\n",
        "})"
      ],
      "metadata": {
        "colab": {
          "base_uri": "https://localhost:8080/"
        },
        "id": "5p6xKiv6eYAR",
        "outputId": "6fda3312-d697-48eb-acfa-b427fdba9384"
      },
      "execution_count": 35,
      "outputs": [
        {
          "output_type": "stream",
          "name": "stdout",
          "text": [
            ">> preparing features information...\t\t 2022-04-15 09:18:38 PM \n",
            ">> identifying nearest features...\t\t 2022-04-15 09:18:39 PM \n",
            ">> calculating distance from peak to TSS...\t 2022-04-15 09:18:39 PM \n",
            ">> assigning genomic annotation...\t\t 2022-04-15 09:18:39 PM \n",
            ">> adding gene annotation...\t\t\t 2022-04-15 09:18:56 PM \n"
          ]
        },
        {
          "output_type": "stream",
          "name": "stderr",
          "text": [
            "'select()' returned 1:many mapping between keys and columns\n",
            "\n"
          ]
        },
        {
          "output_type": "stream",
          "name": "stdout",
          "text": [
            ">> assigning chromosome lengths\t\t\t 2022-04-15 09:18:56 PM \n",
            ">> done...\t\t\t\t\t 2022-04-15 09:18:56 PM \n",
            ">> preparing features information...\t\t 2022-04-15 09:18:56 PM \n",
            ">> identifying nearest features...\t\t 2022-04-15 09:18:56 PM \n",
            ">> calculating distance from peak to TSS...\t 2022-04-15 09:18:57 PM \n",
            ">> assigning genomic annotation...\t\t 2022-04-15 09:18:57 PM \n",
            ">> adding gene annotation...\t\t\t 2022-04-15 09:18:59 PM \n"
          ]
        },
        {
          "output_type": "stream",
          "name": "stderr",
          "text": [
            "'select()' returned 1:many mapping between keys and columns\n",
            "\n"
          ]
        },
        {
          "output_type": "stream",
          "name": "stdout",
          "text": [
            ">> assigning chromosome lengths\t\t\t 2022-04-15 09:18:59 PM \n",
            ">> done...\t\t\t\t\t 2022-04-15 09:18:59 PM \n",
            ">> preparing features information...\t\t 2022-04-15 09:18:59 PM \n",
            ">> identifying nearest features...\t\t 2022-04-15 09:18:59 PM \n",
            ">> calculating distance from peak to TSS...\t 2022-04-15 09:19:00 PM \n",
            ">> assigning genomic annotation...\t\t 2022-04-15 09:19:00 PM \n",
            ">> adding gene annotation...\t\t\t 2022-04-15 09:19:03 PM \n"
          ]
        },
        {
          "output_type": "stream",
          "name": "stderr",
          "text": [
            "'select()' returned 1:many mapping between keys and columns\n",
            "\n"
          ]
        },
        {
          "output_type": "stream",
          "name": "stdout",
          "text": [
            ">> assigning chromosome lengths\t\t\t 2022-04-15 09:19:03 PM \n",
            ">> done...\t\t\t\t\t 2022-04-15 09:19:03 PM \n"
          ]
        }
      ]
    },
    {
      "cell_type": "code",
      "source": [
        "dat <- lapply(anno, function(a){\n",
        "  data.frame(a)\n",
        "})"
      ],
      "metadata": {
        "id": "ssNgLbLAewXw"
      },
      "execution_count": 36,
      "outputs": []
    },
    {
      "cell_type": "code",
      "source": [
        "for (i in 1:length(dat)){\n",
        "dat[[i]]$log2FC <- res$log2FoldChange[match(dat[[i]]$SYMBOL, res$SYMBOL)]\n",
        "}"
      ],
      "metadata": {
        "id": "Rx98qnL8fBgR"
      },
      "execution_count": 37,
      "outputs": []
    },
    {
      "cell_type": "code",
      "source": [
        "for (i in 1:length(dat)){\n",
        "dat[[i]]$padj_RNA <- res$padj[match(dat[[i]]$SYMBOL, res$SYMBOL)]\n",
        "}"
      ],
      "metadata": {
        "id": "gLhWBGvXfgwE"
      },
      "execution_count": 38,
      "outputs": []
    },
    {
      "cell_type": "code",
      "source": [
        "for (i in 1:length(dat)){\n",
        "  dat[[i]]$group <- 'NFR_NOR'\n",
        "}"
      ],
      "metadata": {
        "id": "NysXw9QbjEwl"
      },
      "execution_count": 39,
      "outputs": []
    },
    {
      "cell_type": "markdown",
      "source": [
        "#NOR -> NFR\n",
        "(MEF to D7 MEFs post OSK induction)"
      ],
      "metadata": {
        "id": "70kJauYtlAtu"
      }
    },
    {
      "cell_type": "code",
      "source": [
        "up <- lapply(osk_gr, function(o){\n",
        "  o[o$log_ratio < -0.1 & o$padj < 0.05]\n",
        "  })"
      ],
      "metadata": {
        "id": "Zkl1qJf7KZ0s"
      },
      "execution_count": 40,
      "outputs": []
    },
    {
      "cell_type": "code",
      "source": [
        "anno_up <- lapply(up, function(u){\n",
        "  annotatePeak(u, tssRegion = c(-5000, 1000),TxDb = TxDb.Mmusculus.UCSC.mm10.knownGene,\n",
        "        annoDb = 'org.Mm.eg.db')\n",
        "})"
      ],
      "metadata": {
        "colab": {
          "base_uri": "https://localhost:8080/"
        },
        "outputId": "92a6e3e5-e771-4fa1-8b80-f8f2bf373781",
        "id": "aKnhx2VTKZ0w"
      },
      "execution_count": 41,
      "outputs": [
        {
          "output_type": "stream",
          "name": "stdout",
          "text": [
            ">> preparing features information...\t\t 2022-04-15 09:19:03 PM \n",
            ">> identifying nearest features...\t\t 2022-04-15 09:19:03 PM \n",
            ">> calculating distance from peak to TSS...\t 2022-04-15 09:19:03 PM \n",
            ">> assigning genomic annotation...\t\t 2022-04-15 09:19:03 PM \n",
            ">> adding gene annotation...\t\t\t 2022-04-15 09:19:06 PM \n"
          ]
        },
        {
          "output_type": "stream",
          "name": "stderr",
          "text": [
            "'select()' returned 1:1 mapping between keys and columns\n",
            "\n"
          ]
        },
        {
          "output_type": "stream",
          "name": "stdout",
          "text": [
            ">> assigning chromosome lengths\t\t\t 2022-04-15 09:19:06 PM \n",
            ">> done...\t\t\t\t\t 2022-04-15 09:19:06 PM \n",
            ">> preparing features information...\t\t 2022-04-15 09:19:06 PM \n",
            ">> identifying nearest features...\t\t 2022-04-15 09:19:06 PM \n",
            ">> calculating distance from peak to TSS...\t 2022-04-15 09:19:07 PM \n",
            ">> assigning genomic annotation...\t\t 2022-04-15 09:19:07 PM \n",
            ">> adding gene annotation...\t\t\t 2022-04-15 09:19:10 PM \n"
          ]
        },
        {
          "output_type": "stream",
          "name": "stderr",
          "text": [
            "'select()' returned 1:many mapping between keys and columns\n",
            "\n"
          ]
        },
        {
          "output_type": "stream",
          "name": "stdout",
          "text": [
            ">> assigning chromosome lengths\t\t\t 2022-04-15 09:19:10 PM \n",
            ">> done...\t\t\t\t\t 2022-04-15 09:19:10 PM \n",
            ">> preparing features information...\t\t 2022-04-15 09:19:10 PM \n",
            ">> identifying nearest features...\t\t 2022-04-15 09:19:10 PM \n",
            ">> calculating distance from peak to TSS...\t 2022-04-15 09:19:10 PM \n",
            ">> assigning genomic annotation...\t\t 2022-04-15 09:19:10 PM \n",
            ">> adding gene annotation...\t\t\t 2022-04-15 09:19:13 PM \n"
          ]
        },
        {
          "output_type": "stream",
          "name": "stderr",
          "text": [
            "'select()' returned 1:many mapping between keys and columns\n",
            "\n"
          ]
        },
        {
          "output_type": "stream",
          "name": "stdout",
          "text": [
            ">> assigning chromosome lengths\t\t\t 2022-04-15 09:19:13 PM \n",
            ">> done...\t\t\t\t\t 2022-04-15 09:19:13 PM \n"
          ]
        }
      ]
    },
    {
      "cell_type": "code",
      "source": [
        "dat_up <- lapply(anno_up, function(a){\n",
        "  data.frame(a)\n",
        "})"
      ],
      "metadata": {
        "id": "1iTTbfQDKZ0x"
      },
      "execution_count": 42,
      "outputs": []
    },
    {
      "cell_type": "code",
      "source": [
        "for (i in 1:length(dat_up)){\n",
        "  dat_up[[i]]$log2FC <- res$log2FoldChange[match(dat_up[[i]]$SYMBOL, res$SYMBOL)]\n",
        "}"
      ],
      "metadata": {
        "id": "EfTDe7DiKZ0z"
      },
      "execution_count": 43,
      "outputs": []
    },
    {
      "cell_type": "code",
      "source": [
        "for (i in 1:length(dat_up)){\n",
        "dat_up[[i]]$padj_RNA <- res$padj[match(dat_up[[i]]$SYMBOL, res$SYMBOL)]\n",
        "}"
      ],
      "metadata": {
        "id": "qCeRMq7JKZ00"
      },
      "execution_count": 44,
      "outputs": []
    },
    {
      "cell_type": "code",
      "source": [
        "for (i in 1:length(dat_up)){\n",
        "  dat_up[[i]]$group <- 'NOR_NFR'\n",
        "}\n"
      ],
      "metadata": {
        "id": "wH95XeKXjbTu"
      },
      "execution_count": 45,
      "outputs": []
    },
    {
      "cell_type": "markdown",
      "source": [
        "#Combined bar plots for Down, Up and NoChange genes"
      ],
      "metadata": {
        "id": "4tx-FoEF_Qu_"
      }
    },
    {
      "cell_type": "code",
      "source": [
        "df_oct4 <- rbind(dat$oct4, dat_up$oct4)\n",
        "df_oct4$TF <- 'Oct4'\n",
        "df_sox2 <- rbind(dat$sox2, dat_up$sox2)\n",
        "df_sox2$TF <- 'Sox2'\n",
        "df_klf4 <- rbind(dat$klf4, dat_up$klf4)\n",
        "df_klf4$TF <- 'Klf4'"
      ],
      "metadata": {
        "id": "4o6WFpNTjkr0"
      },
      "execution_count": 46,
      "outputs": []
    },
    {
      "cell_type": "code",
      "source": [
        "df_promoter_oct4 <- df_oct4[grepl('Promoter',df_oct4$annotation),]"
      ],
      "metadata": {
        "id": "wyZ44MXRnN10"
      },
      "execution_count": 47,
      "outputs": []
    },
    {
      "cell_type": "code",
      "source": [
        "o <- df_promoter_oct4 %>%\n",
        "  filter(!is.na(padj_RNA)) %>%\n",
        "  mutate(  Direction = case_when(\n",
        "    padj_RNA < 0.05 & log2FC < 0 ~ 'Down',\n",
        "    padj_RNA < 0.05 & log2FC > 0 ~ 'Up',\n",
        "    padj_RNA > 0.05 ~ 'NC'\n",
        "    )\n",
        "  ) %>% \n",
        "  group_by(group) %>%\n",
        "  summarize(Total = n(),\n",
        "  across()\n",
        "  ) %>%\n",
        "  group_by(group, Direction, Total) %>%\n",
        "  summarise(Count = n()) %>%\n",
        "  mutate(Percent = 100*Count/Total) %>%\n",
        "  ggplot(aes(x = Direction, y = Percent, fill = group)) +\n",
        "  geom_bar(stat = 'identity', position = 'dodge') +\n",
        "  scale_fill_manual(values = c('indianred1','black')) +\n",
        "  theme(panel.grid.major = element_blank(), panel.grid.minor = element_blank(),\n",
        "  panel.background = element_blank(), axis.line = element_line(colour = \"black\"))"
      ],
      "metadata": {
        "colab": {
          "base_uri": "https://localhost:8080/"
        },
        "id": "EuP3CyPJowIa",
        "outputId": "2ef07a4d-5b8f-4453-e456-5040164af008"
      },
      "execution_count": 48,
      "outputs": [
        {
          "output_type": "stream",
          "name": "stderr",
          "text": [
            "\u001b[1m\u001b[22m`summarise()` has grouped output by 'group'. You can override using the\n",
            "`.groups` argument.\n",
            "\u001b[1m\u001b[22m`summarise()` has grouped output by 'group', 'Direction'. You can override\n",
            "using the `.groups` argument.\n"
          ]
        }
      ]
    },
    {
      "cell_type": "code",
      "source": [
        "df_promoter_sox2 <- df_sox2[grepl('Promoter',df_sox2$annotation),]"
      ],
      "metadata": {
        "id": "61Bw3wR2gqy4"
      },
      "execution_count": 49,
      "outputs": []
    },
    {
      "cell_type": "code",
      "source": [
        "s <- df_promoter_sox2 %>%\n",
        "  filter(!is.na(padj_RNA)) %>%\n",
        "  mutate(  Direction = case_when(\n",
        "    padj_RNA < 0.05 & log2FC < 0 ~ 'Down',\n",
        "    padj_RNA < 0.05 & log2FC > 0 ~ 'Up',\n",
        "    padj_RNA > 0.05 ~ 'NC'\n",
        "    )\n",
        "  ) %>% \n",
        "  group_by(group) %>%\n",
        "  summarize(Total = n(),\n",
        "  across()\n",
        "  ) %>%\n",
        "  group_by(group, Direction, Total) %>%\n",
        "  summarise(Count = n()) %>%\n",
        "  mutate(Percent = 100*Count/Total) %>%\n",
        "  ggplot(aes(x = Direction, y = Percent, fill = group)) +\n",
        "  geom_bar(stat = 'identity', position = 'dodge') +\n",
        "  scale_fill_manual(values = c('indianred1','black')) +\n",
        "  theme(panel.grid.major = element_blank(), panel.grid.minor = element_blank(),\n",
        "  panel.background = element_blank(), axis.line = element_line(colour = \"black\"))"
      ],
      "metadata": {
        "colab": {
          "base_uri": "https://localhost:8080/"
        },
        "id": "pOJgM9g7gxzn",
        "outputId": "d1a09147-b7d3-4025-9b66-66239ea8d754"
      },
      "execution_count": 50,
      "outputs": [
        {
          "output_type": "stream",
          "name": "stderr",
          "text": [
            "\u001b[1m\u001b[22m`summarise()` has grouped output by 'group'. You can override using the\n",
            "`.groups` argument.\n",
            "\u001b[1m\u001b[22m`summarise()` has grouped output by 'group', 'Direction'. You can override\n",
            "using the `.groups` argument.\n"
          ]
        }
      ]
    },
    {
      "cell_type": "code",
      "source": [
        "df_promoter_klf4 <- df_klf4[grepl('Promoter',df_klf4$annotation),]"
      ],
      "metadata": {
        "id": "sBDsVCFxg-71"
      },
      "execution_count": 51,
      "outputs": []
    },
    {
      "cell_type": "code",
      "source": [
        "k <- df_promoter_klf4 %>%\n",
        "  filter(!is.na(padj_RNA)) %>%\n",
        "  mutate(  Direction = case_when(\n",
        "    padj_RNA < 0.05 & log2FC < 0 ~ 'Down',\n",
        "    padj_RNA < 0.05 & log2FC > 0 ~ 'Up',\n",
        "    padj_RNA > 0.05 ~ 'NC'\n",
        "    )\n",
        "  ) %>% \n",
        "  group_by(group) %>%\n",
        "  summarize(Total = n(),\n",
        "  across()\n",
        "  ) %>%\n",
        "  group_by(group, Direction, Total) %>%\n",
        "  summarise(Count = n()) %>%\n",
        "  mutate(Percent = 100*Count/Total) %>%\n",
        "  ggplot(aes(x = Direction, y = Percent, fill = group)) +\n",
        "  geom_bar(stat = 'identity', position = 'dodge') +\n",
        "  scale_fill_manual(values = c('indianred1','black')) +\n",
        "  theme(panel.grid.major = element_blank(), panel.grid.minor = element_blank(),\n",
        "  panel.background = element_blank(), axis.line = element_line(colour = \"black\"))"
      ],
      "metadata": {
        "colab": {
          "base_uri": "https://localhost:8080/"
        },
        "outputId": "6dbea945-9f09-4dea-fba9-1e19a7a46e9e",
        "id": "cxuVLdFmg-72"
      },
      "execution_count": 52,
      "outputs": [
        {
          "output_type": "stream",
          "name": "stderr",
          "text": [
            "\u001b[1m\u001b[22m`summarise()` has grouped output by 'group'. You can override using the\n",
            "`.groups` argument.\n",
            "\u001b[1m\u001b[22m`summarise()` has grouped output by 'group', 'Direction'. You can override\n",
            "using the `.groups` argument.\n"
          ]
        }
      ]
    },
    {
      "cell_type": "code",
      "source": [
        "options(repr.plot.width = 12, repr.plot.height = 8)\n",
        "o+s+k"
      ],
      "metadata": {
        "colab": {
          "base_uri": "https://localhost:8080/",
          "height": 497
        },
        "id": "cnozbzu-iH4s",
        "outputId": "45240217-c4d4-48e0-f691-b75bc49073a3"
      },
      "execution_count": 53,
      "outputs": [
        {
          "output_type": "display_data",
          "data": {
            "text/plain": [
              "plot without title"
            ],
            "image/png": "[encoded data removed]"
          },
          "metadata": {
            "image/png": {
              "width": 720,
              "height": 480
            }
          }
        }
      ]
    },
    {
      "cell_type": "markdown",
      "source": [
        "#Box plots with replicates to show the normalized counts calculated by DESeq2"
      ],
      "metadata": {
        "id": "eXYLDS0l1i_q"
      }
    },
    {
      "cell_type": "code",
      "source": [
        "mat <- counts(se_bulk,normalized=TRUE)"
      ],
      "metadata": {
        "id": "Y8cGoOQf6GFv"
      },
      "execution_count": 54,
      "outputs": []
    },
    {
      "cell_type": "code",
      "source": [
        "colnames(mat) <- se_bulk$group"
      ],
      "metadata": {
        "id": "6P3ZTBCn2Acf"
      },
      "execution_count": 55,
      "outputs": []
    },
    {
      "cell_type": "code",
      "source": [
        "rownames(mat) <- rowData(se_bulk)$SYMBOL"
      ],
      "metadata": {
        "id": "MZ3hw3gjAOaF"
      },
      "execution_count": 56,
      "outputs": []
    },
    {
      "cell_type": "code",
      "source": [
        "genes_selected <- data.frame(t(mat[rownames(mat) %in% c('Maf','Smad3'),]))"
      ],
      "metadata": {
        "id": "-l8DKg-F2IHK"
      },
      "execution_count": 57,
      "outputs": []
    },
    {
      "cell_type": "code",
      "source": [
        "genes_selected$group <- se_bulk$group"
      ],
      "metadata": {
        "id": "8cljpSeG2nhg"
      },
      "execution_count": 58,
      "outputs": []
    },
    {
      "cell_type": "code",
      "source": [
        "unique(genes_selected$group)"
      ],
      "metadata": {
        "id": "OJ8vpQDFAhsd",
        "colab": {
          "base_uri": "https://localhost:8080/",
          "height": 53
        },
        "outputId": "8fee0301-a042-4a6d-a325-da06bc9d95a0"
      },
      "execution_count": 59,
      "outputs": [
        {
          "output_type": "display_data",
          "data": {
            "text/html": [
              "<style>\n",
              ".list-inline {list-style: none; margin:0; padding: 0}\n",
              ".list-inline>li {display: inline-block}\n",
              ".list-inline>li:not(:last-child)::after {content: \"\\00b7\"; padding: 0 .5ex}\n",
              "</style>\n",
              "<ol class=list-inline><li>ESCs</li><li>MEF</li><li>OKS_D0</li><li>OKS_D1</li><li>OKS_D3</li><li>OKS_D5</li><li>OKS_D7</li><li>OKS_cJun_D0</li><li>OKS_cJun_D1</li><li>OKS_cJun_D3</li><li>OKS_cJun_D7</li><li>iPS</li><li>OSK_shSap30_D7</li></ol>\n",
              "\n",
              "<details>\n",
              "\t<summary style=display:list-item;cursor:pointer>\n",
              "\t\t<strong>Levels</strong>:\n",
              "\t</summary>\n",
              "\t<style>\n",
              "\t.list-inline {list-style: none; margin:0; padding: 0}\n",
              "\t.list-inline>li {display: inline-block}\n",
              "\t.list-inline>li:not(:last-child)::after {content: \"\\00b7\"; padding: 0 .5ex}\n",
              "\t</style>\n",
              "\t<ol class=list-inline><li>'ESCs'</li><li>'iPS'</li><li>'MEF'</li><li>'OKS_cJun_D0'</li><li>'OKS_cJun_D1'</li><li>'OKS_cJun_D3'</li><li>'OKS_cJun_D7'</li><li>'OKS_D0'</li><li>'OKS_D1'</li><li>'OKS_D3'</li><li>'OKS_D5'</li><li>'OKS_D7'</li><li>'OSK_shSap30_D7'</li></ol>\n",
              "</details>"
            ],
            "text/markdown": "1. ESCs\n2. MEF\n3. OKS_D0\n4. OKS_D1\n5. OKS_D3\n6. OKS_D5\n7. OKS_D7\n8. OKS_cJun_D0\n9. OKS_cJun_D1\n10. OKS_cJun_D3\n11. OKS_cJun_D7\n12. iPS\n13. OSK_shSap30_D7\n\n\n\n**Levels**: 1. 'ESCs'\n2. 'iPS'\n3. 'MEF'\n4. 'OKS_cJun_D0'\n5. 'OKS_cJun_D1'\n6. 'OKS_cJun_D3'\n7. 'OKS_cJun_D7'\n8. 'OKS_D0'\n9. 'OKS_D1'\n10. 'OKS_D3'\n11. 'OKS_D5'\n12. 'OKS_D7'\n13. 'OSK_shSap30_D7'\n\n\n",
            "text/latex": "\\begin{enumerate*}\n\\item ESCs\n\\item MEF\n\\item OKS\\_D0\n\\item OKS\\_D1\n\\item OKS\\_D3\n\\item OKS\\_D5\n\\item OKS\\_D7\n\\item OKS\\_cJun\\_D0\n\\item OKS\\_cJun\\_D1\n\\item OKS\\_cJun\\_D3\n\\item OKS\\_cJun\\_D7\n\\item iPS\n\\item OSK\\_shSap30\\_D7\n\\end{enumerate*}\n\n\\emph{Levels}: \\begin{enumerate*}\n\\item 'ESCs'\n\\item 'iPS'\n\\item 'MEF'\n\\item 'OKS\\_cJun\\_D0'\n\\item 'OKS\\_cJun\\_D1'\n\\item 'OKS\\_cJun\\_D3'\n\\item 'OKS\\_cJun\\_D7'\n\\item 'OKS\\_D0'\n\\item 'OKS\\_D1'\n\\item 'OKS\\_D3'\n\\item 'OKS\\_D5'\n\\item 'OKS\\_D7'\n\\item 'OSK\\_shSap30\\_D7'\n\\end{enumerate*}\n",
            "text/plain": [
              " [1] ESCs           MEF            OKS_D0         OKS_D1         OKS_D3        \n",
              " [6] OKS_D5         OKS_D7         OKS_cJun_D0    OKS_cJun_D1    OKS_cJun_D3   \n",
              "[11] OKS_cJun_D7    iPS            OSK_shSap30_D7\n",
              "13 Levels: ESCs iPS MEF OKS_cJun_D0 OKS_cJun_D1 OKS_cJun_D3 ... OSK_shSap30_D7"
            ]
          },
          "metadata": {}
        }
      ]
    },
    {
      "cell_type": "code",
      "source": [
        "genes_selected <- genes_selected[genes_selected$group %in% c('MEF','OKS_D7'),]"
      ],
      "metadata": {
        "id": "0ddBdHKX2rkr"
      },
      "execution_count": 60,
      "outputs": []
    },
    {
      "cell_type": "code",
      "source": [
        "genes_selected"
      ],
      "metadata": {
        "id": "pV7xCcl36WcV",
        "colab": {
          "base_uri": "https://localhost:8080/",
          "height": 223
        },
        "outputId": "0401baa5-3c48-4a1f-8f66-880382da16b5"
      },
      "execution_count": 61,
      "outputs": [
        {
          "output_type": "display_data",
          "data": {
            "text/html": [
              "<table class=\"dataframe\">\n",
              "<caption>A data.frame: 4 × 3</caption>\n",
              "<thead>\n",
              "\t<tr><th></th><th scope=col>Maf</th><th scope=col>Smad3</th><th scope=col>group</th></tr>\n",
              "\t<tr><th></th><th scope=col>&lt;dbl&gt;</th><th scope=col>&lt;dbl&gt;</th><th scope=col>&lt;fct&gt;</th></tr>\n",
              "</thead>\n",
              "<tbody>\n",
              "\t<tr><th scope=row>MEF</th><td> 60.471000</td><td>443.1236</td><td>MEF   </td></tr>\n",
              "\t<tr><th scope=row>MEF.1</th><td>174.629643</td><td>339.3932</td><td>MEF   </td></tr>\n",
              "\t<tr><th scope=row>OKS_D7</th><td>  8.924387</td><td>227.0761</td><td>OKS_D7</td></tr>\n",
              "\t<tr><th scope=row>OKS_D7.1</th><td>  5.915184</td><td>207.0314</td><td>OKS_D7</td></tr>\n",
              "</tbody>\n",
              "</table>\n"
            ],
            "text/markdown": "\nA data.frame: 4 × 3\n\n| <!--/--> | Maf &lt;dbl&gt; | Smad3 &lt;dbl&gt; | group &lt;fct&gt; |\n|---|---|---|---|\n| MEF |  60.471000 | 443.1236 | MEF    |\n| MEF.1 | 174.629643 | 339.3932 | MEF    |\n| OKS_D7 |   8.924387 | 227.0761 | OKS_D7 |\n| OKS_D7.1 |   5.915184 | 207.0314 | OKS_D7 |\n\n",
            "text/latex": "A data.frame: 4 × 3\n\\begin{tabular}{r|lll}\n  & Maf & Smad3 & group\\\\\n  & <dbl> & <dbl> & <fct>\\\\\n\\hline\n\tMEF &  60.471000 & 443.1236 & MEF   \\\\\n\tMEF.1 & 174.629643 & 339.3932 & MEF   \\\\\n\tOKS\\_D7 &   8.924387 & 227.0761 & OKS\\_D7\\\\\n\tOKS\\_D7.1 &   5.915184 & 207.0314 & OKS\\_D7\\\\\n\\end{tabular}\n",
            "text/plain": [
              "         Maf        Smad3    group \n",
              "MEF       60.471000 443.1236 MEF   \n",
              "MEF.1    174.629643 339.3932 MEF   \n",
              "OKS_D7     8.924387 227.0761 OKS_D7\n",
              "OKS_D7.1   5.915184 207.0314 OKS_D7"
            ]
          },
          "metadata": {}
        }
      ]
    },
    {
      "cell_type": "code",
      "source": [
        "df_genes <- gather(genes_selected, \"genes\", \"normalized_counts\", -group)"
      ],
      "metadata": {
        "id": "oVPEC_6N4-NY"
      },
      "execution_count": 62,
      "outputs": []
    },
    {
      "cell_type": "markdown",
      "source": [
        "## Barplot for normalized read counts showing a decrease at D7 MEFs post OSK induction"
      ],
      "metadata": {
        "id": "stC16Pck9ctX"
      }
    },
    {
      "cell_type": "code",
      "source": [
        "options(repr.plot.width = 8, repr.plot.height = 10)\n",
        "df_genes %>%\n",
        "  ggplot(aes(group, normalized_counts, fill = group)) +\n",
        "  geom_bar(stat = 'identity', position = 'dodge') +\n",
        "  geom_jitter(size = 2) + \n",
        "  scale_fill_manual(values = c('lightgrey','lightgrey')) +\n",
        "  facet_grid(genes ~ ., scales = 'free') + \n",
        "  theme_linedraw()\n"
      ],
      "metadata": {
        "id": "KmBuUr2J5Ol2",
        "colab": {
          "base_uri": "https://localhost:8080/",
          "height": 617
        },
        "outputId": "1767e3ea-30b8-46be-952e-fda9d332169b"
      },
      "execution_count": 63,
      "outputs": [
        {
          "output_type": "display_data",
          "data": {
            "text/plain": [
              "plot without title"
            ],
            "image/png": "[encoded data removed]"
          },
          "metadata": {
            "image/png": {
              "width": 480,
              "height": 600
            }
          }
        }
      ]
    },
    {
      "cell_type": "code",
      "source": [
        "res[res$SYMBOL %in% c('Maf','Smad3'),]"
      ],
      "metadata": {
        "colab": {
          "base_uri": "https://localhost:8080/",
          "height": 217
        },
        "id": "OEVgMsWPGyg3",
        "outputId": "a606ed7d-1cdd-4887-b473-1d47b9d3db5f"
      },
      "execution_count": 66,
      "outputs": [
        {
          "output_type": "display_data",
          "data": {
            "text/plain": [
              "log2 fold change (MLE): group OKS_D7 vs MEF \n",
              "Wald test p-value: group OKS_D7 vs MEF \n",
              "DataFrame with 2 rows and 7 columns\n",
              "   baseMean log2FoldChange     lfcSE      stat      pvalue        padj\n",
              "  <numeric>      <numeric> <numeric> <numeric>   <numeric>   <numeric>\n",
              "1   34.2625      -3.986266  0.662245  -6.01932 1.75154e-09 2.27124e-08\n",
              "2  279.9890      -0.850028  0.152551  -5.57210 2.51692e-08 2.75121e-07\n",
              "       SYMBOL\n",
              "  <character>\n",
              "1         Maf\n",
              "2       Smad3"
            ]
          },
          "metadata": {}
        }
      ]
    },
    {
      "cell_type": "code",
      "metadata": {
        "id": "DLYh9wPhxed2",
        "colab": {
          "base_uri": "https://localhost:8080/",
          "height": 1000
        },
        "outputId": "8ab81aff-4239-4347-ab7b-4fba92329455"
      },
      "source": [
        "sessionInfo()"
      ],
      "execution_count": 64,
      "outputs": [
        {
          "output_type": "display_data",
          "data": {
            "text/plain": [
              "R version 4.1.3 (2022-03-10)\n",
              "Platform: x86_64-pc-linux-gnu (64-bit)\n",
              "Running under: Ubuntu 18.04.5 LTS\n",
              "\n",
              "Matrix products: default\n",
              "BLAS:   /usr/lib/x86_64-linux-gnu/openblas/libblas.so.3\n",
              "LAPACK: /usr/lib/x86_64-linux-gnu/libopenblasp-r0.2.20.so\n",
              "\n",
              "locale:\n",
              " [1] LC_CTYPE=en_US.UTF-8       LC_NUMERIC=C              \n",
              " [3] LC_TIME=en_US.UTF-8        LC_COLLATE=en_US.UTF-8    \n",
              " [5] LC_MONETARY=en_US.UTF-8    LC_MESSAGES=en_US.UTF-8   \n",
              " [7] LC_PAPER=en_US.UTF-8       LC_NAME=C                 \n",
              " [9] LC_ADDRESS=C               LC_TELEPHONE=C            \n",
              "[11] LC_MEASUREMENT=en_US.UTF-8 LC_IDENTIFICATION=C       \n",
              "\n",
              "attached base packages:\n",
              "[1] stats4    parallel  stats     graphics  grDevices utils     datasets \n",
              "[8] methods   base     \n",
              "\n",
              "other attached packages:\n",
              " [1] data.table_1.14.2                        \n",
              " [2] BSgenome.Mmusculus.UCSC.mm10_1.4.3       \n",
              " [3] BSgenome_1.62.0                          \n",
              " [4] rtracklayer_1.54.0                       \n",
              " [5] Biostrings_2.62.0                        \n",
              " [6] XVector_0.34.0                           \n",
              " [7] chromVARmotifs_0.2.0                     \n",
              " [8] motifmatchr_1.16.0                       \n",
              " [9] org.Mm.eg.db_3.14.0                      \n",
              "[10] TxDb.Mmusculus.UCSC.mm10.knownGene_3.10.0\n",
              "[11] GenomicFeatures_1.46.5                   \n",
              "[12] AnnotationDbi_1.56.2                     \n",
              "[13] clusterProfiler_4.2.2                    \n",
              "[14] ChIPseeker_1.31.4                        \n",
              "[15] DESeq2_1.34.0                            \n",
              "[16] SummarizedExperiment_1.24.0              \n",
              "[17] Biobase_2.54.0                           \n",
              "[18] MatrixGenerics_1.6.0                     \n",
              "[19] matrixStats_0.61.0                       \n",
              "[20] GenomicRanges_1.46.1                     \n",
              "[21] GenomeInfoDb_1.30.1                      \n",
              "[22] IRanges_2.28.0                           \n",
              "[23] S4Vectors_0.32.4                         \n",
              "[24] BiocGenerics_0.40.0                      \n",
              "[25] ggplot2_3.3.5                            \n",
              "[26] dplyr_1.0.8                              \n",
              "[27] tidyr_1.2.0                              \n",
              "\n",
              "loaded via a namespace (and not attached):\n",
              "  [1] utf8_1.2.2                             \n",
              "  [2] R.utils_2.11.0                         \n",
              "  [3] tidyselect_1.1.2                       \n",
              "  [4] poweRlaw_0.70.6                        \n",
              "  [5] RSQLite_2.2.12                         \n",
              "  [6] grid_4.1.3                             \n",
              "  [7] BiocParallel_1.28.3                    \n",
              "  [8] devtools_2.4.3                         \n",
              "  [9] scatterpie_0.1.7                       \n",
              " [10] munsell_0.5.0                          \n",
              " [11] pbdZMQ_0.3-7                           \n",
              " [12] withr_2.5.0                            \n",
              " [13] colorspace_2.0-3                       \n",
              " [14] GOSemSim_2.20.0                        \n",
              " [15] filelock_1.0.2                         \n",
              " [16] uuid_1.0-4                             \n",
              " [17] DOSE_3.20.1                            \n",
              " [18] labeling_0.4.2                         \n",
              " [19] repr_1.1.4                             \n",
              " [20] GenomeInfoDbData_1.2.7                 \n",
              " [21] polyclip_1.10-0                        \n",
              " [22] bit64_4.0.5                            \n",
              " [23] farver_2.1.0                           \n",
              " [24] rprojroot_2.0.3                        \n",
              " [25] downloader_0.4                         \n",
              " [26] vctrs_0.4.0                            \n",
              " [27] treeio_1.18.1                          \n",
              " [28] generics_0.1.2                         \n",
              " [29] BiocFileCache_2.2.1                    \n",
              " [30] R6_2.5.1                               \n",
              " [31] graphlayouts_0.8.0                     \n",
              " [32] locfit_1.5-9.5                         \n",
              " [33] bitops_1.0-7                           \n",
              " [34] cachem_1.0.6                           \n",
              " [35] fgsea_1.20.0                           \n",
              " [36] gridGraphics_0.5-1                     \n",
              " [37] DelayedArray_0.20.0                    \n",
              " [38] assertthat_0.2.1                       \n",
              " [39] BiocIO_1.4.0                           \n",
              " [40] scales_1.2.0                           \n",
              " [41] ggraph_2.0.5                           \n",
              " [42] enrichplot_1.13.1.992                  \n",
              " [43] gtable_0.3.0                           \n",
              " [44] processx_3.5.3                         \n",
              " [45] tidygraph_1.2.1                        \n",
              " [46] seqLogo_1.60.0                         \n",
              " [47] rlang_1.0.2                            \n",
              " [48] genefilter_1.76.0                      \n",
              " [49] splines_4.1.3                          \n",
              " [50] lazyeval_0.2.2                         \n",
              " [51] BiocManager_1.30.16                    \n",
              " [52] yaml_2.3.5                             \n",
              " [53] reshape2_1.4.4                         \n",
              " [54] qvalue_2.26.0                          \n",
              " [55] tools_4.1.3                            \n",
              " [56] usethis_2.1.5                          \n",
              " [57] ggplotify_0.1.0                        \n",
              " [58] ellipsis_0.3.2                         \n",
              " [59] gplots_3.1.1                           \n",
              " [60] RColorBrewer_1.1-3                     \n",
              " [61] sessioninfo_1.2.2                      \n",
              " [62] Rcpp_1.0.8.3                           \n",
              " [63] plyr_1.8.7                             \n",
              " [64] base64enc_0.1-3                        \n",
              " [65] progress_1.2.2                         \n",
              " [66] zlibbioc_1.40.0                        \n",
              " [67] purrr_0.3.4                            \n",
              " [68] RCurl_1.98-1.6                         \n",
              " [69] ps_1.6.0                               \n",
              " [70] prettyunits_1.1.1                      \n",
              " [71] viridis_0.6.2                          \n",
              " [72] ggrepel_0.9.1                          \n",
              " [73] fs_1.5.2                               \n",
              " [74] magrittr_2.0.3                         \n",
              " [75] DO.db_2.9                              \n",
              " [76] pkgload_1.2.4                          \n",
              " [77] hms_1.1.1                              \n",
              " [78] patchwork_1.1.1                        \n",
              " [79] evaluate_0.15                          \n",
              " [80] xtable_1.8-4                           \n",
              " [81] XML_3.99-0.9                           \n",
              " [82] gridExtra_2.3                          \n",
              " [83] testthat_3.1.3                         \n",
              " [84] compiler_4.1.3                         \n",
              " [85] biomaRt_2.50.3                         \n",
              " [86] tibble_3.1.6                           \n",
              " [87] KernSmooth_2.23-20                     \n",
              " [88] crayon_1.5.1                           \n",
              " [89] shadowtext_0.1.1                       \n",
              " [90] R.oo_1.24.0                            \n",
              " [91] htmltools_0.5.2                        \n",
              " [92] tzdb_0.3.0                             \n",
              " [93] ggfun_0.0.6                            \n",
              " [94] TFBSTools_1.32.0                       \n",
              " [95] geneplotter_1.72.0                     \n",
              " [96] aplot_0.1.3                            \n",
              " [97] DBI_1.1.2                              \n",
              " [98] tweenr_1.0.2                           \n",
              " [99] dbplyr_2.1.1                           \n",
              "[100] MASS_7.3-56                            \n",
              "[101] rappdirs_0.3.3                         \n",
              "[102] boot_1.3-28                            \n",
              "[103] readr_2.1.2                            \n",
              "[104] Matrix_1.4-1                           \n",
              "[105] brio_1.1.3                             \n",
              "[106] cli_3.2.0                              \n",
              "[107] R.methodsS3_1.8.1                      \n",
              "[108] igraph_1.3.0                           \n",
              "[109] pkgconfig_2.0.3                        \n",
              "[110] TxDb.Hsapiens.UCSC.hg19.knownGene_3.2.2\n",
              "[111] TFMPvalue_0.0.8                        \n",
              "[112] GenomicAlignments_1.30.0               \n",
              "[113] IRdisplay_1.1                          \n",
              "[114] xml2_1.3.3                             \n",
              "[115] ggtree_3.2.1                           \n",
              "[116] annotate_1.72.0                        \n",
              "[117] DirichletMultinomial_1.36.0            \n",
              "[118] yulab.utils_0.0.4                      \n",
              "[119] stringr_1.4.0                          \n",
              "[120] callr_3.7.0                            \n",
              "[121] digest_0.6.29                          \n",
              "[122] pracma_2.3.8                           \n",
              "[123] CNEr_1.30.0                            \n",
              "[124] fastmatch_1.1-3                        \n",
              "[125] tidytree_0.3.9                         \n",
              "[126] restfulr_0.0.13                        \n",
              "[127] curl_4.3.2                             \n",
              "[128] Rsamtools_2.10.0                       \n",
              "[129] gtools_3.9.2                           \n",
              "[130] rjson_0.2.21                           \n",
              "[131] lifecycle_1.0.1                        \n",
              "[132] nlme_3.1-157                           \n",
              "[133] jsonlite_1.8.0                         \n",
              "[134] desc_1.4.1                             \n",
              "[135] viridisLite_0.4.0                      \n",
              "[136] fansi_1.0.3                            \n",
              "[137] pillar_1.7.0                           \n",
              "[138] lattice_0.20-45                        \n",
              "[139] KEGGREST_1.34.0                        \n",
              "[140] fastmap_1.1.0                          \n",
              "[141] httr_1.4.2                             \n",
              "[142] plotrix_3.8-2                          \n",
              "[143] pkgbuild_1.3.1                         \n",
              "[144] survival_3.3-1                         \n",
              "[145] GO.db_3.14.0                           \n",
              "[146] glue_1.6.2                             \n",
              "[147] remotes_2.4.2                          \n",
              "[148] png_0.1-7                              \n",
              "[149] bit_4.0.4                              \n",
              "[150] ggforce_0.3.3                          \n",
              "[151] stringi_1.7.6                          \n",
              "[152] blob_1.2.3                             \n",
              "[153] caTools_1.18.2                         \n",
              "[154] memoise_2.0.1                          \n",
              "[155] IRkernel_1.3                           \n",
              "[156] ape_5.6-2                              "
            ]
          },
          "metadata": {}
        }
      ]
    },
    {
      "cell_type": "code",
      "metadata": {
        "id": "t8JLxMUeybHs",
        "colab": {
          "base_uri": "https://localhost:8080/",
          "height": 35
        },
        "outputId": "1f47d503-f94d-4274-c3d2-a3235788241e"
      },
      "source": [
        "Sys.time() - start_time0"
      ],
      "execution_count": 65,
      "outputs": [
        {
          "output_type": "display_data",
          "data": {
            "text/plain": [
              "Time difference of 36.85204 mins"
            ]
          },
          "metadata": {}
        }
      ]
    }
  ]
}