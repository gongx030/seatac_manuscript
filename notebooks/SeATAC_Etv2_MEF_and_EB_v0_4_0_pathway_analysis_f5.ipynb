{
  "nbformat": 4,
  "nbformat_minor": 0,
  "metadata": {
    "kernelspec": {
      "display_name": "R",
      "language": "R",
      "name": "ir"
    },
    "language_info": {
      "codemirror_mode": "r",
      "file_extension": ".r",
      "mimetype": "text/x-r-source",
      "name": "R",
      "pygments_lexer": "r",
      "version": "3.3.1"
    },
    "colab": {
      "name": "SeATAC_Etv2_MEF_and_EB_v0.4.0_pathway_analysis_f5.ipynb",
      "provenance": [],
      "collapsed_sections": [],
      "machine_shape": "hm",
      "include_colab_link": true
    }
  },
  "cells": [
    {
      "cell_type": "markdown",
      "metadata": {
        "id": "view-in-github",
        "colab_type": "text"
      },
      "source": [
        "<a href=\"https://colab.research.google.com/github/gongx030/seatac_manuscript/blob/main/SeATAC_Etv2_MEF_and_EB_v0_4_0_pathway_analysis_f5.ipynb\" target=\"_parent\"><img src=\"https://colab.research.google.com/assets/colab-badge.svg\" alt=\"Open In Colab\"/></a>"
      ]
    },
    {
      "cell_type": "markdown",
      "metadata": {
        "id": "M0jDe-m_5aq4"
      },
      "source": [
        "# Compare Up and Down regions in Nucleoatac, MACS2 and SeATAC between MEF and Flk1+ cells in Etv2 induced MEFs & EBs and Flk1+ cells in Etv2 induced EBs at day 2.5 through Pathway Analysis\n"
      ]
    },
    {
      "cell_type": "markdown",
      "source": [
        "This task runs on SeATAC `v0.4.0`"
      ],
      "metadata": {
        "id": "oi1drasoVjW4"
      }
    },
    {
      "cell_type": "code",
      "metadata": {
        "id": "6OhqEEeZHroa"
      },
      "source": [
        "start_time <- Sys.time()"
      ],
      "execution_count": 1,
      "outputs": []
    },
    {
      "cell_type": "markdown",
      "metadata": {
        "id": "obcf6pAcw6TQ"
      },
      "source": [
        "### Install external packages"
      ]
    },
    {
      "cell_type": "code",
      "metadata": {
        "id": "99vS8MZUxApi",
        "colab": {
          "base_uri": "https://localhost:8080/",
          "height": 260
        },
        "outputId": "916dab08-1cd6-4c8e-b62f-29fd73c5d509"
      },
      "source": [
        "system('apt-get -q install libgsl-dev', intern = TRUE)"
      ],
      "execution_count": 2,
      "outputs": [
        {
          "output_type": "display_data",
          "data": {
            "text/html": [
              "<style>\n",
              ".list-inline {list-style: none; margin:0; padding: 0}\n",
              ".list-inline>li {display: inline-block}\n",
              ".list-inline>li:not(:last-child)::after {content: \"\\00b7\"; padding: 0 .5ex}\n",
              "</style>\n",
              "<ol class=list-inline><li>'Reading package lists...'</li><li>'Building dependency tree...'</li><li>'Reading state information...'</li><li>'The following additional packages will be installed:'</li><li><span style=white-space:pre-wrap>'  libgsl23 libgslcblas0'</span></li><li>'Suggested packages:'</li><li><span style=white-space:pre-wrap>'  gsl-ref-psdoc | gsl-doc-pdf | gsl-doc-info | gsl-ref-html'</span></li><li>'The following NEW packages will be installed:'</li><li><span style=white-space:pre-wrap>'  libgsl-dev libgsl23 libgslcblas0'</span></li><li>'0 upgraded, 3 newly installed, 0 to remove and 39 not upgraded.'</li><li>'Need to get 1,926 kB of archives.'</li><li>'After this operation, 9,474 kB of additional disk space will be used.'</li><li>'Get:1 http://archive.ubuntu.com/ubuntu bionic/universe amd64 libgslcblas0 amd64 2.4+dfsg-6 [79.7 kB]'</li><li>'Get:2 http://archive.ubuntu.com/ubuntu bionic/universe amd64 libgsl23 amd64 2.4+dfsg-6 [823 kB]'</li><li>'Get:3 http://archive.ubuntu.com/ubuntu bionic/universe amd64 libgsl-dev amd64 2.4+dfsg-6 [1,023 kB]'</li><li>'Fetched 1,926 kB in 0s (13.4 MB/s)'</li><li>'Selecting previously unselected package libgslcblas0:amd64.\\r'</li><li>'(Reading database ... \\r(Reading database ... 5%\\r(Reading database ... 10%\\r(Reading database ... 15%\\r(Reading database ... 20%\\r(Reading database ... 25%\\r(Reading database ... 30%\\r(Reading database ... 35%\\r(Reading database ... 40%\\r(Reading database ... 45%\\r(Reading database ... 50%\\r(Reading database ... 55%\\r(Reading database ... 60%\\r(Reading database ... 65%\\r(Reading database ... 70%\\r(Reading database ... 75%\\r(Reading database ... 80%\\r(Reading database ... 85%\\r(Reading database ... 90%\\r(Reading database ... 95%\\r(Reading database ... 100%\\r(Reading database ... 155455 files and directories currently installed.)\\r'</li><li>'Preparing to unpack .../libgslcblas0_2.4+dfsg-6_amd64.deb ...\\r'</li><li>'Unpacking libgslcblas0:amd64 (2.4+dfsg-6) ...\\r'</li><li>'Selecting previously unselected package libgsl23:amd64.\\r'</li><li>'Preparing to unpack .../libgsl23_2.4+dfsg-6_amd64.deb ...\\r'</li><li>'Unpacking libgsl23:amd64 (2.4+dfsg-6) ...\\r'</li><li>'Selecting previously unselected package libgsl-dev.\\r'</li><li>'Preparing to unpack .../libgsl-dev_2.4+dfsg-6_amd64.deb ...\\r'</li><li>'Unpacking libgsl-dev (2.4+dfsg-6) ...\\r'</li><li>'Setting up libgslcblas0:amd64 (2.4+dfsg-6) ...\\r'</li><li>'Setting up libgsl23:amd64 (2.4+dfsg-6) ...\\r'</li><li>'Setting up libgsl-dev (2.4+dfsg-6) ...\\r'</li><li>'Processing triggers for man-db (2.8.3-2ubuntu0.1) ...\\r'</li><li>'Processing triggers for libc-bin (2.27-3ubuntu1.3) ...\\r'</li><li>'/sbin/ldconfig.real: /usr/local/lib/python3.7/dist-packages/ideep4py/lib/libmkldnn.so.0 is not a symbolic link\\r'</li><li>'\\r'</li></ol>\n"
            ],
            "text/markdown": "1. 'Reading package lists...'\n2. 'Building dependency tree...'\n3. 'Reading state information...'\n4. 'The following additional packages will be installed:'\n5. <span style=white-space:pre-wrap>'  libgsl23 libgslcblas0'</span>\n6. 'Suggested packages:'\n7. <span style=white-space:pre-wrap>'  gsl-ref-psdoc | gsl-doc-pdf | gsl-doc-info | gsl-ref-html'</span>\n8. 'The following NEW packages will be installed:'\n9. <span style=white-space:pre-wrap>'  libgsl-dev libgsl23 libgslcblas0'</span>\n10. '0 upgraded, 3 newly installed, 0 to remove and 39 not upgraded.'\n11. 'Need to get 1,926 kB of archives.'\n12. 'After this operation, 9,474 kB of additional disk space will be used.'\n13. 'Get:1 http://archive.ubuntu.com/ubuntu bionic/universe amd64 libgslcblas0 amd64 2.4+dfsg-6 [79.7 kB]'\n14. 'Get:2 http://archive.ubuntu.com/ubuntu bionic/universe amd64 libgsl23 amd64 2.4+dfsg-6 [823 kB]'\n15. 'Get:3 http://archive.ubuntu.com/ubuntu bionic/universe amd64 libgsl-dev amd64 2.4+dfsg-6 [1,023 kB]'\n16. 'Fetched 1,926 kB in 0s (13.4 MB/s)'\n17. 'Selecting previously unselected package libgslcblas0:amd64.\\r'\n18. '(Reading database ... \\r(Reading database ... 5%\\r(Reading database ... 10%\\r(Reading database ... 15%\\r(Reading database ... 20%\\r(Reading database ... 25%\\r(Reading database ... 30%\\r(Reading database ... 35%\\r(Reading database ... 40%\\r(Reading database ... 45%\\r(Reading database ... 50%\\r(Reading database ... 55%\\r(Reading database ... 60%\\r(Reading database ... 65%\\r(Reading database ... 70%\\r(Reading database ... 75%\\r(Reading database ... 80%\\r(Reading database ... 85%\\r(Reading database ... 90%\\r(Reading database ... 95%\\r(Reading database ... 100%\\r(Reading database ... 155455 files and directories currently installed.)\\r'\n19. 'Preparing to unpack .../libgslcblas0_2.4+dfsg-6_amd64.deb ...\\r'\n20. 'Unpacking libgslcblas0:amd64 (2.4+dfsg-6) ...\\r'\n21. 'Selecting previously unselected package libgsl23:amd64.\\r'\n22. 'Preparing to unpack .../libgsl23_2.4+dfsg-6_amd64.deb ...\\r'\n23. 'Unpacking libgsl23:amd64 (2.4+dfsg-6) ...\\r'\n24. 'Selecting previously unselected package libgsl-dev.\\r'\n25. 'Preparing to unpack .../libgsl-dev_2.4+dfsg-6_amd64.deb ...\\r'\n26. 'Unpacking libgsl-dev (2.4+dfsg-6) ...\\r'\n27. 'Setting up libgslcblas0:amd64 (2.4+dfsg-6) ...\\r'\n28. 'Setting up libgsl23:amd64 (2.4+dfsg-6) ...\\r'\n29. 'Setting up libgsl-dev (2.4+dfsg-6) ...\\r'\n30. 'Processing triggers for man-db (2.8.3-2ubuntu0.1) ...\\r'\n31. 'Processing triggers for libc-bin (2.27-3ubuntu1.3) ...\\r'\n32. '/sbin/ldconfig.real: /usr/local/lib/python3.7/dist-packages/ideep4py/lib/libmkldnn.so.0 is not a symbolic link\\r'\n33. '\\r'\n\n\n",
            "text/latex": "\\begin{enumerate*}\n\\item 'Reading package lists...'\n\\item 'Building dependency tree...'\n\\item 'Reading state information...'\n\\item 'The following additional packages will be installed:'\n\\item '  libgsl23 libgslcblas0'\n\\item 'Suggested packages:'\n\\item '  gsl-ref-psdoc \\textbar{} gsl-doc-pdf \\textbar{} gsl-doc-info \\textbar{} gsl-ref-html'\n\\item 'The following NEW packages will be installed:'\n\\item '  libgsl-dev libgsl23 libgslcblas0'\n\\item '0 upgraded, 3 newly installed, 0 to remove and 39 not upgraded.'\n\\item 'Need to get 1,926 kB of archives.'\n\\item 'After this operation, 9,474 kB of additional disk space will be used.'\n\\item 'Get:1 http://archive.ubuntu.com/ubuntu bionic/universe amd64 libgslcblas0 amd64 2.4+dfsg-6 {[}79.7 kB{]}'\n\\item 'Get:2 http://archive.ubuntu.com/ubuntu bionic/universe amd64 libgsl23 amd64 2.4+dfsg-6 {[}823 kB{]}'\n\\item 'Get:3 http://archive.ubuntu.com/ubuntu bionic/universe amd64 libgsl-dev amd64 2.4+dfsg-6 {[}1,023 kB{]}'\n\\item 'Fetched 1,926 kB in 0s (13.4 MB/s)'\n\\item 'Selecting previously unselected package libgslcblas0:amd64.\\textbackslash{}r'\n\\item '(Reading database ... \\textbackslash{}r(Reading database ... 5\\%\\textbackslash{}r(Reading database ... 10\\%\\textbackslash{}r(Reading database ... 15\\%\\textbackslash{}r(Reading database ... 20\\%\\textbackslash{}r(Reading database ... 25\\%\\textbackslash{}r(Reading database ... 30\\%\\textbackslash{}r(Reading database ... 35\\%\\textbackslash{}r(Reading database ... 40\\%\\textbackslash{}r(Reading database ... 45\\%\\textbackslash{}r(Reading database ... 50\\%\\textbackslash{}r(Reading database ... 55\\%\\textbackslash{}r(Reading database ... 60\\%\\textbackslash{}r(Reading database ... 65\\%\\textbackslash{}r(Reading database ... 70\\%\\textbackslash{}r(Reading database ... 75\\%\\textbackslash{}r(Reading database ... 80\\%\\textbackslash{}r(Reading database ... 85\\%\\textbackslash{}r(Reading database ... 90\\%\\textbackslash{}r(Reading database ... 95\\%\\textbackslash{}r(Reading database ... 100\\%\\textbackslash{}r(Reading database ... 155455 files and directories currently installed.)\\textbackslash{}r'\n\\item 'Preparing to unpack .../libgslcblas0\\_2.4+dfsg-6\\_amd64.deb ...\\textbackslash{}r'\n\\item 'Unpacking libgslcblas0:amd64 (2.4+dfsg-6) ...\\textbackslash{}r'\n\\item 'Selecting previously unselected package libgsl23:amd64.\\textbackslash{}r'\n\\item 'Preparing to unpack .../libgsl23\\_2.4+dfsg-6\\_amd64.deb ...\\textbackslash{}r'\n\\item 'Unpacking libgsl23:amd64 (2.4+dfsg-6) ...\\textbackslash{}r'\n\\item 'Selecting previously unselected package libgsl-dev.\\textbackslash{}r'\n\\item 'Preparing to unpack .../libgsl-dev\\_2.4+dfsg-6\\_amd64.deb ...\\textbackslash{}r'\n\\item 'Unpacking libgsl-dev (2.4+dfsg-6) ...\\textbackslash{}r'\n\\item 'Setting up libgslcblas0:amd64 (2.4+dfsg-6) ...\\textbackslash{}r'\n\\item 'Setting up libgsl23:amd64 (2.4+dfsg-6) ...\\textbackslash{}r'\n\\item 'Setting up libgsl-dev (2.4+dfsg-6) ...\\textbackslash{}r'\n\\item 'Processing triggers for man-db (2.8.3-2ubuntu0.1) ...\\textbackslash{}r'\n\\item 'Processing triggers for libc-bin (2.27-3ubuntu1.3) ...\\textbackslash{}r'\n\\item '/sbin/ldconfig.real: /usr/local/lib/python3.7/dist-packages/ideep4py/lib/libmkldnn.so.0 is not a symbolic link\\textbackslash{}r'\n\\item '\\textbackslash{}r'\n\\end{enumerate*}\n",
            "text/plain": [
              " [1] \"Reading package lists...\"                                                                                                                                                                                                                                                                                                                                                                                                                                                                                                                                                                                                                                      \n",
              " [2] \"Building dependency tree...\"                                                                                                                                                                                                                                                                                                                                                                                                                                                                                                                                                                                                                                   \n",
              " [3] \"Reading state information...\"                                                                                                                                                                                                                                                                                                                                                                                                                                                                                                                                                                                                                                  \n",
              " [4] \"The following additional packages will be installed:\"                                                                                                                                                                                                                                                                                                                                                                                                                                                                                                                                                                                                          \n",
              " [5] \"  libgsl23 libgslcblas0\"                                                                                                                                                                                                                                                                                                                                                                                                                                                                                                                                                                                                                                       \n",
              " [6] \"Suggested packages:\"                                                                                                                                                                                                                                                                                                                                                                                                                                                                                                                                                                                                                                           \n",
              " [7] \"  gsl-ref-psdoc | gsl-doc-pdf | gsl-doc-info | gsl-ref-html\"                                                                                                                                                                                                                                                                                                                                                                                                                                                                                                                                                                                                   \n",
              " [8] \"The following NEW packages will be installed:\"                                                                                                                                                                                                                                                                                                                                                                                                                                                                                                                                                                                                                 \n",
              " [9] \"  libgsl-dev libgsl23 libgslcblas0\"                                                                                                                                                                                                                                                                                                                                                                                                                                                                                                                                                                                                                            \n",
              "[10] \"0 upgraded, 3 newly installed, 0 to remove and 39 not upgraded.\"                                                                                                                                                                                                                                                                                                                                                                                                                                                                                                                                                                                               \n",
              "[11] \"Need to get 1,926 kB of archives.\"                                                                                                                                                                                                                                                                                                                                                                                                                                                                                                                                                                                                                             \n",
              "[12] \"After this operation, 9,474 kB of additional disk space will be used.\"                                                                                                                                                                                                                                                                                                                                                                                                                                                                                                                                                                                         \n",
              "[13] \"Get:1 http://archive.ubuntu.com/ubuntu bionic/universe amd64 libgslcblas0 amd64 2.4+dfsg-6 [79.7 kB]\"                                                                                                                                                                                                                                                                                                                                                                                                                                                                                                                                                          \n",
              "[14] \"Get:2 http://archive.ubuntu.com/ubuntu bionic/universe amd64 libgsl23 amd64 2.4+dfsg-6 [823 kB]\"                                                                                                                                                                                                                                                                                                                                                                                                                                                                                                                                                               \n",
              "[15] \"Get:3 http://archive.ubuntu.com/ubuntu bionic/universe amd64 libgsl-dev amd64 2.4+dfsg-6 [1,023 kB]\"                                                                                                                                                                                                                                                                                                                                                                                                                                                                                                                                                           \n",
              "[16] \"Fetched 1,926 kB in 0s (13.4 MB/s)\"                                                                                                                                                                                                                                                                                                                                                                                                                                                                                                                                                                                                                            \n",
              "[17] \"Selecting previously unselected package libgslcblas0:amd64.\\r\"                                                                                                                                                                                                                                                                                                                                                                                                                                                                                                                                                                                                 \n",
              "[18] \"(Reading database ... \\r(Reading database ... 5%\\r(Reading database ... 10%\\r(Reading database ... 15%\\r(Reading database ... 20%\\r(Reading database ... 25%\\r(Reading database ... 30%\\r(Reading database ... 35%\\r(Reading database ... 40%\\r(Reading database ... 45%\\r(Reading database ... 50%\\r(Reading database ... 55%\\r(Reading database ... 60%\\r(Reading database ... 65%\\r(Reading database ... 70%\\r(Reading database ... 75%\\r(Reading database ... 80%\\r(Reading database ... 85%\\r(Reading database ... 90%\\r(Reading database ... 95%\\r(Reading database ... 100%\\r(Reading database ... 155455 files and directories currently installed.)\\r\"\n",
              "[19] \"Preparing to unpack .../libgslcblas0_2.4+dfsg-6_amd64.deb ...\\r\"                                                                                                                                                                                                                                                                                                                                                                                                                                                                                                                                                                                               \n",
              "[20] \"Unpacking libgslcblas0:amd64 (2.4+dfsg-6) ...\\r\"                                                                                                                                                                                                                                                                                                                                                                                                                                                                                                                                                                                                               \n",
              "[21] \"Selecting previously unselected package libgsl23:amd64.\\r\"                                                                                                                                                                                                                                                                                                                                                                                                                                                                                                                                                                                                     \n",
              "[22] \"Preparing to unpack .../libgsl23_2.4+dfsg-6_amd64.deb ...\\r\"                                                                                                                                                                                                                                                                                                                                                                                                                                                                                                                                                                                                   \n",
              "[23] \"Unpacking libgsl23:amd64 (2.4+dfsg-6) ...\\r\"                                                                                                                                                                                                                                                                                                                                                                                                                                                                                                                                                                                                                   \n",
              "[24] \"Selecting previously unselected package libgsl-dev.\\r\"                                                                                                                                                                                                                                                                                                                                                                                                                                                                                                                                                                                                         \n",
              "[25] \"Preparing to unpack .../libgsl-dev_2.4+dfsg-6_amd64.deb ...\\r\"                                                                                                                                                                                                                                                                                                                                                                                                                                                                                                                                                                                                 \n",
              "[26] \"Unpacking libgsl-dev (2.4+dfsg-6) ...\\r\"                                                                                                                                                                                                                                                                                                                                                                                                                                                                                                                                                                                                                       \n",
              "[27] \"Setting up libgslcblas0:amd64 (2.4+dfsg-6) ...\\r\"                                                                                                                                                                                                                                                                                                                                                                                                                                                                                                                                                                                                              \n",
              "[28] \"Setting up libgsl23:amd64 (2.4+dfsg-6) ...\\r\"                                                                                                                                                                                                                                                                                                                                                                                                                                                                                                                                                                                                                  \n",
              "[29] \"Setting up libgsl-dev (2.4+dfsg-6) ...\\r\"                                                                                                                                                                                                                                                                                                                                                                                                                                                                                                                                                                                                                      \n",
              "[30] \"Processing triggers for man-db (2.8.3-2ubuntu0.1) ...\\r\"                                                                                                                                                                                                                                                                                                                                                                                                                                                                                                                                                                                                       \n",
              "[31] \"Processing triggers for libc-bin (2.27-3ubuntu1.3) ...\\r\"                                                                                                                                                                                                                                                                                                                                                                                                                                                                                                                                                                                                      \n",
              "[32] \"/sbin/ldconfig.real: /usr/local/lib/python3.7/dist-packages/ideep4py/lib/libmkldnn.so.0 is not a symbolic link\\r\"                                                                                                                                                                                                                                                                                                                                                                                                                                                                                                                                              \n",
              "[33] \"\\r\"                                                                                                                                                                                                                                                                                                                                                                                                                                                                                                                                                                                                                                                            "
            ]
          },
          "metadata": {}
        }
      ]
    },
    {
      "cell_type": "code",
      "metadata": {
        "id": "HgPXAFx1xZHE",
        "colab": {
          "base_uri": "https://localhost:8080/",
          "height": 347
        },
        "outputId": "a9dc6e98-241a-434c-9111-dedc5592b98d"
      },
      "source": [
        "system('apt-get install libcairo2-dev', intern = TRUE) # for Cairo package that is required by ComplexHeatmap package"
      ],
      "execution_count": 3,
      "outputs": [
        {
          "output_type": "display_data",
          "data": {
            "text/html": [
              "<style>\n",
              ".list-inline {list-style: none; margin:0; padding: 0}\n",
              ".list-inline>li {display: inline-block}\n",
              ".list-inline>li:not(:last-child)::after {content: \"\\00b7\"; padding: 0 .5ex}\n",
              "</style>\n",
              "<ol class=list-inline><li>'Reading package lists...'</li><li>'Building dependency tree...'</li><li>'Reading state information...'</li><li>'The following additional packages will be installed:'</li><li><span style=white-space:pre-wrap>'  libcairo-script-interpreter2 libpixman-1-dev libxcb-shm0-dev'</span></li><li>'Suggested packages:'</li><li><span style=white-space:pre-wrap>'  libcairo2-doc'</span></li><li>'The following NEW packages will be installed:'</li><li><span style=white-space:pre-wrap>'  libcairo-script-interpreter2 libcairo2-dev libpixman-1-dev libxcb-shm0-dev'</span></li><li>'0 upgraded, 4 newly installed, 0 to remove and 39 not upgraded.'</li><li>'Need to get 930 kB of archives.'</li><li>'After this operation, 3,986 kB of additional disk space will be used.'</li><li>'Get:1 http://archive.ubuntu.com/ubuntu bionic-updates/main amd64 libcairo-script-interpreter2 amd64 1.15.10-2ubuntu0.1 [53.5 kB]'</li><li>'Get:2 http://archive.ubuntu.com/ubuntu bionic/main amd64 libpixman-1-dev amd64 0.34.0-2 [244 kB]'</li><li>'Get:3 http://archive.ubuntu.com/ubuntu bionic-updates/main amd64 libxcb-shm0-dev amd64 1.13-2~ubuntu18.04 [6,684 B]'</li><li>'Get:4 http://archive.ubuntu.com/ubuntu bionic-updates/main amd64 libcairo2-dev amd64 1.15.10-2ubuntu0.1 [626 kB]'</li><li>'Fetched 930 kB in 1s (1,313 kB/s)'</li><li>'Selecting previously unselected package libcairo-script-interpreter2:amd64.\\r'</li><li>'(Reading database ... \\r(Reading database ... 5%\\r(Reading database ... 10%\\r(Reading database ... 15%\\r(Reading database ... 20%\\r(Reading database ... 25%\\r(Reading database ... 30%\\r(Reading database ... 35%\\r(Reading database ... 40%\\r(Reading database ... 45%\\r(Reading database ... 50%\\r(Reading database ... 55%\\r(Reading database ... 60%\\r(Reading database ... 65%\\r(Reading database ... 70%\\r(Reading database ... 75%\\r(Reading database ... 80%\\r(Reading database ... 85%\\r(Reading database ... 90%\\r(Reading database ... 95%\\r(Reading database ... 100%\\r(Reading database ... 155727 files and directories currently installed.)\\r'</li><li>'Preparing to unpack .../libcairo-script-interpreter2_1.15.10-2ubuntu0.1_amd64.deb ...\\r'</li><li>'Unpacking libcairo-script-interpreter2:amd64 (1.15.10-2ubuntu0.1) ...\\r'</li><li>'Selecting previously unselected package libpixman-1-dev:amd64.\\r'</li><li>'Preparing to unpack .../libpixman-1-dev_0.34.0-2_amd64.deb ...\\r'</li><li>'Unpacking libpixman-1-dev:amd64 (0.34.0-2) ...\\r'</li><li>'Selecting previously unselected package libxcb-shm0-dev:amd64.\\r'</li><li>'Preparing to unpack .../libxcb-shm0-dev_1.13-2~ubuntu18.04_amd64.deb ...\\r'</li><li>'Unpacking libxcb-shm0-dev:amd64 (1.13-2~ubuntu18.04) ...\\r'</li><li>'Selecting previously unselected package libcairo2-dev:amd64.\\r'</li><li>'Preparing to unpack .../libcairo2-dev_1.15.10-2ubuntu0.1_amd64.deb ...\\r'</li><li>'Unpacking libcairo2-dev:amd64 (1.15.10-2ubuntu0.1) ...\\r'</li><li>'Setting up libcairo-script-interpreter2:amd64 (1.15.10-2ubuntu0.1) ...\\r'</li><li>'Setting up libxcb-shm0-dev:amd64 (1.13-2~ubuntu18.04) ...\\r'</li><li>'Setting up libpixman-1-dev:amd64 (0.34.0-2) ...\\r'</li><li>'Setting up libcairo2-dev:amd64 (1.15.10-2ubuntu0.1) ...\\r'</li><li>'Processing triggers for libc-bin (2.27-3ubuntu1.3) ...\\r'</li><li>'/sbin/ldconfig.real: /usr/local/lib/python3.7/dist-packages/ideep4py/lib/libmkldnn.so.0 is not a symbolic link\\r'</li><li>'\\r'</li></ol>\n"
            ],
            "text/markdown": "1. 'Reading package lists...'\n2. 'Building dependency tree...'\n3. 'Reading state information...'\n4. 'The following additional packages will be installed:'\n5. <span style=white-space:pre-wrap>'  libcairo-script-interpreter2 libpixman-1-dev libxcb-shm0-dev'</span>\n6. 'Suggested packages:'\n7. <span style=white-space:pre-wrap>'  libcairo2-doc'</span>\n8. 'The following NEW packages will be installed:'\n9. <span style=white-space:pre-wrap>'  libcairo-script-interpreter2 libcairo2-dev libpixman-1-dev libxcb-shm0-dev'</span>\n10. '0 upgraded, 4 newly installed, 0 to remove and 39 not upgraded.'\n11. 'Need to get 930 kB of archives.'\n12. 'After this operation, 3,986 kB of additional disk space will be used.'\n13. 'Get:1 http://archive.ubuntu.com/ubuntu bionic-updates/main amd64 libcairo-script-interpreter2 amd64 1.15.10-2ubuntu0.1 [53.5 kB]'\n14. 'Get:2 http://archive.ubuntu.com/ubuntu bionic/main amd64 libpixman-1-dev amd64 0.34.0-2 [244 kB]'\n15. 'Get:3 http://archive.ubuntu.com/ubuntu bionic-updates/main amd64 libxcb-shm0-dev amd64 1.13-2~ubuntu18.04 [6,684 B]'\n16. 'Get:4 http://archive.ubuntu.com/ubuntu bionic-updates/main amd64 libcairo2-dev amd64 1.15.10-2ubuntu0.1 [626 kB]'\n17. 'Fetched 930 kB in 1s (1,313 kB/s)'\n18. 'Selecting previously unselected package libcairo-script-interpreter2:amd64.\\r'\n19. '(Reading database ... \\r(Reading database ... 5%\\r(Reading database ... 10%\\r(Reading database ... 15%\\r(Reading database ... 20%\\r(Reading database ... 25%\\r(Reading database ... 30%\\r(Reading database ... 35%\\r(Reading database ... 40%\\r(Reading database ... 45%\\r(Reading database ... 50%\\r(Reading database ... 55%\\r(Reading database ... 60%\\r(Reading database ... 65%\\r(Reading database ... 70%\\r(Reading database ... 75%\\r(Reading database ... 80%\\r(Reading database ... 85%\\r(Reading database ... 90%\\r(Reading database ... 95%\\r(Reading database ... 100%\\r(Reading database ... 155727 files and directories currently installed.)\\r'\n20. 'Preparing to unpack .../libcairo-script-interpreter2_1.15.10-2ubuntu0.1_amd64.deb ...\\r'\n21. 'Unpacking libcairo-script-interpreter2:amd64 (1.15.10-2ubuntu0.1) ...\\r'\n22. 'Selecting previously unselected package libpixman-1-dev:amd64.\\r'\n23. 'Preparing to unpack .../libpixman-1-dev_0.34.0-2_amd64.deb ...\\r'\n24. 'Unpacking libpixman-1-dev:amd64 (0.34.0-2) ...\\r'\n25. 'Selecting previously unselected package libxcb-shm0-dev:amd64.\\r'\n26. 'Preparing to unpack .../libxcb-shm0-dev_1.13-2~ubuntu18.04_amd64.deb ...\\r'\n27. 'Unpacking libxcb-shm0-dev:amd64 (1.13-2~ubuntu18.04) ...\\r'\n28. 'Selecting previously unselected package libcairo2-dev:amd64.\\r'\n29. 'Preparing to unpack .../libcairo2-dev_1.15.10-2ubuntu0.1_amd64.deb ...\\r'\n30. 'Unpacking libcairo2-dev:amd64 (1.15.10-2ubuntu0.1) ...\\r'\n31. 'Setting up libcairo-script-interpreter2:amd64 (1.15.10-2ubuntu0.1) ...\\r'\n32. 'Setting up libxcb-shm0-dev:amd64 (1.13-2~ubuntu18.04) ...\\r'\n33. 'Setting up libpixman-1-dev:amd64 (0.34.0-2) ...\\r'\n34. 'Setting up libcairo2-dev:amd64 (1.15.10-2ubuntu0.1) ...\\r'\n35. 'Processing triggers for libc-bin (2.27-3ubuntu1.3) ...\\r'\n36. '/sbin/ldconfig.real: /usr/local/lib/python3.7/dist-packages/ideep4py/lib/libmkldnn.so.0 is not a symbolic link\\r'\n37. '\\r'\n\n\n",
            "text/latex": "\\begin{enumerate*}\n\\item 'Reading package lists...'\n\\item 'Building dependency tree...'\n\\item 'Reading state information...'\n\\item 'The following additional packages will be installed:'\n\\item '  libcairo-script-interpreter2 libpixman-1-dev libxcb-shm0-dev'\n\\item 'Suggested packages:'\n\\item '  libcairo2-doc'\n\\item 'The following NEW packages will be installed:'\n\\item '  libcairo-script-interpreter2 libcairo2-dev libpixman-1-dev libxcb-shm0-dev'\n\\item '0 upgraded, 4 newly installed, 0 to remove and 39 not upgraded.'\n\\item 'Need to get 930 kB of archives.'\n\\item 'After this operation, 3,986 kB of additional disk space will be used.'\n\\item 'Get:1 http://archive.ubuntu.com/ubuntu bionic-updates/main amd64 libcairo-script-interpreter2 amd64 1.15.10-2ubuntu0.1 {[}53.5 kB{]}'\n\\item 'Get:2 http://archive.ubuntu.com/ubuntu bionic/main amd64 libpixman-1-dev amd64 0.34.0-2 {[}244 kB{]}'\n\\item 'Get:3 http://archive.ubuntu.com/ubuntu bionic-updates/main amd64 libxcb-shm0-dev amd64 1.13-2\\textasciitilde{}ubuntu18.04 {[}6,684 B{]}'\n\\item 'Get:4 http://archive.ubuntu.com/ubuntu bionic-updates/main amd64 libcairo2-dev amd64 1.15.10-2ubuntu0.1 {[}626 kB{]}'\n\\item 'Fetched 930 kB in 1s (1,313 kB/s)'\n\\item 'Selecting previously unselected package libcairo-script-interpreter2:amd64.\\textbackslash{}r'\n\\item '(Reading database ... \\textbackslash{}r(Reading database ... 5\\%\\textbackslash{}r(Reading database ... 10\\%\\textbackslash{}r(Reading database ... 15\\%\\textbackslash{}r(Reading database ... 20\\%\\textbackslash{}r(Reading database ... 25\\%\\textbackslash{}r(Reading database ... 30\\%\\textbackslash{}r(Reading database ... 35\\%\\textbackslash{}r(Reading database ... 40\\%\\textbackslash{}r(Reading database ... 45\\%\\textbackslash{}r(Reading database ... 50\\%\\textbackslash{}r(Reading database ... 55\\%\\textbackslash{}r(Reading database ... 60\\%\\textbackslash{}r(Reading database ... 65\\%\\textbackslash{}r(Reading database ... 70\\%\\textbackslash{}r(Reading database ... 75\\%\\textbackslash{}r(Reading database ... 80\\%\\textbackslash{}r(Reading database ... 85\\%\\textbackslash{}r(Reading database ... 90\\%\\textbackslash{}r(Reading database ... 95\\%\\textbackslash{}r(Reading database ... 100\\%\\textbackslash{}r(Reading database ... 155727 files and directories currently installed.)\\textbackslash{}r'\n\\item 'Preparing to unpack .../libcairo-script-interpreter2\\_1.15.10-2ubuntu0.1\\_amd64.deb ...\\textbackslash{}r'\n\\item 'Unpacking libcairo-script-interpreter2:amd64 (1.15.10-2ubuntu0.1) ...\\textbackslash{}r'\n\\item 'Selecting previously unselected package libpixman-1-dev:amd64.\\textbackslash{}r'\n\\item 'Preparing to unpack .../libpixman-1-dev\\_0.34.0-2\\_amd64.deb ...\\textbackslash{}r'\n\\item 'Unpacking libpixman-1-dev:amd64 (0.34.0-2) ...\\textbackslash{}r'\n\\item 'Selecting previously unselected package libxcb-shm0-dev:amd64.\\textbackslash{}r'\n\\item 'Preparing to unpack .../libxcb-shm0-dev\\_1.13-2\\textasciitilde{}ubuntu18.04\\_amd64.deb ...\\textbackslash{}r'\n\\item 'Unpacking libxcb-shm0-dev:amd64 (1.13-2\\textasciitilde{}ubuntu18.04) ...\\textbackslash{}r'\n\\item 'Selecting previously unselected package libcairo2-dev:amd64.\\textbackslash{}r'\n\\item 'Preparing to unpack .../libcairo2-dev\\_1.15.10-2ubuntu0.1\\_amd64.deb ...\\textbackslash{}r'\n\\item 'Unpacking libcairo2-dev:amd64 (1.15.10-2ubuntu0.1) ...\\textbackslash{}r'\n\\item 'Setting up libcairo-script-interpreter2:amd64 (1.15.10-2ubuntu0.1) ...\\textbackslash{}r'\n\\item 'Setting up libxcb-shm0-dev:amd64 (1.13-2\\textasciitilde{}ubuntu18.04) ...\\textbackslash{}r'\n\\item 'Setting up libpixman-1-dev:amd64 (0.34.0-2) ...\\textbackslash{}r'\n\\item 'Setting up libcairo2-dev:amd64 (1.15.10-2ubuntu0.1) ...\\textbackslash{}r'\n\\item 'Processing triggers for libc-bin (2.27-3ubuntu1.3) ...\\textbackslash{}r'\n\\item '/sbin/ldconfig.real: /usr/local/lib/python3.7/dist-packages/ideep4py/lib/libmkldnn.so.0 is not a symbolic link\\textbackslash{}r'\n\\item '\\textbackslash{}r'\n\\end{enumerate*}\n",
            "text/plain": [
              " [1] \"Reading package lists...\"                                                                                                                                                                                                                                                                                                                                                                                                                                                                                                                                                                                                                                      \n",
              " [2] \"Building dependency tree...\"                                                                                                                                                                                                                                                                                                                                                                                                                                                                                                                                                                                                                                   \n",
              " [3] \"Reading state information...\"                                                                                                                                                                                                                                                                                                                                                                                                                                                                                                                                                                                                                                  \n",
              " [4] \"The following additional packages will be installed:\"                                                                                                                                                                                                                                                                                                                                                                                                                                                                                                                                                                                                          \n",
              " [5] \"  libcairo-script-interpreter2 libpixman-1-dev libxcb-shm0-dev\"                                                                                                                                                                                                                                                                                                                                                                                                                                                                                                                                                                                                \n",
              " [6] \"Suggested packages:\"                                                                                                                                                                                                                                                                                                                                                                                                                                                                                                                                                                                                                                           \n",
              " [7] \"  libcairo2-doc\"                                                                                                                                                                                                                                                                                                                                                                                                                                                                                                                                                                                                                                               \n",
              " [8] \"The following NEW packages will be installed:\"                                                                                                                                                                                                                                                                                                                                                                                                                                                                                                                                                                                                                 \n",
              " [9] \"  libcairo-script-interpreter2 libcairo2-dev libpixman-1-dev libxcb-shm0-dev\"                                                                                                                                                                                                                                                                                                                                                                                                                                                                                                                                                                                  \n",
              "[10] \"0 upgraded, 4 newly installed, 0 to remove and 39 not upgraded.\"                                                                                                                                                                                                                                                                                                                                                                                                                                                                                                                                                                                               \n",
              "[11] \"Need to get 930 kB of archives.\"                                                                                                                                                                                                                                                                                                                                                                                                                                                                                                                                                                                                                               \n",
              "[12] \"After this operation, 3,986 kB of additional disk space will be used.\"                                                                                                                                                                                                                                                                                                                                                                                                                                                                                                                                                                                         \n",
              "[13] \"Get:1 http://archive.ubuntu.com/ubuntu bionic-updates/main amd64 libcairo-script-interpreter2 amd64 1.15.10-2ubuntu0.1 [53.5 kB]\"                                                                                                                                                                                                                                                                                                                                                                                                                                                                                                                              \n",
              "[14] \"Get:2 http://archive.ubuntu.com/ubuntu bionic/main amd64 libpixman-1-dev amd64 0.34.0-2 [244 kB]\"                                                                                                                                                                                                                                                                                                                                                                                                                                                                                                                                                              \n",
              "[15] \"Get:3 http://archive.ubuntu.com/ubuntu bionic-updates/main amd64 libxcb-shm0-dev amd64 1.13-2~ubuntu18.04 [6,684 B]\"                                                                                                                                                                                                                                                                                                                                                                                                                                                                                                                                           \n",
              "[16] \"Get:4 http://archive.ubuntu.com/ubuntu bionic-updates/main amd64 libcairo2-dev amd64 1.15.10-2ubuntu0.1 [626 kB]\"                                                                                                                                                                                                                                                                                                                                                                                                                                                                                                                                              \n",
              "[17] \"Fetched 930 kB in 1s (1,313 kB/s)\"                                                                                                                                                                                                                                                                                                                                                                                                                                                                                                                                                                                                                             \n",
              "[18] \"Selecting previously unselected package libcairo-script-interpreter2:amd64.\\r\"                                                                                                                                                                                                                                                                                                                                                                                                                                                                                                                                                                                 \n",
              "[19] \"(Reading database ... \\r(Reading database ... 5%\\r(Reading database ... 10%\\r(Reading database ... 15%\\r(Reading database ... 20%\\r(Reading database ... 25%\\r(Reading database ... 30%\\r(Reading database ... 35%\\r(Reading database ... 40%\\r(Reading database ... 45%\\r(Reading database ... 50%\\r(Reading database ... 55%\\r(Reading database ... 60%\\r(Reading database ... 65%\\r(Reading database ... 70%\\r(Reading database ... 75%\\r(Reading database ... 80%\\r(Reading database ... 85%\\r(Reading database ... 90%\\r(Reading database ... 95%\\r(Reading database ... 100%\\r(Reading database ... 155727 files and directories currently installed.)\\r\"\n",
              "[20] \"Preparing to unpack .../libcairo-script-interpreter2_1.15.10-2ubuntu0.1_amd64.deb ...\\r\"                                                                                                                                                                                                                                                                                                                                                                                                                                                                                                                                                                       \n",
              "[21] \"Unpacking libcairo-script-interpreter2:amd64 (1.15.10-2ubuntu0.1) ...\\r\"                                                                                                                                                                                                                                                                                                                                                                                                                                                                                                                                                                                       \n",
              "[22] \"Selecting previously unselected package libpixman-1-dev:amd64.\\r\"                                                                                                                                                                                                                                                                                                                                                                                                                                                                                                                                                                                              \n",
              "[23] \"Preparing to unpack .../libpixman-1-dev_0.34.0-2_amd64.deb ...\\r\"                                                                                                                                                                                                                                                                                                                                                                                                                                                                                                                                                                                              \n",
              "[24] \"Unpacking libpixman-1-dev:amd64 (0.34.0-2) ...\\r\"                                                                                                                                                                                                                                                                                                                                                                                                                                                                                                                                                                                                              \n",
              "[25] \"Selecting previously unselected package libxcb-shm0-dev:amd64.\\r\"                                                                                                                                                                                                                                                                                                                                                                                                                                                                                                                                                                                              \n",
              "[26] \"Preparing to unpack .../libxcb-shm0-dev_1.13-2~ubuntu18.04_amd64.deb ...\\r\"                                                                                                                                                                                                                                                                                                                                                                                                                                                                                                                                                                                    \n",
              "[27] \"Unpacking libxcb-shm0-dev:amd64 (1.13-2~ubuntu18.04) ...\\r\"                                                                                                                                                                                                                                                                                                                                                                                                                                                                                                                                                                                                    \n",
              "[28] \"Selecting previously unselected package libcairo2-dev:amd64.\\r\"                                                                                                                                                                                                                                                                                                                                                                                                                                                                                                                                                                                                \n",
              "[29] \"Preparing to unpack .../libcairo2-dev_1.15.10-2ubuntu0.1_amd64.deb ...\\r\"                                                                                                                                                                                                                                                                                                                                                                                                                                                                                                                                                                                      \n",
              "[30] \"Unpacking libcairo2-dev:amd64 (1.15.10-2ubuntu0.1) ...\\r\"                                                                                                                                                                                                                                                                                                                                                                                                                                                                                                                                                                                                      \n",
              "[31] \"Setting up libcairo-script-interpreter2:amd64 (1.15.10-2ubuntu0.1) ...\\r\"                                                                                                                                                                                                                                                                                                                                                                                                                                                                                                                                                                                      \n",
              "[32] \"Setting up libxcb-shm0-dev:amd64 (1.13-2~ubuntu18.04) ...\\r\"                                                                                                                                                                                                                                                                                                                                                                                                                                                                                                                                                                                                   \n",
              "[33] \"Setting up libpixman-1-dev:amd64 (0.34.0-2) ...\\r\"                                                                                                                                                                                                                                                                                                                                                                                                                                                                                                                                                                                                             \n",
              "[34] \"Setting up libcairo2-dev:amd64 (1.15.10-2ubuntu0.1) ...\\r\"                                                                                                                                                                                                                                                                                                                                                                                                                                                                                                                                                                                                     \n",
              "[35] \"Processing triggers for libc-bin (2.27-3ubuntu1.3) ...\\r\"                                                                                                                                                                                                                                                                                                                                                                                                                                                                                                                                                                                                      \n",
              "[36] \"/sbin/ldconfig.real: /usr/local/lib/python3.7/dist-packages/ideep4py/lib/libmkldnn.so.0 is not a symbolic link\\r\"                                                                                                                                                                                                                                                                                                                                                                                                                                                                                                                                              \n",
              "[37] \"\\r\"                                                                                                                                                                                                                                                                                                                                                                                                                                                                                                                                                                                                                                                            "
            ]
          },
          "metadata": {}
        }
      ]
    },
    {
      "cell_type": "markdown",
      "metadata": {
        "id": "uY3cIu62WZd0"
      },
      "source": [
        "### Install R packages from CRAN"
      ]
    },
    {
      "cell_type": "code",
      "metadata": {
        "colab": {
          "base_uri": "https://localhost:8080/"
        },
        "id": "yfBnWIqfWZd0",
        "outputId": "b57a3489-733d-4c47-cbf5-f8e3e3a07d74"
      },
      "source": [
        "install.packages('BiocManager')"
      ],
      "execution_count": 4,
      "outputs": [
        {
          "output_type": "stream",
          "name": "stderr",
          "text": [
            "Installing package into ‘/usr/local/lib/R/site-library’\n",
            "(as ‘lib’ is unspecified)\n",
            "\n"
          ]
        }
      ]
    },
    {
      "cell_type": "code",
      "metadata": {
        "id": "e5KbNCmTWZd0"
      },
      "source": [
        "required_packages <- c(\n",
        "  \"GenomicAlignments\",\n",
        "  'BSgenome.Mmusculus.UCSC.mm10',\n",
        "  'motifmatchr',\n",
        "  'uwot',\n",
        "  'igraph',\n",
        "  'VennDiagram',\n",
        "  'patchwork',\n",
        "  'TxDb.Mmusculus.UCSC.mm10.knownGene',\n",
        "  'org.Mm.eg.db',\n",
        "  'clusterProfiler'\n",
        " )"
      ],
      "execution_count": 5,
      "outputs": []
    },
    {
      "cell_type": "code",
      "metadata": {
        "id": "FzhTYT3EWZd0",
        "colab": {
          "base_uri": "https://localhost:8080/"
        },
        "outputId": "9692c07c-e53d-434f-cff6-27bceca5580d"
      },
      "source": [
        "missing_packages <- required_packages[!required_packages %in% rownames(installed.packages())]\n",
        "if (length(missing_packages) > 0){\n",
        "    BiocManager::install(missing_packages)\n",
        "}"
      ],
      "execution_count": 6,
      "outputs": [
        {
          "output_type": "stream",
          "name": "stderr",
          "text": [
            "'getOption(\"repos\")' replaces Bioconductor standard repositories, see\n",
            "'?repositories' for details\n",
            "\n",
            "replacement repositories:\n",
            "    CRAN: https://cran.rstudio.com\n",
            "\n",
            "\n",
            "Bioconductor version 3.14 (BiocManager 1.30.16), R 4.1.3 (2022-03-10)\n",
            "\n",
            "Installing package(s) 'BiocVersion', 'GenomicAlignments',\n",
            "  'BSgenome.Mmusculus.UCSC.mm10', 'motifmatchr', 'uwot', 'igraph',\n",
            "  'VennDiagram', 'patchwork', 'TxDb.Mmusculus.UCSC.mm10.knownGene',\n",
            "  'org.Mm.eg.db', 'clusterProfiler'\n",
            "\n",
            "also installing the dependencies ‘rjson’, ‘pracma’, ‘xtable’, ‘R.oo’, ‘R.methodsS3’, ‘filelock’, ‘gridGraphics’, ‘tweenr’, ‘polyclip’, ‘lazyeval’, ‘restfulr’, ‘poweRlaw’, ‘annotate’, ‘R.utils’, ‘plogr’, ‘formatR’, ‘BiocFileCache’, ‘png’, ‘gridExtra’, ‘fastmatch’, ‘ggfun’, ‘ggplotify’, ‘ggforce’, ‘ggrepel’, ‘viridis’, ‘tidygraph’, ‘graphlayouts’, ‘ape’, ‘tidytree’, ‘treeio’, ‘RCurl’, ‘GenomeInfoDbData’, ‘XVector’, ‘MatrixGenerics’, ‘Biobase’, ‘DelayedArray’, ‘zlibbioc’, ‘bitops’, ‘Rhtslib’, ‘snow’, ‘BH’, ‘rtracklayer’, ‘matrixStats’, ‘caTools’, ‘CNEr’, ‘DirichletMultinomial’, ‘gtools’, ‘RSQLite’, ‘seqLogo’, ‘TFMPvalue’, ‘XML’, ‘RcppEigen’, ‘sitmo’, ‘lambda.r’, ‘futile.options’, ‘BiocIO’, ‘biomaRt’, ‘KEGGREST’, ‘DO.db’, ‘fgsea’, ‘reshape2’, ‘aplot’, ‘ggraph’, ‘scatterpie’, ‘shadowtext’, ‘ggtree’, ‘BiocGenerics’, ‘S4Vectors’, ‘IRanges’, ‘GenomeInfoDb’, ‘GenomicRanges’, ‘SummarizedExperiment’, ‘Biostrings’, ‘Rsamtools’, ‘BiocParallel’, ‘BSgenome’, ‘Rcpp’, ‘TFBSTools’, ‘RcppArmadillo’, ‘FNN’, ‘RSpectra’, ‘RcppAnnoy’, ‘irlba’, ‘RcppProgress’, ‘dqrng’, ‘futile.logger’, ‘GenomicFeatures’, ‘AnnotationDbi’, ‘downloader’, ‘DOSE’, ‘enrichplot’, ‘GO.db’, ‘GOSemSim’, ‘plyr’, ‘qvalue’, ‘yulab.utils’\n",
            "\n",
            "\n",
            "Old packages: 'blob', 'broom', 'haven', 'RColorBrewer', 'scales', 'vctrs'\n",
            "\n"
          ]
        }
      ]
    },
    {
      "cell_type": "code",
      "metadata": {
        "id": "BMptTKnyWZd1",
        "colab": {
          "base_uri": "https://localhost:8080/"
        },
        "outputId": "2b178b80-1af4-479f-df55-1e3a31bdfa62"
      },
      "source": [
        "library(devtools)"
      ],
      "execution_count": 7,
      "outputs": [
        {
          "output_type": "stream",
          "name": "stderr",
          "text": [
            "Loading required package: usethis\n",
            "\n"
          ]
        }
      ]
    },
    {
      "cell_type": "markdown",
      "metadata": {
        "id": "KHjoODrS2hKo"
      },
      "source": [
        "### Install R packages from github"
      ]
    },
    {
      "cell_type": "code",
      "metadata": {
        "id": "30uvd1_Nrpy_",
        "colab": {
          "base_uri": "https://localhost:8080/"
        },
        "outputId": "bd7ac0b3-5072-4435-903b-4b60ff47404a"
      },
      "source": [
        "install_github(\"GreenleafLab/chromVARmotifs\")"
      ],
      "execution_count": 8,
      "outputs": [
        {
          "output_type": "stream",
          "name": "stderr",
          "text": [
            "Downloading GitHub repo GreenleafLab/chromVARmotifs@HEAD\n",
            "\n"
          ]
        },
        {
          "output_type": "stream",
          "name": "stdout",
          "text": [
            "vctrs        (0.4.0 -> 0.4.1) [CRAN]\n",
            "blob         (1.2.2 -> 1.2.3) [CRAN]\n",
            "RColorBrewer (1.1-2 -> 1.1-3) [CRAN]\n",
            "scales       (1.1.1 -> 1.2.0) [CRAN]\n"
          ]
        },
        {
          "output_type": "stream",
          "name": "stderr",
          "text": [
            "Installing 4 packages: vctrs, blob, RColorBrewer, scales\n",
            "\n",
            "Installing packages into ‘/usr/local/lib/R/site-library’\n",
            "(as ‘lib’ is unspecified)\n",
            "\n"
          ]
        },
        {
          "output_type": "stream",
          "name": "stdout",
          "text": [
            "* checking for file ‘/tmp/Rtmp9ExNYh/remotes553ae3bcb7/GreenleafLab-chromVARmotifs-38bed55/DESCRIPTION’ ... OK\n",
            "* preparing ‘chromVARmotifs’:\n",
            "* checking DESCRIPTION meta-information ... OK\n",
            "* checking for LF line-endings in source and make files and shell scripts\n",
            "* checking for empty or unneeded directories\n",
            "* building ‘chromVARmotifs_0.2.0.tar.gz’\n",
            "\n"
          ]
        },
        {
          "output_type": "stream",
          "name": "stderr",
          "text": [
            "Installing package into ‘/usr/local/lib/R/site-library’\n",
            "(as ‘lib’ is unspecified)\n",
            "\n"
          ]
        }
      ]
    },
    {
      "cell_type": "code",
      "source": [
        "devtools::install_github(\"GuangchuangYu/ChIPseeker\")"
      ],
      "metadata": {
        "id": "UXxad8Xe54Yg",
        "colab": {
          "base_uri": "https://localhost:8080/"
        },
        "outputId": "0159674b-344e-46a4-e10b-d517ae9c76d1"
      },
      "execution_count": 9,
      "outputs": [
        {
          "output_type": "stream",
          "name": "stderr",
          "text": [
            "Downloading GitHub repo GuangchuangYu/ChIPseeker@HEAD\n",
            "\n"
          ]
        },
        {
          "output_type": "stream",
          "name": "stdout",
          "text": [
            "enrichplot   (1.14.2 -> d11b60bb6...) [GitHub]\n",
            "TxDb.Hsap... (NA     -> 3.2.2       ) [CRAN]\n",
            "plotrix      (NA     -> 3.8-2       ) [CRAN]\n",
            "gplots       (NA     -> 3.1.1       ) [CRAN]\n"
          ]
        },
        {
          "output_type": "stream",
          "name": "stderr",
          "text": [
            "Installing 3 packages: TxDb.Hsapiens.UCSC.hg19.knownGene, plotrix, gplots\n",
            "\n",
            "Installing packages into ‘/usr/local/lib/R/site-library’\n",
            "(as ‘lib’ is unspecified)\n",
            "\n",
            "Downloading GitHub repo GuangchuangYu/enrichplot@HEAD\n",
            "\n"
          ]
        },
        {
          "output_type": "stream",
          "name": "stdout",
          "text": [
            "\n",
            "* checking for file ‘/tmp/Rtmp9ExNYh/remotes557d3103db/GuangchuangYu-enrichplot-d11b60b/DESCRIPTION’ ... OK\n",
            "* preparing ‘enrichplot’:\n",
            "* checking DESCRIPTION meta-information ... OK\n",
            "* checking for LF line-endings in source and make files and shell scripts\n",
            "* checking for empty or unneeded directories\n",
            "* building ‘enrichplot_1.13.1.992.tar.gz’\n",
            "\n"
          ]
        },
        {
          "output_type": "stream",
          "name": "stderr",
          "text": [
            "Installing package into ‘/usr/local/lib/R/site-library’\n",
            "(as ‘lib’ is unspecified)\n",
            "\n"
          ]
        },
        {
          "output_type": "stream",
          "name": "stdout",
          "text": [
            "* checking for file ‘/tmp/Rtmp9ExNYh/remotes55c7b3faa/YuLab-SMU-ChIPseeker-5945269/DESCRIPTION’ ... OK\n",
            "* preparing ‘ChIPseeker’:\n",
            "* checking DESCRIPTION meta-information ... OK\n",
            "* checking for LF line-endings in source and make files and shell scripts\n",
            "* checking for empty or unneeded directories\n",
            "* looking to see if a ‘data/datalist’ file should be added\n",
            "* building ‘ChIPseeker_1.31.4.tar.gz’\n",
            "\n"
          ]
        },
        {
          "output_type": "stream",
          "name": "stderr",
          "text": [
            "Installing package into ‘/usr/local/lib/R/site-library’\n",
            "(as ‘lib’ is unspecified)\n",
            "\n"
          ]
        }
      ]
    },
    {
      "cell_type": "markdown",
      "metadata": {
        "id": "FfduHH8aWZd1"
      },
      "source": [
        "### Install `seatac` from github"
      ]
    },
    {
      "cell_type": "code",
      "metadata": {
        "id": "6cbnrdk2WZd1",
        "colab": {
          "base_uri": "https://localhost:8080/"
        },
        "outputId": "54c2ab04-867f-4d67-8993-3cfc038e21b0"
      },
      "source": [
        "install_github('gongx030/seatac', quiet = FALSE, ref = 'v0.4.0') # install from the branch v0.4.0\n",
        "devtools::reload(pkgload::inst(\"seatac\"))\n",
        "library(seatac)"
      ],
      "execution_count": 10,
      "outputs": [
        {
          "output_type": "stream",
          "name": "stderr",
          "text": [
            "Downloading GitHub repo gongx030/seatac@v0.4.0\n",
            "\n"
          ]
        },
        {
          "output_type": "stream",
          "name": "stdout",
          "text": [
            "tfautograph  (NA -> 0.3.2 ) [CRAN]\n",
            "config       (NA -> 0.3.1 ) [CRAN]\n",
            "here         (NA -> 1.0.1 ) [CRAN]\n",
            "RcppTOML     (NA -> 0.1.7 ) [CRAN]\n",
            "zeallot      (NA -> 0.1.0 ) [CRAN]\n",
            "tfruns       (NA -> 1.5.0 ) [CRAN]\n",
            "tensorflow   (NA -> 2.8.0 ) [CRAN]\n",
            "reticulate   (NA -> 1.24  ) [CRAN]\n",
            "keras        (NA -> 2.8.0 ) [CRAN]\n",
            "abind        (NA -> 1.4-5 ) [CRAN]\n",
            "tfdatasets   (NA -> 2.7.0 ) [CRAN]\n",
            "tfprobabi... (NA -> 0.15.0) [CRAN]\n"
          ]
        },
        {
          "output_type": "stream",
          "name": "stderr",
          "text": [
            "Installing 12 packages: tfautograph, config, here, RcppTOML, zeallot, tfruns, tensorflow, reticulate, keras, abind, tfdatasets, tfprobability\n",
            "\n",
            "Installing packages into ‘/usr/local/lib/R/site-library’\n",
            "(as ‘lib’ is unspecified)\n",
            "\n"
          ]
        },
        {
          "output_type": "stream",
          "name": "stdout",
          "text": [
            "* checking for file ‘/tmp/Rtmp9ExNYh/remotes552ff788fe/gongx030-seatac-55f9f36/DESCRIPTION’ ... OK\n",
            "* preparing ‘seatac’:\n",
            "* checking DESCRIPTION meta-information ... OK\n",
            "* checking for LF line-endings in source and make files and shell scripts\n",
            "* checking for empty or unneeded directories\n",
            "Omitted ‘LazyData’ from DESCRIPTION\n",
            "* building ‘seatac_0.4.0-010.tar.gz’\n",
            "\n"
          ]
        },
        {
          "output_type": "stream",
          "name": "stderr",
          "text": [
            "Installing package into ‘/usr/local/lib/R/site-library’\n",
            "(as ‘lib’ is unspecified)\n",
            "\n",
            "Loading required package: tensorflow\n",
            "\n",
            "Loading required package: tfprobability\n",
            "\n",
            "Loading required package: tfdatasets\n",
            "\n",
            "Loading required package: GenomicRanges\n",
            "\n",
            "Loading required package: stats4\n",
            "\n",
            "Loading required package: BiocGenerics\n",
            "\n",
            "\n",
            "Attaching package: ‘BiocGenerics’\n",
            "\n",
            "\n",
            "The following objects are masked from ‘package:stats’:\n",
            "\n",
            "    IQR, mad, sd, var, xtabs\n",
            "\n",
            "\n",
            "The following objects are masked from ‘package:base’:\n",
            "\n",
            "    anyDuplicated, append, as.data.frame, basename, cbind, colnames,\n",
            "    dirname, do.call, duplicated, eval, evalq, Filter, Find, get, grep,\n",
            "    grepl, intersect, is.unsorted, lapply, Map, mapply, match, mget,\n",
            "    order, paste, pmax, pmax.int, pmin, pmin.int, Position, rank,\n",
            "    rbind, Reduce, rownames, sapply, setdiff, sort, table, tapply,\n",
            "    union, unique, unsplit, which.max, which.min\n",
            "\n",
            "\n",
            "Loading required package: S4Vectors\n",
            "\n",
            "\n",
            "Attaching package: ‘S4Vectors’\n",
            "\n",
            "\n",
            "The following objects are masked from ‘package:base’:\n",
            "\n",
            "    expand.grid, I, unname\n",
            "\n",
            "\n",
            "Loading required package: IRanges\n",
            "\n",
            "Loading required package: GenomeInfoDb\n",
            "\n",
            "Loading required package: SummarizedExperiment\n",
            "\n",
            "Loading required package: MatrixGenerics\n",
            "\n",
            "Loading required package: matrixStats\n",
            "\n",
            "\n",
            "Attaching package: ‘MatrixGenerics’\n",
            "\n",
            "\n",
            "The following objects are masked from ‘package:matrixStats’:\n",
            "\n",
            "    colAlls, colAnyNAs, colAnys, colAvgsPerRowSet, colCollapse,\n",
            "    colCounts, colCummaxs, colCummins, colCumprods, colCumsums,\n",
            "    colDiffs, colIQRDiffs, colIQRs, colLogSumExps, colMadDiffs,\n",
            "    colMads, colMaxs, colMeans2, colMedians, colMins, colOrderStats,\n",
            "    colProds, colQuantiles, colRanges, colRanks, colSdDiffs, colSds,\n",
            "    colSums2, colTabulates, colVarDiffs, colVars, colWeightedMads,\n",
            "    colWeightedMeans, colWeightedMedians, colWeightedSds,\n",
            "    colWeightedVars, rowAlls, rowAnyNAs, rowAnys, rowAvgsPerColSet,\n",
            "    rowCollapse, rowCounts, rowCummaxs, rowCummins, rowCumprods,\n",
            "    rowCumsums, rowDiffs, rowIQRDiffs, rowIQRs, rowLogSumExps,\n",
            "    rowMadDiffs, rowMads, rowMaxs, rowMeans2, rowMedians, rowMins,\n",
            "    rowOrderStats, rowProds, rowQuantiles, rowRanges, rowRanks,\n",
            "    rowSdDiffs, rowSds, rowSums2, rowTabulates, rowVarDiffs, rowVars,\n",
            "    rowWeightedMads, rowWeightedMeans, rowWeightedMedians,\n",
            "    rowWeightedSds, rowWeightedVars\n",
            "\n",
            "\n",
            "Loading required package: Biobase\n",
            "\n",
            "Welcome to Bioconductor\n",
            "\n",
            "    Vignettes contain introductory material; view with\n",
            "    'browseVignettes()'. To cite Bioconductor, see\n",
            "    'citation(\"Biobase\")', and for packages 'citation(\"pkgname\")'.\n",
            "\n",
            "\n",
            "\n",
            "Attaching package: ‘Biobase’\n",
            "\n",
            "\n",
            "The following object is masked from ‘package:MatrixGenerics’:\n",
            "\n",
            "    rowMedians\n",
            "\n",
            "\n",
            "The following objects are masked from ‘package:matrixStats’:\n",
            "\n",
            "    anyMissing, rowMedians\n",
            "\n",
            "\n",
            "\n",
            "Attaching package: ‘seatac’\n",
            "\n",
            "\n",
            "The following object is masked from ‘package:tfdatasets’:\n",
            "\n",
            "    fit\n",
            "\n",
            "\n",
            "The following object is masked from ‘package:stats’:\n",
            "\n",
            "    predict\n",
            "\n",
            "\n"
          ]
        }
      ]
    },
    {
      "cell_type": "markdown",
      "metadata": {
        "id": "8LRcZG575RIi"
      },
      "source": [
        "### Load R packages"
      ]
    },
    {
      "cell_type": "code",
      "metadata": {
        "id": "xxvI6xd05RIi",
        "colab": {
          "base_uri": "https://localhost:8080/"
        },
        "outputId": "9a9f898d-2083-4a7d-cfa4-4b946f2c6df3"
      },
      "source": [
        "library(BSgenome.Mmusculus.UCSC.mm10)\n",
        "library(dplyr)\n",
        "library(motifmatchr)\n",
        "library(chromVARmotifs)\n",
        "library(igraph)\n",
        "library(VennDiagram)\n",
        "library(ggplot2)\n",
        "library(patchwork)\n",
        "library(ChIPseeker)\n",
        "library(TxDb.Mmusculus.UCSC.mm10.knownGene)\n",
        "library(org.Mm.eg.db)\n",
        "library(clusterProfiler)"
      ],
      "execution_count": 11,
      "outputs": [
        {
          "output_type": "stream",
          "name": "stderr",
          "text": [
            "Loading required package: BSgenome\n",
            "\n",
            "Loading required package: Biostrings\n",
            "\n",
            "Loading required package: XVector\n",
            "\n",
            "\n",
            "Attaching package: ‘Biostrings’\n",
            "\n",
            "\n",
            "The following object is masked from ‘package:base’:\n",
            "\n",
            "    strsplit\n",
            "\n",
            "\n",
            "Loading required package: rtracklayer\n",
            "\n",
            "\n",
            "Attaching package: ‘dplyr’\n",
            "\n",
            "\n",
            "The following objects are masked from ‘package:Biostrings’:\n",
            "\n",
            "    collapse, intersect, setdiff, setequal, union\n",
            "\n",
            "\n",
            "The following object is masked from ‘package:XVector’:\n",
            "\n",
            "    slice\n",
            "\n",
            "\n",
            "The following object is masked from ‘package:Biobase’:\n",
            "\n",
            "    combine\n",
            "\n",
            "\n",
            "The following object is masked from ‘package:matrixStats’:\n",
            "\n",
            "    count\n",
            "\n",
            "\n",
            "The following objects are masked from ‘package:GenomicRanges’:\n",
            "\n",
            "    intersect, setdiff, union\n",
            "\n",
            "\n",
            "The following object is masked from ‘package:GenomeInfoDb’:\n",
            "\n",
            "    intersect\n",
            "\n",
            "\n",
            "The following objects are masked from ‘package:IRanges’:\n",
            "\n",
            "    collapse, desc, intersect, setdiff, slice, union\n",
            "\n",
            "\n",
            "The following objects are masked from ‘package:S4Vectors’:\n",
            "\n",
            "    first, intersect, rename, setdiff, setequal, union\n",
            "\n",
            "\n",
            "The following objects are masked from ‘package:BiocGenerics’:\n",
            "\n",
            "    combine, intersect, setdiff, union\n",
            "\n",
            "\n",
            "The following objects are masked from ‘package:stats’:\n",
            "\n",
            "    filter, lag\n",
            "\n",
            "\n",
            "The following objects are masked from ‘package:base’:\n",
            "\n",
            "    intersect, setdiff, setequal, union\n",
            "\n",
            "\n",
            "\n",
            "\n",
            "\n",
            "Attaching package: ‘igraph’\n",
            "\n",
            "\n",
            "The following objects are masked from ‘package:dplyr’:\n",
            "\n",
            "    as_data_frame, groups, union\n",
            "\n",
            "\n",
            "The following objects are masked from ‘package:rtracklayer’:\n",
            "\n",
            "    blocks, path\n",
            "\n",
            "\n",
            "The following object is masked from ‘package:Biostrings’:\n",
            "\n",
            "    union\n",
            "\n",
            "\n",
            "The following object is masked from ‘package:XVector’:\n",
            "\n",
            "    path\n",
            "\n",
            "\n",
            "The following object is masked from ‘package:GenomicRanges’:\n",
            "\n",
            "    union\n",
            "\n",
            "\n",
            "The following object is masked from ‘package:IRanges’:\n",
            "\n",
            "    union\n",
            "\n",
            "\n",
            "The following object is masked from ‘package:S4Vectors’:\n",
            "\n",
            "    union\n",
            "\n",
            "\n",
            "The following objects are masked from ‘package:BiocGenerics’:\n",
            "\n",
            "    normalize, path, union\n",
            "\n",
            "\n",
            "The following objects are masked from ‘package:stats’:\n",
            "\n",
            "    decompose, spectrum\n",
            "\n",
            "\n",
            "The following object is masked from ‘package:base’:\n",
            "\n",
            "    union\n",
            "\n",
            "\n",
            "Loading required package: grid\n",
            "\n",
            "\n",
            "Attaching package: ‘grid’\n",
            "\n",
            "\n",
            "The following object is masked from ‘package:Biostrings’:\n",
            "\n",
            "    pattern\n",
            "\n",
            "\n",
            "Loading required package: futile.logger\n",
            "\n",
            "Registered S3 method overwritten by 'ggtree':\n",
            "  method      from \n",
            "  identify.gg ggfun\n",
            "\n",
            "ChIPseeker v1.31.4  For help: https://guangchuangyu.github.io/software/ChIPseeker\n",
            "\n",
            "If you use ChIPseeker in published research, please cite:\n",
            "Guangchuang Yu, Li-Gen Wang, Qing-Yu He. ChIPseeker: an R/Bioconductor package for ChIP peak annotation, comparison and visualization. Bioinformatics 2015, 31(14):2382-2383\n",
            "\n",
            "Loading required package: GenomicFeatures\n",
            "\n",
            "Loading required package: AnnotationDbi\n",
            "\n",
            "\n",
            "Attaching package: ‘AnnotationDbi’\n",
            "\n",
            "\n",
            "The following object is masked from ‘package:dplyr’:\n",
            "\n",
            "    select\n",
            "\n",
            "\n",
            "\n",
            "\n",
            "clusterProfiler v4.2.2  For help: https://yulab-smu.top/biomedical-knowledge-mining-book/\n",
            "\n",
            "If you use clusterProfiler in published research, please cite:\n",
            "T Wu, E Hu, S Xu, M Chen, P Guo, Z Dai, T Feng, L Zhou, W Tang, L Zhan, X Fu, S Liu, X Bo, and G Yu. clusterProfiler 4.0: A universal enrichment tool for interpreting omics data. The Innovation. 2021, 2(3):100141\n",
            "\n",
            "\n",
            "Attaching package: ‘clusterProfiler’\n",
            "\n",
            "\n",
            "The following object is masked from ‘package:AnnotationDbi’:\n",
            "\n",
            "    select\n",
            "\n",
            "\n",
            "The following object is masked from ‘package:igraph’:\n",
            "\n",
            "    simplify\n",
            "\n",
            "\n",
            "The following object is masked from ‘package:XVector’:\n",
            "\n",
            "    slice\n",
            "\n",
            "\n",
            "The following object is masked from ‘package:IRanges’:\n",
            "\n",
            "    slice\n",
            "\n",
            "\n",
            "The following object is masked from ‘package:S4Vectors’:\n",
            "\n",
            "    rename\n",
            "\n",
            "\n",
            "The following object is masked from ‘package:stats’:\n",
            "\n",
            "    filter\n",
            "\n",
            "\n"
          ]
        }
      ]
    },
    {
      "cell_type": "markdown",
      "metadata": {
        "id": "hl2lXOAv9ljx"
      },
      "source": [
        "## Parameters"
      ]
    },
    {
      "cell_type": "code",
      "metadata": {
        "id": "KMfU5_KD9nN9"
      },
      "source": [
        "ARGS <- list(\n",
        "  vae_latent = c(5L),\n",
        "  padjusted_cutoff = 0.05,\n",
        "  param_mef = seq(0, 0.4, by = 0.1),\n",
        "  param_eb = seq(0, 0.4, by = 0.1),\n",
        "  upstream = -5000,\n",
        "  downstream = 1000,\n",
        "  pvalueCutoff  = 1,\n",
        "  qvalueCutoff  = 1,\n",
        "  log_ratio = 0.1,\n",
        "  center_width = 100L # the center width\n",
        ")"
      ],
      "execution_count": 12,
      "outputs": []
    },
    {
      "cell_type": "markdown",
      "source": [
        "#MEF"
      ],
      "metadata": {
        "id": "GEslYGcL8TCS"
      }
    },
    {
      "cell_type": "markdown",
      "metadata": {
        "id": "zTZFIssWfoaQ"
      },
      "source": [
        "## Etv2 motif regions with differential vplots"
      ]
    },
    {
      "cell_type": "code",
      "source": [
        "#tab <- read.table('https://s3.msi.umn.edu/gongx030/projects/seatac_project/config/seatac_MEF_Etv2/results.tsv', sep = '\\t', header = TRUE)"
      ],
      "metadata": {
        "id": "R8PoLnjjobgP"
      },
      "execution_count": 13,
      "outputs": []
    },
    {
      "cell_type": "code",
      "metadata": {
        "id": "GmhFQtDRRXcw"
      },
      "source": [
        "res_mef <- read.table('https://s3.msi.umn.edu/dsouz072/projects/seatac_project/config/seatac_MEF_Etv2/name1=MEF_NoDox_name2=MEF_Dox_D7_Flk1pos/bin_size=5_fragment_size_range_max=640_fragment_size_interval=10_block_size=640/min_reads=10_vae_num_peaks=5000/vae_latent=5_vae_filters0=128_vae_filters=32_vae_downsample_layers=4_vae_upsample_layers=4_vae_epochs=200.tsv', header = FALSE, sep = '\\t')"
      ],
      "execution_count": 14,
      "outputs": []
    },
    {
      "cell_type": "code",
      "source": [
        "colnames(res_mef) <- c('seqnames','start','end','width','strand','pvalue_z','padj','nucleosome_treatment','nucleosome_control','log_ratio')"
      ],
      "metadata": {
        "id": "idD6YFdQpqvt"
      },
      "execution_count": 15,
      "outputs": []
    },
    {
      "cell_type": "code",
      "source": [
        "res_mef <- GRanges(res_mef)"
      ],
      "metadata": {
        "id": "rDfqsIpe5XSK"
      },
      "execution_count": 16,
      "outputs": []
    },
    {
      "cell_type": "code",
      "source": [
        "is_signif <- res_mef$padj < ARGS[['padjusted_cutoff']]\n",
        "sprintf('# of significantly differential V-plots called by SeATAC: %d', sum(is_signif)) %>% message()"
      ],
      "metadata": {
        "id": "aKcjBPE6E9Rb",
        "colab": {
          "base_uri": "https://localhost:8080/"
        },
        "outputId": "ebf29d6a-d181-4872-e182-397569ec2de4"
      },
      "execution_count": 17,
      "outputs": [
        {
          "output_type": "stream",
          "name": "stderr",
          "text": [
            "# of significantly differential V-plots called by SeATAC: 6561\n",
            "\n"
          ]
        }
      ]
    },
    {
      "cell_type": "markdown",
      "source": [
        "## Read the summits called by MACS2 for MEFs"
      ],
      "metadata": {
        "id": "UJfz77AWMq0b"
      }
    },
    {
      "cell_type": "code",
      "source": [
        "remote_summit_files = c(\n",
        "  MEF_NoDox = 'https://s3.msi.umn.edu/gongx030/projects/seatac_project/config/macs2_Etv2_MEF_D7_Dox/1_summits.bed',\n",
        "  MEF_Dox_D7_Flk1pos = 'https://s3.msi.umn.edu/gongx030/projects/seatac_project/config/macs2_Etv2_MEF_D7_Dox/2_summits.bed'\n",
        ")\n",
        "for (f in remote_summit_files){\n",
        "  system(sprintf('wget -cx %s', f))\n",
        "}\n",
        "local_summit_files <- gsub('https://', './', remote_summit_files)"
      ],
      "metadata": {
        "id": "5ZBXMqVEM-RS"
      },
      "execution_count": 18,
      "outputs": []
    },
    {
      "cell_type": "code",
      "source": [
        "x1 <- read.table(local_summit_files[1], header = FALSE, sep = '\\t')\n",
        "x2 <- read.table(local_summit_files[2], header = FALSE, sep = '\\t')\n",
        "gr_macs <- list(x1, x2)\n",
        "gr_mefs <- lapply(gr_macs, function(g){\n",
        "  GRanges(seqnames = g[, 1], range = IRanges(start = g[, 2], end = g[, 3]), score = g[, 5])\n",
        "}\n",
        ")"
      ],
      "metadata": {
        "id": "EsIWlfznvmb5"
      },
      "execution_count": 19,
      "outputs": []
    },
    {
      "cell_type": "code",
      "source": [
        "sprintf('# of summits  called by MACS2 in undifferentiated MEFs: %d', length(gr_mefs[[1]])) %>% message()\n",
        "sprintf('# of summits called by MACS2 in Flk1+ MEFs at D7 post Etv2 induction: %d', length(gr_mefs[[2]])) %>% message()"
      ],
      "metadata": {
        "id": "_NYvBFEhOshE",
        "colab": {
          "base_uri": "https://localhost:8080/"
        },
        "outputId": "9621e99b-e6d3-4550-ab6b-f1d041a2e303"
      },
      "execution_count": 20,
      "outputs": [
        {
          "output_type": "stream",
          "name": "stderr",
          "text": [
            "# of summits  called by MACS2 in undifferentiated MEFs: 53093\n",
            "\n",
            "# of summits called by MACS2 in Flk1+ MEFs at D7 post Etv2 induction: 4639\n",
            "\n"
          ]
        }
      ]
    },
    {
      "cell_type": "code",
      "source": [
        "names(gr_mefs) <- c('MEF','Flk1pos')"
      ],
      "metadata": {
        "id": "4Pet05ZqP1_E"
      },
      "execution_count": 21,
      "outputs": []
    },
    {
      "cell_type": "markdown",
      "source": [
        "Instead of looking at the overlap between MACS2 summits with the entire 640 bp V-plot window, we only look at the center 100 bp region, which is consistent with the way that SeATAC calculate the central nucleosome values"
      ],
      "metadata": {
        "id": "_LZCZQFk2N3y"
      }
    },
    {
      "cell_type": "code",
      "source": [
        "mm <- lapply(gr_mefs, function(g){\n",
        "  findOverlaps(g, resize(res_mef, fix = 'center', width = ARGS[['center_width']])) %>% as.matrix()\n",
        "}\n",
        ")"
      ],
      "metadata": {
        "id": "IsB2nu823jYC"
      },
      "execution_count": 22,
      "outputs": []
    },
    {
      "cell_type": "code",
      "source": [
        "mm <- lapply(names(mm), function(i){\n",
        "  cbind(mm[[i]], score = gr_mefs[[i]][mm[[i]][, 'queryHits']]$score)\n",
        "}\n",
        ")\n",
        "names(mm) <- c('MEF','Flk1pos')\n",
        "\n",
        "\n"
      ],
      "metadata": {
        "id": "2uVjpePw2NWE"
      },
      "execution_count": 23,
      "outputs": []
    },
    {
      "cell_type": "code",
      "source": [
        "sp <- lapply(mm, function(m){\n",
        "  split(m[, 'score'], list(m[, 'subjectHits']))\n",
        "}\n",
        ")"
      ],
      "metadata": {
        "id": "uA6vJ1aVQx64"
      },
      "execution_count": 24,
      "outputs": []
    },
    {
      "cell_type": "code",
      "source": [
        "score_mef <- sapply(sp$MEF, max)\n",
        "score_flk1pos <- sapply(sp$Flk1pos, max)"
      ],
      "metadata": {
        "id": "OB2AoAi5Rt9N"
      },
      "execution_count": 25,
      "outputs": []
    },
    {
      "cell_type": "markdown",
      "source": [
        "##Nucleoatac data"
      ],
      "metadata": {
        "id": "776A2WW9XF_X"
      }
    },
    {
      "cell_type": "code",
      "metadata": {
        "id": "dE4mkK0OXF_Y"
      },
      "source": [
        "s3_bw_files <- c(\n",
        "  'Flk1pos' = 'https://s3.msi.umn.edu/gongx030/datasets/dataset=Etv2ATAC_version=20190228a/MEF_Dox_D7_Flk1pos.nucleoatac_signal.smooth.bw',\n",
        "  'MEF' = 'https://s3.msi.umn.edu/gongx030/datasets/dataset=Etv2ATAC_version=20190228a/MEF_NoDox.nucleoatac_signal.smooth.bw'\n",
        ")"
      ],
      "execution_count": 26,
      "outputs": []
    },
    {
      "cell_type": "code",
      "metadata": {
        "id": "buJTgGPvXF_Z",
        "colab": {
          "base_uri": "https://localhost:8080/"
        },
        "outputId": "232a8ef2-9cb1-42fa-fd58-2b1fb7a2afa1"
      },
      "source": [
        "for (i in 1:length(s3_bw_files)){\n",
        "  sprintf('wget -x -c -nH %s', s3_bw_files[i]) %>% system()\n",
        "}\n",
        "s3_bw_files <- gsub('https://s3.msi.umn.edu/', './', s3_bw_files)\n",
        "message(sprintf('all s3_bw_files exist: %s', all(file.exists(s3_bw_files))))"
      ],
      "execution_count": 27,
      "outputs": [
        {
          "output_type": "stream",
          "name": "stderr",
          "text": [
            "all s3_bw_files exist: TRUE\n",
            "\n"
          ]
        }
      ]
    },
    {
      "cell_type": "code",
      "source": [
        "bw <- lapply(s3_bw_files, function(bw_file){\n",
        " rtracklayer::import.bw(\n",
        "    bw_file, \n",
        "    which = trim(GenomicRanges::reduce(resize(res_mef, fix = 'center', width = ARGS[['center_width']])))\n",
        "  ) \n",
        "})"
      ],
      "metadata": {
        "id": "_qPV3QjwXF_Z"
      },
      "execution_count": 28,
      "outputs": []
    },
    {
      "cell_type": "code",
      "source": [
        "cvg_bd <- lapply(bw, function(x){coverage(x, weight = 'score')[resize(res_mef, fix = 'center', width = ARGS[['center_width']])] %>% as.matrix()})"
      ],
      "metadata": {
        "id": "r_vBBfrhXF_Z"
      },
      "execution_count": 29,
      "outputs": []
    },
    {
      "cell_type": "code",
      "source": [
        "cvg <- data.frame(Flk1pos = rowMeans(cvg_bd$Flk1pos), MEF = rowMeans(cvg_bd$MEF))"
      ],
      "metadata": {
        "id": "LeKMJ-RwYp-_"
      },
      "execution_count": 30,
      "outputs": []
    },
    {
      "cell_type": "code",
      "source": [
        "cvg$flk1pos <- ifelse(cvg$Flk1pos < cvg$MEF, 'TRUE','FALSE')"
      ],
      "metadata": {
        "id": "ZlZkrzjJYp_E"
      },
      "execution_count": 31,
      "outputs": []
    },
    {
      "cell_type": "code",
      "source": [
        "cvg$mef <- ifelse(cvg$Flk1pos > cvg$MEF, 'TRUE','FALSE')"
      ],
      "metadata": {
        "id": "6xCN6YrwYp_F"
      },
      "execution_count": 32,
      "outputs": []
    },
    {
      "cell_type": "code",
      "source": [
        "cvg$difference <- cvg$Flk1pos - cvg$MEF"
      ],
      "metadata": {
        "id": "F38VUISaYp_F"
      },
      "execution_count": 33,
      "outputs": []
    },
    {
      "cell_type": "markdown",
      "source": [
        "Peaks into up and down mefs"
      ],
      "metadata": {
        "id": "YerwuheXYdrp"
      }
    },
    {
      "cell_type": "code",
      "source": [
        "up_mef <- res_mef        #Up in undifferentiated MEFs\n",
        "up_mef$macs2 <- 0\n",
        "up_mef[as.numeric(names(score_mef))]$macs2 <- score_mef\n",
        "up_mef$seatac <- -log10(up_mef$padj + 1e-100)\n",
        "up_mef$difference <- cvg$difference\n",
        "up_mef$mef <- cvg$mef\n"
      ],
      "metadata": {
        "id": "Q-PNyxktR9-2"
      },
      "execution_count": 34,
      "outputs": []
    },
    {
      "cell_type": "code",
      "source": [
        "down_mef <- res_mef      #Down in undifferentiated MEFs\n",
        "down_mef$macs2 <- 0\n",
        "down_mef[as.numeric(names(score_flk1pos))]$macs2 <- score_flk1pos\n",
        "down_mef$seatac <- -log10(down_mef$padj + 1e-100)\n",
        "down_mef$difference <- cvg$difference\n",
        "down_mef$flk1pos <- cvg$flk1pos"
      ],
      "metadata": {
        "id": "O92YW8ol3Sgb"
      },
      "execution_count": 35,
      "outputs": []
    },
    {
      "cell_type": "markdown",
      "source": [
        "##Pathway analysis for MEFs"
      ],
      "metadata": {
        "id": "F1Hzth155tzg"
      }
    },
    {
      "cell_type": "code",
      "source": [
        "mef_peaks_up <- list(seatac = up_mef[up_mef$log_ratio > ARGS[['log_ratio']] & up_mef$padj < ARGS[['padjusted_cutoff']]], \n",
        "  macs2 = up_mef[up_mef$macs2 > -log10(ARGS[['padjusted_cutoff']])],\n",
        "  nucleoatac = up_mef[up_mef$difference > 0.4 & up_mef$mef == TRUE]\n",
        "  )"
      ],
      "metadata": {
        "id": "2Yql954lVm6m"
      },
      "execution_count": 36,
      "outputs": []
    },
    {
      "cell_type": "code",
      "source": [
        "sprintf('# of Vplots that have increased nuclsoeome occupancy at the center in Flk1+ MEFs at D7 post Etv2 induction with log ratio cutoff of 0.1 : %d', length(mef_peaks_up[[1]])) %>% message()\n",
        "sprintf('# of summits called by MACS2 in Flk1+ MEFs at D7 post Etv2 induction : %d', length(mef_peaks_up[[2]])) %>% message()\n",
        "sprintf('# of regions with increased nucleosome occupancy in Flk1+ MEFs at D7 post Etv2 induction : %d', length(mef_peaks_up[[3]])) %>% message()"
      ],
      "metadata": {
        "id": "IK1hqBerlVBZ",
        "colab": {
          "base_uri": "https://localhost:8080/"
        },
        "outputId": "f7f74405-6db3-413d-bc94-36eba08cf901"
      },
      "execution_count": 37,
      "outputs": [
        {
          "output_type": "stream",
          "name": "stderr",
          "text": [
            "# of Vplots that have increased nuclsoeome occupancy at the center in Flk1+ MEFs at D7 post Etv2 induction with log ratio cutoff of 0.1 : 1003\n",
            "\n",
            "# of summits called by MACS2 in Flk1+ MEFs at D7 post Etv2 induction : 1683\n",
            "\n",
            "# of regions with increased nucleosome occupancy in Flk1+ MEFs at D7 post Etv2 induction : 1092\n",
            "\n"
          ]
        }
      ]
    },
    {
      "cell_type": "code",
      "source": [
        "mef_peaks_down <- list(seatac = down_mef[down_mef$log_ratio < -ARGS[['log_ratio']] & down_mef$padj < ARGS[['padjusted_cutoff']]], \n",
        "  macs2 = down_mef[down_mef$macs2 > -log10(ARGS[['padjusted_cutoff']])],\n",
        "  nucleoatac = down_mef[down_mef$difference < -0.4 & down_mef$flk1pos == TRUE]\n",
        "  )"
      ],
      "metadata": {
        "id": "ghQQHAP0bX_A"
      },
      "execution_count": 38,
      "outputs": []
    },
    {
      "cell_type": "code",
      "source": [
        "sprintf('# of Vplots that have increased nuclsoeome occupancy at the center in undifferentiated MEFs with log ratio cutoff of 0.1 : %d', length(mef_peaks_down[[1]])) %>% message()\n",
        "sprintf('# of summits called by MACS2 in undifferentiated MEFs : %d', length(mef_peaks_down[[2]])) %>% message()\n",
        "sprintf('# of regions with increased nucleosome occupancy in undifferentiated MEFs : %d', length(mef_peaks_down[[3]])) %>% message()"
      ],
      "metadata": {
        "id": "TUtAq2nnliAQ",
        "colab": {
          "base_uri": "https://localhost:8080/"
        },
        "outputId": "b463d61d-b6b5-44fc-9cf4-ea2f17ae6cfd"
      },
      "execution_count": 39,
      "outputs": [
        {
          "output_type": "stream",
          "name": "stderr",
          "text": [
            "# of Vplots that have increased nuclsoeome occupancy at the center in undifferentiated MEFs with log ratio cutoff of 0.1 : 3451\n",
            "\n",
            "# of summits called by MACS2 in undifferentiated MEFs : 558\n",
            "\n",
            "# of regions with increased nucleosome occupancy in undifferentiated MEFs : 1686\n",
            "\n"
          ]
        }
      ]
    },
    {
      "cell_type": "markdown",
      "source": [
        "###Annotate the peaks for MEF"
      ],
      "metadata": {
        "id": "ZS9WfDnB6yKl"
      }
    },
    {
      "cell_type": "code",
      "source": [
        "anno_up_mef <- lapply(mef_peaks_up, function(s){annotatePeak(s, tssRegion = c(ARGS[['upstream']], ARGS[['downstream']]),TxDb = TxDb.Mmusculus.UCSC.mm10.knownGene,\n",
        "        annoDb = 'org.Mm.eg.db')})"
      ],
      "metadata": {
        "id": "LTxik7jP91-Q",
        "colab": {
          "base_uri": "https://localhost:8080/"
        },
        "outputId": "91d16342-c67a-401a-d001-39d538f19178"
      },
      "execution_count": 40,
      "outputs": [
        {
          "output_type": "stream",
          "name": "stdout",
          "text": [
            ">> preparing features information...\t\t 2022-04-18 02:27:42 AM \n",
            ">> identifying nearest features...\t\t 2022-04-18 02:27:42 AM \n",
            ">> calculating distance from peak to TSS...\t 2022-04-18 02:27:43 AM \n",
            ">> assigning genomic annotation...\t\t 2022-04-18 02:27:43 AM \n",
            ">> adding gene annotation...\t\t\t 2022-04-18 02:28:02 AM \n"
          ]
        },
        {
          "output_type": "stream",
          "name": "stderr",
          "text": [
            "'select()' returned 1:many mapping between keys and columns\n",
            "\n"
          ]
        },
        {
          "output_type": "stream",
          "name": "stdout",
          "text": [
            ">> assigning chromosome lengths\t\t\t 2022-04-18 02:28:02 AM \n",
            ">> done...\t\t\t\t\t 2022-04-18 02:28:02 AM \n",
            ">> preparing features information...\t\t 2022-04-18 02:28:02 AM \n",
            ">> identifying nearest features...\t\t 2022-04-18 02:28:02 AM \n",
            ">> calculating distance from peak to TSS...\t 2022-04-18 02:28:03 AM \n",
            ">> assigning genomic annotation...\t\t 2022-04-18 02:28:03 AM \n",
            ">> adding gene annotation...\t\t\t 2022-04-18 02:28:06 AM \n"
          ]
        },
        {
          "output_type": "stream",
          "name": "stderr",
          "text": [
            "'select()' returned 1:many mapping between keys and columns\n",
            "\n"
          ]
        },
        {
          "output_type": "stream",
          "name": "stdout",
          "text": [
            ">> assigning chromosome lengths\t\t\t 2022-04-18 02:28:06 AM \n",
            ">> done...\t\t\t\t\t 2022-04-18 02:28:06 AM \n",
            ">> preparing features information...\t\t 2022-04-18 02:28:06 AM \n",
            ">> identifying nearest features...\t\t 2022-04-18 02:28:06 AM \n",
            ">> calculating distance from peak to TSS...\t 2022-04-18 02:28:07 AM \n",
            ">> assigning genomic annotation...\t\t 2022-04-18 02:28:07 AM \n",
            ">> adding gene annotation...\t\t\t 2022-04-18 02:28:09 AM \n"
          ]
        },
        {
          "output_type": "stream",
          "name": "stderr",
          "text": [
            "'select()' returned 1:many mapping between keys and columns\n",
            "\n"
          ]
        },
        {
          "output_type": "stream",
          "name": "stdout",
          "text": [
            ">> assigning chromosome lengths\t\t\t 2022-04-18 02:28:09 AM \n",
            ">> done...\t\t\t\t\t 2022-04-18 02:28:09 AM \n"
          ]
        }
      ]
    },
    {
      "cell_type": "code",
      "source": [
        "dat_up_mef <- lapply(anno_up_mef, function(x){\n",
        "  data.frame(x)\n",
        "})"
      ],
      "metadata": {
        "id": "SiAApwre98xv"
      },
      "execution_count": 41,
      "outputs": []
    },
    {
      "cell_type": "code",
      "source": [
        "go_up_mef <- lapply(dat_up_mef, function(a){\n",
        "  enrichGO(gene = a$geneId,\n",
        "                OrgDb         = org.Mm.eg.db,\n",
        "                ont           = \"BP\",\n",
        "                pAdjustMethod = \"BH\",\n",
        "                pvalueCutoff  = ARGS[['pvalueCutoff']],\n",
        "                qvalueCutoff  = ARGS[['qvalueCutoff']],\n",
        "        readable      = TRUE)\n",
        "}\n",
        ")"
      ],
      "metadata": {
        "id": "UzOu2bBB-Pnu"
      },
      "execution_count": 42,
      "outputs": []
    },
    {
      "cell_type": "code",
      "source": [
        "anno_down_mef <- lapply(mef_peaks_down, function(s){annotatePeak(s, tssRegion = c(ARGS[['upstream']], ARGS[['downstream']]),TxDb = TxDb.Mmusculus.UCSC.mm10.knownGene,\n",
        "        annoDb = 'org.Mm.eg.db')})"
      ],
      "metadata": {
        "id": "ZCfvMpfPV_gd",
        "colab": {
          "base_uri": "https://localhost:8080/"
        },
        "outputId": "3cc00d15-8b68-4d38-8219-fec917484817"
      },
      "execution_count": 43,
      "outputs": [
        {
          "output_type": "stream",
          "name": "stdout",
          "text": [
            ">> preparing features information...\t\t 2022-04-18 02:29:46 AM \n",
            ">> identifying nearest features...\t\t 2022-04-18 02:29:46 AM \n",
            ">> calculating distance from peak to TSS...\t 2022-04-18 02:29:47 AM \n",
            ">> assigning genomic annotation...\t\t 2022-04-18 02:29:47 AM \n",
            ">> adding gene annotation...\t\t\t 2022-04-18 02:29:49 AM \n"
          ]
        },
        {
          "output_type": "stream",
          "name": "stderr",
          "text": [
            "'select()' returned 1:many mapping between keys and columns\n",
            "\n"
          ]
        },
        {
          "output_type": "stream",
          "name": "stdout",
          "text": [
            ">> assigning chromosome lengths\t\t\t 2022-04-18 02:29:49 AM \n",
            ">> done...\t\t\t\t\t 2022-04-18 02:29:49 AM \n",
            ">> preparing features information...\t\t 2022-04-18 02:29:49 AM \n",
            ">> identifying nearest features...\t\t 2022-04-18 02:29:49 AM \n",
            ">> calculating distance from peak to TSS...\t 2022-04-18 02:29:50 AM \n",
            ">> assigning genomic annotation...\t\t 2022-04-18 02:29:50 AM \n",
            ">> adding gene annotation...\t\t\t 2022-04-18 02:29:52 AM \n"
          ]
        },
        {
          "output_type": "stream",
          "name": "stderr",
          "text": [
            "'select()' returned 1:1 mapping between keys and columns\n",
            "\n"
          ]
        },
        {
          "output_type": "stream",
          "name": "stdout",
          "text": [
            ">> assigning chromosome lengths\t\t\t 2022-04-18 02:29:52 AM \n",
            ">> done...\t\t\t\t\t 2022-04-18 02:29:52 AM \n",
            ">> preparing features information...\t\t 2022-04-18 02:29:52 AM \n",
            ">> identifying nearest features...\t\t 2022-04-18 02:29:52 AM \n",
            ">> calculating distance from peak to TSS...\t 2022-04-18 02:29:53 AM \n",
            ">> assigning genomic annotation...\t\t 2022-04-18 02:29:53 AM \n",
            ">> adding gene annotation...\t\t\t 2022-04-18 02:29:56 AM \n"
          ]
        },
        {
          "output_type": "stream",
          "name": "stderr",
          "text": [
            "'select()' returned 1:many mapping between keys and columns\n",
            "\n"
          ]
        },
        {
          "output_type": "stream",
          "name": "stdout",
          "text": [
            ">> assigning chromosome lengths\t\t\t 2022-04-18 02:29:56 AM \n",
            ">> done...\t\t\t\t\t 2022-04-18 02:29:56 AM \n"
          ]
        }
      ]
    },
    {
      "cell_type": "code",
      "source": [
        "dat_down_mef <- lapply(anno_down_mef, function(x){\n",
        "  data.frame(x)\n",
        "})"
      ],
      "metadata": {
        "id": "3JD9naX0WOHV"
      },
      "execution_count": 44,
      "outputs": []
    },
    {
      "cell_type": "code",
      "source": [
        "go_down_mef <- lapply(dat_down_mef, function(a){\n",
        "  enrichGO(gene = a$geneId,\n",
        "                OrgDb         = org.Mm.eg.db,\n",
        "                ont           = \"BP\",\n",
        "                pAdjustMethod = \"BH\",\n",
        "                pvalueCutoff  = ARGS[['pvalueCutoff']],\n",
        "                qvalueCutoff  = ARGS[['qvalueCutoff']],\n",
        "        readable      = TRUE)\n",
        "}\n",
        ")"
      ],
      "metadata": {
        "id": "TVu1MJ82WbWs"
      },
      "execution_count": 45,
      "outputs": []
    },
    {
      "cell_type": "code",
      "source": [
        "mef_up_endo <- lapply(go_up_mef, function(g){\n",
        "  g[grepl('endothelial|vascular|circulatory', g$Description, ignore.case = TRUE),]\n",
        "})\n",
        "mef_up_endo <- lapply(mef_up_endo, function(g){\n",
        "  g[!grepl('negative|positive|regulation', g$Description, ignore.case = TRUE),]\n",
        "})"
      ],
      "metadata": {
        "id": "ZZ3YiQuyAc3d"
      },
      "execution_count": 46,
      "outputs": []
    },
    {
      "cell_type": "code",
      "source": [
        "mef_down_endo <- lapply(go_down_mef, function(g){\n",
        "  g[grepl('endothelial|vascular|circulatory', g$Description, ignore.case = TRUE),]\n",
        "})\n",
        "mef_down_endo <- lapply(mef_down_endo, function(g){\n",
        "  g[!grepl('negative|positive|regulation', g$Description, ignore.case = TRUE),]\n",
        "})"
      ],
      "metadata": {
        "id": "gq5rM0vXFXsJ"
      },
      "execution_count": 47,
      "outputs": []
    },
    {
      "cell_type": "markdown",
      "source": [
        "## Long dataframe for MEF"
      ],
      "metadata": {
        "id": "ApRWsR__Bixc"
      }
    },
    {
      "cell_type": "code",
      "source": [
        "mef_up_endo <- Map(cbind, mef_up_endo, method = as.factor(names(mef_up_endo)))"
      ],
      "metadata": {
        "id": "VQ2fUbJzAWWS"
      },
      "execution_count": 48,
      "outputs": []
    },
    {
      "cell_type": "code",
      "source": [
        "mef_down_endo <- Map(cbind, mef_down_endo, method = as.factor(names(mef_down_endo)))"
      ],
      "metadata": {
        "id": "MfFcLnXoW5Xz"
      },
      "execution_count": 49,
      "outputs": []
    },
    {
      "cell_type": "code",
      "source": [
        "df_up_mef <- do.call('rbind', mef_up_endo)\n",
        "df_down_mef <- do.call('rbind', mef_down_endo)"
      ],
      "metadata": {
        "id": "x3IyIoVFC0nk"
      },
      "execution_count": 50,
      "outputs": []
    },
    {
      "cell_type": "code",
      "source": [
        "df_up_mef$direction <- 'Up'\n",
        "df_down_mef$direction <- 'Down'"
      ],
      "metadata": {
        "id": "9jj3fF2PXVGk"
      },
      "execution_count": 51,
      "outputs": []
    },
    {
      "cell_type": "code",
      "source": [
        "df_mef <- rbind(df_up_mef, df_down_mef)"
      ],
      "metadata": {
        "id": "gH5ynzBWXl4i"
      },
      "execution_count": 52,
      "outputs": []
    },
    {
      "cell_type": "code",
      "source": [
        "df_mef <- df_mef[,c('ID','Description','p.adjust', 'Count', 'method', 'direction','GeneRatio')]"
      ],
      "metadata": {
        "id": "okAbiVZwDAVz"
      },
      "execution_count": 53,
      "outputs": []
    },
    {
      "cell_type": "code",
      "source": [
        "df_mef$system <- 'MEF'"
      ],
      "metadata": {
        "id": "pOh9ZhS7AMrG"
      },
      "execution_count": 54,
      "outputs": []
    },
    {
      "cell_type": "markdown",
      "source": [
        "#EB"
      ],
      "metadata": {
        "id": "kaW09bhFASDF"
      }
    },
    {
      "cell_type": "markdown",
      "metadata": {
        "id": "XbcPwrEbAfYx"
      },
      "source": [
        "## Etv2 motif regions with differential vplots"
      ]
    },
    {
      "cell_type": "code",
      "source": [
        "tab <- read.table('https://s3.msi.umn.edu/gongx030/projects/seatac_project/config/seatac_EB_Etv2/results.tsv', sep = '\\t', header = TRUE)"
      ],
      "metadata": {
        "id": "Dzh71xe6AfYx"
      },
      "execution_count": 55,
      "outputs": []
    },
    {
      "cell_type": "code",
      "metadata": {
        "id": "vXGt_iiOAfYy"
      },
      "source": [
        "res_eb <- read.table(tab[tab$vae_latent == ARGS[['vae_latent']],]$remote_output_file, header = FALSE, sep = '\\t')"
      ],
      "execution_count": 56,
      "outputs": []
    },
    {
      "cell_type": "code",
      "source": [
        "colnames(res_eb) <- c('seqnames','start','end','width','strand','pvalue_z','padj','nucleosome_treatment','nucleosome_control','log_ratio')"
      ],
      "metadata": {
        "id": "DJlL5DD8AfYy"
      },
      "execution_count": 57,
      "outputs": []
    },
    {
      "cell_type": "code",
      "source": [
        "res_eb <- GRanges(res_eb)"
      ],
      "metadata": {
        "id": "9l_We9SdAfY0"
      },
      "execution_count": 58,
      "outputs": []
    },
    {
      "cell_type": "code",
      "source": [
        "is_signif <- res_eb$padj < 0.05\n",
        "sprintf('# of significantly differential V-plots called by SeATAC: %d', sum(is_signif)) %>% message()"
      ],
      "metadata": {
        "id": "cP9irqwVAfY0",
        "colab": {
          "base_uri": "https://localhost:8080/"
        },
        "outputId": "1cea5aff-9a32-47b7-852d-749c69b5aa07"
      },
      "execution_count": 59,
      "outputs": [
        {
          "output_type": "stream",
          "name": "stderr",
          "text": [
            "# of significantly differential V-plots called by SeATAC: 6275\n",
            "\n"
          ]
        }
      ]
    },
    {
      "cell_type": "markdown",
      "source": [
        "## Read the summits called by MACS2 for EBs"
      ],
      "metadata": {
        "id": "eyAA6wf4AfY1"
      }
    },
    {
      "cell_type": "code",
      "source": [
        "remote_summit_files = c(\n",
        "  EB_NoDox_D25 = 'https://s3.msi.umn.edu/dsouz072/projects/seatac_project/config/macs2_Etv2_EB_Dox_D25_Flk1pos/1_summits.bed',\n",
        "  EB_Dox_D25_Flk1pos = 'https://s3.msi.umn.edu/dsouz072/projects/seatac_project/config/macs2_Etv2_EB_Dox_D25_Flk1pos/2_summits.bed'\n",
        ")\n",
        "for (f in remote_summit_files){\n",
        "  system(sprintf('wget -cx %s', f))\n",
        "}\n",
        "local_summit_files <- gsub('https://', './', remote_summit_files)"
      ],
      "metadata": {
        "id": "Ql7MShZQA-YI"
      },
      "execution_count": 60,
      "outputs": []
    },
    {
      "cell_type": "code",
      "source": [
        "x1 <- read.table(local_summit_files[1], header = FALSE, sep = '\\t')\n",
        "x2 <- read.table(local_summit_files[2], header = FALSE, sep = '\\t')\n",
        "gr_macs <- list(x1, x2)\n",
        "gr_ebs <- lapply(gr_macs, function(g){\n",
        "  GRanges(seqnames = g[, 1], range = IRanges(start = g[, 2], end = g[, 3]), score = g[, 5])\n",
        "}\n",
        ")"
      ],
      "metadata": {
        "id": "HtR4yM2dX9K7"
      },
      "execution_count": 61,
      "outputs": []
    },
    {
      "cell_type": "code",
      "source": [
        "sprintf('# of summits  called by MACS2 in undifferentiated EBs: %d', length(gr_ebs[[1]])) %>% message()\n",
        "sprintf('# of summits called by MACS2 in Flk1+ EBs at D2.5 post Etv2 induction: %d', length(gr_ebs[[2]])) %>% message()"
      ],
      "metadata": {
        "id": "CrSwe9GzX9K9",
        "colab": {
          "base_uri": "https://localhost:8080/"
        },
        "outputId": "deefc8f0-f12f-4b80-e32c-8fb3b0c38630"
      },
      "execution_count": 62,
      "outputs": [
        {
          "output_type": "stream",
          "name": "stderr",
          "text": [
            "# of summits  called by MACS2 in undifferentiated EBs: 30791\n",
            "\n",
            "# of summits called by MACS2 in Flk1+ EBs at D2.5 post Etv2 induction: 5323\n",
            "\n"
          ]
        }
      ]
    },
    {
      "cell_type": "code",
      "source": [
        "names(gr_ebs) <- c('EB','Flk1pos')"
      ],
      "metadata": {
        "id": "fvhS_ByxX9K-"
      },
      "execution_count": 63,
      "outputs": []
    },
    {
      "cell_type": "markdown",
      "source": [
        "Instead of looking at the overlap between MACS2 summits with the entire 640 bp V-plot window, we only look at the center 100 bp region, which is consistent with the way that SeATAC calculate the central nucleosome values"
      ],
      "metadata": {
        "id": "sFOIPVRGX9K_"
      }
    },
    {
      "cell_type": "code",
      "source": [
        "mm <- lapply(gr_ebs, function(g){\n",
        "  findOverlaps(g, resize(res_eb, fix = 'center', width = ARGS[['center_width']])) %>% as.matrix()\n",
        "}\n",
        ")"
      ],
      "metadata": {
        "id": "AC9l6I5DX9LA"
      },
      "execution_count": 64,
      "outputs": []
    },
    {
      "cell_type": "code",
      "source": [
        "mm <- lapply(names(mm), function(i){\n",
        "  cbind(mm[[i]], score = gr_ebs[[i]][mm[[i]][, 'queryHits']]$score)\n",
        "}\n",
        ")\n",
        "names(mm) <- c('EB','Flk1pos')\n",
        "\n",
        "\n"
      ],
      "metadata": {
        "id": "40hy4uzRX9LB"
      },
      "execution_count": 65,
      "outputs": []
    },
    {
      "cell_type": "code",
      "source": [
        "sp <- lapply(mm, function(m){\n",
        "  split(m[, 'score'], list(m[, 'subjectHits']))\n",
        "}\n",
        ")"
      ],
      "metadata": {
        "id": "MasJGhNiX9LB"
      },
      "execution_count": 66,
      "outputs": []
    },
    {
      "cell_type": "code",
      "source": [
        "score_eb <- sapply(sp$EB, max)\n",
        "score_eb_flk1pos <- sapply(sp$Flk1pos, max)"
      ],
      "metadata": {
        "id": "X9AudtRoX9LC"
      },
      "execution_count": 67,
      "outputs": []
    },
    {
      "cell_type": "markdown",
      "source": [
        "##Nucleoatac data"
      ],
      "metadata": {
        "id": "Ta3V__r0d2En"
      }
    },
    {
      "cell_type": "code",
      "metadata": {
        "id": "pGR9pLvAd2Ep"
      },
      "source": [
        "s3_bw_files <- c(\n",
        "  'EB_Flk1pos' = 'https://s3.msi.umn.edu/gongx030/datasets/dataset=Etv2ATAC_version=20190228a/EB_Dox_D25_Flk1pos.nucleoatac_signal.smooth.bw',\n",
        "  'EB' = 'https://s3.msi.umn.edu/gongx030/datasets/dataset=Etv2ATAC_version=20190228b/EB_NoDox_D25.nucleoatac_signal.smooth.bw'\n",
        ")"
      ],
      "execution_count": 68,
      "outputs": []
    },
    {
      "cell_type": "code",
      "metadata": {
        "id": "k0glHOEMd2Er",
        "colab": {
          "base_uri": "https://localhost:8080/"
        },
        "outputId": "b3419107-b016-4973-f200-203818d3daa2"
      },
      "source": [
        "for (i in 1:length(s3_bw_files)){\n",
        "  sprintf('wget -x -c -nH %s', s3_bw_files[i]) %>% system()\n",
        "}\n",
        "s3_bw_files <- gsub('https://s3.msi.umn.edu/', './', s3_bw_files)\n",
        "message(sprintf('all s3_bw_files exist: %s', all(file.exists(s3_bw_files))))"
      ],
      "execution_count": 69,
      "outputs": [
        {
          "output_type": "stream",
          "name": "stderr",
          "text": [
            "all s3_bw_files exist: TRUE\n",
            "\n"
          ]
        }
      ]
    },
    {
      "cell_type": "code",
      "source": [
        "bw <- lapply(s3_bw_files, function(bw_file){\n",
        " rtracklayer::import.bw(\n",
        "    bw_file, \n",
        "    which = trim(GenomicRanges::reduce(resize(res_eb, fix = 'center', width = ARGS[['center_width']])))\n",
        "  ) \n",
        "})"
      ],
      "metadata": {
        "id": "ctU4CXYAd2Er"
      },
      "execution_count": 70,
      "outputs": []
    },
    {
      "cell_type": "code",
      "source": [
        "cvg_eb <- lapply(bw, function(x){coverage(x, weight = 'score')[resize(res_eb, fix = 'center', width = ARGS[['center_width']])] %>% as.matrix()})"
      ],
      "metadata": {
        "id": "Z8rK03M_d2Es"
      },
      "execution_count": 71,
      "outputs": []
    },
    {
      "cell_type": "code",
      "source": [
        "lapply(cvg_eb, function(c){quantile(rowMeans(c), seq(0,1,by=0.1))})"
      ],
      "metadata": {
        "id": "i4JxNbqKeTH0",
        "colab": {
          "base_uri": "https://localhost:8080/",
          "height": 149
        },
        "outputId": "604e1141-efc6-4ca1-83e2-c25a45e98a34"
      },
      "execution_count": 72,
      "outputs": [
        {
          "output_type": "display_data",
          "data": {
            "text/html": [
              "<dl>\n",
              "\t<dt>$EB_Flk1pos</dt>\n",
              "\t\t<dd><style>\n",
              ".dl-inline {width: auto; margin:0; padding: 0}\n",
              ".dl-inline>dt, .dl-inline>dd {float: none; width: auto; display: inline-block}\n",
              ".dl-inline>dt::after {content: \":\\0020\"; padding-right: .5ex}\n",
              ".dl-inline>dt:not(:first-of-type) {padding-left: .5ex}\n",
              "</style><dl class=dl-inline><dt>0%</dt><dd>-6.97116626577343e-13</dd><dt>10%</dt><dd>4.76858136311265e-15</dd><dt>20%</dt><dd>0.00115812916218253</dd><dt>30%</dt><dd>0.0116744041070295</dd><dt>40%</dt><dd>0.0356317570714309</dd><dt>50%</dt><dd>0.0696482073259526</dd><dt>60%</dt><dd>0.112922663648101</dd><dt>70%</dt><dd>0.166170871786773</dd><dt>80%</dt><dd>0.237662102478556</dd><dt>90%</dt><dd>0.365668280076236</dd><dt>100%</dt><dd>11.3894767694001</dd></dl>\n",
              "</dd>\n",
              "\t<dt>$EB</dt>\n",
              "\t\t<dd><style>\n",
              ".dl-inline {width: auto; margin:0; padding: 0}\n",
              ".dl-inline>dt, .dl-inline>dd {float: none; width: auto; display: inline-block}\n",
              ".dl-inline>dt::after {content: \":\\0020\"; padding-right: .5ex}\n",
              ".dl-inline>dt:not(:first-of-type) {padding-left: .5ex}\n",
              "</style><dl class=dl-inline><dt>0%</dt><dd>-2.23355839032435e-13</dd><dt>10%</dt><dd>1.63719341902957e-13</dd><dt>20%</dt><dd>0.00858613755065762</dd><dt>30%</dt><dd>0.0333928144283194</dd><dt>40%</dt><dd>0.0714669780212032</dd><dt>50%</dt><dd>0.117003867554012</dd><dt>60%</dt><dd>0.171347539909184</dd><dt>70%</dt><dd>0.244640144418925</dd><dt>80%</dt><dd>0.348584870994087</dd><dt>90%</dt><dd>0.546948708978477</dd><dt>100%</dt><dd>14.9525252966897</dd></dl>\n",
              "</dd>\n",
              "</dl>\n"
            ],
            "text/markdown": "$EB_Flk1pos\n:   0%\n:   -6.97116626577343e-1310%\n:   4.76858136311265e-1520%\n:   0.0011581291621825330%\n:   0.011674404107029540%\n:   0.035631757071430950%\n:   0.069648207325952660%\n:   0.11292266364810170%\n:   0.16617087178677380%\n:   0.23766210247855690%\n:   0.365668280076236100%\n:   11.3894767694001\n\n\n$EB\n:   0%\n:   -2.23355839032435e-1310%\n:   1.63719341902957e-1320%\n:   0.0085861375506576230%\n:   0.033392814428319440%\n:   0.071466978021203250%\n:   0.11700386755401260%\n:   0.17134753990918470%\n:   0.24464014441892580%\n:   0.34858487099408790%\n:   0.546948708978477100%\n:   14.9525252966897\n\n\n\n\n",
            "text/latex": "\\begin{description}\n\\item[\\$EB\\_Flk1pos] \\begin{description*}\n\\item[0\\textbackslash{}\\%] -6.97116626577343e-13\n\\item[10\\textbackslash{}\\%] 4.76858136311265e-15\n\\item[20\\textbackslash{}\\%] 0.00115812916218253\n\\item[30\\textbackslash{}\\%] 0.0116744041070295\n\\item[40\\textbackslash{}\\%] 0.0356317570714309\n\\item[50\\textbackslash{}\\%] 0.0696482073259526\n\\item[60\\textbackslash{}\\%] 0.112922663648101\n\\item[70\\textbackslash{}\\%] 0.166170871786773\n\\item[80\\textbackslash{}\\%] 0.237662102478556\n\\item[90\\textbackslash{}\\%] 0.365668280076236\n\\item[100\\textbackslash{}\\%] 11.3894767694001\n\\end{description*}\n\n\\item[\\$EB] \\begin{description*}\n\\item[0\\textbackslash{}\\%] -2.23355839032435e-13\n\\item[10\\textbackslash{}\\%] 1.63719341902957e-13\n\\item[20\\textbackslash{}\\%] 0.00858613755065762\n\\item[30\\textbackslash{}\\%] 0.0333928144283194\n\\item[40\\textbackslash{}\\%] 0.0714669780212032\n\\item[50\\textbackslash{}\\%] 0.117003867554012\n\\item[60\\textbackslash{}\\%] 0.171347539909184\n\\item[70\\textbackslash{}\\%] 0.244640144418925\n\\item[80\\textbackslash{}\\%] 0.348584870994087\n\\item[90\\textbackslash{}\\%] 0.546948708978477\n\\item[100\\textbackslash{}\\%] 14.9525252966897\n\\end{description*}\n\n\\end{description}\n",
            "text/plain": [
              "$EB_Flk1pos\n",
              "           0%           10%           20%           30%           40% \n",
              "-6.971166e-13  4.768581e-15  1.158129e-03  1.167440e-02  3.563176e-02 \n",
              "          50%           60%           70%           80%           90% \n",
              " 6.964821e-02  1.129227e-01  1.661709e-01  2.376621e-01  3.656683e-01 \n",
              "         100% \n",
              " 1.138948e+01 \n",
              "\n",
              "$EB\n",
              "           0%           10%           20%           30%           40% \n",
              "-2.233558e-13  1.637193e-13  8.586138e-03  3.339281e-02  7.146698e-02 \n",
              "          50%           60%           70%           80%           90% \n",
              " 1.170039e-01  1.713475e-01  2.446401e-01  3.485849e-01  5.469487e-01 \n",
              "         100% \n",
              " 1.495253e+01 \n"
            ]
          },
          "metadata": {}
        }
      ]
    },
    {
      "cell_type": "code",
      "source": [
        "cvg_eb <- data.frame(Flk1pos = rowMeans(cvg_eb$EB_Flk1pos), EB = rowMeans(cvg_eb$EB))"
      ],
      "metadata": {
        "id": "jXj20uZDd2Et"
      },
      "execution_count": 73,
      "outputs": []
    },
    {
      "cell_type": "code",
      "source": [
        "cvg_eb$flk1pos <- ifelse(cvg_eb$Flk1pos < cvg_eb$EB, 'TRUE','FALSE')"
      ],
      "metadata": {
        "id": "498YeD4cd2Et"
      },
      "execution_count": 74,
      "outputs": []
    },
    {
      "cell_type": "code",
      "source": [
        "cvg_eb$eb <- ifelse(cvg_eb$Flk1pos > cvg_eb$EB, 'TRUE','FALSE')"
      ],
      "metadata": {
        "id": "FOJ-83vhd2Eu"
      },
      "execution_count": 75,
      "outputs": []
    },
    {
      "cell_type": "code",
      "source": [
        "cvg_eb$difference <- cvg_eb$Flk1pos - cvg_eb$EB"
      ],
      "metadata": {
        "id": "vBdJyhJCd2Ev"
      },
      "execution_count": 76,
      "outputs": []
    },
    {
      "cell_type": "code",
      "source": [
        "head(cvg_eb)"
      ],
      "metadata": {
        "id": "-_dNJub6Yp_A",
        "colab": {
          "base_uri": "https://localhost:8080/",
          "height": 286
        },
        "outputId": "47ce2792-695f-4b21-a7ed-e0c39bf5d5af"
      },
      "execution_count": 77,
      "outputs": [
        {
          "output_type": "display_data",
          "data": {
            "text/html": [
              "<table class=\"dataframe\">\n",
              "<caption>A data.frame: 6 × 5</caption>\n",
              "<thead>\n",
              "\t<tr><th></th><th scope=col>Flk1pos</th><th scope=col>EB</th><th scope=col>flk1pos</th><th scope=col>eb</th><th scope=col>difference</th></tr>\n",
              "\t<tr><th></th><th scope=col>&lt;dbl&gt;</th><th scope=col>&lt;dbl&gt;</th><th scope=col>&lt;chr&gt;</th><th scope=col>&lt;chr&gt;</th><th scope=col>&lt;dbl&gt;</th></tr>\n",
              "</thead>\n",
              "<tbody>\n",
              "\t<tr><th scope=row>1</th><td>6.744793e-02</td><td>0.27878289</td><td>TRUE </td><td>FALSE</td><td>-0.21133496</td></tr>\n",
              "\t<tr><th scope=row>2</th><td>1.820812e-01</td><td>0.45273087</td><td>TRUE </td><td>FALSE</td><td>-0.27064966</td></tr>\n",
              "\t<tr><th scope=row>3</th><td>9.866240e-17</td><td>0.02942368</td><td>TRUE </td><td>FALSE</td><td>-0.02942368</td></tr>\n",
              "\t<tr><th scope=row>4</th><td>4.854407e-15</td><td>0.34125701</td><td>TRUE </td><td>FALSE</td><td>-0.34125701</td></tr>\n",
              "\t<tr><th scope=row>5</th><td>2.497212e-01</td><td>0.17375628</td><td>FALSE</td><td>TRUE </td><td> 0.07596491</td></tr>\n",
              "\t<tr><th scope=row>6</th><td>3.761186e-03</td><td>0.24197423</td><td>TRUE </td><td>FALSE</td><td>-0.23821305</td></tr>\n",
              "</tbody>\n",
              "</table>\n"
            ],
            "text/markdown": "\nA data.frame: 6 × 5\n\n| <!--/--> | Flk1pos &lt;dbl&gt; | EB &lt;dbl&gt; | flk1pos &lt;chr&gt; | eb &lt;chr&gt; | difference &lt;dbl&gt; |\n|---|---|---|---|---|---|\n| 1 | 6.744793e-02 | 0.27878289 | TRUE  | FALSE | -0.21133496 |\n| 2 | 1.820812e-01 | 0.45273087 | TRUE  | FALSE | -0.27064966 |\n| 3 | 9.866240e-17 | 0.02942368 | TRUE  | FALSE | -0.02942368 |\n| 4 | 4.854407e-15 | 0.34125701 | TRUE  | FALSE | -0.34125701 |\n| 5 | 2.497212e-01 | 0.17375628 | FALSE | TRUE  |  0.07596491 |\n| 6 | 3.761186e-03 | 0.24197423 | TRUE  | FALSE | -0.23821305 |\n\n",
            "text/latex": "A data.frame: 6 × 5\n\\begin{tabular}{r|lllll}\n  & Flk1pos & EB & flk1pos & eb & difference\\\\\n  & <dbl> & <dbl> & <chr> & <chr> & <dbl>\\\\\n\\hline\n\t1 & 6.744793e-02 & 0.27878289 & TRUE  & FALSE & -0.21133496\\\\\n\t2 & 1.820812e-01 & 0.45273087 & TRUE  & FALSE & -0.27064966\\\\\n\t3 & 9.866240e-17 & 0.02942368 & TRUE  & FALSE & -0.02942368\\\\\n\t4 & 4.854407e-15 & 0.34125701 & TRUE  & FALSE & -0.34125701\\\\\n\t5 & 2.497212e-01 & 0.17375628 & FALSE & TRUE  &  0.07596491\\\\\n\t6 & 3.761186e-03 & 0.24197423 & TRUE  & FALSE & -0.23821305\\\\\n\\end{tabular}\n",
            "text/plain": [
              "  Flk1pos      EB         flk1pos eb    difference \n",
              "1 6.744793e-02 0.27878289 TRUE    FALSE -0.21133496\n",
              "2 1.820812e-01 0.45273087 TRUE    FALSE -0.27064966\n",
              "3 9.866240e-17 0.02942368 TRUE    FALSE -0.02942368\n",
              "4 4.854407e-15 0.34125701 TRUE    FALSE -0.34125701\n",
              "5 2.497212e-01 0.17375628 FALSE   TRUE   0.07596491\n",
              "6 3.761186e-03 0.24197423 TRUE    FALSE -0.23821305"
            ]
          },
          "metadata": {}
        }
      ]
    },
    {
      "cell_type": "code",
      "source": [
        "up_eb <- res_eb        #Up in undifferentiated MEFs\n",
        "up_eb$macs2 <- 0\n",
        "up_eb[as.numeric(names(score_eb))]$macs2 <- score_eb\n",
        "up_eb$seatac <- -log10(up_eb$padj + 1e-100)\n",
        "up_eb$difference <- cvg_eb$difference\n",
        "up_eb$eb <- cvg_eb$eb\n"
      ],
      "metadata": {
        "id": "_u6YAtZSX9LC"
      },
      "execution_count": 78,
      "outputs": []
    },
    {
      "cell_type": "code",
      "source": [
        "down_eb <- res_eb       #Down in undifferentiated MEFs\n",
        "down_eb$macs2 <- 0\n",
        "down_eb[as.numeric(names(score_eb_flk1pos))]$macs2 <- score_eb_flk1pos\n",
        "down_eb$seatac <- -log10(down_eb$padj + 1e-100)\n",
        "down_eb$difference <- cvg_eb$difference\n",
        "down_eb$flk1pos <- cvg_eb$flk1pos"
      ],
      "metadata": {
        "id": "ixu3ZmIrX9LD"
      },
      "execution_count": 79,
      "outputs": []
    },
    {
      "cell_type": "markdown",
      "source": [
        "##Pathway analysis for EBs"
      ],
      "metadata": {
        "id": "dprjaD0FX9LD"
      }
    },
    {
      "cell_type": "code",
      "source": [
        "eb_peaks_up <- lapply(ARGS[['param_eb']], function(x){\n",
        "  up_eb[up_eb$log_ratio > x & up_eb$padj < ARGS[['padjusted_cutoff']]]\n",
        "})\n",
        "names(eb_peaks_up) <- as.character(ARGS[['param_eb']])"
      ],
      "metadata": {
        "id": "moGERnFGX9LF"
      },
      "execution_count": 80,
      "outputs": []
    },
    {
      "cell_type": "code",
      "source": [
        "eb_peaks_up <- list(seatac = up_eb[up_eb$log_ratio > ARGS[['log_ratio']] & up_eb$padj < ARGS[['padjusted_cutoff']]],\n",
        " macs2 = up_eb[up_eb$macs2 > -log10(ARGS[['padjusted_cutoff']])],\n",
        " nucleoatac = up_eb[up_eb$difference > 0.4 & up_eb$eb == TRUE])\n"
      ],
      "metadata": {
        "id": "rmlAfcjVX9LH"
      },
      "execution_count": 81,
      "outputs": []
    },
    {
      "cell_type": "code",
      "source": [
        "sprintf('# of Vplots that have increased nuclsoeome occupancy at the center in Flk1+ EBs at D2.5 post Etv2 induction with log ratio cutoff of 0.1 : %d', length(eb_peaks_up[[1]])) %>% message()\n",
        "sprintf('# of summits called by MACS2 in Flk1+ EBs at D2.5 post Etv2 induction : %d', length(eb_peaks_up[[2]])) %>% message()\n",
        "sprintf('# of regions with increased nucleosome occupancy in Flk1+ EBs at D2.5 post Etv2 induction : %d', length(eb_peaks_up[[3]])) %>% message()"
      ],
      "metadata": {
        "id": "mcJwnYZZe1D1",
        "colab": {
          "base_uri": "https://localhost:8080/"
        },
        "outputId": "2c5fbe32-7657-4fb6-8c23-aec556dc168a"
      },
      "execution_count": 82,
      "outputs": [
        {
          "output_type": "stream",
          "name": "stderr",
          "text": [
            "# of Vplots that have increased nuclsoeome occupancy at the center in Flk1+ EBs at D2.5 post Etv2 induction with log ratio cutoff of 0.1 : 1410\n",
            "\n",
            "# of summits called by MACS2 in Flk1+ EBs at D2.5 post Etv2 induction : 491\n",
            "\n",
            "# of regions with increased nucleosome occupancy in Flk1+ EBs at D2.5 post Etv2 induction : 732\n",
            "\n"
          ]
        }
      ]
    },
    {
      "cell_type": "code",
      "source": [
        "eb_peaks_down <- list(seatac = down_eb[down_eb$log_ratio < -ARGS[['log_ratio']] & down_eb$padj < ARGS[['padjusted_cutoff']]],\n",
        " macs2 = down_eb[down_eb$macs2 > -log10(ARGS[['padjusted_cutoff']])],\n",
        " nucleoatac = down_eb[down_eb$difference < -0.4 & down_eb$flk1pos == TRUE])"
      ],
      "metadata": {
        "id": "BQrmaJXNhDNU"
      },
      "execution_count": 83,
      "outputs": []
    },
    {
      "cell_type": "code",
      "source": [
        "sprintf('# of Vplots that have increased nuclsoeome occupancy at the center in undifferentiated EBs with log ratio cutoff of 0.1 : %d', length(eb_peaks_down[[1]])) %>% message()\n",
        "sprintf('# of summits called by MACS2 in undifferentiated EBs : %d', length(eb_peaks_down[[2]])) %>% message()\n",
        "sprintf('# of regions with increased nucleosome occupancy in undifferentiated EBs : %d', length(eb_peaks_down[[3]])) %>% message()"
      ],
      "metadata": {
        "id": "j6mLsjaZX9LI",
        "colab": {
          "base_uri": "https://localhost:8080/"
        },
        "outputId": "c82f67d4-a98b-4d1e-d9eb-9d080b3ae215"
      },
      "execution_count": 84,
      "outputs": [
        {
          "output_type": "stream",
          "name": "stderr",
          "text": [
            "# of Vplots that have increased nuclsoeome occupancy at the center in undifferentiated EBs with log ratio cutoff of 0.1 : 2342\n",
            "\n",
            "# of summits called by MACS2 in undifferentiated EBs : 760\n",
            "\n",
            "# of regions with increased nucleosome occupancy in undifferentiated EBs : 2537\n",
            "\n"
          ]
        }
      ]
    },
    {
      "cell_type": "markdown",
      "source": [
        "###Annotate the peaks for EBs"
      ],
      "metadata": {
        "id": "sayfV64UX9LI"
      }
    },
    {
      "cell_type": "code",
      "source": [
        "anno_up_eb <- lapply(eb_peaks_up, function(s){annotatePeak(s, tssRegion = c(ARGS[['upstream']], ARGS[['downstream']]),TxDb = TxDb.Mmusculus.UCSC.mm10.knownGene,\n",
        "        annoDb = 'org.Mm.eg.db')})"
      ],
      "metadata": {
        "id": "fOoUwnwhX9LJ",
        "colab": {
          "base_uri": "https://localhost:8080/"
        },
        "outputId": "de264b2f-e5a0-45b3-ba19-438e8f055c77"
      },
      "execution_count": 85,
      "outputs": [
        {
          "output_type": "stream",
          "name": "stdout",
          "text": [
            ">> preparing features information...\t\t 2022-04-18 02:31:40 AM \n",
            ">> identifying nearest features...\t\t 2022-04-18 02:31:40 AM \n",
            ">> calculating distance from peak to TSS...\t 2022-04-18 02:31:40 AM \n",
            ">> assigning genomic annotation...\t\t 2022-04-18 02:31:40 AM \n",
            ">> adding gene annotation...\t\t\t 2022-04-18 02:31:43 AM \n"
          ]
        },
        {
          "output_type": "stream",
          "name": "stderr",
          "text": [
            "'select()' returned 1:many mapping between keys and columns\n",
            "\n"
          ]
        },
        {
          "output_type": "stream",
          "name": "stdout",
          "text": [
            ">> assigning chromosome lengths\t\t\t 2022-04-18 02:31:43 AM \n",
            ">> done...\t\t\t\t\t 2022-04-18 02:31:43 AM \n",
            ">> preparing features information...\t\t 2022-04-18 02:31:43 AM \n",
            ">> identifying nearest features...\t\t 2022-04-18 02:31:43 AM \n",
            ">> calculating distance from peak to TSS...\t 2022-04-18 02:31:44 AM \n",
            ">> assigning genomic annotation...\t\t 2022-04-18 02:31:44 AM \n",
            ">> adding gene annotation...\t\t\t 2022-04-18 02:31:46 AM \n"
          ]
        },
        {
          "output_type": "stream",
          "name": "stderr",
          "text": [
            "'select()' returned 1:many mapping between keys and columns\n",
            "\n"
          ]
        },
        {
          "output_type": "stream",
          "name": "stdout",
          "text": [
            ">> assigning chromosome lengths\t\t\t 2022-04-18 02:31:47 AM \n",
            ">> done...\t\t\t\t\t 2022-04-18 02:31:47 AM \n",
            ">> preparing features information...\t\t 2022-04-18 02:31:47 AM \n",
            ">> identifying nearest features...\t\t 2022-04-18 02:31:47 AM \n",
            ">> calculating distance from peak to TSS...\t 2022-04-18 02:31:47 AM \n",
            ">> assigning genomic annotation...\t\t 2022-04-18 02:31:47 AM \n",
            ">> adding gene annotation...\t\t\t 2022-04-18 02:31:49 AM \n"
          ]
        },
        {
          "output_type": "stream",
          "name": "stderr",
          "text": [
            "'select()' returned 1:many mapping between keys and columns\n",
            "\n"
          ]
        },
        {
          "output_type": "stream",
          "name": "stdout",
          "text": [
            ">> assigning chromosome lengths\t\t\t 2022-04-18 02:31:50 AM \n",
            ">> done...\t\t\t\t\t 2022-04-18 02:31:50 AM \n"
          ]
        }
      ]
    },
    {
      "cell_type": "code",
      "source": [
        "dat_up_eb<- lapply(anno_up_eb, function(x){\n",
        "  data.frame(x)\n",
        "})"
      ],
      "metadata": {
        "id": "EaHvq0NBX9LJ"
      },
      "execution_count": 86,
      "outputs": []
    },
    {
      "cell_type": "markdown",
      "source": [
        "#Genes at promoters"
      ],
      "metadata": {
        "id": "Yow9XpmM7qTb"
      }
    },
    {
      "cell_type": "code",
      "source": [
        "sub <- dat_up_eb[[1]][grepl('Promoter',dat_up_eb[[1]]$annotation),]"
      ],
      "metadata": {
        "id": "3xEeqM5xt67N"
      },
      "execution_count": 88,
      "outputs": []
    },
    {
      "cell_type": "code",
      "source": [
        "sub_go <- enrichGO(gene = sub$geneId,\n",
        "                OrgDb         = org.Mm.eg.db,\n",
        "                ont           = \"BP\",\n",
        "                pAdjustMethod = \"BH\",\n",
        "                pvalueCutoff  = ARGS[['pvalueCutoff']],\n",
        "                qvalueCutoff  = ARGS[['qvalueCutoff']],\n",
        "        readable      = TRUE)"
      ],
      "metadata": {
        "id": "lPheBIXouifH"
      },
      "execution_count": 90,
      "outputs": []
    },
    {
      "cell_type": "code",
      "source": [
        "go_up_eb <- lapply(dat_up_eb, function(a){\n",
        "  enrichGO(gene = a$geneId,\n",
        "                OrgDb         = org.Mm.eg.db,\n",
        "                ont           = \"BP\",\n",
        "                pAdjustMethod = \"BH\",\n",
        "                pvalueCutoff  = ARGS[['pvalueCutoff']],\n",
        "                qvalueCutoff  = ARGS[['qvalueCutoff']],\n",
        "        readable      = TRUE)\n",
        "}\n",
        ")"
      ],
      "metadata": {
        "id": "aJkV0rURX9LJ"
      },
      "execution_count": 96,
      "outputs": []
    },
    {
      "cell_type": "code",
      "source": [
        "anno_down_eb <- lapply(eb_peaks_down, function(s){annotatePeak(s, tssRegion = c(ARGS[['upstream']], ARGS[['downstream']]),TxDb = TxDb.Mmusculus.UCSC.mm10.knownGene,\n",
        "        annoDb = 'org.Mm.eg.db')})"
      ],
      "metadata": {
        "id": "vSuJ7TicX9LK",
        "colab": {
          "base_uri": "https://localhost:8080/"
        },
        "outputId": "914b85e8-55b0-429e-d556-4d46b7889a04"
      },
      "execution_count": 98,
      "outputs": [
        {
          "output_type": "stream",
          "name": "stdout",
          "text": [
            ">> preparing features information...\t\t 2022-04-18 02:33:09 AM \n",
            ">> identifying nearest features...\t\t 2022-04-18 02:33:09 AM \n",
            ">> calculating distance from peak to TSS...\t 2022-04-18 02:33:10 AM \n",
            ">> assigning genomic annotation...\t\t 2022-04-18 02:33:10 AM \n",
            ">> adding gene annotation...\t\t\t 2022-04-18 02:33:12 AM \n"
          ]
        },
        {
          "output_type": "stream",
          "name": "stderr",
          "text": [
            "'select()' returned 1:many mapping between keys and columns\n",
            "\n"
          ]
        },
        {
          "output_type": "stream",
          "name": "stdout",
          "text": [
            ">> assigning chromosome lengths\t\t\t 2022-04-18 02:33:12 AM \n",
            ">> done...\t\t\t\t\t 2022-04-18 02:33:12 AM \n",
            ">> preparing features information...\t\t 2022-04-18 02:33:12 AM \n",
            ">> identifying nearest features...\t\t 2022-04-18 02:33:12 AM \n",
            ">> calculating distance from peak to TSS...\t 2022-04-18 02:33:13 AM \n",
            ">> assigning genomic annotation...\t\t 2022-04-18 02:33:13 AM \n",
            ">> adding gene annotation...\t\t\t 2022-04-18 02:33:15 AM \n"
          ]
        },
        {
          "output_type": "stream",
          "name": "stderr",
          "text": [
            "'select()' returned 1:1 mapping between keys and columns\n",
            "\n"
          ]
        },
        {
          "output_type": "stream",
          "name": "stdout",
          "text": [
            ">> assigning chromosome lengths\t\t\t 2022-04-18 02:33:15 AM \n",
            ">> done...\t\t\t\t\t 2022-04-18 02:33:15 AM \n",
            ">> preparing features information...\t\t 2022-04-18 02:33:15 AM \n",
            ">> identifying nearest features...\t\t 2022-04-18 02:33:15 AM \n",
            ">> calculating distance from peak to TSS...\t 2022-04-18 02:33:16 AM \n",
            ">> assigning genomic annotation...\t\t 2022-04-18 02:33:16 AM \n",
            ">> adding gene annotation...\t\t\t 2022-04-18 02:33:19 AM \n"
          ]
        },
        {
          "output_type": "stream",
          "name": "stderr",
          "text": [
            "'select()' returned 1:many mapping between keys and columns\n",
            "\n"
          ]
        },
        {
          "output_type": "stream",
          "name": "stdout",
          "text": [
            ">> assigning chromosome lengths\t\t\t 2022-04-18 02:33:19 AM \n",
            ">> done...\t\t\t\t\t 2022-04-18 02:33:19 AM \n"
          ]
        }
      ]
    },
    {
      "cell_type": "code",
      "source": [
        "dat_down_eb <- lapply(anno_down_eb, function(x){\n",
        "  data.frame(x)\n",
        "})"
      ],
      "metadata": {
        "id": "v2MqVOWmX9LK"
      },
      "execution_count": 99,
      "outputs": []
    },
    {
      "cell_type": "code",
      "source": [
        "go_down_eb <- lapply(dat_down_eb, function(a){\n",
        "  enrichGO(gene = a$geneId,\n",
        "                OrgDb         = org.Mm.eg.db,\n",
        "                ont           = \"BP\",\n",
        "                pAdjustMethod = \"BH\",\n",
        "                pvalueCutoff  = ARGS[['pvalueCutoff']],\n",
        "                qvalueCutoff  = ARGS[['qvalueCutoff']],\n",
        "        readable      = TRUE)\n",
        "}\n",
        ")"
      ],
      "metadata": {
        "id": "W-V0UDHPX9LL"
      },
      "execution_count": 100,
      "outputs": []
    },
    {
      "cell_type": "code",
      "source": [
        "eb_up_top20 <- lapply(go_up_eb, function(g){\n",
        "  head(g, 20)\n",
        "})\n",
        "eb_up_top20 <- lapply(eb_up_top20, function(g){\n",
        "  g[!grepl('negative|positive|regulation', g$Description, ignore.case = TRUE),]\n",
        "})"
      ],
      "metadata": {
        "id": "qMFy4gl6ojxJ"
      },
      "execution_count": 101,
      "outputs": []
    },
    {
      "cell_type": "code",
      "source": [
        "eb_up_endo <- lapply(go_up_eb, function(g){\n",
        "  g[grepl('endothelial|vascular|circulatory', g$Description, ignore.case = TRUE),]\n",
        "})\n",
        "eb_up_endo <- lapply(eb_up_endo, function(g){\n",
        "  g[!grepl('negative|positive|regulation', g$Description, ignore.case = TRUE),]\n",
        "})"
      ],
      "metadata": {
        "id": "DlSdOlhYX9LL"
      },
      "execution_count": 102,
      "outputs": []
    },
    {
      "cell_type": "code",
      "source": [
        "eb_down_endo <- lapply(go_down_eb, function(g){\n",
        "  g[grepl('endothelial|vascular|circulatory', g$Description, ignore.case = TRUE),]\n",
        "})\n",
        "eb_down_endo <- lapply(eb_down_endo, function(g){\n",
        "  g[!grepl('negative|positive|regulation', g$Description, ignore.case = TRUE),]\n",
        "})"
      ],
      "metadata": {
        "id": "w2e-6qLzX9LL"
      },
      "execution_count": 103,
      "outputs": []
    },
    {
      "cell_type": "markdown",
      "source": [
        "## Long dataframe for EB"
      ],
      "metadata": {
        "id": "Zl4wmnT-X9LL"
      }
    },
    {
      "cell_type": "code",
      "source": [
        "eb_up_endo <- Map(cbind, eb_up_endo, method = as.factor(names(eb_up_endo)))"
      ],
      "metadata": {
        "id": "rcumtQL8X9LM"
      },
      "execution_count": 104,
      "outputs": []
    },
    {
      "cell_type": "code",
      "source": [
        "eb_down_endo <- Map(cbind, eb_down_endo, method = as.factor(names(eb_down_endo)))"
      ],
      "metadata": {
        "id": "uaIBkYdiX9LM"
      },
      "execution_count": 106,
      "outputs": []
    },
    {
      "cell_type": "code",
      "source": [
        "df_up_eb <- do.call('rbind', eb_up_endo)\n",
        "df_down_eb <- do.call('rbind', eb_down_endo)"
      ],
      "metadata": {
        "id": "Zs9Xt0yvX9LM"
      },
      "execution_count": 107,
      "outputs": []
    },
    {
      "cell_type": "code",
      "source": [
        "df_up_eb$direction <- 'Up'\n",
        "df_down_eb$direction <- 'Down'"
      ],
      "metadata": {
        "id": "NjE_9KoLhp59"
      },
      "execution_count": 108,
      "outputs": []
    },
    {
      "cell_type": "code",
      "source": [
        "df_eb <- rbind(df_up_eb, df_down_eb)"
      ],
      "metadata": {
        "id": "uB9gpwDFhp5-"
      },
      "execution_count": 109,
      "outputs": []
    },
    {
      "cell_type": "code",
      "source": [
        "df_eb <- df_eb[,c('ID','Description','p.adjust', 'Count', 'method', 'direction', 'GeneRatio')]"
      ],
      "metadata": {
        "id": "Gba_f2YNhp5_"
      },
      "execution_count": 110,
      "outputs": []
    },
    {
      "cell_type": "code",
      "source": [
        "df_eb$system <- 'EB'"
      ],
      "metadata": {
        "id": "Xql7S-A3hp5_"
      },
      "execution_count": 111,
      "outputs": []
    },
    {
      "cell_type": "markdown",
      "source": [
        "#Long DF for MEF and EB\n"
      ],
      "metadata": {
        "id": "EzmPRFmcFGIN"
      }
    },
    {
      "cell_type": "markdown",
      "source": [
        "## This dataset contains Pathway terms with an adjusted p-value, log_ratio, method(SeATAC & MACS2), and the system EBs and MEFs"
      ],
      "metadata": {
        "id": "NUt9PbLOSkrN"
      }
    },
    {
      "cell_type": "code",
      "source": [
        "df <- rbind(df_mef, df_eb)"
      ],
      "metadata": {
        "id": "DkjuCvrqFILM"
      },
      "execution_count": 112,
      "outputs": []
    },
    {
      "cell_type": "code",
      "source": [
        "df$system <- as.factor(df$system)\n",
        "df$direction <- as.factor(df$direction)"
      ],
      "metadata": {
        "id": "WUj5r59fPA32"
      },
      "execution_count": 113,
      "outputs": []
    },
    {
      "cell_type": "code",
      "source": [
        "long_df <- df[df$Description %in% c('endothelial cell proliferation', 'blood vessel endothelial cell migration', 'vascular endothelial growth factor signaling pathway', 'vascular process in circulatory system', 'endothelial cell activation' ),]"
      ],
      "metadata": {
        "id": "AoZUcY7HiWo_"
      },
      "execution_count": 115,
      "outputs": []
    },
    {
      "cell_type": "markdown",
      "source": [
        "#Plots for pathway analysis comparing different log ratio cutoffs for seatac along with MACS2 for both EBs and MEFs when Flk1+ MEFs and EBs are Up"
      ],
      "metadata": {
        "id": "eka_NE4ODyIa"
      }
    },
    {
      "cell_type": "code",
      "source": [
        "options(repr.plot.width = 20, repr.plot.height = 10)\n",
        "long_df %>%\n",
        "  filter(direction == 'Down') %>%\n",
        "  ggplot(aes(x = Description, y = -log10(p.adjust), fill = method)) + \n",
        "    geom_bar(stat='identity', position='dodge') +\n",
        "    facet_wrap( ~ system) + \n",
        "    geom_hline(yintercept = -log10(0.05), linetype = 'dashed') +\n",
        "    coord_flip() +\n",
        "    scale_fill_manual(values = c('lightcoral','purple','cyan3')) +\n",
        "    xlab('Method') +\n",
        "    ylab('-log10(Adjusted P-value from Pathway Analysis)') +\n",
        "    ggtitle('GO terms related to Vascularendothelial development') +\n",
        "    theme(\n",
        "           strip.text = element_text(size = 20),\n",
        "           axis.title.x = element_text(size = 30),\n",
        "           axis.title.y = element_text(size = 30),\n",
        "           axis.text.x = element_text(size = 20),\n",
        "           axis.text.y = element_text(size = 20, face = 'bold'),\n",
        "           plot.title = element_text(size=30, face='bold.italic'),\n",
        "           panel.grid.major = element_blank(), \n",
        "           panel.grid.minor = element_blank(),\n",
        "           panel.background = element_blank(), \n",
        "           axis.line = element_line(colour = \"black\")\n",
        "           ) \n"
      ],
      "metadata": {
        "id": "MVqewaoxRR2A",
        "colab": {
          "base_uri": "https://localhost:8080/",
          "height": 617
        },
        "outputId": "53786597-d0d1-438e-bf40-0674b3fb3509"
      },
      "execution_count": 117,
      "outputs": [
        {
          "output_type": "display_data",
          "data": {
            "text/plain": [
              "plot without title"
            ],
            "image/png": "[encoded data removed]"
          },
          "metadata": {
            "image/png": {
              "width": 1200,
              "height": 600
            }
          }
        }
      ]
    },
    {
      "cell_type": "markdown",
      "source": [
        "#Venn Diagram"
      ],
      "metadata": {
        "id": "5FwB2gZoTRxX"
      }
    },
    {
      "cell_type": "code",
      "source": [
        "options(repr.plot.width=4, repr.plot.height=4)\n",
        "draw.triple.venn(\n",
        "    area1 = length(down_mef[down_mef$log_ratio < -ARGS[['log_ratio']] & down_mef$padj < ARGS[['padjusted_cutoff']]]),                         # Create venn diagram with three sets\n",
        "    area2 = length(down_mef[down_mef$macs2 > -log10(ARGS[['padjusted_cutoff']])]),\n",
        "    area3 = length(down_mef[down_mef$difference < -0.4 & down_mef$flk1pos == TRUE]),\n",
        "    n12 = length(down_mef[down_mef$log_ratio  < -ARGS[['log_ratio']] & down_mef$padj < ARGS[['padjusted_cutoff']] & down_mef$macs2 > -log10(ARGS[['padjusted_cutoff']])]),\n",
        "    n23 = length(down_mef[down_mef$macs2 > -log10(ARGS[['padjusted_cutoff']]) & down_mef$difference < -0.4 & down_mef$flk1pos == TRUE]),\n",
        "    n13 = length(down_mef[down_mef$log_ratio < -ARGS[['log_ratio']] & down_mef$padj < ARGS[['padjusted_cutoff']] & down_mef$difference < -0.4 & down_mef$flk1pos == TRUE]), \n",
        "    n123 = length(down_mef[down_mef$log_ratio < -ARGS[['log_ratio']] & down_mef$padj < ARGS[['padjusted_cutoff']] & down_mef$macs2 > -log10(ARGS[['padjusted_cutoff']]) & down_mef$difference < -0.4 & down_mef$flk1pos == TRUE]),\n",
        "    category = c(\"SeATAC\", 'MACS2','NucleoATAC'), \n",
        "    lty = \"blank\", \n",
        "    fill = c(\"cyan4\", \"lightcoral\",\"purple\"),\n",
        "    scale = FALSE\n",
        "    )"
      ],
      "metadata": {
        "id": "OtofDh2rTREx",
        "colab": {
          "base_uri": "https://localhost:8080/",
          "height": 295
        },
        "outputId": "f444b979-9646-46ce-ee72-f04d505e80c5"
      },
      "execution_count": 120,
      "outputs": [
        {
          "output_type": "display_data",
          "data": {
            "text/plain": [
              "(polygon[GRID.polygon.455], polygon[GRID.polygon.456], polygon[GRID.polygon.457], polygon[GRID.polygon.458], polygon[GRID.polygon.459], polygon[GRID.polygon.460], text[GRID.text.461], text[GRID.text.462], text[GRID.text.463], text[GRID.text.464], text[GRID.text.465], text[GRID.text.466], text[GRID.text.467], text[GRID.text.468], text[GRID.text.469]) "
            ]
          },
          "metadata": {}
        },
        {
          "output_type": "display_data",
          "data": {
            "text/plain": [
              "plot without title"
            ],
            "image/png": "[encoded data removed]"
          },
          "metadata": {
            "image/png": {
              "width": 240,
              "height": 240
            }
          }
        }
      ]
    },
    {
      "cell_type": "code",
      "source": [
        "options(repr.plot.width=4, repr.plot.height=4)\n",
        "draw.triple.venn(\n",
        "    area1 = length(down_eb[down_eb$log_ratio < -ARGS[['log_ratio']] & down_eb$padj < ARGS[['padjusted_cutoff']]]),                         # Create venn diagram with three sets\n",
        "    area2 = length(down_eb[down_eb$macs2 > -log10(ARGS[['padjusted_cutoff']])]),\n",
        "    area3 = length(down_eb[down_eb$difference < -0.4 & down_eb$flk1pos == TRUE]),\n",
        "    n12 = length(down_eb[down_eb$log_ratio  < -ARGS[['log_ratio']] & down_eb$padj < ARGS[['padjusted_cutoff']] & down_eb$macs2 > -log10(ARGS[['padjusted_cutoff']])]),\n",
        "    n23 = length(down_eb[down_eb$macs2 > -log10(ARGS[['padjusted_cutoff']]) & down_eb$difference < -0.4 & down_eb$flk1pos == TRUE]),\n",
        "    n13 = length(down_eb[down_eb$log_ratio < -ARGS[['log_ratio']] & down_eb$padj < ARGS[['padjusted_cutoff']] & down_eb$difference < -0.4 & down_eb$flk1pos == TRUE]), \n",
        "    n123 = length(down_eb[down_eb$log_ratio < -ARGS[['log_ratio']] & down_eb$padj < ARGS[['padjusted_cutoff']] & down_eb$macs2 > -log10(ARGS[['padjusted_cutoff']]) & down_eb$difference < -0.4 & down_eb$flk1pos == TRUE]),\n",
        "    category = c(\"SeATAC\", 'MACS2','NucleoATAC'), \n",
        "    lty = \"blank\", \n",
        "    fill = c(\"cyan4\", \"lightcoral\",\"purple\"),\n",
        "    scale = FALSE\n",
        "    )"
      ],
      "metadata": {
        "id": "VrbDWxcgeUNv",
        "colab": {
          "base_uri": "https://localhost:8080/",
          "height": 295
        },
        "outputId": "c5708f89-b4ca-4af9-dc8b-50902894055f"
      },
      "execution_count": 122,
      "outputs": [
        {
          "output_type": "display_data",
          "data": {
            "text/plain": [
              "(polygon[GRID.polygon.470], polygon[GRID.polygon.471], polygon[GRID.polygon.472], polygon[GRID.polygon.473], polygon[GRID.polygon.474], polygon[GRID.polygon.475], text[GRID.text.476], text[GRID.text.477], text[GRID.text.478], text[GRID.text.479], text[GRID.text.480], text[GRID.text.481], text[GRID.text.482], text[GRID.text.483], text[GRID.text.484], text[GRID.text.485]) "
            ]
          },
          "metadata": {}
        },
        {
          "output_type": "display_data",
          "data": {
            "text/plain": [
              "plot without title"
            ],
            "image/png": "[encoded data removed]"
          },
          "metadata": {
            "image/png": {
              "width": 240,
              "height": 240
            }
          }
        }
      ]
    },
    {
      "cell_type": "code",
      "metadata": {
        "id": "1O6H0QYdIBSN",
        "colab": {
          "base_uri": "https://localhost:8080/",
          "height": 1000
        },
        "outputId": "0ecd5cbe-c623-448e-c9ee-a4a2b7f6426f"
      },
      "source": [
        "sessionInfo()"
      ],
      "execution_count": 142,
      "outputs": [
        {
          "output_type": "display_data",
          "data": {
            "text/plain": [
              "R version 4.1.3 (2022-03-10)\n",
              "Platform: x86_64-pc-linux-gnu (64-bit)\n",
              "Running under: Ubuntu 18.04.5 LTS\n",
              "\n",
              "Matrix products: default\n",
              "BLAS:   /usr/lib/x86_64-linux-gnu/openblas/libblas.so.3\n",
              "LAPACK: /usr/lib/x86_64-linux-gnu/libopenblasp-r0.2.20.so\n",
              "\n",
              "locale:\n",
              " [1] LC_CTYPE=en_US.UTF-8       LC_NUMERIC=C              \n",
              " [3] LC_TIME=en_US.UTF-8        LC_COLLATE=en_US.UTF-8    \n",
              " [5] LC_MONETARY=en_US.UTF-8    LC_MESSAGES=en_US.UTF-8   \n",
              " [7] LC_PAPER=en_US.UTF-8       LC_NAME=C                 \n",
              " [9] LC_ADDRESS=C               LC_TELEPHONE=C            \n",
              "[11] LC_MEASUREMENT=en_US.UTF-8 LC_IDENTIFICATION=C       \n",
              "\n",
              "attached base packages:\n",
              "[1] grid      stats4    stats     graphics  grDevices utils     datasets \n",
              "[8] methods   base     \n",
              "\n",
              "other attached packages:\n",
              " [1] EnrichedHeatmap_1.24.0                   \n",
              " [2] ComplexHeatmap_2.10.0                    \n",
              " [3] clusterProfiler_4.2.2                    \n",
              " [4] org.Mm.eg.db_3.14.0                      \n",
              " [5] TxDb.Mmusculus.UCSC.mm10.knownGene_3.10.0\n",
              " [6] GenomicFeatures_1.46.5                   \n",
              " [7] AnnotationDbi_1.56.2                     \n",
              " [8] ChIPseeker_1.31.4                        \n",
              " [9] patchwork_1.1.1                          \n",
              "[10] ggplot2_3.3.5                            \n",
              "[11] VennDiagram_1.7.3                        \n",
              "[12] futile.logger_1.4.3                      \n",
              "[13] igraph_1.3.0                             \n",
              "[14] chromVARmotifs_0.2.0                     \n",
              "[15] motifmatchr_1.16.0                       \n",
              "[16] dplyr_1.0.8                              \n",
              "[17] BSgenome.Mmusculus.UCSC.mm10_1.4.3       \n",
              "[18] BSgenome_1.62.0                          \n",
              "[19] rtracklayer_1.54.0                       \n",
              "[20] Biostrings_2.62.0                        \n",
              "[21] XVector_0.34.0                           \n",
              "[22] seatac_0.4.0-010                         \n",
              "[23] SummarizedExperiment_1.24.0              \n",
              "[24] Biobase_2.54.0                           \n",
              "[25] MatrixGenerics_1.6.0                     \n",
              "[26] matrixStats_0.61.0                       \n",
              "[27] GenomicRanges_1.46.1                     \n",
              "[28] GenomeInfoDb_1.30.1                      \n",
              "[29] IRanges_2.28.0                           \n",
              "[30] S4Vectors_0.32.4                         \n",
              "[31] BiocGenerics_0.40.0                      \n",
              "[32] tfdatasets_2.7.0                         \n",
              "[33] tfprobability_0.15.0                     \n",
              "[34] tensorflow_2.8.0                         \n",
              "[35] devtools_2.4.3                           \n",
              "[36] usethis_2.1.5                            \n",
              "\n",
              "loaded via a namespace (and not attached):\n",
              "  [1] rappdirs_0.3.3                         \n",
              "  [2] pbdZMQ_0.3-7                           \n",
              "  [3] R.methodsS3_1.8.1                      \n",
              "  [4] tidyr_1.2.0                            \n",
              "  [5] bit64_4.0.5                            \n",
              "  [6] DelayedArray_0.20.0                    \n",
              "  [7] R.utils_2.11.0                         \n",
              "  [8] data.table_1.14.2                      \n",
              "  [9] KEGGREST_1.34.0                        \n",
              " [10] TFBSTools_1.32.0                       \n",
              " [11] RCurl_1.98-1.6                         \n",
              " [12] doParallel_1.0.17                      \n",
              " [13] generics_0.1.2                         \n",
              " [14] callr_3.7.0                            \n",
              " [15] lambda.r_1.2.4                         \n",
              " [16] RSQLite_2.2.12                         \n",
              " [17] shadowtext_0.1.1                       \n",
              " [18] bit_4.0.4                              \n",
              " [19] tzdb_0.3.0                             \n",
              " [20] enrichplot_1.13.1.992                  \n",
              " [21] xml2_1.3.3                             \n",
              " [22] assertthat_0.2.1                       \n",
              " [23] DirichletMultinomial_1.36.0            \n",
              " [24] viridis_0.6.2                          \n",
              " [25] hms_1.1.1                              \n",
              " [26] evaluate_0.15                          \n",
              " [27] fansi_1.0.3                            \n",
              " [28] restfulr_0.0.13                        \n",
              " [29] progress_1.2.2                         \n",
              " [30] caTools_1.18.2                         \n",
              " [31] dbplyr_2.1.1                           \n",
              " [32] DBI_1.1.2                              \n",
              " [33] purrr_0.3.4                            \n",
              " [34] ellipsis_0.3.2                         \n",
              " [35] annotate_1.72.0                        \n",
              " [36] biomaRt_2.50.3                         \n",
              " [37] vctrs_0.4.0                            \n",
              " [38] remotes_2.4.2                          \n",
              " [39] abind_1.4-5                            \n",
              " [40] cachem_1.0.6                           \n",
              " [41] withr_2.5.0                            \n",
              " [42] ggforce_0.3.3                          \n",
              " [43] GenomicAlignments_1.30.0               \n",
              " [44] treeio_1.18.1                          \n",
              " [45] prettyunits_1.1.1                      \n",
              " [46] cluster_2.1.3                          \n",
              " [47] DOSE_3.20.1                            \n",
              " [48] ape_5.6-2                              \n",
              " [49] IRdisplay_1.1                          \n",
              " [50] lazyeval_0.2.2                         \n",
              " [51] seqLogo_1.60.0                         \n",
              " [52] crayon_1.5.1                           \n",
              " [53] pkgconfig_2.0.3                        \n",
              " [54] labeling_0.4.2                         \n",
              " [55] tweenr_1.0.2                           \n",
              " [56] nlme_3.1-157                           \n",
              " [57] pkgload_1.2.4                          \n",
              " [58] rlang_1.0.2                            \n",
              " [59] lifecycle_1.0.1                        \n",
              " [60] downloader_0.4                         \n",
              " [61] filelock_1.0.2                         \n",
              " [62] BiocFileCache_2.2.1                    \n",
              " [63] rprojroot_2.0.3                        \n",
              " [64] polyclip_1.10-0                        \n",
              " [65] Matrix_1.4-1                           \n",
              " [66] aplot_0.1.3                            \n",
              " [67] IRkernel_1.3                           \n",
              " [68] boot_1.3-28                            \n",
              " [69] base64enc_0.1-3                        \n",
              " [70] whisker_0.4                            \n",
              " [71] GlobalOptions_0.1.2                    \n",
              " [72] processx_3.5.3                         \n",
              " [73] png_0.1-7                              \n",
              " [74] viridisLite_0.4.0                      \n",
              " [75] rjson_0.2.21                           \n",
              " [76] bitops_1.0-7                           \n",
              " [77] R.oo_1.24.0                            \n",
              " [78] KernSmooth_2.23-20                     \n",
              " [79] blob_1.2.3                             \n",
              " [80] shape_1.4.6                            \n",
              " [81] stringr_1.4.0                          \n",
              " [82] qvalue_2.26.0                          \n",
              " [83] readr_2.1.2                            \n",
              " [84] gridGraphics_0.5-1                     \n",
              " [85] CNEr_1.30.0                            \n",
              " [86] scales_1.2.0                           \n",
              " [87] memoise_2.0.1                          \n",
              " [88] magrittr_2.0.3                         \n",
              " [89] plyr_1.8.7                             \n",
              " [90] gplots_3.1.1                           \n",
              " [91] zlibbioc_1.40.0                        \n",
              " [92] compiler_4.1.3                         \n",
              " [93] scatterpie_0.1.7                       \n",
              " [94] BiocIO_1.4.0                           \n",
              " [95] RColorBrewer_1.1-3                     \n",
              " [96] plotrix_3.8-2                          \n",
              " [97] clue_0.3-60                            \n",
              " [98] Rsamtools_2.10.0                       \n",
              " [99] cli_3.2.0                              \n",
              "[100] ps_1.6.0                               \n",
              "[101] formatR_1.12                           \n",
              "[102] MASS_7.3-56                            \n",
              "[103] tidyselect_1.1.2                       \n",
              "[104] stringi_1.7.6                          \n",
              "[105] yaml_2.3.5                             \n",
              "[106] GOSemSim_2.20.0                        \n",
              "[107] locfit_1.5-9.5                         \n",
              "[108] ggrepel_0.9.1                          \n",
              "[109] fastmatch_1.1-3                        \n",
              "[110] tools_4.1.3                            \n",
              "[111] parallel_4.1.3                         \n",
              "[112] circlize_0.4.14                        \n",
              "[113] uuid_1.0-4                             \n",
              "[114] TFMPvalue_0.0.8                        \n",
              "[115] foreach_1.5.2                          \n",
              "[116] TxDb.Hsapiens.UCSC.hg19.knownGene_3.2.2\n",
              "[117] gridExtra_2.3                          \n",
              "[118] farver_2.1.0                           \n",
              "[119] ggraph_2.0.5                           \n",
              "[120] digest_0.6.29                          \n",
              "[121] BiocManager_1.30.16                    \n",
              "[122] pracma_2.3.8                           \n",
              "[123] Rcpp_1.0.8.3                           \n",
              "[124] httr_1.4.2                             \n",
              "[125] colorspace_2.0-3                       \n",
              "[126] brio_1.1.3                             \n",
              "[127] XML_3.99-0.9                           \n",
              "[128] fs_1.5.2                               \n",
              "[129] reticulate_1.24                        \n",
              "[130] splines_4.1.3                          \n",
              "[131] yulab.utils_0.0.4                      \n",
              "[132] tidytree_0.3.9                         \n",
              "[133] graphlayouts_0.8.0                     \n",
              "[134] ggplotify_0.1.0                        \n",
              "[135] sessioninfo_1.2.2                      \n",
              "[136] xtable_1.8-4                           \n",
              "[137] jsonlite_1.8.0                         \n",
              "[138] ggtree_3.2.1                           \n",
              "[139] futile.options_1.0.1                   \n",
              "[140] poweRlaw_0.70.6                        \n",
              "[141] tidygraph_1.2.1                        \n",
              "[142] zeallot_0.1.0                          \n",
              "[143] keras_2.8.0                            \n",
              "[144] ggfun_0.0.6                            \n",
              "[145] testthat_3.1.3                         \n",
              "[146] R6_2.5.1                               \n",
              "[147] pillar_1.7.0                           \n",
              "[148] htmltools_0.5.2                        \n",
              "[149] glue_1.6.2                             \n",
              "[150] fastmap_1.1.0                          \n",
              "[151] BiocParallel_1.28.3                    \n",
              "[152] codetools_0.2-18                       \n",
              "[153] fgsea_1.20.0                           \n",
              "[154] pkgbuild_1.3.1                         \n",
              "[155] utf8_1.2.2                             \n",
              "[156] lattice_0.20-45                        \n",
              "[157] tibble_3.1.6                           \n",
              "[158] curl_4.3.2                             \n",
              "[159] tfruns_1.5.0                           \n",
              "[160] gtools_3.9.2                           \n",
              "[161] GO.db_3.14.0                           \n",
              "[162] repr_1.1.4                             \n",
              "[163] desc_1.4.1                             \n",
              "[164] munsell_0.5.0                          \n",
              "[165] DO.db_2.9                              \n",
              "[166] GetoptLong_1.0.5                       \n",
              "[167] GenomeInfoDbData_1.2.7                 \n",
              "[168] iterators_1.0.14                       \n",
              "[169] reshape2_1.4.4                         \n",
              "[170] gtable_0.3.0                           "
            ]
          },
          "metadata": {}
        }
      ]
    },
    {
      "cell_type": "code",
      "metadata": {
        "id": "-4pQeVrGHxXr",
        "colab": {
          "base_uri": "https://localhost:8080/",
          "height": 35
        },
        "outputId": "c45fb030-adad-4dbe-95cd-1e85d22ae7af"
      },
      "source": [
        "Sys.time() - start_time"
      ],
      "execution_count": 143,
      "outputs": [
        {
          "output_type": "display_data",
          "data": {
            "text/plain": [
              "Time difference of 51.10655 mins"
            ]
          },
          "metadata": {}
        }
      ]
    }
  ]
}
