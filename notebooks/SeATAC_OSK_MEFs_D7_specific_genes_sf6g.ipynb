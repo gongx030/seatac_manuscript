{
  "nbformat": 4,
  "nbformat_minor": 0,
  "metadata": {
    "kernelspec": {
      "display_name": "R",
      "language": "R",
      "name": "ir"
    },
    "language_info": {
      "codemirror_mode": "r",
      "file_extension": ".r",
      "mimetype": "text/x-r-source",
      "name": "R",
      "pygments_lexer": "r",
      "version": "3.3.1"
    },
    "colab": {
      "name": "SeATAC_OSK_MEFs_D7_specific genes_sf6g.ipynb",
      "provenance": [],
      "collapsed_sections": [],
      "machine_shape": "hm",
      "background_execution": "on",
      "toc_visible": true,
      "include_colab_link": true
    },
    "accelerator": "GPU"
  },
  "cells": [
    {
      "cell_type": "markdown",
      "metadata": {
        "id": "view-in-github",
        "colab_type": "text"
      },
      "source": [
        "<a href=\"https://colab.research.google.com/github/gongx030/seatac_manuscript/blob/main/SeATAC_OSK_MEFs_D7_specific_genes_sf6g.ipynb\" target=\"_parent\"><img src=\"https://colab.research.google.com/assets/colab-badge.svg\" alt=\"Open In Colab\"/></a>"
      ]
    },
    {
      "cell_type": "markdown",
      "metadata": {
        "id": "M0jDe-m_5aq4"
      },
      "source": [
        "# Compare MACS2 and SeATAC for detecting differential V-plots of ATAC-seq data between MEFs and MEFs at day7 post OSK induction "
      ]
    },
    {
      "cell_type": "markdown",
      "source": [
        "This task runs on SeATAC `v0.4.0`"
      ],
      "metadata": {
        "id": "oi1drasoVjW4"
      }
    },
    {
      "cell_type": "code",
      "metadata": {
        "id": "Bxscnozs5KGa"
      },
      "source": [
        "start_time <- Sys.time()"
      ],
      "execution_count": 1,
      "outputs": []
    },
    {
      "cell_type": "markdown",
      "metadata": {
        "id": "5F6LOGY65KGb"
      },
      "source": [
        "### Install external packages"
      ]
    },
    {
      "cell_type": "code",
      "metadata": {
        "colab": {
          "base_uri": "https://localhost:8080/",
          "height": 364
        },
        "outputId": "de488a60-854e-4bd5-e810-d38b83ad3a80",
        "id": "ClEcy3ij5KGd"
      },
      "source": [
        "system('apt-get -q install libgsl-dev', intern = TRUE)"
      ],
      "execution_count": 2,
      "outputs": [
        {
          "output_type": "display_data",
          "data": {
            "text/html": [
              "<style>\n",
              ".list-inline {list-style: none; margin:0; padding: 0}\n",
              ".list-inline>li {display: inline-block}\n",
              ".list-inline>li:not(:last-child)::after {content: \"\\00b7\"; padding: 0 .5ex}\n",
              "</style>\n",
              "<ol class=list-inline><li>'Reading package lists...'</li><li>'Building dependency tree...'</li><li>'Reading state information...'</li><li>'The following additional packages will be installed:'</li><li><span style=white-space:pre-wrap>'  libgsl23 libgslcblas0'</span></li><li>'Suggested packages:'</li><li><span style=white-space:pre-wrap>'  gsl-ref-psdoc | gsl-doc-pdf | gsl-doc-info | gsl-ref-html'</span></li><li>'The following NEW packages will be installed:'</li><li><span style=white-space:pre-wrap>'  libgsl-dev libgsl23 libgslcblas0'</span></li><li>'0 upgraded, 3 newly installed, 0 to remove and 39 not upgraded.'</li><li>'Need to get 1,926 kB of archives.'</li><li>'After this operation, 9,474 kB of additional disk space will be used.'</li><li>'Get:1 http://archive.ubuntu.com/ubuntu bionic/universe amd64 libgslcblas0 amd64 2.4+dfsg-6 [79.7 kB]'</li><li>'Get:2 http://archive.ubuntu.com/ubuntu bionic/universe amd64 libgsl23 amd64 2.4+dfsg-6 [823 kB]'</li><li>'Get:3 http://archive.ubuntu.com/ubuntu bionic/universe amd64 libgsl-dev amd64 2.4+dfsg-6 [1,023 kB]'</li><li>'Fetched 1,926 kB in 1s (2,175 kB/s)'</li><li>'Selecting previously unselected package libgslcblas0:amd64.\\r'</li><li>'(Reading database ... \\r(Reading database ... 5%\\r(Reading database ... 10%\\r(Reading database ... 15%\\r(Reading database ... 20%\\r(Reading database ... 25%\\r(Reading database ... 30%\\r(Reading database ... 35%\\r(Reading database ... 40%\\r(Reading database ... 45%\\r(Reading database ... 50%\\r(Reading database ... 55%\\r(Reading database ... 60%\\r(Reading database ... 65%\\r(Reading database ... 70%\\r(Reading database ... 75%\\r(Reading database ... 80%\\r(Reading database ... 85%\\r(Reading database ... 90%\\r(Reading database ... 95%\\r(Reading database ... 100%\\r(Reading database ... 155455 files and directories currently installed.)\\r'</li><li>'Preparing to unpack .../libgslcblas0_2.4+dfsg-6_amd64.deb ...\\r'</li><li>'Unpacking libgslcblas0:amd64 (2.4+dfsg-6) ...\\r'</li><li>'Selecting previously unselected package libgsl23:amd64.\\r'</li><li>'Preparing to unpack .../libgsl23_2.4+dfsg-6_amd64.deb ...\\r'</li><li>'Unpacking libgsl23:amd64 (2.4+dfsg-6) ...\\r'</li><li>'Selecting previously unselected package libgsl-dev.\\r'</li><li>'Preparing to unpack .../libgsl-dev_2.4+dfsg-6_amd64.deb ...\\r'</li><li>'Unpacking libgsl-dev (2.4+dfsg-6) ...\\r'</li><li>'Setting up libgslcblas0:amd64 (2.4+dfsg-6) ...\\r'</li><li>'Setting up libgsl23:amd64 (2.4+dfsg-6) ...\\r'</li><li>'Setting up libgsl-dev (2.4+dfsg-6) ...\\r'</li><li>'Processing triggers for man-db (2.8.3-2ubuntu0.1) ...\\r'</li><li>'Processing triggers for libc-bin (2.27-3ubuntu1.3) ...\\r'</li><li>'/sbin/ldconfig.real: /usr/local/lib/python3.7/dist-packages/ideep4py/lib/libmkldnn.so.0 is not a symbolic link\\r'</li><li>'\\r'</li></ol>\n"
            ],
            "text/markdown": "1. 'Reading package lists...'\n2. 'Building dependency tree...'\n3. 'Reading state information...'\n4. 'The following additional packages will be installed:'\n5. <span style=white-space:pre-wrap>'  libgsl23 libgslcblas0'</span>\n6. 'Suggested packages:'\n7. <span style=white-space:pre-wrap>'  gsl-ref-psdoc | gsl-doc-pdf | gsl-doc-info | gsl-ref-html'</span>\n8. 'The following NEW packages will be installed:'\n9. <span style=white-space:pre-wrap>'  libgsl-dev libgsl23 libgslcblas0'</span>\n10. '0 upgraded, 3 newly installed, 0 to remove and 39 not upgraded.'\n11. 'Need to get 1,926 kB of archives.'\n12. 'After this operation, 9,474 kB of additional disk space will be used.'\n13. 'Get:1 http://archive.ubuntu.com/ubuntu bionic/universe amd64 libgslcblas0 amd64 2.4+dfsg-6 [79.7 kB]'\n14. 'Get:2 http://archive.ubuntu.com/ubuntu bionic/universe amd64 libgsl23 amd64 2.4+dfsg-6 [823 kB]'\n15. 'Get:3 http://archive.ubuntu.com/ubuntu bionic/universe amd64 libgsl-dev amd64 2.4+dfsg-6 [1,023 kB]'\n16. 'Fetched 1,926 kB in 1s (2,175 kB/s)'\n17. 'Selecting previously unselected package libgslcblas0:amd64.\\r'\n18. '(Reading database ... \\r(Reading database ... 5%\\r(Reading database ... 10%\\r(Reading database ... 15%\\r(Reading database ... 20%\\r(Reading database ... 25%\\r(Reading database ... 30%\\r(Reading database ... 35%\\r(Reading database ... 40%\\r(Reading database ... 45%\\r(Reading database ... 50%\\r(Reading database ... 55%\\r(Reading database ... 60%\\r(Reading database ... 65%\\r(Reading database ... 70%\\r(Reading database ... 75%\\r(Reading database ... 80%\\r(Reading database ... 85%\\r(Reading database ... 90%\\r(Reading database ... 95%\\r(Reading database ... 100%\\r(Reading database ... 155455 files and directories currently installed.)\\r'\n19. 'Preparing to unpack .../libgslcblas0_2.4+dfsg-6_amd64.deb ...\\r'\n20. 'Unpacking libgslcblas0:amd64 (2.4+dfsg-6) ...\\r'\n21. 'Selecting previously unselected package libgsl23:amd64.\\r'\n22. 'Preparing to unpack .../libgsl23_2.4+dfsg-6_amd64.deb ...\\r'\n23. 'Unpacking libgsl23:amd64 (2.4+dfsg-6) ...\\r'\n24. 'Selecting previously unselected package libgsl-dev.\\r'\n25. 'Preparing to unpack .../libgsl-dev_2.4+dfsg-6_amd64.deb ...\\r'\n26. 'Unpacking libgsl-dev (2.4+dfsg-6) ...\\r'\n27. 'Setting up libgslcblas0:amd64 (2.4+dfsg-6) ...\\r'\n28. 'Setting up libgsl23:amd64 (2.4+dfsg-6) ...\\r'\n29. 'Setting up libgsl-dev (2.4+dfsg-6) ...\\r'\n30. 'Processing triggers for man-db (2.8.3-2ubuntu0.1) ...\\r'\n31. 'Processing triggers for libc-bin (2.27-3ubuntu1.3) ...\\r'\n32. '/sbin/ldconfig.real: /usr/local/lib/python3.7/dist-packages/ideep4py/lib/libmkldnn.so.0 is not a symbolic link\\r'\n33. '\\r'\n\n\n",
            "text/latex": "\\begin{enumerate*}\n\\item 'Reading package lists...'\n\\item 'Building dependency tree...'\n\\item 'Reading state information...'\n\\item 'The following additional packages will be installed:'\n\\item '  libgsl23 libgslcblas0'\n\\item 'Suggested packages:'\n\\item '  gsl-ref-psdoc \\textbar{} gsl-doc-pdf \\textbar{} gsl-doc-info \\textbar{} gsl-ref-html'\n\\item 'The following NEW packages will be installed:'\n\\item '  libgsl-dev libgsl23 libgslcblas0'\n\\item '0 upgraded, 3 newly installed, 0 to remove and 39 not upgraded.'\n\\item 'Need to get 1,926 kB of archives.'\n\\item 'After this operation, 9,474 kB of additional disk space will be used.'\n\\item 'Get:1 http://archive.ubuntu.com/ubuntu bionic/universe amd64 libgslcblas0 amd64 2.4+dfsg-6 {[}79.7 kB{]}'\n\\item 'Get:2 http://archive.ubuntu.com/ubuntu bionic/universe amd64 libgsl23 amd64 2.4+dfsg-6 {[}823 kB{]}'\n\\item 'Get:3 http://archive.ubuntu.com/ubuntu bionic/universe amd64 libgsl-dev amd64 2.4+dfsg-6 {[}1,023 kB{]}'\n\\item 'Fetched 1,926 kB in 1s (2,175 kB/s)'\n\\item 'Selecting previously unselected package libgslcblas0:amd64.\\textbackslash{}r'\n\\item '(Reading database ... \\textbackslash{}r(Reading database ... 5\\%\\textbackslash{}r(Reading database ... 10\\%\\textbackslash{}r(Reading database ... 15\\%\\textbackslash{}r(Reading database ... 20\\%\\textbackslash{}r(Reading database ... 25\\%\\textbackslash{}r(Reading database ... 30\\%\\textbackslash{}r(Reading database ... 35\\%\\textbackslash{}r(Reading database ... 40\\%\\textbackslash{}r(Reading database ... 45\\%\\textbackslash{}r(Reading database ... 50\\%\\textbackslash{}r(Reading database ... 55\\%\\textbackslash{}r(Reading database ... 60\\%\\textbackslash{}r(Reading database ... 65\\%\\textbackslash{}r(Reading database ... 70\\%\\textbackslash{}r(Reading database ... 75\\%\\textbackslash{}r(Reading database ... 80\\%\\textbackslash{}r(Reading database ... 85\\%\\textbackslash{}r(Reading database ... 90\\%\\textbackslash{}r(Reading database ... 95\\%\\textbackslash{}r(Reading database ... 100\\%\\textbackslash{}r(Reading database ... 155455 files and directories currently installed.)\\textbackslash{}r'\n\\item 'Preparing to unpack .../libgslcblas0\\_2.4+dfsg-6\\_amd64.deb ...\\textbackslash{}r'\n\\item 'Unpacking libgslcblas0:amd64 (2.4+dfsg-6) ...\\textbackslash{}r'\n\\item 'Selecting previously unselected package libgsl23:amd64.\\textbackslash{}r'\n\\item 'Preparing to unpack .../libgsl23\\_2.4+dfsg-6\\_amd64.deb ...\\textbackslash{}r'\n\\item 'Unpacking libgsl23:amd64 (2.4+dfsg-6) ...\\textbackslash{}r'\n\\item 'Selecting previously unselected package libgsl-dev.\\textbackslash{}r'\n\\item 'Preparing to unpack .../libgsl-dev\\_2.4+dfsg-6\\_amd64.deb ...\\textbackslash{}r'\n\\item 'Unpacking libgsl-dev (2.4+dfsg-6) ...\\textbackslash{}r'\n\\item 'Setting up libgslcblas0:amd64 (2.4+dfsg-6) ...\\textbackslash{}r'\n\\item 'Setting up libgsl23:amd64 (2.4+dfsg-6) ...\\textbackslash{}r'\n\\item 'Setting up libgsl-dev (2.4+dfsg-6) ...\\textbackslash{}r'\n\\item 'Processing triggers for man-db (2.8.3-2ubuntu0.1) ...\\textbackslash{}r'\n\\item 'Processing triggers for libc-bin (2.27-3ubuntu1.3) ...\\textbackslash{}r'\n\\item '/sbin/ldconfig.real: /usr/local/lib/python3.7/dist-packages/ideep4py/lib/libmkldnn.so.0 is not a symbolic link\\textbackslash{}r'\n\\item '\\textbackslash{}r'\n\\end{enumerate*}\n",
            "text/plain": [
              " [1] \"Reading package lists...\"                                                                                                                                                                                                                                                                                                                                                                                                                                                                                                                                                                                                                                      \n",
              " [2] \"Building dependency tree...\"                                                                                                                                                                                                                                                                                                                                                                                                                                                                                                                                                                                                                                   \n",
              " [3] \"Reading state information...\"                                                                                                                                                                                                                                                                                                                                                                                                                                                                                                                                                                                                                                  \n",
              " [4] \"The following additional packages will be installed:\"                                                                                                                                                                                                                                                                                                                                                                                                                                                                                                                                                                                                          \n",
              " [5] \"  libgsl23 libgslcblas0\"                                                                                                                                                                                                                                                                                                                                                                                                                                                                                                                                                                                                                                       \n",
              " [6] \"Suggested packages:\"                                                                                                                                                                                                                                                                                                                                                                                                                                                                                                                                                                                                                                           \n",
              " [7] \"  gsl-ref-psdoc | gsl-doc-pdf | gsl-doc-info | gsl-ref-html\"                                                                                                                                                                                                                                                                                                                                                                                                                                                                                                                                                                                                   \n",
              " [8] \"The following NEW packages will be installed:\"                                                                                                                                                                                                                                                                                                                                                                                                                                                                                                                                                                                                                 \n",
              " [9] \"  libgsl-dev libgsl23 libgslcblas0\"                                                                                                                                                                                                                                                                                                                                                                                                                                                                                                                                                                                                                            \n",
              "[10] \"0 upgraded, 3 newly installed, 0 to remove and 39 not upgraded.\"                                                                                                                                                                                                                                                                                                                                                                                                                                                                                                                                                                                               \n",
              "[11] \"Need to get 1,926 kB of archives.\"                                                                                                                                                                                                                                                                                                                                                                                                                                                                                                                                                                                                                             \n",
              "[12] \"After this operation, 9,474 kB of additional disk space will be used.\"                                                                                                                                                                                                                                                                                                                                                                                                                                                                                                                                                                                         \n",
              "[13] \"Get:1 http://archive.ubuntu.com/ubuntu bionic/universe amd64 libgslcblas0 amd64 2.4+dfsg-6 [79.7 kB]\"                                                                                                                                                                                                                                                                                                                                                                                                                                                                                                                                                          \n",
              "[14] \"Get:2 http://archive.ubuntu.com/ubuntu bionic/universe amd64 libgsl23 amd64 2.4+dfsg-6 [823 kB]\"                                                                                                                                                                                                                                                                                                                                                                                                                                                                                                                                                               \n",
              "[15] \"Get:3 http://archive.ubuntu.com/ubuntu bionic/universe amd64 libgsl-dev amd64 2.4+dfsg-6 [1,023 kB]\"                                                                                                                                                                                                                                                                                                                                                                                                                                                                                                                                                           \n",
              "[16] \"Fetched 1,926 kB in 1s (2,175 kB/s)\"                                                                                                                                                                                                                                                                                                                                                                                                                                                                                                                                                                                                                           \n",
              "[17] \"Selecting previously unselected package libgslcblas0:amd64.\\r\"                                                                                                                                                                                                                                                                                                                                                                                                                                                                                                                                                                                                 \n",
              "[18] \"(Reading database ... \\r(Reading database ... 5%\\r(Reading database ... 10%\\r(Reading database ... 15%\\r(Reading database ... 20%\\r(Reading database ... 25%\\r(Reading database ... 30%\\r(Reading database ... 35%\\r(Reading database ... 40%\\r(Reading database ... 45%\\r(Reading database ... 50%\\r(Reading database ... 55%\\r(Reading database ... 60%\\r(Reading database ... 65%\\r(Reading database ... 70%\\r(Reading database ... 75%\\r(Reading database ... 80%\\r(Reading database ... 85%\\r(Reading database ... 90%\\r(Reading database ... 95%\\r(Reading database ... 100%\\r(Reading database ... 155455 files and directories currently installed.)\\r\"\n",
              "[19] \"Preparing to unpack .../libgslcblas0_2.4+dfsg-6_amd64.deb ...\\r\"                                                                                                                                                                                                                                                                                                                                                                                                                                                                                                                                                                                               \n",
              "[20] \"Unpacking libgslcblas0:amd64 (2.4+dfsg-6) ...\\r\"                                                                                                                                                                                                                                                                                                                                                                                                                                                                                                                                                                                                               \n",
              "[21] \"Selecting previously unselected package libgsl23:amd64.\\r\"                                                                                                                                                                                                                                                                                                                                                                                                                                                                                                                                                                                                     \n",
              "[22] \"Preparing to unpack .../libgsl23_2.4+dfsg-6_amd64.deb ...\\r\"                                                                                                                                                                                                                                                                                                                                                                                                                                                                                                                                                                                                   \n",
              "[23] \"Unpacking libgsl23:amd64 (2.4+dfsg-6) ...\\r\"                                                                                                                                                                                                                                                                                                                                                                                                                                                                                                                                                                                                                   \n",
              "[24] \"Selecting previously unselected package libgsl-dev.\\r\"                                                                                                                                                                                                                                                                                                                                                                                                                                                                                                                                                                                                         \n",
              "[25] \"Preparing to unpack .../libgsl-dev_2.4+dfsg-6_amd64.deb ...\\r\"                                                                                                                                                                                                                                                                                                                                                                                                                                                                                                                                                                                                 \n",
              "[26] \"Unpacking libgsl-dev (2.4+dfsg-6) ...\\r\"                                                                                                                                                                                                                                                                                                                                                                                                                                                                                                                                                                                                                       \n",
              "[27] \"Setting up libgslcblas0:amd64 (2.4+dfsg-6) ...\\r\"                                                                                                                                                                                                                                                                                                                                                                                                                                                                                                                                                                                                              \n",
              "[28] \"Setting up libgsl23:amd64 (2.4+dfsg-6) ...\\r\"                                                                                                                                                                                                                                                                                                                                                                                                                                                                                                                                                                                                                  \n",
              "[29] \"Setting up libgsl-dev (2.4+dfsg-6) ...\\r\"                                                                                                                                                                                                                                                                                                                                                                                                                                                                                                                                                                                                                      \n",
              "[30] \"Processing triggers for man-db (2.8.3-2ubuntu0.1) ...\\r\"                                                                                                                                                                                                                                                                                                                                                                                                                                                                                                                                                                                                       \n",
              "[31] \"Processing triggers for libc-bin (2.27-3ubuntu1.3) ...\\r\"                                                                                                                                                                                                                                                                                                                                                                                                                                                                                                                                                                                                      \n",
              "[32] \"/sbin/ldconfig.real: /usr/local/lib/python3.7/dist-packages/ideep4py/lib/libmkldnn.so.0 is not a symbolic link\\r\"                                                                                                                                                                                                                                                                                                                                                                                                                                                                                                                                              \n",
              "[33] \"\\r\"                                                                                                                                                                                                                                                                                                                                                                                                                                                                                                                                                                                                                                                            "
            ]
          },
          "metadata": {}
        }
      ]
    },
    {
      "cell_type": "code",
      "metadata": {
        "colab": {
          "base_uri": "https://localhost:8080/",
          "height": 416
        },
        "outputId": "252728de-c532-4c6d-c4c8-3ba311c81073",
        "id": "BvVRz1nn5KGe"
      },
      "source": [
        "system('apt-get install libcairo2-dev', intern = TRUE) # for Cairo package that is required by ComplexHeatmap package"
      ],
      "execution_count": 3,
      "outputs": [
        {
          "output_type": "display_data",
          "data": {
            "text/html": [
              "<style>\n",
              ".list-inline {list-style: none; margin:0; padding: 0}\n",
              ".list-inline>li {display: inline-block}\n",
              ".list-inline>li:not(:last-child)::after {content: \"\\00b7\"; padding: 0 .5ex}\n",
              "</style>\n",
              "<ol class=list-inline><li>'Reading package lists...'</li><li>'Building dependency tree...'</li><li>'Reading state information...'</li><li>'The following additional packages will be installed:'</li><li><span style=white-space:pre-wrap>'  libcairo-script-interpreter2 libpixman-1-dev libxcb-shm0-dev'</span></li><li>'Suggested packages:'</li><li><span style=white-space:pre-wrap>'  libcairo2-doc'</span></li><li>'The following NEW packages will be installed:'</li><li><span style=white-space:pre-wrap>'  libcairo-script-interpreter2 libcairo2-dev libpixman-1-dev libxcb-shm0-dev'</span></li><li>'0 upgraded, 4 newly installed, 0 to remove and 39 not upgraded.'</li><li>'Need to get 930 kB of archives.'</li><li>'After this operation, 3,986 kB of additional disk space will be used.'</li><li>'Get:1 http://archive.ubuntu.com/ubuntu bionic-updates/main amd64 libcairo-script-interpreter2 amd64 1.15.10-2ubuntu0.1 [53.5 kB]'</li><li>'Get:2 http://archive.ubuntu.com/ubuntu bionic/main amd64 libpixman-1-dev amd64 0.34.0-2 [244 kB]'</li><li>'Get:3 http://archive.ubuntu.com/ubuntu bionic-updates/main amd64 libxcb-shm0-dev amd64 1.13-2~ubuntu18.04 [6,684 B]'</li><li>'Get:4 http://archive.ubuntu.com/ubuntu bionic-updates/main amd64 libcairo2-dev amd64 1.15.10-2ubuntu0.1 [626 kB]'</li><li>'Fetched 930 kB in 1s (1,160 kB/s)'</li><li>'Selecting previously unselected package libcairo-script-interpreter2:amd64.\\r'</li><li>'(Reading database ... \\r(Reading database ... 5%\\r(Reading database ... 10%\\r(Reading database ... 15%\\r(Reading database ... 20%\\r(Reading database ... 25%\\r(Reading database ... 30%\\r(Reading database ... 35%\\r(Reading database ... 40%\\r(Reading database ... 45%\\r(Reading database ... 50%\\r(Reading database ... 55%\\r(Reading database ... 60%\\r(Reading database ... 65%\\r(Reading database ... 70%\\r(Reading database ... 75%\\r(Reading database ... 80%\\r(Reading database ... 85%\\r(Reading database ... 90%\\r(Reading database ... 95%\\r(Reading database ... 100%\\r(Reading database ... 155727 files and directories currently installed.)\\r'</li><li>'Preparing to unpack .../libcairo-script-interpreter2_1.15.10-2ubuntu0.1_amd64.deb ...\\r'</li><li>'Unpacking libcairo-script-interpreter2:amd64 (1.15.10-2ubuntu0.1) ...\\r'</li><li>'Selecting previously unselected package libpixman-1-dev:amd64.\\r'</li><li>'Preparing to unpack .../libpixman-1-dev_0.34.0-2_amd64.deb ...\\r'</li><li>'Unpacking libpixman-1-dev:amd64 (0.34.0-2) ...\\r'</li><li>'Selecting previously unselected package libxcb-shm0-dev:amd64.\\r'</li><li>'Preparing to unpack .../libxcb-shm0-dev_1.13-2~ubuntu18.04_amd64.deb ...\\r'</li><li>'Unpacking libxcb-shm0-dev:amd64 (1.13-2~ubuntu18.04) ...\\r'</li><li>'Selecting previously unselected package libcairo2-dev:amd64.\\r'</li><li>'Preparing to unpack .../libcairo2-dev_1.15.10-2ubuntu0.1_amd64.deb ...\\r'</li><li>'Unpacking libcairo2-dev:amd64 (1.15.10-2ubuntu0.1) ...\\r'</li><li>'Setting up libcairo-script-interpreter2:amd64 (1.15.10-2ubuntu0.1) ...\\r'</li><li>'Setting up libxcb-shm0-dev:amd64 (1.13-2~ubuntu18.04) ...\\r'</li><li>'Setting up libpixman-1-dev:amd64 (0.34.0-2) ...\\r'</li><li>'Setting up libcairo2-dev:amd64 (1.15.10-2ubuntu0.1) ...\\r'</li><li>'Processing triggers for libc-bin (2.27-3ubuntu1.3) ...\\r'</li><li>'/sbin/ldconfig.real: /usr/local/lib/python3.7/dist-packages/ideep4py/lib/libmkldnn.so.0 is not a symbolic link\\r'</li><li>'\\r'</li></ol>\n"
            ],
            "text/markdown": "1. 'Reading package lists...'\n2. 'Building dependency tree...'\n3. 'Reading state information...'\n4. 'The following additional packages will be installed:'\n5. <span style=white-space:pre-wrap>'  libcairo-script-interpreter2 libpixman-1-dev libxcb-shm0-dev'</span>\n6. 'Suggested packages:'\n7. <span style=white-space:pre-wrap>'  libcairo2-doc'</span>\n8. 'The following NEW packages will be installed:'\n9. <span style=white-space:pre-wrap>'  libcairo-script-interpreter2 libcairo2-dev libpixman-1-dev libxcb-shm0-dev'</span>\n10. '0 upgraded, 4 newly installed, 0 to remove and 39 not upgraded.'\n11. 'Need to get 930 kB of archives.'\n12. 'After this operation, 3,986 kB of additional disk space will be used.'\n13. 'Get:1 http://archive.ubuntu.com/ubuntu bionic-updates/main amd64 libcairo-script-interpreter2 amd64 1.15.10-2ubuntu0.1 [53.5 kB]'\n14. 'Get:2 http://archive.ubuntu.com/ubuntu bionic/main amd64 libpixman-1-dev amd64 0.34.0-2 [244 kB]'\n15. 'Get:3 http://archive.ubuntu.com/ubuntu bionic-updates/main amd64 libxcb-shm0-dev amd64 1.13-2~ubuntu18.04 [6,684 B]'\n16. 'Get:4 http://archive.ubuntu.com/ubuntu bionic-updates/main amd64 libcairo2-dev amd64 1.15.10-2ubuntu0.1 [626 kB]'\n17. 'Fetched 930 kB in 1s (1,160 kB/s)'\n18. 'Selecting previously unselected package libcairo-script-interpreter2:amd64.\\r'\n19. '(Reading database ... \\r(Reading database ... 5%\\r(Reading database ... 10%\\r(Reading database ... 15%\\r(Reading database ... 20%\\r(Reading database ... 25%\\r(Reading database ... 30%\\r(Reading database ... 35%\\r(Reading database ... 40%\\r(Reading database ... 45%\\r(Reading database ... 50%\\r(Reading database ... 55%\\r(Reading database ... 60%\\r(Reading database ... 65%\\r(Reading database ... 70%\\r(Reading database ... 75%\\r(Reading database ... 80%\\r(Reading database ... 85%\\r(Reading database ... 90%\\r(Reading database ... 95%\\r(Reading database ... 100%\\r(Reading database ... 155727 files and directories currently installed.)\\r'\n20. 'Preparing to unpack .../libcairo-script-interpreter2_1.15.10-2ubuntu0.1_amd64.deb ...\\r'\n21. 'Unpacking libcairo-script-interpreter2:amd64 (1.15.10-2ubuntu0.1) ...\\r'\n22. 'Selecting previously unselected package libpixman-1-dev:amd64.\\r'\n23. 'Preparing to unpack .../libpixman-1-dev_0.34.0-2_amd64.deb ...\\r'\n24. 'Unpacking libpixman-1-dev:amd64 (0.34.0-2) ...\\r'\n25. 'Selecting previously unselected package libxcb-shm0-dev:amd64.\\r'\n26. 'Preparing to unpack .../libxcb-shm0-dev_1.13-2~ubuntu18.04_amd64.deb ...\\r'\n27. 'Unpacking libxcb-shm0-dev:amd64 (1.13-2~ubuntu18.04) ...\\r'\n28. 'Selecting previously unselected package libcairo2-dev:amd64.\\r'\n29. 'Preparing to unpack .../libcairo2-dev_1.15.10-2ubuntu0.1_amd64.deb ...\\r'\n30. 'Unpacking libcairo2-dev:amd64 (1.15.10-2ubuntu0.1) ...\\r'\n31. 'Setting up libcairo-script-interpreter2:amd64 (1.15.10-2ubuntu0.1) ...\\r'\n32. 'Setting up libxcb-shm0-dev:amd64 (1.13-2~ubuntu18.04) ...\\r'\n33. 'Setting up libpixman-1-dev:amd64 (0.34.0-2) ...\\r'\n34. 'Setting up libcairo2-dev:amd64 (1.15.10-2ubuntu0.1) ...\\r'\n35. 'Processing triggers for libc-bin (2.27-3ubuntu1.3) ...\\r'\n36. '/sbin/ldconfig.real: /usr/local/lib/python3.7/dist-packages/ideep4py/lib/libmkldnn.so.0 is not a symbolic link\\r'\n37. '\\r'\n\n\n",
            "text/latex": "\\begin{enumerate*}\n\\item 'Reading package lists...'\n\\item 'Building dependency tree...'\n\\item 'Reading state information...'\n\\item 'The following additional packages will be installed:'\n\\item '  libcairo-script-interpreter2 libpixman-1-dev libxcb-shm0-dev'\n\\item 'Suggested packages:'\n\\item '  libcairo2-doc'\n\\item 'The following NEW packages will be installed:'\n\\item '  libcairo-script-interpreter2 libcairo2-dev libpixman-1-dev libxcb-shm0-dev'\n\\item '0 upgraded, 4 newly installed, 0 to remove and 39 not upgraded.'\n\\item 'Need to get 930 kB of archives.'\n\\item 'After this operation, 3,986 kB of additional disk space will be used.'\n\\item 'Get:1 http://archive.ubuntu.com/ubuntu bionic-updates/main amd64 libcairo-script-interpreter2 amd64 1.15.10-2ubuntu0.1 {[}53.5 kB{]}'\n\\item 'Get:2 http://archive.ubuntu.com/ubuntu bionic/main amd64 libpixman-1-dev amd64 0.34.0-2 {[}244 kB{]}'\n\\item 'Get:3 http://archive.ubuntu.com/ubuntu bionic-updates/main amd64 libxcb-shm0-dev amd64 1.13-2\\textasciitilde{}ubuntu18.04 {[}6,684 B{]}'\n\\item 'Get:4 http://archive.ubuntu.com/ubuntu bionic-updates/main amd64 libcairo2-dev amd64 1.15.10-2ubuntu0.1 {[}626 kB{]}'\n\\item 'Fetched 930 kB in 1s (1,160 kB/s)'\n\\item 'Selecting previously unselected package libcairo-script-interpreter2:amd64.\\textbackslash{}r'\n\\item '(Reading database ... \\textbackslash{}r(Reading database ... 5\\%\\textbackslash{}r(Reading database ... 10\\%\\textbackslash{}r(Reading database ... 15\\%\\textbackslash{}r(Reading database ... 20\\%\\textbackslash{}r(Reading database ... 25\\%\\textbackslash{}r(Reading database ... 30\\%\\textbackslash{}r(Reading database ... 35\\%\\textbackslash{}r(Reading database ... 40\\%\\textbackslash{}r(Reading database ... 45\\%\\textbackslash{}r(Reading database ... 50\\%\\textbackslash{}r(Reading database ... 55\\%\\textbackslash{}r(Reading database ... 60\\%\\textbackslash{}r(Reading database ... 65\\%\\textbackslash{}r(Reading database ... 70\\%\\textbackslash{}r(Reading database ... 75\\%\\textbackslash{}r(Reading database ... 80\\%\\textbackslash{}r(Reading database ... 85\\%\\textbackslash{}r(Reading database ... 90\\%\\textbackslash{}r(Reading database ... 95\\%\\textbackslash{}r(Reading database ... 100\\%\\textbackslash{}r(Reading database ... 155727 files and directories currently installed.)\\textbackslash{}r'\n\\item 'Preparing to unpack .../libcairo-script-interpreter2\\_1.15.10-2ubuntu0.1\\_amd64.deb ...\\textbackslash{}r'\n\\item 'Unpacking libcairo-script-interpreter2:amd64 (1.15.10-2ubuntu0.1) ...\\textbackslash{}r'\n\\item 'Selecting previously unselected package libpixman-1-dev:amd64.\\textbackslash{}r'\n\\item 'Preparing to unpack .../libpixman-1-dev\\_0.34.0-2\\_amd64.deb ...\\textbackslash{}r'\n\\item 'Unpacking libpixman-1-dev:amd64 (0.34.0-2) ...\\textbackslash{}r'\n\\item 'Selecting previously unselected package libxcb-shm0-dev:amd64.\\textbackslash{}r'\n\\item 'Preparing to unpack .../libxcb-shm0-dev\\_1.13-2\\textasciitilde{}ubuntu18.04\\_amd64.deb ...\\textbackslash{}r'\n\\item 'Unpacking libxcb-shm0-dev:amd64 (1.13-2\\textasciitilde{}ubuntu18.04) ...\\textbackslash{}r'\n\\item 'Selecting previously unselected package libcairo2-dev:amd64.\\textbackslash{}r'\n\\item 'Preparing to unpack .../libcairo2-dev\\_1.15.10-2ubuntu0.1\\_amd64.deb ...\\textbackslash{}r'\n\\item 'Unpacking libcairo2-dev:amd64 (1.15.10-2ubuntu0.1) ...\\textbackslash{}r'\n\\item 'Setting up libcairo-script-interpreter2:amd64 (1.15.10-2ubuntu0.1) ...\\textbackslash{}r'\n\\item 'Setting up libxcb-shm0-dev:amd64 (1.13-2\\textasciitilde{}ubuntu18.04) ...\\textbackslash{}r'\n\\item 'Setting up libpixman-1-dev:amd64 (0.34.0-2) ...\\textbackslash{}r'\n\\item 'Setting up libcairo2-dev:amd64 (1.15.10-2ubuntu0.1) ...\\textbackslash{}r'\n\\item 'Processing triggers for libc-bin (2.27-3ubuntu1.3) ...\\textbackslash{}r'\n\\item '/sbin/ldconfig.real: /usr/local/lib/python3.7/dist-packages/ideep4py/lib/libmkldnn.so.0 is not a symbolic link\\textbackslash{}r'\n\\item '\\textbackslash{}r'\n\\end{enumerate*}\n",
            "text/plain": [
              " [1] \"Reading package lists...\"                                                                                                                                                                                                                                                                                                                                                                                                                                                                                                                                                                                                                                      \n",
              " [2] \"Building dependency tree...\"                                                                                                                                                                                                                                                                                                                                                                                                                                                                                                                                                                                                                                   \n",
              " [3] \"Reading state information...\"                                                                                                                                                                                                                                                                                                                                                                                                                                                                                                                                                                                                                                  \n",
              " [4] \"The following additional packages will be installed:\"                                                                                                                                                                                                                                                                                                                                                                                                                                                                                                                                                                                                          \n",
              " [5] \"  libcairo-script-interpreter2 libpixman-1-dev libxcb-shm0-dev\"                                                                                                                                                                                                                                                                                                                                                                                                                                                                                                                                                                                                \n",
              " [6] \"Suggested packages:\"                                                                                                                                                                                                                                                                                                                                                                                                                                                                                                                                                                                                                                           \n",
              " [7] \"  libcairo2-doc\"                                                                                                                                                                                                                                                                                                                                                                                                                                                                                                                                                                                                                                               \n",
              " [8] \"The following NEW packages will be installed:\"                                                                                                                                                                                                                                                                                                                                                                                                                                                                                                                                                                                                                 \n",
              " [9] \"  libcairo-script-interpreter2 libcairo2-dev libpixman-1-dev libxcb-shm0-dev\"                                                                                                                                                                                                                                                                                                                                                                                                                                                                                                                                                                                  \n",
              "[10] \"0 upgraded, 4 newly installed, 0 to remove and 39 not upgraded.\"                                                                                                                                                                                                                                                                                                                                                                                                                                                                                                                                                                                               \n",
              "[11] \"Need to get 930 kB of archives.\"                                                                                                                                                                                                                                                                                                                                                                                                                                                                                                                                                                                                                               \n",
              "[12] \"After this operation, 3,986 kB of additional disk space will be used.\"                                                                                                                                                                                                                                                                                                                                                                                                                                                                                                                                                                                         \n",
              "[13] \"Get:1 http://archive.ubuntu.com/ubuntu bionic-updates/main amd64 libcairo-script-interpreter2 amd64 1.15.10-2ubuntu0.1 [53.5 kB]\"                                                                                                                                                                                                                                                                                                                                                                                                                                                                                                                              \n",
              "[14] \"Get:2 http://archive.ubuntu.com/ubuntu bionic/main amd64 libpixman-1-dev amd64 0.34.0-2 [244 kB]\"                                                                                                                                                                                                                                                                                                                                                                                                                                                                                                                                                              \n",
              "[15] \"Get:3 http://archive.ubuntu.com/ubuntu bionic-updates/main amd64 libxcb-shm0-dev amd64 1.13-2~ubuntu18.04 [6,684 B]\"                                                                                                                                                                                                                                                                                                                                                                                                                                                                                                                                           \n",
              "[16] \"Get:4 http://archive.ubuntu.com/ubuntu bionic-updates/main amd64 libcairo2-dev amd64 1.15.10-2ubuntu0.1 [626 kB]\"                                                                                                                                                                                                                                                                                                                                                                                                                                                                                                                                              \n",
              "[17] \"Fetched 930 kB in 1s (1,160 kB/s)\"                                                                                                                                                                                                                                                                                                                                                                                                                                                                                                                                                                                                                             \n",
              "[18] \"Selecting previously unselected package libcairo-script-interpreter2:amd64.\\r\"                                                                                                                                                                                                                                                                                                                                                                                                                                                                                                                                                                                 \n",
              "[19] \"(Reading database ... \\r(Reading database ... 5%\\r(Reading database ... 10%\\r(Reading database ... 15%\\r(Reading database ... 20%\\r(Reading database ... 25%\\r(Reading database ... 30%\\r(Reading database ... 35%\\r(Reading database ... 40%\\r(Reading database ... 45%\\r(Reading database ... 50%\\r(Reading database ... 55%\\r(Reading database ... 60%\\r(Reading database ... 65%\\r(Reading database ... 70%\\r(Reading database ... 75%\\r(Reading database ... 80%\\r(Reading database ... 85%\\r(Reading database ... 90%\\r(Reading database ... 95%\\r(Reading database ... 100%\\r(Reading database ... 155727 files and directories currently installed.)\\r\"\n",
              "[20] \"Preparing to unpack .../libcairo-script-interpreter2_1.15.10-2ubuntu0.1_amd64.deb ...\\r\"                                                                                                                                                                                                                                                                                                                                                                                                                                                                                                                                                                       \n",
              "[21] \"Unpacking libcairo-script-interpreter2:amd64 (1.15.10-2ubuntu0.1) ...\\r\"                                                                                                                                                                                                                                                                                                                                                                                                                                                                                                                                                                                       \n",
              "[22] \"Selecting previously unselected package libpixman-1-dev:amd64.\\r\"                                                                                                                                                                                                                                                                                                                                                                                                                                                                                                                                                                                              \n",
              "[23] \"Preparing to unpack .../libpixman-1-dev_0.34.0-2_amd64.deb ...\\r\"                                                                                                                                                                                                                                                                                                                                                                                                                                                                                                                                                                                              \n",
              "[24] \"Unpacking libpixman-1-dev:amd64 (0.34.0-2) ...\\r\"                                                                                                                                                                                                                                                                                                                                                                                                                                                                                                                                                                                                              \n",
              "[25] \"Selecting previously unselected package libxcb-shm0-dev:amd64.\\r\"                                                                                                                                                                                                                                                                                                                                                                                                                                                                                                                                                                                              \n",
              "[26] \"Preparing to unpack .../libxcb-shm0-dev_1.13-2~ubuntu18.04_amd64.deb ...\\r\"                                                                                                                                                                                                                                                                                                                                                                                                                                                                                                                                                                                    \n",
              "[27] \"Unpacking libxcb-shm0-dev:amd64 (1.13-2~ubuntu18.04) ...\\r\"                                                                                                                                                                                                                                                                                                                                                                                                                                                                                                                                                                                                    \n",
              "[28] \"Selecting previously unselected package libcairo2-dev:amd64.\\r\"                                                                                                                                                                                                                                                                                                                                                                                                                                                                                                                                                                                                \n",
              "[29] \"Preparing to unpack .../libcairo2-dev_1.15.10-2ubuntu0.1_amd64.deb ...\\r\"                                                                                                                                                                                                                                                                                                                                                                                                                                                                                                                                                                                      \n",
              "[30] \"Unpacking libcairo2-dev:amd64 (1.15.10-2ubuntu0.1) ...\\r\"                                                                                                                                                                                                                                                                                                                                                                                                                                                                                                                                                                                                      \n",
              "[31] \"Setting up libcairo-script-interpreter2:amd64 (1.15.10-2ubuntu0.1) ...\\r\"                                                                                                                                                                                                                                                                                                                                                                                                                                                                                                                                                                                      \n",
              "[32] \"Setting up libxcb-shm0-dev:amd64 (1.13-2~ubuntu18.04) ...\\r\"                                                                                                                                                                                                                                                                                                                                                                                                                                                                                                                                                                                                   \n",
              "[33] \"Setting up libpixman-1-dev:amd64 (0.34.0-2) ...\\r\"                                                                                                                                                                                                                                                                                                                                                                                                                                                                                                                                                                                                             \n",
              "[34] \"Setting up libcairo2-dev:amd64 (1.15.10-2ubuntu0.1) ...\\r\"                                                                                                                                                                                                                                                                                                                                                                                                                                                                                                                                                                                                     \n",
              "[35] \"Processing triggers for libc-bin (2.27-3ubuntu1.3) ...\\r\"                                                                                                                                                                                                                                                                                                                                                                                                                                                                                                                                                                                                      \n",
              "[36] \"/sbin/ldconfig.real: /usr/local/lib/python3.7/dist-packages/ideep4py/lib/libmkldnn.so.0 is not a symbolic link\\r\"                                                                                                                                                                                                                                                                                                                                                                                                                                                                                                                                              \n",
              "[37] \"\\r\"                                                                                                                                                                                                                                                                                                                                                                                                                                                                                                                                                                                                                                                            "
            ]
          },
          "metadata": {}
        }
      ]
    },
    {
      "cell_type": "markdown",
      "metadata": {
        "id": "ph0vAyiu5KGf"
      },
      "source": [
        "### Install R packages from CRAN"
      ]
    },
    {
      "cell_type": "code",
      "metadata": {
        "colab": {
          "base_uri": "https://localhost:8080/"
        },
        "outputId": "717f2da6-e6dd-4a4a-9e05-ec211132fb31",
        "id": "gmU1mjlH5KGg"
      },
      "source": [
        "install.packages('BiocManager')"
      ],
      "execution_count": 4,
      "outputs": [
        {
          "output_type": "stream",
          "name": "stderr",
          "text": [
            "Installing package into ‘/usr/local/lib/R/site-library’\n",
            "(as ‘lib’ is unspecified)\n",
            "\n"
          ]
        }
      ]
    },
    {
      "cell_type": "code",
      "metadata": {
        "id": "H6JGW5g-5KGh"
      },
      "source": [
        "required_packages <- c(\n",
        "  \"GenomicAlignments\",\n",
        "  'BSgenome.Mmusculus.UCSC.mm10',\n",
        "  'motifmatchr',\n",
        "  'uwot',\n",
        "  'igraph',\n",
        "  'VennDiagram',\n",
        "  'patchwork',\n",
        "  'TxDb.Mmusculus.UCSC.mm10.knownGene',\n",
        "  'org.Mm.eg.db',\n",
        "  'clusterProfiler'\n",
        " )"
      ],
      "execution_count": 5,
      "outputs": []
    },
    {
      "cell_type": "code",
      "metadata": {
        "id": "TkBPuKmN5KGh",
        "colab": {
          "base_uri": "https://localhost:8080/"
        },
        "outputId": "ff3efe1e-6edc-4f52-a5c5-d256db13d100"
      },
      "source": [
        "missing_packages <- required_packages[!required_packages %in% rownames(installed.packages())]\n",
        "if (length(missing_packages) > 0){\n",
        "    BiocManager::install(missing_packages)\n",
        "}"
      ],
      "execution_count": 6,
      "outputs": [
        {
          "output_type": "stream",
          "name": "stderr",
          "text": [
            "'getOption(\"repos\")' replaces Bioconductor standard repositories, see\n",
            "'?repositories' for details\n",
            "\n",
            "replacement repositories:\n",
            "    CRAN: https://cran.rstudio.com\n",
            "\n",
            "\n",
            "Bioconductor version 3.14 (BiocManager 1.30.16), R 4.1.3 (2022-03-10)\n",
            "\n",
            "Installing package(s) 'BiocVersion', 'GenomicAlignments',\n",
            "  'BSgenome.Mmusculus.UCSC.mm10', 'motifmatchr', 'uwot', 'igraph',\n",
            "  'VennDiagram', 'patchwork', 'TxDb.Mmusculus.UCSC.mm10.knownGene',\n",
            "  'org.Mm.eg.db', 'clusterProfiler'\n",
            "\n",
            "also installing the dependencies ‘rjson’, ‘pracma’, ‘xtable’, ‘R.oo’, ‘R.methodsS3’, ‘filelock’, ‘gridGraphics’, ‘tweenr’, ‘polyclip’, ‘lazyeval’, ‘restfulr’, ‘poweRlaw’, ‘annotate’, ‘R.utils’, ‘plogr’, ‘formatR’, ‘BiocFileCache’, ‘png’, ‘gridExtra’, ‘fastmatch’, ‘ggfun’, ‘ggplotify’, ‘ggforce’, ‘ggrepel’, ‘viridis’, ‘tidygraph’, ‘graphlayouts’, ‘ape’, ‘tidytree’, ‘treeio’, ‘RCurl’, ‘GenomeInfoDbData’, ‘XVector’, ‘MatrixGenerics’, ‘Biobase’, ‘DelayedArray’, ‘zlibbioc’, ‘bitops’, ‘Rhtslib’, ‘snow’, ‘BH’, ‘rtracklayer’, ‘matrixStats’, ‘caTools’, ‘CNEr’, ‘DirichletMultinomial’, ‘gtools’, ‘RSQLite’, ‘seqLogo’, ‘TFMPvalue’, ‘XML’, ‘RcppEigen’, ‘sitmo’, ‘lambda.r’, ‘futile.options’, ‘BiocIO’, ‘biomaRt’, ‘KEGGREST’, ‘DO.db’, ‘fgsea’, ‘reshape2’, ‘aplot’, ‘ggraph’, ‘scatterpie’, ‘shadowtext’, ‘ggtree’, ‘BiocGenerics’, ‘S4Vectors’, ‘IRanges’, ‘GenomeInfoDb’, ‘GenomicRanges’, ‘SummarizedExperiment’, ‘Biostrings’, ‘Rsamtools’, ‘BiocParallel’, ‘BSgenome’, ‘Rcpp’, ‘TFBSTools’, ‘RcppArmadillo’, ‘FNN’, ‘RSpectra’, ‘RcppAnnoy’, ‘irlba’, ‘RcppProgress’, ‘dqrng’, ‘futile.logger’, ‘GenomicFeatures’, ‘AnnotationDbi’, ‘downloader’, ‘DOSE’, ‘enrichplot’, ‘GO.db’, ‘GOSemSim’, ‘plyr’, ‘qvalue’, ‘yulab.utils’\n",
            "\n",
            "\n",
            "Old packages: 'blob', 'broom', 'haven', 'RColorBrewer', 'scales', 'vctrs'\n",
            "\n"
          ]
        }
      ]
    },
    {
      "cell_type": "code",
      "metadata": {
        "id": "Im96jtct5KGi",
        "colab": {
          "base_uri": "https://localhost:8080/"
        },
        "outputId": "d495cd0e-101a-4b3f-e920-67da251afe9a"
      },
      "source": [
        "library(devtools)"
      ],
      "execution_count": 7,
      "outputs": [
        {
          "output_type": "stream",
          "name": "stderr",
          "text": [
            "Loading required package: usethis\n",
            "\n"
          ]
        }
      ]
    },
    {
      "cell_type": "markdown",
      "metadata": {
        "id": "CO4WWQlD5KGj"
      },
      "source": [
        "### Install R packages from github"
      ]
    },
    {
      "cell_type": "code",
      "metadata": {
        "colab": {
          "base_uri": "https://localhost:8080/"
        },
        "outputId": "40751688-248e-48d6-a5ba-500286a8a89a",
        "id": "j-lXMzWl5KGk"
      },
      "source": [
        "install_github(\"GreenleafLab/chromVARmotifs\")"
      ],
      "execution_count": 8,
      "outputs": [
        {
          "output_type": "stream",
          "name": "stderr",
          "text": [
            "Downloading GitHub repo GreenleafLab/chromVARmotifs@HEAD\n",
            "\n"
          ]
        },
        {
          "output_type": "stream",
          "name": "stdout",
          "text": [
            "vctrs        (0.4.0 -> 0.4.1) [CRAN]\n",
            "blob         (1.2.2 -> 1.2.3) [CRAN]\n",
            "RColorBrewer (1.1-2 -> 1.1-3) [CRAN]\n",
            "scales       (1.1.1 -> 1.2.0) [CRAN]\n"
          ]
        },
        {
          "output_type": "stream",
          "name": "stderr",
          "text": [
            "Installing 4 packages: vctrs, blob, RColorBrewer, scales\n",
            "\n",
            "Installing packages into ‘/usr/local/lib/R/site-library’\n",
            "(as ‘lib’ is unspecified)\n",
            "\n"
          ]
        },
        {
          "output_type": "stream",
          "name": "stdout",
          "text": [
            "* checking for file ‘/tmp/RtmpxMHvY5/remotes62288b02ce/GreenleafLab-chromVARmotifs-38bed55/DESCRIPTION’ ... OK\n",
            "* preparing ‘chromVARmotifs’:\n",
            "* checking DESCRIPTION meta-information ... OK\n",
            "* checking for LF line-endings in source and make files and shell scripts\n",
            "* checking for empty or unneeded directories\n",
            "* building ‘chromVARmotifs_0.2.0.tar.gz’\n",
            "\n"
          ]
        },
        {
          "output_type": "stream",
          "name": "stderr",
          "text": [
            "Installing package into ‘/usr/local/lib/R/site-library’\n",
            "(as ‘lib’ is unspecified)\n",
            "\n"
          ]
        }
      ]
    },
    {
      "cell_type": "code",
      "source": [
        "devtools::install_github(\"GuangchuangYu/ChIPseeker\")"
      ],
      "metadata": {
        "id": "UXxad8Xe54Yg",
        "colab": {
          "base_uri": "https://localhost:8080/"
        },
        "outputId": "49d4ddd8-3c3e-40da-e6c8-e519e56ad665"
      },
      "execution_count": 9,
      "outputs": [
        {
          "output_type": "stream",
          "name": "stderr",
          "text": [
            "Downloading GitHub repo GuangchuangYu/ChIPseeker@HEAD\n",
            "\n"
          ]
        },
        {
          "output_type": "stream",
          "name": "stdout",
          "text": [
            "enrichplot   (1.14.2 -> d11b60bb6...) [GitHub]\n",
            "TxDb.Hsap... (NA     -> 3.2.2       ) [CRAN]\n",
            "plotrix      (NA     -> 3.8-2       ) [CRAN]\n",
            "gplots       (NA     -> 3.1.1       ) [CRAN]\n"
          ]
        },
        {
          "output_type": "stream",
          "name": "stderr",
          "text": [
            "Installing 3 packages: TxDb.Hsapiens.UCSC.hg19.knownGene, plotrix, gplots\n",
            "\n",
            "Installing packages into ‘/usr/local/lib/R/site-library’\n",
            "(as ‘lib’ is unspecified)\n",
            "\n",
            "Downloading GitHub repo GuangchuangYu/enrichplot@HEAD\n",
            "\n"
          ]
        },
        {
          "output_type": "stream",
          "name": "stdout",
          "text": [
            "\n",
            "* checking for file ‘/tmp/RtmpxMHvY5/remotes621235e9e7/GuangchuangYu-enrichplot-d11b60b/DESCRIPTION’ ... OK\n",
            "* preparing ‘enrichplot’:\n",
            "* checking DESCRIPTION meta-information ... OK\n",
            "* checking for LF line-endings in source and make files and shell scripts\n",
            "* checking for empty or unneeded directories\n",
            "* building ‘enrichplot_1.13.1.992.tar.gz’\n",
            "\n"
          ]
        },
        {
          "output_type": "stream",
          "name": "stderr",
          "text": [
            "Installing package into ‘/usr/local/lib/R/site-library’\n",
            "(as ‘lib’ is unspecified)\n",
            "\n"
          ]
        },
        {
          "output_type": "stream",
          "name": "stdout",
          "text": [
            "* checking for file ‘/tmp/RtmpxMHvY5/remotes627cc016b9/YuLab-SMU-ChIPseeker-5945269/DESCRIPTION’ ... OK\n",
            "* preparing ‘ChIPseeker’:\n",
            "* checking DESCRIPTION meta-information ... OK\n",
            "* checking for LF line-endings in source and make files and shell scripts\n",
            "* checking for empty or unneeded directories\n",
            "* looking to see if a ‘data/datalist’ file should be added\n",
            "* building ‘ChIPseeker_1.31.4.tar.gz’\n",
            "\n"
          ]
        },
        {
          "output_type": "stream",
          "name": "stderr",
          "text": [
            "Installing package into ‘/usr/local/lib/R/site-library’\n",
            "(as ‘lib’ is unspecified)\n",
            "\n"
          ]
        }
      ]
    },
    {
      "cell_type": "markdown",
      "metadata": {
        "id": "nNMw2Bal5KGl"
      },
      "source": [
        "### Install `seatac` from github"
      ]
    },
    {
      "cell_type": "code",
      "metadata": {
        "colab": {
          "base_uri": "https://localhost:8080/"
        },
        "outputId": "3798f242-5683-4078-a43a-a5a0b1e6bb90",
        "id": "3hqMRuPh5KGl"
      },
      "source": [
        "install_github('gongx030/seatac', quiet = FALSE, ref = 'v0.4.0') # install from the branch v0.4.0\n",
        "devtools::reload(pkgload::inst(\"seatac\"))\n",
        "library(seatac)"
      ],
      "execution_count": 10,
      "outputs": [
        {
          "output_type": "stream",
          "name": "stderr",
          "text": [
            "Downloading GitHub repo gongx030/seatac@v0.4.0\n",
            "\n"
          ]
        },
        {
          "output_type": "stream",
          "name": "stdout",
          "text": [
            "tfautograph  (NA -> 0.3.2 ) [CRAN]\n",
            "config       (NA -> 0.3.1 ) [CRAN]\n",
            "here         (NA -> 1.0.1 ) [CRAN]\n",
            "RcppTOML     (NA -> 0.1.7 ) [CRAN]\n",
            "zeallot      (NA -> 0.1.0 ) [CRAN]\n",
            "tfruns       (NA -> 1.5.0 ) [CRAN]\n",
            "tensorflow   (NA -> 2.8.0 ) [CRAN]\n",
            "reticulate   (NA -> 1.24  ) [CRAN]\n",
            "keras        (NA -> 2.8.0 ) [CRAN]\n",
            "abind        (NA -> 1.4-5 ) [CRAN]\n",
            "tfdatasets   (NA -> 2.7.0 ) [CRAN]\n",
            "tfprobabi... (NA -> 0.15.0) [CRAN]\n"
          ]
        },
        {
          "output_type": "stream",
          "name": "stderr",
          "text": [
            "Installing 12 packages: tfautograph, config, here, RcppTOML, zeallot, tfruns, tensorflow, reticulate, keras, abind, tfdatasets, tfprobability\n",
            "\n",
            "Installing packages into ‘/usr/local/lib/R/site-library’\n",
            "(as ‘lib’ is unspecified)\n",
            "\n"
          ]
        },
        {
          "output_type": "stream",
          "name": "stdout",
          "text": [
            "* checking for file ‘/tmp/RtmpxMHvY5/remotes622bad8826/gongx030-seatac-55f9f36/DESCRIPTION’ ... OK\n",
            "* preparing ‘seatac’:\n",
            "* checking DESCRIPTION meta-information ... OK\n",
            "* checking for LF line-endings in source and make files and shell scripts\n",
            "* checking for empty or unneeded directories\n",
            "Omitted ‘LazyData’ from DESCRIPTION\n",
            "* building ‘seatac_0.4.0-010.tar.gz’\n",
            "\n"
          ]
        },
        {
          "output_type": "stream",
          "name": "stderr",
          "text": [
            "Installing package into ‘/usr/local/lib/R/site-library’\n",
            "(as ‘lib’ is unspecified)\n",
            "\n",
            "Loading required package: tensorflow\n",
            "\n",
            "Loading required package: tfprobability\n",
            "\n",
            "Loading required package: tfdatasets\n",
            "\n",
            "Loading required package: GenomicRanges\n",
            "\n",
            "Loading required package: stats4\n",
            "\n",
            "Loading required package: BiocGenerics\n",
            "\n",
            "\n",
            "Attaching package: ‘BiocGenerics’\n",
            "\n",
            "\n",
            "The following objects are masked from ‘package:stats’:\n",
            "\n",
            "    IQR, mad, sd, var, xtabs\n",
            "\n",
            "\n",
            "The following objects are masked from ‘package:base’:\n",
            "\n",
            "    anyDuplicated, append, as.data.frame, basename, cbind, colnames,\n",
            "    dirname, do.call, duplicated, eval, evalq, Filter, Find, get, grep,\n",
            "    grepl, intersect, is.unsorted, lapply, Map, mapply, match, mget,\n",
            "    order, paste, pmax, pmax.int, pmin, pmin.int, Position, rank,\n",
            "    rbind, Reduce, rownames, sapply, setdiff, sort, table, tapply,\n",
            "    union, unique, unsplit, which.max, which.min\n",
            "\n",
            "\n",
            "Loading required package: S4Vectors\n",
            "\n",
            "\n",
            "Attaching package: ‘S4Vectors’\n",
            "\n",
            "\n",
            "The following objects are masked from ‘package:base’:\n",
            "\n",
            "    expand.grid, I, unname\n",
            "\n",
            "\n",
            "Loading required package: IRanges\n",
            "\n",
            "Loading required package: GenomeInfoDb\n",
            "\n",
            "Loading required package: SummarizedExperiment\n",
            "\n",
            "Loading required package: MatrixGenerics\n",
            "\n",
            "Loading required package: matrixStats\n",
            "\n",
            "\n",
            "Attaching package: ‘MatrixGenerics’\n",
            "\n",
            "\n",
            "The following objects are masked from ‘package:matrixStats’:\n",
            "\n",
            "    colAlls, colAnyNAs, colAnys, colAvgsPerRowSet, colCollapse,\n",
            "    colCounts, colCummaxs, colCummins, colCumprods, colCumsums,\n",
            "    colDiffs, colIQRDiffs, colIQRs, colLogSumExps, colMadDiffs,\n",
            "    colMads, colMaxs, colMeans2, colMedians, colMins, colOrderStats,\n",
            "    colProds, colQuantiles, colRanges, colRanks, colSdDiffs, colSds,\n",
            "    colSums2, colTabulates, colVarDiffs, colVars, colWeightedMads,\n",
            "    colWeightedMeans, colWeightedMedians, colWeightedSds,\n",
            "    colWeightedVars, rowAlls, rowAnyNAs, rowAnys, rowAvgsPerColSet,\n",
            "    rowCollapse, rowCounts, rowCummaxs, rowCummins, rowCumprods,\n",
            "    rowCumsums, rowDiffs, rowIQRDiffs, rowIQRs, rowLogSumExps,\n",
            "    rowMadDiffs, rowMads, rowMaxs, rowMeans2, rowMedians, rowMins,\n",
            "    rowOrderStats, rowProds, rowQuantiles, rowRanges, rowRanks,\n",
            "    rowSdDiffs, rowSds, rowSums2, rowTabulates, rowVarDiffs, rowVars,\n",
            "    rowWeightedMads, rowWeightedMeans, rowWeightedMedians,\n",
            "    rowWeightedSds, rowWeightedVars\n",
            "\n",
            "\n",
            "Loading required package: Biobase\n",
            "\n",
            "Welcome to Bioconductor\n",
            "\n",
            "    Vignettes contain introductory material; view with\n",
            "    'browseVignettes()'. To cite Bioconductor, see\n",
            "    'citation(\"Biobase\")', and for packages 'citation(\"pkgname\")'.\n",
            "\n",
            "\n",
            "\n",
            "Attaching package: ‘Biobase’\n",
            "\n",
            "\n",
            "The following object is masked from ‘package:MatrixGenerics’:\n",
            "\n",
            "    rowMedians\n",
            "\n",
            "\n",
            "The following objects are masked from ‘package:matrixStats’:\n",
            "\n",
            "    anyMissing, rowMedians\n",
            "\n",
            "\n",
            "\n",
            "Attaching package: ‘seatac’\n",
            "\n",
            "\n",
            "The following object is masked from ‘package:tfdatasets’:\n",
            "\n",
            "    fit\n",
            "\n",
            "\n",
            "The following object is masked from ‘package:stats’:\n",
            "\n",
            "    predict\n",
            "\n",
            "\n"
          ]
        }
      ]
    },
    {
      "cell_type": "markdown",
      "metadata": {
        "id": "wLAzDp945KGm"
      },
      "source": [
        "### Load R packages"
      ]
    },
    {
      "cell_type": "code",
      "metadata": {
        "id": "RKeZ6kTA5KGm",
        "colab": {
          "base_uri": "https://localhost:8080/"
        },
        "outputId": "1ad08fa8-e7eb-4bb9-f54e-6e6a714a3e00"
      },
      "source": [
        "library(BSgenome.Mmusculus.UCSC.mm10)\n",
        "library(dplyr)\n",
        "library(motifmatchr)\n",
        "library(chromVARmotifs)\n",
        "library(igraph)\n",
        "library(VennDiagram)\n",
        "library(ggplot2)\n",
        "library(patchwork)\n",
        "library(ChIPseeker)\n",
        "library(TxDb.Mmusculus.UCSC.mm10.knownGene)\n",
        "library(org.Mm.eg.db)\n",
        "library(clusterProfiler)"
      ],
      "execution_count": 11,
      "outputs": [
        {
          "output_type": "stream",
          "name": "stderr",
          "text": [
            "Loading required package: BSgenome\n",
            "\n",
            "Loading required package: Biostrings\n",
            "\n",
            "Loading required package: XVector\n",
            "\n",
            "\n",
            "Attaching package: ‘Biostrings’\n",
            "\n",
            "\n",
            "The following object is masked from ‘package:base’:\n",
            "\n",
            "    strsplit\n",
            "\n",
            "\n",
            "Loading required package: rtracklayer\n",
            "\n",
            "\n",
            "Attaching package: ‘dplyr’\n",
            "\n",
            "\n",
            "The following objects are masked from ‘package:Biostrings’:\n",
            "\n",
            "    collapse, intersect, setdiff, setequal, union\n",
            "\n",
            "\n",
            "The following object is masked from ‘package:XVector’:\n",
            "\n",
            "    slice\n",
            "\n",
            "\n",
            "The following object is masked from ‘package:Biobase’:\n",
            "\n",
            "    combine\n",
            "\n",
            "\n",
            "The following object is masked from ‘package:matrixStats’:\n",
            "\n",
            "    count\n",
            "\n",
            "\n",
            "The following objects are masked from ‘package:GenomicRanges’:\n",
            "\n",
            "    intersect, setdiff, union\n",
            "\n",
            "\n",
            "The following object is masked from ‘package:GenomeInfoDb’:\n",
            "\n",
            "    intersect\n",
            "\n",
            "\n",
            "The following objects are masked from ‘package:IRanges’:\n",
            "\n",
            "    collapse, desc, intersect, setdiff, slice, union\n",
            "\n",
            "\n",
            "The following objects are masked from ‘package:S4Vectors’:\n",
            "\n",
            "    first, intersect, rename, setdiff, setequal, union\n",
            "\n",
            "\n",
            "The following objects are masked from ‘package:BiocGenerics’:\n",
            "\n",
            "    combine, intersect, setdiff, union\n",
            "\n",
            "\n",
            "The following objects are masked from ‘package:stats’:\n",
            "\n",
            "    filter, lag\n",
            "\n",
            "\n",
            "The following objects are masked from ‘package:base’:\n",
            "\n",
            "    intersect, setdiff, setequal, union\n",
            "\n",
            "\n",
            "\n",
            "\n",
            "\n",
            "Attaching package: ‘igraph’\n",
            "\n",
            "\n",
            "The following objects are masked from ‘package:dplyr’:\n",
            "\n",
            "    as_data_frame, groups, union\n",
            "\n",
            "\n",
            "The following objects are masked from ‘package:rtracklayer’:\n",
            "\n",
            "    blocks, path\n",
            "\n",
            "\n",
            "The following object is masked from ‘package:Biostrings’:\n",
            "\n",
            "    union\n",
            "\n",
            "\n",
            "The following object is masked from ‘package:XVector’:\n",
            "\n",
            "    path\n",
            "\n",
            "\n",
            "The following object is masked from ‘package:GenomicRanges’:\n",
            "\n",
            "    union\n",
            "\n",
            "\n",
            "The following object is masked from ‘package:IRanges’:\n",
            "\n",
            "    union\n",
            "\n",
            "\n",
            "The following object is masked from ‘package:S4Vectors’:\n",
            "\n",
            "    union\n",
            "\n",
            "\n",
            "The following objects are masked from ‘package:BiocGenerics’:\n",
            "\n",
            "    normalize, path, union\n",
            "\n",
            "\n",
            "The following objects are masked from ‘package:stats’:\n",
            "\n",
            "    decompose, spectrum\n",
            "\n",
            "\n",
            "The following object is masked from ‘package:base’:\n",
            "\n",
            "    union\n",
            "\n",
            "\n",
            "Loading required package: grid\n",
            "\n",
            "\n",
            "Attaching package: ‘grid’\n",
            "\n",
            "\n",
            "The following object is masked from ‘package:Biostrings’:\n",
            "\n",
            "    pattern\n",
            "\n",
            "\n",
            "Loading required package: futile.logger\n",
            "\n",
            "Registered S3 method overwritten by 'ggtree':\n",
            "  method      from \n",
            "  identify.gg ggfun\n",
            "\n",
            "ChIPseeker v1.31.4  For help: https://guangchuangyu.github.io/software/ChIPseeker\n",
            "\n",
            "If you use ChIPseeker in published research, please cite:\n",
            "Guangchuang Yu, Li-Gen Wang, Qing-Yu He. ChIPseeker: an R/Bioconductor package for ChIP peak annotation, comparison and visualization. Bioinformatics 2015, 31(14):2382-2383\n",
            "\n",
            "Loading required package: GenomicFeatures\n",
            "\n",
            "Loading required package: AnnotationDbi\n",
            "\n",
            "\n",
            "Attaching package: ‘AnnotationDbi’\n",
            "\n",
            "\n",
            "The following object is masked from ‘package:dplyr’:\n",
            "\n",
            "    select\n",
            "\n",
            "\n",
            "\n",
            "\n",
            "clusterProfiler v4.2.2  For help: https://yulab-smu.top/biomedical-knowledge-mining-book/\n",
            "\n",
            "If you use clusterProfiler in published research, please cite:\n",
            "T Wu, E Hu, S Xu, M Chen, P Guo, Z Dai, T Feng, L Zhou, W Tang, L Zhan, X Fu, S Liu, X Bo, and G Yu. clusterProfiler 4.0: A universal enrichment tool for interpreting omics data. The Innovation. 2021, 2(3):100141\n",
            "\n",
            "\n",
            "Attaching package: ‘clusterProfiler’\n",
            "\n",
            "\n",
            "The following object is masked from ‘package:AnnotationDbi’:\n",
            "\n",
            "    select\n",
            "\n",
            "\n",
            "The following object is masked from ‘package:igraph’:\n",
            "\n",
            "    simplify\n",
            "\n",
            "\n",
            "The following object is masked from ‘package:XVector’:\n",
            "\n",
            "    slice\n",
            "\n",
            "\n",
            "The following object is masked from ‘package:IRanges’:\n",
            "\n",
            "    slice\n",
            "\n",
            "\n",
            "The following object is masked from ‘package:S4Vectors’:\n",
            "\n",
            "    rename\n",
            "\n",
            "\n",
            "The following object is masked from ‘package:stats’:\n",
            "\n",
            "    filter\n",
            "\n",
            "\n"
          ]
        }
      ]
    },
    {
      "cell_type": "markdown",
      "metadata": {
        "id": "j-TPW4ME18Vg"
      },
      "source": [
        "### TensorFlow setup"
      ]
    },
    {
      "cell_type": "code",
      "metadata": {
        "id": "BvMo6o4K18Vh",
        "colab": {
          "base_uri": "https://localhost:8080/"
        },
        "outputId": "fec19c1b-a93c-4d6f-ae0f-0f8009b1010f"
      },
      "source": [
        "gpus <- tf$config$list_physical_devices('GPU')\n",
        "for (gpu in gpus){\n",
        "  tf$config$experimental$set_memory_growth(gpu, TRUE)\n",
        "}\n",
        "logical_gpus <- tf$config$experimental$list_logical_devices('GPU')\n",
        "sprintf('Physical GPUs: %d', length(gpus)) %>% message()\n",
        "sprintf('Logical GPUs: %d', length(logical_gpus)) %>% message()"
      ],
      "execution_count": 12,
      "outputs": [
        {
          "output_type": "stream",
          "name": "stderr",
          "text": [
            "Loaded Tensorflow version 2.8.0\n",
            "\n",
            "Physical GPUs: 1\n",
            "\n",
            "Logical GPUs: 1\n",
            "\n"
          ]
        }
      ]
    },
    {
      "cell_type": "code",
      "metadata": {
        "id": "GfWHODPbHZ0s",
        "colab": {
          "base_uri": "https://localhost:8080/",
          "height": 35
        },
        "outputId": "d923ad69-964a-44d5-a372-54e5bc4141b3"
      },
      "source": [
        "Sys.time() - start_time"
      ],
      "execution_count": 13,
      "outputs": [
        {
          "output_type": "display_data",
          "data": {
            "text/plain": [
              "Time difference of 36.21423 mins"
            ]
          },
          "metadata": {}
        }
      ]
    },
    {
      "cell_type": "markdown",
      "metadata": {
        "id": "hl2lXOAv9ljx"
      },
      "source": [
        "## Parameters"
      ]
    },
    {
      "cell_type": "code",
      "metadata": {
        "id": "KMfU5_KD9nN9"
      },
      "source": [
        "ARGS <- list(\n",
        "  bin_size = 5L,\n",
        "  fragment_size_range_max = 640L,\n",
        "  fragment_size_interval = 20L,\n",
        "  window_size = 1000L,\n",
        "  block_size = 640L,\n",
        "  sliding_step = 20L,\n",
        "  min_reads = 10L,\n",
        "  vae_num_peaks = 5000L,\n",
        "  vae_latent = c(5L),\n",
        "  vae_filters0 = c(128L),\n",
        "  vae_filters = c(32L),\n",
        "  vae_downsample_layers = 4L,\n",
        "  vae_upsample_layers = 4L,\n",
        "  vae_base_learning_rate = c(1e-2),\n",
        "  vae_epochs = 200L,\n",
        "  vae_beta_schedule_method = c('constant'),\n",
        "  vae_beta0 = 1,\n",
        "  vae_batch_size = c(128L),\n",
        "  vae_warmup_ratio = 0.1,\n",
        "  padjusted_cutoff = 0.05,\n",
        "  log_ratio_cutoff = 0.1,\n",
        "  step_size = 200L,\n",
        "  upstream = -5000,\n",
        "  downstream = 1000,\n",
        "  pvalueCutoff = 1,\n",
        "  qvalueCutoff = 1,\n",
        "  center_width = 100L # the center width\n",
        ")"
      ],
      "execution_count": 90,
      "outputs": []
    },
    {
      "cell_type": "markdown",
      "source": [
        "#MEF"
      ],
      "metadata": {
        "id": "GEslYGcL8TCS"
      }
    },
    {
      "cell_type": "markdown",
      "metadata": {
        "id": "zTZFIssWfoaQ"
      },
      "source": [
        "## OSK motif regions with differential vplots"
      ]
    },
    {
      "cell_type": "code",
      "source": [
        "tab <- read.table('https://s3.msi.umn.edu/gongx030/projects/seatac_project/config/seatac_OSKM/results.tsv', sep = '\\t', header = TRUE)"
      ],
      "metadata": {
        "id": "JYVdOchvNEQA"
      },
      "execution_count": 15,
      "outputs": []
    },
    {
      "cell_type": "code",
      "metadata": {
        "id": "86mPlnz1NEQC"
      },
      "source": [
        "res <- read.table(tab[tab$vae_latent == 5,]$remote_output_file, header = FALSE, sep = '\\t')"
      ],
      "execution_count": 16,
      "outputs": []
    },
    {
      "cell_type": "code",
      "source": [
        "colnames(res) <- c('seqnames','start','end','width','strand','pvalue_z','padj','nucleosome_treatment','nucleosome_control','log_ratio')"
      ],
      "metadata": {
        "id": "6GnjVvBXNEQC"
      },
      "execution_count": 17,
      "outputs": []
    },
    {
      "cell_type": "code",
      "source": [
        "res <- GRanges(res)"
      ],
      "metadata": {
        "id": "YAZ-TmvPNEQD"
      },
      "execution_count": 18,
      "outputs": []
    },
    {
      "cell_type": "code",
      "metadata": {
        "colab": {
          "base_uri": "https://localhost:8080/"
        },
        "outputId": "75bee21c-2137-4bd2-fcc0-9dd5e057e260",
        "id": "7HQee47nNEQD"
      },
      "source": [
        "sprintf('number of motif-centric regions: %s', length(res)) %>% message()"
      ],
      "execution_count": 19,
      "outputs": [
        {
          "output_type": "stream",
          "name": "stderr",
          "text": [
            "number of motif-centric regions: 282789\n",
            "\n"
          ]
        }
      ]
    },
    {
      "cell_type": "code",
      "source": [
        "is_signif <- res$padj < 0.05\n",
        "sprintf('# of significantly differential V-plots called by SeATAC: %d', sum(is_signif)) %>% message()"
      ],
      "metadata": {
        "colab": {
          "base_uri": "https://localhost:8080/"
        },
        "outputId": "06377a31-5225-4e20-ef53-afe485fd4475",
        "id": "5N_w8jaONEQF"
      },
      "execution_count": 20,
      "outputs": [
        {
          "output_type": "stream",
          "name": "stderr",
          "text": [
            "# of significantly differential V-plots called by SeATAC: 19603\n",
            "\n"
          ]
        }
      ]
    },
    {
      "cell_type": "code",
      "source": [
        "gr_oct4 <- matchMotifs(homer_pwms[\"Oct4(POU,Homeobox)/mES-Oct4-ChIP-Seq(GSE11431)/Homer\"], res, genome = BSgenome.Mmusculus.UCSC.mm10, out = 'positions')[[1]] %>%\n",
        "  resize(width = ARGS[['block_size']], fix = 'center')"
      ],
      "metadata": {
        "id": "DAdezjg5FmYw"
      },
      "execution_count": 21,
      "outputs": []
    },
    {
      "cell_type": "markdown",
      "source": [
        "## Load data"
      ],
      "metadata": {
        "id": "UxzrHA0elNzU"
      }
    },
    {
      "cell_type": "code",
      "source": [
        "remote_bam_files <- c(\n",
        "  MEF = 'https://s3.msi.umn.edu/dsouz072/datasets/dataset=iPSC_reprogramming_version=20200208a/MEF.dedup.bam',\n",
        "  MEF_OSK_D7 = 'https://s3.msi.umn.edu/dsouz072/datasets/dataset=iPSC_reprogramming_version=20200208a/OSK_D7.dedup.bam'\n",
        ")\n",
        "for (i in 1:length(remote_bam_files)){\n",
        "  sprintf('wget -cx %s', remote_bam_files[i]) %>% system()\n",
        "}\n",
        "local_bam_files <- gsub('https://', './', remote_bam_files)"
      ],
      "metadata": {
        "id": "9J0Vi4zb2RTF"
      },
      "execution_count": 22,
      "outputs": []
    },
    {
      "cell_type": "markdown",
      "source": [
        "## Load bed files"
      ],
      "metadata": {
        "id": "RUotUmuaXmyB"
      }
    },
    {
      "cell_type": "code",
      "source": [
        "remote_bed_files <- gsub('.bam', '_summits.bed', remote_bam_files)\n",
        "for (i in 1:length(remote_bed_files)){\n",
        "  sprintf('wget -cx %s', remote_bed_files[i]) %>% system()\n",
        "}\n",
        "local_bed_files <- gsub('https://', './', remote_bed_files)\n",
        "all(file.exists(local_bed_files))"
      ],
      "metadata": {
        "colab": {
          "base_uri": "https://localhost:8080/",
          "height": 34
        },
        "id": "o0aAEdm_XphF",
        "outputId": "f9341c5d-9400-4e4e-85d2-6b993b63cddd"
      },
      "execution_count": 23,
      "outputs": [
        {
          "output_type": "display_data",
          "data": {
            "text/html": [
              "TRUE"
            ],
            "text/markdown": "TRUE",
            "text/latex": "TRUE",
            "text/plain": [
              "[1] TRUE"
            ]
          },
          "metadata": {}
        }
      ]
    },
    {
      "cell_type": "markdown",
      "source": [
        "## Training VAE"
      ],
      "metadata": {
        "id": "bk8TSzjM6mdV"
      }
    },
    {
      "cell_type": "code",
      "source": [
        "models <- list()"
      ],
      "metadata": {
        "id": "-ap0R4ll7BTT"
      },
      "execution_count": 91,
      "outputs": []
    },
    {
      "cell_type": "code",
      "source": [
        "cond <- c('MEF', 'MEF_OSK_D7')"
      ],
      "metadata": {
        "id": "tNFvbnwT7XWP"
      },
      "execution_count": 92,
      "outputs": []
    },
    {
      "cell_type": "code",
      "source": [
        "gr0 <- lapply(local_bed_files[cond], function(bed_file){\n",
        "  peaks <- read.table(bed_file, header = FALSE, sep = '\\t')\n",
        "  peaks <- GRanges(seqnames = peaks[, 1], range = IRanges(start = peaks[, 2], end = peaks[, 3]))\n",
        "  peaks <- resize(peaks, fix = 'center', width = ARGS[['step_size']])\n",
        "  peaks\n",
        "}) %>%\n",
        "  GRangesList() %>%\n",
        "  coverage() %>%\n",
        "  IRanges::slice(lower = 1, rangesOnly = TRUE) %>%\n",
        "  GRanges() %>%\n",
        "  resize(fix = 'center', width = ARGS[['window_size']])\n",
        "gr0 <- gr0[!seqnames(gr0) %in% c('chrM', 'chrY')]"
      ],
      "metadata": {
        "id": "zHqblmXnqM6L"
      },
      "execution_count": 93,
      "outputs": []
    },
    {
      "cell_type": "code",
      "metadata": {
        "colab": {
          "base_uri": "https://localhost:8080/"
        },
        "outputId": "8093dd1a-9c86-49f1-fc5e-374ea577e5a2",
        "id": "ffFYhb0Nxshz"
      },
      "source": [
        "gr <- slidingWindows(gr0, width = ARGS[['block_size']], step = ARGS[['sliding_step']]) %>% unlist()\n",
        "set.seed(1L); gr <- sample(gr, ARGS[['vae_num_peaks']])\n",
        "counts <- count_reads(gr, local_bam_files[cond], genome = BSgenome.Mmusculus.UCSC.mm10,  fragment_size_range = c(0, ARGS[['fragment_size_range_max']]))"
      ],
      "execution_count": 94,
      "outputs": [
        {
          "output_type": "stream",
          "name": "stderr",
          "text": [
            "read_bam | reading ./s3.msi.umn.edu/dsouz072/datasets/dataset=iPSC_reprogramming_version=20200208a/MEF.dedup.bam\n",
            "\n",
            "read_bam | reading ./s3.msi.umn.edu/dsouz072/datasets/dataset=iPSC_reprogramming_version=20200208a/OSK_D7.dedup.bam\n",
            "\n"
          ]
        }
      ]
    },
    {
      "cell_type": "code",
      "metadata": {
        "colab": {
          "base_uri": "https://localhost:8080/"
        },
        "outputId": "cc47970a-ce27-4341-8aca-521652f9f86d",
        "id": "aSfnrGj7xshz"
      },
      "source": [
        "valid <- rowSums(counts >= ARGS[['min_reads']]) == length(cond)\n",
        "gr <- gr[valid]\n",
        "sprintf('number of training peaks for VaeModel: %d', length(gr)) %>% message()"
      ],
      "execution_count": 95,
      "outputs": [
        {
          "output_type": "stream",
          "name": "stderr",
          "text": [
            "number of training peaks for VaeModel: 2950\n",
            "\n"
          ]
        }
      ]
    },
    {
      "cell_type": "code",
      "source": [
        "x <- read_vplot(\n",
        "  gr, \n",
        "  filenames = local_bam_files[cond], \n",
        "  genome = BSgenome.Mmusculus.UCSC.mm10, \n",
        "  bin_size = ARGS[['bin_size']], \n",
        "  fragment_size_range = c(0, ARGS[['fragment_size_range_max']]), \n",
        "  fragment_size_interval = ARGS[['fragment_size_interval']]\n",
        ")"
      ],
      "metadata": {
        "colab": {
          "base_uri": "https://localhost:8080/"
        },
        "id": "VvwQSvqeq6xN",
        "outputId": "e0358427-9827-4359-ef14-cd0aad863a28"
      },
      "execution_count": 96,
      "outputs": [
        {
          "output_type": "stream",
          "name": "stderr",
          "text": [
            "read_bam | reading ./s3.msi.umn.edu/dsouz072/datasets/dataset=iPSC_reprogramming_version=20200208a/MEF.dedup.bam\n",
            "\n",
            "read_bam | reading ./s3.msi.umn.edu/dsouz072/datasets/dataset=iPSC_reprogramming_version=20200208a/OSK_D7.dedup.bam\n",
            "\n"
          ]
        }
      ]
    },
    {
      "cell_type": "code",
      "metadata": {
        "colab": {
          "base_uri": "https://localhost:8080/"
        },
        "outputId": "696f546f-1612-4a04-a233-e511c0e5fe4e",
        "id": "DF8-Nf4cqBJ1"
      },
      "source": [
        "model <- new('VaeModel', model = VaeModel(\n",
        "  n_samples = dim(x)['sample'],\n",
        "  latent_dim = ARGS[['vae_latent']],\n",
        "  block_size = ARGS[['block_size']],\n",
        "  bin_size = ARGS[['bin_size']],\n",
        "  filters0 = ARGS[['vae_filters0']],\n",
        "  filters = ARGS[['vae_filters']],\n",
        "  upsample_layers = ARGS[['vae_upsample_layers']],\n",
        "  downsample_layers = ARGS[['vae_downsample_layers']],\n",
        "  fragment_size_range  = c(0, ARGS[['fragment_size_range_max']]),\n",
        "  fragment_size_interval = ARGS[['fragment_size_interval']]\n",
        "))\n",
        "lr <- WarmUpAndCosineDecay(\n",
        "  base_learning_rate = ARGS[['vae_base_learning_rate']],\n",
        "  num_examples = nrow(x),\n",
        "  batch_size = ARGS[['vae_batch_size']],\n",
        "  epochs = ARGS[['vae_epochs']],\n",
        "  warmup_epochs = as.integer(ARGS[['vae_epochs']] * ARGS[['vae_warmup_ratio']])\n",
        ")\n",
        "beta <- beta_schedule(\n",
        "  method = ARGS[['vae_beta_schedule_method']],\n",
        "  beta0 = ARGS[['vae_beta0']],\n",
        "  epochs = ARGS[['vae_epochs']]\n",
        ")\n",
        "d <- model %>% prepare_data(x)\n",
        "d <- d %>% tensor_slices_dataset()\n",
        "models[['MEF']] <- model %>% fit(d, batch_size =  ARGS[['vae_batch_size']], epochs = ARGS[['vae_epochs']], learning_rate = lr, compile = TRUE, beta = beta)"
      ],
      "execution_count": 97,
      "outputs": [
        {
          "output_type": "stream",
          "name": "stderr",
          "text": [
            "epoch=     1/   200 | beta=1.000e+00 | loss= 3470.1653035 | loss_reconstruction= 3469.6343180 | loss_kl=    0.5310036\n",
            "\n",
            "epoch=     2/   200 | beta=1.000e+00 | loss= 2878.4208069 | loss_reconstruction= 2877.7587280 | loss_kl=    0.6620703\n",
            "\n",
            "epoch=     3/   200 | beta=1.000e+00 | loss= 2544.8036906 | loss_reconstruction= 2543.0950623 | loss_kl=    1.7086063\n",
            "\n",
            "epoch=     4/   200 | beta=1.000e+00 | loss= 2242.8116964 | loss_reconstruction= 2241.5089518 | loss_kl=    1.3027327\n",
            "\n",
            "epoch=     5/   200 | beta=1.000e+00 | loss= 1843.5124054 | loss_reconstruction= 1842.7001648 | loss_kl=    0.8122502\n",
            "\n",
            "epoch=     6/   200 | beta=1.000e+00 | loss= 1368.8193054 | loss_reconstruction= 1368.1759644 | loss_kl=    0.6433525\n",
            "\n",
            "epoch=     7/   200 | beta=1.000e+00 | loss=  920.3854167 | loss_reconstruction=  919.9707311 | loss_kl=    0.4146894\n",
            "\n",
            "epoch=     8/   200 | beta=1.000e+00 | loss=  602.8412984 | loss_reconstruction=  602.7399254 | loss_kl=    0.1013717\n",
            "\n",
            "epoch=     9/   200 | beta=1.000e+00 | loss=  426.8919894 | loss_reconstruction=  426.8448906 | loss_kl=    0.0471006\n",
            "\n",
            "epoch=    10/   200 | beta=1.000e+00 | loss=  339.9949506 | loss_reconstruction=  339.9226303 | loss_kl=    0.0723188\n",
            "\n",
            "epoch=    11/   200 | beta=1.000e+00 | loss=  296.5386759 | loss_reconstruction=  296.4062780 | loss_kl=    0.1323975\n",
            "\n",
            "epoch=    12/   200 | beta=1.000e+00 | loss=  271.2419650 | loss_reconstruction=  269.6465162 | loss_kl=    1.5954515\n",
            "\n",
            "epoch=    13/   200 | beta=1.000e+00 | loss=  253.0084400 | loss_reconstruction=  250.5353915 | loss_kl=    2.4730485\n",
            "\n",
            "epoch=    14/   200 | beta=1.000e+00 | loss=  242.9966564 | loss_reconstruction=  240.1456579 | loss_kl=    2.8509986\n",
            "\n",
            "epoch=    15/   200 | beta=1.000e+00 | loss=  237.1636664 | loss_reconstruction=  234.0045058 | loss_kl=    3.1591611\n",
            "\n",
            "epoch=    16/   200 | beta=1.000e+00 | loss=  233.1054796 | loss_reconstruction=  229.6831239 | loss_kl=    3.4223542\n",
            "\n",
            "epoch=    17/   200 | beta=1.000e+00 | loss=  229.9458160 | loss_reconstruction=  226.2087504 | loss_kl=    3.7370645\n",
            "\n",
            "epoch=    18/   200 | beta=1.000e+00 | loss=  227.7767131 | loss_reconstruction=  223.7188702 | loss_kl=    4.0578408\n",
            "\n",
            "epoch=    19/   200 | beta=1.000e+00 | loss=  227.2367827 | loss_reconstruction=  223.0989780 | loss_kl=    4.1378068\n",
            "\n",
            "epoch=    20/   200 | beta=1.000e+00 | loss=  224.0414689 | loss_reconstruction=  219.6836135 | loss_kl=    4.3578556\n",
            "\n",
            "epoch=    21/   200 | beta=1.000e+00 | loss=  222.9188995 | loss_reconstruction=  218.4474373 | loss_kl=    4.4714638\n",
            "\n",
            "epoch=    22/   200 | beta=1.000e+00 | loss=  221.7988275 | loss_reconstruction=  217.3056278 | loss_kl=    4.4931987\n",
            "\n",
            "epoch=    23/   200 | beta=1.000e+00 | loss=  220.9757449 | loss_reconstruction=  216.4673112 | loss_kl=    4.5084325\n",
            "\n",
            "epoch=    24/   200 | beta=1.000e+00 | loss=  220.2588469 | loss_reconstruction=  215.5340741 | loss_kl=    4.7247723\n",
            "\n",
            "epoch=    25/   200 | beta=1.000e+00 | loss=  219.9307575 | loss_reconstruction=  215.1824042 | loss_kl=    4.7483547\n",
            "\n",
            "epoch=    26/   200 | beta=1.000e+00 | loss=  219.7199389 | loss_reconstruction=  214.9805202 | loss_kl=    4.7394198\n",
            "\n",
            "epoch=    27/   200 | beta=1.000e+00 | loss=  218.8612804 | loss_reconstruction=  214.0925643 | loss_kl=    4.7687170\n",
            "\n",
            "epoch=    28/   200 | beta=1.000e+00 | loss=  218.9200471 | loss_reconstruction=  214.0335833 | loss_kl=    4.8864639\n",
            "\n",
            "epoch=    29/   200 | beta=1.000e+00 | loss=  218.9766337 | loss_reconstruction=  214.0239239 | loss_kl=    4.9527116\n",
            "\n",
            "epoch=    30/   200 | beta=1.000e+00 | loss=  218.8625851 | loss_reconstruction=  213.9223614 | loss_kl=    4.9402233\n",
            "\n",
            "epoch=    31/   200 | beta=1.000e+00 | loss=  218.3290552 | loss_reconstruction=  213.4440193 | loss_kl=    4.8850355\n",
            "\n",
            "epoch=    32/   200 | beta=1.000e+00 | loss=  218.1401819 | loss_reconstruction=  213.0910021 | loss_kl=    5.0491787\n",
            "\n",
            "epoch=    33/   200 | beta=1.000e+00 | loss=  217.9326019 | loss_reconstruction=  212.8921407 | loss_kl=    5.0404596\n",
            "\n",
            "epoch=    34/   200 | beta=1.000e+00 | loss=  217.7678305 | loss_reconstruction=  212.6953354 | loss_kl=    5.0724954\n",
            "\n",
            "epoch=    35/   200 | beta=1.000e+00 | loss=  217.5238508 | loss_reconstruction=  212.4606584 | loss_kl=    5.0631921\n",
            "\n",
            "epoch=    36/   200 | beta=1.000e+00 | loss=  217.7201494 | loss_reconstruction=  212.5867163 | loss_kl=    5.1334336\n",
            "\n",
            "epoch=    37/   200 | beta=1.000e+00 | loss=  217.3809465 | loss_reconstruction=  212.2703196 | loss_kl=    5.1106262\n",
            "\n",
            "epoch=    38/   200 | beta=1.000e+00 | loss=  217.1943099 | loss_reconstruction=  212.0393887 | loss_kl=    5.1549205\n",
            "\n",
            "epoch=    39/   200 | beta=1.000e+00 | loss=  217.3264739 | loss_reconstruction=  212.1589622 | loss_kl=    5.1675116\n",
            "\n",
            "epoch=    40/   200 | beta=1.000e+00 | loss=  217.3297825 | loss_reconstruction=  212.1399568 | loss_kl=    5.1898254\n",
            "\n",
            "epoch=    41/   200 | beta=1.000e+00 | loss=  217.1229159 | loss_reconstruction=  211.9267661 | loss_kl=    5.1961489\n",
            "\n",
            "epoch=    42/   200 | beta=1.000e+00 | loss=  217.2247410 | loss_reconstruction=  211.8915323 | loss_kl=    5.3332101\n",
            "\n",
            "epoch=    43/   200 | beta=1.000e+00 | loss=  217.3851306 | loss_reconstruction=  212.1231976 | loss_kl=    5.2619317\n",
            "\n",
            "epoch=    44/   200 | beta=1.000e+00 | loss=  216.9086889 | loss_reconstruction=  211.6787663 | loss_kl=    5.2299228\n",
            "\n",
            "epoch=    45/   200 | beta=1.000e+00 | loss=  216.6437925 | loss_reconstruction=  211.4003372 | loss_kl=    5.2434550\n",
            "\n",
            "epoch=    46/   200 | beta=1.000e+00 | loss=  216.6653913 | loss_reconstruction=  211.3763924 | loss_kl=    5.2889988\n",
            "\n",
            "epoch=    47/   200 | beta=1.000e+00 | loss=  217.3047066 | loss_reconstruction=  211.8584887 | loss_kl=    5.4462187\n",
            "\n",
            "epoch=    48/   200 | beta=1.000e+00 | loss=  216.9985269 | loss_reconstruction=  211.7698065 | loss_kl=    5.2287198\n",
            "\n",
            "epoch=    49/   200 | beta=1.000e+00 | loss=  216.6388505 | loss_reconstruction=  211.2746302 | loss_kl=    5.3642191\n",
            "\n",
            "epoch=    50/   200 | beta=1.000e+00 | loss=  216.6389440 | loss_reconstruction=  211.3469804 | loss_kl=    5.2919633\n",
            "\n",
            "epoch=    51/   200 | beta=1.000e+00 | loss=  216.4399541 | loss_reconstruction=  211.0749168 | loss_kl=    5.3650379\n",
            "\n",
            "epoch=    52/   200 | beta=1.000e+00 | loss=  216.5200691 | loss_reconstruction=  211.1185195 | loss_kl=    5.4015507\n",
            "\n",
            "epoch=    53/   200 | beta=1.000e+00 | loss=  216.3421682 | loss_reconstruction=  210.9511064 | loss_kl=    5.3910611\n",
            "\n",
            "epoch=    54/   200 | beta=1.000e+00 | loss=  216.2766056 | loss_reconstruction=  210.8649483 | loss_kl=    5.4116575\n",
            "\n",
            "epoch=    55/   200 | beta=1.000e+00 | loss=  216.1011391 | loss_reconstruction=  210.6896407 | loss_kl=    5.4114985\n",
            "\n",
            "epoch=    56/   200 | beta=1.000e+00 | loss=  216.2229780 | loss_reconstruction=  210.7271868 | loss_kl=    5.4957925\n",
            "\n",
            "epoch=    57/   200 | beta=1.000e+00 | loss=  215.8895327 | loss_reconstruction=  210.4307156 | loss_kl=    5.4588163\n",
            "\n",
            "epoch=    58/   200 | beta=1.000e+00 | loss=  215.9958731 | loss_reconstruction=  210.5293821 | loss_kl=    5.4664920\n",
            "\n",
            "epoch=    59/   200 | beta=1.000e+00 | loss=  216.2831516 | loss_reconstruction=  210.8578199 | loss_kl=    5.4253319\n",
            "\n",
            "epoch=    60/   200 | beta=1.000e+00 | loss=  215.8534559 | loss_reconstruction=  210.3920428 | loss_kl=    5.4614129\n",
            "\n",
            "epoch=    61/   200 | beta=1.000e+00 | loss=  215.8381316 | loss_reconstruction=  210.3296782 | loss_kl=    5.5084543\n",
            "\n",
            "epoch=    62/   200 | beta=1.000e+00 | loss=  215.8008219 | loss_reconstruction=  210.3073883 | loss_kl=    5.4934331\n",
            "\n",
            "epoch=    63/   200 | beta=1.000e+00 | loss=  215.6530425 | loss_reconstruction=  210.1800906 | loss_kl=    5.4729528\n",
            "\n",
            "epoch=    64/   200 | beta=1.000e+00 | loss=  215.5896327 | loss_reconstruction=  210.0078856 | loss_kl=    5.5817467\n",
            "\n",
            "epoch=    65/   200 | beta=1.000e+00 | loss=  215.6832778 | loss_reconstruction=  210.1350873 | loss_kl=    5.5481907\n",
            "\n",
            "epoch=    66/   200 | beta=1.000e+00 | loss=  215.5889708 | loss_reconstruction=  209.9881236 | loss_kl=    5.6008478\n",
            "\n",
            "epoch=    67/   200 | beta=1.000e+00 | loss=  215.3639914 | loss_reconstruction=  209.7187551 | loss_kl=    5.6452370\n",
            "\n",
            "epoch=    68/   200 | beta=1.000e+00 | loss=  215.2721418 | loss_reconstruction=  209.7570184 | loss_kl=    5.5151223\n",
            "\n",
            "epoch=    69/   200 | beta=1.000e+00 | loss=  215.0260410 | loss_reconstruction=  209.4078884 | loss_kl=    5.6181532\n",
            "\n",
            "epoch=    70/   200 | beta=1.000e+00 | loss=  215.1263949 | loss_reconstruction=  209.5499935 | loss_kl=    5.5764017\n",
            "\n",
            "epoch=    71/   200 | beta=1.000e+00 | loss=  215.5806802 | loss_reconstruction=  209.8940290 | loss_kl=    5.6866525\n",
            "\n",
            "epoch=    72/   200 | beta=1.000e+00 | loss=  214.9909121 | loss_reconstruction=  209.4846999 | loss_kl=    5.5062132\n",
            "\n",
            "epoch=    73/   200 | beta=1.000e+00 | loss=  215.3411522 | loss_reconstruction=  209.7052701 | loss_kl=    5.6358820\n",
            "\n",
            "epoch=    74/   200 | beta=1.000e+00 | loss=  215.4359125 | loss_reconstruction=  209.7537397 | loss_kl=    5.6821726\n",
            "\n",
            "epoch=    75/   200 | beta=1.000e+00 | loss=  215.1655197 | loss_reconstruction=  209.6051788 | loss_kl=    5.5603418\n",
            "\n",
            "epoch=    76/   200 | beta=1.000e+00 | loss=  214.9782098 | loss_reconstruction=  209.2220637 | loss_kl=    5.7561442\n",
            "\n",
            "epoch=    77/   200 | beta=1.000e+00 | loss=  214.5030333 | loss_reconstruction=  208.7781938 | loss_kl=    5.7248393\n",
            "\n",
            "epoch=    78/   200 | beta=1.000e+00 | loss=  214.7826284 | loss_reconstruction=  209.1346353 | loss_kl=    5.6479924\n",
            "\n",
            "epoch=    79/   200 | beta=1.000e+00 | loss=  214.7064921 | loss_reconstruction=  209.0087516 | loss_kl=    5.6977421\n",
            "\n",
            "epoch=    80/   200 | beta=1.000e+00 | loss=  214.9260324 | loss_reconstruction=  209.1748416 | loss_kl=    5.7511914\n",
            "\n",
            "epoch=    81/   200 | beta=1.000e+00 | loss=  214.9383539 | loss_reconstruction=  209.2683328 | loss_kl=    5.6700205\n",
            "\n",
            "epoch=    82/   200 | beta=1.000e+00 | loss=  215.0653839 | loss_reconstruction=  209.4234479 | loss_kl=    5.6419367\n",
            "\n",
            "epoch=    83/   200 | beta=1.000e+00 | loss=  213.7969608 | loss_reconstruction=  208.1131535 | loss_kl=    5.6838076\n",
            "\n",
            "epoch=    84/   200 | beta=1.000e+00 | loss=  214.2589938 | loss_reconstruction=  208.6011836 | loss_kl=    5.6578108\n",
            "\n",
            "epoch=    85/   200 | beta=1.000e+00 | loss=  214.6055959 | loss_reconstruction=  208.8592987 | loss_kl=    5.7462973\n",
            "\n",
            "epoch=    86/   200 | beta=1.000e+00 | loss=  215.0559069 | loss_reconstruction=  209.4086482 | loss_kl=    5.6472584\n",
            "\n",
            "epoch=    87/   200 | beta=1.000e+00 | loss=  215.1249631 | loss_reconstruction=  209.3375479 | loss_kl=    5.7874150\n",
            "\n",
            "epoch=    88/   200 | beta=1.000e+00 | loss=  214.1847095 | loss_reconstruction=  208.4640338 | loss_kl=    5.7206757\n",
            "\n",
            "epoch=    89/   200 | beta=1.000e+00 | loss=  213.8729426 | loss_reconstruction=  208.0702197 | loss_kl=    5.8027222\n",
            "\n",
            "epoch=    90/   200 | beta=1.000e+00 | loss=  213.2944171 | loss_reconstruction=  207.5027981 | loss_kl=    5.7916213\n",
            "\n",
            "epoch=    91/   200 | beta=1.000e+00 | loss=  213.7216326 | loss_reconstruction=  207.9341558 | loss_kl=    5.7874768\n",
            "\n",
            "epoch=    92/   200 | beta=1.000e+00 | loss=  213.3856036 | loss_reconstruction=  207.7298400 | loss_kl=    5.6557636\n",
            "\n",
            "epoch=    93/   200 | beta=1.000e+00 | loss=  213.2128677 | loss_reconstruction=  207.4590133 | loss_kl=    5.7538553\n",
            "\n",
            "epoch=    94/   200 | beta=1.000e+00 | loss=  214.0472228 | loss_reconstruction=  208.2646484 | loss_kl=    5.7825749\n",
            "\n",
            "epoch=    95/   200 | beta=1.000e+00 | loss=  214.3924732 | loss_reconstruction=  208.7858381 | loss_kl=    5.6066344\n",
            "\n",
            "epoch=    96/   200 | beta=1.000e+00 | loss=  216.1462256 | loss_reconstruction=  210.3005632 | loss_kl=    5.8456616\n",
            "\n",
            "epoch=    97/   200 | beta=1.000e+00 | loss=  213.4452820 | loss_reconstruction=  207.6483955 | loss_kl=    5.7968873\n",
            "\n",
            "epoch=    98/   200 | beta=1.000e+00 | loss=  212.5600627 | loss_reconstruction=  206.7386618 | loss_kl=    5.8214013\n",
            "\n",
            "epoch=    99/   200 | beta=1.000e+00 | loss=  212.8117720 | loss_reconstruction=  206.9695390 | loss_kl=    5.8422318\n",
            "\n",
            "epoch=   100/   200 | beta=1.000e+00 | loss=  213.8638681 | loss_reconstruction=  207.9225791 | loss_kl=    5.9412896\n",
            "\n",
            "epoch=   101/   200 | beta=1.000e+00 | loss=  212.8510081 | loss_reconstruction=  207.0347869 | loss_kl=    5.8162219\n",
            "\n",
            "epoch=   102/   200 | beta=1.000e+00 | loss=  212.2828439 | loss_reconstruction=  206.3951731 | loss_kl=    5.8876703\n",
            "\n",
            "epoch=   103/   200 | beta=1.000e+00 | loss=  212.3692656 | loss_reconstruction=  206.6763277 | loss_kl=    5.6929375\n",
            "\n",
            "epoch=   104/   200 | beta=1.000e+00 | loss=  212.1108850 | loss_reconstruction=  206.3338172 | loss_kl=    5.7770676\n",
            "\n",
            "epoch=   105/   200 | beta=1.000e+00 | loss=  212.1093658 | loss_reconstruction=  206.1985607 | loss_kl=    5.9108039\n",
            "\n",
            "epoch=   106/   200 | beta=1.000e+00 | loss=  212.6361170 | loss_reconstruction=  206.7487059 | loss_kl=    5.8874103\n",
            "\n",
            "epoch=   107/   200 | beta=1.000e+00 | loss=  211.4975338 | loss_reconstruction=  205.7996387 | loss_kl=    5.6978943\n",
            "\n",
            "epoch=   108/   200 | beta=1.000e+00 | loss=  212.3978532 | loss_reconstruction=  206.5331561 | loss_kl=    5.8646978\n",
            "\n",
            "epoch=   109/   200 | beta=1.000e+00 | loss=  212.2325719 | loss_reconstruction=  206.4266329 | loss_kl=    5.8059397\n",
            "\n",
            "epoch=   110/   200 | beta=1.000e+00 | loss=  211.6238743 | loss_reconstruction=  205.8726158 | loss_kl=    5.7512584\n",
            "\n",
            "epoch=   111/   200 | beta=1.000e+00 | loss=  211.8117193 | loss_reconstruction=  205.9201078 | loss_kl=    5.8916117\n",
            "\n",
            "epoch=   112/   200 | beta=1.000e+00 | loss=  213.1329943 | loss_reconstruction=  207.1553024 | loss_kl=    5.9776924\n",
            "\n",
            "epoch=   113/   200 | beta=1.000e+00 | loss=  211.1035589 | loss_reconstruction=  205.2549718 | loss_kl=    5.8485869\n",
            "\n",
            "epoch=   114/   200 | beta=1.000e+00 | loss=  211.4823920 | loss_reconstruction=  205.7394406 | loss_kl=    5.7429508\n",
            "\n",
            "epoch=   115/   200 | beta=1.000e+00 | loss=  211.2855781 | loss_reconstruction=  205.4941791 | loss_kl=    5.7913987\n",
            "\n",
            "epoch=   116/   200 | beta=1.000e+00 | loss=  211.7479108 | loss_reconstruction=  205.7066886 | loss_kl=    6.0412218\n",
            "\n",
            "epoch=   117/   200 | beta=1.000e+00 | loss=  210.2782558 | loss_reconstruction=  204.5157582 | loss_kl=    5.7624992\n",
            "\n",
            "epoch=   118/   200 | beta=1.000e+00 | loss=  210.4030676 | loss_reconstruction=  204.4839115 | loss_kl=    5.9191547\n",
            "\n",
            "epoch=   119/   200 | beta=1.000e+00 | loss=  210.5373061 | loss_reconstruction=  204.7195940 | loss_kl=    5.8177123\n",
            "\n",
            "epoch=   120/   200 | beta=1.000e+00 | loss=  211.5742184 | loss_reconstruction=  205.5888866 | loss_kl=    5.9853328\n",
            "\n",
            "epoch=   121/   200 | beta=1.000e+00 | loss=  210.2030389 | loss_reconstruction=  204.2392728 | loss_kl=    5.9637658\n",
            "\n",
            "epoch=   122/   200 | beta=1.000e+00 | loss=  209.6319529 | loss_reconstruction=  203.7181385 | loss_kl=    5.9138143\n",
            "\n",
            "epoch=   123/   200 | beta=1.000e+00 | loss=  209.6558599 | loss_reconstruction=  203.7304966 | loss_kl=    5.9253626\n",
            "\n",
            "epoch=   124/   200 | beta=1.000e+00 | loss=  210.1850386 | loss_reconstruction=  204.1037302 | loss_kl=    6.0813086\n",
            "\n",
            "epoch=   125/   200 | beta=1.000e+00 | loss=  209.6220175 | loss_reconstruction=  203.7916242 | loss_kl=    5.8303929\n",
            "\n",
            "epoch=   126/   200 | beta=1.000e+00 | loss=  209.5207407 | loss_reconstruction=  203.5594769 | loss_kl=    5.9612621\n",
            "\n",
            "epoch=   127/   200 | beta=1.000e+00 | loss=  209.5397860 | loss_reconstruction=  203.6344444 | loss_kl=    5.9053417\n",
            "\n",
            "epoch=   128/   200 | beta=1.000e+00 | loss=  208.8168847 | loss_reconstruction=  202.8712141 | loss_kl=    5.9456706\n",
            "\n",
            "epoch=   129/   200 | beta=1.000e+00 | loss=  208.5284063 | loss_reconstruction=  202.6267327 | loss_kl=    5.9016753\n",
            "\n",
            "epoch=   130/   200 | beta=1.000e+00 | loss=  208.7202319 | loss_reconstruction=  202.6978501 | loss_kl=    6.0223841\n",
            "\n",
            "epoch=   131/   200 | beta=1.000e+00 | loss=  209.2131581 | loss_reconstruction=  203.2719464 | loss_kl=    5.9412103\n",
            "\n",
            "epoch=   132/   200 | beta=1.000e+00 | loss=  209.3025101 | loss_reconstruction=  203.2724710 | loss_kl=    6.0300397\n",
            "\n",
            "epoch=   133/   200 | beta=1.000e+00 | loss=  208.8395338 | loss_reconstruction=  202.9193319 | loss_kl=    5.9202019\n",
            "\n",
            "epoch=   134/   200 | beta=1.000e+00 | loss=  208.5269769 | loss_reconstruction=  202.4441689 | loss_kl=    6.0828096\n",
            "\n",
            "epoch=   135/   200 | beta=1.000e+00 | loss=  208.3493700 | loss_reconstruction=  202.4431615 | loss_kl=    5.9062079\n",
            "\n",
            "epoch=   136/   200 | beta=1.000e+00 | loss=  207.9761356 | loss_reconstruction=  201.9173757 | loss_kl=    6.0587591\n",
            "\n",
            "epoch=   137/   200 | beta=1.000e+00 | loss=  207.8846140 | loss_reconstruction=  201.9108733 | loss_kl=    5.9737410\n",
            "\n",
            "epoch=   138/   200 | beta=1.000e+00 | loss=  207.8566105 | loss_reconstruction=  201.7405012 | loss_kl=    6.1161083\n",
            "\n",
            "epoch=   139/   200 | beta=1.000e+00 | loss=  207.8774635 | loss_reconstruction=  201.9009771 | loss_kl=    5.9764856\n",
            "\n",
            "epoch=   140/   200 | beta=1.000e+00 | loss=  207.6152824 | loss_reconstruction=  201.5718253 | loss_kl=    6.0434590\n",
            "\n",
            "epoch=   141/   200 | beta=1.000e+00 | loss=  207.6319122 | loss_reconstruction=  201.6241320 | loss_kl=    6.0077811\n",
            "\n",
            "epoch=   142/   200 | beta=1.000e+00 | loss=  207.5868119 | loss_reconstruction=  201.4835533 | loss_kl=    6.1032576\n",
            "\n",
            "epoch=   143/   200 | beta=1.000e+00 | loss=  207.4648965 | loss_reconstruction=  201.4758624 | loss_kl=    5.9890348\n",
            "\n",
            "epoch=   144/   200 | beta=1.000e+00 | loss=  207.4354486 | loss_reconstruction=  201.3782696 | loss_kl=    6.0571782\n",
            "\n",
            "epoch=   145/   200 | beta=1.000e+00 | loss=  207.2100283 | loss_reconstruction=  201.2227399 | loss_kl=    5.9872878\n",
            "\n",
            "epoch=   146/   200 | beta=1.000e+00 | loss=  207.1564180 | loss_reconstruction=  201.1224554 | loss_kl=    6.0339629\n",
            "\n",
            "epoch=   147/   200 | beta=1.000e+00 | loss=  207.1932847 | loss_reconstruction=  201.0576972 | loss_kl=    6.1355878\n",
            "\n",
            "epoch=   148/   200 | beta=1.000e+00 | loss=  207.1412663 | loss_reconstruction=  201.1406453 | loss_kl=    6.0006206\n",
            "\n",
            "epoch=   149/   200 | beta=1.000e+00 | loss=  207.0499061 | loss_reconstruction=  200.9545661 | loss_kl=    6.0953395\n",
            "\n",
            "epoch=   150/   200 | beta=1.000e+00 | loss=  206.9795564 | loss_reconstruction=  200.9050704 | loss_kl=    6.0744865\n",
            "\n",
            "epoch=   151/   200 | beta=1.000e+00 | loss=  206.9775257 | loss_reconstruction=  200.9240183 | loss_kl=    6.0535072\n",
            "\n",
            "epoch=   152/   200 | beta=1.000e+00 | loss=  206.9537805 | loss_reconstruction=  200.8460282 | loss_kl=    6.1077535\n",
            "\n",
            "epoch=   153/   200 | beta=1.000e+00 | loss=  206.8861760 | loss_reconstruction=  200.7999134 | loss_kl=    6.0862620\n",
            "\n",
            "epoch=   154/   200 | beta=1.000e+00 | loss=  206.8263342 | loss_reconstruction=  200.7549483 | loss_kl=    6.0713837\n",
            "\n",
            "epoch=   155/   200 | beta=1.000e+00 | loss=  207.0750100 | loss_reconstruction=  200.8336217 | loss_kl=    6.2413889\n",
            "\n",
            "epoch=   156/   200 | beta=1.000e+00 | loss=  206.8799772 | loss_reconstruction=  200.7387521 | loss_kl=    6.1412262\n",
            "\n",
            "epoch=   157/   200 | beta=1.000e+00 | loss=  206.7629000 | loss_reconstruction=  200.5993251 | loss_kl=    6.1635750\n",
            "\n",
            "epoch=   158/   200 | beta=1.000e+00 | loss=  206.7196484 | loss_reconstruction=  200.6395903 | loss_kl=    6.0800572\n",
            "\n",
            "epoch=   159/   200 | beta=1.000e+00 | loss=  206.6732132 | loss_reconstruction=  200.5492264 | loss_kl=    6.1239877\n",
            "\n",
            "epoch=   160/   200 | beta=1.000e+00 | loss=  206.6382874 | loss_reconstruction=  200.4979006 | loss_kl=    6.1403878\n",
            "\n",
            "epoch=   161/   200 | beta=1.000e+00 | loss=  206.6253845 | loss_reconstruction=  200.5254962 | loss_kl=    6.0998874\n",
            "\n",
            "epoch=   162/   200 | beta=1.000e+00 | loss=  206.5780557 | loss_reconstruction=  200.4462986 | loss_kl=    6.1317573\n",
            "\n",
            "epoch=   163/   200 | beta=1.000e+00 | loss=  206.5094368 | loss_reconstruction=  200.3920224 | loss_kl=    6.1174134\n",
            "\n",
            "epoch=   164/   200 | beta=1.000e+00 | loss=  206.4951242 | loss_reconstruction=  200.3573713 | loss_kl=    6.1377538\n",
            "\n",
            "epoch=   165/   200 | beta=1.000e+00 | loss=  206.5284683 | loss_reconstruction=  200.4032958 | loss_kl=    6.1251728\n",
            "\n",
            "epoch=   166/   200 | beta=1.000e+00 | loss=  206.4207958 | loss_reconstruction=  200.2949115 | loss_kl=    6.1258843\n",
            "\n",
            "epoch=   167/   200 | beta=1.000e+00 | loss=  206.4529592 | loss_reconstruction=  200.2546149 | loss_kl=    6.1983425\n",
            "\n",
            "epoch=   168/   200 | beta=1.000e+00 | loss=  206.4165438 | loss_reconstruction=  200.2885648 | loss_kl=    6.1279788\n",
            "\n",
            "epoch=   169/   200 | beta=1.000e+00 | loss=  206.4326572 | loss_reconstruction=  200.2904422 | loss_kl=    6.1422132\n",
            "\n",
            "epoch=   170/   200 | beta=1.000e+00 | loss=  206.3846571 | loss_reconstruction=  200.2428245 | loss_kl=    6.1418328\n",
            "\n",
            "epoch=   171/   200 | beta=1.000e+00 | loss=  206.3473698 | loss_reconstruction=  200.1712504 | loss_kl=    6.1761172\n",
            "\n",
            "epoch=   172/   200 | beta=1.000e+00 | loss=  206.3708469 | loss_reconstruction=  200.2201751 | loss_kl=    6.1506719\n",
            "\n",
            "epoch=   173/   200 | beta=1.000e+00 | loss=  206.3462013 | loss_reconstruction=  200.1804183 | loss_kl=    6.1657831\n",
            "\n",
            "epoch=   174/   200 | beta=1.000e+00 | loss=  206.2966423 | loss_reconstruction=  200.1316055 | loss_kl=    6.1650355\n",
            "\n",
            "epoch=   175/   200 | beta=1.000e+00 | loss=  206.2689676 | loss_reconstruction=  200.1117718 | loss_kl=    6.1571953\n",
            "\n",
            "epoch=   176/   200 | beta=1.000e+00 | loss=  206.3029552 | loss_reconstruction=  200.1232673 | loss_kl=    6.1796870\n",
            "\n",
            "epoch=   177/   200 | beta=1.000e+00 | loss=  206.2789538 | loss_reconstruction=  200.1570653 | loss_kl=    6.1218869\n",
            "\n",
            "epoch=   178/   200 | beta=1.000e+00 | loss=  206.2156870 | loss_reconstruction=  200.0574571 | loss_kl=    6.1582289\n",
            "\n",
            "epoch=   179/   200 | beta=1.000e+00 | loss=  206.2253415 | loss_reconstruction=  200.0237388 | loss_kl=    6.2016021\n",
            "\n",
            "epoch=   180/   200 | beta=1.000e+00 | loss=  206.2356620 | loss_reconstruction=  200.1115468 | loss_kl=    6.1241143\n",
            "\n",
            "epoch=   181/   200 | beta=1.000e+00 | loss=  206.2172003 | loss_reconstruction=  200.0118577 | loss_kl=    6.2053427\n",
            "\n",
            "epoch=   182/   200 | beta=1.000e+00 | loss=  206.2142193 | loss_reconstruction=  200.0571594 | loss_kl=    6.1570602\n",
            "\n",
            "epoch=   183/   200 | beta=1.000e+00 | loss=  206.2227559 | loss_reconstruction=  200.0390053 | loss_kl=    6.1837501\n",
            "\n",
            "epoch=   184/   200 | beta=1.000e+00 | loss=  206.2275807 | loss_reconstruction=  200.0698958 | loss_kl=    6.1576854\n",
            "\n",
            "epoch=   185/   200 | beta=1.000e+00 | loss=  206.2412095 | loss_reconstruction=  200.0882941 | loss_kl=    6.1529158\n",
            "\n",
            "epoch=   186/   200 | beta=1.000e+00 | loss=  206.2181288 | loss_reconstruction=  199.9669289 | loss_kl=    6.2511992\n",
            "\n",
            "epoch=   187/   200 | beta=1.000e+00 | loss=  206.1988211 | loss_reconstruction=  200.0349250 | loss_kl=    6.1638968\n",
            "\n",
            "epoch=   188/   200 | beta=1.000e+00 | loss=  206.1894522 | loss_reconstruction=  199.9988491 | loss_kl=    6.1906027\n",
            "\n",
            "epoch=   189/   200 | beta=1.000e+00 | loss=  206.1509155 | loss_reconstruction=  199.9397372 | loss_kl=    6.2111781\n",
            "\n",
            "epoch=   190/   200 | beta=1.000e+00 | loss=  206.2020140 | loss_reconstruction=  199.9692342 | loss_kl=    6.2327811\n",
            "\n",
            "epoch=   191/   200 | beta=1.000e+00 | loss=  206.1825975 | loss_reconstruction=  199.9987342 | loss_kl=    6.1838629\n",
            "\n",
            "epoch=   192/   200 | beta=1.000e+00 | loss=  206.1841955 | loss_reconstruction=  199.9996753 | loss_kl=    6.1845190\n",
            "\n",
            "epoch=   193/   200 | beta=1.000e+00 | loss=  206.1848629 | loss_reconstruction=  199.9536144 | loss_kl=    6.2312486\n",
            "\n",
            "epoch=   194/   200 | beta=1.000e+00 | loss=  206.1989826 | loss_reconstruction=  200.0374831 | loss_kl=    6.1615000\n",
            "\n",
            "epoch=   195/   200 | beta=1.000e+00 | loss=  206.1837125 | loss_reconstruction=  199.9676949 | loss_kl=    6.2160184\n",
            "\n",
            "epoch=   196/   200 | beta=1.000e+00 | loss=  206.1782403 | loss_reconstruction=  199.9615539 | loss_kl=    6.2166869\n",
            "\n",
            "epoch=   197/   200 | beta=1.000e+00 | loss=  206.2052310 | loss_reconstruction=  199.9992758 | loss_kl=    6.2059537\n",
            "\n",
            "epoch=   198/   200 | beta=1.000e+00 | loss=  206.1750636 | loss_reconstruction=  199.9918046 | loss_kl=    6.1832571\n",
            "\n",
            "epoch=   199/   200 | beta=1.000e+00 | loss=  206.1658576 | loss_reconstruction=  199.9479877 | loss_kl=    6.2178695\n",
            "\n",
            "epoch=   200/   200 | beta=1.000e+00 | loss=  206.2148771 | loss_reconstruction=  200.0349561 | loss_kl=    6.1799207\n",
            "\n"
          ]
        }
      ]
    },
    {
      "cell_type": "markdown",
      "source": [
        "## Subsetting regions to include SEATAC only, MACS2 only and NucleoATAC only to run PREDICT without running into OOM error"
      ],
      "metadata": {
        "id": "mvkrRdKn5krR"
      }
    },
    {
      "cell_type": "code",
      "source": [
        "gr_oct4 <- matchMotifs(homer_pwms[\"Oct4(POU,Homeobox)/mES-Oct4-ChIP-Seq(GSE11431)/Homer\"], res, genome = BSgenome.Mmusculus.UCSC.mm10, out = 'positions')[[1]] %>%\n",
        "  resize(width = ARGS[['block_size']], fix = 'center')"
      ],
      "metadata": {
        "id": "CFzcnN1aiaIs"
      },
      "execution_count": 98,
      "outputs": []
    },
    {
      "cell_type": "code",
      "source": [
        "res_sub <- subsetByOverlaps(res, gr_oct4)"
      ],
      "metadata": {
        "id": "p7iDtMZqotG6"
      },
      "execution_count": 99,
      "outputs": []
    },
    {
      "cell_type": "code",
      "source": [
        "x <- read_vplot(res_sub, filenames = local_bam_files, genome = BSgenome.Mmusculus.UCSC.mm10, bin_size = ARGS[['bin_size']], fragment_size_range = c(0, ARGS[['fragment_size_range_max']]), fragment_size_interval = ARGS[['fragment_size_interval']])"
      ],
      "metadata": {
        "id": "3TEtFyNl2ipz",
        "colab": {
          "base_uri": "https://localhost:8080/"
        },
        "outputId": "1078ff81-c8a3-4489-fa62-eb347a6dff8b"
      },
      "execution_count": 123,
      "outputs": [
        {
          "output_type": "stream",
          "name": "stderr",
          "text": [
            "read_bam | reading ./s3.msi.umn.edu/dsouz072/datasets/dataset=iPSC_reprogramming_version=20200208a/MEF.dedup.bam\n",
            "\n",
            "read_bam | reading ./s3.msi.umn.edu/dsouz072/datasets/dataset=iPSC_reprogramming_version=20200208a/OSK_D7.dedup.bam\n",
            "\n"
          ]
        }
      ]
    },
    {
      "cell_type": "markdown",
      "metadata": {
        "id": "h6lhLCtYfhqw"
      },
      "source": [
        "### Get the latent representations of the V-plots"
      ]
    },
    {
      "cell_type": "code",
      "metadata": {
        "id": "qnCyKD4iwpFG"
      },
      "source": [
        "#x <- models[['MEF']] %>% predict(x, batch_size = ARGS[['vae_batch_size']], vplots = TRUE)"
      ],
      "execution_count": 102,
      "outputs": []
    },
    {
      "cell_type": "markdown",
      "source": [
        "#Genes with increased nucleosome occupancy at D7 MEFs post OSK induction"
      ],
      "metadata": {
        "id": "Bra0NhVVdYuh"
      }
    },
    {
      "cell_type": "code",
      "source": [
        "anno <- annotatePeak(res_sub, tssRegion = c(-5000, 1000),TxDb = TxDb.Mmusculus.UCSC.mm10.knownGene,\n",
        "        annoDb = 'org.Mm.eg.db')"
      ],
      "metadata": {
        "id": "g-I6i-nxdA_P",
        "colab": {
          "base_uri": "https://localhost:8080/"
        },
        "outputId": "3d00ee23-6fca-4eeb-d793-15d799a2670c"
      },
      "execution_count": 69,
      "outputs": [
        {
          "output_type": "stream",
          "name": "stdout",
          "text": [
            ">> preparing features information...\t\t 2022-04-18 03:14:11 AM \n",
            ">> identifying nearest features...\t\t 2022-04-18 03:14:11 AM \n",
            ">> calculating distance from peak to TSS...\t 2022-04-18 03:14:13 AM \n",
            ">> assigning genomic annotation...\t\t 2022-04-18 03:14:13 AM \n",
            ">> adding gene annotation...\t\t\t 2022-04-18 03:14:16 AM \n"
          ]
        },
        {
          "output_type": "stream",
          "name": "stderr",
          "text": [
            "'select()' returned 1:many mapping between keys and columns\n",
            "\n"
          ]
        },
        {
          "output_type": "stream",
          "name": "stdout",
          "text": [
            ">> assigning chromosome lengths\t\t\t 2022-04-18 03:14:16 AM \n",
            ">> done...\t\t\t\t\t 2022-04-18 03:14:16 AM \n"
          ]
        }
      ]
    },
    {
      "cell_type": "code",
      "source": [
        "dat <- data.frame(anno)"
      ],
      "metadata": {
        "id": "sa4DbMJJfccF"
      },
      "execution_count": 70,
      "outputs": []
    },
    {
      "cell_type": "code",
      "source": [
        "anno_res <- GRanges(dat)"
      ],
      "metadata": {
        "id": "oiLQBEEsfgZ0"
      },
      "execution_count": 71,
      "outputs": []
    },
    {
      "cell_type": "markdown",
      "source": [
        "##Smad3 "
      ],
      "metadata": {
        "id": "_EdmJJpFlIAK"
      }
    },
    {
      "cell_type": "code",
      "source": [
        "anno_res[!is.na(anno_res$SYMBOL) & \n",
        "  anno_res$SYMBOL == 'Smad3' &\n",
        "  anno_res$padj < 0.05 &\n",
        "  anno_res$log_ratio > 0.1]"
      ],
      "metadata": {
        "colab": {
          "base_uri": "https://localhost:8080/",
          "height": 517
        },
        "id": "HPoPXNy2o7Yu",
        "outputId": "1ca88704-0d6e-4cd1-a8ea-ab9ecd420264"
      },
      "execution_count": 73,
      "outputs": [
        {
          "output_type": "display_data",
          "data": {
            "text/plain": [
              "GRanges object with 3 ranges and 17 metadata columns:\n",
              "      seqnames            ranges strand |    pvalue_z        padj\n",
              "         <Rle>         <IRanges>  <Rle> |   <numeric>   <numeric>\n",
              "  [1]     chr9 63726329-63726968      * | 8.26520e-08 2.18163e-02\n",
              "  [2]     chr9 63737217-63737856      * | 1.57478e-10 4.22644e-05\n",
              "  [3]     chr9 63741898-63742537      * | 4.04730e-11 1.08912e-05\n",
              "      nucleosome_treatment nucleosome_control log_ratio             annotation\n",
              "                 <numeric>          <numeric> <numeric>            <character>\n",
              "  [1]             0.528464           0.438243  0.187202 Intron (ENSMUST00000..\n",
              "  [2]             0.585049           0.467118  0.225115 Intron (ENSMUST00000..\n",
              "  [3]             0.701234           0.590714  0.171510       Promoter (<=1kb)\n",
              "        geneChr geneStart   geneEnd geneLength geneStrand      geneId\n",
              "      <integer> <integer> <integer>  <integer>  <integer> <character>\n",
              "  [1]         9  63654799  63711969      57171          2       17127\n",
              "  [2]         9  63667813  63743265      75453          2       17127\n",
              "  [3]         9  63667813  63743265      75453          2       17127\n",
              "              transcriptId distanceToTSS            ENSEMBL      SYMBOL\n",
              "               <character>     <numeric>        <character> <character>\n",
              "  [1] ENSMUST00000154323.7        -14360 ENSMUSG00000032402       Smad3\n",
              "  [2] ENSMUST00000137065.1          5409 ENSMUSG00000032402       Smad3\n",
              "  [3] ENSMUST00000137065.1           728 ENSMUSG00000032402       Smad3\n",
              "                  GENENAME\n",
              "               <character>\n",
              "  [1] SMAD family member 3\n",
              "  [2] SMAD family member 3\n",
              "  [3] SMAD family member 3\n",
              "  -------\n",
              "  seqinfo: 20 sequences from an unspecified genome; no seqlengths"
            ]
          },
          "metadata": {}
        }
      ]
    },
    {
      "cell_type": "code",
      "source": [
        "smad3 <- !is.na(anno_res$SYMBOL) & \n",
        "  anno_res$SYMBOL == 'Smad3' &\n",
        "  anno_res$padj < 0.05 &\n",
        "  anno_res$log_ratio > 0.1 &\n",
        "  abs(anno_res$nucleosome_control - 0.438243) < 0.001"
      ],
      "metadata": {
        "id": "sN6CYmaNlIAL"
      },
      "execution_count": 104,
      "outputs": []
    },
    {
      "cell_type": "code",
      "source": [
        "table(smad3)"
      ],
      "metadata": {
        "id": "Gcsqs_oalIAL",
        "colab": {
          "base_uri": "https://localhost:8080/",
          "height": 70
        },
        "outputId": "59d6c7d4-89b8-42b9-dde0-1904446a7cd5"
      },
      "execution_count": 76,
      "outputs": [
        {
          "output_type": "display_data",
          "data": {
            "text/plain": [
              "smad3\n",
              "FALSE  TRUE \n",
              "92598     1 "
            ]
          },
          "metadata": {}
        }
      ]
    },
    {
      "cell_type": "code",
      "source": [
        "x2 <- model %>% predict(x[smad3], batch_size = ARGS[['vae_batch_size']], vplots = TRUE)\n",
        "p1 <- vplot(x2, 'counts', ncol = 2L) +ggtitle('counts                                        Smad3') \n",
        "p2 <- vplot(x2, 'predicted_counts', ncol = 2L)"
      ],
      "metadata": {
        "id": "bmndUh8MlIAM"
      },
      "execution_count": 105,
      "outputs": []
    },
    {
      "cell_type": "code",
      "source": [
        "options(repr.plot.width = 8, repr.plot.height = 8)\n",
        "p1 / p2  + plot_annotation(tag_levels = 'A')"
      ],
      "metadata": {
        "id": "A3naAvQKlIAO",
        "colab": {
          "base_uri": "https://localhost:8080/",
          "height": 568
        },
        "outputId": "58ffc87f-3c98-4ee6-8100-e471ab0e101e"
      },
      "execution_count": 106,
      "outputs": [
        {
          "output_type": "stream",
          "name": "stderr",
          "text": [
            "Warning message:\n",
            "“Removed 64 rows containing missing values (geom_raster).”\n",
            "Warning message:\n",
            "“Removed 64 rows containing missing values (geom_raster).”\n"
          ]
        },
        {
          "output_type": "display_data",
          "data": {
            "text/plain": [
              "plot without title"
            ],
            "image/png": "[encoded data removed]"
          },
          "metadata": {
            "image/png": {
              "width": 480,
              "height": 480
            }
          }
        }
      ]
    },
    {
      "cell_type": "markdown",
      "source": [
        "##Maf "
      ],
      "metadata": {
        "id": "ndpfcx6cDWGp"
      }
    },
    {
      "cell_type": "code",
      "source": [
        "anno_res[!is.na(anno_res$SYMBOL) & \n",
        "  anno_res$SYMBOL == 'Maf' &\n",
        "  anno_res$padj < 0.05 &\n",
        "  anno_res$log_ratio > 0.1]"
      ],
      "metadata": {
        "id": "_NqHn0wUDWGq",
        "colab": {
          "base_uri": "https://localhost:8080/",
          "height": 428
        },
        "outputId": "36cfb237-c648-42b6-b712-b1015601806a"
      },
      "execution_count": 119,
      "outputs": [
        {
          "output_type": "display_data",
          "data": {
            "text/plain": [
              "GRanges object with 2 ranges and 17 metadata columns:\n",
              "      seqnames              ranges strand |    pvalue_z        padj\n",
              "         <Rle>           <IRanges>  <Rle> |   <numeric>   <numeric>\n",
              "  [1]     chr8 115706681-115707320      * | 4.98668e-12 1.34673e-06\n",
              "  [2]     chr8 116078807-116079446      * | 0.00000e+00 0.00000e+00\n",
              "      nucleosome_treatment nucleosome_control log_ratio        annotation\n",
              "                 <numeric>          <numeric> <numeric>       <character>\n",
              "  [1]             0.604194           0.484378  0.221030  Promoter (<=1kb)\n",
              "  [2]             0.505748           0.236393  0.760544 Distal Intergenic\n",
              "        geneChr geneStart   geneEnd geneLength geneStrand      geneId\n",
              "      <integer> <integer> <integer>  <integer>  <integer> <character>\n",
              "  [1]         8 115701435 115707794       6360          2       17132\n",
              "  [2]         8 115701435 115707794       6360          2       17132\n",
              "              transcriptId distanceToTSS            ENSEMBL      SYMBOL\n",
              "               <character>     <numeric>        <character> <character>\n",
              "  [1] ENSMUST00000109104.1           474 ENSMUSG00000055435         Maf\n",
              "  [2] ENSMUST00000109104.1       -371013 ENSMUSG00000055435         Maf\n",
              "                    GENENAME\n",
              "                 <character>\n",
              "  [1] avian musculoaponeur..\n",
              "  [2] avian musculoaponeur..\n",
              "  -------\n",
              "  seqinfo: 20 sequences from an unspecified genome; no seqlengths"
            ]
          },
          "metadata": {}
        }
      ]
    },
    {
      "cell_type": "code",
      "source": [
        "maf <- !is.na(anno_res$SYMBOL) & \n",
        "  anno_res$SYMBOL == 'Maf' &\n",
        "  anno_res$padj < 0.05 &\n",
        "  anno_res$log_ratio > 0.1 &\n",
        "  anno_res$annotation == 'Promoter (<=1kb)'"
      ],
      "metadata": {
        "id": "mh8ZCB-gDWGs"
      },
      "execution_count": 120,
      "outputs": []
    },
    {
      "cell_type": "code",
      "source": [
        "x2 <- model %>% predict(x[maf], batch_size = ARGS[['vae_batch_size']], vplots = TRUE)\n",
        "p1 <- vplot(x2, 'counts', ncol = 2L) +ggtitle('counts                                        Maf') \n",
        "p2 <- vplot(x2, 'predicted_counts', ncol = 2L)"
      ],
      "metadata": {
        "id": "hPmS2YHS0ppo"
      },
      "execution_count": null,
      "outputs": []
    },
    {
      "cell_type": "code",
      "source": [
        "options(repr.plot.width = 8, repr.plot.height = 8)\n",
        "p1 / p2  + plot_annotation(tag_levels = 'A')"
      ],
      "metadata": {
        "colab": {
          "base_uri": "https://localhost:8080/"
        },
        "outputId": "a79920e2-6730-40bb-fa66-0676b069f30e",
        "id": "EdE0_IA_0pps"
      },
      "execution_count": null,
      "outputs": [
        {
          "output_type": "stream",
          "name": "stderr",
          "text": [
            "Warning message:\n",
            "“Removed 64 rows containing missing values (geom_raster).”\n",
            "Warning message:\n",
            "“Removed 64 rows containing missing values (geom_raster).”\n"
          ]
        },
        {
          "output_type": "display_data",
          "data": {
            "text/plain": [
              "plot without title"
            ],
            "image/png": "[encoded data removed]"
          },
          "metadata": {
            "image/png": {
              "width": 480,
              "height": 480
            }
          }
        }
      ]
    },
    {
      "cell_type": "markdown",
      "metadata": {
        "id": "wjg4jMFjHz_P"
      },
      "source": [
        "## SessionInfo"
      ]
    },
    {
      "cell_type": "code",
      "metadata": {
        "id": "1O6H0QYdIBSN",
        "colab": {
          "base_uri": "https://localhost:8080/",
          "height": 1000
        },
        "outputId": "6978aa08-47ab-48c0-9d7e-d3dfb71dba12"
      },
      "source": [
        "sessionInfo()"
      ],
      "execution_count": 111,
      "outputs": [
        {
          "output_type": "display_data",
          "data": {
            "text/plain": [
              "R version 4.1.3 (2022-03-10)\n",
              "Platform: x86_64-pc-linux-gnu (64-bit)\n",
              "Running under: Ubuntu 18.04.5 LTS\n",
              "\n",
              "Matrix products: default\n",
              "BLAS:   /usr/lib/x86_64-linux-gnu/openblas/libblas.so.3\n",
              "LAPACK: /usr/lib/x86_64-linux-gnu/libopenblasp-r0.2.20.so\n",
              "\n",
              "locale:\n",
              " [1] LC_CTYPE=en_US.UTF-8       LC_NUMERIC=C              \n",
              " [3] LC_TIME=en_US.UTF-8        LC_COLLATE=en_US.UTF-8    \n",
              " [5] LC_MONETARY=en_US.UTF-8    LC_MESSAGES=en_US.UTF-8   \n",
              " [7] LC_PAPER=en_US.UTF-8       LC_NAME=C                 \n",
              " [9] LC_ADDRESS=C               LC_TELEPHONE=C            \n",
              "[11] LC_MEASUREMENT=en_US.UTF-8 LC_IDENTIFICATION=C       \n",
              "\n",
              "attached base packages:\n",
              "[1] grid      stats4    stats     graphics  grDevices utils     datasets \n",
              "[8] methods   base     \n",
              "\n",
              "other attached packages:\n",
              " [1] clusterProfiler_4.2.2                    \n",
              " [2] org.Mm.eg.db_3.14.0                      \n",
              " [3] TxDb.Mmusculus.UCSC.mm10.knownGene_3.10.0\n",
              " [4] GenomicFeatures_1.46.5                   \n",
              " [5] AnnotationDbi_1.56.2                     \n",
              " [6] ChIPseeker_1.31.4                        \n",
              " [7] patchwork_1.1.1                          \n",
              " [8] ggplot2_3.3.5                            \n",
              " [9] VennDiagram_1.7.3                        \n",
              "[10] futile.logger_1.4.3                      \n",
              "[11] igraph_1.3.0                             \n",
              "[12] chromVARmotifs_0.2.0                     \n",
              "[13] motifmatchr_1.16.0                       \n",
              "[14] dplyr_1.0.8                              \n",
              "[15] BSgenome.Mmusculus.UCSC.mm10_1.4.3       \n",
              "[16] BSgenome_1.62.0                          \n",
              "[17] rtracklayer_1.54.0                       \n",
              "[18] Biostrings_2.62.0                        \n",
              "[19] XVector_0.34.0                           \n",
              "[20] seatac_0.4.0-010                         \n",
              "[21] SummarizedExperiment_1.24.0              \n",
              "[22] Biobase_2.54.0                           \n",
              "[23] MatrixGenerics_1.6.0                     \n",
              "[24] matrixStats_0.61.0                       \n",
              "[25] GenomicRanges_1.46.1                     \n",
              "[26] GenomeInfoDb_1.30.1                      \n",
              "[27] IRanges_2.28.0                           \n",
              "[28] S4Vectors_0.32.4                         \n",
              "[29] BiocGenerics_0.40.0                      \n",
              "[30] tfdatasets_2.7.0                         \n",
              "[31] tfprobability_0.15.0                     \n",
              "[32] tensorflow_2.8.0                         \n",
              "[33] devtools_2.4.3                           \n",
              "[34] usethis_2.1.5                            \n",
              "\n",
              "loaded via a namespace (and not attached):\n",
              "  [1] utf8_1.2.2                             \n",
              "  [2] reticulate_1.24                        \n",
              "  [3] R.utils_2.11.0                         \n",
              "  [4] tidyselect_1.1.2                       \n",
              "  [5] poweRlaw_0.70.6                        \n",
              "  [6] RSQLite_2.2.12                         \n",
              "  [7] BiocParallel_1.28.3                    \n",
              "  [8] scatterpie_0.1.7                       \n",
              "  [9] munsell_0.5.0                          \n",
              " [10] pbdZMQ_0.3-7                           \n",
              " [11] withr_2.5.0                            \n",
              " [12] keras_2.8.0                            \n",
              " [13] colorspace_2.0-3                       \n",
              " [14] GOSemSim_2.20.0                        \n",
              " [15] filelock_1.0.2                         \n",
              " [16] uuid_1.0-4                             \n",
              " [17] DOSE_3.20.1                            \n",
              " [18] labeling_0.4.2                         \n",
              " [19] repr_1.1.4                             \n",
              " [20] GenomeInfoDbData_1.2.7                 \n",
              " [21] polyclip_1.10-0                        \n",
              " [22] bit64_4.0.5                            \n",
              " [23] farver_2.1.0                           \n",
              " [24] downloader_0.4                         \n",
              " [25] rprojroot_2.0.3                        \n",
              " [26] treeio_1.18.1                          \n",
              " [27] vctrs_0.4.0                            \n",
              " [28] generics_0.1.2                         \n",
              " [29] lambda.r_1.2.4                         \n",
              " [30] BiocFileCache_2.2.1                    \n",
              " [31] R6_2.5.1                               \n",
              " [32] graphlayouts_0.8.0                     \n",
              " [33] gridGraphics_0.5-1                     \n",
              " [34] bitops_1.0-7                           \n",
              " [35] cachem_1.0.6                           \n",
              " [36] fgsea_1.20.0                           \n",
              " [37] DelayedArray_0.20.0                    \n",
              " [38] assertthat_0.2.1                       \n",
              " [39] BiocIO_1.4.0                           \n",
              " [40] scales_1.2.0                           \n",
              " [41] ggraph_2.0.5                           \n",
              " [42] enrichplot_1.13.1.992                  \n",
              " [43] gtable_0.3.0                           \n",
              " [44] processx_3.5.3                         \n",
              " [45] tidygraph_1.2.1                        \n",
              " [46] seqLogo_1.60.0                         \n",
              " [47] rlang_1.0.2                            \n",
              " [48] zeallot_0.1.0                          \n",
              " [49] splines_4.1.3                          \n",
              " [50] lazyeval_0.2.2                         \n",
              " [51] BiocManager_1.30.16                    \n",
              " [52] yaml_2.3.5                             \n",
              " [53] reshape2_1.4.4                         \n",
              " [54] abind_1.4-5                            \n",
              " [55] backports_1.4.1                        \n",
              " [56] qvalue_2.26.0                          \n",
              " [57] tools_4.1.3                            \n",
              " [58] ggplotify_0.1.0                        \n",
              " [59] ellipsis_0.3.2                         \n",
              " [60] gplots_3.1.1                           \n",
              " [61] RColorBrewer_1.1-3                     \n",
              " [62] sessioninfo_1.2.2                      \n",
              " [63] Rcpp_1.0.8.3                           \n",
              " [64] plyr_1.8.7                             \n",
              " [65] base64enc_0.1-3                        \n",
              " [66] progress_1.2.2                         \n",
              " [67] zlibbioc_1.40.0                        \n",
              " [68] purrr_0.3.4                            \n",
              " [69] RCurl_1.98-1.6                         \n",
              " [70] ps_1.6.0                               \n",
              " [71] prettyunits_1.1.1                      \n",
              " [72] viridis_0.6.2                          \n",
              " [73] ggrepel_0.9.1                          \n",
              " [74] here_1.0.1                             \n",
              " [75] fs_1.5.2                               \n",
              " [76] magrittr_2.0.3                         \n",
              " [77] data.table_1.14.2                      \n",
              " [78] futile.options_1.0.1                   \n",
              " [79] DO.db_2.9                              \n",
              " [80] tfautograph_0.3.2                      \n",
              " [81] whisker_0.4                            \n",
              " [82] pkgload_1.2.4                          \n",
              " [83] hms_1.1.1                              \n",
              " [84] evaluate_0.15                          \n",
              " [85] xtable_1.8-4                           \n",
              " [86] XML_3.99-0.9                           \n",
              " [87] gridExtra_2.3                          \n",
              " [88] tfruns_1.5.0                           \n",
              " [89] testthat_3.1.3                         \n",
              " [90] compiler_4.1.3                         \n",
              " [91] biomaRt_2.50.3                         \n",
              " [92] tibble_3.1.6                           \n",
              " [93] shadowtext_0.1.1                       \n",
              " [94] KernSmooth_2.23-20                     \n",
              " [95] crayon_1.5.1                           \n",
              " [96] R.oo_1.24.0                            \n",
              " [97] htmltools_0.5.2                        \n",
              " [98] ggfun_0.0.6                            \n",
              " [99] tzdb_0.3.0                             \n",
              "[100] TFBSTools_1.32.0                       \n",
              "[101] aplot_0.1.3                            \n",
              "[102] tidyr_1.2.0                            \n",
              "[103] DBI_1.1.2                              \n",
              "[104] tweenr_1.0.2                           \n",
              "[105] formatR_1.12                           \n",
              "[106] dbplyr_2.1.1                           \n",
              "[107] MASS_7.3-56                            \n",
              "[108] rappdirs_0.3.3                         \n",
              "[109] boot_1.3-28                            \n",
              "[110] Matrix_1.4-1                           \n",
              "[111] readr_2.1.2                            \n",
              "[112] brio_1.1.3                             \n",
              "[113] cli_3.2.0                              \n",
              "[114] R.methodsS3_1.8.1                      \n",
              "[115] parallel_4.1.3                         \n",
              "[116] pkgconfig_2.0.3                        \n",
              "[117] TxDb.Hsapiens.UCSC.hg19.knownGene_3.2.2\n",
              "[118] GenomicAlignments_1.30.0               \n",
              "[119] TFMPvalue_0.0.8                        \n",
              "[120] IRdisplay_1.1                          \n",
              "[121] xml2_1.3.3                             \n",
              "[122] ggtree_3.2.1                           \n",
              "[123] annotate_1.72.0                        \n",
              "[124] DirichletMultinomial_1.36.0            \n",
              "[125] yulab.utils_0.0.4                      \n",
              "[126] stringr_1.4.0                          \n",
              "[127] callr_3.7.0                            \n",
              "[128] digest_0.6.29                          \n",
              "[129] pracma_2.3.8                           \n",
              "[130] CNEr_1.30.0                            \n",
              "[131] fastmatch_1.1-3                        \n",
              "[132] tidytree_0.3.9                         \n",
              "[133] restfulr_0.0.13                        \n",
              "[134] curl_4.3.2                             \n",
              "[135] Rsamtools_2.10.0                       \n",
              "[136] gtools_3.9.2                           \n",
              "[137] rjson_0.2.21                           \n",
              "[138] nlme_3.1-157                           \n",
              "[139] lifecycle_1.0.1                        \n",
              "[140] jsonlite_1.8.0                         \n",
              "[141] desc_1.4.1                             \n",
              "[142] viridisLite_0.4.0                      \n",
              "[143] fansi_1.0.3                            \n",
              "[144] pillar_1.7.0                           \n",
              "[145] lattice_0.20-45                        \n",
              "[146] plotrix_3.8-2                          \n",
              "[147] KEGGREST_1.34.0                        \n",
              "[148] fastmap_1.1.0                          \n",
              "[149] httr_1.4.2                             \n",
              "[150] pkgbuild_1.3.1                         \n",
              "[151] GO.db_3.14.0                           \n",
              "[152] glue_1.6.2                             \n",
              "[153] remotes_2.4.2                          \n",
              "[154] png_0.1-7                              \n",
              "[155] bit_4.0.4                              \n",
              "[156] ggforce_0.3.3                          \n",
              "[157] stringi_1.7.6                          \n",
              "[158] blob_1.2.3                             \n",
              "[159] caTools_1.18.2                         \n",
              "[160] memoise_2.0.1                          \n",
              "[161] IRkernel_1.3                           \n",
              "[162] ape_5.6-2                              "
            ]
          },
          "metadata": {}
        }
      ]
    },
    {
      "cell_type": "code",
      "metadata": {
        "id": "-4pQeVrGHxXr",
        "colab": {
          "base_uri": "https://localhost:8080/",
          "height": 35
        },
        "outputId": "5d1b0b23-fdaf-4afa-ab15-e9b56aa8db7d"
      },
      "source": [
        "Sys.time() - start_time"
      ],
      "execution_count": 112,
      "outputs": [
        {
          "output_type": "display_data",
          "data": {
            "text/plain": [
              "Time difference of 1.927175 hours"
            ]
          },
          "metadata": {}
        }
      ]
    }
  ]
}
