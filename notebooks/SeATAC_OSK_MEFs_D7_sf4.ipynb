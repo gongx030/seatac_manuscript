{
  "nbformat": 4,
  "nbformat_minor": 0,
  "metadata": {
    "kernelspec": {
      "display_name": "R",
      "language": "R",
      "name": "ir"
    },
    "language_info": {
      "codemirror_mode": "r",
      "file_extension": ".r",
      "mimetype": "text/x-r-source",
      "name": "R",
      "pygments_lexer": "r",
      "version": "3.3.1"
    },
    "colab": {
      "name": "SeATAC_OSK_MEFs_D7_sf4.ipynb",
      "provenance": [],
      "collapsed_sections": [],
      "machine_shape": "hm",
      "background_execution": "on",
      "toc_visible": true,
      "include_colab_link": true
    },
    "accelerator": "GPU"
  },
  "cells": [
    {
      "cell_type": "markdown",
      "metadata": {
        "id": "view-in-github",
        "colab_type": "text"
      },
      "source": [
        "<a href=\"https://colab.research.google.com/github/gongx030/seatac_manuscript/blob/main/SeATAC_OSK_MEFs_D7_sf4.ipynb\" target=\"_parent\"><img src=\"https://colab.research.google.com/assets/colab-badge.svg\" alt=\"Open In Colab\"/></a>"
      ]
    },
    {
      "cell_type": "markdown",
      "metadata": {
        "id": "M0jDe-m_5aq4"
      },
      "source": [
        "# Compare MACS2 and SeATAC for detecting differential V-plots of ATAC-seq data between MEFs and MEFs at day7 post OSK induction "
      ]
    },
    {
      "cell_type": "markdown",
      "source": [
        "This task runs on SeATAC `v0.4.0`"
      ],
      "metadata": {
        "id": "oi1drasoVjW4"
      }
    },
    {
      "cell_type": "code",
      "metadata": {
        "id": "Bxscnozs5KGa"
      },
      "source": [
        "start_time <- Sys.time()"
      ],
      "execution_count": 1,
      "outputs": []
    },
    {
      "cell_type": "markdown",
      "metadata": {
        "id": "5F6LOGY65KGb"
      },
      "source": [
        "### Install external packages"
      ]
    },
    {
      "cell_type": "code",
      "metadata": {
        "colab": {
          "base_uri": "https://localhost:8080/",
          "height": 191
        },
        "outputId": "551482ac-029a-42b4-8b85-8846a50be1bb",
        "id": "ClEcy3ij5KGd"
      },
      "source": [
        "system('apt-get -q install libgsl-dev', intern = TRUE)"
      ],
      "execution_count": 2,
      "outputs": [
        {
          "output_type": "display_data",
          "data": {
            "text/html": [
              "<style>\n",
              ".list-inline {list-style: none; margin:0; padding: 0}\n",
              ".list-inline>li {display: inline-block}\n",
              ".list-inline>li:not(:last-child)::after {content: \"\\00b7\"; padding: 0 .5ex}\n",
              "</style>\n",
              "<ol class=list-inline><li>'Reading package lists...'</li><li>'Building dependency tree...'</li><li>'Reading state information...'</li><li>'The following additional packages will be installed:'</li><li><span style=white-space:pre-wrap>'  libgsl23 libgslcblas0'</span></li><li>'Suggested packages:'</li><li><span style=white-space:pre-wrap>'  gsl-ref-psdoc | gsl-doc-pdf | gsl-doc-info | gsl-ref-html'</span></li><li>'The following NEW packages will be installed:'</li><li><span style=white-space:pre-wrap>'  libgsl-dev libgsl23 libgslcblas0'</span></li><li>'0 upgraded, 3 newly installed, 0 to remove and 39 not upgraded.'</li><li>'Need to get 1,926 kB of archives.'</li><li>'After this operation, 9,474 kB of additional disk space will be used.'</li><li>'Get:1 http://archive.ubuntu.com/ubuntu bionic/universe amd64 libgslcblas0 amd64 2.4+dfsg-6 [79.7 kB]'</li><li>'Get:2 http://archive.ubuntu.com/ubuntu bionic/universe amd64 libgsl23 amd64 2.4+dfsg-6 [823 kB]'</li><li>'Get:3 http://archive.ubuntu.com/ubuntu bionic/universe amd64 libgsl-dev amd64 2.4+dfsg-6 [1,023 kB]'</li><li>'Fetched 1,926 kB in 1s (2,120 kB/s)'</li><li>'Selecting previously unselected package libgslcblas0:amd64.\\r'</li><li>'(Reading database ... \\r(Reading database ... 5%\\r(Reading database ... 10%\\r(Reading database ... 15%\\r(Reading database ... 20%\\r(Reading database ... 25%\\r(Reading database ... 30%\\r(Reading database ... 35%\\r(Reading database ... 40%\\r(Reading database ... 45%\\r(Reading database ... 50%\\r(Reading database ... 55%\\r(Reading database ... 60%\\r(Reading database ... 65%\\r(Reading database ... 70%\\r(Reading database ... 75%\\r(Reading database ... 80%\\r(Reading database ... 85%\\r(Reading database ... 90%\\r(Reading database ... 95%\\r(Reading database ... 100%\\r(Reading database ... 155455 files and directories currently installed.)\\r'</li><li>'Preparing to unpack .../libgslcblas0_2.4+dfsg-6_amd64.deb ...\\r'</li><li>'Unpacking libgslcblas0:amd64 (2.4+dfsg-6) ...\\r'</li><li>'Selecting previously unselected package libgsl23:amd64.\\r'</li><li>'Preparing to unpack .../libgsl23_2.4+dfsg-6_amd64.deb ...\\r'</li><li>'Unpacking libgsl23:amd64 (2.4+dfsg-6) ...\\r'</li><li>'Selecting previously unselected package libgsl-dev.\\r'</li><li>'Preparing to unpack .../libgsl-dev_2.4+dfsg-6_amd64.deb ...\\r'</li><li>'Unpacking libgsl-dev (2.4+dfsg-6) ...\\r'</li><li>'Setting up libgslcblas0:amd64 (2.4+dfsg-6) ...\\r'</li><li>'Setting up libgsl23:amd64 (2.4+dfsg-6) ...\\r'</li><li>'Setting up libgsl-dev (2.4+dfsg-6) ...\\r'</li><li>'Processing triggers for man-db (2.8.3-2ubuntu0.1) ...\\r'</li><li>'Processing triggers for libc-bin (2.27-3ubuntu1.3) ...\\r'</li><li>'/sbin/ldconfig.real: /usr/local/lib/python3.7/dist-packages/ideep4py/lib/libmkldnn.so.0 is not a symbolic link\\r'</li><li>'\\r'</li></ol>\n"
            ],
            "text/markdown": "1. 'Reading package lists...'\n2. 'Building dependency tree...'\n3. 'Reading state information...'\n4. 'The following additional packages will be installed:'\n5. <span style=white-space:pre-wrap>'  libgsl23 libgslcblas0'</span>\n6. 'Suggested packages:'\n7. <span style=white-space:pre-wrap>'  gsl-ref-psdoc | gsl-doc-pdf | gsl-doc-info | gsl-ref-html'</span>\n8. 'The following NEW packages will be installed:'\n9. <span style=white-space:pre-wrap>'  libgsl-dev libgsl23 libgslcblas0'</span>\n10. '0 upgraded, 3 newly installed, 0 to remove and 39 not upgraded.'\n11. 'Need to get 1,926 kB of archives.'\n12. 'After this operation, 9,474 kB of additional disk space will be used.'\n13. 'Get:1 http://archive.ubuntu.com/ubuntu bionic/universe amd64 libgslcblas0 amd64 2.4+dfsg-6 [79.7 kB]'\n14. 'Get:2 http://archive.ubuntu.com/ubuntu bionic/universe amd64 libgsl23 amd64 2.4+dfsg-6 [823 kB]'\n15. 'Get:3 http://archive.ubuntu.com/ubuntu bionic/universe amd64 libgsl-dev amd64 2.4+dfsg-6 [1,023 kB]'\n16. 'Fetched 1,926 kB in 1s (2,120 kB/s)'\n17. 'Selecting previously unselected package libgslcblas0:amd64.\\r'\n18. '(Reading database ... \\r(Reading database ... 5%\\r(Reading database ... 10%\\r(Reading database ... 15%\\r(Reading database ... 20%\\r(Reading database ... 25%\\r(Reading database ... 30%\\r(Reading database ... 35%\\r(Reading database ... 40%\\r(Reading database ... 45%\\r(Reading database ... 50%\\r(Reading database ... 55%\\r(Reading database ... 60%\\r(Reading database ... 65%\\r(Reading database ... 70%\\r(Reading database ... 75%\\r(Reading database ... 80%\\r(Reading database ... 85%\\r(Reading database ... 90%\\r(Reading database ... 95%\\r(Reading database ... 100%\\r(Reading database ... 155455 files and directories currently installed.)\\r'\n19. 'Preparing to unpack .../libgslcblas0_2.4+dfsg-6_amd64.deb ...\\r'\n20. 'Unpacking libgslcblas0:amd64 (2.4+dfsg-6) ...\\r'\n21. 'Selecting previously unselected package libgsl23:amd64.\\r'\n22. 'Preparing to unpack .../libgsl23_2.4+dfsg-6_amd64.deb ...\\r'\n23. 'Unpacking libgsl23:amd64 (2.4+dfsg-6) ...\\r'\n24. 'Selecting previously unselected package libgsl-dev.\\r'\n25. 'Preparing to unpack .../libgsl-dev_2.4+dfsg-6_amd64.deb ...\\r'\n26. 'Unpacking libgsl-dev (2.4+dfsg-6) ...\\r'\n27. 'Setting up libgslcblas0:amd64 (2.4+dfsg-6) ...\\r'\n28. 'Setting up libgsl23:amd64 (2.4+dfsg-6) ...\\r'\n29. 'Setting up libgsl-dev (2.4+dfsg-6) ...\\r'\n30. 'Processing triggers for man-db (2.8.3-2ubuntu0.1) ...\\r'\n31. 'Processing triggers for libc-bin (2.27-3ubuntu1.3) ...\\r'\n32. '/sbin/ldconfig.real: /usr/local/lib/python3.7/dist-packages/ideep4py/lib/libmkldnn.so.0 is not a symbolic link\\r'\n33. '\\r'\n\n\n",
            "text/latex": "\\begin{enumerate*}\n\\item 'Reading package lists...'\n\\item 'Building dependency tree...'\n\\item 'Reading state information...'\n\\item 'The following additional packages will be installed:'\n\\item '  libgsl23 libgslcblas0'\n\\item 'Suggested packages:'\n\\item '  gsl-ref-psdoc \\textbar{} gsl-doc-pdf \\textbar{} gsl-doc-info \\textbar{} gsl-ref-html'\n\\item 'The following NEW packages will be installed:'\n\\item '  libgsl-dev libgsl23 libgslcblas0'\n\\item '0 upgraded, 3 newly installed, 0 to remove and 39 not upgraded.'\n\\item 'Need to get 1,926 kB of archives.'\n\\item 'After this operation, 9,474 kB of additional disk space will be used.'\n\\item 'Get:1 http://archive.ubuntu.com/ubuntu bionic/universe amd64 libgslcblas0 amd64 2.4+dfsg-6 {[}79.7 kB{]}'\n\\item 'Get:2 http://archive.ubuntu.com/ubuntu bionic/universe amd64 libgsl23 amd64 2.4+dfsg-6 {[}823 kB{]}'\n\\item 'Get:3 http://archive.ubuntu.com/ubuntu bionic/universe amd64 libgsl-dev amd64 2.4+dfsg-6 {[}1,023 kB{]}'\n\\item 'Fetched 1,926 kB in 1s (2,120 kB/s)'\n\\item 'Selecting previously unselected package libgslcblas0:amd64.\\textbackslash{}r'\n\\item '(Reading database ... \\textbackslash{}r(Reading database ... 5\\%\\textbackslash{}r(Reading database ... 10\\%\\textbackslash{}r(Reading database ... 15\\%\\textbackslash{}r(Reading database ... 20\\%\\textbackslash{}r(Reading database ... 25\\%\\textbackslash{}r(Reading database ... 30\\%\\textbackslash{}r(Reading database ... 35\\%\\textbackslash{}r(Reading database ... 40\\%\\textbackslash{}r(Reading database ... 45\\%\\textbackslash{}r(Reading database ... 50\\%\\textbackslash{}r(Reading database ... 55\\%\\textbackslash{}r(Reading database ... 60\\%\\textbackslash{}r(Reading database ... 65\\%\\textbackslash{}r(Reading database ... 70\\%\\textbackslash{}r(Reading database ... 75\\%\\textbackslash{}r(Reading database ... 80\\%\\textbackslash{}r(Reading database ... 85\\%\\textbackslash{}r(Reading database ... 90\\%\\textbackslash{}r(Reading database ... 95\\%\\textbackslash{}r(Reading database ... 100\\%\\textbackslash{}r(Reading database ... 155455 files and directories currently installed.)\\textbackslash{}r'\n\\item 'Preparing to unpack .../libgslcblas0\\_2.4+dfsg-6\\_amd64.deb ...\\textbackslash{}r'\n\\item 'Unpacking libgslcblas0:amd64 (2.4+dfsg-6) ...\\textbackslash{}r'\n\\item 'Selecting previously unselected package libgsl23:amd64.\\textbackslash{}r'\n\\item 'Preparing to unpack .../libgsl23\\_2.4+dfsg-6\\_amd64.deb ...\\textbackslash{}r'\n\\item 'Unpacking libgsl23:amd64 (2.4+dfsg-6) ...\\textbackslash{}r'\n\\item 'Selecting previously unselected package libgsl-dev.\\textbackslash{}r'\n\\item 'Preparing to unpack .../libgsl-dev\\_2.4+dfsg-6\\_amd64.deb ...\\textbackslash{}r'\n\\item 'Unpacking libgsl-dev (2.4+dfsg-6) ...\\textbackslash{}r'\n\\item 'Setting up libgslcblas0:amd64 (2.4+dfsg-6) ...\\textbackslash{}r'\n\\item 'Setting up libgsl23:amd64 (2.4+dfsg-6) ...\\textbackslash{}r'\n\\item 'Setting up libgsl-dev (2.4+dfsg-6) ...\\textbackslash{}r'\n\\item 'Processing triggers for man-db (2.8.3-2ubuntu0.1) ...\\textbackslash{}r'\n\\item 'Processing triggers for libc-bin (2.27-3ubuntu1.3) ...\\textbackslash{}r'\n\\item '/sbin/ldconfig.real: /usr/local/lib/python3.7/dist-packages/ideep4py/lib/libmkldnn.so.0 is not a symbolic link\\textbackslash{}r'\n\\item '\\textbackslash{}r'\n\\end{enumerate*}\n",
            "text/plain": [
              " [1] \"Reading package lists...\"                                                                                                                                                                                                                                                                                                                                                                                                                                                                                                                                                                                                                                      \n",
              " [2] \"Building dependency tree...\"                                                                                                                                                                                                                                                                                                                                                                                                                                                                                                                                                                                                                                   \n",
              " [3] \"Reading state information...\"                                                                                                                                                                                                                                                                                                                                                                                                                                                                                                                                                                                                                                  \n",
              " [4] \"The following additional packages will be installed:\"                                                                                                                                                                                                                                                                                                                                                                                                                                                                                                                                                                                                          \n",
              " [5] \"  libgsl23 libgslcblas0\"                                                                                                                                                                                                                                                                                                                                                                                                                                                                                                                                                                                                                                       \n",
              " [6] \"Suggested packages:\"                                                                                                                                                                                                                                                                                                                                                                                                                                                                                                                                                                                                                                           \n",
              " [7] \"  gsl-ref-psdoc | gsl-doc-pdf | gsl-doc-info | gsl-ref-html\"                                                                                                                                                                                                                                                                                                                                                                                                                                                                                                                                                                                                   \n",
              " [8] \"The following NEW packages will be installed:\"                                                                                                                                                                                                                                                                                                                                                                                                                                                                                                                                                                                                                 \n",
              " [9] \"  libgsl-dev libgsl23 libgslcblas0\"                                                                                                                                                                                                                                                                                                                                                                                                                                                                                                                                                                                                                            \n",
              "[10] \"0 upgraded, 3 newly installed, 0 to remove and 39 not upgraded.\"                                                                                                                                                                                                                                                                                                                                                                                                                                                                                                                                                                                               \n",
              "[11] \"Need to get 1,926 kB of archives.\"                                                                                                                                                                                                                                                                                                                                                                                                                                                                                                                                                                                                                             \n",
              "[12] \"After this operation, 9,474 kB of additional disk space will be used.\"                                                                                                                                                                                                                                                                                                                                                                                                                                                                                                                                                                                         \n",
              "[13] \"Get:1 http://archive.ubuntu.com/ubuntu bionic/universe amd64 libgslcblas0 amd64 2.4+dfsg-6 [79.7 kB]\"                                                                                                                                                                                                                                                                                                                                                                                                                                                                                                                                                          \n",
              "[14] \"Get:2 http://archive.ubuntu.com/ubuntu bionic/universe amd64 libgsl23 amd64 2.4+dfsg-6 [823 kB]\"                                                                                                                                                                                                                                                                                                                                                                                                                                                                                                                                                               \n",
              "[15] \"Get:3 http://archive.ubuntu.com/ubuntu bionic/universe amd64 libgsl-dev amd64 2.4+dfsg-6 [1,023 kB]\"                                                                                                                                                                                                                                                                                                                                                                                                                                                                                                                                                           \n",
              "[16] \"Fetched 1,926 kB in 1s (2,120 kB/s)\"                                                                                                                                                                                                                                                                                                                                                                                                                                                                                                                                                                                                                           \n",
              "[17] \"Selecting previously unselected package libgslcblas0:amd64.\\r\"                                                                                                                                                                                                                                                                                                                                                                                                                                                                                                                                                                                                 \n",
              "[18] \"(Reading database ... \\r(Reading database ... 5%\\r(Reading database ... 10%\\r(Reading database ... 15%\\r(Reading database ... 20%\\r(Reading database ... 25%\\r(Reading database ... 30%\\r(Reading database ... 35%\\r(Reading database ... 40%\\r(Reading database ... 45%\\r(Reading database ... 50%\\r(Reading database ... 55%\\r(Reading database ... 60%\\r(Reading database ... 65%\\r(Reading database ... 70%\\r(Reading database ... 75%\\r(Reading database ... 80%\\r(Reading database ... 85%\\r(Reading database ... 90%\\r(Reading database ... 95%\\r(Reading database ... 100%\\r(Reading database ... 155455 files and directories currently installed.)\\r\"\n",
              "[19] \"Preparing to unpack .../libgslcblas0_2.4+dfsg-6_amd64.deb ...\\r\"                                                                                                                                                                                                                                                                                                                                                                                                                                                                                                                                                                                               \n",
              "[20] \"Unpacking libgslcblas0:amd64 (2.4+dfsg-6) ...\\r\"                                                                                                                                                                                                                                                                                                                                                                                                                                                                                                                                                                                                               \n",
              "[21] \"Selecting previously unselected package libgsl23:amd64.\\r\"                                                                                                                                                                                                                                                                                                                                                                                                                                                                                                                                                                                                     \n",
              "[22] \"Preparing to unpack .../libgsl23_2.4+dfsg-6_amd64.deb ...\\r\"                                                                                                                                                                                                                                                                                                                                                                                                                                                                                                                                                                                                   \n",
              "[23] \"Unpacking libgsl23:amd64 (2.4+dfsg-6) ...\\r\"                                                                                                                                                                                                                                                                                                                                                                                                                                                                                                                                                                                                                   \n",
              "[24] \"Selecting previously unselected package libgsl-dev.\\r\"                                                                                                                                                                                                                                                                                                                                                                                                                                                                                                                                                                                                         \n",
              "[25] \"Preparing to unpack .../libgsl-dev_2.4+dfsg-6_amd64.deb ...\\r\"                                                                                                                                                                                                                                                                                                                                                                                                                                                                                                                                                                                                 \n",
              "[26] \"Unpacking libgsl-dev (2.4+dfsg-6) ...\\r\"                                                                                                                                                                                                                                                                                                                                                                                                                                                                                                                                                                                                                       \n",
              "[27] \"Setting up libgslcblas0:amd64 (2.4+dfsg-6) ...\\r\"                                                                                                                                                                                                                                                                                                                                                                                                                                                                                                                                                                                                              \n",
              "[28] \"Setting up libgsl23:amd64 (2.4+dfsg-6) ...\\r\"                                                                                                                                                                                                                                                                                                                                                                                                                                                                                                                                                                                                                  \n",
              "[29] \"Setting up libgsl-dev (2.4+dfsg-6) ...\\r\"                                                                                                                                                                                                                                                                                                                                                                                                                                                                                                                                                                                                                      \n",
              "[30] \"Processing triggers for man-db (2.8.3-2ubuntu0.1) ...\\r\"                                                                                                                                                                                                                                                                                                                                                                                                                                                                                                                                                                                                       \n",
              "[31] \"Processing triggers for libc-bin (2.27-3ubuntu1.3) ...\\r\"                                                                                                                                                                                                                                                                                                                                                                                                                                                                                                                                                                                                      \n",
              "[32] \"/sbin/ldconfig.real: /usr/local/lib/python3.7/dist-packages/ideep4py/lib/libmkldnn.so.0 is not a symbolic link\\r\"                                                                                                                                                                                                                                                                                                                                                                                                                                                                                                                                              \n",
              "[33] \"\\r\"                                                                                                                                                                                                                                                                                                                                                                                                                                                                                                                                                                                                                                                            "
            ]
          },
          "metadata": {}
        }
      ]
    },
    {
      "cell_type": "code",
      "metadata": {
        "colab": {
          "base_uri": "https://localhost:8080/",
          "height": 243
        },
        "outputId": "f0bc4236-876f-4642-854d-ef1c0f4689db",
        "id": "BvVRz1nn5KGe"
      },
      "source": [
        "system('apt-get install libcairo2-dev', intern = TRUE) # for Cairo package that is required by ComplexHeatmap package"
      ],
      "execution_count": 3,
      "outputs": [
        {
          "output_type": "display_data",
          "data": {
            "text/html": [
              "<style>\n",
              ".list-inline {list-style: none; margin:0; padding: 0}\n",
              ".list-inline>li {display: inline-block}\n",
              ".list-inline>li:not(:last-child)::after {content: \"\\00b7\"; padding: 0 .5ex}\n",
              "</style>\n",
              "<ol class=list-inline><li>'Reading package lists...'</li><li>'Building dependency tree...'</li><li>'Reading state information...'</li><li>'The following additional packages will be installed:'</li><li><span style=white-space:pre-wrap>'  libcairo-script-interpreter2 libpixman-1-dev libxcb-shm0-dev'</span></li><li>'Suggested packages:'</li><li><span style=white-space:pre-wrap>'  libcairo2-doc'</span></li><li>'The following NEW packages will be installed:'</li><li><span style=white-space:pre-wrap>'  libcairo-script-interpreter2 libcairo2-dev libpixman-1-dev libxcb-shm0-dev'</span></li><li>'0 upgraded, 4 newly installed, 0 to remove and 39 not upgraded.'</li><li>'Need to get 930 kB of archives.'</li><li>'After this operation, 3,986 kB of additional disk space will be used.'</li><li>'Get:1 http://archive.ubuntu.com/ubuntu bionic-updates/main amd64 libcairo-script-interpreter2 amd64 1.15.10-2ubuntu0.1 [53.5 kB]'</li><li>'Get:2 http://archive.ubuntu.com/ubuntu bionic/main amd64 libpixman-1-dev amd64 0.34.0-2 [244 kB]'</li><li>'Get:3 http://archive.ubuntu.com/ubuntu bionic-updates/main amd64 libxcb-shm0-dev amd64 1.13-2~ubuntu18.04 [6,684 B]'</li><li>'Get:4 http://archive.ubuntu.com/ubuntu bionic-updates/main amd64 libcairo2-dev amd64 1.15.10-2ubuntu0.1 [626 kB]'</li><li>'Fetched 930 kB in 1s (1,207 kB/s)'</li><li>'Selecting previously unselected package libcairo-script-interpreter2:amd64.\\r'</li><li>'(Reading database ... \\r(Reading database ... 5%\\r(Reading database ... 10%\\r(Reading database ... 15%\\r(Reading database ... 20%\\r(Reading database ... 25%\\r(Reading database ... 30%\\r(Reading database ... 35%\\r(Reading database ... 40%\\r(Reading database ... 45%\\r(Reading database ... 50%\\r(Reading database ... 55%\\r(Reading database ... 60%\\r(Reading database ... 65%\\r(Reading database ... 70%\\r(Reading database ... 75%\\r(Reading database ... 80%\\r(Reading database ... 85%\\r(Reading database ... 90%\\r(Reading database ... 95%\\r(Reading database ... 100%\\r(Reading database ... 155727 files and directories currently installed.)\\r'</li><li>'Preparing to unpack .../libcairo-script-interpreter2_1.15.10-2ubuntu0.1_amd64.deb ...\\r'</li><li>'Unpacking libcairo-script-interpreter2:amd64 (1.15.10-2ubuntu0.1) ...\\r'</li><li>'Selecting previously unselected package libpixman-1-dev:amd64.\\r'</li><li>'Preparing to unpack .../libpixman-1-dev_0.34.0-2_amd64.deb ...\\r'</li><li>'Unpacking libpixman-1-dev:amd64 (0.34.0-2) ...\\r'</li><li>'Selecting previously unselected package libxcb-shm0-dev:amd64.\\r'</li><li>'Preparing to unpack .../libxcb-shm0-dev_1.13-2~ubuntu18.04_amd64.deb ...\\r'</li><li>'Unpacking libxcb-shm0-dev:amd64 (1.13-2~ubuntu18.04) ...\\r'</li><li>'Selecting previously unselected package libcairo2-dev:amd64.\\r'</li><li>'Preparing to unpack .../libcairo2-dev_1.15.10-2ubuntu0.1_amd64.deb ...\\r'</li><li>'Unpacking libcairo2-dev:amd64 (1.15.10-2ubuntu0.1) ...\\r'</li><li>'Setting up libcairo-script-interpreter2:amd64 (1.15.10-2ubuntu0.1) ...\\r'</li><li>'Setting up libxcb-shm0-dev:amd64 (1.13-2~ubuntu18.04) ...\\r'</li><li>'Setting up libpixman-1-dev:amd64 (0.34.0-2) ...\\r'</li><li>'Setting up libcairo2-dev:amd64 (1.15.10-2ubuntu0.1) ...\\r'</li><li>'Processing triggers for libc-bin (2.27-3ubuntu1.3) ...\\r'</li><li>'/sbin/ldconfig.real: /usr/local/lib/python3.7/dist-packages/ideep4py/lib/libmkldnn.so.0 is not a symbolic link\\r'</li><li>'\\r'</li></ol>\n"
            ],
            "text/markdown": "1. 'Reading package lists...'\n2. 'Building dependency tree...'\n3. 'Reading state information...'\n4. 'The following additional packages will be installed:'\n5. <span style=white-space:pre-wrap>'  libcairo-script-interpreter2 libpixman-1-dev libxcb-shm0-dev'</span>\n6. 'Suggested packages:'\n7. <span style=white-space:pre-wrap>'  libcairo2-doc'</span>\n8. 'The following NEW packages will be installed:'\n9. <span style=white-space:pre-wrap>'  libcairo-script-interpreter2 libcairo2-dev libpixman-1-dev libxcb-shm0-dev'</span>\n10. '0 upgraded, 4 newly installed, 0 to remove and 39 not upgraded.'\n11. 'Need to get 930 kB of archives.'\n12. 'After this operation, 3,986 kB of additional disk space will be used.'\n13. 'Get:1 http://archive.ubuntu.com/ubuntu bionic-updates/main amd64 libcairo-script-interpreter2 amd64 1.15.10-2ubuntu0.1 [53.5 kB]'\n14. 'Get:2 http://archive.ubuntu.com/ubuntu bionic/main amd64 libpixman-1-dev amd64 0.34.0-2 [244 kB]'\n15. 'Get:3 http://archive.ubuntu.com/ubuntu bionic-updates/main amd64 libxcb-shm0-dev amd64 1.13-2~ubuntu18.04 [6,684 B]'\n16. 'Get:4 http://archive.ubuntu.com/ubuntu bionic-updates/main amd64 libcairo2-dev amd64 1.15.10-2ubuntu0.1 [626 kB]'\n17. 'Fetched 930 kB in 1s (1,207 kB/s)'\n18. 'Selecting previously unselected package libcairo-script-interpreter2:amd64.\\r'\n19. '(Reading database ... \\r(Reading database ... 5%\\r(Reading database ... 10%\\r(Reading database ... 15%\\r(Reading database ... 20%\\r(Reading database ... 25%\\r(Reading database ... 30%\\r(Reading database ... 35%\\r(Reading database ... 40%\\r(Reading database ... 45%\\r(Reading database ... 50%\\r(Reading database ... 55%\\r(Reading database ... 60%\\r(Reading database ... 65%\\r(Reading database ... 70%\\r(Reading database ... 75%\\r(Reading database ... 80%\\r(Reading database ... 85%\\r(Reading database ... 90%\\r(Reading database ... 95%\\r(Reading database ... 100%\\r(Reading database ... 155727 files and directories currently installed.)\\r'\n20. 'Preparing to unpack .../libcairo-script-interpreter2_1.15.10-2ubuntu0.1_amd64.deb ...\\r'\n21. 'Unpacking libcairo-script-interpreter2:amd64 (1.15.10-2ubuntu0.1) ...\\r'\n22. 'Selecting previously unselected package libpixman-1-dev:amd64.\\r'\n23. 'Preparing to unpack .../libpixman-1-dev_0.34.0-2_amd64.deb ...\\r'\n24. 'Unpacking libpixman-1-dev:amd64 (0.34.0-2) ...\\r'\n25. 'Selecting previously unselected package libxcb-shm0-dev:amd64.\\r'\n26. 'Preparing to unpack .../libxcb-shm0-dev_1.13-2~ubuntu18.04_amd64.deb ...\\r'\n27. 'Unpacking libxcb-shm0-dev:amd64 (1.13-2~ubuntu18.04) ...\\r'\n28. 'Selecting previously unselected package libcairo2-dev:amd64.\\r'\n29. 'Preparing to unpack .../libcairo2-dev_1.15.10-2ubuntu0.1_amd64.deb ...\\r'\n30. 'Unpacking libcairo2-dev:amd64 (1.15.10-2ubuntu0.1) ...\\r'\n31. 'Setting up libcairo-script-interpreter2:amd64 (1.15.10-2ubuntu0.1) ...\\r'\n32. 'Setting up libxcb-shm0-dev:amd64 (1.13-2~ubuntu18.04) ...\\r'\n33. 'Setting up libpixman-1-dev:amd64 (0.34.0-2) ...\\r'\n34. 'Setting up libcairo2-dev:amd64 (1.15.10-2ubuntu0.1) ...\\r'\n35. 'Processing triggers for libc-bin (2.27-3ubuntu1.3) ...\\r'\n36. '/sbin/ldconfig.real: /usr/local/lib/python3.7/dist-packages/ideep4py/lib/libmkldnn.so.0 is not a symbolic link\\r'\n37. '\\r'\n\n\n",
            "text/latex": "\\begin{enumerate*}\n\\item 'Reading package lists...'\n\\item 'Building dependency tree...'\n\\item 'Reading state information...'\n\\item 'The following additional packages will be installed:'\n\\item '  libcairo-script-interpreter2 libpixman-1-dev libxcb-shm0-dev'\n\\item 'Suggested packages:'\n\\item '  libcairo2-doc'\n\\item 'The following NEW packages will be installed:'\n\\item '  libcairo-script-interpreter2 libcairo2-dev libpixman-1-dev libxcb-shm0-dev'\n\\item '0 upgraded, 4 newly installed, 0 to remove and 39 not upgraded.'\n\\item 'Need to get 930 kB of archives.'\n\\item 'After this operation, 3,986 kB of additional disk space will be used.'\n\\item 'Get:1 http://archive.ubuntu.com/ubuntu bionic-updates/main amd64 libcairo-script-interpreter2 amd64 1.15.10-2ubuntu0.1 {[}53.5 kB{]}'\n\\item 'Get:2 http://archive.ubuntu.com/ubuntu bionic/main amd64 libpixman-1-dev amd64 0.34.0-2 {[}244 kB{]}'\n\\item 'Get:3 http://archive.ubuntu.com/ubuntu bionic-updates/main amd64 libxcb-shm0-dev amd64 1.13-2\\textasciitilde{}ubuntu18.04 {[}6,684 B{]}'\n\\item 'Get:4 http://archive.ubuntu.com/ubuntu bionic-updates/main amd64 libcairo2-dev amd64 1.15.10-2ubuntu0.1 {[}626 kB{]}'\n\\item 'Fetched 930 kB in 1s (1,207 kB/s)'\n\\item 'Selecting previously unselected package libcairo-script-interpreter2:amd64.\\textbackslash{}r'\n\\item '(Reading database ... \\textbackslash{}r(Reading database ... 5\\%\\textbackslash{}r(Reading database ... 10\\%\\textbackslash{}r(Reading database ... 15\\%\\textbackslash{}r(Reading database ... 20\\%\\textbackslash{}r(Reading database ... 25\\%\\textbackslash{}r(Reading database ... 30\\%\\textbackslash{}r(Reading database ... 35\\%\\textbackslash{}r(Reading database ... 40\\%\\textbackslash{}r(Reading database ... 45\\%\\textbackslash{}r(Reading database ... 50\\%\\textbackslash{}r(Reading database ... 55\\%\\textbackslash{}r(Reading database ... 60\\%\\textbackslash{}r(Reading database ... 65\\%\\textbackslash{}r(Reading database ... 70\\%\\textbackslash{}r(Reading database ... 75\\%\\textbackslash{}r(Reading database ... 80\\%\\textbackslash{}r(Reading database ... 85\\%\\textbackslash{}r(Reading database ... 90\\%\\textbackslash{}r(Reading database ... 95\\%\\textbackslash{}r(Reading database ... 100\\%\\textbackslash{}r(Reading database ... 155727 files and directories currently installed.)\\textbackslash{}r'\n\\item 'Preparing to unpack .../libcairo-script-interpreter2\\_1.15.10-2ubuntu0.1\\_amd64.deb ...\\textbackslash{}r'\n\\item 'Unpacking libcairo-script-interpreter2:amd64 (1.15.10-2ubuntu0.1) ...\\textbackslash{}r'\n\\item 'Selecting previously unselected package libpixman-1-dev:amd64.\\textbackslash{}r'\n\\item 'Preparing to unpack .../libpixman-1-dev\\_0.34.0-2\\_amd64.deb ...\\textbackslash{}r'\n\\item 'Unpacking libpixman-1-dev:amd64 (0.34.0-2) ...\\textbackslash{}r'\n\\item 'Selecting previously unselected package libxcb-shm0-dev:amd64.\\textbackslash{}r'\n\\item 'Preparing to unpack .../libxcb-shm0-dev\\_1.13-2\\textasciitilde{}ubuntu18.04\\_amd64.deb ...\\textbackslash{}r'\n\\item 'Unpacking libxcb-shm0-dev:amd64 (1.13-2\\textasciitilde{}ubuntu18.04) ...\\textbackslash{}r'\n\\item 'Selecting previously unselected package libcairo2-dev:amd64.\\textbackslash{}r'\n\\item 'Preparing to unpack .../libcairo2-dev\\_1.15.10-2ubuntu0.1\\_amd64.deb ...\\textbackslash{}r'\n\\item 'Unpacking libcairo2-dev:amd64 (1.15.10-2ubuntu0.1) ...\\textbackslash{}r'\n\\item 'Setting up libcairo-script-interpreter2:amd64 (1.15.10-2ubuntu0.1) ...\\textbackslash{}r'\n\\item 'Setting up libxcb-shm0-dev:amd64 (1.13-2\\textasciitilde{}ubuntu18.04) ...\\textbackslash{}r'\n\\item 'Setting up libpixman-1-dev:amd64 (0.34.0-2) ...\\textbackslash{}r'\n\\item 'Setting up libcairo2-dev:amd64 (1.15.10-2ubuntu0.1) ...\\textbackslash{}r'\n\\item 'Processing triggers for libc-bin (2.27-3ubuntu1.3) ...\\textbackslash{}r'\n\\item '/sbin/ldconfig.real: /usr/local/lib/python3.7/dist-packages/ideep4py/lib/libmkldnn.so.0 is not a symbolic link\\textbackslash{}r'\n\\item '\\textbackslash{}r'\n\\end{enumerate*}\n",
            "text/plain": [
              " [1] \"Reading package lists...\"                                                                                                                                                                                                                                                                                                                                                                                                                                                                                                                                                                                                                                      \n",
              " [2] \"Building dependency tree...\"                                                                                                                                                                                                                                                                                                                                                                                                                                                                                                                                                                                                                                   \n",
              " [3] \"Reading state information...\"                                                                                                                                                                                                                                                                                                                                                                                                                                                                                                                                                                                                                                  \n",
              " [4] \"The following additional packages will be installed:\"                                                                                                                                                                                                                                                                                                                                                                                                                                                                                                                                                                                                          \n",
              " [5] \"  libcairo-script-interpreter2 libpixman-1-dev libxcb-shm0-dev\"                                                                                                                                                                                                                                                                                                                                                                                                                                                                                                                                                                                                \n",
              " [6] \"Suggested packages:\"                                                                                                                                                                                                                                                                                                                                                                                                                                                                                                                                                                                                                                           \n",
              " [7] \"  libcairo2-doc\"                                                                                                                                                                                                                                                                                                                                                                                                                                                                                                                                                                                                                                               \n",
              " [8] \"The following NEW packages will be installed:\"                                                                                                                                                                                                                                                                                                                                                                                                                                                                                                                                                                                                                 \n",
              " [9] \"  libcairo-script-interpreter2 libcairo2-dev libpixman-1-dev libxcb-shm0-dev\"                                                                                                                                                                                                                                                                                                                                                                                                                                                                                                                                                                                  \n",
              "[10] \"0 upgraded, 4 newly installed, 0 to remove and 39 not upgraded.\"                                                                                                                                                                                                                                                                                                                                                                                                                                                                                                                                                                                               \n",
              "[11] \"Need to get 930 kB of archives.\"                                                                                                                                                                                                                                                                                                                                                                                                                                                                                                                                                                                                                               \n",
              "[12] \"After this operation, 3,986 kB of additional disk space will be used.\"                                                                                                                                                                                                                                                                                                                                                                                                                                                                                                                                                                                         \n",
              "[13] \"Get:1 http://archive.ubuntu.com/ubuntu bionic-updates/main amd64 libcairo-script-interpreter2 amd64 1.15.10-2ubuntu0.1 [53.5 kB]\"                                                                                                                                                                                                                                                                                                                                                                                                                                                                                                                              \n",
              "[14] \"Get:2 http://archive.ubuntu.com/ubuntu bionic/main amd64 libpixman-1-dev amd64 0.34.0-2 [244 kB]\"                                                                                                                                                                                                                                                                                                                                                                                                                                                                                                                                                              \n",
              "[15] \"Get:3 http://archive.ubuntu.com/ubuntu bionic-updates/main amd64 libxcb-shm0-dev amd64 1.13-2~ubuntu18.04 [6,684 B]\"                                                                                                                                                                                                                                                                                                                                                                                                                                                                                                                                           \n",
              "[16] \"Get:4 http://archive.ubuntu.com/ubuntu bionic-updates/main amd64 libcairo2-dev amd64 1.15.10-2ubuntu0.1 [626 kB]\"                                                                                                                                                                                                                                                                                                                                                                                                                                                                                                                                              \n",
              "[17] \"Fetched 930 kB in 1s (1,207 kB/s)\"                                                                                                                                                                                                                                                                                                                                                                                                                                                                                                                                                                                                                             \n",
              "[18] \"Selecting previously unselected package libcairo-script-interpreter2:amd64.\\r\"                                                                                                                                                                                                                                                                                                                                                                                                                                                                                                                                                                                 \n",
              "[19] \"(Reading database ... \\r(Reading database ... 5%\\r(Reading database ... 10%\\r(Reading database ... 15%\\r(Reading database ... 20%\\r(Reading database ... 25%\\r(Reading database ... 30%\\r(Reading database ... 35%\\r(Reading database ... 40%\\r(Reading database ... 45%\\r(Reading database ... 50%\\r(Reading database ... 55%\\r(Reading database ... 60%\\r(Reading database ... 65%\\r(Reading database ... 70%\\r(Reading database ... 75%\\r(Reading database ... 80%\\r(Reading database ... 85%\\r(Reading database ... 90%\\r(Reading database ... 95%\\r(Reading database ... 100%\\r(Reading database ... 155727 files and directories currently installed.)\\r\"\n",
              "[20] \"Preparing to unpack .../libcairo-script-interpreter2_1.15.10-2ubuntu0.1_amd64.deb ...\\r\"                                                                                                                                                                                                                                                                                                                                                                                                                                                                                                                                                                       \n",
              "[21] \"Unpacking libcairo-script-interpreter2:amd64 (1.15.10-2ubuntu0.1) ...\\r\"                                                                                                                                                                                                                                                                                                                                                                                                                                                                                                                                                                                       \n",
              "[22] \"Selecting previously unselected package libpixman-1-dev:amd64.\\r\"                                                                                                                                                                                                                                                                                                                                                                                                                                                                                                                                                                                              \n",
              "[23] \"Preparing to unpack .../libpixman-1-dev_0.34.0-2_amd64.deb ...\\r\"                                                                                                                                                                                                                                                                                                                                                                                                                                                                                                                                                                                              \n",
              "[24] \"Unpacking libpixman-1-dev:amd64 (0.34.0-2) ...\\r\"                                                                                                                                                                                                                                                                                                                                                                                                                                                                                                                                                                                                              \n",
              "[25] \"Selecting previously unselected package libxcb-shm0-dev:amd64.\\r\"                                                                                                                                                                                                                                                                                                                                                                                                                                                                                                                                                                                              \n",
              "[26] \"Preparing to unpack .../libxcb-shm0-dev_1.13-2~ubuntu18.04_amd64.deb ...\\r\"                                                                                                                                                                                                                                                                                                                                                                                                                                                                                                                                                                                    \n",
              "[27] \"Unpacking libxcb-shm0-dev:amd64 (1.13-2~ubuntu18.04) ...\\r\"                                                                                                                                                                                                                                                                                                                                                                                                                                                                                                                                                                                                    \n",
              "[28] \"Selecting previously unselected package libcairo2-dev:amd64.\\r\"                                                                                                                                                                                                                                                                                                                                                                                                                                                                                                                                                                                                \n",
              "[29] \"Preparing to unpack .../libcairo2-dev_1.15.10-2ubuntu0.1_amd64.deb ...\\r\"                                                                                                                                                                                                                                                                                                                                                                                                                                                                                                                                                                                      \n",
              "[30] \"Unpacking libcairo2-dev:amd64 (1.15.10-2ubuntu0.1) ...\\r\"                                                                                                                                                                                                                                                                                                                                                                                                                                                                                                                                                                                                      \n",
              "[31] \"Setting up libcairo-script-interpreter2:amd64 (1.15.10-2ubuntu0.1) ...\\r\"                                                                                                                                                                                                                                                                                                                                                                                                                                                                                                                                                                                      \n",
              "[32] \"Setting up libxcb-shm0-dev:amd64 (1.13-2~ubuntu18.04) ...\\r\"                                                                                                                                                                                                                                                                                                                                                                                                                                                                                                                                                                                                   \n",
              "[33] \"Setting up libpixman-1-dev:amd64 (0.34.0-2) ...\\r\"                                                                                                                                                                                                                                                                                                                                                                                                                                                                                                                                                                                                             \n",
              "[34] \"Setting up libcairo2-dev:amd64 (1.15.10-2ubuntu0.1) ...\\r\"                                                                                                                                                                                                                                                                                                                                                                                                                                                                                                                                                                                                     \n",
              "[35] \"Processing triggers for libc-bin (2.27-3ubuntu1.3) ...\\r\"                                                                                                                                                                                                                                                                                                                                                                                                                                                                                                                                                                                                      \n",
              "[36] \"/sbin/ldconfig.real: /usr/local/lib/python3.7/dist-packages/ideep4py/lib/libmkldnn.so.0 is not a symbolic link\\r\"                                                                                                                                                                                                                                                                                                                                                                                                                                                                                                                                              \n",
              "[37] \"\\r\"                                                                                                                                                                                                                                                                                                                                                                                                                                                                                                                                                                                                                                                            "
            ]
          },
          "metadata": {}
        }
      ]
    },
    {
      "cell_type": "markdown",
      "metadata": {
        "id": "ph0vAyiu5KGf"
      },
      "source": [
        "### Install R packages from CRAN"
      ]
    },
    {
      "cell_type": "code",
      "metadata": {
        "colab": {
          "base_uri": "https://localhost:8080/"
        },
        "outputId": "59a5dcca-e9f2-4db4-98e0-b89876e44bf3",
        "id": "gmU1mjlH5KGg"
      },
      "source": [
        "install.packages('BiocManager')"
      ],
      "execution_count": 4,
      "outputs": [
        {
          "output_type": "stream",
          "name": "stderr",
          "text": [
            "Installing package into ‘/usr/local/lib/R/site-library’\n",
            "(as ‘lib’ is unspecified)\n",
            "\n"
          ]
        }
      ]
    },
    {
      "cell_type": "code",
      "metadata": {
        "id": "H6JGW5g-5KGh"
      },
      "source": [
        "required_packages <- c(\n",
        "  \"GenomicAlignments\",\n",
        "  'BSgenome.Mmusculus.UCSC.mm10',\n",
        "  'motifmatchr',\n",
        "  'uwot',\n",
        "  'igraph',\n",
        "  'VennDiagram',\n",
        "  'patchwork',\n",
        "  'TxDb.Mmusculus.UCSC.mm10.knownGene',\n",
        "  'org.Mm.eg.db',\n",
        "  'clusterProfiler'\n",
        " )"
      ],
      "execution_count": 5,
      "outputs": []
    },
    {
      "cell_type": "code",
      "metadata": {
        "id": "TkBPuKmN5KGh",
        "colab": {
          "base_uri": "https://localhost:8080/"
        },
        "outputId": "f10601b1-9cd4-48c2-b4ce-7fd079d08068"
      },
      "source": [
        "missing_packages <- required_packages[!required_packages %in% rownames(installed.packages())]\n",
        "if (length(missing_packages) > 0){\n",
        "    BiocManager::install(missing_packages)\n",
        "}"
      ],
      "execution_count": 6,
      "outputs": [
        {
          "output_type": "stream",
          "name": "stderr",
          "text": [
            "'getOption(\"repos\")' replaces Bioconductor standard repositories, see\n",
            "'?repositories' for details\n",
            "\n",
            "replacement repositories:\n",
            "    CRAN: https://cran.rstudio.com\n",
            "\n",
            "\n",
            "Bioconductor version 3.14 (BiocManager 1.30.16), R 4.1.3 (2022-03-10)\n",
            "\n",
            "Installing package(s) 'BiocVersion', 'GenomicAlignments',\n",
            "  'BSgenome.Mmusculus.UCSC.mm10', 'motifmatchr', 'uwot', 'igraph',\n",
            "  'VennDiagram', 'patchwork', 'TxDb.Mmusculus.UCSC.mm10.knownGene',\n",
            "  'org.Mm.eg.db', 'clusterProfiler'\n",
            "\n",
            "also installing the dependencies ‘rjson’, ‘pracma’, ‘xtable’, ‘R.oo’, ‘R.methodsS3’, ‘filelock’, ‘gridGraphics’, ‘tweenr’, ‘polyclip’, ‘lazyeval’, ‘restfulr’, ‘poweRlaw’, ‘annotate’, ‘R.utils’, ‘plogr’, ‘formatR’, ‘BiocFileCache’, ‘png’, ‘gridExtra’, ‘fastmatch’, ‘ggfun’, ‘ggplotify’, ‘ggforce’, ‘ggrepel’, ‘viridis’, ‘tidygraph’, ‘graphlayouts’, ‘ape’, ‘tidytree’, ‘treeio’, ‘RCurl’, ‘GenomeInfoDbData’, ‘XVector’, ‘MatrixGenerics’, ‘Biobase’, ‘DelayedArray’, ‘zlibbioc’, ‘bitops’, ‘Rhtslib’, ‘snow’, ‘BH’, ‘rtracklayer’, ‘matrixStats’, ‘caTools’, ‘CNEr’, ‘DirichletMultinomial’, ‘gtools’, ‘RSQLite’, ‘seqLogo’, ‘TFMPvalue’, ‘XML’, ‘RcppEigen’, ‘sitmo’, ‘lambda.r’, ‘futile.options’, ‘BiocIO’, ‘biomaRt’, ‘KEGGREST’, ‘DO.db’, ‘fgsea’, ‘reshape2’, ‘aplot’, ‘ggraph’, ‘scatterpie’, ‘shadowtext’, ‘ggtree’, ‘BiocGenerics’, ‘S4Vectors’, ‘IRanges’, ‘GenomeInfoDb’, ‘GenomicRanges’, ‘SummarizedExperiment’, ‘Biostrings’, ‘Rsamtools’, ‘BiocParallel’, ‘BSgenome’, ‘Rcpp’, ‘TFBSTools’, ‘RcppArmadillo’, ‘FNN’, ‘RSpectra’, ‘RcppAnnoy’, ‘irlba’, ‘RcppProgress’, ‘dqrng’, ‘futile.logger’, ‘GenomicFeatures’, ‘AnnotationDbi’, ‘downloader’, ‘DOSE’, ‘enrichplot’, ‘GO.db’, ‘GOSemSim’, ‘plyr’, ‘qvalue’, ‘yulab.utils’\n",
            "\n",
            "\n",
            "Old packages: 'blob', 'broom', 'haven', 'RColorBrewer', 'scales', 'vctrs'\n",
            "\n"
          ]
        }
      ]
    },
    {
      "cell_type": "code",
      "metadata": {
        "id": "Im96jtct5KGi",
        "colab": {
          "base_uri": "https://localhost:8080/"
        },
        "outputId": "4b3f9552-a599-4462-de2f-ecdff4308ef3"
      },
      "source": [
        "library(devtools)"
      ],
      "execution_count": 7,
      "outputs": [
        {
          "output_type": "stream",
          "name": "stderr",
          "text": [
            "Loading required package: usethis\n",
            "\n"
          ]
        }
      ]
    },
    {
      "cell_type": "markdown",
      "metadata": {
        "id": "CO4WWQlD5KGj"
      },
      "source": [
        "### Install R packages from github"
      ]
    },
    {
      "cell_type": "code",
      "metadata": {
        "colab": {
          "base_uri": "https://localhost:8080/"
        },
        "outputId": "acf925eb-697a-48a7-82a3-fbc6d53d5f91",
        "id": "j-lXMzWl5KGk"
      },
      "source": [
        "install_github(\"GreenleafLab/chromVARmotifs\")"
      ],
      "execution_count": 8,
      "outputs": [
        {
          "output_type": "stream",
          "name": "stderr",
          "text": [
            "Downloading GitHub repo GreenleafLab/chromVARmotifs@HEAD\n",
            "\n"
          ]
        },
        {
          "output_type": "stream",
          "name": "stdout",
          "text": [
            "vctrs        (0.4.0 -> 0.4.1) [CRAN]\n",
            "blob         (1.2.2 -> 1.2.3) [CRAN]\n",
            "RColorBrewer (1.1-2 -> 1.1-3) [CRAN]\n",
            "scales       (1.1.1 -> 1.2.0) [CRAN]\n"
          ]
        },
        {
          "output_type": "stream",
          "name": "stderr",
          "text": [
            "Installing 4 packages: vctrs, blob, RColorBrewer, scales\n",
            "\n",
            "Installing packages into ‘/usr/local/lib/R/site-library’\n",
            "(as ‘lib’ is unspecified)\n",
            "\n"
          ]
        },
        {
          "output_type": "stream",
          "name": "stdout",
          "text": [
            "* checking for file ‘/tmp/RtmpXAEaKd/remotes601ddf8f72/GreenleafLab-chromVARmotifs-38bed55/DESCRIPTION’ ... OK\n",
            "* preparing ‘chromVARmotifs’:\n",
            "* checking DESCRIPTION meta-information ... OK\n",
            "* checking for LF line-endings in source and make files and shell scripts\n",
            "* checking for empty or unneeded directories\n",
            "* building ‘chromVARmotifs_0.2.0.tar.gz’\n",
            "\n"
          ]
        },
        {
          "output_type": "stream",
          "name": "stderr",
          "text": [
            "Installing package into ‘/usr/local/lib/R/site-library’\n",
            "(as ‘lib’ is unspecified)\n",
            "\n"
          ]
        }
      ]
    },
    {
      "cell_type": "code",
      "source": [
        "devtools::install_github(\"GuangchuangYu/ChIPseeker\")"
      ],
      "metadata": {
        "id": "UXxad8Xe54Yg",
        "colab": {
          "base_uri": "https://localhost:8080/"
        },
        "outputId": "d744c661-7923-4d42-fb7c-cd2a7f620ac5"
      },
      "execution_count": 9,
      "outputs": [
        {
          "output_type": "stream",
          "name": "stderr",
          "text": [
            "Downloading GitHub repo GuangchuangYu/ChIPseeker@HEAD\n",
            "\n"
          ]
        },
        {
          "output_type": "stream",
          "name": "stdout",
          "text": [
            "enrichplot   (1.14.2 -> d11b60bb6...) [GitHub]\n",
            "TxDb.Hsap... (NA     -> 3.2.2       ) [CRAN]\n",
            "plotrix      (NA     -> 3.8-2       ) [CRAN]\n",
            "gplots       (NA     -> 3.1.1       ) [CRAN]\n"
          ]
        },
        {
          "output_type": "stream",
          "name": "stderr",
          "text": [
            "Installing 3 packages: TxDb.Hsapiens.UCSC.hg19.knownGene, plotrix, gplots\n",
            "\n",
            "Installing packages into ‘/usr/local/lib/R/site-library’\n",
            "(as ‘lib’ is unspecified)\n",
            "\n",
            "Downloading GitHub repo GuangchuangYu/enrichplot@HEAD\n",
            "\n"
          ]
        },
        {
          "output_type": "stream",
          "name": "stdout",
          "text": [
            "\n",
            "* checking for file ‘/tmp/RtmpXAEaKd/remotes604c22d4/GuangchuangYu-enrichplot-d11b60b/DESCRIPTION’ ... OK\n",
            "* preparing ‘enrichplot’:\n",
            "* checking DESCRIPTION meta-information ... OK\n",
            "* checking for LF line-endings in source and make files and shell scripts\n",
            "* checking for empty or unneeded directories\n",
            "* building ‘enrichplot_1.13.1.992.tar.gz’\n",
            "\n"
          ]
        },
        {
          "output_type": "stream",
          "name": "stderr",
          "text": [
            "Installing package into ‘/usr/local/lib/R/site-library’\n",
            "(as ‘lib’ is unspecified)\n",
            "\n"
          ]
        },
        {
          "output_type": "stream",
          "name": "stdout",
          "text": [
            "* checking for file ‘/tmp/RtmpXAEaKd/remotes603857d8a6/YuLab-SMU-ChIPseeker-5945269/DESCRIPTION’ ... OK\n",
            "* preparing ‘ChIPseeker’:\n",
            "* checking DESCRIPTION meta-information ... OK\n",
            "* checking for LF line-endings in source and make files and shell scripts\n",
            "* checking for empty or unneeded directories\n",
            "* looking to see if a ‘data/datalist’ file should be added\n",
            "* building ‘ChIPseeker_1.31.4.tar.gz’\n",
            "\n"
          ]
        },
        {
          "output_type": "stream",
          "name": "stderr",
          "text": [
            "Installing package into ‘/usr/local/lib/R/site-library’\n",
            "(as ‘lib’ is unspecified)\n",
            "\n"
          ]
        }
      ]
    },
    {
      "cell_type": "markdown",
      "metadata": {
        "id": "nNMw2Bal5KGl"
      },
      "source": [
        "### Install `seatac` from github"
      ]
    },
    {
      "cell_type": "code",
      "metadata": {
        "colab": {
          "base_uri": "https://localhost:8080/"
        },
        "outputId": "fff28012-a428-48d6-d89b-4222b2afbd9a",
        "id": "3hqMRuPh5KGl"
      },
      "source": [
        "install_github('gongx030/seatac', quiet = FALSE, ref = 'v0.4.0') # install from the branch v0.4.0\n",
        "devtools::reload(pkgload::inst(\"seatac\"))\n",
        "library(seatac)"
      ],
      "execution_count": 10,
      "outputs": [
        {
          "output_type": "stream",
          "name": "stderr",
          "text": [
            "Downloading GitHub repo gongx030/seatac@v0.4.0\n",
            "\n"
          ]
        },
        {
          "output_type": "stream",
          "name": "stdout",
          "text": [
            "tfautograph  (NA -> 0.3.2 ) [CRAN]\n",
            "config       (NA -> 0.3.1 ) [CRAN]\n",
            "here         (NA -> 1.0.1 ) [CRAN]\n",
            "RcppTOML     (NA -> 0.1.7 ) [CRAN]\n",
            "zeallot      (NA -> 0.1.0 ) [CRAN]\n",
            "tfruns       (NA -> 1.5.0 ) [CRAN]\n",
            "tensorflow   (NA -> 2.8.0 ) [CRAN]\n",
            "reticulate   (NA -> 1.24  ) [CRAN]\n",
            "keras        (NA -> 2.8.0 ) [CRAN]\n",
            "abind        (NA -> 1.4-5 ) [CRAN]\n",
            "tfdatasets   (NA -> 2.7.0 ) [CRAN]\n",
            "tfprobabi... (NA -> 0.15.0) [CRAN]\n"
          ]
        },
        {
          "output_type": "stream",
          "name": "stderr",
          "text": [
            "Installing 12 packages: tfautograph, config, here, RcppTOML, zeallot, tfruns, tensorflow, reticulate, keras, abind, tfdatasets, tfprobability\n",
            "\n",
            "Installing packages into ‘/usr/local/lib/R/site-library’\n",
            "(as ‘lib’ is unspecified)\n",
            "\n"
          ]
        },
        {
          "output_type": "stream",
          "name": "stdout",
          "text": [
            "* checking for file ‘/tmp/RtmpXAEaKd/remotes604befa720/gongx030-seatac-55f9f36/DESCRIPTION’ ... OK\n",
            "* preparing ‘seatac’:\n",
            "* checking DESCRIPTION meta-information ... OK\n",
            "* checking for LF line-endings in source and make files and shell scripts\n",
            "* checking for empty or unneeded directories\n",
            "Omitted ‘LazyData’ from DESCRIPTION\n",
            "* building ‘seatac_0.4.0-010.tar.gz’\n",
            "\n"
          ]
        },
        {
          "output_type": "stream",
          "name": "stderr",
          "text": [
            "Installing package into ‘/usr/local/lib/R/site-library’\n",
            "(as ‘lib’ is unspecified)\n",
            "\n",
            "Loading required package: tensorflow\n",
            "\n",
            "Loading required package: tfprobability\n",
            "\n",
            "Loading required package: tfdatasets\n",
            "\n",
            "Loading required package: GenomicRanges\n",
            "\n",
            "Loading required package: stats4\n",
            "\n",
            "Loading required package: BiocGenerics\n",
            "\n",
            "\n",
            "Attaching package: ‘BiocGenerics’\n",
            "\n",
            "\n",
            "The following objects are masked from ‘package:stats’:\n",
            "\n",
            "    IQR, mad, sd, var, xtabs\n",
            "\n",
            "\n",
            "The following objects are masked from ‘package:base’:\n",
            "\n",
            "    anyDuplicated, append, as.data.frame, basename, cbind, colnames,\n",
            "    dirname, do.call, duplicated, eval, evalq, Filter, Find, get, grep,\n",
            "    grepl, intersect, is.unsorted, lapply, Map, mapply, match, mget,\n",
            "    order, paste, pmax, pmax.int, pmin, pmin.int, Position, rank,\n",
            "    rbind, Reduce, rownames, sapply, setdiff, sort, table, tapply,\n",
            "    union, unique, unsplit, which.max, which.min\n",
            "\n",
            "\n",
            "Loading required package: S4Vectors\n",
            "\n",
            "\n",
            "Attaching package: ‘S4Vectors’\n",
            "\n",
            "\n",
            "The following objects are masked from ‘package:base’:\n",
            "\n",
            "    expand.grid, I, unname\n",
            "\n",
            "\n",
            "Loading required package: IRanges\n",
            "\n",
            "Loading required package: GenomeInfoDb\n",
            "\n",
            "Loading required package: SummarizedExperiment\n",
            "\n",
            "Loading required package: MatrixGenerics\n",
            "\n",
            "Loading required package: matrixStats\n",
            "\n",
            "\n",
            "Attaching package: ‘MatrixGenerics’\n",
            "\n",
            "\n",
            "The following objects are masked from ‘package:matrixStats’:\n",
            "\n",
            "    colAlls, colAnyNAs, colAnys, colAvgsPerRowSet, colCollapse,\n",
            "    colCounts, colCummaxs, colCummins, colCumprods, colCumsums,\n",
            "    colDiffs, colIQRDiffs, colIQRs, colLogSumExps, colMadDiffs,\n",
            "    colMads, colMaxs, colMeans2, colMedians, colMins, colOrderStats,\n",
            "    colProds, colQuantiles, colRanges, colRanks, colSdDiffs, colSds,\n",
            "    colSums2, colTabulates, colVarDiffs, colVars, colWeightedMads,\n",
            "    colWeightedMeans, colWeightedMedians, colWeightedSds,\n",
            "    colWeightedVars, rowAlls, rowAnyNAs, rowAnys, rowAvgsPerColSet,\n",
            "    rowCollapse, rowCounts, rowCummaxs, rowCummins, rowCumprods,\n",
            "    rowCumsums, rowDiffs, rowIQRDiffs, rowIQRs, rowLogSumExps,\n",
            "    rowMadDiffs, rowMads, rowMaxs, rowMeans2, rowMedians, rowMins,\n",
            "    rowOrderStats, rowProds, rowQuantiles, rowRanges, rowRanks,\n",
            "    rowSdDiffs, rowSds, rowSums2, rowTabulates, rowVarDiffs, rowVars,\n",
            "    rowWeightedMads, rowWeightedMeans, rowWeightedMedians,\n",
            "    rowWeightedSds, rowWeightedVars\n",
            "\n",
            "\n",
            "Loading required package: Biobase\n",
            "\n",
            "Welcome to Bioconductor\n",
            "\n",
            "    Vignettes contain introductory material; view with\n",
            "    'browseVignettes()'. To cite Bioconductor, see\n",
            "    'citation(\"Biobase\")', and for packages 'citation(\"pkgname\")'.\n",
            "\n",
            "\n",
            "\n",
            "Attaching package: ‘Biobase’\n",
            "\n",
            "\n",
            "The following object is masked from ‘package:MatrixGenerics’:\n",
            "\n",
            "    rowMedians\n",
            "\n",
            "\n",
            "The following objects are masked from ‘package:matrixStats’:\n",
            "\n",
            "    anyMissing, rowMedians\n",
            "\n",
            "\n",
            "\n",
            "Attaching package: ‘seatac’\n",
            "\n",
            "\n",
            "The following object is masked from ‘package:tfdatasets’:\n",
            "\n",
            "    fit\n",
            "\n",
            "\n",
            "The following object is masked from ‘package:stats’:\n",
            "\n",
            "    predict\n",
            "\n",
            "\n"
          ]
        }
      ]
    },
    {
      "cell_type": "markdown",
      "metadata": {
        "id": "wLAzDp945KGm"
      },
      "source": [
        "### Load R packages"
      ]
    },
    {
      "cell_type": "code",
      "metadata": {
        "id": "RKeZ6kTA5KGm",
        "colab": {
          "base_uri": "https://localhost:8080/"
        },
        "outputId": "e8af7ccf-ee3d-48df-f99f-38edf1142361"
      },
      "source": [
        "library(BSgenome.Mmusculus.UCSC.mm10)\n",
        "library(dplyr)\n",
        "library(motifmatchr)\n",
        "library(chromVARmotifs)\n",
        "library(igraph)\n",
        "library(VennDiagram)\n",
        "library(ggplot2)\n",
        "library(patchwork)\n",
        "library(ChIPseeker)\n",
        "library(TxDb.Mmusculus.UCSC.mm10.knownGene)\n",
        "library(org.Mm.eg.db)\n",
        "library(clusterProfiler)"
      ],
      "execution_count": 11,
      "outputs": [
        {
          "output_type": "stream",
          "name": "stderr",
          "text": [
            "Loading required package: BSgenome\n",
            "\n",
            "Loading required package: Biostrings\n",
            "\n",
            "Loading required package: XVector\n",
            "\n",
            "\n",
            "Attaching package: ‘Biostrings’\n",
            "\n",
            "\n",
            "The following object is masked from ‘package:base’:\n",
            "\n",
            "    strsplit\n",
            "\n",
            "\n",
            "Loading required package: rtracklayer\n",
            "\n",
            "\n",
            "Attaching package: ‘dplyr’\n",
            "\n",
            "\n",
            "The following objects are masked from ‘package:Biostrings’:\n",
            "\n",
            "    collapse, intersect, setdiff, setequal, union\n",
            "\n",
            "\n",
            "The following object is masked from ‘package:XVector’:\n",
            "\n",
            "    slice\n",
            "\n",
            "\n",
            "The following object is masked from ‘package:Biobase’:\n",
            "\n",
            "    combine\n",
            "\n",
            "\n",
            "The following object is masked from ‘package:matrixStats’:\n",
            "\n",
            "    count\n",
            "\n",
            "\n",
            "The following objects are masked from ‘package:GenomicRanges’:\n",
            "\n",
            "    intersect, setdiff, union\n",
            "\n",
            "\n",
            "The following object is masked from ‘package:GenomeInfoDb’:\n",
            "\n",
            "    intersect\n",
            "\n",
            "\n",
            "The following objects are masked from ‘package:IRanges’:\n",
            "\n",
            "    collapse, desc, intersect, setdiff, slice, union\n",
            "\n",
            "\n",
            "The following objects are masked from ‘package:S4Vectors’:\n",
            "\n",
            "    first, intersect, rename, setdiff, setequal, union\n",
            "\n",
            "\n",
            "The following objects are masked from ‘package:BiocGenerics’:\n",
            "\n",
            "    combine, intersect, setdiff, union\n",
            "\n",
            "\n",
            "The following objects are masked from ‘package:stats’:\n",
            "\n",
            "    filter, lag\n",
            "\n",
            "\n",
            "The following objects are masked from ‘package:base’:\n",
            "\n",
            "    intersect, setdiff, setequal, union\n",
            "\n",
            "\n",
            "\n",
            "\n",
            "\n",
            "Attaching package: ‘igraph’\n",
            "\n",
            "\n",
            "The following objects are masked from ‘package:dplyr’:\n",
            "\n",
            "    as_data_frame, groups, union\n",
            "\n",
            "\n",
            "The following objects are masked from ‘package:rtracklayer’:\n",
            "\n",
            "    blocks, path\n",
            "\n",
            "\n",
            "The following object is masked from ‘package:Biostrings’:\n",
            "\n",
            "    union\n",
            "\n",
            "\n",
            "The following object is masked from ‘package:XVector’:\n",
            "\n",
            "    path\n",
            "\n",
            "\n",
            "The following object is masked from ‘package:GenomicRanges’:\n",
            "\n",
            "    union\n",
            "\n",
            "\n",
            "The following object is masked from ‘package:IRanges’:\n",
            "\n",
            "    union\n",
            "\n",
            "\n",
            "The following object is masked from ‘package:S4Vectors’:\n",
            "\n",
            "    union\n",
            "\n",
            "\n",
            "The following objects are masked from ‘package:BiocGenerics’:\n",
            "\n",
            "    normalize, path, union\n",
            "\n",
            "\n",
            "The following objects are masked from ‘package:stats’:\n",
            "\n",
            "    decompose, spectrum\n",
            "\n",
            "\n",
            "The following object is masked from ‘package:base’:\n",
            "\n",
            "    union\n",
            "\n",
            "\n",
            "Loading required package: grid\n",
            "\n",
            "\n",
            "Attaching package: ‘grid’\n",
            "\n",
            "\n",
            "The following object is masked from ‘package:Biostrings’:\n",
            "\n",
            "    pattern\n",
            "\n",
            "\n",
            "Loading required package: futile.logger\n",
            "\n",
            "Registered S3 method overwritten by 'ggtree':\n",
            "  method      from \n",
            "  identify.gg ggfun\n",
            "\n",
            "ChIPseeker v1.31.4  For help: https://guangchuangyu.github.io/software/ChIPseeker\n",
            "\n",
            "If you use ChIPseeker in published research, please cite:\n",
            "Guangchuang Yu, Li-Gen Wang, Qing-Yu He. ChIPseeker: an R/Bioconductor package for ChIP peak annotation, comparison and visualization. Bioinformatics 2015, 31(14):2382-2383\n",
            "\n",
            "Loading required package: GenomicFeatures\n",
            "\n",
            "Loading required package: AnnotationDbi\n",
            "\n",
            "\n",
            "Attaching package: ‘AnnotationDbi’\n",
            "\n",
            "\n",
            "The following object is masked from ‘package:dplyr’:\n",
            "\n",
            "    select\n",
            "\n",
            "\n",
            "\n",
            "\n",
            "clusterProfiler v4.2.2  For help: https://yulab-smu.top/biomedical-knowledge-mining-book/\n",
            "\n",
            "If you use clusterProfiler in published research, please cite:\n",
            "T Wu, E Hu, S Xu, M Chen, P Guo, Z Dai, T Feng, L Zhou, W Tang, L Zhan, X Fu, S Liu, X Bo, and G Yu. clusterProfiler 4.0: A universal enrichment tool for interpreting omics data. The Innovation. 2021, 2(3):100141\n",
            "\n",
            "\n",
            "Attaching package: ‘clusterProfiler’\n",
            "\n",
            "\n",
            "The following object is masked from ‘package:AnnotationDbi’:\n",
            "\n",
            "    select\n",
            "\n",
            "\n",
            "The following object is masked from ‘package:igraph’:\n",
            "\n",
            "    simplify\n",
            "\n",
            "\n",
            "The following object is masked from ‘package:XVector’:\n",
            "\n",
            "    slice\n",
            "\n",
            "\n",
            "The following object is masked from ‘package:IRanges’:\n",
            "\n",
            "    slice\n",
            "\n",
            "\n",
            "The following object is masked from ‘package:S4Vectors’:\n",
            "\n",
            "    rename\n",
            "\n",
            "\n",
            "The following object is masked from ‘package:stats’:\n",
            "\n",
            "    filter\n",
            "\n",
            "\n"
          ]
        }
      ]
    },
    {
      "cell_type": "markdown",
      "metadata": {
        "id": "j-TPW4ME18Vg"
      },
      "source": [
        "### TensorFlow setup"
      ]
    },
    {
      "cell_type": "code",
      "metadata": {
        "id": "BvMo6o4K18Vh",
        "colab": {
          "base_uri": "https://localhost:8080/"
        },
        "outputId": "be1e0061-b617-4b46-827c-ed480559956c"
      },
      "source": [
        "gpus <- tf$config$list_physical_devices('GPU')\n",
        "for (gpu in gpus){\n",
        "  tf$config$experimental$set_memory_growth(gpu, TRUE)\n",
        "}\n",
        "logical_gpus <- tf$config$experimental$list_logical_devices('GPU')\n",
        "sprintf('Physical GPUs: %d', length(gpus)) %>% message()\n",
        "sprintf('Logical GPUs: %d', length(logical_gpus)) %>% message()"
      ],
      "execution_count": 12,
      "outputs": [
        {
          "output_type": "stream",
          "name": "stderr",
          "text": [
            "Loaded Tensorflow version 2.8.0\n",
            "\n",
            "Physical GPUs: 1\n",
            "\n",
            "Logical GPUs: 1\n",
            "\n"
          ]
        }
      ]
    },
    {
      "cell_type": "code",
      "metadata": {
        "id": "GfWHODPbHZ0s",
        "colab": {
          "base_uri": "https://localhost:8080/",
          "height": 35
        },
        "outputId": "b83945b6-28b5-40fd-b151-9d90f0e3fa18"
      },
      "source": [
        "Sys.time() - start_time"
      ],
      "execution_count": 13,
      "outputs": [
        {
          "output_type": "display_data",
          "data": {
            "text/plain": [
              "Time difference of 33.58581 mins"
            ]
          },
          "metadata": {}
        }
      ]
    },
    {
      "cell_type": "markdown",
      "metadata": {
        "id": "hl2lXOAv9ljx"
      },
      "source": [
        "## Parameters"
      ]
    },
    {
      "cell_type": "code",
      "metadata": {
        "id": "KMfU5_KD9nN9"
      },
      "source": [
        "ARGS <- list(\n",
        "  bin_size = 5L,\n",
        "  fragment_size_range_max = 640L,\n",
        "  fragment_size_interval = 20L,\n",
        "  window_size = 1000L,\n",
        "  block_size = 640L,\n",
        "  sliding_step = 20L,\n",
        "  min_reads = 10L,\n",
        "  vae_num_peaks = 5000L,\n",
        "  vae_latent = c(5L),\n",
        "  vae_filters0 = c(128L),\n",
        "  vae_filters = c(32L),\n",
        "  vae_downsample_layers = 4L,\n",
        "  vae_upsample_layers = 4L,\n",
        "  vae_base_learning_rate = c(1e-2),\n",
        "  vae_epochs = 200L,\n",
        "  vae_beta_schedule_method = c('constant'),\n",
        "  vae_beta0 = 1,\n",
        "  vae_batch_size = c(128L),\n",
        "  vae_warmup_ratio = 0.1,\n",
        "  padjusted_cutoff = 0.05,\n",
        "  log_ratio_cutoff = 0.1,\n",
        "  step_size = 200L,\n",
        "  upstream = -5000,\n",
        "  downstream = 1000,\n",
        "  pvalueCutoff = 1,\n",
        "  qvalueCutoff = 1,\n",
        "  nucleoatac_cutoff = 0.4,\n",
        "  center_width = 100L # the center width\n",
        ")"
      ],
      "execution_count": 14,
      "outputs": []
    },
    {
      "cell_type": "markdown",
      "source": [
        "#MEF"
      ],
      "metadata": {
        "id": "GEslYGcL8TCS"
      }
    },
    {
      "cell_type": "markdown",
      "metadata": {
        "id": "zTZFIssWfoaQ"
      },
      "source": [
        "## Putative OSK motif regions with differential vplots"
      ]
    },
    {
      "cell_type": "code",
      "source": [
        "tab <- read.table('https://s3.msi.umn.edu/gongx030/projects/seatac_project/config/seatac_OSKM/results.tsv', sep = '\\t', header = TRUE)"
      ],
      "metadata": {
        "id": "JYVdOchvNEQA"
      },
      "execution_count": 15,
      "outputs": []
    },
    {
      "cell_type": "code",
      "metadata": {
        "id": "86mPlnz1NEQC"
      },
      "source": [
        "res <- read.table(tab[tab$vae_latent == 5,]$remote_output_file, header = FALSE, sep = '\\t')"
      ],
      "execution_count": 16,
      "outputs": []
    },
    {
      "cell_type": "code",
      "source": [
        "colnames(res) <- c('seqnames','start','end','width','strand','pvalue_z','padj','nucleosome_treatment','nucleosome_control','log_ratio')"
      ],
      "metadata": {
        "id": "6GnjVvBXNEQC"
      },
      "execution_count": 17,
      "outputs": []
    },
    {
      "cell_type": "code",
      "source": [
        "res <- GRanges(res)"
      ],
      "metadata": {
        "id": "YAZ-TmvPNEQD"
      },
      "execution_count": 18,
      "outputs": []
    },
    {
      "cell_type": "code",
      "metadata": {
        "colab": {
          "base_uri": "https://localhost:8080/"
        },
        "outputId": "92eb29a3-7d26-44e8-aab8-34bc86b6f139",
        "id": "7HQee47nNEQD"
      },
      "source": [
        "sprintf('number of motif-centric regions: %s', length(res)) %>% message()"
      ],
      "execution_count": 19,
      "outputs": [
        {
          "output_type": "stream",
          "name": "stderr",
          "text": [
            "number of motif-centric regions: 282789\n",
            "\n"
          ]
        }
      ]
    },
    {
      "cell_type": "code",
      "source": [
        "is_signif <- res$padj < 0.05\n",
        "sprintf('# of significantly differential V-plots called by SeATAC: %d', sum(is_signif)) %>% message()"
      ],
      "metadata": {
        "colab": {
          "base_uri": "https://localhost:8080/"
        },
        "outputId": "72ef066b-14eb-4eb5-ecac-c158c1f5e310",
        "id": "5N_w8jaONEQF"
      },
      "execution_count": 20,
      "outputs": [
        {
          "output_type": "stream",
          "name": "stderr",
          "text": [
            "# of significantly differential V-plots called by SeATAC: 19603\n",
            "\n"
          ]
        }
      ]
    },
    {
      "cell_type": "markdown",
      "source": [
        "# Read the summits called by MACS2 for OSK"
      ],
      "metadata": {
        "id": "Cysf26C6NEQH"
      }
    },
    {
      "cell_type": "code",
      "source": [
        "remote_summit_files = c(\n",
        "  MEF = 'https://s3.msi.umn.edu/dsouz072/projects/seatac_project/config/macs2_OSK_D7/1_summits.bed',\n",
        "  MEF_OSK_D7 = 'https://s3.msi.umn.edu/dsouz072/projects/seatac_project/config/macs2_OSK_D7/2_summits.bed'\n",
        ")\n",
        "for (f in remote_summit_files){\n",
        "  system(sprintf('wget -cx %s', f))\n",
        "}\n",
        "local_summit_files <- gsub('https://', './', remote_summit_files)"
      ],
      "metadata": {
        "id": "fu_6gcdJNEQI"
      },
      "execution_count": 21,
      "outputs": []
    },
    {
      "cell_type": "code",
      "source": [
        "x1 <- read.table(local_summit_files[1], header = FALSE, sep = '\\t')\n",
        "x2 <- read.table(local_summit_files[2], header = FALSE, sep = '\\t')\n",
        "gr_macs <- list(x1, x2)\n",
        "gr_mefs <- lapply(gr_macs, function(g){\n",
        "  GRanges(seqnames = g[, 1], range = IRanges(start = g[, 2], end = g[, 3]), score = g[, 5])\n",
        "}\n",
        ")"
      ],
      "metadata": {
        "id": "dojRoMlCNEQJ"
      },
      "execution_count": 22,
      "outputs": []
    },
    {
      "cell_type": "code",
      "source": [
        "sprintf('# of summits  called by MACS2 in undifferentiated MEFs: %d', length(gr_mefs[[1]])) %>% message()\n",
        "sprintf('# of summits called by MACS2 in MEFs at D7 post OSK induction: %d', length(gr_mefs[[2]])) %>% message()"
      ],
      "metadata": {
        "colab": {
          "base_uri": "https://localhost:8080/"
        },
        "outputId": "618d0d5a-edcd-4b39-d6af-0cf9d5db1bfb",
        "id": "HojwTt0hNEQJ"
      },
      "execution_count": 23,
      "outputs": [
        {
          "output_type": "stream",
          "name": "stderr",
          "text": [
            "# of summits  called by MACS2 in undifferentiated MEFs: 83776\n",
            "\n",
            "# of summits called by MACS2 in MEFs at D7 post OSK induction: 16379\n",
            "\n"
          ]
        }
      ]
    },
    {
      "cell_type": "code",
      "source": [
        "names(gr_mefs) <- c('MEF','MEF_OSK_D7')"
      ],
      "metadata": {
        "id": "XG1T0pZsNEQK"
      },
      "execution_count": 24,
      "outputs": []
    },
    {
      "cell_type": "markdown",
      "source": [
        "Instead of looking at the overlap between MACS2 summits with the entire 640 bp V-plot window, we only look at the center 100 bp region, which is consistent with the way that SeATAC calculate the central nucleosome values"
      ],
      "metadata": {
        "id": "I6fdCjtbNEQK"
      }
    },
    {
      "cell_type": "code",
      "source": [
        "mm <- lapply(gr_mefs, function(g){\n",
        "  findOverlaps(g, resize(res, fix = 'center', width = ARGS[['center_width']])) %>% as.matrix()\n",
        "}\n",
        ")"
      ],
      "metadata": {
        "id": "vmZquiYmNEQL"
      },
      "execution_count": 25,
      "outputs": []
    },
    {
      "cell_type": "code",
      "source": [
        "mm <- lapply(names(mm), function(i){\n",
        "  cbind(mm[[i]], score = gr_mefs[[i]][mm[[i]][, 'queryHits']]$score)\n",
        "}\n",
        ")\n",
        "names(mm) <- c('MEF','MEF_OSK_D7')\n",
        "\n",
        "\n"
      ],
      "metadata": {
        "id": "g3Py6iCBNEQL"
      },
      "execution_count": 26,
      "outputs": []
    },
    {
      "cell_type": "code",
      "source": [
        "sp <- lapply(mm, function(m){\n",
        "  split(m[, 'score'], list(m[, 'subjectHits']))\n",
        "}\n",
        ")"
      ],
      "metadata": {
        "id": "XgfFeTp4NEQL"
      },
      "execution_count": 27,
      "outputs": []
    },
    {
      "cell_type": "code",
      "source": [
        "score_mef <- sapply(sp$MEF, max)\n",
        "score_osk <- sapply(sp$MEF_OSK_D7, max)"
      ],
      "metadata": {
        "id": "X7uT4Ep4NEQM"
      },
      "execution_count": 28,
      "outputs": []
    },
    {
      "cell_type": "markdown",
      "source": [
        "# Read nucleosomal signal obtained by NucleoATAC for OSK"
      ],
      "metadata": {
        "id": "wp0aq5a6NEQN"
      }
    },
    {
      "cell_type": "code",
      "metadata": {
        "id": "UZCTfNveNEQN"
      },
      "source": [
        "s3_bw_files <- c(\n",
        "  'MEF' = 'https://s3.msi.umn.edu/dsouz072/datasets/dataset=iPSC_reprogramming_version=20200208a/MEF.dedup.nucleoatac_signal.smooth.bw',\n",
        "  'MEF_OSK_D7' = 'https://s3.msi.umn.edu/dsouz072/datasets/dataset=iPSC_reprogramming_version=20200208a/OSK_D7.dedup.nucleoatac_signal.smooth.bw'\n",
        ")"
      ],
      "execution_count": 29,
      "outputs": []
    },
    {
      "cell_type": "code",
      "metadata": {
        "colab": {
          "base_uri": "https://localhost:8080/"
        },
        "outputId": "12ee68ca-8149-44fb-b877-d60d2080b8ad",
        "id": "-wMx46H9NEQN"
      },
      "source": [
        "for (i in 1:length(s3_bw_files)){\n",
        "  sprintf('wget -x -c -nH %s', s3_bw_files[i]) %>% system()\n",
        "}\n",
        "s3_bw_files <- gsub('https://s3.msi.umn.edu/', './', s3_bw_files)\n",
        "message(sprintf('all s3_bw_files exist: %s', all(file.exists(s3_bw_files))))"
      ],
      "execution_count": 30,
      "outputs": [
        {
          "output_type": "stream",
          "name": "stderr",
          "text": [
            "all s3_bw_files exist: TRUE\n",
            "\n"
          ]
        }
      ]
    },
    {
      "cell_type": "code",
      "source": [
        "bw <- lapply(s3_bw_files, function(bw_file){\n",
        " rtracklayer::import.bw(\n",
        "    bw_file, \n",
        "    which = trim(GenomicRanges::reduce(resize(res, fix = 'center', width = ARGS[['center_width']])))\n",
        "  ) \n",
        "})"
      ],
      "metadata": {
        "id": "eb6PJiTPNEQO"
      },
      "execution_count": 31,
      "outputs": []
    },
    {
      "cell_type": "code",
      "source": [
        "cvg_bd <- lapply(bw, function(x){coverage(x, weight = 'score')[resize(res, fix = 'center', width = ARGS[['center_width']])] %>% as.matrix()})"
      ],
      "metadata": {
        "id": "TI6JK7RXNEQO"
      },
      "execution_count": 32,
      "outputs": []
    },
    {
      "cell_type": "code",
      "source": [
        "cvg <- data.frame(OSK = rowMeans(cvg_bd$MEF_OSK_D7), MEF = rowMeans(cvg_bd$MEF))"
      ],
      "metadata": {
        "id": "kJ9sUneJNEQO"
      },
      "execution_count": 33,
      "outputs": []
    },
    {
      "cell_type": "code",
      "source": [
        "cvg$osk <- ifelse(cvg$OSK < cvg$MEF, 'TRUE','FALSE')"
      ],
      "metadata": {
        "id": "GJ9bjP1hNEQP"
      },
      "execution_count": 34,
      "outputs": []
    },
    {
      "cell_type": "code",
      "source": [
        "cvg$mef <- ifelse(cvg$OSK > cvg$MEF, 'TRUE','FALSE')"
      ],
      "metadata": {
        "id": "mKVVherINEQP"
      },
      "execution_count": 35,
      "outputs": []
    },
    {
      "cell_type": "code",
      "source": [
        "cvg$difference <- cvg$OSK - cvg$MEF"
      ],
      "metadata": {
        "id": "dt_PlogLNEQP"
      },
      "execution_count": 36,
      "outputs": []
    },
    {
      "cell_type": "markdown",
      "source": [
        "# Granges containing SeATAC, MACS2 and NucleoATAC data for region with increased nucleosome occupany in undifferentiated MEFs"
      ],
      "metadata": {
        "id": "Y6Fn0h160E9l"
      }
    },
    {
      "cell_type": "code",
      "source": [
        "down_mef <- res      #Down in undifferentiated MEFs\n",
        "down_mef$macs2 <- 0\n",
        "down_mef[as.numeric(names(score_osk))]$macs2 <- score_osk\n",
        "down_mef$seatac <- -log10(down_mef$padj + 1e-100)\n",
        "down_mef$difference <- cvg$difference\n",
        "down_mef$osk <- cvg$osk"
      ],
      "metadata": {
        "id": "HJbueOFoNEQN"
      },
      "execution_count": 37,
      "outputs": []
    },
    {
      "cell_type": "markdown",
      "source": [
        "# Pathway analysis for NFR regions in D7 MEFs post OSK induction"
      ],
      "metadata": {
        "id": "TivIqh7FNEQQ"
      }
    },
    {
      "cell_type": "code",
      "source": [
        "up_osk <- list(seatac = down_mef[down_mef$log_ratio < -ARGS[['log_ratio_cutoff']] & down_mef$padj < ARGS[['padjusted_cutoff']]], \n",
        "  macs2 = down_mef[down_mef$macs2 > -log10(ARGS[['padjusted_cutoff']])],\n",
        "  nucleoatac = down_mef[down_mef$difference < -0.4 & down_mef$osk == TRUE]\n",
        "  )"
      ],
      "metadata": {
        "id": "o9_j-LDQNEQQ"
      },
      "execution_count": 38,
      "outputs": []
    },
    {
      "cell_type": "code",
      "source": [
        "sprintf('# of Vplots that have increased nuclsoeome occupancy at the center in MEFs at D7 post OSK induction with log ratio cutoff of 0.1 : %d', length(up_osk[[1]])) %>% message()\n",
        "sprintf('# of summits called by MACS2 in MEFs at D7 post OSK induction : %d', length(up_osk[[2]])) %>% message()\n",
        "sprintf('# of regions with increased nucleosome occupancy in undifferentiated MEFs : %d', length(up_osk[[3]])) %>% message()\n"
      ],
      "metadata": {
        "colab": {
          "base_uri": "https://localhost:8080/"
        },
        "outputId": "9db52a6b-0c5f-44f6-ddd1-c834f83e6afe",
        "id": "k0Ay_h_FNEQR"
      },
      "execution_count": 39,
      "outputs": [
        {
          "output_type": "stream",
          "name": "stderr",
          "text": [
            "# of Vplots that have increased nuclsoeome occupancy at the center in MEFs at D7 post OSK induction with log ratio cutoff of 0.1 : 7181\n",
            "\n",
            "# of summits called by MACS2 in MEFs at D7 post OSK induction : 2841\n",
            "\n",
            "# of regions with increased nucleosome occupancy in undifferentiated MEFs : 7918\n",
            "\n"
          ]
        }
      ]
    },
    {
      "cell_type": "markdown",
      "source": [
        "###Annotate the peaks for OSK induction"
      ],
      "metadata": {
        "id": "9raHTeoeNEQR"
      }
    },
    {
      "cell_type": "code",
      "source": [
        "anno_up_osk <- lapply(up_osk, function(s){annotatePeak(s, tssRegion = c(ARGS[['upstream']], ARGS[['downstream']]),TxDb = TxDb.Mmusculus.UCSC.mm10.knownGene,\n",
        "        annoDb = 'org.Mm.eg.db')})"
      ],
      "metadata": {
        "colab": {
          "base_uri": "https://localhost:8080/"
        },
        "outputId": "304bf4e3-ac83-4920-982b-8b0fca71a5d0",
        "id": "Eib2JHwKNEQR"
      },
      "execution_count": 40,
      "outputs": [
        {
          "output_type": "stream",
          "name": "stdout",
          "text": [
            ">> preparing features information...\t\t 2022-04-15 08:55:17 PM \n",
            ">> identifying nearest features...\t\t 2022-04-15 08:55:18 PM \n",
            ">> calculating distance from peak to TSS...\t 2022-04-15 08:55:18 PM \n",
            ">> assigning genomic annotation...\t\t 2022-04-15 08:55:18 PM \n",
            ">> adding gene annotation...\t\t\t 2022-04-15 08:55:33 PM \n"
          ]
        },
        {
          "output_type": "stream",
          "name": "stderr",
          "text": [
            "'select()' returned 1:many mapping between keys and columns\n",
            "\n"
          ]
        },
        {
          "output_type": "stream",
          "name": "stdout",
          "text": [
            ">> assigning chromosome lengths\t\t\t 2022-04-15 08:55:33 PM \n",
            ">> done...\t\t\t\t\t 2022-04-15 08:55:33 PM \n",
            ">> preparing features information...\t\t 2022-04-15 08:55:33 PM \n",
            ">> identifying nearest features...\t\t 2022-04-15 08:55:33 PM \n",
            ">> calculating distance from peak to TSS...\t 2022-04-15 08:55:33 PM \n",
            ">> assigning genomic annotation...\t\t 2022-04-15 08:55:33 PM \n",
            ">> adding gene annotation...\t\t\t 2022-04-15 08:55:36 PM \n"
          ]
        },
        {
          "output_type": "stream",
          "name": "stderr",
          "text": [
            "'select()' returned 1:many mapping between keys and columns\n",
            "\n"
          ]
        },
        {
          "output_type": "stream",
          "name": "stdout",
          "text": [
            ">> assigning chromosome lengths\t\t\t 2022-04-15 08:55:36 PM \n",
            ">> done...\t\t\t\t\t 2022-04-15 08:55:36 PM \n",
            ">> preparing features information...\t\t 2022-04-15 08:55:36 PM \n",
            ">> identifying nearest features...\t\t 2022-04-15 08:55:36 PM \n",
            ">> calculating distance from peak to TSS...\t 2022-04-15 08:55:36 PM \n",
            ">> assigning genomic annotation...\t\t 2022-04-15 08:55:36 PM \n",
            ">> adding gene annotation...\t\t\t 2022-04-15 08:55:39 PM \n"
          ]
        },
        {
          "output_type": "stream",
          "name": "stderr",
          "text": [
            "'select()' returned 1:many mapping between keys and columns\n",
            "\n"
          ]
        },
        {
          "output_type": "stream",
          "name": "stdout",
          "text": [
            ">> assigning chromosome lengths\t\t\t 2022-04-15 08:55:39 PM \n",
            ">> done...\t\t\t\t\t 2022-04-15 08:55:39 PM \n"
          ]
        }
      ]
    },
    {
      "cell_type": "code",
      "source": [
        "dat_osk <- lapply(anno_up_osk, function(x){\n",
        "  data.frame(x)\n",
        "})"
      ],
      "metadata": {
        "id": "fMHL2IZhNEQS"
      },
      "execution_count": 41,
      "outputs": []
    },
    {
      "cell_type": "markdown",
      "source": [
        "### Go enrichment Analysis"
      ],
      "metadata": {
        "id": "gZqCfx5b0m22"
      }
    },
    {
      "cell_type": "code",
      "source": [
        "go_up_osk <- lapply(dat_osk, function(a){\n",
        "  enrichGO(gene = a$geneId,\n",
        "                OrgDb         = org.Mm.eg.db,\n",
        "                ont           = \"BP\",\n",
        "                pAdjustMethod = \"BH\",\n",
        "                pvalueCutoff  = ARGS[['pvalueCutoff']],\n",
        "                qvalueCutoff  = ARGS[['qvalueCutoff']],\n",
        "        readable      = TRUE)\n",
        "}\n",
        ")"
      ],
      "metadata": {
        "id": "tJzGdeAZNEQS"
      },
      "execution_count": 42,
      "outputs": []
    },
    {
      "cell_type": "code",
      "source": [
        "top <- lapply(go_up_osk, function(g){\n",
        "   g[g$Description %in% c('extracellular matrix organization','blastocyst development','canonical Wnt signaling pathway', 'stem cell development','fibroblast growth factor receptor signaling pathway','stem cell proliferation'),]\n",
        "})\n"
      ],
      "metadata": {
        "id": "R50Vtp9NNEQT"
      },
      "execution_count": 43,
      "outputs": []
    },
    {
      "cell_type": "markdown",
      "source": [
        "## Long dataframe for OSK "
      ],
      "metadata": {
        "id": "-r9Q7ZkJNEQT"
      }
    },
    {
      "cell_type": "code",
      "source": [
        "top <- Map(cbind, top, method = as.factor(names(top)))"
      ],
      "metadata": {
        "id": "LEWCFkxRNEQT"
      },
      "execution_count": 44,
      "outputs": []
    },
    {
      "cell_type": "code",
      "source": [
        "df_osk <- do.call('rbind', top)"
      ],
      "metadata": {
        "id": "1XXF-HFGNEQU"
      },
      "execution_count": 45,
      "outputs": []
    },
    {
      "cell_type": "code",
      "source": [
        "df_osk <- df_osk[,c('ID','Description','p.adjust', 'Count', 'method','GeneRatio')]"
      ],
      "metadata": {
        "id": "uWHBG4ofNEQU"
      },
      "execution_count": 46,
      "outputs": []
    },
    {
      "cell_type": "markdown",
      "source": [
        "#Pathway Bar plot"
      ],
      "metadata": {
        "id": "Jb80b3-bNEQV"
      }
    },
    {
      "cell_type": "code",
      "source": [
        "options(repr.plot.width = 16, repr.plot.height = 8)\n",
        "df_osk %>%\n",
        "    ggplot(aes(x = Description, y = -log10(p.adjust), fill = method)) + \n",
        "      geom_bar(stat='identity', position='dodge') +\n",
        "      geom_hline(yintercept = -log10(0.05), linetype = 'dashed') +\n",
        "      coord_flip() +\n",
        "      scale_fill_manual(values = c('lightcoral','purple','cyan3')) +\n",
        "      xlab('Method') +\n",
        "      ylab('-log10(Adjusted P-value from Pathway Analysis)') +\n",
        "      ggtitle('GO terms') +\n",
        "      theme(\n",
        "           strip.text = element_text(size = 20),\n",
        "           axis.title.x = element_text(size = 30),\n",
        "           axis.title.y = element_text(size = 30),\n",
        "           axis.text.x = element_text(size = 20),\n",
        "           axis.text.y = element_text(size = 20, face = 'bold'),\n",
        "           plot.title = element_text(size=30, face='bold.italic'),\n",
        "           panel.grid.major = element_blank(), \n",
        "           panel.grid.minor = element_blank(),\n",
        "           panel.background = element_blank(), \n",
        "           axis.line = element_line(colour = \"black\")\n",
        "           ) "
      ],
      "metadata": {
        "colab": {
          "base_uri": "https://localhost:8080/",
          "height": 497
        },
        "outputId": "720aa9cd-e819-46a4-ecce-cb3b99e73301",
        "id": "U03ETVW8NEQV"
      },
      "execution_count": 47,
      "outputs": [
        {
          "output_type": "display_data",
          "data": {
            "text/plain": [
              "plot without title"
            ],
            "image/png": "[encoded data removed]"
          },
          "metadata": {
            "image/png": {
              "width": 960,
              "height": 480
            }
          }
        }
      ]
    },
    {
      "cell_type": "markdown",
      "source": [
        "# Venn Diagram showing overlap between SeATAC only, MACS2 only and NucleoATAC only regions"
      ],
      "metadata": {
        "id": "vLOJgEimSeOw"
      }
    },
    {
      "cell_type": "code",
      "source": [
        "options(repr.plot.width=4, repr.plot.height=4)\n",
        "draw.triple.venn(\n",
        "    area1 = length(down_mef[down_mef$log_ratio < -ARGS[['log_ratio_cutoff']] & down_mef$padj < ARGS[['padjusted_cutoff']]]),                         # Create venn diagram with three sets\n",
        "    area2 = length(down_mef[down_mef$macs2 > -log10(ARGS[['padjusted_cutoff']])]),\n",
        "    area3 = length(down_mef[down_mef$difference < -0.4 & down_mef$osk == TRUE]),\n",
        "    n12 = length(down_mef[down_mef$log_ratio  < -ARGS[['log_ratio_cutoff']] & down_mef$padj < ARGS[['padjusted_cutoff']] & down_mef$macs2 > -log10(ARGS[['padjusted_cutoff']])]),\n",
        "    n23 = length(down_mef[down_mef$macs2 > -log10(ARGS[['padjusted_cutoff']]) & down_mef$difference < -0.4 & down_mef$osk == TRUE]),\n",
        "    n13 = length(down_mef[down_mef$log_ratio < -ARGS[['log_ratio_cutoff']] & down_mef$padj < ARGS[['padjusted_cutoff']] & down_mef$difference < -0.4 & down_mef$osk == TRUE]), \n",
        "    n123 = length(down_mef[down_mef$log_ratio < -ARGS[['log_ratio_cutoff']] & down_mef$padj < ARGS[['padjusted_cutoff']] & down_mef$macs2 > -log10(ARGS[['padjusted_cutoff']]) & down_mef$difference < -0.4 & down_mef$osk == TRUE]),\n",
        "    category = c(\"SeATAC\", 'MACS2','NucleoATAC'), \n",
        "    lty = \"blank\", \n",
        "    fill = c(\"cyan4\", \"lightcoral\",\"purple\"),\n",
        "    scale = FALSE\n",
        "    )"
      ],
      "metadata": {
        "colab": {
          "base_uri": "https://localhost:8080/",
          "height": 295
        },
        "id": "UkrV9--Ige-V",
        "outputId": "e5a7005d-ac30-4d70-f440-e650a2308784"
      },
      "execution_count": 48,
      "outputs": [
        {
          "output_type": "display_data",
          "data": {
            "text/plain": [
              "(polygon[GRID.polygon.78], polygon[GRID.polygon.79], polygon[GRID.polygon.80], polygon[GRID.polygon.81], polygon[GRID.polygon.82], polygon[GRID.polygon.83], text[GRID.text.84], text[GRID.text.85], text[GRID.text.86], text[GRID.text.87], text[GRID.text.88], text[GRID.text.89], text[GRID.text.90], text[GRID.text.91], text[GRID.text.92], text[GRID.text.93]) "
            ]
          },
          "metadata": {}
        },
        {
          "output_type": "display_data",
          "data": {
            "text/plain": [
              "plot without title"
            ],
            "image/png": "[encoded data removed]"
          },
          "metadata": {
            "image/png": {
              "width": 240,
              "height": 240
            }
          }
        }
      ]
    },
    {
      "cell_type": "markdown",
      "source": [
        "# VPLOTS for SeATAC only, MACS2 only and NucleoATAC only regions"
      ],
      "metadata": {
        "id": "UxzrHA0elNzU"
      }
    },
    {
      "cell_type": "code",
      "source": [
        "remote_bam_files <- c(\n",
        "  MEF = 'https://s3.msi.umn.edu/dsouz072/datasets/dataset=iPSC_reprogramming_version=20200208a/MEF.dedup.bam',\n",
        "  MEF_OSK_D7 = 'https://s3.msi.umn.edu/dsouz072/datasets/dataset=iPSC_reprogramming_version=20200208a/OSK_D7.dedup.bam'\n",
        ")\n",
        "for (i in 1:length(remote_bam_files)){\n",
        "  sprintf('wget -cx %s', remote_bam_files[i]) %>% system()\n",
        "}\n",
        "local_bam_files <- gsub('https://', './', remote_bam_files)"
      ],
      "metadata": {
        "id": "9J0Vi4zb2RTF"
      },
      "execution_count": 49,
      "outputs": []
    },
    {
      "cell_type": "markdown",
      "source": [
        "## Load bed files"
      ],
      "metadata": {
        "id": "RUotUmuaXmyB"
      }
    },
    {
      "cell_type": "code",
      "source": [
        "remote_bed_files <- gsub('.bam', '_summits.bed', remote_bam_files)\n",
        "for (i in 1:length(remote_bed_files)){\n",
        "  sprintf('wget -cx %s', remote_bed_files[i]) %>% system()\n",
        "}\n",
        "local_bed_files <- gsub('https://', './', remote_bed_files)\n",
        "all(file.exists(local_bed_files))"
      ],
      "metadata": {
        "colab": {
          "base_uri": "https://localhost:8080/",
          "height": 34
        },
        "id": "o0aAEdm_XphF",
        "outputId": "4a92514e-ca9b-4535-a650-97bd86f35c55"
      },
      "execution_count": 50,
      "outputs": [
        {
          "output_type": "display_data",
          "data": {
            "text/html": [
              "TRUE"
            ],
            "text/markdown": "TRUE",
            "text/latex": "TRUE",
            "text/plain": [
              "[1] TRUE"
            ]
          },
          "metadata": {}
        }
      ]
    },
    {
      "cell_type": "markdown",
      "source": [
        "## Training VAE"
      ],
      "metadata": {
        "id": "bk8TSzjM6mdV"
      }
    },
    {
      "cell_type": "code",
      "source": [
        "models <- list()"
      ],
      "metadata": {
        "id": "-ap0R4ll7BTT"
      },
      "execution_count": 51,
      "outputs": []
    },
    {
      "cell_type": "code",
      "source": [
        "cond <- c('MEF', 'MEF_OSK_D7')"
      ],
      "metadata": {
        "id": "tNFvbnwT7XWP"
      },
      "execution_count": 52,
      "outputs": []
    },
    {
      "cell_type": "code",
      "source": [
        "gr0 <- lapply(local_bed_files[cond], function(bed_file){\n",
        "  peaks <- read.table(bed_file, header = FALSE, sep = '\\t')\n",
        "  peaks <- GRanges(seqnames = peaks[, 1], range = IRanges(start = peaks[, 2], end = peaks[, 3]))\n",
        "  peaks <- resize(peaks, fix = 'center', width = ARGS[['step_size']])\n",
        "  peaks\n",
        "}) %>%\n",
        "  GRangesList() %>%\n",
        "  coverage() %>%\n",
        "  IRanges::slice(lower = 1, rangesOnly = TRUE) %>%\n",
        "  GRanges() %>%\n",
        "  resize(fix = 'center', width = ARGS[['window_size']])\n",
        "gr0 <- gr0[!seqnames(gr0) %in% c('chrM', 'chrY')]"
      ],
      "metadata": {
        "id": "zHqblmXnqM6L"
      },
      "execution_count": 53,
      "outputs": []
    },
    {
      "cell_type": "code",
      "metadata": {
        "colab": {
          "base_uri": "https://localhost:8080/"
        },
        "outputId": "d9808a64-f39d-41ec-cc6c-4189df6c7b30",
        "id": "ffFYhb0Nxshz"
      },
      "source": [
        "gr <- slidingWindows(gr0, width = ARGS[['block_size']], step = ARGS[['sliding_step']]) %>% unlist()\n",
        "set.seed(1L); gr <- sample(gr, ARGS[['vae_num_peaks']])\n",
        "counts <- count_reads(gr, local_bam_files[cond], genome = BSgenome.Mmusculus.UCSC.mm10,  fragment_size_range = c(0, ARGS[['fragment_size_range_max']]))"
      ],
      "execution_count": 54,
      "outputs": [
        {
          "output_type": "stream",
          "name": "stderr",
          "text": [
            "validate_bam | indexing bam files: ./s3.msi.umn.edu/dsouz072/datasets/dataset=iPSC_reprogramming_version=20200208a/MEF.dedup.bam\n",
            "\n",
            "read_bam | reading ./s3.msi.umn.edu/dsouz072/datasets/dataset=iPSC_reprogramming_version=20200208a/MEF.dedup.bam\n",
            "\n",
            "validate_bam | indexing bam files: ./s3.msi.umn.edu/dsouz072/datasets/dataset=iPSC_reprogramming_version=20200208a/OSK_D7.dedup.bam\n",
            "\n",
            "read_bam | reading ./s3.msi.umn.edu/dsouz072/datasets/dataset=iPSC_reprogramming_version=20200208a/OSK_D7.dedup.bam\n",
            "\n"
          ]
        }
      ]
    },
    {
      "cell_type": "code",
      "metadata": {
        "colab": {
          "base_uri": "https://localhost:8080/"
        },
        "outputId": "636ba9b2-4573-4914-9e60-ddb4836f4dda",
        "id": "aSfnrGj7xshz"
      },
      "source": [
        "valid <- rowSums(counts >= ARGS[['min_reads']]) == length(cond)\n",
        "gr <- gr[valid]\n",
        "sprintf('number of training peaks for VaeModel: %d', length(gr)) %>% message()"
      ],
      "execution_count": 55,
      "outputs": [
        {
          "output_type": "stream",
          "name": "stderr",
          "text": [
            "number of training peaks for VaeModel: 2950\n",
            "\n"
          ]
        }
      ]
    },
    {
      "cell_type": "code",
      "source": [
        "x <- read_vplot(\n",
        "  gr, \n",
        "  filenames = local_bam_files[cond], \n",
        "  genome = BSgenome.Mmusculus.UCSC.mm10, \n",
        "  bin_size = ARGS[['bin_size']], \n",
        "  fragment_size_range = c(0, ARGS[['fragment_size_range_max']]), \n",
        "  fragment_size_interval = ARGS[['fragment_size_interval']]\n",
        ")"
      ],
      "metadata": {
        "colab": {
          "base_uri": "https://localhost:8080/"
        },
        "id": "VvwQSvqeq6xN",
        "outputId": "688e7b92-9908-4743-af45-6910ee50023b"
      },
      "execution_count": 56,
      "outputs": [
        {
          "output_type": "stream",
          "name": "stderr",
          "text": [
            "read_bam | reading ./s3.msi.umn.edu/dsouz072/datasets/dataset=iPSC_reprogramming_version=20200208a/MEF.dedup.bam\n",
            "\n",
            "read_bam | reading ./s3.msi.umn.edu/dsouz072/datasets/dataset=iPSC_reprogramming_version=20200208a/OSK_D7.dedup.bam\n",
            "\n"
          ]
        }
      ]
    },
    {
      "cell_type": "code",
      "metadata": {
        "colab": {
          "base_uri": "https://localhost:8080/"
        },
        "outputId": "62020532-9a4d-47fb-a6a6-720560cfc2d3",
        "id": "DF8-Nf4cqBJ1"
      },
      "source": [
        "model <- new('VaeModel', model = VaeModel(\n",
        "  n_samples = dim(x)['sample'],\n",
        "  latent_dim = ARGS[['vae_latent']],\n",
        "  block_size = ARGS[['block_size']],\n",
        "  bin_size = ARGS[['bin_size']],\n",
        "  filters0 = ARGS[['vae_filters0']],\n",
        "  filters = ARGS[['vae_filters']],\n",
        "  upsample_layers = ARGS[['vae_upsample_layers']],\n",
        "  downsample_layers = ARGS[['vae_downsample_layers']],\n",
        "  fragment_size_range  = c(0, ARGS[['fragment_size_range_max']]),\n",
        "  fragment_size_interval = ARGS[['fragment_size_interval']]\n",
        "))\n",
        "lr <- WarmUpAndCosineDecay(\n",
        "  base_learning_rate = ARGS[['vae_base_learning_rate']],\n",
        "  num_examples = nrow(x),\n",
        "  batch_size = ARGS[['vae_batch_size']],\n",
        "  epochs = ARGS[['vae_epochs']],\n",
        "  warmup_epochs = as.integer(ARGS[['vae_epochs']] * ARGS[['vae_warmup_ratio']])\n",
        ")\n",
        "beta <- beta_schedule(\n",
        "  method = ARGS[['vae_beta_schedule_method']],\n",
        "  beta0 = ARGS[['vae_beta0']],\n",
        "  epochs = ARGS[['vae_epochs']]\n",
        ")\n",
        "d <- model %>% prepare_data(x)\n",
        "d <- d %>% tensor_slices_dataset()\n",
        "models[['MEF']] <- model %>% fit(d, batch_size =  ARGS[['vae_batch_size']], epochs = ARGS[['vae_epochs']], learning_rate = lr, compile = TRUE, beta = beta)"
      ],
      "execution_count": 57,
      "outputs": [
        {
          "output_type": "stream",
          "name": "stderr",
          "text": [
            "epoch=     1/   200 | beta=1.000e+00 | loss= 3456.6676839 | loss_reconstruction= 3456.1569417 | loss_kl=    0.5107302\n",
            "\n",
            "epoch=     2/   200 | beta=1.000e+00 | loss= 2891.1790975 | loss_reconstruction= 2890.6681213 | loss_kl=    0.5109636\n",
            "\n",
            "epoch=     3/   200 | beta=1.000e+00 | loss= 2546.5509440 | loss_reconstruction= 2545.7879944 | loss_kl=    0.7629256\n",
            "\n",
            "epoch=     4/   200 | beta=1.000e+00 | loss= 2246.8249105 | loss_reconstruction= 2246.1040548 | loss_kl=    0.7208610\n",
            "\n",
            "epoch=     5/   200 | beta=1.000e+00 | loss= 1859.1099701 | loss_reconstruction= 1858.5486857 | loss_kl=    0.5612771\n",
            "\n",
            "epoch=     6/   200 | beta=1.000e+00 | loss= 1397.9871623 | loss_reconstruction= 1397.6749471 | loss_kl=    0.3122098\n",
            "\n",
            "epoch=     7/   200 | beta=1.000e+00 | loss=  953.4414876 | loss_reconstruction=  953.3719050 | loss_kl=    0.0695785\n",
            "\n",
            "epoch=     8/   200 | beta=1.000e+00 | loss=  628.2882385 | loss_reconstruction=  628.2596944 | loss_kl=    0.0285402\n",
            "\n",
            "epoch=     9/   200 | beta=1.000e+00 | loss=  442.0773468 | loss_reconstruction=  442.0260735 | loss_kl=    0.0512761\n",
            "\n",
            "epoch=    10/   200 | beta=1.000e+00 | loss=  348.0316035 | loss_reconstruction=  347.7915192 | loss_kl=    0.2400836\n",
            "\n",
            "epoch=    11/   200 | beta=1.000e+00 | loss=  300.0977491 | loss_reconstruction=  299.4066836 | loss_kl=    0.6910642\n",
            "\n",
            "epoch=    12/   200 | beta=1.000e+00 | loss=  273.0435034 | loss_reconstruction=  271.9135361 | loss_kl=    1.1299663\n",
            "\n",
            "epoch=    13/   200 | beta=1.000e+00 | loss=  257.2717361 | loss_reconstruction=  255.3262018 | loss_kl=    1.9455339\n",
            "\n",
            "epoch=    14/   200 | beta=1.000e+00 | loss=  247.6483059 | loss_reconstruction=  245.5126629 | loss_kl=    2.1356440\n",
            "\n",
            "epoch=    15/   200 | beta=1.000e+00 | loss=  242.0334937 | loss_reconstruction=  239.5065702 | loss_kl=    2.5269228\n",
            "\n",
            "epoch=    16/   200 | beta=1.000e+00 | loss=  237.5907180 | loss_reconstruction=  234.0596390 | loss_kl=    3.5310786\n",
            "\n",
            "epoch=    17/   200 | beta=1.000e+00 | loss=  233.3270086 | loss_reconstruction=  229.2695427 | loss_kl=    4.0574672\n",
            "\n",
            "epoch=    18/   200 | beta=1.000e+00 | loss=  231.0627365 | loss_reconstruction=  227.0842292 | loss_kl=    3.9785072\n",
            "\n",
            "epoch=    19/   200 | beta=1.000e+00 | loss=  228.7469985 | loss_reconstruction=  224.9363569 | loss_kl=    3.8106428\n",
            "\n",
            "epoch=    20/   200 | beta=1.000e+00 | loss=  226.4147364 | loss_reconstruction=  222.3728606 | loss_kl=    4.0418763\n",
            "\n",
            "epoch=    21/   200 | beta=1.000e+00 | loss=  223.9023393 | loss_reconstruction=  219.7698816 | loss_kl=    4.1324577\n",
            "\n",
            "epoch=    22/   200 | beta=1.000e+00 | loss=  222.2596169 | loss_reconstruction=  217.9578177 | loss_kl=    4.3017994\n",
            "\n",
            "epoch=    23/   200 | beta=1.000e+00 | loss=  221.4747168 | loss_reconstruction=  217.0393537 | loss_kl=    4.4353618\n",
            "\n",
            "epoch=    24/   200 | beta=1.000e+00 | loss=  220.9463317 | loss_reconstruction=  216.3599510 | loss_kl=    4.5863808\n",
            "\n",
            "epoch=    25/   200 | beta=1.000e+00 | loss=  219.9917761 | loss_reconstruction=  215.4325136 | loss_kl=    4.5592623\n",
            "\n",
            "epoch=    26/   200 | beta=1.000e+00 | loss=  219.6474253 | loss_reconstruction=  214.9333553 | loss_kl=    4.7140702\n",
            "\n",
            "epoch=    27/   200 | beta=1.000e+00 | loss=  219.2542992 | loss_reconstruction=  214.4365107 | loss_kl=    4.8177881\n",
            "\n",
            "epoch=    28/   200 | beta=1.000e+00 | loss=  218.9111805 | loss_reconstruction=  214.1305822 | loss_kl=    4.7805974\n",
            "\n",
            "epoch=    29/   200 | beta=1.000e+00 | loss=  218.9969800 | loss_reconstruction=  214.0937188 | loss_kl=    4.9032599\n",
            "\n",
            "epoch=    30/   200 | beta=1.000e+00 | loss=  218.6718241 | loss_reconstruction=  213.7856426 | loss_kl=    4.8861824\n",
            "\n",
            "epoch=    31/   200 | beta=1.000e+00 | loss=  218.6883736 | loss_reconstruction=  213.6110255 | loss_kl=    5.0773478\n",
            "\n",
            "epoch=    32/   200 | beta=1.000e+00 | loss=  218.2223587 | loss_reconstruction=  213.2784621 | loss_kl=    4.9438969\n",
            "\n",
            "epoch=    33/   200 | beta=1.000e+00 | loss=  218.3210945 | loss_reconstruction=  213.2602787 | loss_kl=    5.0608161\n",
            "\n",
            "epoch=    34/   200 | beta=1.000e+00 | loss=  217.8526948 | loss_reconstruction=  212.7721316 | loss_kl=    5.0805637\n",
            "\n",
            "epoch=    35/   200 | beta=1.000e+00 | loss=  217.7759418 | loss_reconstruction=  212.6727829 | loss_kl=    5.1031583\n",
            "\n",
            "epoch=    36/   200 | beta=1.000e+00 | loss=  217.6830476 | loss_reconstruction=  212.5654303 | loss_kl=    5.1176161\n",
            "\n",
            "epoch=    37/   200 | beta=1.000e+00 | loss=  217.6020145 | loss_reconstruction=  212.4730816 | loss_kl=    5.1289335\n",
            "\n",
            "epoch=    38/   200 | beta=1.000e+00 | loss=  217.4538085 | loss_reconstruction=  212.2941354 | loss_kl=    5.1596745\n",
            "\n",
            "epoch=    39/   200 | beta=1.000e+00 | loss=  217.3468310 | loss_reconstruction=  212.2295513 | loss_kl=    5.1172802\n",
            "\n",
            "epoch=    40/   200 | beta=1.000e+00 | loss=  217.3596032 | loss_reconstruction=  212.1769937 | loss_kl=    5.1826101\n",
            "\n",
            "epoch=    41/   200 | beta=1.000e+00 | loss=  217.4625632 | loss_reconstruction=  212.2331193 | loss_kl=    5.2294421\n",
            "\n",
            "epoch=    42/   200 | beta=1.000e+00 | loss=  217.0534916 | loss_reconstruction=  211.8654772 | loss_kl=    5.1880158\n",
            "\n",
            "epoch=    43/   200 | beta=1.000e+00 | loss=  217.1422939 | loss_reconstruction=  211.8795783 | loss_kl=    5.2627134\n",
            "\n",
            "epoch=    44/   200 | beta=1.000e+00 | loss=  216.7066383 | loss_reconstruction=  211.4292444 | loss_kl=    5.2773946\n",
            "\n",
            "epoch=    45/   200 | beta=1.000e+00 | loss=  216.7081890 | loss_reconstruction=  211.3559030 | loss_kl=    5.3522871\n",
            "\n",
            "epoch=    46/   200 | beta=1.000e+00 | loss=  216.5063044 | loss_reconstruction=  211.2340031 | loss_kl=    5.2723007\n",
            "\n",
            "epoch=    47/   200 | beta=1.000e+00 | loss=  216.7610881 | loss_reconstruction=  211.4143562 | loss_kl=    5.3467331\n",
            "\n",
            "epoch=    48/   200 | beta=1.000e+00 | loss=  217.0511131 | loss_reconstruction=  211.7393017 | loss_kl=    5.3118122\n",
            "\n",
            "epoch=    49/   200 | beta=1.000e+00 | loss=  216.4379476 | loss_reconstruction=  211.1446571 | loss_kl=    5.2932910\n",
            "\n",
            "epoch=    50/   200 | beta=1.000e+00 | loss=  216.4559663 | loss_reconstruction=  211.0011145 | loss_kl=    5.4548515\n",
            "\n",
            "epoch=    51/   200 | beta=1.000e+00 | loss=  216.8085683 | loss_reconstruction=  211.4343923 | loss_kl=    5.3741754\n",
            "\n",
            "epoch=    52/   200 | beta=1.000e+00 | loss=  216.4484304 | loss_reconstruction=  211.0492617 | loss_kl=    5.3991686\n",
            "\n",
            "epoch=    53/   200 | beta=1.000e+00 | loss=  216.6659209 | loss_reconstruction=  211.2109661 | loss_kl=    5.4549554\n",
            "\n",
            "epoch=    54/   200 | beta=1.000e+00 | loss=  216.3352210 | loss_reconstruction=  210.9968719 | loss_kl=    5.3383483\n",
            "\n",
            "epoch=    55/   200 | beta=1.000e+00 | loss=  216.1231562 | loss_reconstruction=  210.7094784 | loss_kl=    5.4136783\n",
            "\n",
            "epoch=    56/   200 | beta=1.000e+00 | loss=  216.1839511 | loss_reconstruction=  210.7343292 | loss_kl=    5.4496216\n",
            "\n",
            "epoch=    57/   200 | beta=1.000e+00 | loss=  216.7380155 | loss_reconstruction=  211.2910938 | loss_kl=    5.4469208\n",
            "\n",
            "epoch=    58/   200 | beta=1.000e+00 | loss=  216.0422675 | loss_reconstruction=  210.6126728 | loss_kl=    5.4295951\n",
            "\n",
            "epoch=    59/   200 | beta=1.000e+00 | loss=  216.0791976 | loss_reconstruction=  210.5239607 | loss_kl=    5.5552360\n",
            "\n",
            "epoch=    60/   200 | beta=1.000e+00 | loss=  216.0351295 | loss_reconstruction=  210.4076036 | loss_kl=    5.6275259\n",
            "\n",
            "epoch=    61/   200 | beta=1.000e+00 | loss=  215.9958814 | loss_reconstruction=  210.5222225 | loss_kl=    5.4736592\n",
            "\n",
            "epoch=    62/   200 | beta=1.000e+00 | loss=  215.7330666 | loss_reconstruction=  210.2386614 | loss_kl=    5.4944048\n",
            "\n",
            "epoch=    63/   200 | beta=1.000e+00 | loss=  215.4000848 | loss_reconstruction=  209.8989220 | loss_kl=    5.5011621\n",
            "\n",
            "epoch=    64/   200 | beta=1.000e+00 | loss=  215.6245855 | loss_reconstruction=  210.0469666 | loss_kl=    5.5776190\n",
            "\n",
            "epoch=    65/   200 | beta=1.000e+00 | loss=  215.4898141 | loss_reconstruction=  209.8798262 | loss_kl=    5.6099884\n",
            "\n",
            "epoch=    66/   200 | beta=1.000e+00 | loss=  215.3581765 | loss_reconstruction=  209.6787548 | loss_kl=    5.6794214\n",
            "\n",
            "epoch=    67/   200 | beta=1.000e+00 | loss=  215.3796978 | loss_reconstruction=  209.9091110 | loss_kl=    5.4705859\n",
            "\n",
            "epoch=    68/   200 | beta=1.000e+00 | loss=  215.7176755 | loss_reconstruction=  209.9899451 | loss_kl=    5.7277298\n",
            "\n",
            "epoch=    69/   200 | beta=1.000e+00 | loss=  215.9221592 | loss_reconstruction=  210.3000654 | loss_kl=    5.6220924\n",
            "\n",
            "epoch=    70/   200 | beta=1.000e+00 | loss=  214.9085070 | loss_reconstruction=  209.3053436 | loss_kl=    5.6031634\n",
            "\n",
            "epoch=    71/   200 | beta=1.000e+00 | loss=  214.9117508 | loss_reconstruction=  209.2626330 | loss_kl=    5.6491153\n",
            "\n",
            "epoch=    72/   200 | beta=1.000e+00 | loss=  214.8719819 | loss_reconstruction=  209.2787069 | loss_kl=    5.5932757\n",
            "\n",
            "epoch=    73/   200 | beta=1.000e+00 | loss=  214.6216971 | loss_reconstruction=  209.0385939 | loss_kl=    5.5831033\n",
            "\n",
            "epoch=    74/   200 | beta=1.000e+00 | loss=  215.2053172 | loss_reconstruction=  209.4488672 | loss_kl=    5.7564499\n",
            "\n",
            "epoch=    75/   200 | beta=1.000e+00 | loss=  215.0056667 | loss_reconstruction=  209.3282782 | loss_kl=    5.6773884\n",
            "\n",
            "epoch=    76/   200 | beta=1.000e+00 | loss=  214.9309858 | loss_reconstruction=  209.2393328 | loss_kl=    5.6916540\n",
            "\n",
            "epoch=    77/   200 | beta=1.000e+00 | loss=  215.0776482 | loss_reconstruction=  209.2899818 | loss_kl=    5.7876662\n",
            "\n",
            "epoch=    78/   200 | beta=1.000e+00 | loss=  215.0953070 | loss_reconstruction=  209.3810552 | loss_kl=    5.7142518\n",
            "\n",
            "epoch=    79/   200 | beta=1.000e+00 | loss=  214.6223278 | loss_reconstruction=  208.9024607 | loss_kl=    5.7198664\n",
            "\n",
            "epoch=    80/   200 | beta=1.000e+00 | loss=  214.2838726 | loss_reconstruction=  208.5968692 | loss_kl=    5.6870039\n",
            "\n",
            "epoch=    81/   200 | beta=1.000e+00 | loss=  214.2558753 | loss_reconstruction=  208.4943129 | loss_kl=    5.7615624\n",
            "\n",
            "epoch=    82/   200 | beta=1.000e+00 | loss=  214.2323939 | loss_reconstruction=  208.3906008 | loss_kl=    5.8417926\n",
            "\n",
            "epoch=    83/   200 | beta=1.000e+00 | loss=  213.7291902 | loss_reconstruction=  208.0542151 | loss_kl=    5.6749747\n",
            "\n",
            "epoch=    84/   200 | beta=1.000e+00 | loss=  214.2710368 | loss_reconstruction=  208.4203351 | loss_kl=    5.8507018\n",
            "\n",
            "epoch=    85/   200 | beta=1.000e+00 | loss=  214.2900136 | loss_reconstruction=  208.4658235 | loss_kl=    5.8241913\n",
            "\n",
            "epoch=    86/   200 | beta=1.000e+00 | loss=  213.9008013 | loss_reconstruction=  208.0286210 | loss_kl=    5.8721791\n",
            "\n",
            "epoch=    87/   200 | beta=1.000e+00 | loss=  213.9463921 | loss_reconstruction=  208.1170629 | loss_kl=    5.8293299\n",
            "\n",
            "epoch=    88/   200 | beta=1.000e+00 | loss=  214.3911279 | loss_reconstruction=  208.5086397 | loss_kl=    5.8824888\n",
            "\n",
            "epoch=    89/   200 | beta=1.000e+00 | loss=  213.5445646 | loss_reconstruction=  207.7818584 | loss_kl=    5.7627054\n",
            "\n",
            "epoch=    90/   200 | beta=1.000e+00 | loss=  213.5307153 | loss_reconstruction=  207.5911585 | loss_kl=    5.9395556\n",
            "\n",
            "epoch=    91/   200 | beta=1.000e+00 | loss=  213.6421191 | loss_reconstruction=  207.6873099 | loss_kl=    5.9548107\n",
            "\n",
            "epoch=    92/   200 | beta=1.000e+00 | loss=  213.3381176 | loss_reconstruction=  207.5337543 | loss_kl=    5.8043629\n",
            "\n",
            "epoch=    93/   200 | beta=1.000e+00 | loss=  212.6708450 | loss_reconstruction=  206.8590565 | loss_kl=    5.8117875\n",
            "\n",
            "epoch=    94/   200 | beta=1.000e+00 | loss=  213.6947880 | loss_reconstruction=  207.8881124 | loss_kl=    5.8066761\n",
            "\n",
            "epoch=    95/   200 | beta=1.000e+00 | loss=  213.5378323 | loss_reconstruction=  207.6456445 | loss_kl=    5.8921871\n",
            "\n",
            "epoch=    96/   200 | beta=1.000e+00 | loss=  213.3103835 | loss_reconstruction=  207.5107419 | loss_kl=    5.7996428\n",
            "\n",
            "epoch=    97/   200 | beta=1.000e+00 | loss=  212.8615131 | loss_reconstruction=  206.9488373 | loss_kl=    5.9126761\n",
            "\n",
            "epoch=    98/   200 | beta=1.000e+00 | loss=  212.9862130 | loss_reconstruction=  207.0795902 | loss_kl=    5.9066241\n",
            "\n",
            "epoch=    99/   200 | beta=1.000e+00 | loss=  213.7323138 | loss_reconstruction=  207.7585866 | loss_kl=    5.9737266\n",
            "\n",
            "epoch=   100/   200 | beta=1.000e+00 | loss=  213.6154594 | loss_reconstruction=  207.7194487 | loss_kl=    5.8960096\n",
            "\n",
            "epoch=   101/   200 | beta=1.000e+00 | loss=  212.1745586 | loss_reconstruction=  206.3788137 | loss_kl=    5.7957458\n",
            "\n",
            "epoch=   102/   200 | beta=1.000e+00 | loss=  211.8616454 | loss_reconstruction=  205.8985917 | loss_kl=    5.9630524\n",
            "\n",
            "epoch=   103/   200 | beta=1.000e+00 | loss=  211.7132600 | loss_reconstruction=  205.7027206 | loss_kl=    6.0105391\n",
            "\n",
            "epoch=   104/   200 | beta=1.000e+00 | loss=  212.0228726 | loss_reconstruction=  206.0742073 | loss_kl=    5.9486641\n",
            "\n",
            "epoch=   105/   200 | beta=1.000e+00 | loss=  213.1232109 | loss_reconstruction=  206.8762716 | loss_kl=    6.2469393\n",
            "\n",
            "epoch=   106/   200 | beta=1.000e+00 | loss=  212.5415249 | loss_reconstruction=  206.7598022 | loss_kl=    5.7817229\n",
            "\n",
            "epoch=   107/   200 | beta=1.000e+00 | loss=  212.4978155 | loss_reconstruction=  206.4987100 | loss_kl=    5.9991051\n",
            "\n",
            "epoch=   108/   200 | beta=1.000e+00 | loss=  214.4234066 | loss_reconstruction=  208.3907512 | loss_kl=    6.0326563\n",
            "\n",
            "epoch=   109/   200 | beta=1.000e+00 | loss=  214.4756336 | loss_reconstruction=  208.6135120 | loss_kl=    5.8621225\n",
            "\n",
            "epoch=   110/   200 | beta=1.000e+00 | loss=  211.6008914 | loss_reconstruction=  205.7237358 | loss_kl=    5.8771558\n",
            "\n",
            "epoch=   111/   200 | beta=1.000e+00 | loss=  210.8973258 | loss_reconstruction=  204.9685119 | loss_kl=    5.9288144\n",
            "\n",
            "epoch=   112/   200 | beta=1.000e+00 | loss=  210.4592768 | loss_reconstruction=  204.5396013 | loss_kl=    5.9196768\n",
            "\n",
            "epoch=   113/   200 | beta=1.000e+00 | loss=  210.2083934 | loss_reconstruction=  204.1965837 | loss_kl=    6.0118096\n",
            "\n",
            "epoch=   114/   200 | beta=1.000e+00 | loss=  210.5356801 | loss_reconstruction=  204.5138419 | loss_kl=    6.0218393\n",
            "\n",
            "epoch=   115/   200 | beta=1.000e+00 | loss=  212.3255091 | loss_reconstruction=  205.9779873 | loss_kl=    6.3475214\n",
            "\n",
            "epoch=   116/   200 | beta=1.000e+00 | loss=  211.0850881 | loss_reconstruction=  205.3934374 | loss_kl=    5.6916504\n",
            "\n",
            "epoch=   117/   200 | beta=1.000e+00 | loss=  211.1406358 | loss_reconstruction=  205.0511567 | loss_kl=    6.0894799\n",
            "\n",
            "epoch=   118/   200 | beta=1.000e+00 | loss=  210.5940736 | loss_reconstruction=  204.5764580 | loss_kl=    6.0176148\n",
            "\n",
            "epoch=   119/   200 | beta=1.000e+00 | loss=  209.7638569 | loss_reconstruction=  203.7827059 | loss_kl=    5.9811527\n",
            "\n",
            "epoch=   120/   200 | beta=1.000e+00 | loss=  209.7457294 | loss_reconstruction=  203.6172465 | loss_kl=    6.1284826\n",
            "\n",
            "epoch=   121/   200 | beta=1.000e+00 | loss=  209.6171776 | loss_reconstruction=  203.5785001 | loss_kl=    6.0386784\n",
            "\n",
            "epoch=   122/   200 | beta=1.000e+00 | loss=  209.2352451 | loss_reconstruction=  203.1263757 | loss_kl=    6.1088706\n",
            "\n",
            "epoch=   123/   200 | beta=1.000e+00 | loss=  209.4603786 | loss_reconstruction=  203.4086151 | loss_kl=    6.0517638\n",
            "\n",
            "epoch=   124/   200 | beta=1.000e+00 | loss=  209.0160726 | loss_reconstruction=  202.9722851 | loss_kl=    6.0437894\n",
            "\n",
            "epoch=   125/   200 | beta=1.000e+00 | loss=  209.0749286 | loss_reconstruction=  202.9532027 | loss_kl=    6.1217263\n",
            "\n",
            "epoch=   126/   200 | beta=1.000e+00 | loss=  208.9807555 | loss_reconstruction=  203.0210992 | loss_kl=    5.9596557\n",
            "\n",
            "epoch=   127/   200 | beta=1.000e+00 | loss=  209.4952513 | loss_reconstruction=  203.3823412 | loss_kl=    6.1129097\n",
            "\n",
            "epoch=   128/   200 | beta=1.000e+00 | loss=  210.1507584 | loss_reconstruction=  204.2035592 | loss_kl=    5.9471982\n",
            "\n",
            "epoch=   129/   200 | beta=1.000e+00 | loss=  209.5040118 | loss_reconstruction=  203.3705923 | loss_kl=    6.1334187\n",
            "\n",
            "epoch=   130/   200 | beta=1.000e+00 | loss=  208.7753792 | loss_reconstruction=  202.7154469 | loss_kl=    6.0599324\n",
            "\n",
            "epoch=   131/   200 | beta=1.000e+00 | loss=  208.2636735 | loss_reconstruction=  202.2014254 | loss_kl=    6.0622502\n",
            "\n",
            "epoch=   132/   200 | beta=1.000e+00 | loss=  208.4744479 | loss_reconstruction=  202.3532844 | loss_kl=    6.1211642\n",
            "\n",
            "epoch=   133/   200 | beta=1.000e+00 | loss=  208.5478217 | loss_reconstruction=  202.4014950 | loss_kl=    6.1463275\n",
            "\n",
            "epoch=   134/   200 | beta=1.000e+00 | loss=  207.9101520 | loss_reconstruction=  201.8029030 | loss_kl=    6.1072498\n",
            "\n",
            "epoch=   135/   200 | beta=1.000e+00 | loss=  207.8040767 | loss_reconstruction=  201.7412167 | loss_kl=    6.0628597\n",
            "\n",
            "epoch=   136/   200 | beta=1.000e+00 | loss=  207.6251723 | loss_reconstruction=  201.4870445 | loss_kl=    6.1381286\n",
            "\n",
            "epoch=   137/   200 | beta=1.000e+00 | loss=  207.6489070 | loss_reconstruction=  201.5198231 | loss_kl=    6.1290841\n",
            "\n",
            "epoch=   138/   200 | beta=1.000e+00 | loss=  207.4419305 | loss_reconstruction=  201.2607869 | loss_kl=    6.1811440\n",
            "\n",
            "epoch=   139/   200 | beta=1.000e+00 | loss=  207.2861376 | loss_reconstruction=  201.1066405 | loss_kl=    6.1794959\n",
            "\n",
            "epoch=   140/   200 | beta=1.000e+00 | loss=  207.2468554 | loss_reconstruction=  200.9900111 | loss_kl=    6.2568440\n",
            "\n",
            "epoch=   141/   200 | beta=1.000e+00 | loss=  207.1081295 | loss_reconstruction=  200.9910453 | loss_kl=    6.1170852\n",
            "\n",
            "epoch=   142/   200 | beta=1.000e+00 | loss=  207.1293794 | loss_reconstruction=  200.9444184 | loss_kl=    6.1849629\n",
            "\n",
            "epoch=   143/   200 | beta=1.000e+00 | loss=  206.9878173 | loss_reconstruction=  200.8183726 | loss_kl=    6.1694457\n",
            "\n",
            "epoch=   144/   200 | beta=1.000e+00 | loss=  207.0245438 | loss_reconstruction=  200.8039316 | loss_kl=    6.2206109\n",
            "\n",
            "epoch=   145/   200 | beta=1.000e+00 | loss=  206.9340908 | loss_reconstruction=  200.6506747 | loss_kl=    6.2834165\n",
            "\n",
            "epoch=   146/   200 | beta=1.000e+00 | loss=  206.9290953 | loss_reconstruction=  200.7014937 | loss_kl=    6.2276011\n",
            "\n",
            "epoch=   147/   200 | beta=1.000e+00 | loss=  206.9124784 | loss_reconstruction=  200.6149413 | loss_kl=    6.2975380\n",
            "\n",
            "epoch=   148/   200 | beta=1.000e+00 | loss=  206.7139978 | loss_reconstruction=  200.4373233 | loss_kl=    6.2766756\n",
            "\n",
            "epoch=   149/   200 | beta=1.000e+00 | loss=  206.5681934 | loss_reconstruction=  200.3616003 | loss_kl=    6.2065926\n",
            "\n",
            "epoch=   150/   200 | beta=1.000e+00 | loss=  206.5256960 | loss_reconstruction=  200.3368629 | loss_kl=    6.1888334\n",
            "\n",
            "epoch=   151/   200 | beta=1.000e+00 | loss=  206.4260778 | loss_reconstruction=  200.1814327 | loss_kl=    6.2446456\n",
            "\n",
            "epoch=   152/   200 | beta=1.000e+00 | loss=  206.3496464 | loss_reconstruction=  200.1550009 | loss_kl=    6.1946457\n",
            "\n",
            "epoch=   153/   200 | beta=1.000e+00 | loss=  206.3814503 | loss_reconstruction=  200.1168152 | loss_kl=    6.2646363\n",
            "\n",
            "epoch=   154/   200 | beta=1.000e+00 | loss=  206.2903528 | loss_reconstruction=  199.9996358 | loss_kl=    6.2907159\n",
            "\n",
            "epoch=   155/   200 | beta=1.000e+00 | loss=  206.2827142 | loss_reconstruction=  199.9942942 | loss_kl=    6.2884201\n",
            "\n",
            "epoch=   156/   200 | beta=1.000e+00 | loss=  206.1804412 | loss_reconstruction=  200.0133905 | loss_kl=    6.1670495\n",
            "\n",
            "epoch=   157/   200 | beta=1.000e+00 | loss=  206.1260640 | loss_reconstruction=  199.8739017 | loss_kl=    6.2521628\n",
            "\n",
            "epoch=   158/   200 | beta=1.000e+00 | loss=  206.2264336 | loss_reconstruction=  199.8587221 | loss_kl=    6.3677119\n",
            "\n",
            "epoch=   159/   200 | beta=1.000e+00 | loss=  206.0857401 | loss_reconstruction=  199.8392293 | loss_kl=    6.2465090\n",
            "\n",
            "epoch=   160/   200 | beta=1.000e+00 | loss=  206.1106558 | loss_reconstruction=  199.8116038 | loss_kl=    6.2990536\n",
            "\n",
            "epoch=   161/   200 | beta=1.000e+00 | loss=  206.0234509 | loss_reconstruction=  199.7683296 | loss_kl=    6.2551205\n",
            "\n",
            "epoch=   162/   200 | beta=1.000e+00 | loss=  205.9976506 | loss_reconstruction=  199.6759529 | loss_kl=    6.3216968\n",
            "\n",
            "epoch=   163/   200 | beta=1.000e+00 | loss=  206.0142266 | loss_reconstruction=  199.7527651 | loss_kl=    6.2614618\n",
            "\n",
            "epoch=   164/   200 | beta=1.000e+00 | loss=  205.9516535 | loss_reconstruction=  199.6072318 | loss_kl=    6.3444200\n",
            "\n",
            "epoch=   165/   200 | beta=1.000e+00 | loss=  205.9942290 | loss_reconstruction=  199.6661103 | loss_kl=    6.3281188\n",
            "\n",
            "epoch=   166/   200 | beta=1.000e+00 | loss=  205.8801322 | loss_reconstruction=  199.4936370 | loss_kl=    6.3864949\n",
            "\n",
            "epoch=   167/   200 | beta=1.000e+00 | loss=  205.9119078 | loss_reconstruction=  199.5757695 | loss_kl=    6.3361390\n",
            "\n",
            "epoch=   168/   200 | beta=1.000e+00 | loss=  205.8981368 | loss_reconstruction=  199.6079913 | loss_kl=    6.2901436\n",
            "\n",
            "epoch=   169/   200 | beta=1.000e+00 | loss=  205.7971234 | loss_reconstruction=  199.3592970 | loss_kl=    6.4378271\n",
            "\n",
            "epoch=   170/   200 | beta=1.000e+00 | loss=  205.7773140 | loss_reconstruction=  199.4394862 | loss_kl=    6.3378284\n",
            "\n",
            "epoch=   171/   200 | beta=1.000e+00 | loss=  205.7922045 | loss_reconstruction=  199.4705037 | loss_kl=    6.3216991\n",
            "\n",
            "epoch=   172/   200 | beta=1.000e+00 | loss=  205.7233823 | loss_reconstruction=  199.3865292 | loss_kl=    6.3368516\n",
            "\n",
            "epoch=   173/   200 | beta=1.000e+00 | loss=  205.6843853 | loss_reconstruction=  199.3141665 | loss_kl=    6.3702180\n",
            "\n",
            "epoch=   174/   200 | beta=1.000e+00 | loss=  205.6473888 | loss_reconstruction=  199.3604034 | loss_kl=    6.2869850\n",
            "\n",
            "epoch=   175/   200 | beta=1.000e+00 | loss=  205.6937782 | loss_reconstruction=  199.3609413 | loss_kl=    6.3328371\n",
            "\n",
            "epoch=   176/   200 | beta=1.000e+00 | loss=  205.6806046 | loss_reconstruction=  199.3697331 | loss_kl=    6.3108717\n",
            "\n",
            "epoch=   177/   200 | beta=1.000e+00 | loss=  205.6503789 | loss_reconstruction=  199.2777948 | loss_kl=    6.3725840\n",
            "\n",
            "epoch=   178/   200 | beta=1.000e+00 | loss=  205.6697515 | loss_reconstruction=  199.3541584 | loss_kl=    6.3155941\n",
            "\n",
            "epoch=   179/   200 | beta=1.000e+00 | loss=  205.6330047 | loss_reconstruction=  199.2477899 | loss_kl=    6.3852150\n",
            "\n",
            "epoch=   180/   200 | beta=1.000e+00 | loss=  205.6210108 | loss_reconstruction=  199.2079961 | loss_kl=    6.4130147\n",
            "\n",
            "epoch=   181/   200 | beta=1.000e+00 | loss=  205.6044601 | loss_reconstruction=  199.2876053 | loss_kl=    6.3168568\n",
            "\n",
            "epoch=   182/   200 | beta=1.000e+00 | loss=  205.5587632 | loss_reconstruction=  199.2203422 | loss_kl=    6.3384206\n",
            "\n",
            "epoch=   183/   200 | beta=1.000e+00 | loss=  205.5612095 | loss_reconstruction=  199.2124920 | loss_kl=    6.3487166\n",
            "\n",
            "epoch=   184/   200 | beta=1.000e+00 | loss=  205.5384159 | loss_reconstruction=  199.2391150 | loss_kl=    6.2993013\n",
            "\n",
            "epoch=   185/   200 | beta=1.000e+00 | loss=  205.5819747 | loss_reconstruction=  199.3004742 | loss_kl=    6.2815013\n",
            "\n",
            "epoch=   186/   200 | beta=1.000e+00 | loss=  205.5521894 | loss_reconstruction=  199.2922501 | loss_kl=    6.2599387\n",
            "\n",
            "epoch=   187/   200 | beta=1.000e+00 | loss=  205.5639019 | loss_reconstruction=  199.2542152 | loss_kl=    6.3096887\n",
            "\n",
            "epoch=   188/   200 | beta=1.000e+00 | loss=  205.5823700 | loss_reconstruction=  199.2064444 | loss_kl=    6.3759261\n",
            "\n",
            "epoch=   189/   200 | beta=1.000e+00 | loss=  205.5814414 | loss_reconstruction=  199.2581151 | loss_kl=    6.3233261\n",
            "\n",
            "epoch=   190/   200 | beta=1.000e+00 | loss=  205.5251457 | loss_reconstruction=  199.1867355 | loss_kl=    6.3384116\n",
            "\n",
            "epoch=   191/   200 | beta=1.000e+00 | loss=  205.5690424 | loss_reconstruction=  199.1893485 | loss_kl=    6.3796928\n",
            "\n",
            "epoch=   192/   200 | beta=1.000e+00 | loss=  205.5581630 | loss_reconstruction=  199.2550354 | loss_kl=    6.3031287\n",
            "\n",
            "epoch=   193/   200 | beta=1.000e+00 | loss=  205.5789782 | loss_reconstruction=  199.2343792 | loss_kl=    6.3446001\n",
            "\n",
            "epoch=   194/   200 | beta=1.000e+00 | loss=  205.5128578 | loss_reconstruction=  199.1757400 | loss_kl=    6.3371160\n",
            "\n",
            "epoch=   195/   200 | beta=1.000e+00 | loss=  205.5493986 | loss_reconstruction=  199.1734327 | loss_kl=    6.3759663\n",
            "\n",
            "epoch=   196/   200 | beta=1.000e+00 | loss=  205.5678576 | loss_reconstruction=  199.2716750 | loss_kl=    6.2961823\n",
            "\n",
            "epoch=   197/   200 | beta=1.000e+00 | loss=  205.4981357 | loss_reconstruction=  199.1615171 | loss_kl=    6.3366190\n",
            "\n",
            "epoch=   198/   200 | beta=1.000e+00 | loss=  205.5121380 | loss_reconstruction=  199.1937923 | loss_kl=    6.3183462\n",
            "\n",
            "epoch=   199/   200 | beta=1.000e+00 | loss=  205.5289636 | loss_reconstruction=  199.1644005 | loss_kl=    6.3645623\n",
            "\n",
            "epoch=   200/   200 | beta=1.000e+00 | loss=  205.5930080 | loss_reconstruction=  199.2688332 | loss_kl=    6.3241751\n",
            "\n"
          ]
        }
      ]
    },
    {
      "cell_type": "markdown",
      "source": [
        "## Subsetting regions to include SEATAC only, MACS2 only and NucleoATAC only to run PREDICT without running into OOM error"
      ],
      "metadata": {
        "id": "enzBMddf250Q"
      }
    },
    {
      "cell_type": "code",
      "source": [
        "res_sub <- down_mef[(down_mef$padj < ARGS[['padjusted_cutoff']] & abs(down_mef$log_ratio) > ARGS[['log_ratio_cutoff']]) | down_mef$macs2 > -log10(ARGS[['padjusted_cutoff']]) | (down_mef$difference < -0.4 & down_mef$osk== TRUE)]"
      ],
      "metadata": {
        "id": "kIxrRvQnoYKn"
      },
      "execution_count": 58,
      "outputs": []
    },
    {
      "cell_type": "code",
      "source": [
        "x <- read_vplot(res_sub, filenames = local_bam_files, genome = BSgenome.Mmusculus.UCSC.mm10, bin_size = ARGS[['bin_size']], fragment_size_range = c(0, ARGS[['fragment_size_range_max']]), fragment_size_interval = ARGS[['fragment_size_interval']])"
      ],
      "metadata": {
        "colab": {
          "base_uri": "https://localhost:8080/"
        },
        "id": "3TEtFyNl2ipz",
        "outputId": "a8e344ee-fb8c-4e0f-d45d-e1934b17a571"
      },
      "execution_count": 59,
      "outputs": [
        {
          "output_type": "stream",
          "name": "stderr",
          "text": [
            "read_bam | reading ./s3.msi.umn.edu/dsouz072/datasets/dataset=iPSC_reprogramming_version=20200208a/MEF.dedup.bam\n",
            "\n",
            "read_bam | reading ./s3.msi.umn.edu/dsouz072/datasets/dataset=iPSC_reprogramming_version=20200208a/OSK_D7.dedup.bam\n",
            "\n"
          ]
        }
      ]
    },
    {
      "cell_type": "markdown",
      "source": [
        "#SeATAC Only"
      ],
      "metadata": {
        "id": "vKGs8TVAlN6d"
      }
    },
    {
      "cell_type": "code",
      "source": [
        "only_seatac <- res_sub$padj < ARGS[['padjusted_cutoff']] & res_sub$log_ratio < -ARGS[['log_ratio_cutoff']] & !res_sub$macs2 > -log10(ARGS[['padjusted_cutoff']]) & !(res_sub$difference < -0.4 & res_sub$osk== TRUE)\n",
        "sprintf('# of Vplots that have increased nuclsoeome occupancy at the center for undifferentiated MEFs: %d', sum(only_seatac)) %>% message()"
      ],
      "metadata": {
        "colab": {
          "base_uri": "https://localhost:8080/"
        },
        "outputId": "5f26494c-2bae-4b51-fb7e-7937118a8946",
        "id": "5vhLDUyFlN6f"
      },
      "execution_count": 60,
      "outputs": [
        {
          "output_type": "stream",
          "name": "stderr",
          "text": [
            "# of Vplots that have increased nuclsoeome occupancy at the center for undifferentiated MEFs: 4838\n",
            "\n"
          ]
        }
      ]
    },
    {
      "cell_type": "code",
      "source": [
        "x2 <- model %>% predict(x[only_seatac], batch_size = ARGS[['vae_batch_size']], vplots = TRUE)\n",
        "p1 <- vplot(x2, 'counts', ncol = 2L) +ggtitle('counts                                        SeATAC only') \n",
        "p2 <- vplot(x2, 'predicted_counts', ncol = 2L)"
      ],
      "metadata": {
        "id": "FqZXiZoglN6h"
      },
      "execution_count": 61,
      "outputs": []
    },
    {
      "cell_type": "markdown",
      "source": [
        "# MACs2 Only"
      ],
      "metadata": {
        "id": "Ll6rgEA1lN6h"
      }
    },
    {
      "cell_type": "code",
      "source": [
        "only_macs2 <- res_sub$macs2 > -log10(ARGS[['padjusted_cutoff']])  & !(res_sub$padj < ARGS[['padjusted_cutoff']] & res_sub$log_ratio < -ARGS[['log_ratio_cutoff']]) & !(res_sub$difference < -0.4 & res_sub$osk== TRUE)\n",
        "sprintf('# of Vplots that have increased nuclsoeome occupancy at the center for undifferentiated MEFs and summits called by MACS2 in MEFs post OSK induction: %d', sum(only_macs2)) %>% message()"
      ],
      "metadata": {
        "colab": {
          "base_uri": "https://localhost:8080/"
        },
        "outputId": "90422556-1f36-4a64-fe55-438dea5b70d2",
        "id": "iwLKpv6ilN6i"
      },
      "execution_count": 62,
      "outputs": [
        {
          "output_type": "stream",
          "name": "stderr",
          "text": [
            "# of Vplots that have increased nuclsoeome occupancy at the center for undifferentiated MEFs and summits called by MACS2 in MEFs post OSK induction: 1925\n",
            "\n"
          ]
        }
      ]
    },
    {
      "cell_type": "code",
      "source": [
        "x3 <- model %>% predict(x[only_macs2], batch_size = ARGS[['vae_batch_size']], vplots = TRUE)\n",
        "p3 <- vplot(x3, 'counts', ncol = 2L) + ggtitle('counts                                  MACS2 only') \n",
        "p4 <- vplot(x3, 'predicted_counts', ncol = 2L)"
      ],
      "metadata": {
        "id": "EH3MBwIHlN6j"
      },
      "execution_count": 63,
      "outputs": []
    },
    {
      "cell_type": "markdown",
      "source": [
        "#NucleoATAC Only"
      ],
      "metadata": {
        "id": "zGIKt7Od0Kex"
      }
    },
    {
      "cell_type": "code",
      "source": [
        "only_nucleoatac <- !(res_sub$padj < ARGS[['padjusted_cutoff']] & res_sub$log_ratio < -ARGS[['log_ratio_cutoff']]) & !res_sub$macs2 > -log10(ARGS[['padjusted_cutoff']]) & res_sub$difference < -0.4 & res_sub$osk== TRUE\n",
        "sprintf('# of Vplots that have increased nuclsoeome occupancy at the center and regions from NucleoATAC with increased nucleosome occupance for undifferentiated MEFs : %d', sum(only_nucleoatac)) %>% message()"
      ],
      "metadata": {
        "colab": {
          "base_uri": "https://localhost:8080/"
        },
        "outputId": "940fffb8-c20d-4dbb-9fa5-d28a4d040ee7",
        "id": "_ZUOfuV_kexR"
      },
      "execution_count": 64,
      "outputs": [
        {
          "output_type": "stream",
          "name": "stderr",
          "text": [
            "# of Vplots that have increased nuclsoeome occupancy at the center and regions from NucleoATAC with increased nucleosome occupance for undifferentiated MEFs : 6393\n",
            "\n"
          ]
        }
      ]
    },
    {
      "cell_type": "code",
      "source": [
        "x4 <- model %>% predict(x[only_nucleoatac], batch_size = ARGS[['vae_batch_size']], vplots = TRUE)\n",
        "p5 <- vplot(x4, 'counts', ncol = 2L) + ggtitle('counts                                  NucleoATAC only') \n",
        "p6 <- vplot(x4, 'predicted_counts', ncol = 2L)"
      ],
      "metadata": {
        "id": "rmMPcbkYkexT"
      },
      "execution_count": 65,
      "outputs": []
    },
    {
      "cell_type": "markdown",
      "source": [
        "# Vplots for MEFs post OSK induction"
      ],
      "metadata": {
        "id": "QbiUUwWclzt0"
      }
    },
    {
      "cell_type": "code",
      "source": [
        "options(repr.plot.width = 6, repr.plot.height = 18)\n",
        "p1 / p2 / p3/ p4 / p5 / p6 + plot_annotation(tag_levels = 'A')"
      ],
      "metadata": {
        "colab": {
          "base_uri": "https://localhost:8080/",
          "height": 1000
        },
        "id": "UOqkgh47lSEW",
        "outputId": "fe2aa715-52b5-4881-df7c-1b58eecb5e63"
      },
      "execution_count": 66,
      "outputs": [
        {
          "output_type": "stream",
          "name": "stderr",
          "text": [
            "Warning message:\n",
            "“Removed 64 rows containing missing values (geom_raster).”\n",
            "Warning message:\n",
            "“Removed 64 rows containing missing values (geom_raster).”\n",
            "Warning message:\n",
            "“Removed 64 rows containing missing values (geom_raster).”\n",
            "Warning message:\n",
            "“Removed 64 rows containing missing values (geom_raster).”\n",
            "Warning message:\n",
            "“Removed 64 rows containing missing values (geom_raster).”\n",
            "Warning message:\n",
            "“Removed 64 rows containing missing values (geom_raster).”\n"
          ]
        },
        {
          "output_type": "display_data",
          "data": {
            "text/plain": [
              "plot without title"
            ],
            "image/png": "[encoded data removed]"
          },
          "metadata": {
            "image/png": {
              "width": 360,
              "height": 1080
            }
          }
        }
      ]
    },
    {
      "cell_type": "markdown",
      "metadata": {
        "id": "wjg4jMFjHz_P"
      },
      "source": [
        "## SessionInfo"
      ]
    },
    {
      "cell_type": "code",
      "metadata": {
        "id": "1O6H0QYdIBSN",
        "colab": {
          "base_uri": "https://localhost:8080/",
          "height": 1000
        },
        "outputId": "c9425955-3a41-43fe-ab0f-8e124d6574ae"
      },
      "source": [
        "sessionInfo()"
      ],
      "execution_count": 67,
      "outputs": [
        {
          "output_type": "display_data",
          "data": {
            "text/plain": [
              "R version 4.1.3 (2022-03-10)\n",
              "Platform: x86_64-pc-linux-gnu (64-bit)\n",
              "Running under: Ubuntu 18.04.5 LTS\n",
              "\n",
              "Matrix products: default\n",
              "BLAS:   /usr/lib/x86_64-linux-gnu/openblas/libblas.so.3\n",
              "LAPACK: /usr/lib/x86_64-linux-gnu/libopenblasp-r0.2.20.so\n",
              "\n",
              "locale:\n",
              " [1] LC_CTYPE=en_US.UTF-8       LC_NUMERIC=C              \n",
              " [3] LC_TIME=en_US.UTF-8        LC_COLLATE=en_US.UTF-8    \n",
              " [5] LC_MONETARY=en_US.UTF-8    LC_MESSAGES=en_US.UTF-8   \n",
              " [7] LC_PAPER=en_US.UTF-8       LC_NAME=C                 \n",
              " [9] LC_ADDRESS=C               LC_TELEPHONE=C            \n",
              "[11] LC_MEASUREMENT=en_US.UTF-8 LC_IDENTIFICATION=C       \n",
              "\n",
              "attached base packages:\n",
              "[1] grid      stats4    stats     graphics  grDevices utils     datasets \n",
              "[8] methods   base     \n",
              "\n",
              "other attached packages:\n",
              " [1] clusterProfiler_4.2.2                    \n",
              " [2] org.Mm.eg.db_3.14.0                      \n",
              " [3] TxDb.Mmusculus.UCSC.mm10.knownGene_3.10.0\n",
              " [4] GenomicFeatures_1.46.5                   \n",
              " [5] AnnotationDbi_1.56.2                     \n",
              " [6] ChIPseeker_1.31.4                        \n",
              " [7] patchwork_1.1.1                          \n",
              " [8] ggplot2_3.3.5                            \n",
              " [9] VennDiagram_1.7.3                        \n",
              "[10] futile.logger_1.4.3                      \n",
              "[11] igraph_1.3.0                             \n",
              "[12] chromVARmotifs_0.2.0                     \n",
              "[13] motifmatchr_1.16.0                       \n",
              "[14] dplyr_1.0.8                              \n",
              "[15] BSgenome.Mmusculus.UCSC.mm10_1.4.3       \n",
              "[16] BSgenome_1.62.0                          \n",
              "[17] rtracklayer_1.54.0                       \n",
              "[18] Biostrings_2.62.0                        \n",
              "[19] XVector_0.34.0                           \n",
              "[20] seatac_0.4.0-010                         \n",
              "[21] SummarizedExperiment_1.24.0              \n",
              "[22] Biobase_2.54.0                           \n",
              "[23] MatrixGenerics_1.6.0                     \n",
              "[24] matrixStats_0.61.0                       \n",
              "[25] GenomicRanges_1.46.1                     \n",
              "[26] GenomeInfoDb_1.30.1                      \n",
              "[27] IRanges_2.28.0                           \n",
              "[28] S4Vectors_0.32.4                         \n",
              "[29] BiocGenerics_0.40.0                      \n",
              "[30] tfdatasets_2.7.0                         \n",
              "[31] tfprobability_0.15.0                     \n",
              "[32] tensorflow_2.8.0                         \n",
              "[33] devtools_2.4.3                           \n",
              "[34] usethis_2.1.5                            \n",
              "\n",
              "loaded via a namespace (and not attached):\n",
              "  [1] utf8_1.2.2                             \n",
              "  [2] reticulate_1.24                        \n",
              "  [3] R.utils_2.11.0                         \n",
              "  [4] tidyselect_1.1.2                       \n",
              "  [5] poweRlaw_0.70.6                        \n",
              "  [6] RSQLite_2.2.12                         \n",
              "  [7] BiocParallel_1.28.3                    \n",
              "  [8] scatterpie_0.1.7                       \n",
              "  [9] munsell_0.5.0                          \n",
              " [10] pbdZMQ_0.3-7                           \n",
              " [11] withr_2.5.0                            \n",
              " [12] keras_2.8.0                            \n",
              " [13] colorspace_2.0-3                       \n",
              " [14] GOSemSim_2.20.0                        \n",
              " [15] filelock_1.0.2                         \n",
              " [16] uuid_1.0-4                             \n",
              " [17] DOSE_3.20.1                            \n",
              " [18] labeling_0.4.2                         \n",
              " [19] repr_1.1.4                             \n",
              " [20] GenomeInfoDbData_1.2.7                 \n",
              " [21] polyclip_1.10-0                        \n",
              " [22] bit64_4.0.5                            \n",
              " [23] farver_2.1.0                           \n",
              " [24] downloader_0.4                         \n",
              " [25] rprojroot_2.0.3                        \n",
              " [26] treeio_1.18.1                          \n",
              " [27] vctrs_0.4.0                            \n",
              " [28] generics_0.1.2                         \n",
              " [29] lambda.r_1.2.4                         \n",
              " [30] BiocFileCache_2.2.1                    \n",
              " [31] R6_2.5.1                               \n",
              " [32] graphlayouts_0.8.0                     \n",
              " [33] gridGraphics_0.5-1                     \n",
              " [34] bitops_1.0-7                           \n",
              " [35] cachem_1.0.6                           \n",
              " [36] fgsea_1.20.0                           \n",
              " [37] DelayedArray_0.20.0                    \n",
              " [38] assertthat_0.2.1                       \n",
              " [39] BiocIO_1.4.0                           \n",
              " [40] scales_1.2.0                           \n",
              " [41] ggraph_2.0.5                           \n",
              " [42] enrichplot_1.13.1.992                  \n",
              " [43] gtable_0.3.0                           \n",
              " [44] processx_3.5.3                         \n",
              " [45] tidygraph_1.2.1                        \n",
              " [46] seqLogo_1.60.0                         \n",
              " [47] rlang_1.0.2                            \n",
              " [48] zeallot_0.1.0                          \n",
              " [49] splines_4.1.3                          \n",
              " [50] lazyeval_0.2.2                         \n",
              " [51] BiocManager_1.30.16                    \n",
              " [52] yaml_2.3.5                             \n",
              " [53] reshape2_1.4.4                         \n",
              " [54] abind_1.4-5                            \n",
              " [55] backports_1.4.1                        \n",
              " [56] qvalue_2.26.0                          \n",
              " [57] tools_4.1.3                            \n",
              " [58] ggplotify_0.1.0                        \n",
              " [59] ellipsis_0.3.2                         \n",
              " [60] gplots_3.1.1                           \n",
              " [61] RColorBrewer_1.1-3                     \n",
              " [62] sessioninfo_1.2.2                      \n",
              " [63] Rcpp_1.0.8.3                           \n",
              " [64] plyr_1.8.7                             \n",
              " [65] base64enc_0.1-3                        \n",
              " [66] progress_1.2.2                         \n",
              " [67] zlibbioc_1.40.0                        \n",
              " [68] purrr_0.3.4                            \n",
              " [69] RCurl_1.98-1.6                         \n",
              " [70] ps_1.6.0                               \n",
              " [71] prettyunits_1.1.1                      \n",
              " [72] viridis_0.6.2                          \n",
              " [73] ggrepel_0.9.1                          \n",
              " [74] here_1.0.1                             \n",
              " [75] fs_1.5.2                               \n",
              " [76] magrittr_2.0.3                         \n",
              " [77] data.table_1.14.2                      \n",
              " [78] futile.options_1.0.1                   \n",
              " [79] DO.db_2.9                              \n",
              " [80] tfautograph_0.3.2                      \n",
              " [81] whisker_0.4                            \n",
              " [82] pkgload_1.2.4                          \n",
              " [83] hms_1.1.1                              \n",
              " [84] evaluate_0.15                          \n",
              " [85] xtable_1.8-4                           \n",
              " [86] XML_3.99-0.9                           \n",
              " [87] gridExtra_2.3                          \n",
              " [88] tfruns_1.5.0                           \n",
              " [89] testthat_3.1.3                         \n",
              " [90] compiler_4.1.3                         \n",
              " [91] biomaRt_2.50.3                         \n",
              " [92] tibble_3.1.6                           \n",
              " [93] shadowtext_0.1.1                       \n",
              " [94] KernSmooth_2.23-20                     \n",
              " [95] crayon_1.5.1                           \n",
              " [96] R.oo_1.24.0                            \n",
              " [97] htmltools_0.5.2                        \n",
              " [98] ggfun_0.0.6                            \n",
              " [99] tzdb_0.3.0                             \n",
              "[100] TFBSTools_1.32.0                       \n",
              "[101] aplot_0.1.3                            \n",
              "[102] tidyr_1.2.0                            \n",
              "[103] DBI_1.1.2                              \n",
              "[104] tweenr_1.0.2                           \n",
              "[105] formatR_1.12                           \n",
              "[106] dbplyr_2.1.1                           \n",
              "[107] MASS_7.3-56                            \n",
              "[108] rappdirs_0.3.3                         \n",
              "[109] boot_1.3-28                            \n",
              "[110] Matrix_1.4-1                           \n",
              "[111] readr_2.1.2                            \n",
              "[112] brio_1.1.3                             \n",
              "[113] cli_3.2.0                              \n",
              "[114] R.methodsS3_1.8.1                      \n",
              "[115] parallel_4.1.3                         \n",
              "[116] pkgconfig_2.0.3                        \n",
              "[117] TxDb.Hsapiens.UCSC.hg19.knownGene_3.2.2\n",
              "[118] GenomicAlignments_1.30.0               \n",
              "[119] TFMPvalue_0.0.8                        \n",
              "[120] IRdisplay_1.1                          \n",
              "[121] xml2_1.3.3                             \n",
              "[122] ggtree_3.2.1                           \n",
              "[123] annotate_1.72.0                        \n",
              "[124] DirichletMultinomial_1.36.0            \n",
              "[125] yulab.utils_0.0.4                      \n",
              "[126] stringr_1.4.0                          \n",
              "[127] callr_3.7.0                            \n",
              "[128] digest_0.6.29                          \n",
              "[129] pracma_2.3.8                           \n",
              "[130] CNEr_1.30.0                            \n",
              "[131] fastmatch_1.1-3                        \n",
              "[132] tidytree_0.3.9                         \n",
              "[133] restfulr_0.0.13                        \n",
              "[134] curl_4.3.2                             \n",
              "[135] Rsamtools_2.10.0                       \n",
              "[136] gtools_3.9.2                           \n",
              "[137] rjson_0.2.21                           \n",
              "[138] nlme_3.1-157                           \n",
              "[139] lifecycle_1.0.1                        \n",
              "[140] jsonlite_1.8.0                         \n",
              "[141] desc_1.4.1                             \n",
              "[142] viridisLite_0.4.0                      \n",
              "[143] fansi_1.0.3                            \n",
              "[144] pillar_1.7.0                           \n",
              "[145] lattice_0.20-45                        \n",
              "[146] plotrix_3.8-2                          \n",
              "[147] KEGGREST_1.34.0                        \n",
              "[148] fastmap_1.1.0                          \n",
              "[149] httr_1.4.2                             \n",
              "[150] pkgbuild_1.3.1                         \n",
              "[151] GO.db_3.14.0                           \n",
              "[152] glue_1.6.2                             \n",
              "[153] remotes_2.4.2                          \n",
              "[154] png_0.1-7                              \n",
              "[155] bit_4.0.4                              \n",
              "[156] ggforce_0.3.3                          \n",
              "[157] stringi_1.7.6                          \n",
              "[158] blob_1.2.3                             \n",
              "[159] caTools_1.18.2                         \n",
              "[160] memoise_2.0.1                          \n",
              "[161] IRkernel_1.3                           \n",
              "[162] ape_5.6-2                              "
            ]
          },
          "metadata": {}
        }
      ]
    },
    {
      "cell_type": "code",
      "metadata": {
        "id": "-4pQeVrGHxXr",
        "colab": {
          "base_uri": "https://localhost:8080/",
          "height": 35
        },
        "outputId": "66a384e0-666e-4b16-c8b6-8b2831e3e1c2"
      },
      "source": [
        "Sys.time() - start_time"
      ],
      "execution_count": 68,
      "outputs": [
        {
          "output_type": "display_data",
          "data": {
            "text/plain": [
              "Time difference of 52.35444 mins"
            ]
          },
          "metadata": {}
        }
      ]
    }
  ]
}
