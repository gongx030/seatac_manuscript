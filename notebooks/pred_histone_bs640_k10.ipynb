{
  "nbformat": 4,
  "nbformat_minor": 0,
  "metadata": {
    "kernelspec": {
      "display_name": "R",
      "language": "R",
      "name": "ir"
    },
    "language_info": {
      "codemirror_mode": "r",
      "file_extension": ".r",
      "mimetype": "text/x-r-source",
      "name": "R",
      "pygments_lexer": "r",
      "version": "3.3.1"
    },
    "colab": {
      "provenance": [],
      "machine_shape": "hm",
      "toc_visible": true,
      "collapsed_sections": [
        "wFuTF2MUEiAk"
      ],
      "include_colab_link": true
    },
    "accelerator": "GPU"
  },
  "cells": [
    {
      "cell_type": "markdown",
      "metadata": {
        "id": "view-in-github",
        "colab_type": "text"
      },
      "source": [
        "<a href=\"https://colab.research.google.com/github/gongx030/seatac_manuscript/blob/main/notebooks/pred_histone_bs640_k10.ipynb\" target=\"_parent\"><img src=\"https://colab.research.google.com/assets/colab-badge.svg\" alt=\"Open In Colab\"/></a>"
      ]
    },
    {
      "cell_type": "markdown",
      "metadata": {
        "id": "4TLq2MbDD3zq"
      },
      "source": [
        "# Generate V-plot representations of GM12878, K562, and Etv2 reprogramming data"
      ]
    },
    {
      "cell_type": "markdown",
      "source": [
        "## Background"
      ],
      "metadata": {
        "id": "Vjj4t4zwi0Ok"
      }
    },
    {
      "cell_type": "markdown",
      "source": [
        "Reviewer #1's Issue #2: Further, as SeATAC appears to be unique in documenting decreased chromatin accessibility at promoters of regulated genes, this aspect would be particularly interesting to biologists and browser views would be very helpful to convince the readers. To be really helpful, these browser views should include other typical marks of promoters and enhancers such as H3K4me3, H3K4me1, H3K27ac, etc."
      ],
      "metadata": {
        "id": "hDfuFM8T0GWl"
      }
    },
    {
      "cell_type": "markdown",
      "source": [
        "## Tasks"
      ],
      "metadata": {
        "id": "tO_DYRmfXDkx"
      }
    },
    {
      "cell_type": "markdown",
      "source": [
        "* Train SeATAC model on GM12878, K562 and Etv2 reprogramming ATAC-seq\n",
        "* Get V-plot representations\n",
        "* Get PCA representations of MACS2 and NucleoATAC signals\n",
        "* Train a simple MLP model to predict histone codes (H3K4me1, H3K4me3, H3K27ac, H3K27me3 and etc.) from V-plots representations.\n",
        "* Evaluate the prediction performance.\n",
        "* Verify the prediction of H3K27ac on Etv2 reprogramming data.\n",
        "* Predict the missing histone codes for the Etv2 binding sites in Etv2 reprogramming data."
      ],
      "metadata": {
        "id": "_6nErFC40hiJ"
      }
    },
    {
      "cell_type": "markdown",
      "source": [
        "## Setup"
      ],
      "metadata": {
        "id": "mKVG3W-LjCh-"
      }
    },
    {
      "cell_type": "markdown",
      "source": [
        "### MSI Parition"
      ],
      "metadata": {
        "id": "8NUcGWdphu6E"
      }
    },
    {
      "cell_type": "markdown",
      "source": [
        "```salloc --nodes=1 --ntasks-per-node=16 --mem=64gb -t 24:00:00 -p interactive```"
      ],
      "metadata": {
        "id": "CRZgXi9Th2Yn"
      }
    },
    {
      "cell_type": "markdown",
      "source": [
        "### Conda"
      ],
      "metadata": {
        "id": "BBq9MjHUh4OG"
      }
    },
    {
      "cell_type": "markdown",
      "source": [
        "```r421_py37_tf26```"
      ],
      "metadata": {
        "id": "24xsV1WuiTsg"
      }
    },
    {
      "cell_type": "markdown",
      "metadata": {
        "id": "wFuTF2MUEiAk"
      },
      "source": [
        "### Install R packages"
      ]
    },
    {
      "cell_type": "code",
      "metadata": {
        "id": "hv8nq9sjEzhx"
      },
      "source": [
        "required_packages <- c(\n",
        "  'BiocManager', 'devtools', 'Matrix',\n",
        "  'dplyr', 'tidyr', 'stringr',\n",
        "  'pROC', 'irlba',\n",
        "  'chromVAR', 'chromVARmotifs', 'motifmatchr'\n",
        ")"
      ],
      "execution_count": null,
      "outputs": []
    },
    {
      "cell_type": "code",
      "metadata": {
        "id": "FDu62M5JFJZt"
      },
      "source": [
        "missing_packages <- required_packages[!required_packages %in% rownames(installed.packages())]\n",
        "if (length(missing_packages) > 0){\n",
        "    BiocManager::install(missing_packages)\n",
        "}"
      ],
      "execution_count": null,
      "outputs": []
    },
    {
      "cell_type": "code",
      "source": [
        "for (p in required_packages){\n",
        "  library(p, character.only  = TRUE)\n",
        "}"
      ],
      "metadata": {
        "id": "J3iIivkyr2ZR",
        "colab": {
          "base_uri": "https://localhost:8080/"
        },
        "outputId": "5226327b-fa94-404c-f75d-626ca73652ba"
      },
      "execution_count": null,
      "outputs": [
        {
          "output_type": "stream",
          "name": "stderr",
          "text": [
            "Bioconductor version '3.15' is out-of-date; the current release version '3.16'\n",
            "  is available with R version '4.2'; see https://bioconductor.org/install\n",
            "\n",
            "Loading required package: usethis\n",
            "\n",
            "\n",
            "Attaching package: ‘devtools’\n",
            "\n",
            "\n",
            "The following object is masked from ‘package:BiocManager’:\n",
            "\n",
            "    install\n",
            "\n",
            "\n",
            "Warning message:\n",
            "“package ‘Matrix’ was built under R version 4.2.2”\n",
            "\n",
            "Attaching package: ‘dplyr’\n",
            "\n",
            "\n",
            "The following objects are masked from ‘package:stats’:\n",
            "\n",
            "    filter, lag\n",
            "\n",
            "\n",
            "The following objects are masked from ‘package:base’:\n",
            "\n",
            "    intersect, setdiff, setequal, union\n",
            "\n",
            "\n",
            "\n",
            "Attaching package: ‘tidyr’\n",
            "\n",
            "\n",
            "The following objects are masked from ‘package:Matrix’:\n",
            "\n",
            "    expand, pack, unpack\n",
            "\n",
            "\n",
            "Warning message:\n",
            "“package ‘stringr’ was built under R version 4.2.2”\n",
            "Type 'citation(\"pROC\")' for a citation.\n",
            "\n",
            "\n",
            "Attaching package: ‘pROC’\n",
            "\n",
            "\n",
            "The following objects are masked from ‘package:stats’:\n",
            "\n",
            "    cov, smooth, var\n",
            "\n",
            "\n",
            "\n",
            "\n"
          ]
        }
      ]
    },
    {
      "cell_type": "markdown",
      "metadata": {
        "id": "JV2N0ehhUtZm"
      },
      "source": [
        "### Install SeATAC from github"
      ]
    },
    {
      "cell_type": "code",
      "metadata": {
        "id": "p9iI0Qk5Usy7"
      },
      "source": [
        "#devtools::install('../seatac')\n",
        "#install_github('gongx030/seatac@v0.4.0', force = TRUE, quiet = FALSE)"
      ],
      "execution_count": null,
      "outputs": []
    },
    {
      "cell_type": "code",
      "source": [
        "#reload(pkgload::inst(\"seatac\"))\n",
        "#library(seatac)"
      ],
      "metadata": {
        "id": "2jPtosE8LdWd"
      },
      "execution_count": null,
      "outputs": []
    },
    {
      "cell_type": "code",
      "source": [
        "devtools::load_all('../seatac')"
      ],
      "metadata": {
        "colab": {
          "base_uri": "https://localhost:8080/"
        },
        "id": "gA94tv2IDp4V",
        "outputId": "fb66633a-6b73-42fb-cf71-6cb76ec5d98d"
      },
      "execution_count": null,
      "outputs": [
        {
          "output_type": "stream",
          "name": "stderr",
          "text": [
            "\u001b[1m\u001b[22m\u001b[36mℹ\u001b[39m Loading \u001b[34mseatac\u001b[39m\n",
            "Loading required package: tensorflow\n",
            "\n",
            "Warning message:\n",
            "“package ‘tensorflow’ was built under R version 4.2.2”\n",
            "Loading required package: tfprobability\n",
            "\n",
            "Loading required package: tfdatasets\n",
            "\n",
            "Loading required package: GenomicRanges\n",
            "\n",
            "Loading required package: stats4\n",
            "\n",
            "Loading required package: BiocGenerics\n",
            "\n",
            "\n",
            "Attaching package: ‘BiocGenerics’\n",
            "\n",
            "\n",
            "The following object is masked from ‘package:pROC’:\n",
            "\n",
            "    var\n",
            "\n",
            "\n",
            "The following objects are masked from ‘package:dplyr’:\n",
            "\n",
            "    combine, intersect, setdiff, union\n",
            "\n",
            "\n",
            "The following objects are masked from ‘package:stats’:\n",
            "\n",
            "    IQR, mad, sd, var, xtabs\n",
            "\n",
            "\n",
            "The following objects are masked from ‘package:base’:\n",
            "\n",
            "    anyDuplicated, append, as.data.frame, basename, cbind, colnames,\n",
            "    dirname, do.call, duplicated, eval, evalq, Filter, Find, get, grep,\n",
            "    grepl, intersect, is.unsorted, lapply, Map, mapply, match, mget,\n",
            "    order, paste, pmax, pmax.int, pmin, pmin.int, Position, rank,\n",
            "    rbind, Reduce, rownames, sapply, setdiff, sort, table, tapply,\n",
            "    union, unique, unsplit, which.max, which.min\n",
            "\n",
            "\n",
            "Loading required package: S4Vectors\n",
            "\n",
            "\n",
            "Attaching package: ‘S4Vectors’\n",
            "\n",
            "\n",
            "The following object is masked from ‘package:tidyr’:\n",
            "\n",
            "    expand\n",
            "\n",
            "\n",
            "The following objects are masked from ‘package:dplyr’:\n",
            "\n",
            "    first, rename\n",
            "\n",
            "\n",
            "The following objects are masked from ‘package:Matrix’:\n",
            "\n",
            "    expand, unname\n",
            "\n",
            "\n",
            "The following objects are masked from ‘package:base’:\n",
            "\n",
            "    expand.grid, I, unname\n",
            "\n",
            "\n",
            "Loading required package: IRanges\n",
            "\n",
            "\n",
            "Attaching package: ‘IRanges’\n",
            "\n",
            "\n",
            "The following objects are masked from ‘package:dplyr’:\n",
            "\n",
            "    collapse, desc, slice\n",
            "\n",
            "\n",
            "Loading required package: GenomeInfoDb\n",
            "\n",
            "Loading required package: SummarizedExperiment\n",
            "\n",
            "Loading required package: MatrixGenerics\n",
            "\n",
            "Loading required package: matrixStats\n",
            "\n",
            "\n",
            "Attaching package: ‘matrixStats’\n",
            "\n",
            "\n",
            "The following object is masked from ‘package:dplyr’:\n",
            "\n",
            "    count\n",
            "\n",
            "\n",
            "\n",
            "Attaching package: ‘MatrixGenerics’\n",
            "\n",
            "\n",
            "The following objects are masked from ‘package:matrixStats’:\n",
            "\n",
            "    colAlls, colAnyNAs, colAnys, colAvgsPerRowSet, colCollapse,\n",
            "    colCounts, colCummaxs, colCummins, colCumprods, colCumsums,\n",
            "    colDiffs, colIQRDiffs, colIQRs, colLogSumExps, colMadDiffs,\n",
            "    colMads, colMaxs, colMeans2, colMedians, colMins, colOrderStats,\n",
            "    colProds, colQuantiles, colRanges, colRanks, colSdDiffs, colSds,\n",
            "    colSums2, colTabulates, colVarDiffs, colVars, colWeightedMads,\n",
            "    colWeightedMeans, colWeightedMedians, colWeightedSds,\n",
            "    colWeightedVars, rowAlls, rowAnyNAs, rowAnys, rowAvgsPerColSet,\n",
            "    rowCollapse, rowCounts, rowCummaxs, rowCummins, rowCumprods,\n",
            "    rowCumsums, rowDiffs, rowIQRDiffs, rowIQRs, rowLogSumExps,\n",
            "    rowMadDiffs, rowMads, rowMaxs, rowMeans2, rowMedians, rowMins,\n",
            "    rowOrderStats, rowProds, rowQuantiles, rowRanges, rowRanks,\n",
            "    rowSdDiffs, rowSds, rowSums2, rowTabulates, rowVarDiffs, rowVars,\n",
            "    rowWeightedMads, rowWeightedMeans, rowWeightedMedians,\n",
            "    rowWeightedSds, rowWeightedVars\n",
            "\n",
            "\n",
            "Loading required package: Biobase\n",
            "\n",
            "Welcome to Bioconductor\n",
            "\n",
            "    Vignettes contain introductory material; view with\n",
            "    'browseVignettes()'. To cite Bioconductor, see\n",
            "    'citation(\"Biobase\")', and for packages 'citation(\"pkgname\")'.\n",
            "\n",
            "\n",
            "\n",
            "Attaching package: ‘Biobase’\n",
            "\n",
            "\n",
            "The following object is masked from ‘package:MatrixGenerics’:\n",
            "\n",
            "    rowMedians\n",
            "\n",
            "\n",
            "The following objects are masked from ‘package:matrixStats’:\n",
            "\n",
            "    anyMissing, rowMedians\n",
            "\n",
            "\n",
            "Creating a new generic function for ‘fit’ in package ‘seatac’\n",
            "\n",
            "Creating a new generic function for ‘predict’ in package ‘seatac’\n",
            "\n"
          ]
        }
      ]
    },
    {
      "cell_type": "markdown",
      "source": [
        "### Load `tfa`"
      ],
      "metadata": {
        "id": "09ioiaCiDY13"
      }
    },
    {
      "cell_type": "markdown",
      "source": [
        "Required for `tfa.image.gaussian_filter2d`"
      ],
      "metadata": {
        "id": "LPu7C1_iDaog"
      }
    },
    {
      "cell_type": "code",
      "source": [
        "tfa <- reticulate::import('tensorflow_addons')"
      ],
      "metadata": {
        "id": "WctoNewHAHrg"
      },
      "execution_count": null,
      "outputs": []
    },
    {
      "cell_type": "markdown",
      "source": [
        "### Load bpt"
      ],
      "metadata": {
        "id": "QAFMnWr_EGBW"
      }
    },
    {
      "cell_type": "code",
      "source": [
        "devtools::load_all('../bpt')"
      ],
      "metadata": {
        "id": "lMZPDXvpEInR",
        "colab": {
          "base_uri": "https://localhost:8080/"
        },
        "outputId": "c6a621b3-7a75-431c-fd24-bdad66e7f570"
      },
      "execution_count": null,
      "outputs": [
        {
          "output_type": "stream",
          "name": "stderr",
          "text": [
            "\u001b[1m\u001b[22m\u001b[36mℹ\u001b[39m Loading \u001b[34mbpt\u001b[39m\n",
            "Warning message:\n",
            "“replacing previous import ‘GenomicRanges::union’ by ‘dplyr::union’ when loading ‘bpt’”\n",
            "Warning message:\n",
            "“replacing previous import ‘GenomicRanges::intersect’ by ‘dplyr::intersect’ when loading ‘bpt’”\n",
            "Warning message:\n",
            "“replacing previous import ‘GenomicRanges::setdiff’ by ‘dplyr::setdiff’ when loading ‘bpt’”\n"
          ]
        }
      ]
    },
    {
      "cell_type": "markdown",
      "metadata": {
        "id": "hl2lXOAv9ljx"
      },
      "source": [
        "## Parameters"
      ]
    },
    {
      "cell_type": "code",
      "source": [
        "set.seed(123)"
      ],
      "metadata": {
        "id": "5IlR-BldsR6i"
      },
      "execution_count": null,
      "outputs": []
    },
    {
      "cell_type": "code",
      "metadata": {
        "id": "KMfU5_KD9nN9"
      },
      "source": [
        "ARGS <- list(\n",
        "\n",
        "  remote_bam_files = c(\n",
        "    'GM12878' = 'https://s3.msi.umn.edu/gongx030/datasets/dataset=Buenrostro_version=20170721a/GM12878_50k_cells.bam',\n",
        "    'K562' = 'https://s3.msi.umn.edu/gongx030/datasets/dataset=K562_version=20230104a/K562.bam',\n",
        "    'MEF_NoDox' = 'https://s3.msi.umn.edu/gongx030/datasets/dataset=Etv2ATAC_version=20190228b/MEF_NoDox.bam',\n",
        "    'MEF_Dox_D7_Flk1pos' = 'https://s3.msi.umn.edu/gongx030/datasets/dataset=Etv2ATAC_version=20190228b/MEF_Dox_D7_Flk1pos.bam',\n",
        "    'EB_NoDox_D25' = 'https://s3.msi.umn.edu/gongx030/datasets/dataset=Etv2ATAC_version=20190228b/EB_NoDox_D25.bam',\n",
        "    'EB_Dox_D25_Flk1pos' = 'https://s3.msi.umn.edu/gongx030/datasets/dataset=Etv2ATAC_version=20190228b/EB_Dox_D25_Flk1pos.bam'\n",
        "  ), \n",
        "  genome_versions = c('hg19', 'hg19', 'mm10', 'mm10', 'mm10', 'mm10'),\n",
        "  remote_bw_files = list(\n",
        "    'GM12878' = c(\n",
        "      'H3K27ac' = 'https://www.encodeproject.org/files/ENCFF440GZA/@@download/ENCFF440GZA.bigWig',\n",
        "      'H3K4me1' = 'https://www.encodeproject.org/files/ENCFF372EXQ/@@download/ENCFF372EXQ.bigWig',\n",
        "      'H3K4me3' = 'https://www.encodeproject.org/files/ENCFF154XCY/@@download/ENCFF154XCY.bigWig'\n",
        "    ),\n",
        "    'K562' = c(\n",
        "      'H3K27ac' = 'https://www.encodeproject.org/files/ENCFF488FYZ/@@download/ENCFF488FYZ.bigWig',\n",
        "      'H3K4me1' = 'https://www.encodeproject.org/files/ENCFF700ZWZ/@@download/ENCFF700ZWZ.bigWig',\n",
        "      'H3K4me3' = 'https://www.encodeproject.org/files/ENCFF285EUA/@@download/ENCFF285EUA.bigWig'\n",
        "    ),\n",
        "    'MEF_NoDox' = c(\n",
        "      'H3K27ac' = 'https://s3.msi.umn.edu/gongx030/datasets/dataset=Etv2PioneerChIPseq_version=20191203a/MEF_NoDox_d0_H3K27ac_FE.bw'\n",
        "    ),\n",
        "    'MEF_Dox_D7_Flk1pos' = c(\n",
        "      'H3K27ac' = 'https://s3.msi.umn.edu/gongx030/datasets/dataset=Etv2PioneerChIPseq_version=20191203a/MEF_Dox_d7_H3K27ac_FE.bw'\n",
        "    ),\n",
        "    'EB_NoDox_D25' = c(\n",
        "      'H3K27ac' = 'https://s3.msi.umn.edu/gongx030/datasets/dataset=Etv2PioneerChIPseq_version=20191203a/EB_NoDox_12h_H3K27ac_FE.bw'\n",
        "    ),\n",
        "    'EB_Dox_D25_Flk1pos' = c(\n",
        "      'H3K27ac' = 'https://s3.msi.umn.edu/gongx030/datasets/dataset=Etv2PioneerChIPseq_version=20191203a/EB_Dox_12h_H3K27ac_FE.bw'\n",
        "    )\n",
        "  ),\n",
        "  block_size = 640L,\n",
        "  latent_dim = 10L,\n",
        "  min_reads_train_seatac = 5L,  # minimum reads in blocks to train SeATAC\n",
        "  min_reads_train_histone = 5L,  # minimum reads in blocks to train histone model\n",
        "  min_reads_test_histone = 5L, # minimum reads in blocks to test histone model\n",
        "  step_size = 200L,\n",
        "  fragment_size_range_max = 640L,\n",
        "  bin_size = 5L,\n",
        "  fragment_size_interval = 10L,\n",
        "  window_size = 2000L,\n",
        "  sliding_step = 10L,\n",
        "  max_peaks_train_seatac = 2000L, # maximum peaks per sample for training SeATAC\n",
        "  max_peaks_count_reads = 10000L,  # maximum peaks for counting reads\n",
        "  max_peaks_train_histone = 50000L, # maximum peaks for training histone model\n",
        "  max_peaks_test_histone = 20000L, # maximum peaks for testing histone model\n",
        "  batch_size = 256L,\n",
        "  epochs = 100L,\n",
        "  validation_split = 0.2,\n",
        "  dataset_train_histone = c('GM12878'),\n",
        "  min_histone_signal_train = 100,\n",
        "  min_histone_signal_test = 10,\n",
        "\n",
        "  remote_representation_file = 'https://s3.msi.umn.edu/gongx030/projects/seatac_project/etv2_20230108a.RData'\n",
        "\n",
        ")"
      ],
      "execution_count": null,
      "outputs": []
    },
    {
      "cell_type": "code",
      "source": [
        "ARGS$local_bam_files <- gsub('https://', './', ARGS$remote_bam_files)"
      ],
      "metadata": {
        "id": "DrihFrVyJBnb"
      },
      "execution_count": null,
      "outputs": []
    },
    {
      "cell_type": "code",
      "source": [
        "ARGS$remote_summit_files <- gsub('.bam', '_summits.bed', ARGS$remote_bam_files)\n",
        "ARGS$local_summit_files <- gsub('https://', './', ARGS$remote_summit_files)"
      ],
      "metadata": {
        "id": "j1ARnDoIJCHe"
      },
      "execution_count": null,
      "outputs": []
    },
    {
      "cell_type": "code",
      "source": [
        "ARGS$local_bw_files <- list()\n",
        "for (i in names(ARGS$remote_bw_files)){\n",
        "  for (j in names(ARGS$remote_bw_files[[i]])){\n",
        "    ARGS$local_bw_files[[i]][j] <- gsub('https://', './', ARGS$remote_bw_files[[i]][j])\n",
        "  }\n",
        "  stopifnot(all(file.exists(ARGS$local_bw_files[[i]])))\n",
        "}"
      ],
      "metadata": {
        "id": "tE2dZNCQJHkr"
      },
      "execution_count": null,
      "outputs": []
    },
    {
      "cell_type": "code",
      "source": [
        "ARGS$remote_nucleoatac_files <- gsub('.bam', '.nucleoatac_signal.smooth.bw', ARGS$remote_bam_files)\n",
        "ARGS$local_nucleoatac_files <- gsub('https://', './', ARGS$remote_nucleoatac_files)"
      ],
      "metadata": {
        "id": "qEcKLfKaK3nM"
      },
      "execution_count": null,
      "outputs": []
    },
    {
      "cell_type": "code",
      "source": [
        "ARGS$remote_macs2_files <- gsub('.bam', '_treat_pileup.bw', ARGS$remote_bam_files)\n",
        "ARGS$local_macs2_files <- gsub('https://', './', ARGS$remote_macs2_files)"
      ],
      "metadata": {
        "id": "ykp7e5duLBbw"
      },
      "execution_count": null,
      "outputs": []
    },
    {
      "cell_type": "code",
      "source": [
        "ARGS$local_representation_file <- gsub('https://', './', ARGS$remote_representation_file)\n",
        "ARGS$s3_representation_file <- gsub('https://s3.msi.umn.edu/', 's3://', ARGS$remote_representation_file)"
      ],
      "metadata": {
        "id": "9UVwTcZ0xGT7"
      },
      "execution_count": null,
      "outputs": []
    },
    {
      "cell_type": "markdown",
      "source": [
        "## Download files"
      ],
      "metadata": {
        "id": "RKSmgudb_WsU"
      }
    },
    {
      "cell_type": "markdown",
      "source": [
        "### BAM files"
      ],
      "metadata": {
        "id": "8HEq54UY_n_a"
      }
    },
    {
      "cell_type": "code",
      "source": [
        "download_remote_file(ARGS$remote_bam_files)"
      ],
      "metadata": {
        "colab": {
          "base_uri": "https://localhost:8080/"
        },
        "id": "ymnU3dMZ_Vi3",
        "outputId": "766f3caf-8d72-4703-b923-52d4ede8cb38"
      },
      "execution_count": null,
      "outputs": [
        {
          "output_type": "stream",
          "name": "stderr",
          "text": [
            "wget -cx https://s3.msi.umn.edu/gongx030/datasets/dataset=Buenrostro_version=20170721a/GM12878_50k_cells.bam\n",
            "\n",
            "wget -cx https://s3.msi.umn.edu/gongx030/datasets/dataset=K562_version=20230104a/K562.bam\n",
            "\n",
            "wget -cx https://s3.msi.umn.edu/gongx030/datasets/dataset=Etv2ATAC_version=20190228b/MEF_NoDox.bam\n",
            "\n",
            "wget -cx https://s3.msi.umn.edu/gongx030/datasets/dataset=Etv2ATAC_version=20190228b/MEF_Dox_D7_Flk1pos.bam\n",
            "\n",
            "wget -cx https://s3.msi.umn.edu/gongx030/datasets/dataset=Etv2ATAC_version=20190228b/EB_NoDox_D25.bam\n",
            "\n",
            "wget -cx https://s3.msi.umn.edu/gongx030/datasets/dataset=Etv2ATAC_version=20190228b/EB_Dox_D25_Flk1pos.bam\n",
            "\n"
          ]
        }
      ]
    },
    {
      "cell_type": "code",
      "source": [
        "stopifnot(all(file.exists(ARGS$local_bam_files)))"
      ],
      "metadata": {
        "id": "nKTE-WNX_jrl"
      },
      "execution_count": null,
      "outputs": []
    },
    {
      "cell_type": "markdown",
      "source": [
        "### Summit files"
      ],
      "metadata": {
        "id": "MU7a_aUb_qSl"
      }
    },
    {
      "cell_type": "code",
      "source": [
        "download_remote_file(ARGS$remote_summit_files)"
      ],
      "metadata": {
        "colab": {
          "base_uri": "https://localhost:8080/"
        },
        "id": "Zf8WMgNE_GJK",
        "outputId": "eb08bc2a-d058-4271-8dca-78be14307e63"
      },
      "execution_count": null,
      "outputs": [
        {
          "output_type": "stream",
          "name": "stderr",
          "text": [
            "wget -cx https://s3.msi.umn.edu/gongx030/datasets/dataset=Buenrostro_version=20170721a/GM12878_50k_cells_summits.bed\n",
            "\n",
            "wget -cx https://s3.msi.umn.edu/gongx030/datasets/dataset=K562_version=20230104a/K562_summits.bed\n",
            "\n",
            "wget -cx https://s3.msi.umn.edu/gongx030/datasets/dataset=Etv2ATAC_version=20190228b/MEF_NoDox_summits.bed\n",
            "\n",
            "wget -cx https://s3.msi.umn.edu/gongx030/datasets/dataset=Etv2ATAC_version=20190228b/MEF_Dox_D7_Flk1pos_summits.bed\n",
            "\n",
            "wget -cx https://s3.msi.umn.edu/gongx030/datasets/dataset=Etv2ATAC_version=20190228b/EB_NoDox_D25_summits.bed\n",
            "\n",
            "wget -cx https://s3.msi.umn.edu/gongx030/datasets/dataset=Etv2ATAC_version=20190228b/EB_Dox_D25_Flk1pos_summits.bed\n",
            "\n"
          ]
        }
      ]
    },
    {
      "cell_type": "code",
      "source": [
        "stopifnot(file.exists(ARGS$local_summit_files))"
      ],
      "metadata": {
        "id": "uXJpb9YE-Leb"
      },
      "execution_count": null,
      "outputs": []
    },
    {
      "cell_type": "markdown",
      "source": [
        "### bigwig files"
      ],
      "metadata": {
        "id": "w1uDNQzwDT3b"
      }
    },
    {
      "cell_type": "code",
      "source": [
        "for (i in names(ARGS$remote_bw_files)){\n",
        "  download_remote_file(ARGS$remote_bw_files[[i]])\n",
        "  stopifnot(all(file.exists(ARGS$local_bw_files[[i]])))\n",
        "}"
      ],
      "metadata": {
        "colab": {
          "base_uri": "https://localhost:8080/"
        },
        "id": "f0OqvDYFDhC-",
        "outputId": "9650771c-6f7f-4a0d-809f-7c9a9247f453"
      },
      "execution_count": null,
      "outputs": [
        {
          "output_type": "stream",
          "name": "stderr",
          "text": [
            "wget -cx https://www.encodeproject.org/files/ENCFF440GZA/@@download/ENCFF440GZA.bigWig\n",
            "\n",
            "wget -cx https://www.encodeproject.org/files/ENCFF372EXQ/@@download/ENCFF372EXQ.bigWig\n",
            "\n",
            "wget -cx https://www.encodeproject.org/files/ENCFF154XCY/@@download/ENCFF154XCY.bigWig\n",
            "\n",
            "wget -cx https://www.encodeproject.org/files/ENCFF488FYZ/@@download/ENCFF488FYZ.bigWig\n",
            "\n",
            "wget -cx https://www.encodeproject.org/files/ENCFF700ZWZ/@@download/ENCFF700ZWZ.bigWig\n",
            "\n",
            "wget -cx https://www.encodeproject.org/files/ENCFF285EUA/@@download/ENCFF285EUA.bigWig\n",
            "\n",
            "wget -cx https://s3.msi.umn.edu/gongx030/datasets/dataset=Etv2PioneerChIPseq_version=20191203a/MEF_NoDox_d0_H3K27ac_FE.bw\n",
            "\n",
            "wget -cx https://s3.msi.umn.edu/gongx030/datasets/dataset=Etv2PioneerChIPseq_version=20191203a/MEF_Dox_d7_H3K27ac_FE.bw\n",
            "\n",
            "wget -cx https://s3.msi.umn.edu/gongx030/datasets/dataset=Etv2PioneerChIPseq_version=20191203a/EB_NoDox_12h_H3K27ac_FE.bw\n",
            "\n",
            "wget -cx https://s3.msi.umn.edu/gongx030/datasets/dataset=Etv2PioneerChIPseq_version=20191203a/EB_Dox_12h_H3K27ac_FE.bw\n",
            "\n"
          ]
        }
      ]
    },
    {
      "cell_type": "markdown",
      "source": [
        "### NucleoATAC files"
      ],
      "metadata": {
        "id": "h3MfAa5TLUig"
      }
    },
    {
      "cell_type": "code",
      "source": [
        "download_remote_file(ARGS$remote_nucleoatac_files)"
      ],
      "metadata": {
        "colab": {
          "base_uri": "https://localhost:8080/"
        },
        "outputId": "86a219c5-4d30-4db8-fa65-81b965d5131a",
        "id": "g6d_IXmqLUig"
      },
      "execution_count": null,
      "outputs": [
        {
          "output_type": "stream",
          "name": "stderr",
          "text": [
            "wget -cx https://s3.msi.umn.edu/gongx030/datasets/dataset=Buenrostro_version=20170721a/GM12878_50k_cells.nucleoatac_signal.smooth.bw\n",
            "\n",
            "wget -cx https://s3.msi.umn.edu/gongx030/datasets/dataset=K562_version=20230104a/K562.nucleoatac_signal.smooth.bw\n",
            "\n",
            "wget -cx https://s3.msi.umn.edu/gongx030/datasets/dataset=Etv2ATAC_version=20190228b/MEF_NoDox.nucleoatac_signal.smooth.bw\n",
            "\n",
            "wget -cx https://s3.msi.umn.edu/gongx030/datasets/dataset=Etv2ATAC_version=20190228b/MEF_Dox_D7_Flk1pos.nucleoatac_signal.smooth.bw\n",
            "\n",
            "wget -cx https://s3.msi.umn.edu/gongx030/datasets/dataset=Etv2ATAC_version=20190228b/EB_NoDox_D25.nucleoatac_signal.smooth.bw\n",
            "\n",
            "wget -cx https://s3.msi.umn.edu/gongx030/datasets/dataset=Etv2ATAC_version=20190228b/EB_Dox_D25_Flk1pos.nucleoatac_signal.smooth.bw\n",
            "\n"
          ]
        }
      ]
    },
    {
      "cell_type": "code",
      "source": [
        "stopifnot(all(file.exists(ARGS$local_nucleoatac_files)))"
      ],
      "metadata": {
        "id": "zNGUdPnLLcw9"
      },
      "execution_count": null,
      "outputs": []
    },
    {
      "cell_type": "markdown",
      "source": [
        "### MACS2 pileup files"
      ],
      "metadata": {
        "id": "lbWxvbsvLpNu"
      }
    },
    {
      "cell_type": "code",
      "source": [
        "download_remote_file(ARGS$remote_macs2_files)"
      ],
      "metadata": {
        "colab": {
          "base_uri": "https://localhost:8080/"
        },
        "outputId": "236a2cff-28db-47fd-8c25-dc18f2df4f52",
        "id": "93X2KoWiLpNu"
      },
      "execution_count": null,
      "outputs": [
        {
          "output_type": "stream",
          "name": "stderr",
          "text": [
            "wget -cx https://s3.msi.umn.edu/gongx030/datasets/dataset=Buenrostro_version=20170721a/GM12878_50k_cells_treat_pileup.bw\n",
            "\n",
            "wget -cx https://s3.msi.umn.edu/gongx030/datasets/dataset=K562_version=20230104a/K562_treat_pileup.bw\n",
            "\n",
            "wget -cx https://s3.msi.umn.edu/gongx030/datasets/dataset=Etv2ATAC_version=20190228b/MEF_NoDox_treat_pileup.bw\n",
            "\n",
            "wget -cx https://s3.msi.umn.edu/gongx030/datasets/dataset=Etv2ATAC_version=20190228b/MEF_Dox_D7_Flk1pos_treat_pileup.bw\n",
            "\n",
            "wget -cx https://s3.msi.umn.edu/gongx030/datasets/dataset=Etv2ATAC_version=20190228b/EB_NoDox_D25_treat_pileup.bw\n",
            "\n",
            "wget -cx https://s3.msi.umn.edu/gongx030/datasets/dataset=Etv2ATAC_version=20190228b/EB_Dox_D25_Flk1pos_treat_pileup.bw\n",
            "\n"
          ]
        }
      ]
    },
    {
      "cell_type": "code",
      "source": [
        "stopifnot(all(file.exists(ARGS$local_macs2_files)))"
      ],
      "metadata": {
        "id": "K324zP2-LpNu"
      },
      "execution_count": null,
      "outputs": []
    },
    {
      "cell_type": "markdown",
      "source": [
        "## Read summits for training SeATAC"
      ],
      "metadata": {
        "id": "mPYL5SnL-Dan"
      }
    },
    {
      "cell_type": "code",
      "source": [
        "x <- list()\n",
        "for (i in 1:length(ARGS$local_bam_files)){\n",
        "  sprintf('reading %s', ARGS$local_summit_files[i]) %>% message()\n",
        "  gr0 <- read.table(ARGS$local_summit_files[i], header = FALSE, sep = '\\t')\n",
        "  gr0 <- GRanges(seqnames = gr0[, 1], range = IRanges(start = gr0[, 2], end = gr0[, 3]))\n",
        "  gr0 <- gr0[seqnames(gr0) %in% sprintf('chr%s', c(1:22, 'X'))]\n",
        "  gr0 <- resize(gr0, fix = 'center', width = ARGS$window_size)\n",
        "\n",
        "  gr <- slidingWindows(gr0, width = ARGS$block_size, step = ARGS$bin_size) %>% unlist()\n",
        "  sprintf('total blocks: %d', length(gr)) %>% message()\n",
        "  gr <- sample(gr, min(length(gr), ARGS$max_peaks_count_reads))\n",
        "  sprintf('total blocks for training: %d', length(gr)) %>% message()\n",
        "\n",
        "  counts <- count_reads(gr, ARGS$local_bam_files[i], genome = get_bsgenome(ARGS$genome_versions[i]),  fragment_size_range = c(0, ARGS$fragment_size_range_max))\n",
        "\n",
        "  valid <- counts >= ARGS$min_reads_train_seatac\n",
        "  sprintf('number of valid peaks for VaeModel(>=%d reads): %d', ARGS$min_reads_train_seatac, sum(valid)) %>% message()\n",
        "\n",
        "  gr <- gr[valid]\n",
        "  gr <- sample(gr, min(length(gr), ARGS$max_peaks_train_seatac))\n",
        "  sprintf('sampling %d valid peaks for training VaeModel', length(gr)) %>% message()\n",
        "\n",
        "  x[[i]] <- read_vplot(\n",
        "    gr,\n",
        "    filenames = ARGS$local_bam_files[i], \n",
        "    genome = get_bsgenome(ARGS$genome_versions[i]),\n",
        "    bin_size = ARGS$bin_size,\n",
        "    fragment_size_range = c(0, ARGS$fragment_size_range_max),\n",
        "    fragment_size_interval = ARGS$fragment_size_interval \n",
        "  )\n",
        "}"
      ],
      "metadata": {
        "colab": {
          "base_uri": "https://localhost:8080/"
        },
        "id": "kxl2tCmOQiND",
        "outputId": "edd5e109-11f5-48d7-e250-4dfc9e454be7"
      },
      "execution_count": null,
      "outputs": [
        {
          "output_type": "stream",
          "name": "stderr",
          "text": [
            "reading ./s3.msi.umn.edu/gongx030/datasets/dataset=Buenrostro_version=20170721a/GM12878_50k_cells_summits.bed\n",
            "\n",
            "total blocks: 28502565\n",
            "\n",
            "total blocks for training: 10000\n",
            "\n",
            "Loading required package: BSgenome.Mmusculus.UCSC.mm10\n",
            "\n",
            "Loading required package: BSgenome\n",
            "\n",
            "Loading required package: Biostrings\n",
            "\n",
            "Loading required package: XVector\n",
            "\n",
            "\n",
            "Attaching package: ‘Biostrings’\n",
            "\n",
            "\n",
            "The following object is masked from ‘package:base’:\n",
            "\n",
            "    strsplit\n",
            "\n",
            "\n",
            "Loading required package: rtracklayer\n",
            "\n",
            "Loading required package: BSgenome.Hsapiens.UCSC.hg19\n",
            "\n",
            "read_bam | reading ./s3.msi.umn.edu/gongx030/datasets/dataset=Buenrostro_version=20170721a/GM12878_50k_cells.bam\n",
            "\n",
            "number of valid peaks for VaeModel(>=5 reads): 9978\n",
            "\n",
            "Warning message in NSBS(i, x, exact = exact, strict.upper.bound = !allow.append, :\n",
            "“subscript is an array, passing it thru as.vector() first”\n",
            "sampling 2000 valid peaks for training VaeModel\n",
            "\n",
            "read_bam | reading ./s3.msi.umn.edu/gongx030/datasets/dataset=Buenrostro_version=20170721a/GM12878_50k_cells.bam\n",
            "\n",
            "as(<ngCMatrix>, \"dgCMatrix\") is deprecated since Matrix 1.5-0; do as(., \"dMatrix\") instead\n",
            "\n",
            "reading ./s3.msi.umn.edu/gongx030/datasets/dataset=K562_version=20230104a/K562_summits.bed\n",
            "\n",
            "total blocks: 54366312\n",
            "\n",
            "total blocks for training: 10000\n",
            "\n",
            "read_bam | reading ./s3.msi.umn.edu/gongx030/datasets/dataset=K562_version=20230104a/K562.bam\n",
            "\n",
            "number of valid peaks for VaeModel(>=5 reads): 9975\n",
            "\n",
            "Warning message in NSBS(i, x, exact = exact, strict.upper.bound = !allow.append, :\n",
            "“subscript is an array, passing it thru as.vector() first”\n",
            "sampling 2000 valid peaks for training VaeModel\n",
            "\n",
            "read_bam | reading ./s3.msi.umn.edu/gongx030/datasets/dataset=K562_version=20230104a/K562.bam\n",
            "\n",
            "reading ./s3.msi.umn.edu/gongx030/datasets/dataset=Etv2ATAC_version=20190228b/MEF_NoDox_summits.bed\n",
            "\n",
            "total blocks: 16933644\n",
            "\n",
            "total blocks for training: 10000\n",
            "\n",
            "read_bam | reading ./s3.msi.umn.edu/gongx030/datasets/dataset=Etv2ATAC_version=20190228b/MEF_NoDox.bam\n",
            "\n",
            "number of valid peaks for VaeModel(>=5 reads): 9910\n",
            "\n",
            "Warning message in NSBS(i, x, exact = exact, strict.upper.bound = !allow.append, :\n",
            "“subscript is an array, passing it thru as.vector() first”\n",
            "sampling 2000 valid peaks for training VaeModel\n",
            "\n",
            "read_bam | reading ./s3.msi.umn.edu/gongx030/datasets/dataset=Etv2ATAC_version=20190228b/MEF_NoDox.bam\n",
            "\n",
            "reading ./s3.msi.umn.edu/gongx030/datasets/dataset=Etv2ATAC_version=20190228b/MEF_Dox_D7_Flk1pos_summits.bed\n",
            "\n",
            "total blocks: 8058960\n",
            "\n",
            "total blocks for training: 10000\n",
            "\n",
            "read_bam | reading ./s3.msi.umn.edu/gongx030/datasets/dataset=Etv2ATAC_version=20190228b/MEF_Dox_D7_Flk1pos.bam\n",
            "\n",
            "number of valid peaks for VaeModel(>=5 reads): 9877\n",
            "\n",
            "Warning message in NSBS(i, x, exact = exact, strict.upper.bound = !allow.append, :\n",
            "“subscript is an array, passing it thru as.vector() first”\n",
            "sampling 2000 valid peaks for training VaeModel\n",
            "\n",
            "read_bam | reading ./s3.msi.umn.edu/gongx030/datasets/dataset=Etv2ATAC_version=20190228b/MEF_Dox_D7_Flk1pos.bam\n",
            "\n",
            "reading ./s3.msi.umn.edu/gongx030/datasets/dataset=Etv2ATAC_version=20190228b/EB_NoDox_D25_summits.bed\n",
            "\n",
            "total blocks: 23340954\n",
            "\n",
            "total blocks for training: 10000\n",
            "\n",
            "read_bam | reading ./s3.msi.umn.edu/gongx030/datasets/dataset=Etv2ATAC_version=20190228b/EB_NoDox_D25.bam\n",
            "\n",
            "number of valid peaks for VaeModel(>=5 reads): 9913\n",
            "\n",
            "Warning message in NSBS(i, x, exact = exact, strict.upper.bound = !allow.append, :\n",
            "“subscript is an array, passing it thru as.vector() first”\n",
            "sampling 2000 valid peaks for training VaeModel\n",
            "\n",
            "read_bam | reading ./s3.msi.umn.edu/gongx030/datasets/dataset=Etv2ATAC_version=20190228b/EB_NoDox_D25.bam\n",
            "\n",
            "reading ./s3.msi.umn.edu/gongx030/datasets/dataset=Etv2ATAC_version=20190228b/EB_Dox_D25_Flk1pos_summits.bed\n",
            "\n",
            "total blocks: 15835092\n",
            "\n",
            "total blocks for training: 10000\n",
            "\n",
            "read_bam | reading ./s3.msi.umn.edu/gongx030/datasets/dataset=Etv2ATAC_version=20190228b/EB_Dox_D25_Flk1pos.bam\n",
            "\n",
            "number of valid peaks for VaeModel(>=5 reads): 9712\n",
            "\n",
            "Warning message in NSBS(i, x, exact = exact, strict.upper.bound = !allow.append, :\n",
            "“subscript is an array, passing it thru as.vector() first”\n",
            "sampling 2000 valid peaks for training VaeModel\n",
            "\n",
            "read_bam | reading ./s3.msi.umn.edu/gongx030/datasets/dataset=Etv2ATAC_version=20190228b/EB_Dox_D25_Flk1pos.bam\n",
            "\n"
          ]
        }
      ]
    },
    {
      "cell_type": "code",
      "source": [
        "names(x) <- names(ARGS$local_bam_files)\n",
        "x <- VplotsList(x)"
      ],
      "metadata": {
        "id": "iaTy1u8-Lh4_"
      },
      "execution_count": null,
      "outputs": []
    },
    {
      "cell_type": "markdown",
      "source": [
        "## Training SeATAC"
      ],
      "metadata": {
        "id": "fKlh1WaFHi41"
      }
    },
    {
      "cell_type": "code",
      "source": [
        "model <- VaeModel(x, latent_dim = ARGS$latent_dim)"
      ],
      "metadata": {
        "id": "n6hLf5vMM0tp"
      },
      "execution_count": null,
      "outputs": []
    },
    {
      "cell_type": "code",
      "source": [
        "model <- model %>% fit(x, batch_size = ARGS$batch_size, epochs = ARGS$epochs, compile = TRUE)"
      ],
      "metadata": {
        "colab": {
          "base_uri": "https://localhost:8080/"
        },
        "id": "WpmMawIsM0wQ",
        "outputId": "d1e57224-7818-4cff-de82-be1b0a90d621"
      },
      "execution_count": null,
      "outputs": [
        {
          "output_type": "stream",
          "name": "stderr",
          "text": [
            "epoch=     1/   100 | beta=1.000e+00 | loss= 6128.3309820 | loss_reconstruction= 6125.6838015 | loss_kl=    2.6471532\n",
            "\n",
            "epoch=     2/   100 | beta=1.000e+00 | loss= 4062.7965166 | loss_reconstruction= 4061.0384444 | loss_kl=    1.7580885\n",
            "\n",
            "epoch=     3/   100 | beta=1.000e+00 | loss= 1676.7342711 | loss_reconstruction= 1676.4609245 | loss_kl=    0.2733526\n",
            "\n",
            "epoch=     4/   100 | beta=1.000e+00 | loss=  549.2022004 | loss_reconstruction=  549.0192540 | loss_kl=    0.1829454\n",
            "\n",
            "epoch=     5/   100 | beta=1.000e+00 | loss=  375.0864005 | loss_reconstruction=  373.8919106 | loss_kl=    1.1944921\n",
            "\n",
            "epoch=     6/   100 | beta=1.000e+00 | loss=  337.0319805 | loss_reconstruction=  334.8865837 | loss_kl=    2.1453968\n",
            "\n",
            "epoch=     7/   100 | beta=1.000e+00 | loss=  325.4783419 | loss_reconstruction=  322.0617731 | loss_kl=    3.4165678\n",
            "\n",
            "epoch=     8/   100 | beta=1.000e+00 | loss=  321.1480596 | loss_reconstruction=  317.4270020 | loss_kl=    3.7210572\n",
            "\n",
            "epoch=     9/   100 | beta=1.000e+00 | loss=  316.3684209 | loss_reconstruction=  312.1369301 | loss_kl=    4.2314911\n",
            "\n",
            "epoch=    10/   100 | beta=1.000e+00 | loss=  314.2934304 | loss_reconstruction=  309.3346636 | loss_kl=    4.9587679\n",
            "\n",
            "epoch=    11/   100 | beta=1.000e+00 | loss=  311.9223315 | loss_reconstruction=  305.6621808 | loss_kl=    6.2601504\n",
            "\n",
            "epoch=    12/   100 | beta=1.000e+00 | loss=  308.3014617 | loss_reconstruction=  301.6694271 | loss_kl=    6.6320346\n",
            "\n",
            "epoch=    13/   100 | beta=1.000e+00 | loss=  305.8138386 | loss_reconstruction=  298.8980041 | loss_kl=    6.9158329\n",
            "\n",
            "epoch=    14/   100 | beta=1.000e+00 | loss=  303.7753543 | loss_reconstruction=  296.6873711 | loss_kl=    7.0879833\n",
            "\n",
            "epoch=    15/   100 | beta=1.000e+00 | loss=  302.5262675 | loss_reconstruction=  295.1139692 | loss_kl=    7.4122976\n",
            "\n",
            "epoch=    16/   100 | beta=1.000e+00 | loss=  301.7984827 | loss_reconstruction=  293.9155848 | loss_kl=    7.8828987\n",
            "\n",
            "epoch=    17/   100 | beta=1.000e+00 | loss=  302.1595245 | loss_reconstruction=  294.1140497 | loss_kl=    8.0454746\n",
            "\n",
            "epoch=    18/   100 | beta=1.000e+00 | loss=  301.7289796 | loss_reconstruction=  293.6040357 | loss_kl=    8.1249442\n",
            "\n",
            "epoch=    19/   100 | beta=1.000e+00 | loss=  300.5349933 | loss_reconstruction=  292.5009107 | loss_kl=    8.0340816\n",
            "\n",
            "epoch=    20/   100 | beta=1.000e+00 | loss=  298.5338622 | loss_reconstruction=  290.3020373 | loss_kl=    8.2318251\n",
            "\n",
            "epoch=    21/   100 | beta=1.000e+00 | loss=  298.5018996 | loss_reconstruction=  290.2817428 | loss_kl=    8.2201562\n",
            "\n",
            "epoch=    22/   100 | beta=1.000e+00 | loss=  298.8872957 | loss_reconstruction=  290.7304129 | loss_kl=    8.1568824\n",
            "\n",
            "epoch=    23/   100 | beta=1.000e+00 | loss=  298.1546345 | loss_reconstruction=  289.8921006 | loss_kl=    8.2625341\n",
            "\n",
            "epoch=    24/   100 | beta=1.000e+00 | loss=  298.9325526 | loss_reconstruction=  290.6906819 | loss_kl=    8.2418700\n",
            "\n",
            "epoch=    25/   100 | beta=1.000e+00 | loss=  298.3492126 | loss_reconstruction=  290.0529116 | loss_kl=    8.2963009\n",
            "\n",
            "epoch=    26/   100 | beta=1.000e+00 | loss=  297.3158894 | loss_reconstruction=  289.0347400 | loss_kl=    8.2811499\n",
            "\n",
            "epoch=    27/   100 | beta=1.000e+00 | loss=  299.8180708 | loss_reconstruction=  291.4314530 | loss_kl=    8.3866166\n",
            "\n",
            "epoch=    28/   100 | beta=1.000e+00 | loss=  297.4151618 | loss_reconstruction=  289.1341160 | loss_kl=    8.2810461\n",
            "\n",
            "epoch=    29/   100 | beta=1.000e+00 | loss=  297.8026448 | loss_reconstruction=  289.4216805 | loss_kl=    8.3809633\n",
            "\n",
            "epoch=    30/   100 | beta=1.000e+00 | loss=  297.7627826 | loss_reconstruction=  289.4500934 | loss_kl=    8.3126892\n",
            "\n",
            "epoch=    31/   100 | beta=1.000e+00 | loss=  296.8073347 | loss_reconstruction=  288.4857817 | loss_kl=    8.3215528\n",
            "\n",
            "epoch=    32/   100 | beta=1.000e+00 | loss=  296.6586930 | loss_reconstruction=  288.3812350 | loss_kl=    8.2774594\n",
            "\n",
            "epoch=    33/   100 | beta=1.000e+00 | loss=  296.8430608 | loss_reconstruction=  288.4695288 | loss_kl=    8.3735309\n",
            "\n",
            "epoch=    34/   100 | beta=1.000e+00 | loss=  296.2273430 | loss_reconstruction=  287.8728024 | loss_kl=    8.3545388\n",
            "\n",
            "epoch=    35/   100 | beta=1.000e+00 | loss=  296.4337168 | loss_reconstruction=  288.0780257 | loss_kl=    8.3556900\n",
            "\n",
            "epoch=    36/   100 | beta=1.000e+00 | loss=  296.2318862 | loss_reconstruction=  287.7896381 | loss_kl=    8.4422492\n",
            "\n",
            "epoch=    37/   100 | beta=1.000e+00 | loss=  297.4825806 | loss_reconstruction=  289.0895908 | loss_kl=    8.3929881\n",
            "\n",
            "epoch=    38/   100 | beta=1.000e+00 | loss=  297.2415966 | loss_reconstruction=  288.7895388 | loss_kl=    8.4520580\n",
            "\n",
            "epoch=    39/   100 | beta=1.000e+00 | loss=  296.0601703 | loss_reconstruction=  287.6950138 | loss_kl=    8.3651559\n",
            "\n",
            "epoch=    40/   100 | beta=1.000e+00 | loss=  295.8499642 | loss_reconstruction=  287.4122477 | loss_kl=    8.4377163\n",
            "\n",
            "epoch=    41/   100 | beta=1.000e+00 | loss=  296.0570708 | loss_reconstruction=  287.6181176 | loss_kl=    8.4389524\n",
            "\n",
            "epoch=    42/   100 | beta=1.000e+00 | loss=  295.4797220 | loss_reconstruction=  287.0725117 | loss_kl=    8.4072103\n",
            "\n",
            "epoch=    43/   100 | beta=1.000e+00 | loss=  295.5425733 | loss_reconstruction=  287.0181885 | loss_kl=    8.5243865\n",
            "\n",
            "epoch=    44/   100 | beta=1.000e+00 | loss=  295.3477390 | loss_reconstruction=  286.8887144 | loss_kl=    8.4590265\n",
            "\n",
            "epoch=    45/   100 | beta=1.000e+00 | loss=  295.0007974 | loss_reconstruction=  286.5296975 | loss_kl=    8.4710990\n",
            "\n",
            "epoch=    46/   100 | beta=1.000e+00 | loss=  295.3218906 | loss_reconstruction=  286.9235957 | loss_kl=    8.3982950\n",
            "\n",
            "epoch=    47/   100 | beta=1.000e+00 | loss=  298.2076380 | loss_reconstruction=  289.5903317 | loss_kl=    8.6173065\n",
            "\n",
            "epoch=    48/   100 | beta=1.000e+00 | loss=  295.6444764 | loss_reconstruction=  287.1953862 | loss_kl=    8.4490924\n",
            "\n",
            "epoch=    49/   100 | beta=1.000e+00 | loss=  295.0846928 | loss_reconstruction=  286.5520289 | loss_kl=    8.5326645\n",
            "\n",
            "epoch=    50/   100 | beta=1.000e+00 | loss=  294.9569007 | loss_reconstruction=  286.4620342 | loss_kl=    8.4948649\n",
            "\n",
            "epoch=    51/   100 | beta=1.000e+00 | loss=  296.2002112 | loss_reconstruction=  287.7108138 | loss_kl=    8.4893970\n",
            "\n",
            "epoch=    52/   100 | beta=1.000e+00 | loss=  294.9740721 | loss_reconstruction=  286.3764713 | loss_kl=    8.5975981\n",
            "\n",
            "epoch=    53/   100 | beta=1.000e+00 | loss=  294.5983345 | loss_reconstruction=  286.0606293 | loss_kl=    8.5377078\n",
            "\n",
            "epoch=    54/   100 | beta=1.000e+00 | loss=  294.3866830 | loss_reconstruction=  285.8291402 | loss_kl=    8.5575422\n",
            "\n",
            "epoch=    55/   100 | beta=1.000e+00 | loss=  294.4893471 | loss_reconstruction=  285.8456642 | loss_kl=    8.6436828\n",
            "\n",
            "epoch=    56/   100 | beta=1.000e+00 | loss=  294.4435831 | loss_reconstruction=  285.8446688 | loss_kl=    8.5989141\n",
            "\n",
            "epoch=    57/   100 | beta=1.000e+00 | loss=  294.4420588 | loss_reconstruction=  285.8518738 | loss_kl=    8.5901862\n",
            "\n",
            "epoch=    58/   100 | beta=1.000e+00 | loss=  294.5927504 | loss_reconstruction=  285.8806143 | loss_kl=    8.7121351\n",
            "\n",
            "epoch=    59/   100 | beta=1.000e+00 | loss=  294.8298298 | loss_reconstruction=  286.1473298 | loss_kl=    8.6825001\n",
            "\n",
            "epoch=    60/   100 | beta=1.000e+00 | loss=  294.1966686 | loss_reconstruction=  285.5343427 | loss_kl=    8.6623266\n",
            "\n",
            "epoch=    61/   100 | beta=1.000e+00 | loss=  294.0220506 | loss_reconstruction=  285.3599526 | loss_kl=    8.6620980\n",
            "\n",
            "epoch=    62/   100 | beta=1.000e+00 | loss=  293.8774411 | loss_reconstruction=  285.1681564 | loss_kl=    8.7092834\n",
            "\n",
            "epoch=    63/   100 | beta=1.000e+00 | loss=  293.7481530 | loss_reconstruction=  284.9986988 | loss_kl=    8.7494542\n",
            "\n",
            "epoch=    64/   100 | beta=1.000e+00 | loss=  293.7230043 | loss_reconstruction=  285.0135011 | loss_kl=    8.7095044\n",
            "\n",
            "epoch=    65/   100 | beta=1.000e+00 | loss=  293.7162677 | loss_reconstruction=  284.9731689 | loss_kl=    8.7430993\n",
            "\n",
            "epoch=    66/   100 | beta=1.000e+00 | loss=  293.5301494 | loss_reconstruction=  284.7226478 | loss_kl=    8.8075007\n",
            "\n",
            "epoch=    67/   100 | beta=1.000e+00 | loss=  293.5638554 | loss_reconstruction=  284.7742313 | loss_kl=    8.7896232\n",
            "\n",
            "epoch=    68/   100 | beta=1.000e+00 | loss=  293.3756198 | loss_reconstruction=  284.5592668 | loss_kl=    8.8163531\n",
            "\n",
            "epoch=    69/   100 | beta=1.000e+00 | loss=  293.3139950 | loss_reconstruction=  284.4853210 | loss_kl=    8.8286730\n",
            "\n",
            "epoch=    70/   100 | beta=1.000e+00 | loss=  293.3082279 | loss_reconstruction=  284.5064509 | loss_kl=    8.8017780\n",
            "\n",
            "epoch=    71/   100 | beta=1.000e+00 | loss=  293.2914341 | loss_reconstruction=  284.4375724 | loss_kl=    8.8538615\n",
            "\n",
            "epoch=    72/   100 | beta=1.000e+00 | loss=  293.0906203 | loss_reconstruction=  284.2260349 | loss_kl=    8.8645844\n",
            "\n",
            "epoch=    73/   100 | beta=1.000e+00 | loss=  292.9612557 | loss_reconstruction=  284.0707255 | loss_kl=    8.8905311\n",
            "\n",
            "epoch=    74/   100 | beta=1.000e+00 | loss=  292.8743189 | loss_reconstruction=  284.0061094 | loss_kl=    8.8682105\n",
            "\n",
            "epoch=    75/   100 | beta=1.000e+00 | loss=  292.7925814 | loss_reconstruction=  283.8461901 | loss_kl=    8.9463900\n",
            "\n",
            "epoch=    76/   100 | beta=1.000e+00 | loss=  292.7500010 | loss_reconstruction=  283.8282708 | loss_kl=    8.9217304\n",
            "\n",
            "epoch=    77/   100 | beta=1.000e+00 | loss=  292.5401319 | loss_reconstruction=  283.6380771 | loss_kl=    8.9020556\n",
            "\n",
            "epoch=    78/   100 | beta=1.000e+00 | loss=  292.5070031 | loss_reconstruction=  283.5225613 | loss_kl=    8.9844405\n",
            "\n",
            "epoch=    79/   100 | beta=1.000e+00 | loss=  292.4896036 | loss_reconstruction=  283.4982624 | loss_kl=    8.9913411\n",
            "\n",
            "epoch=    80/   100 | beta=1.000e+00 | loss=  292.3921635 | loss_reconstruction=  283.4358741 | loss_kl=    8.9562902\n",
            "\n",
            "epoch=    81/   100 | beta=1.000e+00 | loss=  292.3177510 | loss_reconstruction=  283.2431592 | loss_kl=    9.0745903\n",
            "\n",
            "epoch=    82/   100 | beta=1.000e+00 | loss=  292.2365898 | loss_reconstruction=  283.2400983 | loss_kl=    8.9964926\n",
            "\n",
            "epoch=    83/   100 | beta=1.000e+00 | loss=  292.1996889 | loss_reconstruction=  283.1369652 | loss_kl=    9.0627250\n",
            "\n",
            "epoch=    84/   100 | beta=1.000e+00 | loss=  292.0746236 | loss_reconstruction=  283.0182304 | loss_kl=    9.0563944\n",
            "\n",
            "epoch=    85/   100 | beta=1.000e+00 | loss=  292.0743457 | loss_reconstruction=  283.0274752 | loss_kl=    9.0468689\n",
            "\n",
            "epoch=    86/   100 | beta=1.000e+00 | loss=  291.9578646 | loss_reconstruction=  282.8730157 | loss_kl=    9.0848484\n",
            "\n",
            "epoch=    87/   100 | beta=1.000e+00 | loss=  291.9268302 | loss_reconstruction=  282.8270906 | loss_kl=    9.0997391\n",
            "\n",
            "epoch=    88/   100 | beta=1.000e+00 | loss=  291.8140853 | loss_reconstruction=  282.7307580 | loss_kl=    9.0833276\n",
            "\n",
            "epoch=    89/   100 | beta=1.000e+00 | loss=  291.8173354 | loss_reconstruction=  282.6757689 | loss_kl=    9.1415660\n",
            "\n",
            "epoch=    90/   100 | beta=1.000e+00 | loss=  291.7772691 | loss_reconstruction=  282.6422635 | loss_kl=    9.1350064\n",
            "\n",
            "epoch=    91/   100 | beta=1.000e+00 | loss=  291.6686755 | loss_reconstruction=  282.5625883 | loss_kl=    9.1060865\n",
            "\n",
            "epoch=    92/   100 | beta=1.000e+00 | loss=  291.6776104 | loss_reconstruction=  282.5026680 | loss_kl=    9.1749432\n",
            "\n",
            "epoch=    93/   100 | beta=1.000e+00 | loss=  291.6538281 | loss_reconstruction=  282.5063477 | loss_kl=    9.1474812\n",
            "\n",
            "epoch=    94/   100 | beta=1.000e+00 | loss=  291.5867394 | loss_reconstruction=  282.4340798 | loss_kl=    9.1526589\n",
            "\n",
            "epoch=    95/   100 | beta=1.000e+00 | loss=  291.5936279 | loss_reconstruction=  282.4863470 | loss_kl=    9.1072799\n",
            "\n",
            "epoch=    96/   100 | beta=1.000e+00 | loss=  291.5540736 | loss_reconstruction=  282.3726674 | loss_kl=    9.1814060\n",
            "\n",
            "epoch=    97/   100 | beta=1.000e+00 | loss=  291.5382207 | loss_reconstruction=  282.3604830 | loss_kl=    9.1777369\n",
            "\n",
            "epoch=    98/   100 | beta=1.000e+00 | loss=  291.5310477 | loss_reconstruction=  282.3957763 | loss_kl=    9.1352724\n",
            "\n",
            "epoch=    99/   100 | beta=1.000e+00 | loss=  291.5212539 | loss_reconstruction=  282.4013584 | loss_kl=    9.1198976\n",
            "\n",
            "epoch=   100/   100 | beta=1.000e+00 | loss=  291.5308913 | loss_reconstruction=  282.3913227 | loss_kl=    9.1395681\n",
            "\n"
          ]
        }
      ]
    },
    {
      "cell_type": "markdown",
      "source": [
        "## Etv2 motifs in Etv2 pioneer data"
      ],
      "metadata": {
        "id": "rMtJw9_E_6y1"
      }
    },
    {
      "cell_type": "code",
      "source": [
        "gr0 <- lapply(ARGS$local_summit_files[c('MEF_NoDox','MEF_Dox_D7_Flk1pos','EB_NoDox_D25','EB_Dox_D25_Flk1pos')], function(bed_file){\n",
        "  peaks <- read.table(bed_file, header = FALSE, sep = '\\t')\n",
        "  peaks <- GRanges(seqnames = peaks[, 1], range = IRanges(start = peaks[, 2], end = peaks[, 3]))\n",
        "  peaks <- resize(peaks, fix = 'center', width = ARGS[['step_size']])\n",
        "  peaks\n",
        "}) %>%\n",
        "  GRangesList() %>%\n",
        "  coverage() %>%\n",
        "  IRanges::slice(lower = 1, rangesOnly = TRUE) %>%\n",
        "  GRanges() %>%\n",
        "  resize(fix = 'center', width = 800L)\n",
        "gr0 <- gr0[seqnames(gr0) %in% sprintf('chr%s', c(1:22, 'X'))]   "
      ],
      "metadata": {
        "id": "VfOtAtty_6y1"
      },
      "execution_count": null,
      "outputs": []
    },
    {
      "cell_type": "code",
      "source": [
        "data('homer_pwms')"
      ],
      "metadata": {
        "id": "Q2nSKfk0_6y1"
      },
      "execution_count": null,
      "outputs": []
    },
    {
      "cell_type": "code",
      "source": [
        "j <- 82 # Etv2\n",
        "homer_pwms[j]"
      ],
      "metadata": {
        "colab": {
          "base_uri": "https://localhost:8080/",
          "height": 53
        },
        "outputId": "e2cf39f3-1eb8-4e88-fde2-f8d1f0a2898f",
        "id": "jq7qEVo-_6y1"
      },
      "execution_count": null,
      "outputs": [
        {
          "output_type": "display_data",
          "data": {
            "text/plain": [
              "PWMatrixList of length 1\n",
              "names(1): Etv2(ETS)/ES-ER71-ChIP-Seq(GSE59402)/Homer(0.967)"
            ]
          },
          "metadata": {}
        }
      ]
    },
    {
      "cell_type": "code",
      "source": [
        "gr_etv2 <- matchMotifs(homer_pwms[j], gr0, genome = BSgenome.Mmusculus.UCSC.mm10, out = 'positions')[[1]] %>%\n",
        "  resize(width = ARGS$block_size, fix = 'center')"
      ],
      "metadata": {
        "id": "uAShIOl5_6y2"
      },
      "execution_count": null,
      "outputs": []
    },
    {
      "cell_type": "code",
      "source": [
        "sprintf('number of motif-centric regions: %s', length(gr_etv2)) %>% message()"
      ],
      "metadata": {
        "colab": {
          "base_uri": "https://localhost:8080/"
        },
        "outputId": "428ed0a0-ca56-471e-907d-e467ab739481",
        "id": "oQ18FEeA_6y2"
      },
      "execution_count": null,
      "outputs": [
        {
          "output_type": "stream",
          "name": "stderr",
          "text": [
            "number of motif-centric regions: 32222\n",
            "\n"
          ]
        }
      ]
    },
    {
      "cell_type": "markdown",
      "source": [
        "## Read summits for histone model\n",
        "\n"
      ],
      "metadata": {
        "id": "eYUtdQ55s7cx"
      }
    },
    {
      "cell_type": "code",
      "source": [
        "x <- list()"
      ],
      "metadata": {
        "id": "wEHB-SsHpQje"
      },
      "execution_count": null,
      "outputs": []
    },
    {
      "cell_type": "code",
      "source": [
        "for (i in 1:length(ARGS$local_bam_files)){\n",
        "  sprintf('reading %s', ARGS$local_summit_files[i]) %>% message()\n",
        "\n",
        "  if (names(ARGS$local_bam_files)[i] %in% c('MEF_NoDox','MEF_Dox_D7_Flk1pos','EB_NoDox_D25','EB_Dox_D25_Flk1pos')){\n",
        "    gr <- gr_etv2\n",
        "  }else{\n",
        "    gr0 <- read.table(ARGS$local_summit_files[i], header = FALSE, sep = '\\t')\n",
        "    gr0 <- GRanges(seqnames = gr0[, 1], range = IRanges(start = gr0[, 2], end = gr0[, 3]))\n",
        "    gr0 <- gr0[seqnames(gr0) %in% sprintf('chr%s', c(1:22, 'X'))]\n",
        "    gr0 <- resize(gr0, fix = 'center', width = ARGS$window_size)\n",
        "\n",
        "    gr <- slidingWindows(gr0, width = ARGS$block_size, step = ARGS$bin_size) %>% unlist()\n",
        "  \n",
        "    if (names(ARGS$local_bam_files)[i] %in% c(ARGS$dataset_train_histone)){ # data for training histone marks\n",
        "      gr <- sample(gr, min(length(gr), ARGS$max_peaks_train_histone))\n",
        "      counts <- count_reads(gr, ARGS$local_bam_files[i], genome = get_bsgenome(ARGS$genome_versions[i]),  fragment_size_range = c(0, ARGS$fragment_size_range_max))\n",
        "      valid <- counts >= ARGS$min_reads_train_histone\n",
        "    }else{ # data for testing histone marks\n",
        "      gr <- sample(gr, min(length(gr), ARGS$max_peaks_test_histone))\n",
        "      counts <- count_reads(gr, ARGS$local_bam_files[i], genome = get_bsgenome(ARGS$genome_versions[i]),  fragment_size_range = c(0, ARGS$fragment_size_range_max))\n",
        "      valid <- counts >= ARGS$min_reads_test_histone\n",
        "    }\n",
        "    gr <- gr[valid]\n",
        "  }\n",
        "\n",
        "  sprintf('total blocks for %s: %d', names(ARGS$local_bam_files)[i], length(gr)) %>% message()\n",
        "\n",
        "  x[[i]] <- read_vplot(\n",
        "    gr,\n",
        "    filenames = ARGS$local_bam_files[i], \n",
        "    genome = get_bsgenome(ARGS$genome_versions[i]),\n",
        "    bin_size = ARGS$bin_size,\n",
        "    fragment_size_range = c(0, ARGS$fragment_size_range_max),\n",
        "    fragment_size_interval = ARGS$fragment_size_interval \n",
        "  )\n",
        "}"
      ],
      "metadata": {
        "colab": {
          "base_uri": "https://localhost:8080/"
        },
        "id": "EpI58cqzDOMH",
        "outputId": "9ec14a07-b8c0-4ff1-9ad8-6ee88b24608f"
      },
      "execution_count": null,
      "outputs": [
        {
          "output_type": "stream",
          "name": "stderr",
          "text": [
            "reading ./s3.msi.umn.edu/gongx030/datasets/dataset=Buenrostro_version=20170721a/GM12878_50k_cells_summits.bed\n",
            "\n",
            "read_bam | reading ./s3.msi.umn.edu/gongx030/datasets/dataset=Buenrostro_version=20170721a/GM12878_50k_cells.bam\n",
            "\n",
            "Warning message in NSBS(i, x, exact = exact, strict.upper.bound = !allow.append, :\n",
            "“subscript is an array, passing it thru as.vector() first”\n",
            "total blocks for GM12878: 49911\n",
            "\n",
            "read_bam | reading ./s3.msi.umn.edu/gongx030/datasets/dataset=Buenrostro_version=20170721a/GM12878_50k_cells.bam\n",
            "\n",
            "reading ./s3.msi.umn.edu/gongx030/datasets/dataset=K562_version=20230104a/K562_summits.bed\n",
            "\n",
            "read_bam | reading ./s3.msi.umn.edu/gongx030/datasets/dataset=K562_version=20230104a/K562.bam\n",
            "\n",
            "Warning message in NSBS(i, x, exact = exact, strict.upper.bound = !allow.append, :\n",
            "“subscript is an array, passing it thru as.vector() first”\n",
            "total blocks for K562: 19965\n",
            "\n",
            "read_bam | reading ./s3.msi.umn.edu/gongx030/datasets/dataset=K562_version=20230104a/K562.bam\n",
            "\n",
            "reading ./s3.msi.umn.edu/gongx030/datasets/dataset=Etv2ATAC_version=20190228b/MEF_NoDox_summits.bed\n",
            "\n",
            "total blocks for MEF_NoDox: 32222\n",
            "\n",
            "read_bam | reading ./s3.msi.umn.edu/gongx030/datasets/dataset=Etv2ATAC_version=20190228b/MEF_NoDox.bam\n",
            "\n",
            "reading ./s3.msi.umn.edu/gongx030/datasets/dataset=Etv2ATAC_version=20190228b/MEF_Dox_D7_Flk1pos_summits.bed\n",
            "\n",
            "total blocks for MEF_Dox_D7_Flk1pos: 32222\n",
            "\n",
            "read_bam | reading ./s3.msi.umn.edu/gongx030/datasets/dataset=Etv2ATAC_version=20190228b/MEF_Dox_D7_Flk1pos.bam\n",
            "\n",
            "reading ./s3.msi.umn.edu/gongx030/datasets/dataset=Etv2ATAC_version=20190228b/EB_NoDox_D25_summits.bed\n",
            "\n",
            "total blocks for EB_NoDox_D25: 32222\n",
            "\n",
            "read_bam | reading ./s3.msi.umn.edu/gongx030/datasets/dataset=Etv2ATAC_version=20190228b/EB_NoDox_D25.bam\n",
            "\n",
            "reading ./s3.msi.umn.edu/gongx030/datasets/dataset=Etv2ATAC_version=20190228b/EB_Dox_D25_Flk1pos_summits.bed\n",
            "\n",
            "total blocks for EB_Dox_D25_Flk1pos: 32222\n",
            "\n",
            "read_bam | reading ./s3.msi.umn.edu/gongx030/datasets/dataset=Etv2ATAC_version=20190228b/EB_Dox_D25_Flk1pos.bam\n",
            "\n"
          ]
        }
      ]
    },
    {
      "cell_type": "code",
      "source": [
        "names(x) <- names(ARGS$local_bam_files)\n",
        "x <- VplotsList(x)"
      ],
      "metadata": {
        "id": "J7WfbpmTFdCd"
      },
      "execution_count": null,
      "outputs": []
    },
    {
      "cell_type": "markdown",
      "source": [
        "## Get inputs for histone models"
      ],
      "metadata": {
        "id": "nvAmPknDDWVn"
      }
    },
    {
      "cell_type": "markdown",
      "source": [
        "The inputs for predicting histone marks. For SeATC, the inputs are the latent representation. For MACS2 and NucleoATAC, the inputs are the PCA of the corresonding scaled signals."
      ],
      "metadata": {
        "id": "0Gex1Fk11xTk"
      }
    },
    {
      "cell_type": "markdown",
      "source": [
        "### SeATAC"
      ],
      "metadata": {
        "id": "xgrfzixHJByf"
      }
    },
    {
      "cell_type": "code",
      "source": [
        "x <- model %>% seatac::predict(x, batch_size = ARGS$batch_size, vplots = FALSE)"
      ],
      "metadata": {
        "id": "zthz7TRf5Y3m"
      },
      "execution_count": null,
      "outputs": []
    },
    {
      "cell_type": "markdown",
      "source": [
        "### MACS2"
      ],
      "metadata": {
        "id": "eIqRXks5JE6h"
      }
    },
    {
      "cell_type": "code",
      "source": [
        "for (i in 1:length(ARGS$local_macs2_files)){\n",
        "  sprintf('reading %s', ARGS$local_macs2_files[i]) %>% message()\n",
        "  cvg <- rtracklayer::import(ARGS$local_macs2_files[i], which = rowRanges(x[[i]]))\n",
        "  seqlengths(cvg) <- seqlengths(cvg) + ARGS$block_size\n",
        "  cvg <- coverage(cvg, weight = 'score')\n",
        "  y <- cvg[rowRanges(x[[i]])] %>% as.matrix()\n",
        "  y <- (y - rowMins(y)) / (rowMaxs(y) - rowMins(y))\n",
        "  y[is.na(y) | is.infinite(y)] <- 0\n",
        "  rowData(x[[i]])$macs2 <- y\n",
        "}"
      ],
      "metadata": {
        "colab": {
          "base_uri": "https://localhost:8080/"
        },
        "id": "fg7LUI_OKZHU",
        "outputId": "38f9e683-76ce-42fc-95b1-5706a0d5790f"
      },
      "execution_count": null,
      "outputs": [
        {
          "output_type": "stream",
          "name": "stderr",
          "text": [
            "reading ./s3.msi.umn.edu/gongx030/datasets/dataset=Buenrostro_version=20170721a/GM12878_50k_cells_treat_pileup.bw\n",
            "\n",
            "reading ./s3.msi.umn.edu/gongx030/datasets/dataset=K562_version=20230104a/K562_treat_pileup.bw\n",
            "\n",
            "reading ./s3.msi.umn.edu/gongx030/datasets/dataset=Etv2ATAC_version=20190228b/MEF_NoDox_treat_pileup.bw\n",
            "\n",
            "reading ./s3.msi.umn.edu/gongx030/datasets/dataset=Etv2ATAC_version=20190228b/MEF_Dox_D7_Flk1pos_treat_pileup.bw\n",
            "\n",
            "reading ./s3.msi.umn.edu/gongx030/datasets/dataset=Etv2ATAC_version=20190228b/EB_NoDox_D25_treat_pileup.bw\n",
            "\n",
            "reading ./s3.msi.umn.edu/gongx030/datasets/dataset=Etv2ATAC_version=20190228b/EB_Dox_D25_Flk1pos_treat_pileup.bw\n",
            "\n"
          ]
        }
      ]
    },
    {
      "cell_type": "code",
      "source": [
        "u <- NULL\n",
        "gs <- NULL\n",
        "for (i in 1:length(ARGS$local_macs2_files)){\n",
        "  u <- rbind(u, rowData(x[[i]])$macs2)\n",
        "  gs <- c(gs, rep(i, nrow(rowData(x[[i]]))))\n",
        "}\n",
        "u <- prcomp_irlba(u, n = ARGS$latent_dim)$x\n",
        "h <- split(1:nrow(u), factor(gs))"
      ],
      "metadata": {
        "id": "EWXDdPSzuhv6"
      },
      "execution_count": null,
      "outputs": []
    },
    {
      "cell_type": "code",
      "source": [
        "for (i in 1:length(ARGS$local_macs2_files)){\n",
        "  rowData(x[[i]])$macs2_pca <- u[h[[i]], ]\n",
        "}"
      ],
      "metadata": {
        "id": "qG7Nmz6qu0DJ"
      },
      "execution_count": null,
      "outputs": []
    },
    {
      "cell_type": "markdown",
      "source": [
        "### NucleoATAC"
      ],
      "metadata": {
        "id": "kpVkqenDJG_Y"
      }
    },
    {
      "cell_type": "code",
      "source": [
        "for (i in 1:length(ARGS$local_nucleoatac_files)){\n",
        "  sprintf('reading %s', ARGS$local_nucleoatac_files[i]) %>% message()\n",
        "  cvg <- rtracklayer::import(ARGS$local_nucleoatac_files[i], which = rowRanges(x[[i]]))\n",
        "  seqlengths(cvg) <- seqlengths(cvg) + ARGS$block_size\n",
        "  cvg <- coverage(cvg, weight = 'score')\n",
        "  y <- cvg[rowRanges(x[[i]])] %>% as.matrix()\n",
        "  y <- (y - rowMins(y)) / (rowMaxs(y) - rowMins(y))\n",
        "  y[is.na(y) | is.infinite(y)] <- 0\n",
        "  rowData(x[[i]])$nucleoatac <- y\n",
        "}"
      ],
      "metadata": {
        "colab": {
          "base_uri": "https://localhost:8080/"
        },
        "id": "6b4KTop9SFXf",
        "outputId": "2a391896-91cf-4219-af9f-9abfdf01e625"
      },
      "execution_count": null,
      "outputs": [
        {
          "output_type": "stream",
          "name": "stderr",
          "text": [
            "reading ./s3.msi.umn.edu/gongx030/datasets/dataset=Buenrostro_version=20170721a/GM12878_50k_cells.nucleoatac_signal.smooth.bw\n",
            "\n",
            "reading ./s3.msi.umn.edu/gongx030/datasets/dataset=K562_version=20230104a/K562.nucleoatac_signal.smooth.bw\n",
            "\n",
            "reading ./s3.msi.umn.edu/gongx030/datasets/dataset=Etv2ATAC_version=20190228b/MEF_NoDox.nucleoatac_signal.smooth.bw\n",
            "\n",
            "reading ./s3.msi.umn.edu/gongx030/datasets/dataset=Etv2ATAC_version=20190228b/MEF_Dox_D7_Flk1pos.nucleoatac_signal.smooth.bw\n",
            "\n",
            "reading ./s3.msi.umn.edu/gongx030/datasets/dataset=Etv2ATAC_version=20190228b/EB_NoDox_D25.nucleoatac_signal.smooth.bw\n",
            "\n",
            "reading ./s3.msi.umn.edu/gongx030/datasets/dataset=Etv2ATAC_version=20190228b/EB_Dox_D25_Flk1pos.nucleoatac_signal.smooth.bw\n",
            "\n"
          ]
        }
      ]
    },
    {
      "cell_type": "code",
      "source": [
        "u <- NULL\n",
        "gs <- NULL\n",
        "for (i in 1:length(ARGS$local_nucleoatac_files)){\n",
        "  u <- rbind(u, rowData(x[[i]])$nucleoatac)\n",
        "  gs <- c(gs, rep(i, nrow(rowData(x[[i]]))))\n",
        "}\n",
        "u <- prcomp_irlba(u, n = ARGS$latent_dim)$x\n",
        "h <- split(1:nrow(u), factor(gs))"
      ],
      "metadata": {
        "id": "yOXRmNJNwJTO"
      },
      "execution_count": null,
      "outputs": []
    },
    {
      "cell_type": "code",
      "source": [
        "for (i in 1:length(ARGS$local_nucleoatac_files)){\n",
        "  rowData(x[[i]])$nucleoatac_pca <- u[h[[i]], ]\n",
        "}"
      ],
      "metadata": {
        "id": "8CjhICdhwJTP"
      },
      "execution_count": null,
      "outputs": []
    },
    {
      "cell_type": "markdown",
      "source": [
        "## Reading training histone data"
      ],
      "metadata": {
        "id": "kZrDPv0oHeQT"
      }
    },
    {
      "cell_type": "code",
      "source": [
        "y_train <- NULL\n",
        "for (i in ARGS$dataset_train_histone){\n",
        "  y <- NULL\n",
        "  for (j in c('H3K27ac', 'H3K4me1', 'H3K4me3')){\n",
        "    sprintf('reading %s', ARGS$local_bw_files[[i]][j]) %>% message()\n",
        "    cvg <- rtracklayer::import(ARGS$local_bw_files[[i]][j], which = rowRanges(x[[i]]))\n",
        "    seqlengths(cvg) <- seqlengths(cvg) + ARGS$block_size\n",
        "    cvg <- coverage(cvg, weight = 'score')\n",
        "    yij <- cvg[rowRanges(x[[i]])] %>% as.matrix()\n",
        "    y <- c(y, yij %>% tf$cast(tf$float32) %>% tf$expand_dims(2L))\n",
        "  }\n",
        "  y <- tf$concat(y, axis = 2L)\n",
        "  y_train <- c(y_train, y)\n",
        "}"
      ],
      "metadata": {
        "id": "M02dTDROtJ2I",
        "colab": {
          "base_uri": "https://localhost:8080/"
        },
        "outputId": "0b678c59-dcea-4845-fee9-e01c50ed0a5a"
      },
      "execution_count": null,
      "outputs": [
        {
          "output_type": "stream",
          "name": "stderr",
          "text": [
            "reading ./www.encodeproject.org/files/ENCFF440GZA/@@download/ENCFF440GZA.bigWig\n",
            "\n",
            "reading ./www.encodeproject.org/files/ENCFF372EXQ/@@download/ENCFF372EXQ.bigWig\n",
            "\n",
            "reading ./www.encodeproject.org/files/ENCFF154XCY/@@download/ENCFF154XCY.bigWig\n",
            "\n"
          ]
        }
      ]
    },
    {
      "cell_type": "code",
      "source": [
        "y_train <- tf$concat(y_train, axis = 0L)\n",
        "y_train <- tfa$image$gaussian_filter2d(y_train, filter_shape = shape(1L, 20L), sigma = 1.0, padding = 'REFLECT')\n",
        "\n",
        "include_train_histone <- tf$reduce_sum(tf$cast(tf$reduce_sum(y_train, shape(1L)) > ARGS$min_histone_signal_train, tf$float32), axis = 1L) == 3L\n",
        "\n",
        "y_train <- (y_train - tf$reduce_min(y_train, axis = 1L, keepdims = TRUE)) / (tf$reduce_max(y_train, axis = 1L, keepdims = TRUE) - tf$reduce_min(y_train, axis = 1L, keepdims = TRUE))\n",
        "is_nan <- tf$math$is_nan(y_train)\n",
        "y_train <- tf$where(is_nan, tf$zeros_like(is_nan, dtype = tf$float32), y_train)\n",
        "y_train <- tf$boolean_mask(y_train, include_train_histone)"
      ],
      "metadata": {
        "id": "0KUmsfeg897c"
      },
      "execution_count": null,
      "outputs": []
    },
    {
      "cell_type": "code",
      "source": [
        "table(as.numeric(include_train_histone))"
      ],
      "metadata": {
        "colab": {
          "base_uri": "https://localhost:8080/",
          "height": 71
        },
        "id": "ZFyZyaPRMYMd",
        "outputId": "947dd775-8e8a-47dd-ffe7-42f2a4afbbe1"
      },
      "execution_count": null,
      "outputs": [
        {
          "output_type": "display_data",
          "data": {
            "text/plain": [
              "\n",
              "    0     1 \n",
              "14546 35365 "
            ]
          },
          "metadata": {}
        }
      ]
    },
    {
      "cell_type": "markdown",
      "source": [
        "## Fitting histone model"
      ],
      "metadata": {
        "id": "Gtihesk6kgZw"
      }
    },
    {
      "cell_type": "code",
      "source": [
        "df_losses <- NULL"
      ],
      "metadata": {
        "id": "nbDTZvG_Dc6X"
      },
      "execution_count": null,
      "outputs": []
    },
    {
      "cell_type": "markdown",
      "source": [
        "### MACS2"
      ],
      "metadata": {
        "id": "1gfxi3qWUaQQ"
      }
    },
    {
      "cell_type": "markdown",
      "source": [
        "#### Training on GM12878"
      ],
      "metadata": {
        "id": "EPBOvWx17t4h"
      }
    },
    {
      "cell_type": "code",
      "source": [
        "x_train <- NULL\n",
        "for (i in ARGS$dataset_train_histone){\n",
        "  x_train <- c(x_train, tf$cast(rowData(x[[i]])$macs2_pca, tf$float32))\n",
        "}\n",
        "x_train <- tf$concat(x_train, axis = 0L)\n",
        "x_train <- tf$boolean_mask(x_train, include_train_histone)"
      ],
      "metadata": {
        "id": "ESHDbpfF6C3a"
      },
      "execution_count": null,
      "outputs": []
    },
    {
      "cell_type": "code",
      "source": [
        "tf$keras$backend$clear_session()\n",
        "\n",
        "model_histone <- keras_model_sequential(input_shape = c(ARGS$latent_dim)) %>%\n",
        "  layer_dense(128L, activation = \"relu\") %>%\n",
        "  layer_dropout(0.1) %>%\n",
        "  layer_dense(256L, activation = \"relu\") %>%\n",
        "  layer_dropout(0.1) %>%\n",
        "  layer_dense(512L, activation = \"relu\") %>%\n",
        "  layer_dropout(0.1) %>%\n",
        "  layer_dense(ARGS$block_size * 3L, activation = \"sigmoid\") %>%\n",
        "  layer_reshape(c(ARGS$block_size, 3L)) \n",
        "\n",
        "model_histone %>% compile(\n",
        "  optimizer = \"adam\",\n",
        "  loss = 'mse'\n",
        ")\n",
        "\n",
        "history <- model_histone %>% keras::fit(\n",
        "  x_train, \n",
        "  y_train,\n",
        "  epochs = 50L, \n",
        "  batch_size = ARGS$batch_size, \n",
        "  validation_split = 0.2,\n",
        "  callbacks = tf$keras$callbacks$EarlyStopping(monitor='val_loss', patience=5)\n",
        ")\n",
        "\n",
        "history"
      ],
      "metadata": {
        "colab": {
          "base_uri": "https://localhost:8080/",
          "height": 88
        },
        "id": "bbzffhnNVnI3",
        "outputId": "092debe5-2e44-42df-8716-6e67caf4ac04"
      },
      "execution_count": null,
      "outputs": [
        {
          "output_type": "display_data",
          "data": {
            "text/plain": [
              "\n",
              "Final epoch (plot to see history):\n",
              "    loss: 0.09515\n",
              "val_loss: 0.09617 "
            ]
          },
          "metadata": {}
        }
      ]
    },
    {
      "cell_type": "markdown",
      "source": [
        "#### Evaluation"
      ],
      "metadata": {
        "id": "xdLd-Z4l7nmy"
      }
    },
    {
      "cell_type": "code",
      "source": [
        "for (i in which(!names(ARGS$remote_bam_files) %in% ARGS$dataset_train_histone)){\n",
        "\n",
        "  x_test <- rowData(x[[i]])$macs2_pca %>% tf$cast(tf$float32)\n",
        "\n",
        "  y_test <- NULL\n",
        "  for (j in 1:3){ # H3K27ac, H3K4me1, H3K4me3\n",
        "    if (!is.na(ARGS$local_bw_files[[i]][j])){\n",
        "      sprintf('reading %s', ARGS$local_bw_files[[i]][j]) %>% message()\n",
        "      cvg <- rtracklayer::import(ARGS$local_bw_files[[i]][j], which = rowRanges(x[[i]]))\n",
        "      seqlengths(cvg) <- seqlengths(cvg) + ARGS$block_size\n",
        "      cvg <- coverage(cvg, weight = 'score')\n",
        "      y_test <- cvg[rowRanges(x[[i]])] %>% as.matrix()\n",
        "      y_test <- tf$cast(y_test, tf$float32)\n",
        "      y_test <- tfa$image$gaussian_filter2d(y_test, filter_shape = shape(1L, 20L), sigma = 1.0, padding = 'REFLECT')\n",
        "\n",
        "      include <- tf$reduce_sum(tf$cast(y_test > ARGS$min_histone_signal_test, tf$float32), axis = c(1L)) > 0\n",
        "      sprintf('%d/%d', sum(as.numeric(include)), length(as.numeric(include))) %>% message()\n",
        "\n",
        "      y_test <- (y_test - tf$reduce_min(y_test, axis = 1L, keepdims = TRUE)) / (tf$reduce_max(y_test, axis = 1L, keepdims = TRUE) - tf$reduce_min(y_test, axis = 1L, keepdims = TRUE))\n",
        "      is_nan <- tf$math$is_nan(y_test)\n",
        "      y_test <- tf$where(is_nan, tf$zeros_like(is_nan, dtype = tf$float32), y_test)\n",
        "      y_pred <- model_histone(x_test)[, , j] \n",
        "      df2 <- data.frame(\n",
        "        method = 'macs2',\n",
        "        dataset = names(ARGS$remote_bam_files)[i],\n",
        "        type = names(ARGS$local_bw_files[[i]][j]),\n",
        "        loss = tf$keras$metrics$mse(tf$boolean_mask(y_test, include), tf$boolean_mask(y_pred, include)) %>% tf$reduce_mean() %>% as.numeric()\n",
        "      )\n",
        "      print(df2)\n",
        "      df_losses <- rbind(df_losses, df2)\n",
        "    }\n",
        "  }\n",
        "}"
      ],
      "metadata": {
        "colab": {
          "base_uri": "https://localhost:8080/"
        },
        "id": "oiEi325Duc3m",
        "outputId": "44aa43b5-060f-4fcc-e8a4-15cf7392b036"
      },
      "execution_count": null,
      "outputs": [
        {
          "output_type": "stream",
          "name": "stderr",
          "text": [
            "reading ./www.encodeproject.org/files/ENCFF488FYZ/@@download/ENCFF488FYZ.bigWig\n",
            "\n",
            "2209/19965\n",
            "\n"
          ]
        },
        {
          "output_type": "stream",
          "name": "stdout",
          "text": [
            "  method dataset    type       loss\n",
            "1  macs2    K562 H3K27ac 0.08625094\n"
          ]
        },
        {
          "output_type": "stream",
          "name": "stderr",
          "text": [
            "reading ./www.encodeproject.org/files/ENCFF700ZWZ/@@download/ENCFF700ZWZ.bigWig\n",
            "\n",
            "1225/19965\n",
            "\n"
          ]
        },
        {
          "output_type": "stream",
          "name": "stdout",
          "text": [
            "  method dataset    type       loss\n",
            "1  macs2    K562 H3K4me1 0.07906256\n"
          ]
        },
        {
          "output_type": "stream",
          "name": "stderr",
          "text": [
            "reading ./www.encodeproject.org/files/ENCFF285EUA/@@download/ENCFF285EUA.bigWig\n",
            "\n",
            "2722/19965\n",
            "\n"
          ]
        },
        {
          "output_type": "stream",
          "name": "stdout",
          "text": [
            "  method dataset    type      loss\n",
            "1  macs2    K562 H3K4me3 0.1054259\n"
          ]
        },
        {
          "output_type": "stream",
          "name": "stderr",
          "text": [
            "reading ./s3.msi.umn.edu/gongx030/datasets/dataset=Etv2PioneerChIPseq_version=20191203a/MEF_NoDox_d0_H3K27ac_FE.bw\n",
            "\n",
            "5343/32222\n",
            "\n"
          ]
        },
        {
          "output_type": "stream",
          "name": "stdout",
          "text": [
            "  method   dataset    type       loss\n",
            "1  macs2 MEF_NoDox H3K27ac 0.08403791\n"
          ]
        },
        {
          "output_type": "stream",
          "name": "stderr",
          "text": [
            "reading ./s3.msi.umn.edu/gongx030/datasets/dataset=Etv2PioneerChIPseq_version=20191203a/MEF_Dox_d7_H3K27ac_FE.bw\n",
            "\n",
            "7858/32222\n",
            "\n"
          ]
        },
        {
          "output_type": "stream",
          "name": "stdout",
          "text": [
            "  method            dataset    type       loss\n",
            "1  macs2 MEF_Dox_D7_Flk1pos H3K27ac 0.08560304\n"
          ]
        },
        {
          "output_type": "stream",
          "name": "stderr",
          "text": [
            "reading ./s3.msi.umn.edu/gongx030/datasets/dataset=Etv2PioneerChIPseq_version=20191203a/EB_NoDox_12h_H3K27ac_FE.bw\n",
            "\n",
            "1201/32222\n",
            "\n"
          ]
        },
        {
          "output_type": "stream",
          "name": "stdout",
          "text": [
            "  method      dataset    type       loss\n",
            "1  macs2 EB_NoDox_D25 H3K27ac 0.08401173\n"
          ]
        },
        {
          "output_type": "stream",
          "name": "stderr",
          "text": [
            "reading ./s3.msi.umn.edu/gongx030/datasets/dataset=Etv2PioneerChIPseq_version=20191203a/EB_Dox_12h_H3K27ac_FE.bw\n",
            "\n",
            "3982/32222\n",
            "\n"
          ]
        },
        {
          "output_type": "stream",
          "name": "stdout",
          "text": [
            "  method            dataset    type      loss\n",
            "1  macs2 EB_Dox_D25_Flk1pos H3K27ac 0.1011173\n"
          ]
        }
      ]
    },
    {
      "cell_type": "markdown",
      "source": [
        "### NucleoATAC"
      ],
      "metadata": {
        "id": "Sfa2Oh1_V105"
      }
    },
    {
      "cell_type": "markdown",
      "source": [
        "#### Training"
      ],
      "metadata": {
        "id": "TpmPMYEB8C2o"
      }
    },
    {
      "cell_type": "code",
      "source": [
        "x_train <- NULL\n",
        "for (i in ARGS$dataset_train_histone){\n",
        "  x_train <- c(x_train, tf$cast(rowData(x[[i]])$nucleoatac_pca, tf$float32))\n",
        "}\n",
        "x_train <- tf$concat(x_train, axis = 0L)\n",
        "x_train <- tf$boolean_mask(x_train, include_train_histone)"
      ],
      "metadata": {
        "id": "QzlNxNOsV106"
      },
      "execution_count": null,
      "outputs": []
    },
    {
      "cell_type": "code",
      "source": [
        "tf$keras$backend$clear_session()\n",
        "\n",
        "model_histone <- keras_model_sequential(input_shape = c(ARGS$latent_dim)) %>%\n",
        "  layer_dense(128L, activation = \"relu\") %>%\n",
        "  layer_dropout(0.1) %>%\n",
        "  layer_dense(256L, activation = \"relu\") %>%\n",
        "  layer_dropout(0.1) %>%\n",
        "  layer_dense(512L, activation = \"relu\") %>%\n",
        "  layer_dropout(0.1) %>%\n",
        "  layer_dense(ARGS$block_size * 3L, activation = \"sigmoid\") %>%\n",
        "  layer_reshape(c(ARGS$block_size, 3L)) \n",
        "\n",
        "model_histone %>% compile(\n",
        "  optimizer = \"adam\",\n",
        "  loss = 'mse'\n",
        ")\n",
        "\n",
        "history <- model_histone %>% keras::fit(\n",
        "  x_train, \n",
        "  y_train,\n",
        "  epochs = 50L, \n",
        "  batch_size = ARGS$batch_size, \n",
        "  validation_split = 0.2,\n",
        "  callbacks = tf$keras$callbacks$EarlyStopping(monitor='val_loss', patience=5)\n",
        ")\n",
        "\n",
        "history"
      ],
      "metadata": {
        "colab": {
          "base_uri": "https://localhost:8080/",
          "height": 88
        },
        "id": "CHnTbJM4iwpr",
        "outputId": "bca1dccf-fdaf-459d-ad57-96a18080c48e"
      },
      "execution_count": null,
      "outputs": [
        {
          "output_type": "display_data",
          "data": {
            "text/plain": [
              "\n",
              "Final epoch (plot to see history):\n",
              "    loss: 0.09688\n",
              "val_loss: 0.09798 "
            ]
          },
          "metadata": {}
        }
      ]
    },
    {
      "cell_type": "markdown",
      "source": [
        "#### Evaluation"
      ],
      "metadata": {
        "id": "0JTHCueOu1lo"
      }
    },
    {
      "cell_type": "code",
      "source": [
        "for (i in which(!names(ARGS$remote_bam_files) %in% ARGS$dataset_train_histone)){\n",
        "\n",
        "  x_test <- rowData(x[[i]])$nucleoatac_pca %>% tf$cast(tf$float32)\n",
        "\n",
        "  y_test <- NULL\n",
        "  for (j in 1:3){ # H3K27ac, H3K4me1, H3K4me3\n",
        "    if (!is.na(ARGS$local_bw_files[[i]][j])){\n",
        "      sprintf('reading %s', ARGS$local_bw_files[[i]][j]) %>% message()\n",
        "      cvg <- rtracklayer::import(ARGS$local_bw_files[[i]][j], which = rowRanges(x[[i]]))\n",
        "      seqlengths(cvg) <- seqlengths(cvg) + ARGS$block_size\n",
        "      cvg <- coverage(cvg, weight = 'score')\n",
        "      y_test <- cvg[rowRanges(x[[i]])] %>% as.matrix()\n",
        "      y_test <- tf$cast(y_test, tf$float32)\n",
        "      y_test <- tfa$image$gaussian_filter2d(y_test, filter_shape = shape(1L, 20L), sigma = 1.0, padding = 'REFLECT')\n",
        "\n",
        "      include <- tf$reduce_sum(tf$cast(y_test > ARGS$min_histone_signal_test, tf$float32), axis = c(1L)) > 0\n",
        "      sprintf('%d/%d', sum(as.numeric(include)), length(as.numeric(include))) %>% message()\n",
        "\n",
        "      y_test <- (y_test - tf$reduce_min(y_test, axis = 1L, keepdims = TRUE)) / (tf$reduce_max(y_test, axis = 1L, keepdims = TRUE) - tf$reduce_min(y_test, axis = 1L, keepdims = TRUE))\n",
        "      is_nan <- tf$math$is_nan(y_test)\n",
        "      y_test <- tf$where(is_nan, tf$zeros_like(is_nan, dtype = tf$float32), y_test)\n",
        "      y_pred <- model_histone(x_test)[, , j] \n",
        "      include <- tf$reduce_sum(y_test, axis = c(1L)) > 0 # testing samples which are not all are zeros\n",
        "      df2 <- data.frame(\n",
        "        method = 'nucleoatac',\n",
        "        dataset = names(ARGS$remote_bam_files)[i],\n",
        "        type = names(ARGS$local_bw_files[[i]][j]),\n",
        "        loss = tf$keras$metrics$mse(tf$boolean_mask(y_test, include), tf$boolean_mask(y_pred, include)) %>% tf$reduce_mean() %>% as.numeric()\n",
        "      )\n",
        "      print(df2)\n",
        "      df_losses <- rbind(df_losses, df2)\n",
        "    }\n",
        "  }\n",
        "}"
      ],
      "metadata": {
        "colab": {
          "base_uri": "https://localhost:8080/"
        },
        "outputId": "43d80663-a50f-436f-8927-f9e25f202a29",
        "id": "E8_ETsl9u1lo"
      },
      "execution_count": null,
      "outputs": [
        {
          "output_type": "stream",
          "name": "stderr",
          "text": [
            "reading ./www.encodeproject.org/files/ENCFF488FYZ/@@download/ENCFF488FYZ.bigWig\n",
            "\n",
            "2209/19965\n",
            "\n"
          ]
        },
        {
          "output_type": "stream",
          "name": "stdout",
          "text": [
            "      method dataset    type     loss\n",
            "1 nucleoatac    K562 H3K27ac 0.134843\n"
          ]
        },
        {
          "output_type": "stream",
          "name": "stderr",
          "text": [
            "reading ./www.encodeproject.org/files/ENCFF700ZWZ/@@download/ENCFF700ZWZ.bigWig\n",
            "\n",
            "1225/19965\n",
            "\n"
          ]
        },
        {
          "output_type": "stream",
          "name": "stdout",
          "text": [
            "      method dataset    type      loss\n",
            "1 nucleoatac    K562 H3K4me1 0.1157217\n"
          ]
        },
        {
          "output_type": "stream",
          "name": "stderr",
          "text": [
            "reading ./www.encodeproject.org/files/ENCFF285EUA/@@download/ENCFF285EUA.bigWig\n",
            "\n",
            "2722/19965\n",
            "\n"
          ]
        },
        {
          "output_type": "stream",
          "name": "stdout",
          "text": [
            "      method dataset    type      loss\n",
            "1 nucleoatac    K562 H3K4me3 0.0919894\n"
          ]
        },
        {
          "output_type": "stream",
          "name": "stderr",
          "text": [
            "reading ./s3.msi.umn.edu/gongx030/datasets/dataset=Etv2PioneerChIPseq_version=20191203a/MEF_NoDox_d0_H3K27ac_FE.bw\n",
            "\n",
            "5343/32222\n",
            "\n"
          ]
        },
        {
          "output_type": "stream",
          "name": "stdout",
          "text": [
            "      method   dataset    type       loss\n",
            "1 nucleoatac MEF_NoDox H3K27ac 0.08769004\n"
          ]
        },
        {
          "output_type": "stream",
          "name": "stderr",
          "text": [
            "reading ./s3.msi.umn.edu/gongx030/datasets/dataset=Etv2PioneerChIPseq_version=20191203a/MEF_Dox_d7_H3K27ac_FE.bw\n",
            "\n",
            "7858/32222\n",
            "\n"
          ]
        },
        {
          "output_type": "stream",
          "name": "stdout",
          "text": [
            "      method            dataset    type       loss\n",
            "1 nucleoatac MEF_Dox_D7_Flk1pos H3K27ac 0.09001515\n"
          ]
        },
        {
          "output_type": "stream",
          "name": "stderr",
          "text": [
            "reading ./s3.msi.umn.edu/gongx030/datasets/dataset=Etv2PioneerChIPseq_version=20191203a/EB_NoDox_12h_H3K27ac_FE.bw\n",
            "\n",
            "1201/32222\n",
            "\n"
          ]
        },
        {
          "output_type": "stream",
          "name": "stdout",
          "text": [
            "      method      dataset    type       loss\n",
            "1 nucleoatac EB_NoDox_D25 H3K27ac 0.08276749\n"
          ]
        },
        {
          "output_type": "stream",
          "name": "stderr",
          "text": [
            "reading ./s3.msi.umn.edu/gongx030/datasets/dataset=Etv2PioneerChIPseq_version=20191203a/EB_Dox_12h_H3K27ac_FE.bw\n",
            "\n",
            "3982/32222\n",
            "\n"
          ]
        },
        {
          "output_type": "stream",
          "name": "stdout",
          "text": [
            "      method            dataset    type      loss\n",
            "1 nucleoatac EB_Dox_D25_Flk1pos H3K27ac 0.1406597\n"
          ]
        }
      ]
    },
    {
      "cell_type": "markdown",
      "source": [
        "### SeATAC"
      ],
      "metadata": {
        "id": "Q1tjdiElHKwz"
      }
    },
    {
      "cell_type": "markdown",
      "source": [
        "#### Training"
      ],
      "metadata": {
        "id": "9m7eWnLX6rSW"
      }
    },
    {
      "cell_type": "code",
      "source": [
        "x_train <- NULL\n",
        "for (i in ARGS$dataset_train_histone){\n",
        "  x_train <- c(x_train, tf$cast(rowData(x[[i]])$vae_z_mean[, 1, ], tf$float32))\n",
        "}\n",
        "x_train <- tf$concat(x_train, axis = 0L)\n",
        "x_train <- tf$boolean_mask(x_train, include_train_histone)"
      ],
      "metadata": {
        "id": "DJcfPeT6HmKM"
      },
      "execution_count": null,
      "outputs": []
    },
    {
      "cell_type": "code",
      "source": [
        "tf$keras$backend$clear_session()\n",
        "\n",
        "model_histone <- keras_model_sequential(input_shape = c(ARGS$latent_dim)) %>%\n",
        "  layer_dense(128L, activation = \"relu\") %>%\n",
        "  layer_dropout(0.1) %>%\n",
        "  layer_dense(256L, activation = \"relu\") %>%\n",
        "  layer_dropout(0.1) %>%\n",
        "  layer_dense(512L, activation = \"relu\") %>%\n",
        "  layer_dropout(0.1) %>%\n",
        "  layer_dense(ARGS$block_size * 3L, activation = \"sigmoid\") %>%\n",
        "  layer_reshape(c(ARGS$block_size, 3L)) \n",
        "\n",
        "model_histone %>% compile(\n",
        "  optimizer = \"adam\",\n",
        "  loss = 'mse'\n",
        ")\n",
        "\n",
        "history <- model_histone %>% keras::fit(\n",
        "  x_train, \n",
        "  y_train,\n",
        "  epochs = 50L, \n",
        "  batch_size = ARGS$batch_size, \n",
        "  validation_split = 0.2,\n",
        "  callbacks = tf$keras$callbacks$EarlyStopping(monitor='val_loss', patience=5)\n",
        ")\n",
        "\n",
        "history"
      ],
      "metadata": {
        "colab": {
          "base_uri": "https://localhost:8080/"
        },
        "id": "5RZcPgSlgdfK",
        "outputId": "0eb0b886-4949-44f1-c4cd-2492a9b4607a"
      },
      "execution_count": null,
      "outputs": [
        {
          "output_type": "display_data",
          "data": {
            "text/plain": [
              "\n",
              "Final epoch (plot to see history):\n",
              "    loss: 0.09207\n",
              "val_loss: 0.09292 "
            ]
          },
          "metadata": {}
        }
      ]
    },
    {
      "cell_type": "markdown",
      "source": [
        "#### Evaluation"
      ],
      "metadata": {
        "id": "wuiwp62xsfIS"
      }
    },
    {
      "cell_type": "code",
      "source": [
        "for (i in which(!names(ARGS$remote_bam_files) %in% ARGS$dataset_train_histone)){\n",
        "\n",
        "  x_test <- tf$cast(rowData(x[[i]])$vae_z_mean[, 1, ], tf$float32)\n",
        "\n",
        "  y_test <- NULL\n",
        "  for (j in 1:3){ # H3K27ac, H3K4me1, H3K4me3\n",
        "    if (!is.na(ARGS$local_bw_files[[i]][j])){\n",
        "      sprintf('reading %s', ARGS$local_bw_files[[i]][j]) %>% message()\n",
        "      cvg <- rtracklayer::import(ARGS$local_bw_files[[i]][j], which = rowRanges(x[[i]]))\n",
        "      seqlengths(cvg) <- seqlengths(cvg) + ARGS$block_size\n",
        "      cvg <- coverage(cvg, weight = 'score')\n",
        "      y_test <- cvg[rowRanges(x[[i]])] %>% as.matrix()\n",
        "      y_test <- tf$cast(y_test, tf$float32)\n",
        "      y_test <- tfa$image$gaussian_filter2d(y_test, filter_shape = shape(1L, 20L), sigma = 1.0, padding = 'REFLECT')\n",
        "\n",
        "      include <- tf$reduce_sum(tf$cast(y_test > ARGS$min_histone_signal_test, tf$float32), axis = c(1L)) > 0\n",
        "      sprintf('%d/%d', sum(as.numeric(include)), length(as.numeric(include))) %>% message()\n",
        "\n",
        "      y_test <- (y_test - tf$reduce_min(y_test, axis = 1L, keepdims = TRUE)) / (tf$reduce_max(y_test, axis = 1L, keepdims = TRUE) - tf$reduce_min(y_test, axis = 1L, keepdims = TRUE))\n",
        "      is_nan <- tf$math$is_nan(y_test)\n",
        "      y_test <- tf$where(is_nan, tf$zeros_like(is_nan, dtype = tf$float32), y_test)\n",
        "      y_pred <- model_histone(x_test)[, , j] \n",
        "      df2 <- data.frame(\n",
        "        method = 'seatac',\n",
        "        dataset = names(ARGS$remote_bam_files)[i],\n",
        "        type = names(ARGS$local_bw_files[[i]][j]),\n",
        "        loss = tf$keras$metrics$mse(tf$boolean_mask(y_test, include), tf$boolean_mask(y_pred, include)) %>% tf$reduce_mean() %>% as.numeric()\n",
        "      )\n",
        "      print(df2)\n",
        "      df_losses <- rbind(df_losses, df2)\n",
        "    }\n",
        "  }\n",
        "}"
      ],
      "metadata": {
        "colab": {
          "base_uri": "https://localhost:8080/"
        },
        "id": "1hoT7lH9siCi",
        "outputId": "1c140da4-3b5f-4595-911f-87136eeef973"
      },
      "execution_count": null,
      "outputs": [
        {
          "output_type": "stream",
          "name": "stderr",
          "text": [
            "reading ./www.encodeproject.org/files/ENCFF488FYZ/@@download/ENCFF488FYZ.bigWig\n",
            "\n",
            "2209/19965\n",
            "\n"
          ]
        },
        {
          "output_type": "stream",
          "name": "stdout",
          "text": [
            "  method dataset    type       loss\n",
            "1 seatac    K562 H3K27ac 0.07571367\n"
          ]
        },
        {
          "output_type": "stream",
          "name": "stderr",
          "text": [
            "reading ./www.encodeproject.org/files/ENCFF700ZWZ/@@download/ENCFF700ZWZ.bigWig\n",
            "\n",
            "1225/19965\n",
            "\n"
          ]
        },
        {
          "output_type": "stream",
          "name": "stdout",
          "text": [
            "  method dataset    type       loss\n",
            "1 seatac    K562 H3K4me1 0.07753807\n"
          ]
        },
        {
          "output_type": "stream",
          "name": "stderr",
          "text": [
            "reading ./www.encodeproject.org/files/ENCFF285EUA/@@download/ENCFF285EUA.bigWig\n",
            "\n",
            "2722/19965\n",
            "\n"
          ]
        },
        {
          "output_type": "stream",
          "name": "stdout",
          "text": [
            "  method dataset    type       loss\n",
            "1 seatac    K562 H3K4me3 0.09398346\n"
          ]
        },
        {
          "output_type": "stream",
          "name": "stderr",
          "text": [
            "reading ./s3.msi.umn.edu/gongx030/datasets/dataset=Etv2PioneerChIPseq_version=20191203a/MEF_NoDox_d0_H3K27ac_FE.bw\n",
            "\n",
            "5343/32222\n",
            "\n"
          ]
        },
        {
          "output_type": "stream",
          "name": "stdout",
          "text": [
            "  method   dataset    type       loss\n",
            "1 seatac MEF_NoDox H3K27ac 0.06973742\n"
          ]
        },
        {
          "output_type": "stream",
          "name": "stderr",
          "text": [
            "reading ./s3.msi.umn.edu/gongx030/datasets/dataset=Etv2PioneerChIPseq_version=20191203a/MEF_Dox_d7_H3K27ac_FE.bw\n",
            "\n",
            "7858/32222\n",
            "\n"
          ]
        },
        {
          "output_type": "stream",
          "name": "stdout",
          "text": [
            "  method            dataset    type       loss\n",
            "1 seatac MEF_Dox_D7_Flk1pos H3K27ac 0.08203718\n"
          ]
        },
        {
          "output_type": "stream",
          "name": "stderr",
          "text": [
            "reading ./s3.msi.umn.edu/gongx030/datasets/dataset=Etv2PioneerChIPseq_version=20191203a/EB_NoDox_12h_H3K27ac_FE.bw\n",
            "\n",
            "1201/32222\n",
            "\n"
          ]
        },
        {
          "output_type": "stream",
          "name": "stdout",
          "text": [
            "  method      dataset    type       loss\n",
            "1 seatac EB_NoDox_D25 H3K27ac 0.06498452\n"
          ]
        },
        {
          "output_type": "stream",
          "name": "stderr",
          "text": [
            "reading ./s3.msi.umn.edu/gongx030/datasets/dataset=Etv2PioneerChIPseq_version=20191203a/EB_Dox_12h_H3K27ac_FE.bw\n",
            "\n",
            "3982/32222\n",
            "\n"
          ]
        },
        {
          "output_type": "stream",
          "name": "stdout",
          "text": [
            "  method            dataset    type      loss\n",
            "1 seatac EB_Dox_D25_Flk1pos H3K27ac 0.1002154\n"
          ]
        }
      ]
    },
    {
      "cell_type": "markdown",
      "source": [
        "### Plot the testing losses"
      ],
      "metadata": {
        "id": "N7Ehi3PeH4ID"
      }
    },
    {
      "cell_type": "code",
      "source": [
        "options(repr.plot.width = 12, repr.plot.height = 5)\n",
        "df_losses %>%\n",
        "  mutate(method = factor(method, c('macs2', 'nucleoatac', 'seatac'))) %>%\n",
        "  mutate(label = sprintf('%s_%s', dataset, type)) %>%\n",
        "\n",
        "  ggplot(aes(x = label, y = loss, fill = method)) +\n",
        "    geom_bar(stat = 'identity', position=position_dodge()) +\n",
        "    scale_fill_manual(values= c(macs2 = 'lightcoral', nucleoatac = 'purple', seatac = 'cyan3')) +\n",
        "    coord_flip()"
      ],
      "metadata": {
        "colab": {
          "base_uri": "https://localhost:8080/",
          "height": 317
        },
        "id": "-JOlyUa4H7i4",
        "outputId": "40d42560-3a43-4143-9a48-93d407c306d1"
      },
      "execution_count": null,
      "outputs": [
        {
          "output_type": "display_data",
          "data": {
            "text/plain": [
              "plot without title"
            ],
            "image/png": "[encoded data removed]"
          },
          "metadata": {
            "image/png": {
              "width": 720,
              "height": 300
            }
          }
        }
      ]
    },
    {
      "cell_type": "code",
      "source": [
        "df_losses %>%\n",
        "  mutate(method = factor(method, c('macs2', 'nucleoatac', 'seatac'))) %>%\n",
        "  mutate(label = sprintf('%s_%s', dataset, type)) %>%\n",
        "  group_by(method) %>%\n",
        "  summarize(loss_mean = mean(loss), loss_std = sd(loss))"
      ],
      "metadata": {
        "colab": {
          "base_uri": "https://localhost:8080/",
          "height": 192
        },
        "id": "ADhVQCHqFtR8",
        "outputId": "76ee8333-e5de-4c1b-c973-6b1a155e3aa1"
      },
      "execution_count": null,
      "outputs": [
        {
          "output_type": "display_data",
          "data": {
            "text/html": [
              "<table class=\"dataframe\">\n",
              "<caption>A tibble: 3 × 3</caption>\n",
              "<thead>\n",
              "\t<tr><th scope=col>method</th><th scope=col>loss_mean</th><th scope=col>loss_std</th></tr>\n",
              "\t<tr><th scope=col>&lt;fct&gt;</th><th scope=col>&lt;dbl&gt;</th><th scope=col>&lt;dbl&gt;</th></tr>\n",
              "</thead>\n",
              "<tbody>\n",
              "\t<tr><td>macs2     </td><td>0.08935848</td><td>0.009858105</td></tr>\n",
              "\t<tr><td>nucleoatac</td><td>0.10624094</td><td>0.023993544</td></tr>\n",
              "\t<tr><td>seatac    </td><td>0.08060138</td><td>0.012655928</td></tr>\n",
              "</tbody>\n",
              "</table>\n"
            ],
            "text/markdown": "\nA tibble: 3 × 3\n\n| method &lt;fct&gt; | loss_mean &lt;dbl&gt; | loss_std &lt;dbl&gt; |\n|---|---|---|\n| macs2      | 0.08935848 | 0.009858105 |\n| nucleoatac | 0.10624094 | 0.023993544 |\n| seatac     | 0.08060138 | 0.012655928 |\n\n",
            "text/latex": "A tibble: 3 × 3\n\\begin{tabular}{lll}\n method & loss\\_mean & loss\\_std\\\\\n <fct> & <dbl> & <dbl>\\\\\n\\hline\n\t macs2      & 0.08935848 & 0.009858105\\\\\n\t nucleoatac & 0.10624094 & 0.023993544\\\\\n\t seatac     & 0.08060138 & 0.012655928\\\\\n\\end{tabular}\n",
            "text/plain": [
              "  method     loss_mean  loss_std   \n",
              "1 macs2      0.08935848 0.009858105\n",
              "2 nucleoatac 0.10624094 0.023993544\n",
              "3 seatac     0.08060138 0.012655928"
            ]
          },
          "metadata": {}
        }
      ]
    },
    {
      "cell_type": "code",
      "source": [
        "wilcox.test(df_losses$loss[df_losses$method == 'seatac'], df_losses$loss[df_losses$method == 'macs2'], alternative = 'less')"
      ],
      "metadata": {
        "colab": {
          "base_uri": "https://localhost:8080/",
          "height": 213
        },
        "id": "XKpi8MvHGICu",
        "outputId": "717e1809-5171-426c-d371-d05179c1d055"
      },
      "execution_count": null,
      "outputs": [
        {
          "output_type": "display_data",
          "data": {
            "text/plain": [
              "\n",
              "\tWelch Two Sample t-test\n",
              "\n",
              "data:  df_losses$loss[df_losses$method == \"seatac\"] and df_losses$loss[df_losses$method == \"macs2\"]\n",
              "t = -1.4443, df = 11.322, p-value = 0.08788\n",
              "alternative hypothesis: true difference in means is less than 0\n",
              "95 percent confidence interval:\n",
              "        -Inf 0.002103849\n",
              "sample estimates:\n",
              " mean of x  mean of y \n",
              "0.08060138 0.08935848 \n"
            ]
          },
          "metadata": {}
        }
      ]
    },
    {
      "cell_type": "code",
      "source": [
        "wilcox.test(df_losses$loss[df_losses$method == 'seatac'], df_losses$loss[df_losses$method == 'nucleoatac'], alternative = 'less')"
      ],
      "metadata": {
        "colab": {
          "base_uri": "https://localhost:8080/",
          "height": 124
        },
        "id": "mtDi4Nb4G57y",
        "outputId": "afd13e6e-a5c7-4cf9-979f-1639aedde6cf"
      },
      "execution_count": null,
      "outputs": [
        {
          "output_type": "display_data",
          "data": {
            "text/plain": [
              "\n",
              "\tWilcoxon rank sum exact test\n",
              "\n",
              "data:  df_losses$loss[df_losses$method == \"seatac\"] and df_losses$loss[df_losses$method == \"nucleoatac\"]\n",
              "W = 8, p-value = 0.01894\n",
              "alternative hypothesis: true location shift is less than 0\n"
            ]
          },
          "metadata": {}
        }
      ]
    },
    {
      "cell_type": "markdown",
      "source": [
        "## Read the raw H3K37ac signal for Etv2 data"
      ],
      "metadata": {
        "id": "KC-1IM7YHsEt"
      }
    },
    {
      "cell_type": "code",
      "source": [
        "etv2_samples <- c('MEF_NoDox','MEF_Dox_D7_Flk1pos','EB_NoDox_D25','EB_Dox_D25_Flk1pos')"
      ],
      "metadata": {
        "id": "vgRdzrGAMXAq"
      },
      "execution_count": null,
      "outputs": []
    },
    {
      "cell_type": "code",
      "source": [
        "y <- NULL\n",
        "for (i in which(names(ARGS$remote_bam_files) %in% etv2_samples)){\n",
        "  j <- 'H3K27ac'\n",
        "  sprintf('reading %s', ARGS$local_bw_files[[i]][j]) %>% message()\n",
        "  cvg <- rtracklayer::import(ARGS$local_bw_files[[i]][j], which = rowRanges(x[[i]]))\n",
        "  seqlengths(cvg) <- seqlengths(cvg) + ARGS$block_size\n",
        "  cvg <- coverage(cvg, weight = 'score')\n",
        "  yi <- cvg[rowRanges(x[[i]])] %>% as.matrix() %>% tf$cast(tf$float32)\n",
        "  yi <- tf$expand_dims(yi, axis = 1L)\n",
        "  y <- c(y, yi)\n",
        "}\n",
        "y <- tf$concat(y, axis = 1L)"
      ],
      "metadata": {
        "colab": {
          "base_uri": "https://localhost:8080/"
        },
        "id": "emsp2EO9Hxuz",
        "outputId": "927714c3-b4b7-40fd-af18-11bcf064d4e9"
      },
      "execution_count": null,
      "outputs": [
        {
          "output_type": "stream",
          "name": "stderr",
          "text": [
            "reading ./s3.msi.umn.edu/gongx030/datasets/dataset=Etv2PioneerChIPseq_version=20191203a/MEF_NoDox_d0_H3K27ac_FE.bw\n",
            "\n",
            "reading ./s3.msi.umn.edu/gongx030/datasets/dataset=Etv2PioneerChIPseq_version=20191203a/MEF_Dox_d7_H3K27ac_FE.bw\n",
            "\n",
            "reading ./s3.msi.umn.edu/gongx030/datasets/dataset=Etv2PioneerChIPseq_version=20191203a/EB_NoDox_12h_H3K27ac_FE.bw\n",
            "\n",
            "reading ./s3.msi.umn.edu/gongx030/datasets/dataset=Etv2PioneerChIPseq_version=20191203a/EB_Dox_12h_H3K27ac_FE.bw\n",
            "\n"
          ]
        }
      ]
    },
    {
      "cell_type": "code",
      "source": [
        "y <- y %>% tf$expand_dims(3L)"
      ],
      "metadata": {
        "id": "f4L6F9QxODPd"
      },
      "execution_count": null,
      "outputs": []
    },
    {
      "cell_type": "markdown",
      "source": [
        "## Predicting histone signal for Etv2 data"
      ],
      "metadata": {
        "id": "yd8-rqFu_gra"
      }
    },
    {
      "cell_type": "code",
      "source": [
        "histones <- c('H3K27ac', 'H3K4me1', 'H3K4me3')"
      ],
      "metadata": {
        "id": "L-D2CRzvLk7D"
      },
      "execution_count": null,
      "outputs": []
    },
    {
      "cell_type": "code",
      "source": [
        "y_pred <- NULL\n",
        "for (i in which(names(ARGS$remote_bam_files) %in% etv2_samples)){\n",
        "  x_test <- tf$cast(rowData(x[[i]])$vae_z_mean[, 1, ], tf$float32)\n",
        "  yi <- model_histone(x_test) \n",
        "  yi <- tf$expand_dims(yi, axis = 1L)\n",
        "  y_pred <- c(y_pred, yi)\n",
        "}\n",
        "y_pred <- tf$concat(y_pred, axis = 1L)"
      ],
      "metadata": {
        "id": "g0OuK4FLlf30"
      },
      "execution_count": null,
      "outputs": []
    },
    {
      "cell_type": "markdown",
      "source": [
        "## Read Etv2 data again"
      ],
      "metadata": {
        "id": "PPVeH0AQMPyS"
      }
    },
    {
      "cell_type": "code",
      "source": [
        "x2 <- read_vplot(\n",
        "  gr_etv2,\n",
        "  filenames = ARGS$local_bam_files[etv2_samples],\n",
        "  genome = get_bsgenome('mm10'),\n",
        "  bin_size = ARGS$bin_size,\n",
        "  fragment_size_range = c(0, ARGS$fragment_size_range_max),\n",
        "  fragment_size_interval = ARGS$fragment_size_interval \n",
        ")"
      ],
      "metadata": {
        "colab": {
          "base_uri": "https://localhost:8080/"
        },
        "id": "5hN_3jZ-Lyma",
        "outputId": "6be0ab4a-8c1c-4e57-c1a3-602883310e90"
      },
      "execution_count": null,
      "outputs": [
        {
          "output_type": "stream",
          "name": "stderr",
          "text": [
            "read_bam | reading ./s3.msi.umn.edu/gongx030/datasets/dataset=Etv2ATAC_version=20190228b/MEF_NoDox.bam\n",
            "\n",
            "read_bam | reading ./s3.msi.umn.edu/gongx030/datasets/dataset=Etv2ATAC_version=20190228b/MEF_Dox_D7_Flk1pos.bam\n",
            "\n",
            "read_bam | reading ./s3.msi.umn.edu/gongx030/datasets/dataset=Etv2ATAC_version=20190228b/EB_NoDox_D25.bam\n",
            "\n",
            "read_bam | reading ./s3.msi.umn.edu/gongx030/datasets/dataset=Etv2ATAC_version=20190228b/EB_Dox_D25_Flk1pos.bam\n",
            "\n"
          ]
        }
      ]
    },
    {
      "cell_type": "code",
      "source": [
        "y <- as.array(y)\n",
        "dimnames(y)[[4]] <- 'H3K27ac'"
      ],
      "metadata": {
        "id": "4-siFFfSN3W8"
      },
      "execution_count": null,
      "outputs": []
    },
    {
      "cell_type": "code",
      "source": [
        "y_pred <- as.array(y_pred)\n",
        "dimnames(y_pred)[[4]] <- histones"
      ],
      "metadata": {
        "colab": {
          "base_uri": "https://localhost:8080/",
          "height": 97
        },
        "id": "MPqDiTtjOISd",
        "outputId": "77f3a2c1-2920-4ff1-882c-87181de45641"
      },
      "execution_count": null,
      "outputs": [
        {
          "output_type": "error",
          "ename": "ERROR",
          "evalue": "ignored",
          "traceback": [
            "Error in dimnames(y)[[4]] <- histones: length of 'dimnames' [4] not equal to array extent\nTraceback:\n"
          ]
        }
      ]
    },
    {
      "cell_type": "code",
      "source": [
        "rowData(x2)$histone <- y\n",
        "rowData(x2)$histone_pred <- y_pred"
      ],
      "metadata": {
        "id": "D7bbtt9wNtt6"
      },
      "execution_count": null,
      "outputs": []
    },
    {
      "cell_type": "code",
      "source": [
        "x2"
      ],
      "metadata": {
        "colab": {
          "base_uri": "https://localhost:8080/",
          "height": 249
        },
        "id": "m7GYNc5CyrtB",
        "outputId": "b292efa4-1916-454d-ecac-6adbc1c06f51"
      },
      "execution_count": null,
      "outputs": [
        {
          "output_type": "display_data",
          "data": {
            "text/plain": [
              "class: Vplots\n",
              "dim: 32222 4 64 128\n",
              "assays(1): counts\n",
              "rowData(3): score histone histone_pred\n",
              "dimdata:\n",
              "grange: names(1): id\n",
              "sample: names(3): id filename name\n",
              "interval: names(2): id center\n",
              "bin: names(2): id position\n",
              "## fragment_size_range:0,640\n",
              "## fragment_size_interval:10\n",
              "## bin_size:5\n",
              "## window_size:640"
            ]
          },
          "metadata": {}
        }
      ]
    },
    {
      "cell_type": "markdown",
      "source": [
        "## Save representations"
      ],
      "metadata": {
        "id": "QyuDw9nhwrpx"
      }
    },
    {
      "cell_type": "code",
      "source": [
        "dir <- gsub('(.+)/.+', '\\\\1', ARGS$local_representation_file)\n",
        "if (!file.exists(dir)) dir.create(dir, recursive = TRUE)\n",
        "sprintf('writing %s', ARGS$local_representation_file) %>% message()\n",
        "saveRDS(x2, file = ARGS$local_representation_file)\n",
        "command <- sprintf('s3cmd sync %s %s',  ARGS$local_representation_file,  ARGS$s3_representation_file)\n",
        "message(command)\n",
        "system(command)\n",
        "command <- sprintf('s3cmd setacl -P %s',  ARGS$s3_representation_file)\n",
        "message(command)\n",
        "system(command)\n",
        "message(ARGS$remote_representation_file)"
      ],
      "metadata": {
        "colab": {
          "base_uri": "https://localhost:8080/"
        },
        "id": "DXLqGYK_xasM",
        "outputId": "d321445e-5601-46fd-a8a3-1d360cf754db"
      },
      "execution_count": null,
      "outputs": [
        {
          "output_type": "stream",
          "name": "stderr",
          "text": [
            "writing ./s3.msi.umn.edu/gongx030/projects/seatac_project/etv2_20230108a.RData\n",
            "\n",
            "s3cmd sync ./s3.msi.umn.edu/gongx030/projects/seatac_project/etv2_20230108a.RData s3://gongx030/projects/seatac_project/etv2_20230108a.RData\n",
            "\n",
            "s3cmd setacl -P s3://gongx030/projects/seatac_project/etv2_20230108a.RData\n",
            "\n",
            "https://s3.msi.umn.edu/gongx030/projects/seatac_project/etv2_20230108a.RData\n",
            "\n"
          ]
        }
      ]
    },
    {
      "cell_type": "markdown",
      "source": [
        "## SessionInfo"
      ],
      "metadata": {
        "id": "TRUcghfUpo3a"
      }
    },
    {
      "cell_type": "code",
      "source": [
        "sessionInfo()"
      ],
      "metadata": {
        "id": "xID7mUnopoIS",
        "colab": {
          "base_uri": "https://localhost:8080/",
          "height": 1000
        },
        "outputId": "0d471557-7d42-42a3-ec02-de81bc83634b"
      },
      "execution_count": null,
      "outputs": [
        {
          "output_type": "display_data",
          "data": {
            "text/plain": [
              "R version 4.2.1 (2022-06-23)\n",
              "Platform: x86_64-conda-linux-gnu (64-bit)\n",
              "Running under: CentOS Linux 7 (Core)\n",
              "\n",
              "Matrix products: default\n",
              "BLAS/LAPACK: /panfs/jay/groups/18/garrydj/gongx030/.conda/envs/r421_py37_tf26/lib/libopenblasp-r0.3.21.so\n",
              "\n",
              "locale:\n",
              " [1] LC_CTYPE=en_US.UTF-8       LC_NUMERIC=C              \n",
              " [3] LC_TIME=en_US.UTF-8        LC_COLLATE=en_US.UTF-8    \n",
              " [5] LC_MONETARY=en_US.UTF-8    LC_MESSAGES=en_US.UTF-8   \n",
              " [7] LC_PAPER=en_US.UTF-8       LC_NAME=C                 \n",
              " [9] LC_ADDRESS=C               LC_TELEPHONE=C            \n",
              "[11] LC_MEASUREMENT=en_US.UTF-8 LC_IDENTIFICATION=C       \n",
              "\n",
              "attached base packages:\n",
              "[1] stats4    stats     graphics  grDevices utils     datasets  methods  \n",
              "[8] base     \n",
              "\n",
              "other attached packages:\n",
              " [1] BSgenome.Hsapiens.UCSC.hg19_1.4.3  BSgenome.Mmusculus.UCSC.mm10_1.4.3\n",
              " [3] BSgenome_1.64.0                    rtracklayer_1.56.1                \n",
              " [5] Biostrings_2.64.1                  XVector_0.36.0                    \n",
              " [7] bpt_0.1.005                        seatac_0.4.2-002                  \n",
              " [9] SummarizedExperiment_1.26.1        Biobase_2.56.0                    \n",
              "[11] MatrixGenerics_1.8.1               matrixStats_0.63.0                \n",
              "[13] GenomicRanges_1.48.0               GenomeInfoDb_1.32.4               \n",
              "[15] IRanges_2.30.1                     S4Vectors_0.34.0                  \n",
              "[17] BiocGenerics_0.42.0                tfdatasets_2.9.0                  \n",
              "[19] tfprobability_0.15.1               tensorflow_2.11.0                 \n",
              "[21] motifmatchr_1.18.0                 chromVARmotifs_0.2.0              \n",
              "[23] chromVAR_1.18.0                    irlba_2.3.5.1                     \n",
              "[25] pROC_1.18.0                        stringr_1.5.0                     \n",
              "[27] tidyr_1.2.1                        dplyr_1.0.10                      \n",
              "[29] Matrix_1.5-3                       devtools_2.4.5                    \n",
              "[31] usethis_2.1.6                      BiocManager_1.30.18               \n",
              "\n",
              "loaded via a namespace (and not attached):\n",
              "  [1] backports_1.4.1             uuid_1.1-0                 \n",
              "  [3] plyr_1.8.7                  repr_1.1.4                 \n",
              "  [5] lazyeval_0.2.2              BiocParallel_1.30.4        \n",
              "  [7] tfruns_1.5.1                ggplot2_3.4.0              \n",
              "  [9] TFBSTools_1.34.0            digest_0.6.31              \n",
              " [11] htmltools_0.5.4             GO.db_3.15.0               \n",
              " [13] fansi_1.0.3                 magrittr_2.0.3             \n",
              " [15] memoise_2.0.1               tzdb_0.3.0                 \n",
              " [17] remotes_2.4.2               readr_2.1.3                \n",
              " [19] annotate_1.74.0             R.utils_2.12.0             \n",
              " [21] prettyunits_1.1.1           colorspace_2.0-3           \n",
              " [23] rappdirs_0.3.3              blob_1.2.3                 \n",
              " [25] callr_3.7.3                 crayon_1.5.2               \n",
              " [27] RCurl_1.98-1.9              jsonlite_1.8.4             \n",
              " [29] TFMPvalue_0.0.9             zeallot_0.1.0              \n",
              " [31] glue_1.6.2                  gtable_0.3.1               \n",
              " [33] zlibbioc_1.42.0             DelayedArray_0.22.0        \n",
              " [35] pkgbuild_1.4.0              abind_1.4-5                \n",
              " [37] scales_1.2.1                DBI_1.1.3                  \n",
              " [39] miniUI_0.1.1.1              Rcpp_1.0.9                 \n",
              " [41] viridisLite_0.4.1           xtable_1.8-4               \n",
              " [43] reticulate_1.26             bit_4.0.5                  \n",
              " [45] DT_0.26                     profvis_0.3.7              \n",
              " [47] htmlwidgets_1.6.0           httr_1.4.4                 \n",
              " [49] gplots_3.1.3                ellipsis_0.3.2             \n",
              " [51] farver_2.1.1                urlchecker_1.0.1           \n",
              " [53] pkgconfig_2.0.3             XML_3.99-0.11              \n",
              " [55] R.methodsS3_1.8.2           here_1.0.1                 \n",
              " [57] utf8_1.2.2                  labeling_0.4.2             \n",
              " [59] tidyselect_1.2.0            rlang_1.0.6                \n",
              " [61] reshape2_1.4.4              later_1.3.0                \n",
              " [63] AnnotationDbi_1.58.0        munsell_0.5.0              \n",
              " [65] tools_4.2.1                 cachem_1.0.6               \n",
              " [67] cli_3.5.0                   DirichletMultinomial_1.38.0\n",
              " [69] generics_0.1.3              RSQLite_2.2.18             \n",
              " [71] evaluate_0.19               fastmap_1.1.0              \n",
              " [73] yaml_2.3.6                  processx_3.8.0             \n",
              " [75] bit64_4.0.5                 fs_1.5.2                   \n",
              " [77] caTools_1.18.2              purrr_1.0.0                \n",
              " [79] KEGGREST_1.36.3             whisker_0.4.1              \n",
              " [81] mime_0.12                   R.oo_1.25.0                \n",
              " [83] poweRlaw_0.70.6             pracma_2.4.2               \n",
              " [85] compiler_4.2.1              rstudioapi_0.14            \n",
              " [87] plotly_4.10.0               png_0.1-8                  \n",
              " [89] tibble_3.1.8                stringi_1.7.8              \n",
              " [91] ps_1.7.2                    desc_1.4.2                 \n",
              " [93] lattice_0.20-45             IRdisplay_1.1              \n",
              " [95] CNEr_1.32.0                 keras_2.11.0               \n",
              " [97] vctrs_0.5.1                 pillar_1.8.1               \n",
              " [99] lifecycle_1.0.3             tfautograph_0.3.2          \n",
              "[101] data.table_1.14.6           bitops_1.0-7               \n",
              "[103] httpuv_1.6.7                R6_2.5.1                   \n",
              "[105] BiocIO_1.6.0                promises_1.2.0.1           \n",
              "[107] KernSmooth_2.23-20          sessioninfo_1.2.2          \n",
              "[109] codetools_0.2-18            gtools_3.9.3               \n",
              "[111] assertthat_0.2.1            seqLogo_1.62.0             \n",
              "[113] pkgload_1.3.2               rprojroot_2.0.3            \n",
              "[115] rjson_0.2.21                withr_2.5.0                \n",
              "[117] GenomicAlignments_1.32.1    Rsamtools_2.12.0           \n",
              "[119] GenomeInfoDbData_1.2.8      parallel_4.2.1             \n",
              "[121] hms_1.1.2                   grid_4.2.1                 \n",
              "[123] IRkernel_1.3                pbdZMQ_0.3-7               \n",
              "[125] shiny_1.7.4                 base64enc_0.1-3            \n",
              "[127] restfulr_0.0.15            "
            ]
          },
          "metadata": {}
        }
      ]
    }
  ]
}