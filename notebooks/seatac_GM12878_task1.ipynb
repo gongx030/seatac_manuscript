{
  "nbformat": 4,
  "nbformat_minor": 0,
  "metadata": {
    "kernelspec": {
      "display_name": "R",
      "language": "R",
      "name": "ir"
    },
    "language_info": {
      "codemirror_mode": "r",
      "file_extension": ".r",
      "mimetype": "text/x-r-source",
      "name": "R",
      "pygments_lexer": "r",
      "version": "3.3.1"
    },
    "colab": {
      "provenance": [],
      "collapsed_sections": [
        "wFuTF2MUEiAk"
      ],
      "machine_shape": "hm",
      "toc_visible": true,
      "include_colab_link": true
    },
    "accelerator": "GPU"
  },
  "cells": [
    {
      "cell_type": "markdown",
      "metadata": {
        "id": "view-in-github",
        "colab_type": "text"
      },
      "source": [
        "<a href=\"https://colab.research.google.com/github/gongx030/seatac_manuscript/blob/main/notebooks/seatac_GM12878_task1.ipynb\" target=\"_parent\"><img src=\"https://colab.research.google.com/assets/colab-badge.svg\" alt=\"Open In Colab\"/></a>"
      ]
    },
    {
      "cell_type": "markdown",
      "metadata": {
        "id": "4TLq2MbDD3zq"
      },
      "source": [
        "# Detecting the differential V-plots for down-sampled BAMs with different sizes"
      ]
    },
    {
      "cell_type": "markdown",
      "source": [
        "## Background"
      ],
      "metadata": {
        "id": "Vjj4t4zwi0Ok"
      }
    },
    {
      "cell_type": "markdown",
      "source": [],
      "metadata": {
        "id": "U4iqY6s-UNet"
      }
    },
    {
      "cell_type": "markdown",
      "source": [
        "## Tasks"
      ],
      "metadata": {
        "id": "tO_DYRmfXDkx"
      }
    },
    {
      "cell_type": "markdown",
      "source": [
        "* Compare the performance of SeATAC, MACS2 and NucleoATAC on task 1."
      ],
      "metadata": {
        "id": "1wqpfvJrXFhL"
      }
    },
    {
      "cell_type": "markdown",
      "source": [
        "## Setup"
      ],
      "metadata": {
        "id": "mKVG3W-LjCh-"
      }
    },
    {
      "cell_type": "markdown",
      "source": [
        "### Conda"
      ],
      "metadata": {
        "id": "BBq9MjHUh4OG"
      }
    },
    {
      "cell_type": "markdown",
      "source": [
        "```r421_py37_tf26```"
      ],
      "metadata": {
        "id": "24xsV1WuiTsg"
      }
    },
    {
      "cell_type": "markdown",
      "metadata": {
        "id": "wFuTF2MUEiAk"
      },
      "source": [
        "### Install R packages"
      ]
    },
    {
      "cell_type": "code",
      "metadata": {
        "id": "hv8nq9sjEzhx"
      },
      "source": [
        "required_packages <- c(\n",
        "  'BiocManager', 'devtools', 'Matrix',\n",
        "  'dplyr', 'tidyr', 'stringr',\n",
        "  'pROC',\n",
        "  'BSgenome.Hsapiens.UCSC.hg19'\n",
        ")"
      ],
      "execution_count": null,
      "outputs": []
    },
    {
      "cell_type": "code",
      "metadata": {
        "id": "FDu62M5JFJZt"
      },
      "source": [
        "missing_packages <- required_packages[!required_packages %in% rownames(installed.packages())]\n",
        "if (length(missing_packages) > 0){\n",
        "    BiocManager::install(missing_packages)\n",
        "}"
      ],
      "execution_count": null,
      "outputs": []
    },
    {
      "cell_type": "code",
      "source": [
        "for (p in required_packages){\n",
        "  library(p, character.only  = TRUE)\n",
        "}"
      ],
      "metadata": {
        "id": "J3iIivkyr2ZR",
        "colab": {
          "base_uri": "https://localhost:8080/"
        },
        "outputId": "06a5e9d2-9bd8-4f8d-ef74-b7a2cb7318d2"
      },
      "execution_count": null,
      "outputs": [
        {
          "output_type": "stream",
          "name": "stderr",
          "text": [
            "Bioconductor version '3.15' is out-of-date; the current release version '3.16'\n",
            "  is available with R version '4.2'; see https://bioconductor.org/install\n",
            "\n",
            "Loading required package: usethis\n",
            "\n",
            "\n",
            "Attaching package: ‘devtools’\n",
            "\n",
            "\n",
            "The following object is masked from ‘package:BiocManager’:\n",
            "\n",
            "    install\n",
            "\n",
            "\n",
            "Warning message:\n",
            "“package ‘Matrix’ was built under R version 4.2.2”\n",
            "\n",
            "Attaching package: ‘dplyr’\n",
            "\n",
            "\n",
            "The following objects are masked from ‘package:stats’:\n",
            "\n",
            "    filter, lag\n",
            "\n",
            "\n",
            "The following objects are masked from ‘package:base’:\n",
            "\n",
            "    intersect, setdiff, setequal, union\n",
            "\n",
            "\n",
            "\n",
            "Attaching package: ‘tidyr’\n",
            "\n",
            "\n",
            "The following objects are masked from ‘package:Matrix’:\n",
            "\n",
            "    expand, pack, unpack\n",
            "\n",
            "\n",
            "Warning message:\n",
            "“package ‘stringr’ was built under R version 4.2.2”\n",
            "Type 'citation(\"pROC\")' for a citation.\n",
            "\n",
            "\n",
            "Attaching package: ‘pROC’\n",
            "\n",
            "\n",
            "The following objects are masked from ‘package:stats’:\n",
            "\n",
            "    cov, smooth, var\n",
            "\n",
            "\n",
            "Loading required package: BSgenome\n",
            "\n",
            "Loading required package: BiocGenerics\n",
            "\n",
            "\n",
            "Attaching package: ‘BiocGenerics’\n",
            "\n",
            "\n",
            "The following object is masked from ‘package:pROC’:\n",
            "\n",
            "    var\n",
            "\n",
            "\n",
            "The following objects are masked from ‘package:dplyr’:\n",
            "\n",
            "    combine, intersect, setdiff, union\n",
            "\n",
            "\n",
            "The following objects are masked from ‘package:stats’:\n",
            "\n",
            "    IQR, mad, sd, var, xtabs\n",
            "\n",
            "\n",
            "The following objects are masked from ‘package:base’:\n",
            "\n",
            "    anyDuplicated, append, as.data.frame, basename, cbind, colnames,\n",
            "    dirname, do.call, duplicated, eval, evalq, Filter, Find, get, grep,\n",
            "    grepl, intersect, is.unsorted, lapply, Map, mapply, match, mget,\n",
            "    order, paste, pmax, pmax.int, pmin, pmin.int, Position, rank,\n",
            "    rbind, Reduce, rownames, sapply, setdiff, sort, table, tapply,\n",
            "    union, unique, unsplit, which.max, which.min\n",
            "\n",
            "\n",
            "Loading required package: S4Vectors\n",
            "\n",
            "Loading required package: stats4\n",
            "\n",
            "\n",
            "Attaching package: ‘S4Vectors’\n",
            "\n",
            "\n",
            "The following object is masked from ‘package:tidyr’:\n",
            "\n",
            "    expand\n",
            "\n",
            "\n",
            "The following objects are masked from ‘package:dplyr’:\n",
            "\n",
            "    first, rename\n",
            "\n",
            "\n",
            "The following objects are masked from ‘package:Matrix’:\n",
            "\n",
            "    expand, unname\n",
            "\n",
            "\n",
            "The following objects are masked from ‘package:base’:\n",
            "\n",
            "    expand.grid, I, unname\n",
            "\n",
            "\n",
            "Loading required package: IRanges\n",
            "\n",
            "\n",
            "Attaching package: ‘IRanges’\n",
            "\n",
            "\n",
            "The following objects are masked from ‘package:dplyr’:\n",
            "\n",
            "    collapse, desc, slice\n",
            "\n",
            "\n",
            "Loading required package: GenomeInfoDb\n",
            "\n",
            "Loading required package: GenomicRanges\n",
            "\n",
            "Loading required package: Biostrings\n",
            "\n",
            "Loading required package: XVector\n",
            "\n",
            "\n",
            "Attaching package: ‘Biostrings’\n",
            "\n",
            "\n",
            "The following object is masked from ‘package:base’:\n",
            "\n",
            "    strsplit\n",
            "\n",
            "\n",
            "Loading required package: rtracklayer\n",
            "\n"
          ]
        }
      ]
    },
    {
      "cell_type": "markdown",
      "metadata": {
        "id": "JV2N0ehhUtZm"
      },
      "source": [
        "### Install SeATAC from github"
      ]
    },
    {
      "cell_type": "code",
      "metadata": {
        "id": "p9iI0Qk5Usy7",
        "colab": {
          "base_uri": "https://localhost:8080/"
        },
        "outputId": "9bd6612b-0d94-435a-89dd-0ab1b778318c"
      },
      "source": [
        "devtools::load_all('../seatac')"
      ],
      "execution_count": null,
      "outputs": [
        {
          "output_type": "stream",
          "name": "stderr",
          "text": [
            "\u001b[1m\u001b[22m\u001b[36mℹ\u001b[39m Loading \u001b[34mseatac\u001b[39m\n",
            "Loading required package: tensorflow\n",
            "\n",
            "Warning message:\n",
            "“package ‘tensorflow’ was built under R version 4.2.2”\n",
            "\n",
            "Attaching package: ‘tensorflow’\n",
            "\n",
            "\n",
            "The following object is masked from ‘package:rtracklayer’:\n",
            "\n",
            "    import\n",
            "\n",
            "\n",
            "Loading required package: tfprobability\n",
            "\n",
            "Loading required package: tfdatasets\n",
            "\n",
            "Loading required package: SummarizedExperiment\n",
            "\n",
            "Loading required package: MatrixGenerics\n",
            "\n",
            "Loading required package: matrixStats\n",
            "\n",
            "\n",
            "Attaching package: ‘matrixStats’\n",
            "\n",
            "\n",
            "The following object is masked from ‘package:dplyr’:\n",
            "\n",
            "    count\n",
            "\n",
            "\n",
            "\n",
            "Attaching package: ‘MatrixGenerics’\n",
            "\n",
            "\n",
            "The following objects are masked from ‘package:matrixStats’:\n",
            "\n",
            "    colAlls, colAnyNAs, colAnys, colAvgsPerRowSet, colCollapse,\n",
            "    colCounts, colCummaxs, colCummins, colCumprods, colCumsums,\n",
            "    colDiffs, colIQRDiffs, colIQRs, colLogSumExps, colMadDiffs,\n",
            "    colMads, colMaxs, colMeans2, colMedians, colMins, colOrderStats,\n",
            "    colProds, colQuantiles, colRanges, colRanks, colSdDiffs, colSds,\n",
            "    colSums2, colTabulates, colVarDiffs, colVars, colWeightedMads,\n",
            "    colWeightedMeans, colWeightedMedians, colWeightedSds,\n",
            "    colWeightedVars, rowAlls, rowAnyNAs, rowAnys, rowAvgsPerColSet,\n",
            "    rowCollapse, rowCounts, rowCummaxs, rowCummins, rowCumprods,\n",
            "    rowCumsums, rowDiffs, rowIQRDiffs, rowIQRs, rowLogSumExps,\n",
            "    rowMadDiffs, rowMads, rowMaxs, rowMeans2, rowMedians, rowMins,\n",
            "    rowOrderStats, rowProds, rowQuantiles, rowRanges, rowRanks,\n",
            "    rowSdDiffs, rowSds, rowSums2, rowTabulates, rowVarDiffs, rowVars,\n",
            "    rowWeightedMads, rowWeightedMeans, rowWeightedMedians,\n",
            "    rowWeightedSds, rowWeightedVars\n",
            "\n",
            "\n",
            "Loading required package: Biobase\n",
            "\n",
            "Welcome to Bioconductor\n",
            "\n",
            "    Vignettes contain introductory material; view with\n",
            "    'browseVignettes()'. To cite Bioconductor, see\n",
            "    'citation(\"Biobase\")', and for packages 'citation(\"pkgname\")'.\n",
            "\n",
            "\n",
            "\n",
            "Attaching package: ‘Biobase’\n",
            "\n",
            "\n",
            "The following object is masked from ‘package:MatrixGenerics’:\n",
            "\n",
            "    rowMedians\n",
            "\n",
            "\n",
            "The following objects are masked from ‘package:matrixStats’:\n",
            "\n",
            "    anyMissing, rowMedians\n",
            "\n",
            "\n",
            "Creating a new generic function for ‘fit’ in package ‘seatac’\n",
            "\n",
            "Creating a new generic function for ‘predict’ in package ‘seatac’\n",
            "\n"
          ]
        }
      ]
    },
    {
      "cell_type": "code",
      "source": [
        "#install_github('gongx030/seatac@v0.4.0', force = TRUE, quiet = FALSE)\n",
        "#reload(pkgload::inst(\"seatac\"))\n",
        "#library(seatac)"
      ],
      "metadata": {
        "id": "2jPtosE8LdWd"
      },
      "execution_count": null,
      "outputs": []
    },
    {
      "cell_type": "markdown",
      "metadata": {
        "id": "hl2lXOAv9ljx"
      },
      "source": [
        "## Parameters"
      ]
    },
    {
      "cell_type": "code",
      "metadata": {
        "id": "KMfU5_KD9nN9"
      },
      "source": [
        "ARGS <- list(\n",
        "\n",
        "  remote_macs2_summits_file = 'https://s3.msi.umn.edu/gongx030/datasets/dataset=Buenrostro_version=20170721a/GM12878_50k_cells_summits.bed',\n",
        "  control_seed = 2L,\n",
        "  positive_seed = 1L,\n",
        "  negative_seed = 3L,\n",
        "  pct = 0.1,\n",
        "  shift_sizes = seq(10L, 100L, by = 10L),\n",
        "\n",
        "  genome_version = 'hg19',\n",
        "\n",
        "  block_size = 640L,\n",
        "  step_size = 10L,\n",
        "  min_reads_train = 10L,\n",
        "  fragment_size_range_max = 640L,\n",
        "  bin_size = 5L,\n",
        "  fragment_size_interval = 10L,\n",
        "  window_size = 2000L,\n",
        "  sliding_step = 10L,\n",
        "  min_peaks = 10000L,\n",
        "  max_peaks = 200000L,\n",
        "  batch_size = 256,\n",
        "  epochs = 100L\n",
        ")"
      ],
      "execution_count": null,
      "outputs": []
    },
    {
      "cell_type": "code",
      "source": [
        "remote_shift_bam_files <- sprintf('https://s3.msi.umn.edu/gongx030/datasets/dataset=Buenrostro_version=20170721a/GM12878_50k_cells_seed=%d_pct=%.4f_shift=%d.bam', ARGS$positive_seed, ARGS$pct, ARGS$shift_sizes)\n",
        "names(remote_shift_bam_files) <- sprintf('positive_shift_%d', ARGS$shift_sizes)"
      ],
      "metadata": {
        "id": "60A9qbm-bg15"
      },
      "execution_count": null,
      "outputs": []
    },
    {
      "cell_type": "code",
      "source": [
        "ARGS$remote_bam_files = c(\n",
        "  control = sprintf('https://s3.msi.umn.edu/gongx030/datasets/dataset=Buenrostro_version=20170721a/GM12878_50k_cells_seed=%d_pct=%.4f.bam', ARGS$control_seed, ARGS$pct),\n",
        "  negative = sprintf('https://s3.msi.umn.edu/gongx030/datasets/dataset=Buenrostro_version=20170721a/GM12878_50k_cells_seed=%d_pct=%.4f.bam', ARGS$negative_seed, ARGS$pct),\n",
        "  remote_shift_bam_files\n",
        ")"
      ],
      "metadata": {
        "id": "tdc_ALnMbJe8"
      },
      "execution_count": null,
      "outputs": []
    },
    {
      "cell_type": "code",
      "source": [
        "ARGS$local_bam_files <- gsub('https://', './', ARGS$remote_bam_files)\n",
        "stopifnot(all(file.exists(ARGS$local_bam_files)))"
      ],
      "metadata": {
        "id": "GuLMQdf7BWyj"
      },
      "execution_count": null,
      "outputs": []
    },
    {
      "cell_type": "code",
      "source": [
        "ARGS$local_macs2_summits_file <- gsub('https://', './', ARGS$remote_macs2_summits_file)\n",
        "stopifnot(file.exists(ARGS$local_macs2_summits_file))"
      ],
      "metadata": {
        "id": "gvKOQPFxCT8r"
      },
      "execution_count": null,
      "outputs": []
    },
    {
      "cell_type": "code",
      "source": [
        "ARGS$remote_macs2_bw_file <- gsub('.bam', '_treat_pileup.bw', ARGS$remote_bam_files)\n",
        "ARGS$local_macs2_bw_file <- gsub('https://', './', ARGS$remote_macs2_bw_file)\n",
        "stopifnot(file.exists(ARGS$local_macs2_bw_file))"
      ],
      "metadata": {
        "id": "xPwS-wlASSst"
      },
      "execution_count": null,
      "outputs": []
    },
    {
      "cell_type": "code",
      "source": [
        "ARGS$remote_nuceoatac_file <- gsub('.bam', '.nucleoatac_signal.smooth.bw', ARGS$remote_bam_files)\n",
        "ARGS$local_nuceoatac_file <- gsub('https://', './', ARGS$remote_nuceoatac_file)\n",
        "stopifnot(file.exists(ARGS$local_nuceoatac_file))"
      ],
      "metadata": {
        "id": "Kt7i2ukiSXD9"
      },
      "execution_count": null,
      "outputs": []
    },
    {
      "cell_type": "markdown",
      "source": [
        "## Training SeATAC"
      ],
      "metadata": {
        "id": "e8kkU3Ibhlou"
      }
    },
    {
      "cell_type": "code",
      "source": [
        "devtools::load_all('../seatac')\n",
        "devtools::load_all('../bpt')"
      ],
      "metadata": {
        "colab": {
          "base_uri": "https://localhost:8080/"
        },
        "id": "akB-lk_Z9EnP",
        "outputId": "565433b1-96b3-45bb-be95-0ee6f06af1f9"
      },
      "execution_count": null,
      "outputs": [
        {
          "output_type": "stream",
          "name": "stderr",
          "text": [
            "\u001b[1m\u001b[22m\u001b[36mℹ\u001b[39m Loading \u001b[34mseatac\u001b[39m\n",
            "Creating a new generic function for ‘fit’ in package ‘seatac’\n",
            "\n",
            "Creating a new generic function for ‘predict’ in package ‘seatac’\n",
            "\n",
            "\u001b[1m\u001b[22m\u001b[36mℹ\u001b[39m Loading \u001b[34mbpt\u001b[39m\n",
            "Warning message:\n",
            "“replacing previous import ‘GenomicRanges::union’ by ‘dplyr::union’ when loading ‘bpt’”\n",
            "Warning message:\n",
            "“replacing previous import ‘GenomicRanges::intersect’ by ‘dplyr::intersect’ when loading ‘bpt’”\n",
            "Warning message:\n",
            "“replacing previous import ‘GenomicRanges::setdiff’ by ‘dplyr::setdiff’ when loading ‘bpt’”\n"
          ]
        }
      ]
    },
    {
      "cell_type": "code",
      "source": [
        "sprintf('reading %s', ARGS$local_macs2_summits_file) %>% message()\n",
        "gr <- read.table(ARGS$local_macs2_summits_file, header = TRUE, sep = '\\t')\n",
        "gr <- GRanges(seqnames = gr[, 1], ranges = IRanges(gr[, 2], gr[, 3]))\n",
        "gr <- gr[as.character(seqnames(gr)) %in% sprintf('chr%s', c(1:22, 'X'))]\n",
        "gr <- resize(gr, width = ARGS$window_size, fix = 'center')\n",
        "gr <- slidingWindows(gr, width = ARGS$block_size, step = ARGS$step_size) %>% unlist()\n",
        "sprintf('total blocks: %d', length(gr)) %>% message()\n",
        "set.seed(1L)\n",
        "gr <- sample(gr, min(length(gr), ARGS$max_peaks))"
      ],
      "metadata": {
        "colab": {
          "base_uri": "https://localhost:8080/"
        },
        "id": "gZ5k0tnACRH5",
        "outputId": "23de8dcb-a09c-4833-dbc5-fc12fe3ca9e0"
      },
      "execution_count": null,
      "outputs": [
        {
          "output_type": "stream",
          "name": "stderr",
          "text": [
            "reading ./s3.msi.umn.edu/gongx030/datasets/dataset=Buenrostro_version=20170721a/GM12878_50k_cells_summits.bed\n",
            "\n",
            "total blocks: 14303348\n",
            "\n"
          ]
        }
      ]
    },
    {
      "cell_type": "code",
      "source": [
        "counts <- count_reads(gr, ARGS$local_bam_files, genome = BSgenome.Hsapiens.UCSC.hg19,  fragment_size_range = c(0, ARGS$fragment_size_range_max))"
      ],
      "metadata": {
        "colab": {
          "base_uri": "https://localhost:8080/"
        },
        "id": "vBxMdbq98sXB",
        "outputId": "14c6bc6a-ed4e-420f-b72e-830738863746"
      },
      "execution_count": null,
      "outputs": [
        {
          "output_type": "stream",
          "name": "stderr",
          "text": [
            "Warning message in valid.GenomicRanges.seqinfo(x, suggest.trim = TRUE):\n",
            "“GRanges object contains 1 out-of-bound range located on sequence chr17.\n",
            "  Note that ranges located on a sequence whose length is unknown (NA) or\n",
            "  on a circular sequence are not considered out-of-bound (use\n",
            "  seqlengths() and isCircular() to get the lengths and circularity flags\n",
            "  of the underlying sequences). You can use trim() to trim these ranges.\n",
            "  See ?`trim,GenomicRanges-method` for more information.”\n",
            "read_bam | reading ./s3.msi.umn.edu/gongx030/datasets/dataset=Buenrostro_version=20170721a/GM12878_50k_cells_seed=2_pct=0.1000.bam\n",
            "\n",
            "Warning message in valid.GenomicRanges.seqinfo(x, suggest.trim = TRUE):\n",
            "“GRanges object contains 3 out-of-bound ranges located on sequence\n",
            "  chr17. Note that ranges located on a sequence whose length is unknown\n",
            "  (NA) or on a circular sequence are not considered out-of-bound (use\n",
            "  seqlengths() and isCircular() to get the lengths and circularity flags\n",
            "  of the underlying sequences). You can use trim() to trim these ranges.\n",
            "  See ?`trim,GenomicRanges-method` for more information.”\n",
            "Warning message in valid.GenomicRanges.seqinfo(x, suggest.trim = TRUE):\n",
            "“GRanges object contains 1 out-of-bound range located on sequence chr17.\n",
            "  Note that ranges located on a sequence whose length is unknown (NA) or\n",
            "  on a circular sequence are not considered out-of-bound (use\n",
            "  seqlengths() and isCircular() to get the lengths and circularity flags\n",
            "  of the underlying sequences). You can use trim() to trim these ranges.\n",
            "  See ?`trim,GenomicRanges-method` for more information.”\n",
            "read_bam | reading ./s3.msi.umn.edu/gongx030/datasets/dataset=Buenrostro_version=20170721a/GM12878_50k_cells_seed=3_pct=0.1000.bam\n",
            "\n",
            "Warning message in valid.GenomicRanges.seqinfo(x, suggest.trim = TRUE):\n",
            "“GRanges object contains 3 out-of-bound ranges located on sequence\n",
            "  chr17. Note that ranges located on a sequence whose length is unknown\n",
            "  (NA) or on a circular sequence are not considered out-of-bound (use\n",
            "  seqlengths() and isCircular() to get the lengths and circularity flags\n",
            "  of the underlying sequences). You can use trim() to trim these ranges.\n",
            "  See ?`trim,GenomicRanges-method` for more information.”\n",
            "Warning message in valid.GenomicRanges.seqinfo(x, suggest.trim = TRUE):\n",
            "“GRanges object contains 1 out-of-bound range located on sequence chr17.\n",
            "  Note that ranges located on a sequence whose length is unknown (NA) or\n",
            "  on a circular sequence are not considered out-of-bound (use\n",
            "  seqlengths() and isCircular() to get the lengths and circularity flags\n",
            "  of the underlying sequences). You can use trim() to trim these ranges.\n",
            "  See ?`trim,GenomicRanges-method` for more information.”\n",
            "read_bam | reading ./s3.msi.umn.edu/gongx030/datasets/dataset=Buenrostro_version=20170721a/GM12878_50k_cells_seed=1_pct=0.1000_shift=10.bam\n",
            "\n",
            "Warning message in valid.GenomicRanges.seqinfo(x, suggest.trim = TRUE):\n",
            "“GRanges object contains 3 out-of-bound ranges located on sequence\n",
            "  chr17. Note that ranges located on a sequence whose length is unknown\n",
            "  (NA) or on a circular sequence are not considered out-of-bound (use\n",
            "  seqlengths() and isCircular() to get the lengths and circularity flags\n",
            "  of the underlying sequences). You can use trim() to trim these ranges.\n",
            "  See ?`trim,GenomicRanges-method` for more information.”\n",
            "Warning message in valid.GenomicRanges.seqinfo(x, suggest.trim = TRUE):\n",
            "“GRanges object contains 1 out-of-bound range located on sequence chr17.\n",
            "  Note that ranges located on a sequence whose length is unknown (NA) or\n",
            "  on a circular sequence are not considered out-of-bound (use\n",
            "  seqlengths() and isCircular() to get the lengths and circularity flags\n",
            "  of the underlying sequences). You can use trim() to trim these ranges.\n",
            "  See ?`trim,GenomicRanges-method` for more information.”\n",
            "read_bam | reading ./s3.msi.umn.edu/gongx030/datasets/dataset=Buenrostro_version=20170721a/GM12878_50k_cells_seed=1_pct=0.1000_shift=20.bam\n",
            "\n",
            "Warning message in valid.GenomicRanges.seqinfo(x, suggest.trim = TRUE):\n",
            "“GRanges object contains 3 out-of-bound ranges located on sequence\n",
            "  chr17. Note that ranges located on a sequence whose length is unknown\n",
            "  (NA) or on a circular sequence are not considered out-of-bound (use\n",
            "  seqlengths() and isCircular() to get the lengths and circularity flags\n",
            "  of the underlying sequences). You can use trim() to trim these ranges.\n",
            "  See ?`trim,GenomicRanges-method` for more information.”\n",
            "Warning message in valid.GenomicRanges.seqinfo(x, suggest.trim = TRUE):\n",
            "“GRanges object contains 1 out-of-bound range located on sequence chr17.\n",
            "  Note that ranges located on a sequence whose length is unknown (NA) or\n",
            "  on a circular sequence are not considered out-of-bound (use\n",
            "  seqlengths() and isCircular() to get the lengths and circularity flags\n",
            "  of the underlying sequences). You can use trim() to trim these ranges.\n",
            "  See ?`trim,GenomicRanges-method` for more information.”\n",
            "read_bam | reading ./s3.msi.umn.edu/gongx030/datasets/dataset=Buenrostro_version=20170721a/GM12878_50k_cells_seed=1_pct=0.1000_shift=30.bam\n",
            "\n",
            "Warning message in valid.GenomicRanges.seqinfo(x, suggest.trim = TRUE):\n",
            "“GRanges object contains 3 out-of-bound ranges located on sequence\n",
            "  chr17. Note that ranges located on a sequence whose length is unknown\n",
            "  (NA) or on a circular sequence are not considered out-of-bound (use\n",
            "  seqlengths() and isCircular() to get the lengths and circularity flags\n",
            "  of the underlying sequences). You can use trim() to trim these ranges.\n",
            "  See ?`trim,GenomicRanges-method` for more information.”\n",
            "Warning message in valid.GenomicRanges.seqinfo(x, suggest.trim = TRUE):\n",
            "“GRanges object contains 1 out-of-bound range located on sequence chr17.\n",
            "  Note that ranges located on a sequence whose length is unknown (NA) or\n",
            "  on a circular sequence are not considered out-of-bound (use\n",
            "  seqlengths() and isCircular() to get the lengths and circularity flags\n",
            "  of the underlying sequences). You can use trim() to trim these ranges.\n",
            "  See ?`trim,GenomicRanges-method` for more information.”\n",
            "read_bam | reading ./s3.msi.umn.edu/gongx030/datasets/dataset=Buenrostro_version=20170721a/GM12878_50k_cells_seed=1_pct=0.1000_shift=40.bam\n",
            "\n",
            "Warning message in valid.GenomicRanges.seqinfo(x, suggest.trim = TRUE):\n",
            "“GRanges object contains 3 out-of-bound ranges located on sequence\n",
            "  chr17. Note that ranges located on a sequence whose length is unknown\n",
            "  (NA) or on a circular sequence are not considered out-of-bound (use\n",
            "  seqlengths() and isCircular() to get the lengths and circularity flags\n",
            "  of the underlying sequences). You can use trim() to trim these ranges.\n",
            "  See ?`trim,GenomicRanges-method` for more information.”\n",
            "Warning message in valid.GenomicRanges.seqinfo(x, suggest.trim = TRUE):\n",
            "“GRanges object contains 1 out-of-bound range located on sequence chr17.\n",
            "  Note that ranges located on a sequence whose length is unknown (NA) or\n",
            "  on a circular sequence are not considered out-of-bound (use\n",
            "  seqlengths() and isCircular() to get the lengths and circularity flags\n",
            "  of the underlying sequences). You can use trim() to trim these ranges.\n",
            "  See ?`trim,GenomicRanges-method` for more information.”\n",
            "read_bam | reading ./s3.msi.umn.edu/gongx030/datasets/dataset=Buenrostro_version=20170721a/GM12878_50k_cells_seed=1_pct=0.1000_shift=50.bam\n",
            "\n",
            "Warning message in GenomicRanges:::valid.GenomicRanges.seqinfo(x):\n",
            "“GAlignments object contains 4 out-of-bound ranges located on sequence\n",
            "  chr17. Note that ranges located on a sequence whose length is unknown\n",
            "  (NA) or on a circular sequence are not considered out-of-bound (use\n",
            "  seqlengths() and isCircular() to get the lengths and circularity flags\n",
            "  of the underlying sequences).”\n",
            "Warning message in GenomicRanges:::valid.GenomicRanges.seqinfo(x):\n",
            "“GAlignments object contains 4 out-of-bound ranges located on sequence\n",
            "  chr17. Note that ranges located on a sequence whose length is unknown\n",
            "  (NA) or on a circular sequence are not considered out-of-bound (use\n",
            "  seqlengths() and isCircular() to get the lengths and circularity flags\n",
            "  of the underlying sequences).”\n",
            "Warning message in valid.GenomicRanges.seqinfo(x, suggest.trim = TRUE):\n",
            "“GRanges object contains 3 out-of-bound ranges located on sequence\n",
            "  chr17. Note that ranges located on a sequence whose length is unknown\n",
            "  (NA) or on a circular sequence are not considered out-of-bound (use\n",
            "  seqlengths() and isCircular() to get the lengths and circularity flags\n",
            "  of the underlying sequences). You can use trim() to trim these ranges.\n",
            "  See ?`trim,GenomicRanges-method` for more information.”\n",
            "Warning message in valid.GenomicRanges.seqinfo(x, suggest.trim = TRUE):\n",
            "“GRanges object contains 1 out-of-bound range located on sequence chr17.\n",
            "  Note that ranges located on a sequence whose length is unknown (NA) or\n",
            "  on a circular sequence are not considered out-of-bound (use\n",
            "  seqlengths() and isCircular() to get the lengths and circularity flags\n",
            "  of the underlying sequences). You can use trim() to trim these ranges.\n",
            "  See ?`trim,GenomicRanges-method` for more information.”\n",
            "read_bam | reading ./s3.msi.umn.edu/gongx030/datasets/dataset=Buenrostro_version=20170721a/GM12878_50k_cells_seed=1_pct=0.1000_shift=60.bam\n",
            "\n",
            "Warning message in GenomicRanges:::valid.GenomicRanges.seqinfo(x):\n",
            "“GAlignments object contains 4 out-of-bound ranges located on sequence\n",
            "  chr17. Note that ranges located on a sequence whose length is unknown\n",
            "  (NA) or on a circular sequence are not considered out-of-bound (use\n",
            "  seqlengths() and isCircular() to get the lengths and circularity flags\n",
            "  of the underlying sequences).”\n",
            "Warning message in GenomicRanges:::valid.GenomicRanges.seqinfo(x):\n",
            "“GAlignments object contains 4 out-of-bound ranges located on sequence\n",
            "  chr17. Note that ranges located on a sequence whose length is unknown\n",
            "  (NA) or on a circular sequence are not considered out-of-bound (use\n",
            "  seqlengths() and isCircular() to get the lengths and circularity flags\n",
            "  of the underlying sequences).”\n",
            "Warning message in valid.GenomicRanges.seqinfo(x, suggest.trim = TRUE):\n",
            "“GRanges object contains 3 out-of-bound ranges located on sequence\n",
            "  chr17. Note that ranges located on a sequence whose length is unknown\n",
            "  (NA) or on a circular sequence are not considered out-of-bound (use\n",
            "  seqlengths() and isCircular() to get the lengths and circularity flags\n",
            "  of the underlying sequences). You can use trim() to trim these ranges.\n",
            "  See ?`trim,GenomicRanges-method` for more information.”\n",
            "Warning message in valid.GenomicRanges.seqinfo(x, suggest.trim = TRUE):\n",
            "“GRanges object contains 1 out-of-bound range located on sequence chr17.\n",
            "  Note that ranges located on a sequence whose length is unknown (NA) or\n",
            "  on a circular sequence are not considered out-of-bound (use\n",
            "  seqlengths() and isCircular() to get the lengths and circularity flags\n",
            "  of the underlying sequences). You can use trim() to trim these ranges.\n",
            "  See ?`trim,GenomicRanges-method` for more information.”\n",
            "read_bam | reading ./s3.msi.umn.edu/gongx030/datasets/dataset=Buenrostro_version=20170721a/GM12878_50k_cells_seed=1_pct=0.1000_shift=70.bam\n",
            "\n",
            "Warning message in GenomicRanges:::valid.GenomicRanges.seqinfo(x):\n",
            "“GAlignments object contains 6 out-of-bound ranges located on sequence\n",
            "  chr17. Note that ranges located on a sequence whose length is unknown\n",
            "  (NA) or on a circular sequence are not considered out-of-bound (use\n",
            "  seqlengths() and isCircular() to get the lengths and circularity flags\n",
            "  of the underlying sequences).”\n",
            "Warning message in GenomicRanges:::valid.GenomicRanges.seqinfo(x):\n",
            "“GAlignments object contains 6 out-of-bound ranges located on sequence\n",
            "  chr17. Note that ranges located on a sequence whose length is unknown\n",
            "  (NA) or on a circular sequence are not considered out-of-bound (use\n",
            "  seqlengths() and isCircular() to get the lengths and circularity flags\n",
            "  of the underlying sequences).”\n",
            "Warning message in valid.GenomicRanges.seqinfo(x, suggest.trim = TRUE):\n",
            "“GRanges object contains 3 out-of-bound ranges located on sequence\n",
            "  chr17. Note that ranges located on a sequence whose length is unknown\n",
            "  (NA) or on a circular sequence are not considered out-of-bound (use\n",
            "  seqlengths() and isCircular() to get the lengths and circularity flags\n",
            "  of the underlying sequences). You can use trim() to trim these ranges.\n",
            "  See ?`trim,GenomicRanges-method` for more information.”\n",
            "Warning message in valid.GenomicRanges.seqinfo(x, suggest.trim = TRUE):\n",
            "“GRanges object contains 1 out-of-bound range located on sequence chr17.\n",
            "  Note that ranges located on a sequence whose length is unknown (NA) or\n",
            "  on a circular sequence are not considered out-of-bound (use\n",
            "  seqlengths() and isCircular() to get the lengths and circularity flags\n",
            "  of the underlying sequences). You can use trim() to trim these ranges.\n",
            "  See ?`trim,GenomicRanges-method` for more information.”\n",
            "read_bam | reading ./s3.msi.umn.edu/gongx030/datasets/dataset=Buenrostro_version=20170721a/GM12878_50k_cells_seed=1_pct=0.1000_shift=80.bam\n",
            "\n",
            "Warning message in GenomicRanges:::valid.GenomicRanges.seqinfo(x):\n",
            "“GAlignments object contains 6 out-of-bound ranges located on sequence\n",
            "  chr17. Note that ranges located on a sequence whose length is unknown\n",
            "  (NA) or on a circular sequence are not considered out-of-bound (use\n",
            "  seqlengths() and isCircular() to get the lengths and circularity flags\n",
            "  of the underlying sequences).”\n",
            "Warning message in GenomicRanges:::valid.GenomicRanges.seqinfo(x):\n",
            "“GAlignments object contains 6 out-of-bound ranges located on sequence\n",
            "  chr17. Note that ranges located on a sequence whose length is unknown\n",
            "  (NA) or on a circular sequence are not considered out-of-bound (use\n",
            "  seqlengths() and isCircular() to get the lengths and circularity flags\n",
            "  of the underlying sequences).”\n",
            "Warning message in valid.GenomicRanges.seqinfo(x, suggest.trim = TRUE):\n",
            "“GRanges object contains 3 out-of-bound ranges located on sequence\n",
            "  chr17. Note that ranges located on a sequence whose length is unknown\n",
            "  (NA) or on a circular sequence are not considered out-of-bound (use\n",
            "  seqlengths() and isCircular() to get the lengths and circularity flags\n",
            "  of the underlying sequences). You can use trim() to trim these ranges.\n",
            "  See ?`trim,GenomicRanges-method` for more information.”\n",
            "Warning message in valid.GenomicRanges.seqinfo(x, suggest.trim = TRUE):\n",
            "“GRanges object contains 1 out-of-bound range located on sequence chr17.\n",
            "  Note that ranges located on a sequence whose length is unknown (NA) or\n",
            "  on a circular sequence are not considered out-of-bound (use\n",
            "  seqlengths() and isCircular() to get the lengths and circularity flags\n",
            "  of the underlying sequences). You can use trim() to trim these ranges.\n",
            "  See ?`trim,GenomicRanges-method` for more information.”\n",
            "read_bam | reading ./s3.msi.umn.edu/gongx030/datasets/dataset=Buenrostro_version=20170721a/GM12878_50k_cells_seed=1_pct=0.1000_shift=90.bam\n",
            "\n",
            "Warning message in GenomicRanges:::valid.GenomicRanges.seqinfo(x):\n",
            "“GAlignments object contains 6 out-of-bound ranges located on sequence\n",
            "  chr17. Note that ranges located on a sequence whose length is unknown\n",
            "  (NA) or on a circular sequence are not considered out-of-bound (use\n",
            "  seqlengths() and isCircular() to get the lengths and circularity flags\n",
            "  of the underlying sequences).”\n",
            "Warning message in GenomicRanges:::valid.GenomicRanges.seqinfo(x):\n",
            "“GAlignments object contains 6 out-of-bound ranges located on sequence\n",
            "  chr17. Note that ranges located on a sequence whose length is unknown\n",
            "  (NA) or on a circular sequence are not considered out-of-bound (use\n",
            "  seqlengths() and isCircular() to get the lengths and circularity flags\n",
            "  of the underlying sequences).”\n",
            "Warning message in valid.GenomicRanges.seqinfo(x, suggest.trim = TRUE):\n",
            "“GRanges object contains 3 out-of-bound ranges located on sequence\n",
            "  chr17. Note that ranges located on a sequence whose length is unknown\n",
            "  (NA) or on a circular sequence are not considered out-of-bound (use\n",
            "  seqlengths() and isCircular() to get the lengths and circularity flags\n",
            "  of the underlying sequences). You can use trim() to trim these ranges.\n",
            "  See ?`trim,GenomicRanges-method` for more information.”\n",
            "Warning message in valid.GenomicRanges.seqinfo(x, suggest.trim = TRUE):\n",
            "“GRanges object contains 1 out-of-bound range located on sequence chr17.\n",
            "  Note that ranges located on a sequence whose length is unknown (NA) or\n",
            "  on a circular sequence are not considered out-of-bound (use\n",
            "  seqlengths() and isCircular() to get the lengths and circularity flags\n",
            "  of the underlying sequences). You can use trim() to trim these ranges.\n",
            "  See ?`trim,GenomicRanges-method` for more information.”\n",
            "read_bam | reading ./s3.msi.umn.edu/gongx030/datasets/dataset=Buenrostro_version=20170721a/GM12878_50k_cells_seed=1_pct=0.1000_shift=100.bam\n",
            "\n",
            "Warning message in GenomicRanges:::valid.GenomicRanges.seqinfo(x):\n",
            "“GAlignments object contains 6 out-of-bound ranges located on sequence\n",
            "  chr17. Note that ranges located on a sequence whose length is unknown\n",
            "  (NA) or on a circular sequence are not considered out-of-bound (use\n",
            "  seqlengths() and isCircular() to get the lengths and circularity flags\n",
            "  of the underlying sequences).”\n",
            "Warning message in GenomicRanges:::valid.GenomicRanges.seqinfo(x):\n",
            "“GAlignments object contains 6 out-of-bound ranges located on sequence\n",
            "  chr17. Note that ranges located on a sequence whose length is unknown\n",
            "  (NA) or on a circular sequence are not considered out-of-bound (use\n",
            "  seqlengths() and isCircular() to get the lengths and circularity flags\n",
            "  of the underlying sequences).”\n",
            "Warning message in valid.GenomicRanges.seqinfo(x, suggest.trim = TRUE):\n",
            "“GRanges object contains 3 out-of-bound ranges located on sequence\n",
            "  chr17. Note that ranges located on a sequence whose length is unknown\n",
            "  (NA) or on a circular sequence are not considered out-of-bound (use\n",
            "  seqlengths() and isCircular() to get the lengths and circularity flags\n",
            "  of the underlying sequences). You can use trim() to trim these ranges.\n",
            "  See ?`trim,GenomicRanges-method` for more information.”\n",
            "Warning message in valid.GenomicRanges.seqinfo(x, suggest.trim = TRUE):\n",
            "“GRanges object contains 1 out-of-bound range located on sequence chr17.\n",
            "  Note that ranges located on a sequence whose length is unknown (NA) or\n",
            "  on a circular sequence are not considered out-of-bound (use\n",
            "  seqlengths() and isCircular() to get the lengths and circularity flags\n",
            "  of the underlying sequences). You can use trim() to trim these ranges.\n",
            "  See ?`trim,GenomicRanges-method` for more information.”\n"
          ]
        }
      ]
    },
    {
      "cell_type": "code",
      "source": [
        "valid <- rowSums(counts >= ARGS$min_reads_train) >= 2L\n",
        "sprintf('number of valid peaks for VaeModel: %d', sum(valid)) %>% message()"
      ],
      "metadata": {
        "colab": {
          "base_uri": "https://localhost:8080/"
        },
        "id": "9RuyszeoGQUK",
        "outputId": "58bf86ac-ac94-4947-d66f-f7186877f9a7"
      },
      "execution_count": null,
      "outputs": [
        {
          "output_type": "stream",
          "name": "stderr",
          "text": [
            "number of valid peaks for VaeModel: 60934\n",
            "\n"
          ]
        }
      ]
    },
    {
      "cell_type": "code",
      "source": [
        "gr <- gr[valid]\n",
        "gr <- sample(gr, min(length(gr), ARGS$min_peaks))\n",
        "sprintf('sampling %d valid peaks for training VaeModel', length(gr)) %>% message()"
      ],
      "metadata": {
        "colab": {
          "base_uri": "https://localhost:8080/"
        },
        "id": "_sRvPhQZ_N_w",
        "outputId": "b755224c-3232-4cfc-bb1f-c0d9061df1dc"
      },
      "execution_count": null,
      "outputs": [
        {
          "output_type": "stream",
          "name": "stderr",
          "text": [
            "sampling 10000 valid peaks for training VaeModel\n",
            "\n"
          ]
        }
      ]
    },
    {
      "cell_type": "code",
      "source": [
        "x <- read_vplot(\n",
        "  gr, \n",
        "  filenames = ARGS$local_bam_files, \n",
        "  genome = BSgenome.Hsapiens.UCSC.hg19, \n",
        "  bin_size = ARGS$bin_size,\n",
        "  fragment_size_range = c(0, ARGS$fragment_size_range_max),\n",
        "  fragment_size_interval = ARGS$fragment_size_interval\n",
        ")"
      ],
      "metadata": {
        "colab": {
          "base_uri": "https://localhost:8080/"
        },
        "id": "YRWmGmBH_TCo",
        "outputId": "92a363cb-1f19-4e80-db43-ef7d64fc1f24"
      },
      "execution_count": null,
      "outputs": [
        {
          "output_type": "stream",
          "name": "stderr",
          "text": [
            "read_bam | reading ./s3.msi.umn.edu/gongx030/datasets/dataset=Buenrostro_version=20170721a/GM12878_50k_cells_seed=2_pct=0.1000.bam\n",
            "\n",
            "as(<ngCMatrix>, \"dgCMatrix\") is deprecated since Matrix 1.5-0; do as(., \"dMatrix\") instead\n",
            "\n",
            "read_bam | reading ./s3.msi.umn.edu/gongx030/datasets/dataset=Buenrostro_version=20170721a/GM12878_50k_cells_seed=3_pct=0.1000.bam\n",
            "\n",
            "read_bam | reading ./s3.msi.umn.edu/gongx030/datasets/dataset=Buenrostro_version=20170721a/GM12878_50k_cells_seed=1_pct=0.1000_shift=10.bam\n",
            "\n",
            "read_bam | reading ./s3.msi.umn.edu/gongx030/datasets/dataset=Buenrostro_version=20170721a/GM12878_50k_cells_seed=1_pct=0.1000_shift=20.bam\n",
            "\n",
            "read_bam | reading ./s3.msi.umn.edu/gongx030/datasets/dataset=Buenrostro_version=20170721a/GM12878_50k_cells_seed=1_pct=0.1000_shift=30.bam\n",
            "\n",
            "read_bam | reading ./s3.msi.umn.edu/gongx030/datasets/dataset=Buenrostro_version=20170721a/GM12878_50k_cells_seed=1_pct=0.1000_shift=40.bam\n",
            "\n",
            "read_bam | reading ./s3.msi.umn.edu/gongx030/datasets/dataset=Buenrostro_version=20170721a/GM12878_50k_cells_seed=1_pct=0.1000_shift=50.bam\n",
            "\n",
            "read_bam | reading ./s3.msi.umn.edu/gongx030/datasets/dataset=Buenrostro_version=20170721a/GM12878_50k_cells_seed=1_pct=0.1000_shift=60.bam\n",
            "\n",
            "read_bam | reading ./s3.msi.umn.edu/gongx030/datasets/dataset=Buenrostro_version=20170721a/GM12878_50k_cells_seed=1_pct=0.1000_shift=70.bam\n",
            "\n",
            "read_bam | reading ./s3.msi.umn.edu/gongx030/datasets/dataset=Buenrostro_version=20170721a/GM12878_50k_cells_seed=1_pct=0.1000_shift=80.bam\n",
            "\n",
            "read_bam | reading ./s3.msi.umn.edu/gongx030/datasets/dataset=Buenrostro_version=20170721a/GM12878_50k_cells_seed=1_pct=0.1000_shift=90.bam\n",
            "\n",
            "read_bam | reading ./s3.msi.umn.edu/gongx030/datasets/dataset=Buenrostro_version=20170721a/GM12878_50k_cells_seed=1_pct=0.1000_shift=100.bam\n",
            "\n"
          ]
        }
      ]
    },
    {
      "cell_type": "code",
      "source": [
        "# Training SeATAC\n",
        "model <- VaeModel(x)\n",
        "model <- model %>% fit(x, batch_size = ARGS$batch_size, epochs = ARGS$epochs, compile = TRUE)"
      ],
      "metadata": {
        "colab": {
          "base_uri": "https://localhost:8080/"
        },
        "id": "GlQbReN1_sbr",
        "outputId": "0ec35751-ef3f-4f9b-975d-c0131946e5a8"
      },
      "execution_count": null,
      "outputs": [
        {
          "output_type": "stream",
          "name": "stderr",
          "text": [
            "epoch=     1/   100 | beta=1.000e+00 | loss= 6031.8035400 | loss_reconstruction= 6029.8581543 | loss_kl=    1.9453825\n",
            "\n",
            "epoch=     2/   100 | beta=1.000e+00 | loss= 4372.9796997 | loss_reconstruction= 4372.1423218 | loss_kl=    0.8373787\n",
            "\n",
            "epoch=     3/   100 | beta=1.000e+00 | loss= 2080.2084000 | loss_reconstruction= 2080.1312225 | loss_kl=    0.0771676\n",
            "\n",
            "epoch=     4/   100 | beta=1.000e+00 | loss=  543.2316437 | loss_reconstruction=  543.2158142 | loss_kl=    0.0158302\n",
            "\n",
            "epoch=     5/   100 | beta=1.000e+00 | loss=  224.4986679 | loss_reconstruction=  224.4776665 | loss_kl=    0.0210006\n",
            "\n",
            "epoch=     6/   100 | beta=1.000e+00 | loss=  162.1627625 | loss_reconstruction=  162.1015160 | loss_kl=    0.0612463\n",
            "\n",
            "epoch=     7/   100 | beta=1.000e+00 | loss=  142.8260628 | loss_reconstruction=  142.6346214 | loss_kl=    0.1914409\n",
            "\n",
            "epoch=     8/   100 | beta=1.000e+00 | loss=  134.6969122 | loss_reconstruction=  134.1830244 | loss_kl=    0.5138871\n",
            "\n",
            "epoch=     9/   100 | beta=1.000e+00 | loss=  130.0056599 | loss_reconstruction=  128.8623062 | loss_kl=    1.1433538\n",
            "\n",
            "epoch=    10/   100 | beta=1.000e+00 | loss=  127.2813627 | loss_reconstruction=  125.7821299 | loss_kl=    1.4992325\n",
            "\n",
            "epoch=    11/   100 | beta=1.000e+00 | loss=  126.0980759 | loss_reconstruction=  124.3008039 | loss_kl=    1.7972714\n",
            "\n",
            "epoch=    12/   100 | beta=1.000e+00 | loss=  125.1706009 | loss_reconstruction=  123.1786047 | loss_kl=    1.9919960\n",
            "\n",
            "epoch=    13/   100 | beta=1.000e+00 | loss=  124.6752119 | loss_reconstruction=  122.5733599 | loss_kl=    2.1018518\n",
            "\n",
            "epoch=    14/   100 | beta=1.000e+00 | loss=  124.2370348 | loss_reconstruction=  121.9994812 | loss_kl=    2.2375533\n",
            "\n",
            "epoch=    15/   100 | beta=1.000e+00 | loss=  124.0011032 | loss_reconstruction=  121.6638283 | loss_kl=    2.3372750\n",
            "\n",
            "epoch=    16/   100 | beta=1.000e+00 | loss=  124.0887150 | loss_reconstruction=  121.6316673 | loss_kl=    2.4570478\n",
            "\n",
            "epoch=    17/   100 | beta=1.000e+00 | loss=  123.6838137 | loss_reconstruction=  121.1404083 | loss_kl=    2.5434050\n",
            "\n",
            "epoch=    18/   100 | beta=1.000e+00 | loss=  123.5904959 | loss_reconstruction=  120.9861685 | loss_kl=    2.6043272\n",
            "\n",
            "epoch=    19/   100 | beta=1.000e+00 | loss=  123.5925354 | loss_reconstruction=  120.8719669 | loss_kl=    2.7205688\n",
            "\n",
            "epoch=    20/   100 | beta=1.000e+00 | loss=  123.3163683 | loss_reconstruction=  120.5461674 | loss_kl=    2.7702012\n",
            "\n",
            "epoch=    21/   100 | beta=1.000e+00 | loss=  123.0725197 | loss_reconstruction=  120.2205835 | loss_kl=    2.8519364\n",
            "\n",
            "epoch=    22/   100 | beta=1.000e+00 | loss=  123.0315958 | loss_reconstruction=  120.1376976 | loss_kl=    2.8938974\n",
            "\n",
            "epoch=    23/   100 | beta=1.000e+00 | loss=  122.8918026 | loss_reconstruction=  119.9395254 | loss_kl=    2.9522767\n",
            "\n",
            "epoch=    24/   100 | beta=1.000e+00 | loss=  123.0375723 | loss_reconstruction=  120.0385151 | loss_kl=    2.9990576\n",
            "\n",
            "epoch=    25/   100 | beta=1.000e+00 | loss=  122.7868271 | loss_reconstruction=  119.7420725 | loss_kl=    3.0447546\n",
            "\n",
            "epoch=    26/   100 | beta=1.000e+00 | loss=  122.7358606 | loss_reconstruction=  119.5983582 | loss_kl=    3.1375018\n",
            "\n",
            "epoch=    27/   100 | beta=1.000e+00 | loss=  122.7780647 | loss_reconstruction=  119.6731901 | loss_kl=    3.1048739\n",
            "\n",
            "epoch=    28/   100 | beta=1.000e+00 | loss=  122.6772285 | loss_reconstruction=  119.5077822 | loss_kl=    3.1694458\n",
            "\n",
            "epoch=    29/   100 | beta=1.000e+00 | loss=  122.5496046 | loss_reconstruction=  119.3299440 | loss_kl=    3.2196606\n",
            "\n",
            "epoch=    30/   100 | beta=1.000e+00 | loss=  122.6715343 | loss_reconstruction=  119.4803036 | loss_kl=    3.1912307\n",
            "\n",
            "epoch=    31/   100 | beta=1.000e+00 | loss=  122.5335066 | loss_reconstruction=  119.3048923 | loss_kl=    3.2286140\n",
            "\n",
            "epoch=    32/   100 | beta=1.000e+00 | loss=  122.3875210 | loss_reconstruction=  119.0986095 | loss_kl=    3.2889111\n",
            "\n",
            "epoch=    33/   100 | beta=1.000e+00 | loss=  122.3905529 | loss_reconstruction=  119.1016802 | loss_kl=    3.2888726\n",
            "\n",
            "epoch=    34/   100 | beta=1.000e+00 | loss=  122.2632788 | loss_reconstruction=  118.9306086 | loss_kl=    3.3326698\n",
            "\n",
            "epoch=    35/   100 | beta=1.000e+00 | loss=  122.1223177 | loss_reconstruction=  118.7719027 | loss_kl=    3.3504152\n",
            "\n",
            "epoch=    36/   100 | beta=1.000e+00 | loss=  122.1728985 | loss_reconstruction=  118.7978186 | loss_kl=    3.3750807\n",
            "\n",
            "epoch=    37/   100 | beta=1.000e+00 | loss=  122.1688503 | loss_reconstruction=  118.7664745 | loss_kl=    3.4023748\n",
            "\n",
            "epoch=    38/   100 | beta=1.000e+00 | loss=  122.0337168 | loss_reconstruction=  118.6247063 | loss_kl=    3.4090112\n",
            "\n",
            "epoch=    39/   100 | beta=1.000e+00 | loss=  121.8750767 | loss_reconstruction=  118.4588537 | loss_kl=    3.4162237\n",
            "\n",
            "epoch=    40/   100 | beta=1.000e+00 | loss=  121.8600025 | loss_reconstruction=  118.3960152 | loss_kl=    3.4639872\n",
            "\n",
            "epoch=    41/   100 | beta=1.000e+00 | loss=  121.9071625 | loss_reconstruction=  118.4676083 | loss_kl=    3.4395536\n",
            "\n",
            "epoch=    42/   100 | beta=1.000e+00 | loss=  121.7074196 | loss_reconstruction=  118.2103785 | loss_kl=    3.4970412\n",
            "\n",
            "epoch=    43/   100 | beta=1.000e+00 | loss=  121.7589039 | loss_reconstruction=  118.2570932 | loss_kl=    3.5018102\n",
            "\n",
            "epoch=    44/   100 | beta=1.000e+00 | loss=  121.7226463 | loss_reconstruction=  118.2086309 | loss_kl=    3.5140155\n",
            "\n",
            "epoch=    45/   100 | beta=1.000e+00 | loss=  121.9905575 | loss_reconstruction=  118.4335379 | loss_kl=    3.5570204\n",
            "\n",
            "epoch=    46/   100 | beta=1.000e+00 | loss=  121.7869135 | loss_reconstruction=  118.2240175 | loss_kl=    3.5628950\n",
            "\n",
            "epoch=    47/   100 | beta=1.000e+00 | loss=  121.7897861 | loss_reconstruction=  118.2238775 | loss_kl=    3.5659085\n",
            "\n",
            "epoch=    48/   100 | beta=1.000e+00 | loss=  121.5681292 | loss_reconstruction=  117.9794130 | loss_kl=    3.5887159\n",
            "\n",
            "epoch=    49/   100 | beta=1.000e+00 | loss=  121.7116411 | loss_reconstruction=  118.1029427 | loss_kl=    3.6086987\n",
            "\n",
            "epoch=    50/   100 | beta=1.000e+00 | loss=  121.5696680 | loss_reconstruction=  117.9493534 | loss_kl=    3.6203148\n",
            "\n",
            "epoch=    51/   100 | beta=1.000e+00 | loss=  121.4207220 | loss_reconstruction=  117.7589577 | loss_kl=    3.6617642\n",
            "\n",
            "epoch=    52/   100 | beta=1.000e+00 | loss=  121.4406364 | loss_reconstruction=  117.7743450 | loss_kl=    3.6662908\n",
            "\n",
            "epoch=    53/   100 | beta=1.000e+00 | loss=  121.3485634 | loss_reconstruction=  117.6710960 | loss_kl=    3.6774671\n",
            "\n",
            "epoch=    54/   100 | beta=1.000e+00 | loss=  121.2862669 | loss_reconstruction=  117.5844181 | loss_kl=    3.7018486\n",
            "\n",
            "epoch=    55/   100 | beta=1.000e+00 | loss=  121.2459568 | loss_reconstruction=  117.5379950 | loss_kl=    3.7079616\n",
            "\n",
            "epoch=    56/   100 | beta=1.000e+00 | loss=  121.1894461 | loss_reconstruction=  117.4637350 | loss_kl=    3.7257110\n",
            "\n",
            "epoch=    57/   100 | beta=1.000e+00 | loss=  121.1529060 | loss_reconstruction=  117.4119230 | loss_kl=    3.7409835\n",
            "\n",
            "epoch=    58/   100 | beta=1.000e+00 | loss=  121.2357113 | loss_reconstruction=  117.5056057 | loss_kl=    3.7301055\n",
            "\n",
            "epoch=    59/   100 | beta=1.000e+00 | loss=  121.1020298 | loss_reconstruction=  117.3274862 | loss_kl=    3.7745437\n",
            "\n",
            "epoch=    60/   100 | beta=1.000e+00 | loss=  121.0977890 | loss_reconstruction=  117.3148245 | loss_kl=    3.7829645\n",
            "\n",
            "epoch=    61/   100 | beta=1.000e+00 | loss=  121.0476885 | loss_reconstruction=  117.2811186 | loss_kl=    3.7665694\n",
            "\n",
            "epoch=    62/   100 | beta=1.000e+00 | loss=  121.0373775 | loss_reconstruction=  117.2466322 | loss_kl=    3.7907451\n",
            "\n",
            "epoch=    63/   100 | beta=1.000e+00 | loss=  121.0091034 | loss_reconstruction=  117.2156668 | loss_kl=    3.7934374\n",
            "\n",
            "epoch=    64/   100 | beta=1.000e+00 | loss=  121.0104948 | loss_reconstruction=  117.1902866 | loss_kl=    3.8202076\n",
            "\n",
            "epoch=    65/   100 | beta=1.000e+00 | loss=  120.9464300 | loss_reconstruction=  117.1317526 | loss_kl=    3.8146773\n",
            "\n",
            "epoch=    66/   100 | beta=1.000e+00 | loss=  120.9455166 | loss_reconstruction=  117.1338856 | loss_kl=    3.8116303\n",
            "\n",
            "epoch=    67/   100 | beta=1.000e+00 | loss=  120.9116947 | loss_reconstruction=  117.0571032 | loss_kl=    3.8545912\n",
            "\n",
            "epoch=    68/   100 | beta=1.000e+00 | loss=  120.9027824 | loss_reconstruction=  117.0618454 | loss_kl=    3.8409373\n",
            "\n",
            "epoch=    69/   100 | beta=1.000e+00 | loss=  120.8771114 | loss_reconstruction=  117.0235584 | loss_kl=    3.8535524\n",
            "\n",
            "epoch=    70/   100 | beta=1.000e+00 | loss=  120.8653799 | loss_reconstruction=  116.9866974 | loss_kl=    3.8786828\n",
            "\n",
            "epoch=    71/   100 | beta=1.000e+00 | loss=  120.8185806 | loss_reconstruction=  116.9470087 | loss_kl=    3.8715717\n",
            "\n",
            "epoch=    72/   100 | beta=1.000e+00 | loss=  120.7740685 | loss_reconstruction=  116.9018000 | loss_kl=    3.8722690\n",
            "\n",
            "epoch=    73/   100 | beta=1.000e+00 | loss=  120.7872005 | loss_reconstruction=  116.8852604 | loss_kl=    3.9019397\n",
            "\n",
            "epoch=    74/   100 | beta=1.000e+00 | loss=  120.7464209 | loss_reconstruction=  116.8635178 | loss_kl=    3.8829031\n",
            "\n",
            "epoch=    75/   100 | beta=1.000e+00 | loss=  120.7467295 | loss_reconstruction=  116.8311977 | loss_kl=    3.9155318\n",
            "\n",
            "epoch=    76/   100 | beta=1.000e+00 | loss=  120.7250393 | loss_reconstruction=  116.8050892 | loss_kl=    3.9199495\n",
            "\n",
            "epoch=    77/   100 | beta=1.000e+00 | loss=  120.7121414 | loss_reconstruction=  116.7917210 | loss_kl=    3.9204204\n",
            "\n",
            "epoch=    78/   100 | beta=1.000e+00 | loss=  120.6940315 | loss_reconstruction=  116.7586399 | loss_kl=    3.9353909\n",
            "\n",
            "epoch=    79/   100 | beta=1.000e+00 | loss=  120.6667385 | loss_reconstruction=  116.7338720 | loss_kl=    3.9328670\n",
            "\n",
            "epoch=    80/   100 | beta=1.000e+00 | loss=  120.6677387 | loss_reconstruction=  116.7209240 | loss_kl=    3.9468145\n",
            "\n",
            "epoch=    81/   100 | beta=1.000e+00 | loss=  120.6342749 | loss_reconstruction=  116.6794489 | loss_kl=    3.9548254\n",
            "\n",
            "epoch=    82/   100 | beta=1.000e+00 | loss=  120.6321894 | loss_reconstruction=  116.6771448 | loss_kl=    3.9550454\n",
            "\n",
            "epoch=    83/   100 | beta=1.000e+00 | loss=  120.6185112 | loss_reconstruction=  116.6475836 | loss_kl=    3.9709278\n",
            "\n",
            "epoch=    84/   100 | beta=1.000e+00 | loss=  120.6038986 | loss_reconstruction=  116.6293985 | loss_kl=    3.9744995\n",
            "\n",
            "epoch=    85/   100 | beta=1.000e+00 | loss=  120.5870567 | loss_reconstruction=  116.6209484 | loss_kl=    3.9661093\n",
            "\n",
            "epoch=    86/   100 | beta=1.000e+00 | loss=  120.5780626 | loss_reconstruction=  116.5972729 | loss_kl=    3.9807896\n",
            "\n",
            "epoch=    87/   100 | beta=1.000e+00 | loss=  120.5664984 | loss_reconstruction=  116.5881899 | loss_kl=    3.9783087\n",
            "\n",
            "epoch=    88/   100 | beta=1.000e+00 | loss=  120.5583769 | loss_reconstruction=  116.5589846 | loss_kl=    3.9993922\n",
            "\n",
            "epoch=    89/   100 | beta=1.000e+00 | loss=  120.5580416 | loss_reconstruction=  116.5688288 | loss_kl=    3.9892124\n",
            "\n",
            "epoch=    90/   100 | beta=1.000e+00 | loss=  120.5497293 | loss_reconstruction=  116.5581070 | loss_kl=    3.9916225\n",
            "\n",
            "epoch=    91/   100 | beta=1.000e+00 | loss=  120.5437984 | loss_reconstruction=  116.5534256 | loss_kl=    3.9903728\n",
            "\n",
            "epoch=    92/   100 | beta=1.000e+00 | loss=  120.5405682 | loss_reconstruction=  116.5524397 | loss_kl=    3.9881287\n",
            "\n",
            "epoch=    93/   100 | beta=1.000e+00 | loss=  120.5403934 | loss_reconstruction=  116.5506275 | loss_kl=    3.9897664\n",
            "\n",
            "epoch=    94/   100 | beta=1.000e+00 | loss=  120.5274023 | loss_reconstruction=  116.5212320 | loss_kl=    4.0061703\n",
            "\n",
            "epoch=    95/   100 | beta=1.000e+00 | loss=  120.5241497 | loss_reconstruction=  116.5409346 | loss_kl=    3.9832151\n",
            "\n",
            "epoch=    96/   100 | beta=1.000e+00 | loss=  120.5278610 | loss_reconstruction=  116.5268730 | loss_kl=    4.0009879\n",
            "\n",
            "epoch=    97/   100 | beta=1.000e+00 | loss=  120.5283726 | loss_reconstruction=  116.5331312 | loss_kl=    3.9952418\n",
            "\n",
            "epoch=    98/   100 | beta=1.000e+00 | loss=  120.5214666 | loss_reconstruction=  116.5226223 | loss_kl=    3.9988440\n",
            "\n",
            "epoch=    99/   100 | beta=1.000e+00 | loss=  120.5244659 | loss_reconstruction=  116.5220289 | loss_kl=    4.0024372\n",
            "\n",
            "epoch=   100/   100 | beta=1.000e+00 | loss=  120.5300417 | loss_reconstruction=  116.5345287 | loss_kl=    3.9955128\n",
            "\n"
          ]
        }
      ]
    },
    {
      "cell_type": "markdown",
      "source": [
        "## ROC at shift size of 50"
      ],
      "metadata": {
        "id": "_c5dnoic7Qfj"
      }
    },
    {
      "cell_type": "code",
      "source": [
        "x <- model %>% predict(x, vplots = FALSE) # predicting nucleosomes on regions with ground truth"
      ],
      "metadata": {
        "id": "czxls5EdKvog"
      },
      "execution_count": null,
      "outputs": []
    },
    {
      "cell_type": "code",
      "source": [
        "sample_negative <- 'negative'\n",
        "sample_control <- 'control'"
      ],
      "metadata": {
        "id": "xirxdVZznZrB"
      },
      "execution_count": null,
      "outputs": []
    },
    {
      "cell_type": "code",
      "source": [
        "res_seatac <- NULL\n",
        "auc_seatac <- NULL\n",
        "for (shift_size in ARGS$shift_sizes){\n",
        "  sample_positive <- sprintf('positive_shift_%d', shift_size)\n",
        "  res_neg <- model %>% results(x, type = 'vplots', contrast = c('name', sample_control, sample_negative))\n",
        "  res_neg$class <- 'negative' # regions without any V-plot changes (seed 1 vs seed 2)\n",
        "  res_pos <- model %>% results(x, type = 'vplots', contrast = c('name', sample_control, sample_positive))\n",
        "  res_pos$class <- 'positive' # regions with significant V-plot changes (seed 1 vs seed 2 + shift)\n",
        "  res <- c(res_neg, res_pos)\n",
        "  roc <- roc(res$class, res$pvalue_z, plot = FALSE, quiet = TRUE) # differential V-plots as estimated by the SeATAC p-value\n",
        "  res_seatac <- rbind(res_seatac, cbind(coords(roc), shift_size = shift_size))\n",
        "  auc_seatac <- rbind(auc_seatac, data.frame(shift_size = shift_size, auc = roc$auc))\n",
        "  sprintf('shift_size=%d, roc=%.3f', shift_size, roc$auc) %>% message()\n",
        "}"
      ],
      "metadata": {
        "colab": {
          "base_uri": "https://localhost:8080/"
        },
        "id": "IcRRtiNOK41d",
        "outputId": "0044e826-d405-4d71-e6c9-59af7e5f020a"
      },
      "execution_count": null,
      "outputs": [
        {
          "output_type": "stream",
          "name": "stderr",
          "text": [
            "shift_size=10, roc=0.964\n",
            "\n",
            "shift_size=20, roc=0.977\n",
            "\n",
            "shift_size=30, roc=0.985\n",
            "\n",
            "shift_size=40, roc=0.990\n",
            "\n",
            "shift_size=50, roc=0.994\n",
            "\n",
            "shift_size=60, roc=0.995\n",
            "\n",
            "shift_size=70, roc=0.996\n",
            "\n",
            "shift_size=80, roc=0.997\n",
            "\n",
            "shift_size=90, roc=0.998\n",
            "\n",
            "shift_size=100, roc=0.998\n",
            "\n"
          ]
        }
      ]
    },
    {
      "cell_type": "code",
      "source": [
        "res_macs2 <- NULL\n",
        "auc_macs2 <- NULL\n",
        "for (shift_size in ARGS$shift_sizes){\n",
        "  sample_positive <- sprintf('positive_shift_%d', shift_size)\n",
        "  cvg <- rtracklayer::import(ARGS$local_macs2_bw_file[sample_control], which = gr, format = 'BigWig', as = 'RleList')\n",
        "  control <- cvg[gr] %>% as.matrix() \n",
        "  cvg <- rtracklayer::import(ARGS$local_macs2_bw_file[sample_positive], which = gr, format = 'BigWig', as = 'RleList')\n",
        "  positive <- cvg[gr] %>% as.matrix() \n",
        "  cvg <- rtracklayer::import(ARGS$local_macs2_bw_file[sample_negative], which = gr, format = 'BigWig', as = 'RleList')\n",
        "  negative <- cvg[gr] %>% as.matrix() \n",
        "  res_neg <- rowMaxs(abs(negative - control)) # maximum differential MACS2 pileup between control and negative (no change of V-plots, seed 1 vs seed 2)\n",
        "  res_pos <- rowMaxs(abs(positive - control)) # maximum differential MACS2 pileup between control and positive (significant change of V-plots, seed 1 vs seed 2 + shift)\n",
        "  class <- rep(c('negative', 'positive'), each = length(gr))\n",
        "  score <- c(res_neg, res_pos)\n",
        "  roc <- roc(class, score, plot = FALSE, quiet = TRUE) # differential V-plots as estimated by the MACS2 score\n",
        "  res_macs2 <- rbind(res_macs2, cbind(coords(roc), shift_size = shift_size))\n",
        "  auc_macs2 <- rbind(auc_macs2, data.frame(shift_size = shift_size, auc = roc$auc))\n",
        "  sprintf('shift_size=%d, roc=%.3f', shift_size, roc$auc) %>% message()\n",
        "}"
      ],
      "metadata": {
        "colab": {
          "base_uri": "https://localhost:8080/"
        },
        "id": "iEXZpCKMMCNm",
        "outputId": "8887c508-54cf-4ab7-d88d-ae7265da3fd3"
      },
      "execution_count": null,
      "outputs": [
        {
          "output_type": "stream",
          "name": "stderr",
          "text": [
            "shift_size=10, roc=0.525\n",
            "\n",
            "shift_size=20, roc=0.530\n",
            "\n",
            "shift_size=30, roc=0.533\n",
            "\n",
            "shift_size=40, roc=0.536\n",
            "\n",
            "shift_size=50, roc=0.538\n",
            "\n",
            "shift_size=60, roc=0.538\n",
            "\n",
            "shift_size=70, roc=0.541\n",
            "\n",
            "shift_size=80, roc=0.542\n",
            "\n",
            "shift_size=90, roc=0.543\n",
            "\n",
            "shift_size=100, roc=0.544\n",
            "\n"
          ]
        }
      ]
    },
    {
      "cell_type": "code",
      "source": [
        "res_nucleoatac <- NULL\n",
        "auc_nucleoatac <- NULL\n",
        "for (shift_size in ARGS$shift_sizes){\n",
        "  sample_positive <- sprintf('positive_shift_%d', shift_size)\n",
        "  cvg <- rtracklayer::import(ARGS$local_nuceoatac_file[sample_control], which = gr, format = 'BigWig', as = 'RleList')\n",
        "  control <- cvg[gr] %>% as.matrix() \n",
        "  cvg <- rtracklayer::import(ARGS$local_nuceoatac_file[sample_positive], which = gr, format = 'BigWig', as = 'RleList')\n",
        "  positive <- cvg[gr] %>% as.matrix() \n",
        "  cvg <- rtracklayer::import(ARGS$local_nuceoatac_file[sample_negative], which = gr, format = 'BigWig', as = 'RleList')\n",
        "  negative <- cvg[gr] %>% as.matrix() \n",
        "  res_neg <- rowMaxs(abs(negative - control)) # maximum differential NucleoATAC pileup between control and negative (no change of V-plots, seed 1 vs seed 2)\n",
        "  res_pos <- rowMaxs(abs(positive - control)) # maximum differential NucleoATAC pileup between control and positive (significant change of V-plots, seed 1 vs seed 2 + shift)\n",
        "  class <- rep(c('negative', 'positive'), each = length(gr))\n",
        "  score <- c(res_neg, res_pos)\n",
        "  roc <- roc(class, score, plot = FALSE, quiet = TRUE) # differential V-plots as estimated by the NucleoATAC score\n",
        "  res_nucleoatac <- rbind(res_nucleoatac, cbind(coords(roc), shift_size = shift_size))\n",
        "  auc_nucleoatac <- rbind(auc_nucleoatac, data.frame(shift_size = shift_size, auc = roc$auc))\n",
        "  sprintf('shift_size=%d, roc=%.3f', shift_size, roc$auc) %>% message()\n",
        "}\n"
      ],
      "metadata": {
        "colab": {
          "base_uri": "https://localhost:8080/"
        },
        "id": "gARBl0i9QxXJ",
        "outputId": "3396b13d-fc3e-4f04-f569-d7b9f90e2600"
      },
      "execution_count": null,
      "outputs": [
        {
          "output_type": "stream",
          "name": "stderr",
          "text": [
            "shift_size=10, roc=0.502\n",
            "\n",
            "shift_size=20, roc=0.510\n",
            "\n",
            "shift_size=30, roc=0.520\n",
            "\n",
            "shift_size=40, roc=0.529\n",
            "\n",
            "shift_size=50, roc=0.536\n",
            "\n",
            "shift_size=60, roc=0.541\n",
            "\n",
            "shift_size=70, roc=0.544\n",
            "\n",
            "shift_size=80, roc=0.547\n",
            "\n",
            "shift_size=90, roc=0.549\n",
            "\n",
            "shift_size=100, roc=0.549\n",
            "\n"
          ]
        }
      ]
    },
    {
      "cell_type": "code",
      "source": [
        "options(repr.plot.width = 6, repr.plot.height = 5)\n",
        "rbind(\n",
        "  cbind(res_seatac, method = 'seatac'),\n",
        "  cbind(res_macs2, method = 'macs2'),\n",
        "  cbind(res_nucleoatac, method = 'nucleoatac')\n",
        ") %>%\n",
        "  filter(shift_size == 50) %>%\n",
        "  ggplot(aes(y = sensitivity, x = 1 - specificity, color = method)) +\n",
        "    geom_line(linewidth = 1.5) +\n",
        "    geom_abline(intercept = 0, slope = 1, linetype = 'dashed') + \n",
        "    scale_color_manual(values= c(macs2 = 'lightcoral', nucleoatac = 'purple', seatac = 'cyan3')) +\n",
        "    scale_fill_manual(values= c(macs2 = 'lightcoral', nucleoatac = 'purple', seatac = 'cyan3'))"
      ],
      "metadata": {
        "colab": {
          "base_uri": "https://localhost:8080/",
          "height": 317
        },
        "id": "IvLYcs6fogbs",
        "outputId": "446158f5-4f2a-46e0-ad1d-3a0c974e74c0"
      },
      "execution_count": null,
      "outputs": [
        {
          "output_type": "display_data",
          "data": {
            "text/plain": [
              "plot without title"
            ],
            "image/png": "[encoded data removed]"
          },
          "metadata": {
            "image/png": {
              "width": 360,
              "height": 300
            }
          }
        }
      ]
    },
    {
      "cell_type": "markdown",
      "source": [
        "## Shift size vs. AUC"
      ],
      "metadata": {
        "id": "q_2RLZKSd-P8"
      }
    },
    {
      "cell_type": "code",
      "source": [
        "options(repr.plot.width = 6, repr.plot.height = 5)\n",
        "rbind(\n",
        "  cbind(auc_seatac, method = 'seatac'),\n",
        "  cbind(auc_macs2, method = 'macs2'),\n",
        "  cbind(auc_nucleoatac, method = 'nucleoatac')\n",
        ") %>%\n",
        "  ggplot(aes(x = shift_size, y = auc, color = method)) +\n",
        "    geom_line(linewidth = 1.5) +\n",
        "    scale_color_manual(values= c(macs2 = 'lightcoral', nucleoatac = 'purple', seatac = 'cyan3')) +\n",
        "    scale_fill_manual(values= c(macs2 = 'lightcoral', nucleoatac = 'purple', seatac = 'cyan3')) +\n",
        "    scale_x_continuous(breaks = seq(10, 100, by = 10))"
      ],
      "metadata": {
        "colab": {
          "base_uri": "https://localhost:8080/",
          "height": 317
        },
        "id": "UIAa_Wv5oP2V",
        "outputId": "bb72dbb2-9d39-42af-be7a-12d432f6b628"
      },
      "execution_count": null,
      "outputs": [
        {
          "output_type": "display_data",
          "data": {
            "text/plain": [
              "plot without title"
            ],
            "image/png": "[encoded data removed]"
          },
          "metadata": {
            "image/png": {
              "width": 360,
              "height": 300
            }
          }
        }
      ]
    },
    {
      "cell_type": "markdown",
      "source": [
        "## SessionInfo"
      ],
      "metadata": {
        "id": "TRUcghfUpo3a"
      }
    },
    {
      "cell_type": "code",
      "source": [
        "sessionInfo()"
      ],
      "metadata": {
        "id": "xID7mUnopoIS",
        "colab": {
          "base_uri": "https://localhost:8080/",
          "height": 1000
        },
        "outputId": "8a1122f2-917b-4be7-f223-f52fae14ee12"
      },
      "execution_count": null,
      "outputs": [
        {
          "output_type": "display_data",
          "data": {
            "text/plain": [
              "R version 4.2.1 (2022-06-23)\n",
              "Platform: x86_64-conda-linux-gnu (64-bit)\n",
              "Running under: CentOS Linux 7 (Core)\n",
              "\n",
              "Matrix products: default\n",
              "BLAS/LAPACK: /panfs/jay/groups/18/garrydj/gongx030/.conda/envs/r421_py37_tf26/lib/libopenblasp-r0.3.21.so\n",
              "\n",
              "locale:\n",
              " [1] LC_CTYPE=en_US.UTF-8       LC_NUMERIC=C              \n",
              " [3] LC_TIME=en_US.UTF-8        LC_COLLATE=en_US.UTF-8    \n",
              " [5] LC_MONETARY=en_US.UTF-8    LC_MESSAGES=en_US.UTF-8   \n",
              " [7] LC_PAPER=en_US.UTF-8       LC_NAME=C                 \n",
              " [9] LC_ADDRESS=C               LC_TELEPHONE=C            \n",
              "[11] LC_MEASUREMENT=en_US.UTF-8 LC_IDENTIFICATION=C       \n",
              "\n",
              "attached base packages:\n",
              "[1] stats4    stats     graphics  grDevices utils     datasets  methods  \n",
              "[8] base     \n",
              "\n",
              "other attached packages:\n",
              " [1] bpt_0.1.005                       seatac_0.4.2-002                 \n",
              " [3] SummarizedExperiment_1.26.1       Biobase_2.56.0                   \n",
              " [5] MatrixGenerics_1.8.1              matrixStats_0.63.0               \n",
              " [7] tfdatasets_2.9.0                  tfprobability_0.15.1             \n",
              " [9] tensorflow_2.11.0                 BSgenome.Hsapiens.UCSC.hg19_1.4.3\n",
              "[11] BSgenome_1.64.0                   rtracklayer_1.56.1               \n",
              "[13] Biostrings_2.64.1                 XVector_0.36.0                   \n",
              "[15] GenomicRanges_1.48.0              GenomeInfoDb_1.32.4              \n",
              "[17] IRanges_2.30.1                    S4Vectors_0.34.0                 \n",
              "[19] BiocGenerics_0.42.0               pROC_1.18.0                      \n",
              "[21] stringr_1.5.0                     tidyr_1.2.1                      \n",
              "[23] dplyr_1.0.10                      Matrix_1.5-3                     \n",
              "[25] devtools_2.4.5                    usethis_2.1.6                    \n",
              "[27] BiocManager_1.30.18              \n",
              "\n",
              "loaded via a namespace (and not attached):\n",
              "  [1] colorspace_2.0-3         rjson_0.2.21             ellipsis_0.3.2          \n",
              "  [4] rprojroot_2.0.3          IRdisplay_1.1            base64enc_0.1-3         \n",
              "  [7] fs_1.5.2                 rstudioapi_0.14          farver_2.1.1            \n",
              " [10] remotes_2.4.2            fansi_1.0.3              codetools_0.2-18        \n",
              " [13] cachem_1.0.6             pkgload_1.3.2            zeallot_0.1.0           \n",
              " [16] IRkernel_1.3             jsonlite_1.8.4           Rsamtools_2.12.0        \n",
              " [19] png_0.1-8                tfruns_1.5.1             shiny_1.7.4             \n",
              " [22] compiler_4.2.1           backports_1.4.1          assertthat_0.2.1        \n",
              " [25] fastmap_1.1.0            cli_3.5.0                later_1.3.0             \n",
              " [28] htmltools_0.5.4          prettyunits_1.1.1        tools_4.2.1             \n",
              " [31] gtable_0.3.1             glue_1.6.2               GenomeInfoDbData_1.2.8  \n",
              " [34] rappdirs_0.3.3           tfautograph_0.3.2        Rcpp_1.0.9              \n",
              " [37] vctrs_0.5.1              brio_1.1.3               ps_1.7.2                \n",
              " [40] testthat_3.1.6           mime_0.12                miniUI_0.1.1.1          \n",
              " [43] lifecycle_1.0.3          restfulr_0.0.15          gtools_3.9.3            \n",
              " [46] XML_3.99-0.11            zlibbioc_1.42.0          scales_1.2.1            \n",
              " [49] promises_1.2.0.1         parallel_4.2.1           yaml_2.3.6              \n",
              " [52] memoise_2.0.1            reticulate_1.26          ggplot2_3.4.0           \n",
              " [55] keras_2.11.0             stringi_1.7.8            BiocIO_1.6.0            \n",
              " [58] desc_1.4.2               caTools_1.18.2           pkgbuild_1.4.0          \n",
              " [61] BiocParallel_1.30.4      repr_1.1.4               rlang_1.0.6             \n",
              " [64] pkgconfig_2.0.3          bitops_1.0-7             evaluate_0.19           \n",
              " [67] lattice_0.20-45          purrr_1.0.0              labeling_0.4.2          \n",
              " [70] GenomicAlignments_1.32.1 htmlwidgets_1.6.0        processx_3.8.0          \n",
              " [73] tidyselect_1.2.0         here_1.0.1               plyr_1.8.7              \n",
              " [76] magrittr_2.0.3           R6_2.5.1                 gplots_3.1.3            \n",
              " [79] generics_0.1.3           profvis_0.3.7            pbdZMQ_0.3-7            \n",
              " [82] DelayedArray_0.22.0      DBI_1.1.3                pillar_1.8.1            \n",
              " [85] whisker_0.4.1            withr_2.5.0              abind_1.4-5             \n",
              " [88] RCurl_1.98-1.9           tibble_3.1.8             crayon_1.5.2            \n",
              " [91] uuid_1.1-0               KernSmooth_2.23-20       utf8_1.2.2              \n",
              " [94] urlchecker_1.0.1         grid_4.2.1               callr_3.7.3             \n",
              " [97] digest_0.6.31            xtable_1.8-4             httpuv_1.6.7            \n",
              "[100] munsell_0.5.0            sessioninfo_1.2.2       "
            ]
          },
          "metadata": {}
        }
      ]
    }
  ]
}