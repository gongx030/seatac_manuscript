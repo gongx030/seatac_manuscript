{
  "nbformat": 4,
  "nbformat_minor": 0,
  "metadata": {
    "kernelspec": {
      "display_name": "R",
      "language": "R",
      "name": "ir"
    },
    "language_info": {
      "codemirror_mode": "r",
      "file_extension": ".r",
      "mimetype": "text/x-r-source",
      "name": "R",
      "pygments_lexer": "r",
      "version": "3.3.1"
    },
    "colab": {
      "name": "Ascl1_MEF_Seatac_Supplementary_v1.ipynb",
      "provenance": [],
      "collapsed_sections": [],
      "machine_shape": "hm",
      "background_execution": "on",
      "toc_visible": true,
      "include_colab_link": true
    },
    "accelerator": "GPU"
  },
  "cells": [
    {
      "cell_type": "markdown",
      "metadata": {
        "id": "view-in-github",
        "colab_type": "text"
      },
      "source": [
        "<a href=\"https://colab.research.google.com/github/gongx030/seatac_manuscript/blob/main/Ascl1_MEF_Seatac_Supplementary_v1.ipynb\" target=\"_parent\"><img src=\"https://colab.research.google.com/assets/colab-badge.svg\" alt=\"Open In Colab\"/></a>"
      ]
    },
    {
      "cell_type": "markdown",
      "metadata": {
        "id": "4TLq2MbDD3zq"
      },
      "source": [
        "# Examining nucleosomal changes of Ascl1 motifs in Ascl1 induced reprogramming\n"
      ]
    },
    {
      "cell_type": "code",
      "metadata": {
        "id": "6OhqEEeZHroa"
      },
      "source": [
        "start_time <- Sys.time()"
      ],
      "execution_count": null,
      "outputs": []
    },
    {
      "cell_type": "markdown",
      "metadata": {
        "id": "obcf6pAcw6TQ"
      },
      "source": [
        "### Install external packages"
      ]
    },
    {
      "cell_type": "code",
      "metadata": {
        "id": "99vS8MZUxApi",
        "colab": {
          "base_uri": "https://localhost:8080/",
          "height": 86
        },
        "outputId": "86a796c4-07b6-4bdb-a842-c7107260e9cc"
      },
      "source": [
        "system('apt-get -q install libgsl-dev', intern = TRUE)"
      ],
      "execution_count": null,
      "outputs": [
        {
          "output_type": "display_data",
          "data": {
            "text/html": [
              "<style>\n",
              ".list-inline {list-style: none; margin:0; padding: 0}\n",
              ".list-inline>li {display: inline-block}\n",
              ".list-inline>li:not(:last-child)::after {content: \"\\00b7\"; padding: 0 .5ex}\n",
              "</style>\n",
              "<ol class=list-inline><li>'Reading package lists...'</li><li>'Building dependency tree...'</li><li>'Reading state information...'</li><li>'libgsl-dev is already the newest version (2.4+dfsg-6).'</li><li>'The following packages were automatically installed and are no longer required:'</li><li><span style=white-space:pre-wrap>'  gir1.2-freedesktop gir1.2-gdkpixbuf-2.0 gir1.2-rsvg-2.0 imagemagick-6-common'</span></li><li><span style=white-space:pre-wrap>'  libdjvulibre-dev libdjvulibre-text libdjvulibre21 libgdk-pixbuf2.0-dev'</span></li><li><span style=white-space:pre-wrap>'  liblqr-1-0 liblqr-1-0-dev libmagick++-6-headers libmagick++-6.q16-7'</span></li><li><span style=white-space:pre-wrap>'  libmagick++-6.q16-dev libmagickcore-6-arch-config libmagickcore-6-headers'</span></li><li><span style=white-space:pre-wrap>'  libmagickcore-6.q16-3 libmagickcore-6.q16-3-extra libmagickcore-6.q16-dev'</span></li><li><span style=white-space:pre-wrap>'  libmagickwand-6-headers libmagickwand-6.q16-3 libmagickwand-6.q16-dev'</span></li><li><span style=white-space:pre-wrap>'  librsvg2-dev'</span></li><li>'Use \\'apt autoremove\\' to remove them.'</li><li>'0 upgraded, 0 newly installed, 0 to remove and 39 not upgraded.'</li></ol>\n"
            ],
            "text/markdown": "1. 'Reading package lists...'\n2. 'Building dependency tree...'\n3. 'Reading state information...'\n4. 'libgsl-dev is already the newest version (2.4+dfsg-6).'\n5. 'The following packages were automatically installed and are no longer required:'\n6. <span style=white-space:pre-wrap>'  gir1.2-freedesktop gir1.2-gdkpixbuf-2.0 gir1.2-rsvg-2.0 imagemagick-6-common'</span>\n7. <span style=white-space:pre-wrap>'  libdjvulibre-dev libdjvulibre-text libdjvulibre21 libgdk-pixbuf2.0-dev'</span>\n8. <span style=white-space:pre-wrap>'  liblqr-1-0 liblqr-1-0-dev libmagick++-6-headers libmagick++-6.q16-7'</span>\n9. <span style=white-space:pre-wrap>'  libmagick++-6.q16-dev libmagickcore-6-arch-config libmagickcore-6-headers'</span>\n10. <span style=white-space:pre-wrap>'  libmagickcore-6.q16-3 libmagickcore-6.q16-3-extra libmagickcore-6.q16-dev'</span>\n11. <span style=white-space:pre-wrap>'  libmagickwand-6-headers libmagickwand-6.q16-3 libmagickwand-6.q16-dev'</span>\n12. <span style=white-space:pre-wrap>'  librsvg2-dev'</span>\n13. 'Use \\'apt autoremove\\' to remove them.'\n14. '0 upgraded, 0 newly installed, 0 to remove and 39 not upgraded.'\n\n\n",
            "text/latex": "\\begin{enumerate*}\n\\item 'Reading package lists...'\n\\item 'Building dependency tree...'\n\\item 'Reading state information...'\n\\item 'libgsl-dev is already the newest version (2.4+dfsg-6).'\n\\item 'The following packages were automatically installed and are no longer required:'\n\\item '  gir1.2-freedesktop gir1.2-gdkpixbuf-2.0 gir1.2-rsvg-2.0 imagemagick-6-common'\n\\item '  libdjvulibre-dev libdjvulibre-text libdjvulibre21 libgdk-pixbuf2.0-dev'\n\\item '  liblqr-1-0 liblqr-1-0-dev libmagick++-6-headers libmagick++-6.q16-7'\n\\item '  libmagick++-6.q16-dev libmagickcore-6-arch-config libmagickcore-6-headers'\n\\item '  libmagickcore-6.q16-3 libmagickcore-6.q16-3-extra libmagickcore-6.q16-dev'\n\\item '  libmagickwand-6-headers libmagickwand-6.q16-3 libmagickwand-6.q16-dev'\n\\item '  librsvg2-dev'\n\\item 'Use \\textbackslash{}'apt autoremove\\textbackslash{}' to remove them.'\n\\item '0 upgraded, 0 newly installed, 0 to remove and 39 not upgraded.'\n\\end{enumerate*}\n",
            "text/plain": [
              " [1] \"Reading package lists...\"                                                       \n",
              " [2] \"Building dependency tree...\"                                                    \n",
              " [3] \"Reading state information...\"                                                   \n",
              " [4] \"libgsl-dev is already the newest version (2.4+dfsg-6).\"                         \n",
              " [5] \"The following packages were automatically installed and are no longer required:\"\n",
              " [6] \"  gir1.2-freedesktop gir1.2-gdkpixbuf-2.0 gir1.2-rsvg-2.0 imagemagick-6-common\" \n",
              " [7] \"  libdjvulibre-dev libdjvulibre-text libdjvulibre21 libgdk-pixbuf2.0-dev\"       \n",
              " [8] \"  liblqr-1-0 liblqr-1-0-dev libmagick++-6-headers libmagick++-6.q16-7\"          \n",
              " [9] \"  libmagick++-6.q16-dev libmagickcore-6-arch-config libmagickcore-6-headers\"    \n",
              "[10] \"  libmagickcore-6.q16-3 libmagickcore-6.q16-3-extra libmagickcore-6.q16-dev\"    \n",
              "[11] \"  libmagickwand-6-headers libmagickwand-6.q16-3 libmagickwand-6.q16-dev\"        \n",
              "[12] \"  librsvg2-dev\"                                                                 \n",
              "[13] \"Use 'apt autoremove' to remove them.\"                                           \n",
              "[14] \"0 upgraded, 0 newly installed, 0 to remove and 39 not upgraded.\"                "
            ]
          },
          "metadata": {}
        }
      ]
    },
    {
      "cell_type": "code",
      "metadata": {
        "colab": {
          "base_uri": "https://localhost:8080/",
          "height": 86
        },
        "id": "nGBlrxdZEtzm",
        "outputId": "63232e40-daa6-4c42-d68d-e22284a838a1"
      },
      "source": [
        "system('apt-get install libcairo2-dev', intern = TRUE) # required by R package ComplexHeatmap "
      ],
      "execution_count": null,
      "outputs": [
        {
          "output_type": "display_data",
          "data": {
            "text/html": [
              "<style>\n",
              ".list-inline {list-style: none; margin:0; padding: 0}\n",
              ".list-inline>li {display: inline-block}\n",
              ".list-inline>li:not(:last-child)::after {content: \"\\00b7\"; padding: 0 .5ex}\n",
              "</style>\n",
              "<ol class=list-inline><li>'Reading package lists...'</li><li>'Building dependency tree...'</li><li>'Reading state information...'</li><li>'libcairo2-dev is already the newest version (1.15.10-2ubuntu0.1).'</li><li>'The following packages were automatically installed and are no longer required:'</li><li><span style=white-space:pre-wrap>'  gir1.2-freedesktop gir1.2-gdkpixbuf-2.0 gir1.2-rsvg-2.0 imagemagick-6-common'</span></li><li><span style=white-space:pre-wrap>'  libdjvulibre-dev libdjvulibre-text libdjvulibre21 libgdk-pixbuf2.0-dev'</span></li><li><span style=white-space:pre-wrap>'  liblqr-1-0 liblqr-1-0-dev libmagick++-6-headers libmagick++-6.q16-7'</span></li><li><span style=white-space:pre-wrap>'  libmagick++-6.q16-dev libmagickcore-6-arch-config libmagickcore-6-headers'</span></li><li><span style=white-space:pre-wrap>'  libmagickcore-6.q16-3 libmagickcore-6.q16-3-extra libmagickcore-6.q16-dev'</span></li><li><span style=white-space:pre-wrap>'  libmagickwand-6-headers libmagickwand-6.q16-3 libmagickwand-6.q16-dev'</span></li><li><span style=white-space:pre-wrap>'  librsvg2-dev'</span></li><li>'Use \\'apt autoremove\\' to remove them.'</li><li>'0 upgraded, 0 newly installed, 0 to remove and 39 not upgraded.'</li></ol>\n"
            ],
            "text/markdown": "1. 'Reading package lists...'\n2. 'Building dependency tree...'\n3. 'Reading state information...'\n4. 'libcairo2-dev is already the newest version (1.15.10-2ubuntu0.1).'\n5. 'The following packages were automatically installed and are no longer required:'\n6. <span style=white-space:pre-wrap>'  gir1.2-freedesktop gir1.2-gdkpixbuf-2.0 gir1.2-rsvg-2.0 imagemagick-6-common'</span>\n7. <span style=white-space:pre-wrap>'  libdjvulibre-dev libdjvulibre-text libdjvulibre21 libgdk-pixbuf2.0-dev'</span>\n8. <span style=white-space:pre-wrap>'  liblqr-1-0 liblqr-1-0-dev libmagick++-6-headers libmagick++-6.q16-7'</span>\n9. <span style=white-space:pre-wrap>'  libmagick++-6.q16-dev libmagickcore-6-arch-config libmagickcore-6-headers'</span>\n10. <span style=white-space:pre-wrap>'  libmagickcore-6.q16-3 libmagickcore-6.q16-3-extra libmagickcore-6.q16-dev'</span>\n11. <span style=white-space:pre-wrap>'  libmagickwand-6-headers libmagickwand-6.q16-3 libmagickwand-6.q16-dev'</span>\n12. <span style=white-space:pre-wrap>'  librsvg2-dev'</span>\n13. 'Use \\'apt autoremove\\' to remove them.'\n14. '0 upgraded, 0 newly installed, 0 to remove and 39 not upgraded.'\n\n\n",
            "text/latex": "\\begin{enumerate*}\n\\item 'Reading package lists...'\n\\item 'Building dependency tree...'\n\\item 'Reading state information...'\n\\item 'libcairo2-dev is already the newest version (1.15.10-2ubuntu0.1).'\n\\item 'The following packages were automatically installed and are no longer required:'\n\\item '  gir1.2-freedesktop gir1.2-gdkpixbuf-2.0 gir1.2-rsvg-2.0 imagemagick-6-common'\n\\item '  libdjvulibre-dev libdjvulibre-text libdjvulibre21 libgdk-pixbuf2.0-dev'\n\\item '  liblqr-1-0 liblqr-1-0-dev libmagick++-6-headers libmagick++-6.q16-7'\n\\item '  libmagick++-6.q16-dev libmagickcore-6-arch-config libmagickcore-6-headers'\n\\item '  libmagickcore-6.q16-3 libmagickcore-6.q16-3-extra libmagickcore-6.q16-dev'\n\\item '  libmagickwand-6-headers libmagickwand-6.q16-3 libmagickwand-6.q16-dev'\n\\item '  librsvg2-dev'\n\\item 'Use \\textbackslash{}'apt autoremove\\textbackslash{}' to remove them.'\n\\item '0 upgraded, 0 newly installed, 0 to remove and 39 not upgraded.'\n\\end{enumerate*}\n",
            "text/plain": [
              " [1] \"Reading package lists...\"                                                       \n",
              " [2] \"Building dependency tree...\"                                                    \n",
              " [3] \"Reading state information...\"                                                   \n",
              " [4] \"libcairo2-dev is already the newest version (1.15.10-2ubuntu0.1).\"              \n",
              " [5] \"The following packages were automatically installed and are no longer required:\"\n",
              " [6] \"  gir1.2-freedesktop gir1.2-gdkpixbuf-2.0 gir1.2-rsvg-2.0 imagemagick-6-common\" \n",
              " [7] \"  libdjvulibre-dev libdjvulibre-text libdjvulibre21 libgdk-pixbuf2.0-dev\"       \n",
              " [8] \"  liblqr-1-0 liblqr-1-0-dev libmagick++-6-headers libmagick++-6.q16-7\"          \n",
              " [9] \"  libmagick++-6.q16-dev libmagickcore-6-arch-config libmagickcore-6-headers\"    \n",
              "[10] \"  libmagickcore-6.q16-3 libmagickcore-6.q16-3-extra libmagickcore-6.q16-dev\"    \n",
              "[11] \"  libmagickwand-6-headers libmagickwand-6.q16-3 libmagickwand-6.q16-dev\"        \n",
              "[12] \"  librsvg2-dev\"                                                                 \n",
              "[13] \"Use 'apt autoremove' to remove them.\"                                           \n",
              "[14] \"0 upgraded, 0 newly installed, 0 to remove and 39 not upgraded.\"                "
            ]
          },
          "metadata": {}
        }
      ]
    },
    {
      "cell_type": "code",
      "metadata": {
        "colab": {
          "base_uri": "https://localhost:8080/",
          "height": 486
        },
        "id": "M8y3LN7MTfKs",
        "outputId": "c1db8524-ec54-46c3-fc37-719b36618c90"
      },
      "source": [
        "system('apt-get install libmagick++-dev', intern = TRUE) # required by magick\n",
        "system('apt-get install libmagick-dev', intern = TRUE) # for magick"
      ],
      "execution_count": null,
      "outputs": [
        {
          "output_type": "display_data",
          "data": {
            "text/html": [
              "<style>\n",
              ".list-inline {list-style: none; margin:0; padding: 0}\n",
              ".list-inline>li {display: inline-block}\n",
              ".list-inline>li:not(:last-child)::after {content: \"\\00b7\"; padding: 0 .5ex}\n",
              "</style>\n",
              "<ol class=list-inline><li>'Reading package lists...'</li><li>'Building dependency tree...'</li><li>'Reading state information...'</li><li>'The following packages were automatically installed and are no longer required:'</li><li><span style=white-space:pre-wrap>'  libgraphics-magick-perl libgraphicsmagick++-q16-12 libgraphicsmagick++1-dev'</span></li><li><span style=white-space:pre-wrap>'  libgraphicsmagick-q16-3 libgraphicsmagick1-dev'</span></li><li>'Use \\'apt autoremove\\' to remove them.'</li><li>'The following packages will be REMOVED:'</li><li><span style=white-space:pre-wrap>'  graphicsmagick-libmagick-dev-compat'</span></li><li>'The following NEW packages will be installed:'</li><li><span style=white-space:pre-wrap>'  libmagick++-dev'</span></li><li>'0 upgraded, 1 newly installed, 1 to remove and 39 not upgraded.'</li><li>'Need to get 1,408 B of archives.'</li><li>'After this operation, 57.3 kB disk space will be freed.'</li><li>'Get:1 http://archive.ubuntu.com/ubuntu bionic-updates/main amd64 libmagick++-dev all 8:6.9.7.4+dfsg-16ubuntu6.12 [1,408 B]'</li><li>'Fetched 1,408 B in 0s (7,412 B/s)'</li><li>'(Reading database ... \\r(Reading database ... 5%\\r(Reading database ... 10%\\r(Reading database ... 15%\\r(Reading database ... 20%\\r(Reading database ... 25%\\r(Reading database ... 30%\\r(Reading database ... 35%\\r(Reading database ... 40%\\r(Reading database ... 45%\\r(Reading database ... 50%\\r(Reading database ... 55%\\r(Reading database ... 60%\\r(Reading database ... 65%\\r(Reading database ... 70%\\r(Reading database ... 75%\\r(Reading database ... 80%\\r(Reading database ... 85%\\r(Reading database ... 90%\\r(Reading database ... 95%\\r(Reading database ... 100%\\r(Reading database ... 158684 files and directories currently installed.)\\r'</li><li>'Removing graphicsmagick-libmagick-dev-compat (1.3.28-2ubuntu0.1) ...\\r'</li><li>'Selecting previously unselected package libmagick++-dev.\\r'</li><li>'(Reading database ... \\r(Reading database ... 5%\\r(Reading database ... 10%\\r(Reading database ... 15%\\r(Reading database ... 20%\\r(Reading database ... 25%\\r(Reading database ... 30%\\r(Reading database ... 35%\\r(Reading database ... 40%\\r(Reading database ... 45%\\r(Reading database ... 50%\\r(Reading database ... 55%\\r(Reading database ... 60%\\r(Reading database ... 65%\\r(Reading database ... 70%\\r(Reading database ... 75%\\r(Reading database ... 80%\\r(Reading database ... 85%\\r(Reading database ... 90%\\r(Reading database ... 95%\\r(Reading database ... 100%\\r(Reading database ... 158663 files and directories currently installed.)\\r'</li><li>'Preparing to unpack .../libmagick++-dev_8%3a6.9.7.4+dfsg-16ubuntu6.12_all.deb ...\\r'</li><li>'Unpacking libmagick++-dev (8:6.9.7.4+dfsg-16ubuntu6.12) ...\\r'</li><li>'Setting up libmagick++-dev (8:6.9.7.4+dfsg-16ubuntu6.12) ...\\r'</li><li>'Processing triggers for man-db (2.8.3-2ubuntu0.1) ...\\r'</li></ol>\n"
            ],
            "text/markdown": "1. 'Reading package lists...'\n2. 'Building dependency tree...'\n3. 'Reading state information...'\n4. 'The following packages were automatically installed and are no longer required:'\n5. <span style=white-space:pre-wrap>'  libgraphics-magick-perl libgraphicsmagick++-q16-12 libgraphicsmagick++1-dev'</span>\n6. <span style=white-space:pre-wrap>'  libgraphicsmagick-q16-3 libgraphicsmagick1-dev'</span>\n7. 'Use \\'apt autoremove\\' to remove them.'\n8. 'The following packages will be REMOVED:'\n9. <span style=white-space:pre-wrap>'  graphicsmagick-libmagick-dev-compat'</span>\n10. 'The following NEW packages will be installed:'\n11. <span style=white-space:pre-wrap>'  libmagick++-dev'</span>\n12. '0 upgraded, 1 newly installed, 1 to remove and 39 not upgraded.'\n13. 'Need to get 1,408 B of archives.'\n14. 'After this operation, 57.3 kB disk space will be freed.'\n15. 'Get:1 http://archive.ubuntu.com/ubuntu bionic-updates/main amd64 libmagick++-dev all 8:6.9.7.4+dfsg-16ubuntu6.12 [1,408 B]'\n16. 'Fetched 1,408 B in 0s (7,412 B/s)'\n17. '(Reading database ... \\r(Reading database ... 5%\\r(Reading database ... 10%\\r(Reading database ... 15%\\r(Reading database ... 20%\\r(Reading database ... 25%\\r(Reading database ... 30%\\r(Reading database ... 35%\\r(Reading database ... 40%\\r(Reading database ... 45%\\r(Reading database ... 50%\\r(Reading database ... 55%\\r(Reading database ... 60%\\r(Reading database ... 65%\\r(Reading database ... 70%\\r(Reading database ... 75%\\r(Reading database ... 80%\\r(Reading database ... 85%\\r(Reading database ... 90%\\r(Reading database ... 95%\\r(Reading database ... 100%\\r(Reading database ... 158684 files and directories currently installed.)\\r'\n18. 'Removing graphicsmagick-libmagick-dev-compat (1.3.28-2ubuntu0.1) ...\\r'\n19. 'Selecting previously unselected package libmagick++-dev.\\r'\n20. '(Reading database ... \\r(Reading database ... 5%\\r(Reading database ... 10%\\r(Reading database ... 15%\\r(Reading database ... 20%\\r(Reading database ... 25%\\r(Reading database ... 30%\\r(Reading database ... 35%\\r(Reading database ... 40%\\r(Reading database ... 45%\\r(Reading database ... 50%\\r(Reading database ... 55%\\r(Reading database ... 60%\\r(Reading database ... 65%\\r(Reading database ... 70%\\r(Reading database ... 75%\\r(Reading database ... 80%\\r(Reading database ... 85%\\r(Reading database ... 90%\\r(Reading database ... 95%\\r(Reading database ... 100%\\r(Reading database ... 158663 files and directories currently installed.)\\r'\n21. 'Preparing to unpack .../libmagick++-dev_8%3a6.9.7.4+dfsg-16ubuntu6.12_all.deb ...\\r'\n22. 'Unpacking libmagick++-dev (8:6.9.7.4+dfsg-16ubuntu6.12) ...\\r'\n23. 'Setting up libmagick++-dev (8:6.9.7.4+dfsg-16ubuntu6.12) ...\\r'\n24. 'Processing triggers for man-db (2.8.3-2ubuntu0.1) ...\\r'\n\n\n",
            "text/latex": "\\begin{enumerate*}\n\\item 'Reading package lists...'\n\\item 'Building dependency tree...'\n\\item 'Reading state information...'\n\\item 'The following packages were automatically installed and are no longer required:'\n\\item '  libgraphics-magick-perl libgraphicsmagick++-q16-12 libgraphicsmagick++1-dev'\n\\item '  libgraphicsmagick-q16-3 libgraphicsmagick1-dev'\n\\item 'Use \\textbackslash{}'apt autoremove\\textbackslash{}' to remove them.'\n\\item 'The following packages will be REMOVED:'\n\\item '  graphicsmagick-libmagick-dev-compat'\n\\item 'The following NEW packages will be installed:'\n\\item '  libmagick++-dev'\n\\item '0 upgraded, 1 newly installed, 1 to remove and 39 not upgraded.'\n\\item 'Need to get 1,408 B of archives.'\n\\item 'After this operation, 57.3 kB disk space will be freed.'\n\\item 'Get:1 http://archive.ubuntu.com/ubuntu bionic-updates/main amd64 libmagick++-dev all 8:6.9.7.4+dfsg-16ubuntu6.12 {[}1,408 B{]}'\n\\item 'Fetched 1,408 B in 0s (7,412 B/s)'\n\\item '(Reading database ... \\textbackslash{}r(Reading database ... 5\\%\\textbackslash{}r(Reading database ... 10\\%\\textbackslash{}r(Reading database ... 15\\%\\textbackslash{}r(Reading database ... 20\\%\\textbackslash{}r(Reading database ... 25\\%\\textbackslash{}r(Reading database ... 30\\%\\textbackslash{}r(Reading database ... 35\\%\\textbackslash{}r(Reading database ... 40\\%\\textbackslash{}r(Reading database ... 45\\%\\textbackslash{}r(Reading database ... 50\\%\\textbackslash{}r(Reading database ... 55\\%\\textbackslash{}r(Reading database ... 60\\%\\textbackslash{}r(Reading database ... 65\\%\\textbackslash{}r(Reading database ... 70\\%\\textbackslash{}r(Reading database ... 75\\%\\textbackslash{}r(Reading database ... 80\\%\\textbackslash{}r(Reading database ... 85\\%\\textbackslash{}r(Reading database ... 90\\%\\textbackslash{}r(Reading database ... 95\\%\\textbackslash{}r(Reading database ... 100\\%\\textbackslash{}r(Reading database ... 158684 files and directories currently installed.)\\textbackslash{}r'\n\\item 'Removing graphicsmagick-libmagick-dev-compat (1.3.28-2ubuntu0.1) ...\\textbackslash{}r'\n\\item 'Selecting previously unselected package libmagick++-dev.\\textbackslash{}r'\n\\item '(Reading database ... \\textbackslash{}r(Reading database ... 5\\%\\textbackslash{}r(Reading database ... 10\\%\\textbackslash{}r(Reading database ... 15\\%\\textbackslash{}r(Reading database ... 20\\%\\textbackslash{}r(Reading database ... 25\\%\\textbackslash{}r(Reading database ... 30\\%\\textbackslash{}r(Reading database ... 35\\%\\textbackslash{}r(Reading database ... 40\\%\\textbackslash{}r(Reading database ... 45\\%\\textbackslash{}r(Reading database ... 50\\%\\textbackslash{}r(Reading database ... 55\\%\\textbackslash{}r(Reading database ... 60\\%\\textbackslash{}r(Reading database ... 65\\%\\textbackslash{}r(Reading database ... 70\\%\\textbackslash{}r(Reading database ... 75\\%\\textbackslash{}r(Reading database ... 80\\%\\textbackslash{}r(Reading database ... 85\\%\\textbackslash{}r(Reading database ... 90\\%\\textbackslash{}r(Reading database ... 95\\%\\textbackslash{}r(Reading database ... 100\\%\\textbackslash{}r(Reading database ... 158663 files and directories currently installed.)\\textbackslash{}r'\n\\item 'Preparing to unpack .../libmagick++-dev\\_8\\%3a6.9.7.4+dfsg-16ubuntu6.12\\_all.deb ...\\textbackslash{}r'\n\\item 'Unpacking libmagick++-dev (8:6.9.7.4+dfsg-16ubuntu6.12) ...\\textbackslash{}r'\n\\item 'Setting up libmagick++-dev (8:6.9.7.4+dfsg-16ubuntu6.12) ...\\textbackslash{}r'\n\\item 'Processing triggers for man-db (2.8.3-2ubuntu0.1) ...\\textbackslash{}r'\n\\end{enumerate*}\n",
            "text/plain": [
              " [1] \"Reading package lists...\"                                                                                                                                                                                                                                                                                                                                                                                                                                                                                                                                                                                                                                      \n",
              " [2] \"Building dependency tree...\"                                                                                                                                                                                                                                                                                                                                                                                                                                                                                                                                                                                                                                   \n",
              " [3] \"Reading state information...\"                                                                                                                                                                                                                                                                                                                                                                                                                                                                                                                                                                                                                                  \n",
              " [4] \"The following packages were automatically installed and are no longer required:\"                                                                                                                                                                                                                                                                                                                                                                                                                                                                                                                                                                               \n",
              " [5] \"  libgraphics-magick-perl libgraphicsmagick++-q16-12 libgraphicsmagick++1-dev\"                                                                                                                                                                                                                                                                                                                                                                                                                                                                                                                                                                                 \n",
              " [6] \"  libgraphicsmagick-q16-3 libgraphicsmagick1-dev\"                                                                                                                                                                                                                                                                                                                                                                                                                                                                                                                                                                                                              \n",
              " [7] \"Use 'apt autoremove' to remove them.\"                                                                                                                                                                                                                                                                                                                                                                                                                                                                                                                                                                                                                          \n",
              " [8] \"The following packages will be REMOVED:\"                                                                                                                                                                                                                                                                                                                                                                                                                                                                                                                                                                                                                       \n",
              " [9] \"  graphicsmagick-libmagick-dev-compat\"                                                                                                                                                                                                                                                                                                                                                                                                                                                                                                                                                                                                                         \n",
              "[10] \"The following NEW packages will be installed:\"                                                                                                                                                                                                                                                                                                                                                                                                                                                                                                                                                                                                                 \n",
              "[11] \"  libmagick++-dev\"                                                                                                                                                                                                                                                                                                                                                                                                                                                                                                                                                                                                                                             \n",
              "[12] \"0 upgraded, 1 newly installed, 1 to remove and 39 not upgraded.\"                                                                                                                                                                                                                                                                                                                                                                                                                                                                                                                                                                                               \n",
              "[13] \"Need to get 1,408 B of archives.\"                                                                                                                                                                                                                                                                                                                                                                                                                                                                                                                                                                                                                              \n",
              "[14] \"After this operation, 57.3 kB disk space will be freed.\"                                                                                                                                                                                                                                                                                                                                                                                                                                                                                                                                                                                                       \n",
              "[15] \"Get:1 http://archive.ubuntu.com/ubuntu bionic-updates/main amd64 libmagick++-dev all 8:6.9.7.4+dfsg-16ubuntu6.12 [1,408 B]\"                                                                                                                                                                                                                                                                                                                                                                                                                                                                                                                                    \n",
              "[16] \"Fetched 1,408 B in 0s (7,412 B/s)\"                                                                                                                                                                                                                                                                                                                                                                                                                                                                                                                                                                                                                             \n",
              "[17] \"(Reading database ... \\r(Reading database ... 5%\\r(Reading database ... 10%\\r(Reading database ... 15%\\r(Reading database ... 20%\\r(Reading database ... 25%\\r(Reading database ... 30%\\r(Reading database ... 35%\\r(Reading database ... 40%\\r(Reading database ... 45%\\r(Reading database ... 50%\\r(Reading database ... 55%\\r(Reading database ... 60%\\r(Reading database ... 65%\\r(Reading database ... 70%\\r(Reading database ... 75%\\r(Reading database ... 80%\\r(Reading database ... 85%\\r(Reading database ... 90%\\r(Reading database ... 95%\\r(Reading database ... 100%\\r(Reading database ... 158684 files and directories currently installed.)\\r\"\n",
              "[18] \"Removing graphicsmagick-libmagick-dev-compat (1.3.28-2ubuntu0.1) ...\\r\"                                                                                                                                                                                                                                                                                                                                                                                                                                                                                                                                                                                        \n",
              "[19] \"Selecting previously unselected package libmagick++-dev.\\r\"                                                                                                                                                                                                                                                                                                                                                                                                                                                                                                                                                                                                    \n",
              "[20] \"(Reading database ... \\r(Reading database ... 5%\\r(Reading database ... 10%\\r(Reading database ... 15%\\r(Reading database ... 20%\\r(Reading database ... 25%\\r(Reading database ... 30%\\r(Reading database ... 35%\\r(Reading database ... 40%\\r(Reading database ... 45%\\r(Reading database ... 50%\\r(Reading database ... 55%\\r(Reading database ... 60%\\r(Reading database ... 65%\\r(Reading database ... 70%\\r(Reading database ... 75%\\r(Reading database ... 80%\\r(Reading database ... 85%\\r(Reading database ... 90%\\r(Reading database ... 95%\\r(Reading database ... 100%\\r(Reading database ... 158663 files and directories currently installed.)\\r\"\n",
              "[21] \"Preparing to unpack .../libmagick++-dev_8%3a6.9.7.4+dfsg-16ubuntu6.12_all.deb ...\\r\"                                                                                                                                                                                                                                                                                                                                                                                                                                                                                                                                                                           \n",
              "[22] \"Unpacking libmagick++-dev (8:6.9.7.4+dfsg-16ubuntu6.12) ...\\r\"                                                                                                                                                                                                                                                                                                                                                                                                                                                                                                                                                                                                 \n",
              "[23] \"Setting up libmagick++-dev (8:6.9.7.4+dfsg-16ubuntu6.12) ...\\r\"                                                                                                                                                                                                                                                                                                                                                                                                                                                                                                                                                                                                \n",
              "[24] \"Processing triggers for man-db (2.8.3-2ubuntu0.1) ...\\r\"                                                                                                                                                                                                                                                                                                                                                                                                                                                                                                                                                                                                       "
            ]
          },
          "metadata": {}
        },
        {
          "output_type": "display_data",
          "data": {
            "text/html": [
              "<style>\n",
              ".list-inline {list-style: none; margin:0; padding: 0}\n",
              ".list-inline>li {display: inline-block}\n",
              ".list-inline>li:not(:last-child)::after {content: \"\\00b7\"; padding: 0 .5ex}\n",
              "</style>\n",
              "<ol class=list-inline><li>'Reading package lists...'</li><li>'Building dependency tree...'</li><li>'Reading state information...'</li><li>'The following packages were automatically installed and are no longer required:'</li><li><span style=white-space:pre-wrap>'  gir1.2-freedesktop gir1.2-gdkpixbuf-2.0 gir1.2-rsvg-2.0 imagemagick-6-common'</span></li><li><span style=white-space:pre-wrap>'  libdjvulibre-dev libdjvulibre-text libdjvulibre21 libgdk-pixbuf2.0-dev'</span></li><li><span style=white-space:pre-wrap>'  liblqr-1-0 liblqr-1-0-dev libmagick++-6-headers libmagick++-6.q16-7'</span></li><li><span style=white-space:pre-wrap>'  libmagick++-6.q16-dev libmagickcore-6-arch-config libmagickcore-6-headers'</span></li><li><span style=white-space:pre-wrap>'  libmagickcore-6.q16-3 libmagickcore-6.q16-3-extra libmagickcore-6.q16-dev'</span></li><li><span style=white-space:pre-wrap>'  libmagickwand-6-headers libmagickwand-6.q16-3 libmagickwand-6.q16-dev'</span></li><li><span style=white-space:pre-wrap>'  librsvg2-dev'</span></li><li>'Use \\'apt autoremove\\' to remove them.'</li><li>'The following packages will be REMOVED:'</li><li><span style=white-space:pre-wrap>'  libmagick++-dev'</span></li><li>'The following NEW packages will be installed:'</li><li><span style=white-space:pre-wrap>'  graphicsmagick-libmagick-dev-compat'</span></li><li>'0 upgraded, 1 newly installed, 1 to remove and 39 not upgraded.'</li><li>'Need to get 9,304 B of archives.'</li><li>'After this operation, 57.3 kB of additional disk space will be used.'</li><li>'Get:1 http://archive.ubuntu.com/ubuntu bionic-updates/universe amd64 graphicsmagick-libmagick-dev-compat all 1.3.28-2ubuntu0.1 [9,304 B]'</li><li>'Fetched 9,304 B in 0s (53.9 kB/s)'</li><li>'(Reading database ... \\r(Reading database ... 5%\\r(Reading database ... 10%\\r(Reading database ... 15%\\r(Reading database ... 20%\\r(Reading database ... 25%\\r(Reading database ... 30%\\r(Reading database ... 35%\\r(Reading database ... 40%\\r(Reading database ... 45%\\r(Reading database ... 50%\\r(Reading database ... 55%\\r(Reading database ... 60%\\r(Reading database ... 65%\\r(Reading database ... 70%\\r(Reading database ... 75%\\r(Reading database ... 80%\\r(Reading database ... 85%\\r(Reading database ... 90%\\r(Reading database ... 95%\\r(Reading database ... 100%\\r(Reading database ... 158665 files and directories currently installed.)\\r'</li><li>'Removing libmagick++-dev (8:6.9.7.4+dfsg-16ubuntu6.12) ...\\r'</li><li>'Selecting previously unselected package graphicsmagick-libmagick-dev-compat.\\r'</li><li>'(Reading database ... \\r(Reading database ... 5%\\r(Reading database ... 10%\\r(Reading database ... 15%\\r(Reading database ... 20%\\r(Reading database ... 25%\\r(Reading database ... 30%\\r(Reading database ... 35%\\r(Reading database ... 40%\\r(Reading database ... 45%\\r(Reading database ... 50%\\r(Reading database ... 55%\\r(Reading database ... 60%\\r(Reading database ... 65%\\r(Reading database ... 70%\\r(Reading database ... 75%\\r(Reading database ... 80%\\r(Reading database ... 85%\\r(Reading database ... 90%\\r(Reading database ... 95%\\r(Reading database ... 100%\\r(Reading database ... 158663 files and directories currently installed.)\\r'</li><li>'Preparing to unpack .../graphicsmagick-libmagick-dev-compat_1.3.28-2ubuntu0.1_all.deb ...\\r'</li><li>'Unpacking graphicsmagick-libmagick-dev-compat (1.3.28-2ubuntu0.1) ...\\r'</li><li>'Setting up graphicsmagick-libmagick-dev-compat (1.3.28-2ubuntu0.1) ...\\r'</li><li>'Processing triggers for man-db (2.8.3-2ubuntu0.1) ...\\r'</li></ol>\n"
            ],
            "text/markdown": "1. 'Reading package lists...'\n2. 'Building dependency tree...'\n3. 'Reading state information...'\n4. 'The following packages were automatically installed and are no longer required:'\n5. <span style=white-space:pre-wrap>'  gir1.2-freedesktop gir1.2-gdkpixbuf-2.0 gir1.2-rsvg-2.0 imagemagick-6-common'</span>\n6. <span style=white-space:pre-wrap>'  libdjvulibre-dev libdjvulibre-text libdjvulibre21 libgdk-pixbuf2.0-dev'</span>\n7. <span style=white-space:pre-wrap>'  liblqr-1-0 liblqr-1-0-dev libmagick++-6-headers libmagick++-6.q16-7'</span>\n8. <span style=white-space:pre-wrap>'  libmagick++-6.q16-dev libmagickcore-6-arch-config libmagickcore-6-headers'</span>\n9. <span style=white-space:pre-wrap>'  libmagickcore-6.q16-3 libmagickcore-6.q16-3-extra libmagickcore-6.q16-dev'</span>\n10. <span style=white-space:pre-wrap>'  libmagickwand-6-headers libmagickwand-6.q16-3 libmagickwand-6.q16-dev'</span>\n11. <span style=white-space:pre-wrap>'  librsvg2-dev'</span>\n12. 'Use \\'apt autoremove\\' to remove them.'\n13. 'The following packages will be REMOVED:'\n14. <span style=white-space:pre-wrap>'  libmagick++-dev'</span>\n15. 'The following NEW packages will be installed:'\n16. <span style=white-space:pre-wrap>'  graphicsmagick-libmagick-dev-compat'</span>\n17. '0 upgraded, 1 newly installed, 1 to remove and 39 not upgraded.'\n18. 'Need to get 9,304 B of archives.'\n19. 'After this operation, 57.3 kB of additional disk space will be used.'\n20. 'Get:1 http://archive.ubuntu.com/ubuntu bionic-updates/universe amd64 graphicsmagick-libmagick-dev-compat all 1.3.28-2ubuntu0.1 [9,304 B]'\n21. 'Fetched 9,304 B in 0s (53.9 kB/s)'\n22. '(Reading database ... \\r(Reading database ... 5%\\r(Reading database ... 10%\\r(Reading database ... 15%\\r(Reading database ... 20%\\r(Reading database ... 25%\\r(Reading database ... 30%\\r(Reading database ... 35%\\r(Reading database ... 40%\\r(Reading database ... 45%\\r(Reading database ... 50%\\r(Reading database ... 55%\\r(Reading database ... 60%\\r(Reading database ... 65%\\r(Reading database ... 70%\\r(Reading database ... 75%\\r(Reading database ... 80%\\r(Reading database ... 85%\\r(Reading database ... 90%\\r(Reading database ... 95%\\r(Reading database ... 100%\\r(Reading database ... 158665 files and directories currently installed.)\\r'\n23. 'Removing libmagick++-dev (8:6.9.7.4+dfsg-16ubuntu6.12) ...\\r'\n24. 'Selecting previously unselected package graphicsmagick-libmagick-dev-compat.\\r'\n25. '(Reading database ... \\r(Reading database ... 5%\\r(Reading database ... 10%\\r(Reading database ... 15%\\r(Reading database ... 20%\\r(Reading database ... 25%\\r(Reading database ... 30%\\r(Reading database ... 35%\\r(Reading database ... 40%\\r(Reading database ... 45%\\r(Reading database ... 50%\\r(Reading database ... 55%\\r(Reading database ... 60%\\r(Reading database ... 65%\\r(Reading database ... 70%\\r(Reading database ... 75%\\r(Reading database ... 80%\\r(Reading database ... 85%\\r(Reading database ... 90%\\r(Reading database ... 95%\\r(Reading database ... 100%\\r(Reading database ... 158663 files and directories currently installed.)\\r'\n26. 'Preparing to unpack .../graphicsmagick-libmagick-dev-compat_1.3.28-2ubuntu0.1_all.deb ...\\r'\n27. 'Unpacking graphicsmagick-libmagick-dev-compat (1.3.28-2ubuntu0.1) ...\\r'\n28. 'Setting up graphicsmagick-libmagick-dev-compat (1.3.28-2ubuntu0.1) ...\\r'\n29. 'Processing triggers for man-db (2.8.3-2ubuntu0.1) ...\\r'\n\n\n",
            "text/latex": "\\begin{enumerate*}\n\\item 'Reading package lists...'\n\\item 'Building dependency tree...'\n\\item 'Reading state information...'\n\\item 'The following packages were automatically installed and are no longer required:'\n\\item '  gir1.2-freedesktop gir1.2-gdkpixbuf-2.0 gir1.2-rsvg-2.0 imagemagick-6-common'\n\\item '  libdjvulibre-dev libdjvulibre-text libdjvulibre21 libgdk-pixbuf2.0-dev'\n\\item '  liblqr-1-0 liblqr-1-0-dev libmagick++-6-headers libmagick++-6.q16-7'\n\\item '  libmagick++-6.q16-dev libmagickcore-6-arch-config libmagickcore-6-headers'\n\\item '  libmagickcore-6.q16-3 libmagickcore-6.q16-3-extra libmagickcore-6.q16-dev'\n\\item '  libmagickwand-6-headers libmagickwand-6.q16-3 libmagickwand-6.q16-dev'\n\\item '  librsvg2-dev'\n\\item 'Use \\textbackslash{}'apt autoremove\\textbackslash{}' to remove them.'\n\\item 'The following packages will be REMOVED:'\n\\item '  libmagick++-dev'\n\\item 'The following NEW packages will be installed:'\n\\item '  graphicsmagick-libmagick-dev-compat'\n\\item '0 upgraded, 1 newly installed, 1 to remove and 39 not upgraded.'\n\\item 'Need to get 9,304 B of archives.'\n\\item 'After this operation, 57.3 kB of additional disk space will be used.'\n\\item 'Get:1 http://archive.ubuntu.com/ubuntu bionic-updates/universe amd64 graphicsmagick-libmagick-dev-compat all 1.3.28-2ubuntu0.1 {[}9,304 B{]}'\n\\item 'Fetched 9,304 B in 0s (53.9 kB/s)'\n\\item '(Reading database ... \\textbackslash{}r(Reading database ... 5\\%\\textbackslash{}r(Reading database ... 10\\%\\textbackslash{}r(Reading database ... 15\\%\\textbackslash{}r(Reading database ... 20\\%\\textbackslash{}r(Reading database ... 25\\%\\textbackslash{}r(Reading database ... 30\\%\\textbackslash{}r(Reading database ... 35\\%\\textbackslash{}r(Reading database ... 40\\%\\textbackslash{}r(Reading database ... 45\\%\\textbackslash{}r(Reading database ... 50\\%\\textbackslash{}r(Reading database ... 55\\%\\textbackslash{}r(Reading database ... 60\\%\\textbackslash{}r(Reading database ... 65\\%\\textbackslash{}r(Reading database ... 70\\%\\textbackslash{}r(Reading database ... 75\\%\\textbackslash{}r(Reading database ... 80\\%\\textbackslash{}r(Reading database ... 85\\%\\textbackslash{}r(Reading database ... 90\\%\\textbackslash{}r(Reading database ... 95\\%\\textbackslash{}r(Reading database ... 100\\%\\textbackslash{}r(Reading database ... 158665 files and directories currently installed.)\\textbackslash{}r'\n\\item 'Removing libmagick++-dev (8:6.9.7.4+dfsg-16ubuntu6.12) ...\\textbackslash{}r'\n\\item 'Selecting previously unselected package graphicsmagick-libmagick-dev-compat.\\textbackslash{}r'\n\\item '(Reading database ... \\textbackslash{}r(Reading database ... 5\\%\\textbackslash{}r(Reading database ... 10\\%\\textbackslash{}r(Reading database ... 15\\%\\textbackslash{}r(Reading database ... 20\\%\\textbackslash{}r(Reading database ... 25\\%\\textbackslash{}r(Reading database ... 30\\%\\textbackslash{}r(Reading database ... 35\\%\\textbackslash{}r(Reading database ... 40\\%\\textbackslash{}r(Reading database ... 45\\%\\textbackslash{}r(Reading database ... 50\\%\\textbackslash{}r(Reading database ... 55\\%\\textbackslash{}r(Reading database ... 60\\%\\textbackslash{}r(Reading database ... 65\\%\\textbackslash{}r(Reading database ... 70\\%\\textbackslash{}r(Reading database ... 75\\%\\textbackslash{}r(Reading database ... 80\\%\\textbackslash{}r(Reading database ... 85\\%\\textbackslash{}r(Reading database ... 90\\%\\textbackslash{}r(Reading database ... 95\\%\\textbackslash{}r(Reading database ... 100\\%\\textbackslash{}r(Reading database ... 158663 files and directories currently installed.)\\textbackslash{}r'\n\\item 'Preparing to unpack .../graphicsmagick-libmagick-dev-compat\\_1.3.28-2ubuntu0.1\\_all.deb ...\\textbackslash{}r'\n\\item 'Unpacking graphicsmagick-libmagick-dev-compat (1.3.28-2ubuntu0.1) ...\\textbackslash{}r'\n\\item 'Setting up graphicsmagick-libmagick-dev-compat (1.3.28-2ubuntu0.1) ...\\textbackslash{}r'\n\\item 'Processing triggers for man-db (2.8.3-2ubuntu0.1) ...\\textbackslash{}r'\n\\end{enumerate*}\n",
            "text/plain": [
              " [1] \"Reading package lists...\"                                                                                                                                                                                                                                                                                                                                                                                                                                                                                                                                                                                                                                      \n",
              " [2] \"Building dependency tree...\"                                                                                                                                                                                                                                                                                                                                                                                                                                                                                                                                                                                                                                   \n",
              " [3] \"Reading state information...\"                                                                                                                                                                                                                                                                                                                                                                                                                                                                                                                                                                                                                                  \n",
              " [4] \"The following packages were automatically installed and are no longer required:\"                                                                                                                                                                                                                                                                                                                                                                                                                                                                                                                                                                               \n",
              " [5] \"  gir1.2-freedesktop gir1.2-gdkpixbuf-2.0 gir1.2-rsvg-2.0 imagemagick-6-common\"                                                                                                                                                                                                                                                                                                                                                                                                                                                                                                                                                                                \n",
              " [6] \"  libdjvulibre-dev libdjvulibre-text libdjvulibre21 libgdk-pixbuf2.0-dev\"                                                                                                                                                                                                                                                                                                                                                                                                                                                                                                                                                                                      \n",
              " [7] \"  liblqr-1-0 liblqr-1-0-dev libmagick++-6-headers libmagick++-6.q16-7\"                                                                                                                                                                                                                                                                                                                                                                                                                                                                                                                                                                                         \n",
              " [8] \"  libmagick++-6.q16-dev libmagickcore-6-arch-config libmagickcore-6-headers\"                                                                                                                                                                                                                                                                                                                                                                                                                                                                                                                                                                                   \n",
              " [9] \"  libmagickcore-6.q16-3 libmagickcore-6.q16-3-extra libmagickcore-6.q16-dev\"                                                                                                                                                                                                                                                                                                                                                                                                                                                                                                                                                                                   \n",
              "[10] \"  libmagickwand-6-headers libmagickwand-6.q16-3 libmagickwand-6.q16-dev\"                                                                                                                                                                                                                                                                                                                                                                                                                                                                                                                                                                                       \n",
              "[11] \"  librsvg2-dev\"                                                                                                                                                                                                                                                                                                                                                                                                                                                                                                                                                                                                                                                \n",
              "[12] \"Use 'apt autoremove' to remove them.\"                                                                                                                                                                                                                                                                                                                                                                                                                                                                                                                                                                                                                          \n",
              "[13] \"The following packages will be REMOVED:\"                                                                                                                                                                                                                                                                                                                                                                                                                                                                                                                                                                                                                       \n",
              "[14] \"  libmagick++-dev\"                                                                                                                                                                                                                                                                                                                                                                                                                                                                                                                                                                                                                                             \n",
              "[15] \"The following NEW packages will be installed:\"                                                                                                                                                                                                                                                                                                                                                                                                                                                                                                                                                                                                                 \n",
              "[16] \"  graphicsmagick-libmagick-dev-compat\"                                                                                                                                                                                                                                                                                                                                                                                                                                                                                                                                                                                                                         \n",
              "[17] \"0 upgraded, 1 newly installed, 1 to remove and 39 not upgraded.\"                                                                                                                                                                                                                                                                                                                                                                                                                                                                                                                                                                                               \n",
              "[18] \"Need to get 9,304 B of archives.\"                                                                                                                                                                                                                                                                                                                                                                                                                                                                                                                                                                                                                              \n",
              "[19] \"After this operation, 57.3 kB of additional disk space will be used.\"                                                                                                                                                                                                                                                                                                                                                                                                                                                                                                                                                                                          \n",
              "[20] \"Get:1 http://archive.ubuntu.com/ubuntu bionic-updates/universe amd64 graphicsmagick-libmagick-dev-compat all 1.3.28-2ubuntu0.1 [9,304 B]\"                                                                                                                                                                                                                                                                                                                                                                                                                                                                                                                      \n",
              "[21] \"Fetched 9,304 B in 0s (53.9 kB/s)\"                                                                                                                                                                                                                                                                                                                                                                                                                                                                                                                                                                                                                             \n",
              "[22] \"(Reading database ... \\r(Reading database ... 5%\\r(Reading database ... 10%\\r(Reading database ... 15%\\r(Reading database ... 20%\\r(Reading database ... 25%\\r(Reading database ... 30%\\r(Reading database ... 35%\\r(Reading database ... 40%\\r(Reading database ... 45%\\r(Reading database ... 50%\\r(Reading database ... 55%\\r(Reading database ... 60%\\r(Reading database ... 65%\\r(Reading database ... 70%\\r(Reading database ... 75%\\r(Reading database ... 80%\\r(Reading database ... 85%\\r(Reading database ... 90%\\r(Reading database ... 95%\\r(Reading database ... 100%\\r(Reading database ... 158665 files and directories currently installed.)\\r\"\n",
              "[23] \"Removing libmagick++-dev (8:6.9.7.4+dfsg-16ubuntu6.12) ...\\r\"                                                                                                                                                                                                                                                                                                                                                                                                                                                                                                                                                                                                  \n",
              "[24] \"Selecting previously unselected package graphicsmagick-libmagick-dev-compat.\\r\"                                                                                                                                                                                                                                                                                                                                                                                                                                                                                                                                                                                \n",
              "[25] \"(Reading database ... \\r(Reading database ... 5%\\r(Reading database ... 10%\\r(Reading database ... 15%\\r(Reading database ... 20%\\r(Reading database ... 25%\\r(Reading database ... 30%\\r(Reading database ... 35%\\r(Reading database ... 40%\\r(Reading database ... 45%\\r(Reading database ... 50%\\r(Reading database ... 55%\\r(Reading database ... 60%\\r(Reading database ... 65%\\r(Reading database ... 70%\\r(Reading database ... 75%\\r(Reading database ... 80%\\r(Reading database ... 85%\\r(Reading database ... 90%\\r(Reading database ... 95%\\r(Reading database ... 100%\\r(Reading database ... 158663 files and directories currently installed.)\\r\"\n",
              "[26] \"Preparing to unpack .../graphicsmagick-libmagick-dev-compat_1.3.28-2ubuntu0.1_all.deb ...\\r\"                                                                                                                                                                                                                                                                                                                                                                                                                                                                                                                                                                   \n",
              "[27] \"Unpacking graphicsmagick-libmagick-dev-compat (1.3.28-2ubuntu0.1) ...\\r\"                                                                                                                                                                                                                                                                                                                                                                                                                                                                                                                                                                                       \n",
              "[28] \"Setting up graphicsmagick-libmagick-dev-compat (1.3.28-2ubuntu0.1) ...\\r\"                                                                                                                                                                                                                                                                                                                                                                                                                                                                                                                                                                                      \n",
              "[29] \"Processing triggers for man-db (2.8.3-2ubuntu0.1) ...\\r\"                                                                                                                                                                                                                                                                                                                                                                                                                                                                                                                                                                                                       "
            ]
          },
          "metadata": {}
        }
      ]
    },
    {
      "cell_type": "markdown",
      "metadata": {
        "id": "wFuTF2MUEiAk"
      },
      "source": [
        "### Install R packages"
      ]
    },
    {
      "cell_type": "code",
      "metadata": {
        "colab": {
          "base_uri": "https://localhost:8080/"
        },
        "id": "2AQqz-pyE0b7",
        "outputId": "9a9bdc30-6d63-49d6-db47-70154fb5ed73"
      },
      "source": [
        "install.packages('BiocManager')"
      ],
      "execution_count": null,
      "outputs": [
        {
          "output_type": "stream",
          "name": "stderr",
          "text": [
            "Installing package into ‘/usr/local/lib/R/site-library’\n",
            "(as ‘lib’ is unspecified)\n",
            "\n"
          ]
        }
      ]
    },
    {
      "cell_type": "code",
      "metadata": {
        "id": "hv8nq9sjEzhx"
      },
      "source": [
        "required_packages <- c(\n",
        "  'devtools', \n",
        "  'dplyr',\n",
        "  'BSgenome.Mmusculus.UCSC.mm10', 'TxDb.Mmusculus.UCSC.mm10.knownGene', 'org.Mm.eg.db',\n",
        "  'magick', 'patchwork', 'ggrepel',\n",
        "  'chromVAR', 'motifmatchr',\n",
        "  'EnrichedHeatmap', 'circlize', \n",
        "  'ChIPseeker', 'clusterProfiler'\n",
        ")"
      ],
      "execution_count": null,
      "outputs": []
    },
    {
      "cell_type": "code",
      "metadata": {
        "id": "FDu62M5JFJZt"
      },
      "source": [
        "missing_packages <- required_packages[!required_packages %in% rownames(installed.packages())]\n",
        "if (length(missing_packages) > 0){\n",
        "    BiocManager::install(missing_packages)\n",
        "}"
      ],
      "execution_count": null,
      "outputs": []
    },
    {
      "cell_type": "code",
      "metadata": {
        "id": "8zaZgK-MxBHG",
        "colab": {
          "base_uri": "https://localhost:8080/"
        },
        "outputId": "85e7b400-590f-4759-f7c3-f16bb9918eac"
      },
      "source": [
        "library(devtools)"
      ],
      "execution_count": null,
      "outputs": [
        {
          "output_type": "stream",
          "name": "stderr",
          "text": [
            "Loading required package: usethis\n",
            "\n"
          ]
        }
      ]
    },
    {
      "cell_type": "markdown",
      "metadata": {
        "id": "JV2N0ehhUtZm"
      },
      "source": [
        "### Install SeATAC from github"
      ]
    },
    {
      "cell_type": "code",
      "metadata": {
        "id": "p9iI0Qk5Usy7",
        "colab": {
          "base_uri": "https://localhost:8080/"
        },
        "outputId": "908c78ab-7d99-4f74-981a-d7f5015b485e"
      },
      "source": [
        "install_github('gongx030/seatac@v0.4.0', force = TRUE, quiet = FALSE)\n",
        "reload(pkgload::inst(\"seatac\"))\n",
        "library(seatac)"
      ],
      "execution_count": null,
      "outputs": [
        {
          "output_type": "stream",
          "name": "stderr",
          "text": [
            "Downloading GitHub repo gongx030/seatac@v0.4.0\n",
            "\n"
          ]
        },
        {
          "output_type": "stream",
          "name": "stdout",
          "text": [
            "\n",
            "* checking for file ‘/tmp/RtmpAup3uA/remotes966af0752fc/gongx030-seatac-55f9f36/DESCRIPTION’ ... OK\n",
            "* preparing ‘seatac’:\n",
            "* checking DESCRIPTION meta-information ... OK\n",
            "* checking for LF line-endings in source and make files and shell scripts\n",
            "* checking for empty or unneeded directories\n",
            "Omitted ‘LazyData’ from DESCRIPTION\n",
            "* building ‘seatac_0.4.0-010.tar.gz’\n",
            "\n"
          ]
        },
        {
          "output_type": "stream",
          "name": "stderr",
          "text": [
            "Installing package into ‘/usr/local/lib/R/site-library’\n",
            "(as ‘lib’ is unspecified)\n",
            "\n",
            "Loading required package: tensorflow\n",
            "\n",
            "Loading required package: tfprobability\n",
            "\n",
            "Loading required package: tfdatasets\n",
            "\n",
            "Loading required package: GenomicRanges\n",
            "\n",
            "Loading required package: stats4\n",
            "\n",
            "Loading required package: BiocGenerics\n",
            "\n",
            "\n",
            "Attaching package: ‘BiocGenerics’\n",
            "\n",
            "\n",
            "The following objects are masked from ‘package:stats’:\n",
            "\n",
            "    IQR, mad, sd, var, xtabs\n",
            "\n",
            "\n",
            "The following objects are masked from ‘package:base’:\n",
            "\n",
            "    anyDuplicated, append, as.data.frame, basename, cbind, colnames,\n",
            "    dirname, do.call, duplicated, eval, evalq, Filter, Find, get, grep,\n",
            "    grepl, intersect, is.unsorted, lapply, Map, mapply, match, mget,\n",
            "    order, paste, pmax, pmax.int, pmin, pmin.int, Position, rank,\n",
            "    rbind, Reduce, rownames, sapply, setdiff, sort, table, tapply,\n",
            "    union, unique, unsplit, which.max, which.min\n",
            "\n",
            "\n",
            "Loading required package: S4Vectors\n",
            "\n",
            "\n",
            "Attaching package: ‘S4Vectors’\n",
            "\n",
            "\n",
            "The following objects are masked from ‘package:base’:\n",
            "\n",
            "    expand.grid, I, unname\n",
            "\n",
            "\n",
            "Loading required package: IRanges\n",
            "\n",
            "Loading required package: GenomeInfoDb\n",
            "\n",
            "Loading required package: SummarizedExperiment\n",
            "\n",
            "Loading required package: MatrixGenerics\n",
            "\n",
            "Loading required package: matrixStats\n",
            "\n",
            "\n",
            "Attaching package: ‘MatrixGenerics’\n",
            "\n",
            "\n",
            "The following objects are masked from ‘package:matrixStats’:\n",
            "\n",
            "    colAlls, colAnyNAs, colAnys, colAvgsPerRowSet, colCollapse,\n",
            "    colCounts, colCummaxs, colCummins, colCumprods, colCumsums,\n",
            "    colDiffs, colIQRDiffs, colIQRs, colLogSumExps, colMadDiffs,\n",
            "    colMads, colMaxs, colMeans2, colMedians, colMins, colOrderStats,\n",
            "    colProds, colQuantiles, colRanges, colRanks, colSdDiffs, colSds,\n",
            "    colSums2, colTabulates, colVarDiffs, colVars, colWeightedMads,\n",
            "    colWeightedMeans, colWeightedMedians, colWeightedSds,\n",
            "    colWeightedVars, rowAlls, rowAnyNAs, rowAnys, rowAvgsPerColSet,\n",
            "    rowCollapse, rowCounts, rowCummaxs, rowCummins, rowCumprods,\n",
            "    rowCumsums, rowDiffs, rowIQRDiffs, rowIQRs, rowLogSumExps,\n",
            "    rowMadDiffs, rowMads, rowMaxs, rowMeans2, rowMedians, rowMins,\n",
            "    rowOrderStats, rowProds, rowQuantiles, rowRanges, rowRanks,\n",
            "    rowSdDiffs, rowSds, rowSums2, rowTabulates, rowVarDiffs, rowVars,\n",
            "    rowWeightedMads, rowWeightedMeans, rowWeightedMedians,\n",
            "    rowWeightedSds, rowWeightedVars\n",
            "\n",
            "\n",
            "Loading required package: Biobase\n",
            "\n",
            "Welcome to Bioconductor\n",
            "\n",
            "    Vignettes contain introductory material; view with\n",
            "    'browseVignettes()'. To cite Bioconductor, see\n",
            "    'citation(\"Biobase\")', and for packages 'citation(\"pkgname\")'.\n",
            "\n",
            "\n",
            "\n",
            "Attaching package: ‘Biobase’\n",
            "\n",
            "\n",
            "The following object is masked from ‘package:MatrixGenerics’:\n",
            "\n",
            "    rowMedians\n",
            "\n",
            "\n",
            "The following objects are masked from ‘package:matrixStats’:\n",
            "\n",
            "    anyMissing, rowMedians\n",
            "\n",
            "\n",
            "\n",
            "Attaching package: ‘seatac’\n",
            "\n",
            "\n",
            "The following object is masked from ‘package:tfdatasets’:\n",
            "\n",
            "    fit\n",
            "\n",
            "\n",
            "The following object is masked from ‘package:stats’:\n",
            "\n",
            "    predict\n",
            "\n",
            "\n"
          ]
        }
      ]
    },
    {
      "cell_type": "markdown",
      "source": [
        "### Install other non-CRAN packages"
      ],
      "metadata": {
        "id": "r4U_y7OYuKot"
      }
    },
    {
      "cell_type": "code",
      "source": [
        "devtools::install_github(\"GreenleafLab/chromVARmotifs\")"
      ],
      "metadata": {
        "id": "zVu3f-oQuSOn",
        "colab": {
          "base_uri": "https://localhost:8080/"
        },
        "outputId": "955dd86b-2b8d-4410-d04d-d3a14bc0cfc4"
      },
      "execution_count": null,
      "outputs": [
        {
          "output_type": "stream",
          "name": "stderr",
          "text": [
            "Skipping install of 'chromVARmotifs' from a github remote, the SHA1 (38bed559) has not changed since last install.\n",
            "  Use `force = TRUE` to force installation\n",
            "\n"
          ]
        }
      ]
    },
    {
      "cell_type": "markdown",
      "metadata": {
        "id": "XiWD5bRSpT8k"
      },
      "source": [
        "### Load R packages"
      ]
    },
    {
      "cell_type": "code",
      "source": [
        "library(GenomicRanges)\n",
        "library(motifmatchr)\n",
        "library(chromVARmotifs)\n",
        "library(patchwork)\n",
        "library(dplyr)\n",
        "library(seatac)\n",
        "library(GenomicRanges)\n",
        "library(BSgenome.Mmusculus.UCSC.mm10)"
      ],
      "metadata": {
        "id": "bUX2bXkBNbFq",
        "colab": {
          "base_uri": "https://localhost:8080/"
        },
        "outputId": "b255f926-a3dc-4b39-c20d-d4bbd3f32fc1"
      },
      "execution_count": null,
      "outputs": [
        {
          "output_type": "stream",
          "name": "stderr",
          "text": [
            "\n",
            "\n",
            "\n",
            "Attaching package: ‘dplyr’\n",
            "\n",
            "\n",
            "The following object is masked from ‘package:Biobase’:\n",
            "\n",
            "    combine\n",
            "\n",
            "\n",
            "The following object is masked from ‘package:matrixStats’:\n",
            "\n",
            "    count\n",
            "\n",
            "\n",
            "The following objects are masked from ‘package:GenomicRanges’:\n",
            "\n",
            "    intersect, setdiff, union\n",
            "\n",
            "\n",
            "The following object is masked from ‘package:GenomeInfoDb’:\n",
            "\n",
            "    intersect\n",
            "\n",
            "\n",
            "The following objects are masked from ‘package:IRanges’:\n",
            "\n",
            "    collapse, desc, intersect, setdiff, slice, union\n",
            "\n",
            "\n",
            "The following objects are masked from ‘package:S4Vectors’:\n",
            "\n",
            "    first, intersect, rename, setdiff, setequal, union\n",
            "\n",
            "\n",
            "The following objects are masked from ‘package:BiocGenerics’:\n",
            "\n",
            "    combine, intersect, setdiff, union\n",
            "\n",
            "\n",
            "The following objects are masked from ‘package:stats’:\n",
            "\n",
            "    filter, lag\n",
            "\n",
            "\n",
            "The following objects are masked from ‘package:base’:\n",
            "\n",
            "    intersect, setdiff, setequal, union\n",
            "\n",
            "\n",
            "Loading required package: BSgenome\n",
            "\n",
            "Loading required package: Biostrings\n",
            "\n",
            "Loading required package: XVector\n",
            "\n",
            "\n",
            "Attaching package: ‘Biostrings’\n",
            "\n",
            "\n",
            "The following object is masked from ‘package:base’:\n",
            "\n",
            "    strsplit\n",
            "\n",
            "\n",
            "Loading required package: rtracklayer\n",
            "\n"
          ]
        }
      ]
    },
    {
      "cell_type": "code",
      "metadata": {
        "id": "nQFQk04TzjFj",
        "colab": {
          "base_uri": "https://localhost:8080/"
        },
        "outputId": "ac72562c-8e4a-4fba-dd03-d9204eff850f"
      },
      "source": [
        "library(GenomicRanges)\n",
        "library(BSgenome.Mmusculus.UCSC.mm10)\n",
        "library(dplyr)\n",
        "library(ggplot2)\n",
        "library(magick)\n",
        "library(patchwork)\n",
        "library(chromVAR)\n",
        "library(motifmatchr)\n",
        "library(chromVARmotifs)\n",
        "library(ggrepel)\n",
        "library(circlize)\n",
        "library(EnrichedHeatmap)\n",
        "library(TxDb.Mmusculus.UCSC.mm10.knownGene)\n",
        "library(org.Mm.eg.db)\n",
        "library(ChIPseeker)\n",
        "library(clusterProfiler)\n",
        "library(RColorBrewer)"
      ],
      "execution_count": null,
      "outputs": [
        {
          "output_type": "stream",
          "name": "stderr",
          "text": [
            "Linking to ImageMagick 6.9.7.4\n",
            "Enabled features: fontconfig, freetype, fftw, lcms, pango, x11\n",
            "Disabled features: cairo, ghostscript, heic, raw, rsvg, webp\n",
            "\n",
            "Using 8 threads\n",
            "\n",
            "========================================\n",
            "circlize version 0.4.14\n",
            "CRAN page: https://cran.r-project.org/package=circlize\n",
            "Github page: https://github.com/jokergoo/circlize\n",
            "Documentation: https://jokergoo.github.io/circlize_book/book/\n",
            "\n",
            "If you use it in published research, please cite:\n",
            "Gu, Z. circlize implements and enhances circular visualization\n",
            "  in R. Bioinformatics 2014.\n",
            "\n",
            "This message can be suppressed by:\n",
            "  suppressPackageStartupMessages(library(circlize))\n",
            "========================================\n",
            "\n",
            "\n",
            "Loading required package: grid\n",
            "\n",
            "\n",
            "Attaching package: ‘grid’\n",
            "\n",
            "\n",
            "The following object is masked from ‘package:Biostrings’:\n",
            "\n",
            "    pattern\n",
            "\n",
            "\n",
            "Loading required package: ComplexHeatmap\n",
            "\n",
            "========================================\n",
            "ComplexHeatmap version 2.10.0\n",
            "Bioconductor page: http://bioconductor.org/packages/ComplexHeatmap/\n",
            "Github page: https://github.com/jokergoo/ComplexHeatmap\n",
            "Documentation: http://jokergoo.github.io/ComplexHeatmap-reference\n",
            "\n",
            "If you use it in published research, please cite:\n",
            "Gu, Z. Complex heatmaps reveal patterns and correlations in multidimensional \n",
            "  genomic data. Bioinformatics 2016.\n",
            "\n",
            "The new InteractiveComplexHeatmap package can directly export static \n",
            "complex heatmaps into an interactive Shiny app with zero effort. Have a try!\n",
            "\n",
            "This message can be suppressed by:\n",
            "  suppressPackageStartupMessages(library(ComplexHeatmap))\n",
            "========================================\n",
            "\n",
            "\n",
            "========================================\n",
            "EnrichedHeatmap version 1.24.0\n",
            "Bioconductor page: http://bioconductor.org/packages/EnrichedHeatmap/\n",
            "Github page: https://github.com/jokergoo/EnrichedHeatmap\n",
            "Documentation: http://bioconductor.org/packages/EnrichedHeatmap/\n",
            "\n",
            "If you use it in published research, please cite:\n",
            "Gu, Z. EnrichedHeatmap: an R/Bioconductor package for comprehensive \n",
            "visualization of genomic signal associations. BMC Genomics 2018.\n",
            "\n",
            "This message can be suppressed by:\n",
            "  suppressPackageStartupMessages(library(EnrichedHeatmap))\n",
            "========================================\n",
            "\n",
            "\n",
            "Loading required package: GenomicFeatures\n",
            "\n",
            "Loading required package: AnnotationDbi\n",
            "\n",
            "\n",
            "Attaching package: ‘AnnotationDbi’\n",
            "\n",
            "\n",
            "The following object is masked from ‘package:dplyr’:\n",
            "\n",
            "    select\n",
            "\n",
            "\n",
            "\n",
            "\n",
            "Registered S3 method overwritten by 'ggtree':\n",
            "  method      from \n",
            "  identify.gg ggfun\n",
            "\n",
            "ChIPseeker v1.30.3  For help: https://guangchuangyu.github.io/software/ChIPseeker\n",
            "\n",
            "If you use ChIPseeker in published research, please cite:\n",
            "Guangchuang Yu, Li-Gen Wang, Qing-Yu He. ChIPseeker: an R/Bioconductor package for ChIP peak annotation, comparison and visualization. Bioinformatics 2015, 31(14):2382-2383\n",
            "\n",
            "clusterProfiler v4.2.2  For help: https://yulab-smu.top/biomedical-knowledge-mining-book/\n",
            "\n",
            "If you use clusterProfiler in published research, please cite:\n",
            "T Wu, E Hu, S Xu, M Chen, P Guo, Z Dai, T Feng, L Zhou, W Tang, L Zhan, X Fu, S Liu, X Bo, and G Yu. clusterProfiler 4.0: A universal enrichment tool for interpreting omics data. The Innovation. 2021, 2(3):100141\n",
            "\n",
            "\n",
            "Attaching package: ‘clusterProfiler’\n",
            "\n",
            "\n",
            "The following object is masked from ‘package:AnnotationDbi’:\n",
            "\n",
            "    select\n",
            "\n",
            "\n",
            "The following object is masked from ‘package:XVector’:\n",
            "\n",
            "    slice\n",
            "\n",
            "\n",
            "The following object is masked from ‘package:IRanges’:\n",
            "\n",
            "    slice\n",
            "\n",
            "\n",
            "The following object is masked from ‘package:S4Vectors’:\n",
            "\n",
            "    rename\n",
            "\n",
            "\n",
            "The following object is masked from ‘package:stats’:\n",
            "\n",
            "    filter\n",
            "\n",
            "\n"
          ]
        }
      ]
    },
    {
      "cell_type": "markdown",
      "metadata": {
        "id": "j-TPW4ME18Vg"
      },
      "source": [
        "### TensorFlow setup"
      ]
    },
    {
      "cell_type": "code",
      "metadata": {
        "id": "BvMo6o4K18Vh",
        "colab": {
          "base_uri": "https://localhost:8080/"
        },
        "outputId": "6a1562b7-eadb-4d04-832f-cd5897f15a2c"
      },
      "source": [
        "gpus <- tf$config$list_physical_devices('GPU')\n",
        "for (gpu in gpus){\n",
        "  tf$config$experimental$set_memory_growth(gpu, TRUE)\n",
        "}\n",
        "logical_gpus <- tf$config$experimental$list_logical_devices('GPU')\n",
        "sprintf('Physical GPUs: %d', length(gpus)) %>% message()\n",
        "sprintf('Logical GPUs: %d', length(logical_gpus)) %>% message()"
      ],
      "execution_count": null,
      "outputs": [
        {
          "output_type": "stream",
          "name": "stderr",
          "text": [
            "Loaded Tensorflow version 2.8.0\n",
            "\n",
            "Physical GPUs: 1\n",
            "\n",
            "Logical GPUs: 1\n",
            "\n"
          ]
        }
      ]
    },
    {
      "cell_type": "code",
      "metadata": {
        "id": "GfWHODPbHZ0s",
        "colab": {
          "base_uri": "https://localhost:8080/",
          "height": 35
        },
        "outputId": "cf2b4b3e-994f-4da6-f86f-4e35c0874cbf"
      },
      "source": [
        "Sys.time() - start_time"
      ],
      "execution_count": null,
      "outputs": [
        {
          "output_type": "display_data",
          "data": {
            "text/plain": [
              "Time difference of 1.264508 mins"
            ]
          },
          "metadata": {}
        }
      ]
    },
    {
      "cell_type": "markdown",
      "metadata": {
        "id": "hl2lXOAv9ljx"
      },
      "source": [
        "## Parameters"
      ]
    },
    {
      "cell_type": "code",
      "metadata": {
        "id": "KMfU5_KD9nN9"
      },
      "source": [
        "ARGS <- list(\n",
        "  bin_size = 5L,\n",
        "  fragment_size_range_max = 640L,\n",
        "  fragment_size_interval = 10L,\n",
        "  window_size = 1000L,\n",
        "  heatmap_window_size = 2000L,\n",
        "  block_size = 640L,\n",
        "  sliding_step = 20L,\n",
        "  min_reads = 5L,\n",
        "  step_size = 200L,\n",
        "\n",
        "  vae_num_peaks = 5000L,\n",
        "  vae_latent = c(10L),\n",
        "  vae_filters0 = c(128L),\n",
        "  vae_filters = c(32L),\n",
        "  vae_downsample_layers = 4L,\n",
        "  vae_upsample_layers = 4L,\n",
        "  vae_base_learning_rate = c(1e-2),\n",
        "  vae_epochs = 200L,\n",
        "  vae_beta_schedule_method = c('constant'),\n",
        "  vae_beta0 = 1,\n",
        "  vae_batch_size = c(128L),\n",
        "  vae_warmup_ratio = 0.1,\n",
        "\n",
        "  target_width = 100L,\n",
        "  min_test_reads = 1L,\n",
        "  max_test_reads = 10L,\n",
        "  center_width = 100L # the center width\n",
        ")"
      ],
      "execution_count": null,
      "outputs": []
    },
    {
      "cell_type": "markdown",
      "source": [
        "## Load BAM files"
      ],
      "metadata": {
        "id": "Bgo2xPLPXHeH"
      }
    },
    {
      "cell_type": "code",
      "source": [
        "remote_bam_files <- c(\n",
        "  MEF = 'https://s3.msi.umn.edu/dsouz072/datasets/dataset=Ascl1_version=20200128a/MEF.bam',\n",
        "  MEF_Ascl1_D22 = 'https://s3.msi.umn.edu/dsouz072/datasets/dataset=Ascl1_version=20200128a/MEF_Ascl1_22d.bam'\n",
        ")\n",
        "for (i in 1:length(remote_bam_files)){\n",
        "  sprintf('wget -cx %s', remote_bam_files[i]) %>% system()\n",
        "}"
      ],
      "metadata": {
        "id": "HLeAGx93XJs1"
      },
      "execution_count": null,
      "outputs": []
    },
    {
      "cell_type": "code",
      "source": [
        "local_bam_files <- gsub('https://', './', remote_bam_files)\n",
        "all(file.exists(local_bam_files))"
      ],
      "metadata": {
        "id": "SgHntlqVXrpf",
        "colab": {
          "base_uri": "https://localhost:8080/",
          "height": 34
        },
        "outputId": "e2120a85-c200-4801-e37f-b89d7c1fb293"
      },
      "execution_count": null,
      "outputs": [
        {
          "output_type": "display_data",
          "data": {
            "text/html": [
              "TRUE"
            ],
            "text/markdown": "TRUE",
            "text/latex": "TRUE",
            "text/plain": [
              "[1] TRUE"
            ]
          },
          "metadata": {}
        }
      ]
    },
    {
      "cell_type": "markdown",
      "source": [
        "## Load bed files"
      ],
      "metadata": {
        "id": "RUotUmuaXmyB"
      }
    },
    {
      "cell_type": "code",
      "source": [
        "remote_bed_files <- gsub('.bam', '_summits.bed', remote_bam_files)\n",
        "for (i in 1:length(remote_bed_files)){\n",
        "  sprintf('wget -cx %s', remote_bed_files[i]) %>% system()\n",
        "}\n",
        "local_bed_files <- gsub('https://', './', remote_bed_files)\n",
        "all(file.exists(local_bed_files))"
      ],
      "metadata": {
        "id": "o0aAEdm_XphF",
        "colab": {
          "base_uri": "https://localhost:8080/",
          "height": 34
        },
        "outputId": "1702f3af-faaf-4eaf-ecc5-2629800dc564"
      },
      "execution_count": null,
      "outputs": [
        {
          "output_type": "display_data",
          "data": {
            "text/html": [
              "TRUE"
            ],
            "text/markdown": "TRUE",
            "text/latex": "TRUE",
            "text/plain": [
              "[1] TRUE"
            ]
          },
          "metadata": {}
        }
      ]
    },
    {
      "cell_type": "markdown",
      "source": [
        "## Training VAE"
      ],
      "metadata": {
        "id": "bk8TSzjM6mdV"
      }
    },
    {
      "cell_type": "code",
      "source": [
        "models <- list()"
      ],
      "metadata": {
        "id": "-ap0R4ll7BTT"
      },
      "execution_count": null,
      "outputs": []
    },
    {
      "cell_type": "code",
      "source": [
        "cond <- c('MEF', 'MEF_Ascl1_D22')"
      ],
      "metadata": {
        "id": "tNFvbnwT7XWP"
      },
      "execution_count": null,
      "outputs": []
    },
    {
      "cell_type": "code",
      "source": [
        "gr0 <- lapply(local_bed_files[cond], function(bed_file){\n",
        "  peaks <- read.table(bed_file, header = FALSE, sep = '\\t')\n",
        "  peaks <- GRanges(seqnames = peaks[, 1], range = IRanges(start = peaks[, 2], end = peaks[, 3]))\n",
        "  peaks <- resize(peaks, fix = 'center', width = ARGS[['step_size']])\n",
        "  peaks\n",
        "}) %>%\n",
        "  GRangesList() %>%\n",
        "  coverage() %>%\n",
        "  IRanges::slice(lower = 1, rangesOnly = TRUE) %>%\n",
        "  GRanges() %>%\n",
        "  resize(fix = 'center', width = ARGS[['window_size']])\n",
        "gr0 <- gr0[!seqnames(gr0) %in% c('chrM', 'chrY')]"
      ],
      "metadata": {
        "id": "zHqblmXnqM6L"
      },
      "execution_count": null,
      "outputs": []
    },
    {
      "cell_type": "code",
      "metadata": {
        "id": "ffFYhb0Nxshz",
        "colab": {
          "base_uri": "https://localhost:8080/"
        },
        "outputId": "caa701c7-de1a-417e-d456-017f983996d2"
      },
      "source": [
        "gr <- slidingWindows(gr0, width = ARGS[['block_size']], step = ARGS[['sliding_step']]) %>% unlist()\n",
        "set.seed(1L); gr <- sample(gr, ARGS[['vae_num_peaks']])\n",
        "counts <- count_reads(gr, local_bam_files[cond], genome = BSgenome.Mmusculus.UCSC.mm10,  fragment_size_range = c(0, ARGS[['fragment_size_range_max']]))"
      ],
      "execution_count": null,
      "outputs": [
        {
          "output_type": "stream",
          "name": "stderr",
          "text": [
            "read_bam | reading ./s3.msi.umn.edu/dsouz072/datasets/dataset=Ascl1_version=20200128a/MEF.bam\n",
            "\n",
            "read_bam | reading ./s3.msi.umn.edu/dsouz072/datasets/dataset=Ascl1_version=20200128a/MEF_Ascl1_22d.bam\n",
            "\n"
          ]
        }
      ]
    },
    {
      "cell_type": "code",
      "metadata": {
        "id": "aSfnrGj7xshz",
        "colab": {
          "base_uri": "https://localhost:8080/"
        },
        "outputId": "07c07ebc-f9f0-449c-9b1d-59b5742af639"
      },
      "source": [
        "valid <- rowSums(counts >= ARGS[['min_reads']]) == length(cond)\n",
        "gr <- gr[valid]\n",
        "sprintf('number of training peaks for VaeModel: %d', length(gr)) %>% message()"
      ],
      "execution_count": null,
      "outputs": [
        {
          "output_type": "stream",
          "name": "stderr",
          "text": [
            "number of training peaks for VaeModel: 4910\n",
            "\n"
          ]
        }
      ]
    },
    {
      "cell_type": "code",
      "source": [
        "x <- read_vplot(\n",
        "  gr, \n",
        "  filenames = local_bam_files[cond], \n",
        "  genome = BSgenome.Mmusculus.UCSC.mm10, \n",
        "  bin_size = ARGS[['bin_size']], \n",
        "  fragment_size_range = c(0, ARGS[['fragment_size_range_max']]), \n",
        "  fragment_size_interval = ARGS[['fragment_size_interval']]\n",
        ")"
      ],
      "metadata": {
        "id": "VvwQSvqeq6xN",
        "colab": {
          "base_uri": "https://localhost:8080/"
        },
        "outputId": "74918381-e456-4e98-b62a-94891a269d35"
      },
      "execution_count": null,
      "outputs": [
        {
          "output_type": "stream",
          "name": "stderr",
          "text": [
            "read_bam | reading ./s3.msi.umn.edu/dsouz072/datasets/dataset=Ascl1_version=20200128a/MEF.bam\n",
            "\n",
            "read_bam | reading ./s3.msi.umn.edu/dsouz072/datasets/dataset=Ascl1_version=20200128a/MEF_Ascl1_22d.bam\n",
            "\n"
          ]
        }
      ]
    },
    {
      "cell_type": "code",
      "metadata": {
        "id": "DF8-Nf4cqBJ1",
        "colab": {
          "base_uri": "https://localhost:8080/"
        },
        "outputId": "92d3fd48-71d1-475b-f2d1-560a1a237737"
      },
      "source": [
        "model <- new('VaeModel', model = VaeModel(\n",
        "  n_samples = dim(x)['sample'],\n",
        "  latent_dim = ARGS[['vae_latent']],\n",
        "  block_size = ARGS[['block_size']],\n",
        "  bin_size = ARGS[['bin_size']],\n",
        "  filters0 = ARGS[['vae_filters0']],\n",
        "  filters = ARGS[['vae_filters']],\n",
        "  upsample_layers = ARGS[['vae_upsample_layers']],\n",
        "  downsample_layers = ARGS[['vae_downsample_layers']],\n",
        "  fragment_size_range  = c(0, ARGS[['fragment_size_range_max']]),\n",
        "  fragment_size_interval = ARGS[['fragment_size_interval']]\n",
        "))\n",
        "lr <- WarmUpAndCosineDecay(\n",
        "  base_learning_rate = ARGS[['vae_base_learning_rate']],\n",
        "  num_examples = nrow(x),\n",
        "  batch_size = ARGS[['vae_batch_size']],\n",
        "  epochs = ARGS[['vae_epochs']],\n",
        "  warmup_epochs = as.integer(ARGS[['vae_epochs']] * ARGS[['vae_warmup_ratio']])\n",
        ")\n",
        "beta <- beta_schedule(\n",
        "  method = ARGS[['vae_beta_schedule_method']],\n",
        "  beta0 = ARGS[['vae_beta0']],\n",
        "  epochs = ARGS[['vae_epochs']]\n",
        ")\n",
        "d <- model %>% prepare_data(x)\n",
        "d <- d %>% tensor_slices_dataset()\n",
        "models[['MEF']] <- model %>% fit(d, batch_size =  ARGS[['vae_batch_size']], epochs = ARGS[['vae_epochs']], learning_rate = lr, compile = TRUE, beta = beta)"
      ],
      "execution_count": null,
      "outputs": [
        {
          "output_type": "stream",
          "name": "stderr",
          "text": [
            "epoch=     1/   200 | beta=1.000e+00 | loss= 6872.8196740 | loss_reconstruction= 6871.7705329 | loss_kl=    1.0491496\n",
            "\n",
            "epoch=     2/   200 | beta=1.000e+00 | loss= 5464.0088892 | loss_reconstruction= 5457.3697291 | loss_kl=    6.6391674\n",
            "\n",
            "epoch=     3/   200 | beta=1.000e+00 | loss= 4755.2645358 | loss_reconstruction= 4749.8078801 | loss_kl=    5.4566500\n",
            "\n",
            "epoch=     4/   200 | beta=1.000e+00 | loss= 3843.9821402 | loss_reconstruction= 3841.1332194 | loss_kl=    2.8489406\n",
            "\n",
            "epoch=     5/   200 | beta=1.000e+00 | loss= 2672.5027231 | loss_reconstruction= 2671.1499399 | loss_kl=    1.3527952\n",
            "\n",
            "epoch=     6/   200 | beta=1.000e+00 | loss= 1579.8736009 | loss_reconstruction= 1579.2897417 | loss_kl=    0.5838598\n",
            "\n",
            "epoch=     7/   200 | beta=1.000e+00 | loss=  902.2466665 | loss_reconstruction=  901.9778082 | loss_kl=    0.2688633\n",
            "\n",
            "epoch=     8/   200 | beta=1.000e+00 | loss=  585.6313437 | loss_reconstruction=  585.4653234 | loss_kl=    0.1660206\n",
            "\n",
            "epoch=     9/   200 | beta=1.000e+00 | loss=  446.2260257 | loss_reconstruction=  445.8372239 | loss_kl=    0.3888001\n",
            "\n",
            "epoch=    10/   200 | beta=1.000e+00 | loss=  378.4221098 | loss_reconstruction=  377.4401417 | loss_kl=    0.9819686\n",
            "\n",
            "epoch=    11/   200 | beta=1.000e+00 | loss=  340.6215437 | loss_reconstruction=  339.0145764 | loss_kl=    1.6069677\n",
            "\n",
            "epoch=    12/   200 | beta=1.000e+00 | loss=  318.3638196 | loss_reconstruction=  315.7516949 | loss_kl=    2.6121243\n",
            "\n",
            "epoch=    13/   200 | beta=1.000e+00 | loss=  303.8683284 | loss_reconstruction=  300.5878014 | loss_kl=    3.2805266\n",
            "\n",
            "epoch=    14/   200 | beta=1.000e+00 | loss=  293.3065428 | loss_reconstruction=  289.6671330 | loss_kl=    3.6394071\n",
            "\n",
            "epoch=    15/   200 | beta=1.000e+00 | loss=  286.8419283 | loss_reconstruction=  282.9432573 | loss_kl=    3.8986724\n",
            "\n",
            "epoch=    16/   200 | beta=1.000e+00 | loss=  282.2495767 | loss_reconstruction=  278.1255693 | loss_kl=    4.1240079\n",
            "\n",
            "epoch=    17/   200 | beta=1.000e+00 | loss=  279.2193341 | loss_reconstruction=  274.8333075 | loss_kl=    4.3860255\n",
            "\n",
            "epoch=    18/   200 | beta=1.000e+00 | loss=  276.8774230 | loss_reconstruction=  272.3156132 | loss_kl=    4.5618096\n",
            "\n",
            "epoch=    19/   200 | beta=1.000e+00 | loss=  275.4071377 | loss_reconstruction=  270.6018673 | loss_kl=    4.8052728\n",
            "\n",
            "epoch=    20/   200 | beta=1.000e+00 | loss=  273.9864099 | loss_reconstruction=  268.9858062 | loss_kl=    5.0006032\n",
            "\n",
            "epoch=    21/   200 | beta=1.000e+00 | loss=  273.1293714 | loss_reconstruction=  267.9213515 | loss_kl=    5.2080190\n",
            "\n",
            "epoch=    22/   200 | beta=1.000e+00 | loss=  272.7534434 | loss_reconstruction=  267.3419139 | loss_kl=    5.4115306\n",
            "\n",
            "epoch=    23/   200 | beta=1.000e+00 | loss=  272.0519703 | loss_reconstruction=  266.6106133 | loss_kl=    5.4413573\n",
            "\n",
            "epoch=    24/   200 | beta=1.000e+00 | loss=  271.3918645 | loss_reconstruction=  265.7762506 | loss_kl=    5.6156142\n",
            "\n",
            "epoch=    25/   200 | beta=1.000e+00 | loss=  270.9672382 | loss_reconstruction=  265.2498271 | loss_kl=    5.7174123\n",
            "\n",
            "epoch=    26/   200 | beta=1.000e+00 | loss=  270.8053961 | loss_reconstruction=  265.0644070 | loss_kl=    5.7409911\n",
            "\n",
            "epoch=    27/   200 | beta=1.000e+00 | loss=  270.4770085 | loss_reconstruction=  264.6177270 | loss_kl=    5.8592841\n",
            "\n",
            "epoch=    28/   200 | beta=1.000e+00 | loss=  270.2607058 | loss_reconstruction=  264.3832894 | loss_kl=    5.8774161\n",
            "\n",
            "epoch=    29/   200 | beta=1.000e+00 | loss=  270.0910543 | loss_reconstruction=  264.1371628 | loss_kl=    5.9538904\n",
            "\n",
            "epoch=    30/   200 | beta=1.000e+00 | loss=  270.1166722 | loss_reconstruction=  264.1198511 | loss_kl=    5.9968217\n",
            "\n",
            "epoch=    31/   200 | beta=1.000e+00 | loss=  269.8244449 | loss_reconstruction=  263.7497441 | loss_kl=    6.0747015\n",
            "\n",
            "epoch=    32/   200 | beta=1.000e+00 | loss=  269.4107928 | loss_reconstruction=  263.2667960 | loss_kl=    6.1439942\n",
            "\n",
            "epoch=    33/   200 | beta=1.000e+00 | loss=  269.4856466 | loss_reconstruction=  263.3160232 | loss_kl=    6.1696230\n",
            "\n",
            "epoch=    34/   200 | beta=1.000e+00 | loss=  269.3008165 | loss_reconstruction=  263.1113942 | loss_kl=    6.1894217\n",
            "\n",
            "epoch=    35/   200 | beta=1.000e+00 | loss=  269.2932951 | loss_reconstruction=  263.0638616 | loss_kl=    6.2294339\n",
            "\n",
            "epoch=    36/   200 | beta=1.000e+00 | loss=  269.4633742 | loss_reconstruction=  263.2076788 | loss_kl=    6.2556965\n",
            "\n",
            "epoch=    37/   200 | beta=1.000e+00 | loss=  269.1270087 | loss_reconstruction=  262.8356135 | loss_kl=    6.2913961\n",
            "\n",
            "epoch=    38/   200 | beta=1.000e+00 | loss=  268.9962898 | loss_reconstruction=  262.6283229 | loss_kl=    6.3679668\n",
            "\n",
            "epoch=    39/   200 | beta=1.000e+00 | loss=  269.0325376 | loss_reconstruction=  262.6555684 | loss_kl=    6.3769697\n",
            "\n",
            "epoch=    40/   200 | beta=1.000e+00 | loss=  268.8061723 | loss_reconstruction=  262.3712166 | loss_kl=    6.4349561\n",
            "\n",
            "epoch=    41/   200 | beta=1.000e+00 | loss=  268.7849696 | loss_reconstruction=  262.3892857 | loss_kl=    6.3956827\n",
            "\n",
            "epoch=    42/   200 | beta=1.000e+00 | loss=  268.6846114 | loss_reconstruction=  262.2118546 | loss_kl=    6.4727585\n",
            "\n",
            "epoch=    43/   200 | beta=1.000e+00 | loss=  268.5601173 | loss_reconstruction=  262.0346112 | loss_kl=    6.5255053\n",
            "\n",
            "epoch=    44/   200 | beta=1.000e+00 | loss=  268.4197521 | loss_reconstruction=  261.8854398 | loss_kl=    6.5343086\n",
            "\n",
            "epoch=    45/   200 | beta=1.000e+00 | loss=  268.3745270 | loss_reconstruction=  261.7993567 | loss_kl=    6.5751711\n",
            "\n",
            "epoch=    46/   200 | beta=1.000e+00 | loss=  268.4169175 | loss_reconstruction=  261.8047521 | loss_kl=    6.6121647\n",
            "\n",
            "epoch=    47/   200 | beta=1.000e+00 | loss=  268.2220185 | loss_reconstruction=  261.5657685 | loss_kl=    6.6562478\n",
            "\n",
            "epoch=    48/   200 | beta=1.000e+00 | loss=  268.2238057 | loss_reconstruction=  261.5701114 | loss_kl=    6.6536960\n",
            "\n",
            "epoch=    49/   200 | beta=1.000e+00 | loss=  268.2163865 | loss_reconstruction=  261.5357150 | loss_kl=    6.6806702\n",
            "\n",
            "epoch=    50/   200 | beta=1.000e+00 | loss=  268.0312746 | loss_reconstruction=  261.3373945 | loss_kl=    6.6938790\n",
            "\n",
            "epoch=    51/   200 | beta=1.000e+00 | loss=  268.1542730 | loss_reconstruction=  261.4382915 | loss_kl=    6.7159829\n",
            "\n",
            "epoch=    52/   200 | beta=1.000e+00 | loss=  268.2220033 | loss_reconstruction=  261.4719180 | loss_kl=    6.7500858\n",
            "\n",
            "epoch=    53/   200 | beta=1.000e+00 | loss=  268.0705973 | loss_reconstruction=  261.3121937 | loss_kl=    6.7584013\n",
            "\n",
            "epoch=    54/   200 | beta=1.000e+00 | loss=  267.8184216 | loss_reconstruction=  261.0171900 | loss_kl=    6.8012315\n",
            "\n",
            "epoch=    55/   200 | beta=1.000e+00 | loss=  267.8433803 | loss_reconstruction=  261.0471000 | loss_kl=    6.7962795\n",
            "\n",
            "epoch=    56/   200 | beta=1.000e+00 | loss=  267.7820568 | loss_reconstruction=  260.9126603 | loss_kl=    6.8693955\n",
            "\n",
            "epoch=    57/   200 | beta=1.000e+00 | loss=  267.6812607 | loss_reconstruction=  260.8185562 | loss_kl=    6.8627036\n",
            "\n",
            "epoch=    58/   200 | beta=1.000e+00 | loss=  267.7698055 | loss_reconstruction=  260.8737253 | loss_kl=    6.8960817\n",
            "\n",
            "epoch=    59/   200 | beta=1.000e+00 | loss=  267.6034162 | loss_reconstruction=  260.6974515 | loss_kl=    6.9059640\n",
            "\n",
            "epoch=    60/   200 | beta=1.000e+00 | loss=  267.6465720 | loss_reconstruction=  260.6949854 | loss_kl=    6.9515851\n",
            "\n",
            "epoch=    61/   200 | beta=1.000e+00 | loss=  267.7036098 | loss_reconstruction=  260.7565703 | loss_kl=    6.9470408\n",
            "\n",
            "epoch=    62/   200 | beta=1.000e+00 | loss=  267.4077227 | loss_reconstruction=  260.4540147 | loss_kl=    6.9537082\n",
            "\n",
            "epoch=    63/   200 | beta=1.000e+00 | loss=  267.7951719 | loss_reconstruction=  260.8131088 | loss_kl=    6.9820633\n",
            "\n",
            "epoch=    64/   200 | beta=1.000e+00 | loss=  267.4020851 | loss_reconstruction=  260.4027612 | loss_kl=    6.9993239\n",
            "\n",
            "epoch=    65/   200 | beta=1.000e+00 | loss=  267.6713879 | loss_reconstruction=  260.6497983 | loss_kl=    7.0215912\n",
            "\n",
            "epoch=    66/   200 | beta=1.000e+00 | loss=  267.3925468 | loss_reconstruction=  260.3606779 | loss_kl=    7.0318703\n",
            "\n",
            "epoch=    67/   200 | beta=1.000e+00 | loss=  267.2623698 | loss_reconstruction=  260.2030037 | loss_kl=    7.0593638\n",
            "\n",
            "epoch=    68/   200 | beta=1.000e+00 | loss=  267.3265893 | loss_reconstruction=  260.2491076 | loss_kl=    7.0774822\n",
            "\n",
            "epoch=    69/   200 | beta=1.000e+00 | loss=  267.1524866 | loss_reconstruction=  260.0695143 | loss_kl=    7.0829718\n",
            "\n",
            "epoch=    70/   200 | beta=1.000e+00 | loss=  267.1471131 | loss_reconstruction=  260.0532227 | loss_kl=    7.0938919\n",
            "\n",
            "epoch=    71/   200 | beta=1.000e+00 | loss=  267.2011159 | loss_reconstruction=  260.0398462 | loss_kl=    7.1612682\n",
            "\n",
            "epoch=    72/   200 | beta=1.000e+00 | loss=  267.0577897 | loss_reconstruction=  259.9527604 | loss_kl=    7.1050294\n",
            "\n",
            "epoch=    73/   200 | beta=1.000e+00 | loss=  267.0840654 | loss_reconstruction=  259.9220585 | loss_kl=    7.1620069\n",
            "\n",
            "epoch=    74/   200 | beta=1.000e+00 | loss=  266.8100363 | loss_reconstruction=  259.5887338 | loss_kl=    7.2213021\n",
            "\n",
            "epoch=    75/   200 | beta=1.000e+00 | loss=  266.8128353 | loss_reconstruction=  259.5818059 | loss_kl=    7.2310305\n",
            "\n",
            "epoch=    76/   200 | beta=1.000e+00 | loss=  266.9226074 | loss_reconstruction=  259.6951321 | loss_kl=    7.2274750\n",
            "\n",
            "epoch=    77/   200 | beta=1.000e+00 | loss=  266.7562459 | loss_reconstruction=  259.4989104 | loss_kl=    7.2573348\n",
            "\n",
            "epoch=    78/   200 | beta=1.000e+00 | loss=  266.6985329 | loss_reconstruction=  259.4384601 | loss_kl=    7.2600735\n",
            "\n",
            "epoch=    79/   200 | beta=1.000e+00 | loss=  266.7642760 | loss_reconstruction=  259.4798353 | loss_kl=    7.2844418\n",
            "\n",
            "epoch=    80/   200 | beta=1.000e+00 | loss=  266.5813462 | loss_reconstruction=  259.2248739 | loss_kl=    7.3564718\n",
            "\n",
            "epoch=    81/   200 | beta=1.000e+00 | loss=  266.5795765 | loss_reconstruction=  259.2777393 | loss_kl=    7.3018360\n",
            "\n",
            "epoch=    82/   200 | beta=1.000e+00 | loss=  266.5048734 | loss_reconstruction=  259.1429064 | loss_kl=    7.3619664\n",
            "\n",
            "epoch=    83/   200 | beta=1.000e+00 | loss=  266.6097729 | loss_reconstruction=  259.2790312 | loss_kl=    7.3307438\n",
            "\n",
            "epoch=    84/   200 | beta=1.000e+00 | loss=  266.5342916 | loss_reconstruction=  259.1220065 | loss_kl=    7.4122834\n",
            "\n",
            "epoch=    85/   200 | beta=1.000e+00 | loss=  266.3811219 | loss_reconstruction=  259.0121315 | loss_kl=    7.3689909\n",
            "\n",
            "epoch=    86/   200 | beta=1.000e+00 | loss=  266.4444048 | loss_reconstruction=  259.0238992 | loss_kl=    7.4205072\n",
            "\n",
            "epoch=    87/   200 | beta=1.000e+00 | loss=  266.3068175 | loss_reconstruction=  258.9319924 | loss_kl=    7.3748219\n",
            "\n",
            "epoch=    88/   200 | beta=1.000e+00 | loss=  266.2606459 | loss_reconstruction=  258.8387815 | loss_kl=    7.4218660\n",
            "\n",
            "epoch=    89/   200 | beta=1.000e+00 | loss=  266.2148864 | loss_reconstruction=  258.7544215 | loss_kl=    7.4604631\n",
            "\n",
            "epoch=    90/   200 | beta=1.000e+00 | loss=  266.2630870 | loss_reconstruction=  258.7884686 | loss_kl=    7.4746173\n",
            "\n",
            "epoch=    91/   200 | beta=1.000e+00 | loss=  266.0676942 | loss_reconstruction=  258.5595750 | loss_kl=    7.5081186\n",
            "\n",
            "epoch=    92/   200 | beta=1.000e+00 | loss=  266.0764246 | loss_reconstruction=  258.5417097 | loss_kl=    7.5347165\n",
            "\n",
            "epoch=    93/   200 | beta=1.000e+00 | loss=  266.0236445 | loss_reconstruction=  258.4884217 | loss_kl=    7.5352246\n",
            "\n",
            "epoch=    94/   200 | beta=1.000e+00 | loss=  266.0259489 | loss_reconstruction=  258.4979049 | loss_kl=    7.5280454\n",
            "\n",
            "epoch=    95/   200 | beta=1.000e+00 | loss=  265.8791226 | loss_reconstruction=  258.2858472 | loss_kl=    7.5932758\n",
            "\n",
            "epoch=    96/   200 | beta=1.000e+00 | loss=  265.9383001 | loss_reconstruction=  258.3815151 | loss_kl=    7.5567888\n",
            "\n",
            "epoch=    97/   200 | beta=1.000e+00 | loss=  265.8744311 | loss_reconstruction=  258.2772213 | loss_kl=    7.5972101\n",
            "\n",
            "epoch=    98/   200 | beta=1.000e+00 | loss=  265.9042597 | loss_reconstruction=  258.2711037 | loss_kl=    7.6331545\n",
            "\n",
            "epoch=    99/   200 | beta=1.000e+00 | loss=  265.6750868 | loss_reconstruction=  258.0767670 | loss_kl=    7.5983169\n",
            "\n",
            "epoch=   100/   200 | beta=1.000e+00 | loss=  265.9126826 | loss_reconstruction=  258.2575105 | loss_kl=    7.6551722\n",
            "\n",
            "epoch=   101/   200 | beta=1.000e+00 | loss=  265.6799884 | loss_reconstruction=  258.0029496 | loss_kl=    7.6770395\n",
            "\n",
            "epoch=   102/   200 | beta=1.000e+00 | loss=  265.5724675 | loss_reconstruction=  257.8936032 | loss_kl=    7.6788643\n",
            "\n",
            "epoch=   103/   200 | beta=1.000e+00 | loss=  265.6514799 | loss_reconstruction=  257.9268834 | loss_kl=    7.7245963\n",
            "\n",
            "epoch=   104/   200 | beta=1.000e+00 | loss=  265.7757032 | loss_reconstruction=  258.1094892 | loss_kl=    7.6662143\n",
            "\n",
            "epoch=   105/   200 | beta=1.000e+00 | loss=  265.7657604 | loss_reconstruction=  258.0298227 | loss_kl=    7.7359375\n",
            "\n",
            "epoch=   106/   200 | beta=1.000e+00 | loss=  265.3911074 | loss_reconstruction=  257.6380905 | loss_kl=    7.7530169\n",
            "\n",
            "epoch=   107/   200 | beta=1.000e+00 | loss=  265.4167195 | loss_reconstruction=  257.6502083 | loss_kl=    7.7665097\n",
            "\n",
            "epoch=   108/   200 | beta=1.000e+00 | loss=  265.4108402 | loss_reconstruction=  257.6324999 | loss_kl=    7.7783415\n",
            "\n",
            "epoch=   109/   200 | beta=1.000e+00 | loss=  265.3452465 | loss_reconstruction=  257.5430227 | loss_kl=    7.8022236\n",
            "\n",
            "epoch=   110/   200 | beta=1.000e+00 | loss=  265.3204870 | loss_reconstruction=  257.5054552 | loss_kl=    7.8150345\n",
            "\n",
            "epoch=   111/   200 | beta=1.000e+00 | loss=  265.3000844 | loss_reconstruction=  257.4640550 | loss_kl=    7.8360255\n",
            "\n",
            "epoch=   112/   200 | beta=1.000e+00 | loss=  265.2899909 | loss_reconstruction=  257.4194747 | loss_kl=    7.8705152\n",
            "\n",
            "epoch=   113/   200 | beta=1.000e+00 | loss=  265.1229491 | loss_reconstruction=  257.2355546 | loss_kl=    7.8873957\n",
            "\n",
            "epoch=   114/   200 | beta=1.000e+00 | loss=  265.1677101 | loss_reconstruction=  257.2893196 | loss_kl=    7.8783893\n",
            "\n",
            "epoch=   115/   200 | beta=1.000e+00 | loss=  265.0829382 | loss_reconstruction=  257.1809383 | loss_kl=    7.9019998\n",
            "\n",
            "epoch=   116/   200 | beta=1.000e+00 | loss=  264.9226004 | loss_reconstruction=  256.9976638 | loss_kl=    7.9249385\n",
            "\n",
            "epoch=   117/   200 | beta=1.000e+00 | loss=  264.8477263 | loss_reconstruction=  256.9189234 | loss_kl=    7.9288038\n",
            "\n",
            "epoch=   118/   200 | beta=1.000e+00 | loss=  264.7535925 | loss_reconstruction=  256.8182361 | loss_kl=    7.9353555\n",
            "\n",
            "epoch=   119/   200 | beta=1.000e+00 | loss=  264.7991591 | loss_reconstruction=  256.8027625 | loss_kl=    7.9963968\n",
            "\n",
            "epoch=   120/   200 | beta=1.000e+00 | loss=  264.8639699 | loss_reconstruction=  256.8655677 | loss_kl=    7.9984012\n",
            "\n",
            "epoch=   121/   200 | beta=1.000e+00 | loss=  264.7209097 | loss_reconstruction=  256.6935804 | loss_kl=    8.0273297\n",
            "\n",
            "epoch=   122/   200 | beta=1.000e+00 | loss=  264.6197475 | loss_reconstruction=  256.5677134 | loss_kl=    8.0520315\n",
            "\n",
            "epoch=   123/   200 | beta=1.000e+00 | loss=  264.4925017 | loss_reconstruction=  256.4805204 | loss_kl=    8.0119835\n",
            "\n",
            "epoch=   124/   200 | beta=1.000e+00 | loss=  264.5045463 | loss_reconstruction=  256.4480708 | loss_kl=    8.0564772\n",
            "\n",
            "epoch=   125/   200 | beta=1.000e+00 | loss=  264.5441335 | loss_reconstruction=  256.4393940 | loss_kl=    8.1047408\n",
            "\n",
            "epoch=   126/   200 | beta=1.000e+00 | loss=  264.4073263 | loss_reconstruction=  256.3263026 | loss_kl=    8.0810234\n",
            "\n",
            "epoch=   127/   200 | beta=1.000e+00 | loss=  264.4512337 | loss_reconstruction=  256.2849782 | loss_kl=    8.1662548\n",
            "\n",
            "epoch=   128/   200 | beta=1.000e+00 | loss=  264.2392938 | loss_reconstruction=  256.0945865 | loss_kl=    8.1447039\n",
            "\n",
            "epoch=   129/   200 | beta=1.000e+00 | loss=  264.2140037 | loss_reconstruction=  256.0541304 | loss_kl=    8.1598732\n",
            "\n",
            "epoch=   130/   200 | beta=1.000e+00 | loss=  264.1397959 | loss_reconstruction=  255.9522396 | loss_kl=    8.1875542\n",
            "\n",
            "epoch=   131/   200 | beta=1.000e+00 | loss=  264.0859355 | loss_reconstruction=  255.9427197 | loss_kl=    8.1432131\n",
            "\n",
            "epoch=   132/   200 | beta=1.000e+00 | loss=  264.1012190 | loss_reconstruction=  255.8933219 | loss_kl=    8.2078995\n",
            "\n",
            "epoch=   133/   200 | beta=1.000e+00 | loss=  264.0543647 | loss_reconstruction=  255.8126088 | loss_kl=    8.2417565\n",
            "\n",
            "epoch=   134/   200 | beta=1.000e+00 | loss=  264.0367447 | loss_reconstruction=  255.7887147 | loss_kl=    8.2480310\n",
            "\n",
            "epoch=   135/   200 | beta=1.000e+00 | loss=  263.9146232 | loss_reconstruction=  255.6578240 | loss_kl=    8.2567982\n",
            "\n",
            "epoch=   136/   200 | beta=1.000e+00 | loss=  263.9380196 | loss_reconstruction=  255.6611927 | loss_kl=    8.2768241\n",
            "\n",
            "epoch=   137/   200 | beta=1.000e+00 | loss=  263.7658617 | loss_reconstruction=  255.4679933 | loss_kl=    8.2978670\n",
            "\n",
            "epoch=   138/   200 | beta=1.000e+00 | loss=  263.8685592 | loss_reconstruction=  255.5707530 | loss_kl=    8.2978066\n",
            "\n",
            "epoch=   139/   200 | beta=1.000e+00 | loss=  263.7170175 | loss_reconstruction=  255.4074637 | loss_kl=    8.3095534\n",
            "\n",
            "epoch=   140/   200 | beta=1.000e+00 | loss=  263.6784868 | loss_reconstruction=  255.3263667 | loss_kl=    8.3521193\n",
            "\n",
            "epoch=   141/   200 | beta=1.000e+00 | loss=  263.6146037 | loss_reconstruction=  255.2479303 | loss_kl=    8.3666748\n",
            "\n",
            "epoch=   142/   200 | beta=1.000e+00 | loss=  263.5912616 | loss_reconstruction=  255.1905881 | loss_kl=    8.4006720\n",
            "\n",
            "epoch=   143/   200 | beta=1.000e+00 | loss=  263.5077879 | loss_reconstruction=  255.1470896 | loss_kl=    8.3606967\n",
            "\n",
            "epoch=   144/   200 | beta=1.000e+00 | loss=  263.4487320 | loss_reconstruction=  255.0683754 | loss_kl=    8.3803556\n",
            "\n",
            "epoch=   145/   200 | beta=1.000e+00 | loss=  263.4078099 | loss_reconstruction=  254.9789210 | loss_kl=    8.4288894\n",
            "\n",
            "epoch=   146/   200 | beta=1.000e+00 | loss=  263.3140857 | loss_reconstruction=  254.8469696 | loss_kl=    8.4671146\n",
            "\n",
            "epoch=   147/   200 | beta=1.000e+00 | loss=  263.2831679 | loss_reconstruction=  254.8013353 | loss_kl=    8.4818320\n",
            "\n",
            "epoch=   148/   200 | beta=1.000e+00 | loss=  263.3110230 | loss_reconstruction=  254.8454328 | loss_kl=    8.4655921\n",
            "\n",
            "epoch=   149/   200 | beta=1.000e+00 | loss=  263.1539494 | loss_reconstruction=  254.6567414 | loss_kl=    8.4972076\n",
            "\n",
            "epoch=   150/   200 | beta=1.000e+00 | loss=  263.1203539 | loss_reconstruction=  254.6880986 | loss_kl=    8.4322542\n",
            "\n",
            "epoch=   151/   200 | beta=1.000e+00 | loss=  263.1070330 | loss_reconstruction=  254.5517253 | loss_kl=    8.5553080\n",
            "\n",
            "epoch=   152/   200 | beta=1.000e+00 | loss=  263.0537958 | loss_reconstruction=  254.5296783 | loss_kl=    8.5241160\n",
            "\n",
            "epoch=   153/   200 | beta=1.000e+00 | loss=  262.9819113 | loss_reconstruction=  254.4064961 | loss_kl=    8.5754145\n",
            "\n",
            "epoch=   154/   200 | beta=1.000e+00 | loss=  262.9363838 | loss_reconstruction=  254.3866898 | loss_kl=    8.5496938\n",
            "\n",
            "epoch=   155/   200 | beta=1.000e+00 | loss=  262.9073017 | loss_reconstruction=  254.2917089 | loss_kl=    8.6155922\n",
            "\n",
            "epoch=   156/   200 | beta=1.000e+00 | loss=  262.8148229 | loss_reconstruction=  254.2252307 | loss_kl=    8.5895907\n",
            "\n",
            "epoch=   157/   200 | beta=1.000e+00 | loss=  262.7963073 | loss_reconstruction=  254.2347905 | loss_kl=    8.5615155\n",
            "\n",
            "epoch=   158/   200 | beta=1.000e+00 | loss=  262.7755088 | loss_reconstruction=  254.1260849 | loss_kl=    8.6494241\n",
            "\n",
            "epoch=   159/   200 | beta=1.000e+00 | loss=  262.6635652 | loss_reconstruction=  254.0029046 | loss_kl=    8.6606616\n",
            "\n",
            "epoch=   160/   200 | beta=1.000e+00 | loss=  262.6255622 | loss_reconstruction=  253.9827713 | loss_kl=    8.6427903\n",
            "\n",
            "epoch=   161/   200 | beta=1.000e+00 | loss=  262.5968307 | loss_reconstruction=  253.9064030 | loss_kl=    8.6904275\n",
            "\n",
            "epoch=   162/   200 | beta=1.000e+00 | loss=  262.5691806 | loss_reconstruction=  253.9324079 | loss_kl=    8.6367728\n",
            "\n",
            "epoch=   163/   200 | beta=1.000e+00 | loss=  262.5239168 | loss_reconstruction=  253.7739880 | loss_kl=    8.7499272\n",
            "\n",
            "epoch=   164/   200 | beta=1.000e+00 | loss=  262.4291045 | loss_reconstruction=  253.7664298 | loss_kl=    8.6626739\n",
            "\n",
            "epoch=   165/   200 | beta=1.000e+00 | loss=  262.3854237 | loss_reconstruction=  253.7037295 | loss_kl=    8.6816934\n",
            "\n",
            "epoch=   166/   200 | beta=1.000e+00 | loss=  262.3891672 | loss_reconstruction=  253.6715784 | loss_kl=    8.7175897\n",
            "\n",
            "epoch=   167/   200 | beta=1.000e+00 | loss=  262.3543079 | loss_reconstruction=  253.5970044 | loss_kl=    8.7573026\n",
            "\n",
            "epoch=   168/   200 | beta=1.000e+00 | loss=  262.2871614 | loss_reconstruction=  253.5381032 | loss_kl=    8.7490585\n",
            "\n",
            "epoch=   169/   200 | beta=1.000e+00 | loss=  262.2667608 | loss_reconstruction=  253.4812321 | loss_kl=    8.7855273\n",
            "\n",
            "epoch=   170/   200 | beta=1.000e+00 | loss=  262.2184933 | loss_reconstruction=  253.4427392 | loss_kl=    8.7757534\n",
            "\n",
            "epoch=   171/   200 | beta=1.000e+00 | loss=  262.2464772 | loss_reconstruction=  253.4645914 | loss_kl=    8.7818855\n",
            "\n",
            "epoch=   172/   200 | beta=1.000e+00 | loss=  262.2112720 | loss_reconstruction=  253.4259014 | loss_kl=    8.7853705\n",
            "\n",
            "epoch=   173/   200 | beta=1.000e+00 | loss=  262.1255485 | loss_reconstruction=  253.3402237 | loss_kl=    8.7853263\n",
            "\n",
            "epoch=   174/   200 | beta=1.000e+00 | loss=  262.1503222 | loss_reconstruction=  253.2945420 | loss_kl=    8.8557814\n",
            "\n",
            "epoch=   175/   200 | beta=1.000e+00 | loss=  262.0783304 | loss_reconstruction=  253.2476822 | loss_kl=    8.8306472\n",
            "\n",
            "epoch=   176/   200 | beta=1.000e+00 | loss=  262.0448072 | loss_reconstruction=  253.2244137 | loss_kl=    8.8203942\n",
            "\n",
            "epoch=   177/   200 | beta=1.000e+00 | loss=  262.0494127 | loss_reconstruction=  253.2073752 | loss_kl=    8.8420361\n",
            "\n",
            "epoch=   178/   200 | beta=1.000e+00 | loss=  261.9847260 | loss_reconstruction=  253.1268037 | loss_kl=    8.8579230\n",
            "\n",
            "epoch=   179/   200 | beta=1.000e+00 | loss=  261.9957937 | loss_reconstruction=  253.1314005 | loss_kl=    8.8643924\n",
            "\n",
            "epoch=   180/   200 | beta=1.000e+00 | loss=  261.9425315 | loss_reconstruction=  253.0527958 | loss_kl=    8.8897374\n",
            "\n",
            "epoch=   181/   200 | beta=1.000e+00 | loss=  261.9260708 | loss_reconstruction=  253.0410935 | loss_kl=    8.8849766\n",
            "\n",
            "epoch=   182/   200 | beta=1.000e+00 | loss=  261.9075677 | loss_reconstruction=  253.0698113 | loss_kl=    8.8377567\n",
            "\n",
            "epoch=   183/   200 | beta=1.000e+00 | loss=  261.9000659 | loss_reconstruction=  253.0140197 | loss_kl=    8.8860454\n",
            "\n",
            "epoch=   184/   200 | beta=1.000e+00 | loss=  261.8575271 | loss_reconstruction=  252.9773513 | loss_kl=    8.8801752\n",
            "\n",
            "epoch=   185/   200 | beta=1.000e+00 | loss=  261.8469978 | loss_reconstruction=  252.9604500 | loss_kl=    8.8865476\n",
            "\n",
            "epoch=   186/   200 | beta=1.000e+00 | loss=  261.8745595 | loss_reconstruction=  253.0206569 | loss_kl=    8.8539013\n",
            "\n",
            "epoch=   187/   200 | beta=1.000e+00 | loss=  261.8539499 | loss_reconstruction=  252.9485129 | loss_kl=    8.9054364\n",
            "\n",
            "epoch=   188/   200 | beta=1.000e+00 | loss=  261.8421138 | loss_reconstruction=  252.9478615 | loss_kl=    8.8942526\n",
            "\n",
            "epoch=   189/   200 | beta=1.000e+00 | loss=  261.7922132 | loss_reconstruction=  252.9074116 | loss_kl=    8.8848027\n",
            "\n",
            "epoch=   190/   200 | beta=1.000e+00 | loss=  261.8128502 | loss_reconstruction=  252.9520025 | loss_kl=    8.8608497\n",
            "\n",
            "epoch=   191/   200 | beta=1.000e+00 | loss=  261.7876861 | loss_reconstruction=  252.9177989 | loss_kl=    8.8698861\n",
            "\n",
            "epoch=   192/   200 | beta=1.000e+00 | loss=  261.7881278 | loss_reconstruction=  252.8878045 | loss_kl=    8.9003234\n",
            "\n",
            "epoch=   193/   200 | beta=1.000e+00 | loss=  261.7699992 | loss_reconstruction=  252.8863784 | loss_kl=    8.8836201\n",
            "\n",
            "epoch=   194/   200 | beta=1.000e+00 | loss=  261.7984776 | loss_reconstruction=  252.8584826 | loss_kl=    8.9399938\n",
            "\n",
            "epoch=   195/   200 | beta=1.000e+00 | loss=  261.7568923 | loss_reconstruction=  252.8578405 | loss_kl=    8.8990524\n",
            "\n",
            "epoch=   196/   200 | beta=1.000e+00 | loss=  261.7716972 | loss_reconstruction=  252.8542856 | loss_kl=    8.9174087\n",
            "\n",
            "epoch=   197/   200 | beta=1.000e+00 | loss=  261.7943209 | loss_reconstruction=  252.8932378 | loss_kl=    8.9010834\n",
            "\n",
            "epoch=   198/   200 | beta=1.000e+00 | loss=  261.7962150 | loss_reconstruction=  252.9061901 | loss_kl=    8.8900253\n",
            "\n",
            "epoch=   199/   200 | beta=1.000e+00 | loss=  261.7609777 | loss_reconstruction=  252.8747332 | loss_kl=    8.8862439\n",
            "\n",
            "epoch=   200/   200 | beta=1.000e+00 | loss=  261.7748738 | loss_reconstruction=  252.8779000 | loss_kl=    8.8969743\n",
            "\n"
          ]
        }
      ]
    },
    {
      "cell_type": "markdown",
      "metadata": {
        "id": "H955kYDsAlxh"
      },
      "source": [
        "## Download related `pileup` and `fold enrichment` bigwig files"
      ]
    },
    {
      "cell_type": "code",
      "metadata": {
        "id": "556fcwk5cAWq"
      },
      "source": [
        "remote_bw_files <- c(\n",
        "\t'MNase'                             = 'https://s3.msi.umn.edu/gongx030/datasets/dataset=Chronis_version=20170519a/MNase_treat_pileup.bw',\n",
        "\t'H3'                                = 'https://s3.msi.umn.edu/gongx030/datasets/dataset=Chronis_version=20170519a/H3_treat_pileup.bw',\n",
        "\t'H3K9me3'                           = 'https://s3.msi.umn.edu/gongx030/datasets/dataset=Chronis_version=20170519a/H3K9me3_treat_pileup.bw',\n",
        "\t'H3K27me3'                          = 'https://s3.msi.umn.edu/gongx030/datasets/dataset=Chronis_version=20170519a/H3K27me3_treat_pileup.bw',\n",
        "\t'H3K36me3'                          = 'https://s3.msi.umn.edu/gongx030/datasets/dataset=Chronis_version=20170519a/H3K36me3_treat_pileup.bw',\n",
        "\t'H3K9ac'                            = 'https://s3.msi.umn.edu/gongx030/datasets/dataset=Chronis_version=20170519a/H3K9ac_treat_pileup.bw',\n",
        "\t'H3K79me2'                          = 'https://s3.msi.umn.edu/gongx030/datasets/dataset=Chronis_version=20170519a/H3K79me2_treat_pileup.bw',\n",
        "\t'H3K4me2'                           = 'https://s3.msi.umn.edu/gongx030/datasets/dataset=Chronis_version=20170519a/H3K4me2_treat_pileup.bw',\n",
        "\t'H3K4me1'                           = 'https://s3.msi.umn.edu/gongx030/datasets/dataset=Chronis_version=20170519a/H3K4me1_treat_pileup.bw',\n",
        "\t'Hdac1'                             = 'https://s3.msi.umn.edu/gongx030/datasets/dataset=Chronis_version=20170519a/Hdac1_treat_pileup.bw',\n",
        "\t'H3.3'                              = 'https://s3.msi.umn.edu/gongx030/datasets/dataset=Chronis_version=20170519a/H3.3_treat_pileup.bw',\n",
        "\t'P300'                              = 'https://s3.msi.umn.edu/gongx030/datasets/dataset=Chronis_version=20170519a/P300_treat_pileup.bw'\n",
        "\t\n",
        ")"
      ],
      "execution_count": null,
      "outputs": []
    },
    {
      "cell_type": "code",
      "source": [
        "for (i in 1:length(remote_bw_files)){\n",
        "  sprintf('wget -cx %s', remote_bw_files[i]) %>% system()\n",
        "}"
      ],
      "metadata": {
        "id": "aURBILr2H_zk"
      },
      "execution_count": null,
      "outputs": []
    },
    {
      "cell_type": "code",
      "source": [
        "local_bw_files <- gsub('https://', './', remote_bw_files)"
      ],
      "metadata": {
        "id": "1635lpzdKxtj"
      },
      "execution_count": null,
      "outputs": []
    },
    {
      "cell_type": "markdown",
      "source": [
        "## Ascl1 motif"
      ],
      "metadata": {
        "id": "Q4X-s7XN5ipA"
      }
    },
    {
      "cell_type": "code",
      "metadata": {
        "id": "DGqCiI2reZzF"
      },
      "source": [
        "data('homer_pwms') # 321 TF motifs from Homer database"
      ],
      "execution_count": null,
      "outputs": []
    },
    {
      "cell_type": "code",
      "metadata": {
        "id": "pRnZ76W5eh2T",
        "colab": {
          "base_uri": "https://localhost:8080/",
          "height": 54
        },
        "outputId": "d0207ddf-ee7c-4bb9-a509-61153d666fa2"
      },
      "source": [
        "j <- 'Ascl1(bHLH)/NeuralTubes-Ascl1-ChIP-Seq(GSE55840)/Homer'\n",
        "homer_pwms[j]"
      ],
      "execution_count": null,
      "outputs": [
        {
          "output_type": "display_data",
          "data": {
            "text/plain": [
              "PWMatrixList of length 1\n",
              "names(1): Ascl1(bHLH)/NeuralTubes-Ascl1-ChIP-Seq(GSE55840)/Homer"
            ]
          },
          "metadata": {}
        }
      ]
    },
    {
      "cell_type": "markdown",
      "metadata": {
        "id": "HFi3FyWGes3d"
      },
      "source": [
        "### Extract motif centric regions"
      ]
    },
    {
      "cell_type": "code",
      "metadata": {
        "id": "y92NANobehIy"
      },
      "source": [
        "gr <- matchMotifs(homer_pwms[j], gr0, genome = BSgenome.Mmusculus.UCSC.mm10, out = 'positions')[[1]] %>%\n",
        "  resize(width = ARGS[['block_size']], fix = 'center')"
      ],
      "execution_count": null,
      "outputs": []
    },
    {
      "cell_type": "code",
      "metadata": {
        "colab": {
          "base_uri": "https://localhost:8080/"
        },
        "id": "QijS2vz2fJAI",
        "outputId": "4a7224b0-eefa-4793-bba2-3d793600ca85"
      },
      "source": [
        "sprintf('number of motif-centric regions: %s', length(gr)) %>% message()"
      ],
      "execution_count": null,
      "outputs": [
        {
          "output_type": "stream",
          "name": "stderr",
          "text": [
            "number of motif-centric regions: 71616\n",
            "\n"
          ]
        }
      ]
    },
    {
      "cell_type": "markdown",
      "metadata": {
        "id": "W1s_MLEnfeNW"
      },
      "source": [
        "### Read motif centric V-plots"
      ]
    },
    {
      "cell_type": "code",
      "source": [
        "x_MEF <- read_vplot(gr, filenames = local_bam_files[c('MEF', 'MEF_Ascl1_D22')], genome = BSgenome.Mmusculus.UCSC.mm10, bin_size = ARGS[['bin_size']], fragment_size_range = c(0, ARGS[['fragment_size_range_max']]), fragment_size_interval = ARGS[['fragment_size_interval']])"
      ],
      "metadata": {
        "colab": {
          "base_uri": "https://localhost:8080/"
        },
        "id": "XKVL4NT1EnzP",
        "outputId": "85458846-0d40-4d21-fd1d-675eb0d4a460"
      },
      "execution_count": null,
      "outputs": [
        {
          "output_type": "stream",
          "name": "stderr",
          "text": [
            "read_bam | reading ./s3.msi.umn.edu/dsouz072/datasets/dataset=Ascl1_version=20200128a/MEF.bam\n",
            "\n",
            "read_bam | reading ./s3.msi.umn.edu/dsouz072/datasets/dataset=Ascl1_version=20200128a/MEF_Ascl1_22d.bam\n",
            "\n"
          ]
        }
      ]
    },
    {
      "cell_type": "markdown",
      "metadata": {
        "id": "h6lhLCtYfhqw"
      },
      "source": [
        "### Get the latent representations of the V-plots"
      ]
    },
    {
      "cell_type": "code",
      "metadata": {
        "id": "qnCyKD4iwpFG"
      },
      "source": [
        "x_MEF <- models[['MEF']] %>% predict(x_MEF, batch_size = ARGS[['vae_batch_size']], vplots = FALSE)"
      ],
      "execution_count": null,
      "outputs": []
    },
    {
      "cell_type": "markdown",
      "metadata": {
        "id": "zTZFIssWfoaQ"
      },
      "source": [
        "### Calling significant V-plots"
      ]
    },
    {
      "cell_type": "code",
      "metadata": {
        "id": "gaKq3d-5MDOm"
      },
      "source": [
        "res_MEF <- models[['MEF']] %>% results(x_MEF, type = 'vplots', contrast = c('name', 'MEF', 'MEF_Ascl1_D22'), width = ARGS[['center_width']])\n",
        "res_MEF$group <- 'MEF'\n",
        "res <- c(res_MEF)\n",
        "res$NOR_NFR <- res$padj < 0.05 & res$log_ratio < -0.1\n",
        "res$NFR_NOR <- res$padj < 0.05 & res$log_ratio > 0.1"
      ],
      "execution_count": null,
      "outputs": []
    },
    {
      "cell_type": "code",
      "source": [
        "res_new <- res[res$padj < 0.05 ]"
      ],
      "metadata": {
        "id": "tDkQiuiKa62T"
      },
      "execution_count": null,
      "outputs": []
    },
    {
      "cell_type": "markdown",
      "metadata": {
        "id": "8ms85JqDjDi9"
      },
      "source": [
        "### Read significant regions V-plots"
      ]
    },
    {
      "cell_type": "code",
      "source": [
        "seqlevels(res_new) <- seqlevels(gr)"
      ],
      "metadata": {
        "id": "19zevNSVj1a5"
      },
      "execution_count": null,
      "outputs": []
    },
    {
      "cell_type": "code",
      "source": [
        "x_MEF <- read_vplot(res_new, filenames = local_bam_files[c('MEF', 'MEF_Ascl1_D22')], genome = BSgenome.Mmusculus.UCSC.mm10, bin_size = ARGS[['bin_size']], fragment_size_range = c(0, ARGS[['fragment_size_range_max']]), fragment_size_interval = ARGS[['fragment_size_interval']])"
      ],
      "metadata": {
        "colab": {
          "base_uri": "https://localhost:8080/"
        },
        "outputId": "c64bfc80-1a69-4505-c8af-36124782b2a3",
        "id": "5MzYjyoajDi_"
      },
      "execution_count": null,
      "outputs": [
        {
          "output_type": "stream",
          "name": "stderr",
          "text": [
            "read_bam | reading ./s3.msi.umn.edu/dsouz072/datasets/dataset=Ascl1_version=20200128a/MEF.bam\n",
            "\n",
            "read_bam | reading ./s3.msi.umn.edu/dsouz072/datasets/dataset=Ascl1_version=20200128a/MEF_Ascl1_22d.bam\n",
            "\n"
          ]
        }
      ]
    },
    {
      "cell_type": "markdown",
      "metadata": {
        "id": "RQ0pWUA6jDjA"
      },
      "source": [
        "### Get the estimated counts for regions with Vplots that are significantly differential"
      ]
    },
    {
      "cell_type": "code",
      "metadata": {
        "id": "WjI8LSVPjDjA"
      },
      "source": [
        "x_MEF <- models[['MEF']] %>% predict(x_MEF, batch_size = ARGS[['vae_batch_size']], vplots = TRUE)"
      ],
      "execution_count": null,
      "outputs": []
    },
    {
      "cell_type": "code",
      "source": [
        "res_w <- resize(res_new, width = 2000L, fix = 'center')"
      ],
      "metadata": {
        "id": "lazY1C8tPrIO"
      },
      "execution_count": null,
      "outputs": []
    },
    {
      "cell_type": "code",
      "source": [
        "options(repr.plot.width = 9, repr.plot.height = 9)\n",
        "i <- res_new$padj < 0.05 & res_new$log_ratio > 0.1\n",
        "table(i)\n",
        "p1 <- vplot(x_MEF[i], 'predicted_counts')\n",
        "i <- res_new$padj < 0.05 & res_new$log_ratio < -0.1\n",
        "table(i)\n",
        "p2 <- vplot(x_MEF[i], 'predicted_counts')\n",
        "p1 / p2"
      ],
      "metadata": {
        "colab": {
          "base_uri": "https://localhost:8080/",
          "height": 741
        },
        "outputId": "906c5a2d-b877-4ab6-efd8-6ed961f49683",
        "id": "Ug3C614LPrIP"
      },
      "execution_count": null,
      "outputs": [
        {
          "output_type": "display_data",
          "data": {
            "text/plain": [
              "i\n",
              "FALSE  TRUE \n",
              "29295  7071 "
            ]
          },
          "metadata": {}
        },
        {
          "output_type": "display_data",
          "data": {
            "text/plain": [
              "i\n",
              "FALSE  TRUE \n",
              "12268 24098 "
            ]
          },
          "metadata": {}
        },
        {
          "output_type": "stream",
          "name": "stderr",
          "text": [
            "Warning message:\n",
            "“Removed 128 rows containing missing values (geom_raster).”\n",
            "Warning message:\n",
            "“Removed 128 rows containing missing values (geom_raster).”\n"
          ]
        },
        {
          "output_type": "display_data",
          "data": {
            "text/plain": [
              "plot without title"
            ],
            "image/png": "[encoded data removed]"
          },
          "metadata": {
            "image/png": {
              "width": 540,
              "height": 540
            }
          }
        }
      ]
    },
    {
      "cell_type": "markdown",
      "metadata": {
        "id": "AVFfpAHaL7u1"
      },
      "source": [
        "### Prepare `noramlizedMatrix` for `EnrichedHeatmap`"
      ]
    },
    {
      "cell_type": "code",
      "source": [
        "cvg <- list()\n",
        "for (i in 1:length(local_bw_files)){\n",
        "  cvg[[names(local_bw_files)[i]]] <- rtracklayer::import(local_bw_files[i], which = res_w)\n",
        "}"
      ],
      "metadata": {
        "id": "4c3T3TdYW1_c"
      },
      "execution_count": null,
      "outputs": []
    },
    {
      "cell_type": "code",
      "metadata": {
        "id": "f-T6tVvJMhZA",
        "colab": {
          "base_uri": "https://localhost:8080/"
        },
        "outputId": "606a7095-8ab6-4365-eda2-4c4d1ca731a7"
      },
      "source": [
        "smooth <- FALSE\n",
        "extend <- ARGS[['heatmap_window_size']] / 2 - ARGS[['target_width']] / 2\n",
        "target_ratio <- 1 / (2 * extend  / ARGS[['target_width']] + 1)\n",
        "sprintf('target_ratio:%.3f', target_ratio) %>% message()"
      ],
      "execution_count": null,
      "outputs": [
        {
          "output_type": "stream",
          "name": "stderr",
          "text": [
            "target_ratio:0.050\n",
            "\n"
          ]
        }
      ]
    },
    {
      "cell_type": "code",
      "source": [
        "is_MEF <- grepl('^MEF_', names(local_bw_files)) | names(local_bw_files) %in% c('MNase', 'H3', 'H3K9me3', 'H3K27me3', 'H3K36me3', 'H3K9ac', 'H3K79me2', 'H3K4me2', 'H3K4me1', 'Hdac1', 'H3.3', 'P300')"
      ],
      "metadata": {
        "id": "VxV0EX5NYI2A"
      },
      "execution_count": null,
      "outputs": []
    },
    {
      "cell_type": "code",
      "source": [
        "mat <- list()"
      ],
      "metadata": {
        "id": "Wp6DkJYGYEFW"
      },
      "execution_count": null,
      "outputs": []
    },
    {
      "cell_type": "code",
      "source": [
        "mat[['MEF']] <- lapply(cvg[is_MEF], function(cvgi){\n",
        "  normalizeToMatrix(\n",
        "    cvgi,\n",
        "    resize(res_w[res_w$group == 'MEF' & (res_w$NOR_NFR | res_w$NFR_NOR)], fix = 'center', width = ARGS[['target_width']]),\n",
        "    extend = extend, \n",
        "    value_column = 'score', \n",
        "    mean_mode = 'w0', \n",
        "    w = 10, \n",
        "    smooth = smooth, \n",
        "    target_ratio = target_ratio\n",
        "  )\n",
        "})"
      ],
      "metadata": {
        "id": "DzF8ln2ZhZ31"
      },
      "execution_count": null,
      "outputs": []
    },
    {
      "cell_type": "code",
      "source": [
        "group_cols <- c(\n",
        "\t'MNase'                             = 'black',\n",
        "\t'H3'                                = 'black',\n",
        "\t'H3K9me3'                           = 'orange',\n",
        "\t'H3K27me3'                          = 'orange',\n",
        "\t'H3K36me3'                          = 'orange',\n",
        "\t'H3K9ac'                            = 'orange',\n",
        "\t'H3K79me2'                          = 'orange',\n",
        "\t'H3K4me2'                           = 'orange',\n",
        "\t'H3K4me1'                           = 'orange',\n",
        "\t'Hdac1'                             = 'black',\n",
        "\t'H3.3'                              = 'black',\n",
        "\t'P300'                              = 'blue'\n",
        ")"
      ],
      "metadata": {
        "id": "Walw9swJaPcH"
      },
      "execution_count": null,
      "outputs": []
    },
    {
      "cell_type": "markdown",
      "source": [
        "### MEF heatmaps"
      ],
      "metadata": {
        "id": "L21rlsTKhms_"
      }
    },
    {
      "cell_type": "code",
      "source": [
        "col_fun <- lapply(names(mat[['MEF']]), function(i) colorRamp2(quantile(mat[['MEF']][[i]], c(0.005, 0.995)), c('white', group_cols[i])))\n",
        "names(col_fun) <- names(mat[['MEF']])"
      ],
      "metadata": {
        "id": "wvPUgfV6hms_"
      },
      "execution_count": null,
      "outputs": []
    },
    {
      "cell_type": "code",
      "source": [
        "sp <- res_w[res_w$group == 'MEF' & (res_w$NOR_NFR | res_w$NFR_NOR)]$NOR_NFR\n",
        "sp <- factor(sp, c(TRUE, FALSE), labels = c('NOR_NFR', 'NFR_NOR'))\n",
        "table(sp)"
      ],
      "metadata": {
        "id": "3hIBffeehms_",
        "colab": {
          "base_uri": "https://localhost:8080/",
          "height": 72
        },
        "outputId": "94ceff55-7eb2-4022-b61b-47364a872796"
      },
      "execution_count": null,
      "outputs": [
        {
          "output_type": "display_data",
          "data": {
            "text/plain": [
              "sp\n",
              "NOR_NFR NFR_NOR \n",
              "  24098    7071 "
            ]
          },
          "metadata": {}
        }
      ]
    },
    {
      "cell_type": "code",
      "source": [
        "saveRDS(res_w, 'Ascl1_res_w.rds')"
      ],
      "metadata": {
        "id": "9vMymWlzPgSV"
      },
      "execution_count": null,
      "outputs": []
    },
    {
      "cell_type": "markdown",
      "source": [
        "## Need to run this section on MSI, requires more RAM"
      ],
      "metadata": {
        "id": "DireEQ3QpTcd"
      }
    },
    {
      "cell_type": "code",
      "source": [
        "lgd <- Legend(\n",
        "  at = c('NOR_NFR', 'NFR_NOR'),\n",
        "  title = \"Clusters\", \n",
        "  type = \"lines\", \n",
        "  legend_gp = gpar(col = 1:2)\n",
        ")\n",
        "ta <- HeatmapAnnotation(\n",
        "  enriched = anno_enriched(\n",
        "    gp = gpar(col = 1:2, lty = 1, lwd = 2),\n",
        "    axis_param = list(facing = 'inside',at = -1000)\n",
        "  )\n",
        ")\n",
        "ht_list <- Heatmap(\n",
        "  as.character(sp), \n",
        "  col = structure(1:2, names = c('NOR_NFR', 'NFR_NOR')),\n",
        "  name = \"partition\",\n",
        "  show_row_names = FALSE, \n",
        "  width = unit(3, \"mm\")\n",
        ") + \n",
        " EnrichedHeatmap(\n",
        "  mat[['MEF']][['MNase']],\n",
        "  col = col_fun[['MNase']],\n",
        "  top_annotation = ta,\n",
        "  pos_line = TRUE,\n",
        "  use_raster=TRUE,\n",
        "  raster_by_magick=TRUE,\n",
        "  name = 'MNase'\n",
        ") + EnrichedHeatmap(\n",
        "  mat[['MEF']][['H3K27me3']],\n",
        "  col = col_fun[['H3K27me3']],\n",
        "  top_annotation = ta,\n",
        "  pos_line = TRUE,\n",
        "  use_raster=TRUE,\n",
        "  raster_by_magick=TRUE,\n",
        "  name = 'H3K27me3'\n",
        ") + EnrichedHeatmap(\n",
        "  mat[['MEF']][['H3K36me3']],\n",
        "  col = col_fun[['H3K36me3']],\n",
        "  top_annotation = ta,\n",
        "  pos_line = TRUE,\n",
        "  use_raster=TRUE,\n",
        "  raster_by_magick=TRUE,\n",
        "  name = 'H3K36me3'\n",
        ") + EnrichedHeatmap(\n",
        "  mat[['MEF']][['H3K9ac']],\n",
        "  col = col_fun[['H3K9ac']],\n",
        "  top_annotation = ta,\n",
        "  pos_line = TRUE,\n",
        "  use_raster=TRUE,\n",
        "  raster_by_magick=TRUE,\n",
        "  name = 'H3K9ac'\n",
        ") + EnrichedHeatmap(\n",
        "  mat[['MEF']][['H3K79me2']],\n",
        "  col = col_fun[['H3K79me2']],\n",
        "  top_annotation = ta,\n",
        "  pos_line = TRUE,\n",
        "  use_raster=TRUE,\n",
        "  raster_by_magick=TRUE,\n",
        "  name = 'H3K79me2'\n",
        ") + EnrichedHeatmap(\n",
        "  mat[['MEF']][['H3K4me2']],\n",
        "  col = col_fun[['H3K4me2']],\n",
        "  top_annotation = ta,\n",
        "  pos_line = TRUE,\n",
        "  use_raster=TRUE,\n",
        "  raster_by_magick=TRUE,\n",
        "  name = 'H3K4me2'\n",
        ") + EnrichedHeatmap(\n",
        "  mat[['MEF']][['H3K4me1']],\n",
        "  col = col_fun[['H3K4me1']],\n",
        "  top_annotation = ta,\n",
        "  pos_line = TRUE,\n",
        "  use_raster=TRUE,\n",
        "  raster_by_magick=TRUE,\n",
        "  name = 'H3K4me1'\n",
        ") + EnrichedHeatmap(\n",
        "  mat[['MEF']][['P300']],\n",
        "  col = col_fun[['P300']],\n",
        "  top_annotation = ta,\n",
        "  pos_line = TRUE,\n",
        "  use_raster=TRUE,\n",
        "  raster_by_magick=TRUE,\n",
        "  name = 'P300'\n",
        ")"
      ],
      "metadata": {
        "id": "oZ9x3yywhms_",
        "colab": {
          "base_uri": "https://localhost:8080/"
        },
        "outputId": "0d40cb16-114f-460b-bcf9-8a10372f6e13"
      },
      "execution_count": null,
      "outputs": [
        {
          "output_type": "stream",
          "name": "stderr",
          "text": [
            "`use_raster` is automatically set to TRUE for a matrix with more than\n",
            "2000 rows. You can control `use_raster` argument by explicitly setting\n",
            "TRUE/FALSE to it.\n",
            "\n",
            "Set `ht_opt$message = FALSE` to turn off this message.\n",
            "\n",
            "`use_raster` is automatically set to TRUE for a matrix with more than\n",
            "2000 rows. You can control `use_raster` argument by explicitly setting\n",
            "TRUE/FALSE to it.\n",
            "\n",
            "Set `ht_opt$message = FALSE` to turn off this message.\n",
            "\n",
            "`use_raster` is automatically set to TRUE for a matrix with more than\n",
            "2000 rows. You can control `use_raster` argument by explicitly setting\n",
            "TRUE/FALSE to it.\n",
            "\n",
            "Set `ht_opt$message = FALSE` to turn off this message.\n",
            "\n",
            "`use_raster` is automatically set to TRUE for a matrix with more than\n",
            "2000 rows. You can control `use_raster` argument by explicitly setting\n",
            "TRUE/FALSE to it.\n",
            "\n",
            "Set `ht_opt$message = FALSE` to turn off this message.\n",
            "\n",
            "`use_raster` is automatically set to TRUE for a matrix with more than\n",
            "2000 rows. You can control `use_raster` argument by explicitly setting\n",
            "TRUE/FALSE to it.\n",
            "\n",
            "Set `ht_opt$message = FALSE` to turn off this message.\n",
            "\n",
            "`use_raster` is automatically set to TRUE for a matrix with more than\n",
            "2000 rows. You can control `use_raster` argument by explicitly setting\n",
            "TRUE/FALSE to it.\n",
            "\n",
            "Set `ht_opt$message = FALSE` to turn off this message.\n",
            "\n",
            "`use_raster` is automatically set to TRUE for a matrix with more than\n",
            "2000 rows. You can control `use_raster` argument by explicitly setting\n",
            "TRUE/FALSE to it.\n",
            "\n",
            "Set `ht_opt$message = FALSE` to turn off this message.\n",
            "\n",
            "`use_raster` is automatically set to TRUE for a matrix with more than\n",
            "2000 rows. You can control `use_raster` argument by explicitly setting\n",
            "TRUE/FALSE to it.\n",
            "\n",
            "Set `ht_opt$message = FALSE` to turn off this message.\n",
            "\n"
          ]
        }
      ]
    },
    {
      "cell_type": "code",
      "source": [
        "pdf(file = \"Ascl1_Enriched_heatmap.pdf\",\n",
        "    width = 10, \n",
        "    height = 6)\n",
        "draw(ht_list, split = sp, annotation_legend_list = list(lgd), heatmap_legend_side = \"bottom\")\n",
        "dev.off()"
      ],
      "metadata": {
        "id": "T8qsv0CHVsMR"
      },
      "execution_count": null,
      "outputs": []
    },
    {
      "cell_type": "code",
      "source": [
        "#options(repr.plot.width = 25, repr.plot.height = 12)\n",
        "#draw(ht_list, split = sp, annotation_legend_list = list(lgd), heatmap_legend_side = \"bottom\")"
      ],
      "metadata": {
        "id": "VfC-9jeZhms_"
      },
      "execution_count": null,
      "outputs": []
    },
    {
      "cell_type": "markdown",
      "source": [
        "## Prepare data for pathway analysis"
      ],
      "metadata": {
        "id": "ucbP1aLrwl8_"
      }
    },
    {
      "cell_type": "code",
      "source": [
        "grl <- list(\n",
        "  MEF_NOR_NFR = granges(res_new[res_new$group == 'MEF' & res_new$NOR_NFR]),\n",
        "  MEF_NFR_NOR = granges(res_new[res_new$group == 'MEF' & res_new$NFR_NOR])\n",
        ")"
      ],
      "metadata": {
        "id": "R69FvM9MxJbS"
      },
      "execution_count": null,
      "outputs": []
    },
    {
      "cell_type": "code",
      "source": [
        "pl <- lapply(grl, function(s) annotatePeak(s, tssRegion = c(-2000, 500),TxDb = TxDb.Mmusculus.UCSC.mm10.knownGene,annoDb = 'org.Mm.eg.db'))"
      ],
      "metadata": {
        "colab": {
          "base_uri": "https://localhost:8080/"
        },
        "id": "BMpGRHrhxq39",
        "outputId": "863c7a23-0c60-4ffc-88de-06126ace9749"
      },
      "execution_count": null,
      "outputs": [
        {
          "output_type": "stream",
          "name": "stdout",
          "text": [
            ">> preparing features information...\t\t 2022-04-01 07:34:10 PM \n",
            ">> identifying nearest features...\t\t 2022-04-01 07:34:11 PM \n",
            ">> calculating distance from peak to TSS...\t 2022-04-01 07:34:11 PM \n",
            ">> assigning genomic annotation...\t\t 2022-04-01 07:34:11 PM \n",
            ">> adding gene annotation...\t\t\t 2022-04-01 07:34:27 PM \n"
          ]
        },
        {
          "output_type": "stream",
          "name": "stderr",
          "text": [
            "'select()' returned 1:many mapping between keys and columns\n",
            "\n"
          ]
        },
        {
          "output_type": "stream",
          "name": "stdout",
          "text": [
            ">> assigning chromosome lengths\t\t\t 2022-04-01 07:34:28 PM \n",
            ">> done...\t\t\t\t\t 2022-04-01 07:34:28 PM \n",
            ">> preparing features information...\t\t 2022-04-01 07:34:28 PM \n",
            ">> identifying nearest features...\t\t 2022-04-01 07:34:28 PM \n",
            ">> calculating distance from peak to TSS...\t 2022-04-01 07:34:28 PM \n",
            ">> assigning genomic annotation...\t\t 2022-04-01 07:34:28 PM \n",
            ">> adding gene annotation...\t\t\t 2022-04-01 07:34:31 PM \n"
          ]
        },
        {
          "output_type": "stream",
          "name": "stderr",
          "text": [
            "'select()' returned 1:many mapping between keys and columns\n",
            "\n"
          ]
        },
        {
          "output_type": "stream",
          "name": "stdout",
          "text": [
            ">> assigning chromosome lengths\t\t\t 2022-04-01 07:34:31 PM \n",
            ">> done...\t\t\t\t\t 2022-04-01 07:34:31 PM \n"
          ]
        }
      ]
    },
    {
      "cell_type": "markdown",
      "source": [
        "## Examine the genomic distribution of NOR->NFR and NFR->NOR groups"
      ],
      "metadata": {
        "id": "XiGgiP-J3Xei"
      }
    },
    {
      "cell_type": "code",
      "source": [
        "options(repr.plot.width = 8, repr.plot.height = 7)\n",
        "plotAnnoBar(pl)"
      ],
      "metadata": {
        "colab": {
          "base_uri": "https://localhost:8080/",
          "height": 437
        },
        "id": "LYpoZDKSxCCv",
        "outputId": "b8b7d1eb-33e2-40af-ce5b-6ab757bcfabe"
      },
      "execution_count": null,
      "outputs": [
        {
          "output_type": "display_data",
          "data": {
            "text/plain": [
              "plot without title"
            ],
            "image/png": "[encoded data removed]"
          },
          "metadata": {
            "image/png": {
              "width": 480,
              "height": 420
            }
          }
        }
      ]
    },
    {
      "cell_type": "code",
      "source": [
        "sp <- lapply(pl, function(xx) unique(as.data.frame(xx)$geneId))\n",
        "lapply(sp,length)"
      ],
      "metadata": {
        "colab": {
          "base_uri": "https://localhost:8080/",
          "height": 114
        },
        "id": "HtD-8iBO3SWU",
        "outputId": "2d0f9125-c675-4b64-b93d-0c7e21a44891"
      },
      "execution_count": null,
      "outputs": [
        {
          "output_type": "display_data",
          "data": {
            "text/html": [
              "<dl>\n",
              "\t<dt>$MEF_NOR_NFR</dt>\n",
              "\t\t<dd>7992</dd>\n",
              "\t<dt>$MEF_NFR_NOR</dt>\n",
              "\t\t<dd>3729</dd>\n",
              "</dl>\n"
            ],
            "text/markdown": "$MEF_NOR_NFR\n:   7992\n$MEF_NFR_NOR\n:   3729\n\n\n",
            "text/latex": "\\begin{description}\n\\item[\\$MEF\\_NOR\\_NFR] 7992\n\\item[\\$MEF\\_NFR\\_NOR] 3729\n\\end{description}\n",
            "text/plain": [
              "$MEF_NOR_NFR\n",
              "[1] 7992\n",
              "\n",
              "$MEF_NFR_NOR\n",
              "[1] 3729\n"
            ]
          },
          "metadata": {}
        }
      ]
    },
    {
      "cell_type": "markdown",
      "source": [
        "## SessionInfo"
      ],
      "metadata": {
        "id": "TRUcghfUpo3a"
      }
    },
    {
      "cell_type": "code",
      "source": [
        "sessionInfo()"
      ],
      "metadata": {
        "id": "xID7mUnopoIS",
        "colab": {
          "base_uri": "https://localhost:8080/",
          "height": 1000
        },
        "outputId": "3c7e9a24-1b5e-4e9d-98b2-9ccfd68ea60f"
      },
      "execution_count": null,
      "outputs": [
        {
          "output_type": "display_data",
          "data": {
            "text/plain": [
              "R version 4.1.3 (2022-03-10)\n",
              "Platform: x86_64-pc-linux-gnu (64-bit)\n",
              "Running under: Ubuntu 18.04.5 LTS\n",
              "\n",
              "Matrix products: default\n",
              "BLAS:   /usr/lib/x86_64-linux-gnu/openblas/libblas.so.3\n",
              "LAPACK: /usr/lib/x86_64-linux-gnu/libopenblasp-r0.2.20.so\n",
              "\n",
              "locale:\n",
              " [1] LC_CTYPE=en_US.UTF-8       LC_NUMERIC=C              \n",
              " [3] LC_TIME=en_US.UTF-8        LC_COLLATE=en_US.UTF-8    \n",
              " [5] LC_MONETARY=en_US.UTF-8    LC_MESSAGES=en_US.UTF-8   \n",
              " [7] LC_PAPER=en_US.UTF-8       LC_NAME=C                 \n",
              " [9] LC_ADDRESS=C               LC_TELEPHONE=C            \n",
              "[11] LC_MEASUREMENT=en_US.UTF-8 LC_IDENTIFICATION=C       \n",
              "\n",
              "attached base packages:\n",
              "[1] grid      stats4    stats     graphics  grDevices utils     datasets \n",
              "[8] methods   base     \n",
              "\n",
              "other attached packages:\n",
              " [1] RColorBrewer_1.1-2                       \n",
              " [2] clusterProfiler_4.2.2                    \n",
              " [3] ChIPseeker_1.30.3                        \n",
              " [4] org.Mm.eg.db_3.14.0                      \n",
              " [5] TxDb.Mmusculus.UCSC.mm10.knownGene_3.10.0\n",
              " [6] GenomicFeatures_1.46.5                   \n",
              " [7] AnnotationDbi_1.56.2                     \n",
              " [8] EnrichedHeatmap_1.24.0                   \n",
              " [9] ComplexHeatmap_2.10.0                    \n",
              "[10] circlize_0.4.14                          \n",
              "[11] ggrepel_0.9.1                            \n",
              "[12] chromVAR_1.16.0                          \n",
              "[13] magick_2.7.3                             \n",
              "[14] ggplot2_3.3.5                            \n",
              "[15] BSgenome.Mmusculus.UCSC.mm10_1.4.3       \n",
              "[16] BSgenome_1.62.0                          \n",
              "[17] rtracklayer_1.54.0                       \n",
              "[18] Biostrings_2.62.0                        \n",
              "[19] XVector_0.34.0                           \n",
              "[20] dplyr_1.0.8                              \n",
              "[21] patchwork_1.1.1                          \n",
              "[22] chromVARmotifs_0.2.0                     \n",
              "[23] motifmatchr_1.16.0                       \n",
              "[24] seatac_0.4.0-010                         \n",
              "[25] SummarizedExperiment_1.24.0              \n",
              "[26] Biobase_2.54.0                           \n",
              "[27] MatrixGenerics_1.6.0                     \n",
              "[28] matrixStats_0.61.0                       \n",
              "[29] GenomicRanges_1.46.1                     \n",
              "[30] GenomeInfoDb_1.30.1                      \n",
              "[31] IRanges_2.28.0                           \n",
              "[32] S4Vectors_0.32.4                         \n",
              "[33] BiocGenerics_0.40.0                      \n",
              "[34] tfdatasets_2.7.0                         \n",
              "[35] tfprobability_0.15.0                     \n",
              "[36] tensorflow_2.8.0                         \n",
              "[37] devtools_2.4.3                           \n",
              "[38] usethis_2.1.5                            \n",
              "\n",
              "loaded via a namespace (and not attached):\n",
              "  [1] rappdirs_0.3.3                         \n",
              "  [2] pbdZMQ_0.3-7                           \n",
              "  [3] R.methodsS3_1.8.1                      \n",
              "  [4] tidyr_1.2.0                            \n",
              "  [5] bit64_4.0.5                            \n",
              "  [6] DelayedArray_0.20.0                    \n",
              "  [7] R.utils_2.11.0                         \n",
              "  [8] data.table_1.14.2                      \n",
              "  [9] KEGGREST_1.34.0                        \n",
              " [10] TFBSTools_1.32.0                       \n",
              " [11] RCurl_1.98-1.6                         \n",
              " [12] doParallel_1.0.17                      \n",
              " [13] generics_0.1.2                         \n",
              " [14] callr_3.7.0                            \n",
              " [15] RSQLite_2.2.11                         \n",
              " [16] shadowtext_0.1.1                       \n",
              " [17] bit_4.0.4                              \n",
              " [18] tzdb_0.3.0                             \n",
              " [19] enrichplot_1.14.2                      \n",
              " [20] xml2_1.3.3                             \n",
              " [21] httpuv_1.6.5                           \n",
              " [22] assertthat_0.2.1                       \n",
              " [23] DirichletMultinomial_1.36.0            \n",
              " [24] viridis_0.6.2                          \n",
              " [25] hms_1.1.1                              \n",
              " [26] evaluate_0.15                          \n",
              " [27] promises_1.2.0.1                       \n",
              " [28] fansi_1.0.3                            \n",
              " [29] restfulr_0.0.13                        \n",
              " [30] progress_1.2.2                         \n",
              " [31] caTools_1.18.2                         \n",
              " [32] dbplyr_2.1.1                           \n",
              " [33] igraph_1.3.0                           \n",
              " [34] DBI_1.1.2                              \n",
              " [35] htmlwidgets_1.5.4                      \n",
              " [36] purrr_0.3.4                            \n",
              " [37] ellipsis_0.3.2                         \n",
              " [38] backports_1.4.1                        \n",
              " [39] annotate_1.72.0                        \n",
              " [40] biomaRt_2.50.3                         \n",
              " [41] vctrs_0.4.0                            \n",
              " [42] here_1.0.1                             \n",
              " [43] remotes_2.4.2                          \n",
              " [44] abind_1.4-5                            \n",
              " [45] cachem_1.0.6                           \n",
              " [46] withr_2.5.0                            \n",
              " [47] ggforce_0.3.3                          \n",
              " [48] GenomicAlignments_1.30.0               \n",
              " [49] treeio_1.18.1                          \n",
              " [50] prettyunits_1.1.1                      \n",
              " [51] cluster_2.1.2                          \n",
              " [52] DOSE_3.20.1                            \n",
              " [53] ape_5.6-2                              \n",
              " [54] IRdisplay_1.1                          \n",
              " [55] lazyeval_0.2.2                         \n",
              " [56] seqLogo_1.60.0                         \n",
              " [57] crayon_1.5.1                           \n",
              " [58] labeling_0.4.2                         \n",
              " [59] pkgconfig_2.0.3                        \n",
              " [60] tweenr_1.0.2                           \n",
              " [61] nlme_3.1-155                           \n",
              " [62] pkgload_1.2.4                          \n",
              " [63] rlang_1.0.2                            \n",
              " [64] lifecycle_1.0.1                        \n",
              " [65] miniUI_0.1.1.1                         \n",
              " [66] downloader_0.4                         \n",
              " [67] filelock_1.0.2                         \n",
              " [68] BiocFileCache_2.2.1                    \n",
              " [69] rprojroot_2.0.2                        \n",
              " [70] polyclip_1.10-0                        \n",
              " [71] Matrix_1.4-0                           \n",
              " [72] aplot_0.1.3                            \n",
              " [73] IRkernel_1.3                           \n",
              " [74] boot_1.3-28                            \n",
              " [75] base64enc_0.1-3                        \n",
              " [76] whisker_0.4                            \n",
              " [77] GlobalOptions_0.1.2                    \n",
              " [78] processx_3.5.3                         \n",
              " [79] png_0.1-7                              \n",
              " [80] viridisLite_0.4.0                      \n",
              " [81] rjson_0.2.21                           \n",
              " [82] bitops_1.0-7                           \n",
              " [83] R.oo_1.24.0                            \n",
              " [84] KernSmooth_2.23-20                     \n",
              " [85] blob_1.2.2                             \n",
              " [86] shape_1.4.6                            \n",
              " [87] stringr_1.4.0                          \n",
              " [88] qvalue_2.26.0                          \n",
              " [89] readr_2.1.2                            \n",
              " [90] gridGraphics_0.5-1                     \n",
              " [91] CNEr_1.30.0                            \n",
              " [92] scales_1.1.1                           \n",
              " [93] memoise_2.0.1                          \n",
              " [94] magrittr_2.0.3                         \n",
              " [95] plyr_1.8.7                             \n",
              " [96] gplots_3.1.1                           \n",
              " [97] zlibbioc_1.40.0                        \n",
              " [98] compiler_4.1.3                         \n",
              " [99] scatterpie_0.1.7                       \n",
              "[100] BiocIO_1.4.0                           \n",
              "[101] plotrix_3.8-2                          \n",
              "[102] clue_0.3-60                            \n",
              "[103] Rsamtools_2.10.0                       \n",
              "[104] cli_3.2.0                              \n",
              "[105] ps_1.6.0                               \n",
              "[106] MASS_7.3-55                            \n",
              "[107] tidyselect_1.1.2                       \n",
              "[108] stringi_1.7.6                          \n",
              "[109] yaml_2.3.5                             \n",
              "[110] GOSemSim_2.20.0                        \n",
              "[111] locfit_1.5-9.5                         \n",
              "[112] fastmatch_1.1-3                        \n",
              "[113] tools_4.1.3                            \n",
              "[114] parallel_4.1.3                         \n",
              "[115] uuid_1.0-4                             \n",
              "[116] TFMPvalue_0.0.8                        \n",
              "[117] foreach_1.5.2                          \n",
              "[118] TxDb.Hsapiens.UCSC.hg19.knownGene_3.2.2\n",
              "[119] gridExtra_2.3                          \n",
              "[120] farver_2.1.0                           \n",
              "[121] ggraph_2.0.5                           \n",
              "[122] digest_0.6.29                          \n",
              "[123] shiny_1.7.1                            \n",
              "[124] pracma_2.3.8                           \n",
              "[125] Rcpp_1.0.8.3                           \n",
              "[126] tfautograph_0.3.2                      \n",
              "[127] later_1.3.0                            \n",
              "[128] httr_1.4.2                             \n",
              "[129] colorspace_2.0-3                       \n",
              "[130] brio_1.1.3                             \n",
              "[131] XML_3.99-0.9                           \n",
              "[132] fs_1.5.2                               \n",
              "[133] reticulate_1.24                        \n",
              "[134] splines_4.1.3                          \n",
              "[135] yulab.utils_0.0.4                      \n",
              "[136] tidytree_0.3.9                         \n",
              "[137] graphlayouts_0.8.0                     \n",
              "[138] ggplotify_0.1.0                        \n",
              "[139] plotly_4.10.0                          \n",
              "[140] sessioninfo_1.2.2                      \n",
              "[141] xtable_1.8-4                           \n",
              "[142] jsonlite_1.8.0                         \n",
              "[143] ggtree_3.2.1                           \n",
              "[144] poweRlaw_0.70.6                        \n",
              "[145] tidygraph_1.2.0                        \n",
              "[146] zeallot_0.1.0                          \n",
              "[147] keras_2.8.0                            \n",
              "[148] ggfun_0.0.6                            \n",
              "[149] testthat_3.1.2                         \n",
              "[150] R6_2.5.1                               \n",
              "[151] pillar_1.7.0                           \n",
              "[152] htmltools_0.5.2                        \n",
              "[153] mime_0.12                              \n",
              "[154] glue_1.6.2                             \n",
              "[155] fastmap_1.1.0                          \n",
              "[156] DT_0.22                                \n",
              "[157] BiocParallel_1.28.3                    \n",
              "[158] codetools_0.2-18                       \n",
              "[159] fgsea_1.20.0                           \n",
              "[160] pkgbuild_1.3.1                         \n",
              "[161] utf8_1.2.2                             \n",
              "[162] lattice_0.20-45                        \n",
              "[163] tibble_3.1.6                           \n",
              "[164] curl_4.3.2                             \n",
              "[165] tfruns_1.5.0                           \n",
              "[166] gtools_3.9.2                           \n",
              "[167] GO.db_3.14.0                           \n",
              "[168] repr_1.1.4                             \n",
              "[169] desc_1.4.1                             \n",
              "[170] munsell_0.5.0                          \n",
              "[171] DO.db_2.9                              \n",
              "[172] GetoptLong_1.0.5                       \n",
              "[173] GenomeInfoDbData_1.2.7                 \n",
              "[174] iterators_1.0.14                       \n",
              "[175] reshape2_1.4.4                         \n",
              "[176] gtable_0.3.0                           "
            ]
          },
          "metadata": {}
        }
      ]
    },
    {
      "cell_type": "code",
      "metadata": {
        "id": "K5eWUwFJXu2-",
        "colab": {
          "base_uri": "https://localhost:8080/",
          "height": 35
        },
        "outputId": "662acc0a-8c8d-47cb-a970-e86be6dc49ea"
      },
      "source": [
        "Sys.time() - start_time"
      ],
      "execution_count": null,
      "outputs": [
        {
          "output_type": "display_data",
          "data": {
            "text/plain": [
              "Time difference of 1.326232 hours"
            ]
          },
          "metadata": {}
        }
      ]
    }
  ]
}
