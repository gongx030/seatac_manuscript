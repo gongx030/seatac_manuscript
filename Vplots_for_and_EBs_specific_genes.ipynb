{
  "nbformat": 4,
  "nbformat_minor": 0,
  "metadata": {
    "kernelspec": {
      "display_name": "R",
      "language": "R",
      "name": "ir"
    },
    "language_info": {
      "codemirror_mode": "r",
      "file_extension": ".r",
      "mimetype": "text/x-r-source",
      "name": "R",
      "pygments_lexer": "r",
      "version": "3.3.1"
    },
    "colab": {
      "name": "Vplots_for_and_EBs_specific_genes.ipynb",
      "provenance": [],
      "collapsed_sections": [],
      "machine_shape": "hm",
      "include_colab_link": true
    },
    "accelerator": "GPU"
  },
  "cells": [
    {
      "cell_type": "markdown",
      "metadata": {
        "id": "view-in-github",
        "colab_type": "text"
      },
      "source": [
        "<a href=\"https://colab.research.google.com/github/gongx030/seatac_manuscript/blob/main/Vplots_for_and_EBs_specific_genes.ipynb\" target=\"_parent\"><img src=\"https://colab.research.google.com/assets/colab-badge.svg\" alt=\"Open In Colab\"/></a>"
      ]
    },
    {
      "cell_type": "markdown",
      "metadata": {
        "id": "M0jDe-m_5aq4"
      },
      "source": [
        "# Compare MACS2 and SeATAC for detecting differential V-plots of ATAC-seq data between EBs and Flk1+ EBs at day2.5 post Etv2 induction "
      ]
    },
    {
      "cell_type": "markdown",
      "source": [
        "This task runs on SeATAC `v0.4.0`"
      ],
      "metadata": {
        "id": "oi1drasoVjW4"
      }
    },
    {
      "cell_type": "code",
      "metadata": {
        "id": "6OhqEEeZHroa"
      },
      "source": [
        "start_time <- Sys.time()"
      ],
      "execution_count": null,
      "outputs": []
    },
    {
      "cell_type": "markdown",
      "metadata": {
        "id": "obcf6pAcw6TQ"
      },
      "source": [
        "### Install external packages"
      ]
    },
    {
      "cell_type": "code",
      "metadata": {
        "id": "99vS8MZUxApi",
        "colab": {
          "base_uri": "https://localhost:8080/",
          "height": 191
        },
        "outputId": "86e61113-0130-4117-a495-0d2534625040"
      },
      "source": [
        "system('apt-get -q install libgsl-dev', intern = TRUE)"
      ],
      "execution_count": null,
      "outputs": [
        {
          "output_type": "display_data",
          "data": {
            "text/html": [
              "<style>\n",
              ".list-inline {list-style: none; margin:0; padding: 0}\n",
              ".list-inline>li {display: inline-block}\n",
              ".list-inline>li:not(:last-child)::after {content: \"\\00b7\"; padding: 0 .5ex}\n",
              "</style>\n",
              "<ol class=list-inline><li>'Reading package lists...'</li><li>'Building dependency tree...'</li><li>'Reading state information...'</li><li>'The following additional packages will be installed:'</li><li><span style=white-space:pre-wrap>'  libgsl23 libgslcblas0'</span></li><li>'Suggested packages:'</li><li><span style=white-space:pre-wrap>'  gsl-ref-psdoc | gsl-doc-pdf | gsl-doc-info | gsl-ref-html'</span></li><li>'The following NEW packages will be installed:'</li><li><span style=white-space:pre-wrap>'  libgsl-dev libgsl23 libgslcblas0'</span></li><li>'0 upgraded, 3 newly installed, 0 to remove and 39 not upgraded.'</li><li>'Need to get 1,926 kB of archives.'</li><li>'After this operation, 9,474 kB of additional disk space will be used.'</li><li>'Get:1 http://archive.ubuntu.com/ubuntu bionic/universe amd64 libgslcblas0 amd64 2.4+dfsg-6 [79.7 kB]'</li><li>'Get:2 http://archive.ubuntu.com/ubuntu bionic/universe amd64 libgsl23 amd64 2.4+dfsg-6 [823 kB]'</li><li>'Get:3 http://archive.ubuntu.com/ubuntu bionic/universe amd64 libgsl-dev amd64 2.4+dfsg-6 [1,023 kB]'</li><li>'Fetched 1,926 kB in 0s (16.4 MB/s)'</li><li>'Selecting previously unselected package libgslcblas0:amd64.\\r'</li><li>'(Reading database ... \\r(Reading database ... 5%\\r(Reading database ... 10%\\r(Reading database ... 15%\\r(Reading database ... 20%\\r(Reading database ... 25%\\r(Reading database ... 30%\\r(Reading database ... 35%\\r(Reading database ... 40%\\r(Reading database ... 45%\\r(Reading database ... 50%\\r(Reading database ... 55%\\r(Reading database ... 60%\\r(Reading database ... 65%\\r(Reading database ... 70%\\r(Reading database ... 75%\\r(Reading database ... 80%\\r(Reading database ... 85%\\r(Reading database ... 90%\\r(Reading database ... 95%\\r(Reading database ... 100%\\r(Reading database ... 156210 files and directories currently installed.)\\r'</li><li>'Preparing to unpack .../libgslcblas0_2.4+dfsg-6_amd64.deb ...\\r'</li><li>'Unpacking libgslcblas0:amd64 (2.4+dfsg-6) ...\\r'</li><li>'Selecting previously unselected package libgsl23:amd64.\\r'</li><li>'Preparing to unpack .../libgsl23_2.4+dfsg-6_amd64.deb ...\\r'</li><li>'Unpacking libgsl23:amd64 (2.4+dfsg-6) ...\\r'</li><li>'Selecting previously unselected package libgsl-dev.\\r'</li><li>'Preparing to unpack .../libgsl-dev_2.4+dfsg-6_amd64.deb ...\\r'</li><li>'Unpacking libgsl-dev (2.4+dfsg-6) ...\\r'</li><li>'Setting up libgslcblas0:amd64 (2.4+dfsg-6) ...\\r'</li><li>'Setting up libgsl23:amd64 (2.4+dfsg-6) ...\\r'</li><li>'Setting up libgsl-dev (2.4+dfsg-6) ...\\r'</li><li>'Processing triggers for man-db (2.8.3-2ubuntu0.1) ...\\r'</li><li>'Processing triggers for libc-bin (2.27-3ubuntu1.3) ...\\r'</li><li>'/sbin/ldconfig.real: /usr/local/lib/python3.7/dist-packages/ideep4py/lib/libmkldnn.so.0 is not a symbolic link\\r'</li><li>'\\r'</li></ol>\n"
            ],
            "text/markdown": "1. 'Reading package lists...'\n2. 'Building dependency tree...'\n3. 'Reading state information...'\n4. 'The following additional packages will be installed:'\n5. <span style=white-space:pre-wrap>'  libgsl23 libgslcblas0'</span>\n6. 'Suggested packages:'\n7. <span style=white-space:pre-wrap>'  gsl-ref-psdoc | gsl-doc-pdf | gsl-doc-info | gsl-ref-html'</span>\n8. 'The following NEW packages will be installed:'\n9. <span style=white-space:pre-wrap>'  libgsl-dev libgsl23 libgslcblas0'</span>\n10. '0 upgraded, 3 newly installed, 0 to remove and 39 not upgraded.'\n11. 'Need to get 1,926 kB of archives.'\n12. 'After this operation, 9,474 kB of additional disk space will be used.'\n13. 'Get:1 http://archive.ubuntu.com/ubuntu bionic/universe amd64 libgslcblas0 amd64 2.4+dfsg-6 [79.7 kB]'\n14. 'Get:2 http://archive.ubuntu.com/ubuntu bionic/universe amd64 libgsl23 amd64 2.4+dfsg-6 [823 kB]'\n15. 'Get:3 http://archive.ubuntu.com/ubuntu bionic/universe amd64 libgsl-dev amd64 2.4+dfsg-6 [1,023 kB]'\n16. 'Fetched 1,926 kB in 0s (16.4 MB/s)'\n17. 'Selecting previously unselected package libgslcblas0:amd64.\\r'\n18. '(Reading database ... \\r(Reading database ... 5%\\r(Reading database ... 10%\\r(Reading database ... 15%\\r(Reading database ... 20%\\r(Reading database ... 25%\\r(Reading database ... 30%\\r(Reading database ... 35%\\r(Reading database ... 40%\\r(Reading database ... 45%\\r(Reading database ... 50%\\r(Reading database ... 55%\\r(Reading database ... 60%\\r(Reading database ... 65%\\r(Reading database ... 70%\\r(Reading database ... 75%\\r(Reading database ... 80%\\r(Reading database ... 85%\\r(Reading database ... 90%\\r(Reading database ... 95%\\r(Reading database ... 100%\\r(Reading database ... 156210 files and directories currently installed.)\\r'\n19. 'Preparing to unpack .../libgslcblas0_2.4+dfsg-6_amd64.deb ...\\r'\n20. 'Unpacking libgslcblas0:amd64 (2.4+dfsg-6) ...\\r'\n21. 'Selecting previously unselected package libgsl23:amd64.\\r'\n22. 'Preparing to unpack .../libgsl23_2.4+dfsg-6_amd64.deb ...\\r'\n23. 'Unpacking libgsl23:amd64 (2.4+dfsg-6) ...\\r'\n24. 'Selecting previously unselected package libgsl-dev.\\r'\n25. 'Preparing to unpack .../libgsl-dev_2.4+dfsg-6_amd64.deb ...\\r'\n26. 'Unpacking libgsl-dev (2.4+dfsg-6) ...\\r'\n27. 'Setting up libgslcblas0:amd64 (2.4+dfsg-6) ...\\r'\n28. 'Setting up libgsl23:amd64 (2.4+dfsg-6) ...\\r'\n29. 'Setting up libgsl-dev (2.4+dfsg-6) ...\\r'\n30. 'Processing triggers for man-db (2.8.3-2ubuntu0.1) ...\\r'\n31. 'Processing triggers for libc-bin (2.27-3ubuntu1.3) ...\\r'\n32. '/sbin/ldconfig.real: /usr/local/lib/python3.7/dist-packages/ideep4py/lib/libmkldnn.so.0 is not a symbolic link\\r'\n33. '\\r'\n\n\n",
            "text/latex": "\\begin{enumerate*}\n\\item 'Reading package lists...'\n\\item 'Building dependency tree...'\n\\item 'Reading state information...'\n\\item 'The following additional packages will be installed:'\n\\item '  libgsl23 libgslcblas0'\n\\item 'Suggested packages:'\n\\item '  gsl-ref-psdoc \\textbar{} gsl-doc-pdf \\textbar{} gsl-doc-info \\textbar{} gsl-ref-html'\n\\item 'The following NEW packages will be installed:'\n\\item '  libgsl-dev libgsl23 libgslcblas0'\n\\item '0 upgraded, 3 newly installed, 0 to remove and 39 not upgraded.'\n\\item 'Need to get 1,926 kB of archives.'\n\\item 'After this operation, 9,474 kB of additional disk space will be used.'\n\\item 'Get:1 http://archive.ubuntu.com/ubuntu bionic/universe amd64 libgslcblas0 amd64 2.4+dfsg-6 {[}79.7 kB{]}'\n\\item 'Get:2 http://archive.ubuntu.com/ubuntu bionic/universe amd64 libgsl23 amd64 2.4+dfsg-6 {[}823 kB{]}'\n\\item 'Get:3 http://archive.ubuntu.com/ubuntu bionic/universe amd64 libgsl-dev amd64 2.4+dfsg-6 {[}1,023 kB{]}'\n\\item 'Fetched 1,926 kB in 0s (16.4 MB/s)'\n\\item 'Selecting previously unselected package libgslcblas0:amd64.\\textbackslash{}r'\n\\item '(Reading database ... \\textbackslash{}r(Reading database ... 5\\%\\textbackslash{}r(Reading database ... 10\\%\\textbackslash{}r(Reading database ... 15\\%\\textbackslash{}r(Reading database ... 20\\%\\textbackslash{}r(Reading database ... 25\\%\\textbackslash{}r(Reading database ... 30\\%\\textbackslash{}r(Reading database ... 35\\%\\textbackslash{}r(Reading database ... 40\\%\\textbackslash{}r(Reading database ... 45\\%\\textbackslash{}r(Reading database ... 50\\%\\textbackslash{}r(Reading database ... 55\\%\\textbackslash{}r(Reading database ... 60\\%\\textbackslash{}r(Reading database ... 65\\%\\textbackslash{}r(Reading database ... 70\\%\\textbackslash{}r(Reading database ... 75\\%\\textbackslash{}r(Reading database ... 80\\%\\textbackslash{}r(Reading database ... 85\\%\\textbackslash{}r(Reading database ... 90\\%\\textbackslash{}r(Reading database ... 95\\%\\textbackslash{}r(Reading database ... 100\\%\\textbackslash{}r(Reading database ... 156210 files and directories currently installed.)\\textbackslash{}r'\n\\item 'Preparing to unpack .../libgslcblas0\\_2.4+dfsg-6\\_amd64.deb ...\\textbackslash{}r'\n\\item 'Unpacking libgslcblas0:amd64 (2.4+dfsg-6) ...\\textbackslash{}r'\n\\item 'Selecting previously unselected package libgsl23:amd64.\\textbackslash{}r'\n\\item 'Preparing to unpack .../libgsl23\\_2.4+dfsg-6\\_amd64.deb ...\\textbackslash{}r'\n\\item 'Unpacking libgsl23:amd64 (2.4+dfsg-6) ...\\textbackslash{}r'\n\\item 'Selecting previously unselected package libgsl-dev.\\textbackslash{}r'\n\\item 'Preparing to unpack .../libgsl-dev\\_2.4+dfsg-6\\_amd64.deb ...\\textbackslash{}r'\n\\item 'Unpacking libgsl-dev (2.4+dfsg-6) ...\\textbackslash{}r'\n\\item 'Setting up libgslcblas0:amd64 (2.4+dfsg-6) ...\\textbackslash{}r'\n\\item 'Setting up libgsl23:amd64 (2.4+dfsg-6) ...\\textbackslash{}r'\n\\item 'Setting up libgsl-dev (2.4+dfsg-6) ...\\textbackslash{}r'\n\\item 'Processing triggers for man-db (2.8.3-2ubuntu0.1) ...\\textbackslash{}r'\n\\item 'Processing triggers for libc-bin (2.27-3ubuntu1.3) ...\\textbackslash{}r'\n\\item '/sbin/ldconfig.real: /usr/local/lib/python3.7/dist-packages/ideep4py/lib/libmkldnn.so.0 is not a symbolic link\\textbackslash{}r'\n\\item '\\textbackslash{}r'\n\\end{enumerate*}\n",
            "text/plain": [
              " [1] \"Reading package lists...\"                                                                                                                                                                                                                                                                                                                                                                                                                                                                                                                                                                                                                                      \n",
              " [2] \"Building dependency tree...\"                                                                                                                                                                                                                                                                                                                                                                                                                                                                                                                                                                                                                                   \n",
              " [3] \"Reading state information...\"                                                                                                                                                                                                                                                                                                                                                                                                                                                                                                                                                                                                                                  \n",
              " [4] \"The following additional packages will be installed:\"                                                                                                                                                                                                                                                                                                                                                                                                                                                                                                                                                                                                          \n",
              " [5] \"  libgsl23 libgslcblas0\"                                                                                                                                                                                                                                                                                                                                                                                                                                                                                                                                                                                                                                       \n",
              " [6] \"Suggested packages:\"                                                                                                                                                                                                                                                                                                                                                                                                                                                                                                                                                                                                                                           \n",
              " [7] \"  gsl-ref-psdoc | gsl-doc-pdf | gsl-doc-info | gsl-ref-html\"                                                                                                                                                                                                                                                                                                                                                                                                                                                                                                                                                                                                   \n",
              " [8] \"The following NEW packages will be installed:\"                                                                                                                                                                                                                                                                                                                                                                                                                                                                                                                                                                                                                 \n",
              " [9] \"  libgsl-dev libgsl23 libgslcblas0\"                                                                                                                                                                                                                                                                                                                                                                                                                                                                                                                                                                                                                            \n",
              "[10] \"0 upgraded, 3 newly installed, 0 to remove and 39 not upgraded.\"                                                                                                                                                                                                                                                                                                                                                                                                                                                                                                                                                                                               \n",
              "[11] \"Need to get 1,926 kB of archives.\"                                                                                                                                                                                                                                                                                                                                                                                                                                                                                                                                                                                                                             \n",
              "[12] \"After this operation, 9,474 kB of additional disk space will be used.\"                                                                                                                                                                                                                                                                                                                                                                                                                                                                                                                                                                                         \n",
              "[13] \"Get:1 http://archive.ubuntu.com/ubuntu bionic/universe amd64 libgslcblas0 amd64 2.4+dfsg-6 [79.7 kB]\"                                                                                                                                                                                                                                                                                                                                                                                                                                                                                                                                                          \n",
              "[14] \"Get:2 http://archive.ubuntu.com/ubuntu bionic/universe amd64 libgsl23 amd64 2.4+dfsg-6 [823 kB]\"                                                                                                                                                                                                                                                                                                                                                                                                                                                                                                                                                               \n",
              "[15] \"Get:3 http://archive.ubuntu.com/ubuntu bionic/universe amd64 libgsl-dev amd64 2.4+dfsg-6 [1,023 kB]\"                                                                                                                                                                                                                                                                                                                                                                                                                                                                                                                                                           \n",
              "[16] \"Fetched 1,926 kB in 0s (16.4 MB/s)\"                                                                                                                                                                                                                                                                                                                                                                                                                                                                                                                                                                                                                            \n",
              "[17] \"Selecting previously unselected package libgslcblas0:amd64.\\r\"                                                                                                                                                                                                                                                                                                                                                                                                                                                                                                                                                                                                 \n",
              "[18] \"(Reading database ... \\r(Reading database ... 5%\\r(Reading database ... 10%\\r(Reading database ... 15%\\r(Reading database ... 20%\\r(Reading database ... 25%\\r(Reading database ... 30%\\r(Reading database ... 35%\\r(Reading database ... 40%\\r(Reading database ... 45%\\r(Reading database ... 50%\\r(Reading database ... 55%\\r(Reading database ... 60%\\r(Reading database ... 65%\\r(Reading database ... 70%\\r(Reading database ... 75%\\r(Reading database ... 80%\\r(Reading database ... 85%\\r(Reading database ... 90%\\r(Reading database ... 95%\\r(Reading database ... 100%\\r(Reading database ... 156210 files and directories currently installed.)\\r\"\n",
              "[19] \"Preparing to unpack .../libgslcblas0_2.4+dfsg-6_amd64.deb ...\\r\"                                                                                                                                                                                                                                                                                                                                                                                                                                                                                                                                                                                               \n",
              "[20] \"Unpacking libgslcblas0:amd64 (2.4+dfsg-6) ...\\r\"                                                                                                                                                                                                                                                                                                                                                                                                                                                                                                                                                                                                               \n",
              "[21] \"Selecting previously unselected package libgsl23:amd64.\\r\"                                                                                                                                                                                                                                                                                                                                                                                                                                                                                                                                                                                                     \n",
              "[22] \"Preparing to unpack .../libgsl23_2.4+dfsg-6_amd64.deb ...\\r\"                                                                                                                                                                                                                                                                                                                                                                                                                                                                                                                                                                                                   \n",
              "[23] \"Unpacking libgsl23:amd64 (2.4+dfsg-6) ...\\r\"                                                                                                                                                                                                                                                                                                                                                                                                                                                                                                                                                                                                                   \n",
              "[24] \"Selecting previously unselected package libgsl-dev.\\r\"                                                                                                                                                                                                                                                                                                                                                                                                                                                                                                                                                                                                         \n",
              "[25] \"Preparing to unpack .../libgsl-dev_2.4+dfsg-6_amd64.deb ...\\r\"                                                                                                                                                                                                                                                                                                                                                                                                                                                                                                                                                                                                 \n",
              "[26] \"Unpacking libgsl-dev (2.4+dfsg-6) ...\\r\"                                                                                                                                                                                                                                                                                                                                                                                                                                                                                                                                                                                                                       \n",
              "[27] \"Setting up libgslcblas0:amd64 (2.4+dfsg-6) ...\\r\"                                                                                                                                                                                                                                                                                                                                                                                                                                                                                                                                                                                                              \n",
              "[28] \"Setting up libgsl23:amd64 (2.4+dfsg-6) ...\\r\"                                                                                                                                                                                                                                                                                                                                                                                                                                                                                                                                                                                                                  \n",
              "[29] \"Setting up libgsl-dev (2.4+dfsg-6) ...\\r\"                                                                                                                                                                                                                                                                                                                                                                                                                                                                                                                                                                                                                      \n",
              "[30] \"Processing triggers for man-db (2.8.3-2ubuntu0.1) ...\\r\"                                                                                                                                                                                                                                                                                                                                                                                                                                                                                                                                                                                                       \n",
              "[31] \"Processing triggers for libc-bin (2.27-3ubuntu1.3) ...\\r\"                                                                                                                                                                                                                                                                                                                                                                                                                                                                                                                                                                                                      \n",
              "[32] \"/sbin/ldconfig.real: /usr/local/lib/python3.7/dist-packages/ideep4py/lib/libmkldnn.so.0 is not a symbolic link\\r\"                                                                                                                                                                                                                                                                                                                                                                                                                                                                                                                                              \n",
              "[33] \"\\r\"                                                                                                                                                                                                                                                                                                                                                                                                                                                                                                                                                                                                                                                            "
            ]
          },
          "metadata": {}
        }
      ]
    },
    {
      "cell_type": "code",
      "metadata": {
        "id": "HgPXAFx1xZHE",
        "colab": {
          "base_uri": "https://localhost:8080/",
          "height": 243
        },
        "outputId": "d39b7c1b-1668-430e-f8c4-200e4e8ad1c0"
      },
      "source": [
        "system('apt-get install libcairo2-dev', intern = TRUE) # for Cairo package that is required by ComplexHeatmap package"
      ],
      "execution_count": null,
      "outputs": [
        {
          "output_type": "display_data",
          "data": {
            "text/html": [
              "<style>\n",
              ".list-inline {list-style: none; margin:0; padding: 0}\n",
              ".list-inline>li {display: inline-block}\n",
              ".list-inline>li:not(:last-child)::after {content: \"\\00b7\"; padding: 0 .5ex}\n",
              "</style>\n",
              "<ol class=list-inline><li>'Reading package lists...'</li><li>'Building dependency tree...'</li><li>'Reading state information...'</li><li>'The following additional packages will be installed:'</li><li><span style=white-space:pre-wrap>'  libcairo-script-interpreter2 libpixman-1-dev libxcb-shm0-dev'</span></li><li>'Suggested packages:'</li><li><span style=white-space:pre-wrap>'  libcairo2-doc'</span></li><li>'The following NEW packages will be installed:'</li><li><span style=white-space:pre-wrap>'  libcairo-script-interpreter2 libcairo2-dev libpixman-1-dev libxcb-shm0-dev'</span></li><li>'0 upgraded, 4 newly installed, 0 to remove and 39 not upgraded.'</li><li>'Need to get 930 kB of archives.'</li><li>'After this operation, 3,986 kB of additional disk space will be used.'</li><li>'Get:1 http://archive.ubuntu.com/ubuntu bionic-updates/main amd64 libcairo-script-interpreter2 amd64 1.15.10-2ubuntu0.1 [53.5 kB]'</li><li>'Get:2 http://archive.ubuntu.com/ubuntu bionic/main amd64 libpixman-1-dev amd64 0.34.0-2 [244 kB]'</li><li>'Get:3 http://archive.ubuntu.com/ubuntu bionic-updates/main amd64 libxcb-shm0-dev amd64 1.13-2~ubuntu18.04 [6,684 B]'</li><li>'Get:4 http://archive.ubuntu.com/ubuntu bionic-updates/main amd64 libcairo2-dev amd64 1.15.10-2ubuntu0.1 [626 kB]'</li><li>'Fetched 930 kB in 0s (9,437 kB/s)'</li><li>'Selecting previously unselected package libcairo-script-interpreter2:amd64.\\r'</li><li>'(Reading database ... \\r(Reading database ... 5%\\r(Reading database ... 10%\\r(Reading database ... 15%\\r(Reading database ... 20%\\r(Reading database ... 25%\\r(Reading database ... 30%\\r(Reading database ... 35%\\r(Reading database ... 40%\\r(Reading database ... 45%\\r(Reading database ... 50%\\r(Reading database ... 55%\\r(Reading database ... 60%\\r(Reading database ... 65%\\r(Reading database ... 70%\\r(Reading database ... 75%\\r(Reading database ... 80%\\r(Reading database ... 85%\\r(Reading database ... 90%\\r(Reading database ... 95%\\r(Reading database ... 100%\\r(Reading database ... 156482 files and directories currently installed.)\\r'</li><li>'Preparing to unpack .../libcairo-script-interpreter2_1.15.10-2ubuntu0.1_amd64.deb ...\\r'</li><li>'Unpacking libcairo-script-interpreter2:amd64 (1.15.10-2ubuntu0.1) ...\\r'</li><li>'Selecting previously unselected package libpixman-1-dev:amd64.\\r'</li><li>'Preparing to unpack .../libpixman-1-dev_0.34.0-2_amd64.deb ...\\r'</li><li>'Unpacking libpixman-1-dev:amd64 (0.34.0-2) ...\\r'</li><li>'Selecting previously unselected package libxcb-shm0-dev:amd64.\\r'</li><li>'Preparing to unpack .../libxcb-shm0-dev_1.13-2~ubuntu18.04_amd64.deb ...\\r'</li><li>'Unpacking libxcb-shm0-dev:amd64 (1.13-2~ubuntu18.04) ...\\r'</li><li>'Selecting previously unselected package libcairo2-dev:amd64.\\r'</li><li>'Preparing to unpack .../libcairo2-dev_1.15.10-2ubuntu0.1_amd64.deb ...\\r'</li><li>'Unpacking libcairo2-dev:amd64 (1.15.10-2ubuntu0.1) ...\\r'</li><li>'Setting up libcairo-script-interpreter2:amd64 (1.15.10-2ubuntu0.1) ...\\r'</li><li>'Setting up libxcb-shm0-dev:amd64 (1.13-2~ubuntu18.04) ...\\r'</li><li>'Setting up libpixman-1-dev:amd64 (0.34.0-2) ...\\r'</li><li>'Setting up libcairo2-dev:amd64 (1.15.10-2ubuntu0.1) ...\\r'</li><li>'Processing triggers for libc-bin (2.27-3ubuntu1.3) ...\\r'</li><li>'/sbin/ldconfig.real: /usr/local/lib/python3.7/dist-packages/ideep4py/lib/libmkldnn.so.0 is not a symbolic link\\r'</li><li>'\\r'</li></ol>\n"
            ],
            "text/markdown": "1. 'Reading package lists...'\n2. 'Building dependency tree...'\n3. 'Reading state information...'\n4. 'The following additional packages will be installed:'\n5. <span style=white-space:pre-wrap>'  libcairo-script-interpreter2 libpixman-1-dev libxcb-shm0-dev'</span>\n6. 'Suggested packages:'\n7. <span style=white-space:pre-wrap>'  libcairo2-doc'</span>\n8. 'The following NEW packages will be installed:'\n9. <span style=white-space:pre-wrap>'  libcairo-script-interpreter2 libcairo2-dev libpixman-1-dev libxcb-shm0-dev'</span>\n10. '0 upgraded, 4 newly installed, 0 to remove and 39 not upgraded.'\n11. 'Need to get 930 kB of archives.'\n12. 'After this operation, 3,986 kB of additional disk space will be used.'\n13. 'Get:1 http://archive.ubuntu.com/ubuntu bionic-updates/main amd64 libcairo-script-interpreter2 amd64 1.15.10-2ubuntu0.1 [53.5 kB]'\n14. 'Get:2 http://archive.ubuntu.com/ubuntu bionic/main amd64 libpixman-1-dev amd64 0.34.0-2 [244 kB]'\n15. 'Get:3 http://archive.ubuntu.com/ubuntu bionic-updates/main amd64 libxcb-shm0-dev amd64 1.13-2~ubuntu18.04 [6,684 B]'\n16. 'Get:4 http://archive.ubuntu.com/ubuntu bionic-updates/main amd64 libcairo2-dev amd64 1.15.10-2ubuntu0.1 [626 kB]'\n17. 'Fetched 930 kB in 0s (9,437 kB/s)'\n18. 'Selecting previously unselected package libcairo-script-interpreter2:amd64.\\r'\n19. '(Reading database ... \\r(Reading database ... 5%\\r(Reading database ... 10%\\r(Reading database ... 15%\\r(Reading database ... 20%\\r(Reading database ... 25%\\r(Reading database ... 30%\\r(Reading database ... 35%\\r(Reading database ... 40%\\r(Reading database ... 45%\\r(Reading database ... 50%\\r(Reading database ... 55%\\r(Reading database ... 60%\\r(Reading database ... 65%\\r(Reading database ... 70%\\r(Reading database ... 75%\\r(Reading database ... 80%\\r(Reading database ... 85%\\r(Reading database ... 90%\\r(Reading database ... 95%\\r(Reading database ... 100%\\r(Reading database ... 156482 files and directories currently installed.)\\r'\n20. 'Preparing to unpack .../libcairo-script-interpreter2_1.15.10-2ubuntu0.1_amd64.deb ...\\r'\n21. 'Unpacking libcairo-script-interpreter2:amd64 (1.15.10-2ubuntu0.1) ...\\r'\n22. 'Selecting previously unselected package libpixman-1-dev:amd64.\\r'\n23. 'Preparing to unpack .../libpixman-1-dev_0.34.0-2_amd64.deb ...\\r'\n24. 'Unpacking libpixman-1-dev:amd64 (0.34.0-2) ...\\r'\n25. 'Selecting previously unselected package libxcb-shm0-dev:amd64.\\r'\n26. 'Preparing to unpack .../libxcb-shm0-dev_1.13-2~ubuntu18.04_amd64.deb ...\\r'\n27. 'Unpacking libxcb-shm0-dev:amd64 (1.13-2~ubuntu18.04) ...\\r'\n28. 'Selecting previously unselected package libcairo2-dev:amd64.\\r'\n29. 'Preparing to unpack .../libcairo2-dev_1.15.10-2ubuntu0.1_amd64.deb ...\\r'\n30. 'Unpacking libcairo2-dev:amd64 (1.15.10-2ubuntu0.1) ...\\r'\n31. 'Setting up libcairo-script-interpreter2:amd64 (1.15.10-2ubuntu0.1) ...\\r'\n32. 'Setting up libxcb-shm0-dev:amd64 (1.13-2~ubuntu18.04) ...\\r'\n33. 'Setting up libpixman-1-dev:amd64 (0.34.0-2) ...\\r'\n34. 'Setting up libcairo2-dev:amd64 (1.15.10-2ubuntu0.1) ...\\r'\n35. 'Processing triggers for libc-bin (2.27-3ubuntu1.3) ...\\r'\n36. '/sbin/ldconfig.real: /usr/local/lib/python3.7/dist-packages/ideep4py/lib/libmkldnn.so.0 is not a symbolic link\\r'\n37. '\\r'\n\n\n",
            "text/latex": "\\begin{enumerate*}\n\\item 'Reading package lists...'\n\\item 'Building dependency tree...'\n\\item 'Reading state information...'\n\\item 'The following additional packages will be installed:'\n\\item '  libcairo-script-interpreter2 libpixman-1-dev libxcb-shm0-dev'\n\\item 'Suggested packages:'\n\\item '  libcairo2-doc'\n\\item 'The following NEW packages will be installed:'\n\\item '  libcairo-script-interpreter2 libcairo2-dev libpixman-1-dev libxcb-shm0-dev'\n\\item '0 upgraded, 4 newly installed, 0 to remove and 39 not upgraded.'\n\\item 'Need to get 930 kB of archives.'\n\\item 'After this operation, 3,986 kB of additional disk space will be used.'\n\\item 'Get:1 http://archive.ubuntu.com/ubuntu bionic-updates/main amd64 libcairo-script-interpreter2 amd64 1.15.10-2ubuntu0.1 {[}53.5 kB{]}'\n\\item 'Get:2 http://archive.ubuntu.com/ubuntu bionic/main amd64 libpixman-1-dev amd64 0.34.0-2 {[}244 kB{]}'\n\\item 'Get:3 http://archive.ubuntu.com/ubuntu bionic-updates/main amd64 libxcb-shm0-dev amd64 1.13-2\\textasciitilde{}ubuntu18.04 {[}6,684 B{]}'\n\\item 'Get:4 http://archive.ubuntu.com/ubuntu bionic-updates/main amd64 libcairo2-dev amd64 1.15.10-2ubuntu0.1 {[}626 kB{]}'\n\\item 'Fetched 930 kB in 0s (9,437 kB/s)'\n\\item 'Selecting previously unselected package libcairo-script-interpreter2:amd64.\\textbackslash{}r'\n\\item '(Reading database ... \\textbackslash{}r(Reading database ... 5\\%\\textbackslash{}r(Reading database ... 10\\%\\textbackslash{}r(Reading database ... 15\\%\\textbackslash{}r(Reading database ... 20\\%\\textbackslash{}r(Reading database ... 25\\%\\textbackslash{}r(Reading database ... 30\\%\\textbackslash{}r(Reading database ... 35\\%\\textbackslash{}r(Reading database ... 40\\%\\textbackslash{}r(Reading database ... 45\\%\\textbackslash{}r(Reading database ... 50\\%\\textbackslash{}r(Reading database ... 55\\%\\textbackslash{}r(Reading database ... 60\\%\\textbackslash{}r(Reading database ... 65\\%\\textbackslash{}r(Reading database ... 70\\%\\textbackslash{}r(Reading database ... 75\\%\\textbackslash{}r(Reading database ... 80\\%\\textbackslash{}r(Reading database ... 85\\%\\textbackslash{}r(Reading database ... 90\\%\\textbackslash{}r(Reading database ... 95\\%\\textbackslash{}r(Reading database ... 100\\%\\textbackslash{}r(Reading database ... 156482 files and directories currently installed.)\\textbackslash{}r'\n\\item 'Preparing to unpack .../libcairo-script-interpreter2\\_1.15.10-2ubuntu0.1\\_amd64.deb ...\\textbackslash{}r'\n\\item 'Unpacking libcairo-script-interpreter2:amd64 (1.15.10-2ubuntu0.1) ...\\textbackslash{}r'\n\\item 'Selecting previously unselected package libpixman-1-dev:amd64.\\textbackslash{}r'\n\\item 'Preparing to unpack .../libpixman-1-dev\\_0.34.0-2\\_amd64.deb ...\\textbackslash{}r'\n\\item 'Unpacking libpixman-1-dev:amd64 (0.34.0-2) ...\\textbackslash{}r'\n\\item 'Selecting previously unselected package libxcb-shm0-dev:amd64.\\textbackslash{}r'\n\\item 'Preparing to unpack .../libxcb-shm0-dev\\_1.13-2\\textasciitilde{}ubuntu18.04\\_amd64.deb ...\\textbackslash{}r'\n\\item 'Unpacking libxcb-shm0-dev:amd64 (1.13-2\\textasciitilde{}ubuntu18.04) ...\\textbackslash{}r'\n\\item 'Selecting previously unselected package libcairo2-dev:amd64.\\textbackslash{}r'\n\\item 'Preparing to unpack .../libcairo2-dev\\_1.15.10-2ubuntu0.1\\_amd64.deb ...\\textbackslash{}r'\n\\item 'Unpacking libcairo2-dev:amd64 (1.15.10-2ubuntu0.1) ...\\textbackslash{}r'\n\\item 'Setting up libcairo-script-interpreter2:amd64 (1.15.10-2ubuntu0.1) ...\\textbackslash{}r'\n\\item 'Setting up libxcb-shm0-dev:amd64 (1.13-2\\textasciitilde{}ubuntu18.04) ...\\textbackslash{}r'\n\\item 'Setting up libpixman-1-dev:amd64 (0.34.0-2) ...\\textbackslash{}r'\n\\item 'Setting up libcairo2-dev:amd64 (1.15.10-2ubuntu0.1) ...\\textbackslash{}r'\n\\item 'Processing triggers for libc-bin (2.27-3ubuntu1.3) ...\\textbackslash{}r'\n\\item '/sbin/ldconfig.real: /usr/local/lib/python3.7/dist-packages/ideep4py/lib/libmkldnn.so.0 is not a symbolic link\\textbackslash{}r'\n\\item '\\textbackslash{}r'\n\\end{enumerate*}\n",
            "text/plain": [
              " [1] \"Reading package lists...\"                                                                                                                                                                                                                                                                                                                                                                                                                                                                                                                                                                                                                                      \n",
              " [2] \"Building dependency tree...\"                                                                                                                                                                                                                                                                                                                                                                                                                                                                                                                                                                                                                                   \n",
              " [3] \"Reading state information...\"                                                                                                                                                                                                                                                                                                                                                                                                                                                                                                                                                                                                                                  \n",
              " [4] \"The following additional packages will be installed:\"                                                                                                                                                                                                                                                                                                                                                                                                                                                                                                                                                                                                          \n",
              " [5] \"  libcairo-script-interpreter2 libpixman-1-dev libxcb-shm0-dev\"                                                                                                                                                                                                                                                                                                                                                                                                                                                                                                                                                                                                \n",
              " [6] \"Suggested packages:\"                                                                                                                                                                                                                                                                                                                                                                                                                                                                                                                                                                                                                                           \n",
              " [7] \"  libcairo2-doc\"                                                                                                                                                                                                                                                                                                                                                                                                                                                                                                                                                                                                                                               \n",
              " [8] \"The following NEW packages will be installed:\"                                                                                                                                                                                                                                                                                                                                                                                                                                                                                                                                                                                                                 \n",
              " [9] \"  libcairo-script-interpreter2 libcairo2-dev libpixman-1-dev libxcb-shm0-dev\"                                                                                                                                                                                                                                                                                                                                                                                                                                                                                                                                                                                  \n",
              "[10] \"0 upgraded, 4 newly installed, 0 to remove and 39 not upgraded.\"                                                                                                                                                                                                                                                                                                                                                                                                                                                                                                                                                                                               \n",
              "[11] \"Need to get 930 kB of archives.\"                                                                                                                                                                                                                                                                                                                                                                                                                                                                                                                                                                                                                               \n",
              "[12] \"After this operation, 3,986 kB of additional disk space will be used.\"                                                                                                                                                                                                                                                                                                                                                                                                                                                                                                                                                                                         \n",
              "[13] \"Get:1 http://archive.ubuntu.com/ubuntu bionic-updates/main amd64 libcairo-script-interpreter2 amd64 1.15.10-2ubuntu0.1 [53.5 kB]\"                                                                                                                                                                                                                                                                                                                                                                                                                                                                                                                              \n",
              "[14] \"Get:2 http://archive.ubuntu.com/ubuntu bionic/main amd64 libpixman-1-dev amd64 0.34.0-2 [244 kB]\"                                                                                                                                                                                                                                                                                                                                                                                                                                                                                                                                                              \n",
              "[15] \"Get:3 http://archive.ubuntu.com/ubuntu bionic-updates/main amd64 libxcb-shm0-dev amd64 1.13-2~ubuntu18.04 [6,684 B]\"                                                                                                                                                                                                                                                                                                                                                                                                                                                                                                                                           \n",
              "[16] \"Get:4 http://archive.ubuntu.com/ubuntu bionic-updates/main amd64 libcairo2-dev amd64 1.15.10-2ubuntu0.1 [626 kB]\"                                                                                                                                                                                                                                                                                                                                                                                                                                                                                                                                              \n",
              "[17] \"Fetched 930 kB in 0s (9,437 kB/s)\"                                                                                                                                                                                                                                                                                                                                                                                                                                                                                                                                                                                                                             \n",
              "[18] \"Selecting previously unselected package libcairo-script-interpreter2:amd64.\\r\"                                                                                                                                                                                                                                                                                                                                                                                                                                                                                                                                                                                 \n",
              "[19] \"(Reading database ... \\r(Reading database ... 5%\\r(Reading database ... 10%\\r(Reading database ... 15%\\r(Reading database ... 20%\\r(Reading database ... 25%\\r(Reading database ... 30%\\r(Reading database ... 35%\\r(Reading database ... 40%\\r(Reading database ... 45%\\r(Reading database ... 50%\\r(Reading database ... 55%\\r(Reading database ... 60%\\r(Reading database ... 65%\\r(Reading database ... 70%\\r(Reading database ... 75%\\r(Reading database ... 80%\\r(Reading database ... 85%\\r(Reading database ... 90%\\r(Reading database ... 95%\\r(Reading database ... 100%\\r(Reading database ... 156482 files and directories currently installed.)\\r\"\n",
              "[20] \"Preparing to unpack .../libcairo-script-interpreter2_1.15.10-2ubuntu0.1_amd64.deb ...\\r\"                                                                                                                                                                                                                                                                                                                                                                                                                                                                                                                                                                       \n",
              "[21] \"Unpacking libcairo-script-interpreter2:amd64 (1.15.10-2ubuntu0.1) ...\\r\"                                                                                                                                                                                                                                                                                                                                                                                                                                                                                                                                                                                       \n",
              "[22] \"Selecting previously unselected package libpixman-1-dev:amd64.\\r\"                                                                                                                                                                                                                                                                                                                                                                                                                                                                                                                                                                                              \n",
              "[23] \"Preparing to unpack .../libpixman-1-dev_0.34.0-2_amd64.deb ...\\r\"                                                                                                                                                                                                                                                                                                                                                                                                                                                                                                                                                                                              \n",
              "[24] \"Unpacking libpixman-1-dev:amd64 (0.34.0-2) ...\\r\"                                                                                                                                                                                                                                                                                                                                                                                                                                                                                                                                                                                                              \n",
              "[25] \"Selecting previously unselected package libxcb-shm0-dev:amd64.\\r\"                                                                                                                                                                                                                                                                                                                                                                                                                                                                                                                                                                                              \n",
              "[26] \"Preparing to unpack .../libxcb-shm0-dev_1.13-2~ubuntu18.04_amd64.deb ...\\r\"                                                                                                                                                                                                                                                                                                                                                                                                                                                                                                                                                                                    \n",
              "[27] \"Unpacking libxcb-shm0-dev:amd64 (1.13-2~ubuntu18.04) ...\\r\"                                                                                                                                                                                                                                                                                                                                                                                                                                                                                                                                                                                                    \n",
              "[28] \"Selecting previously unselected package libcairo2-dev:amd64.\\r\"                                                                                                                                                                                                                                                                                                                                                                                                                                                                                                                                                                                                \n",
              "[29] \"Preparing to unpack .../libcairo2-dev_1.15.10-2ubuntu0.1_amd64.deb ...\\r\"                                                                                                                                                                                                                                                                                                                                                                                                                                                                                                                                                                                      \n",
              "[30] \"Unpacking libcairo2-dev:amd64 (1.15.10-2ubuntu0.1) ...\\r\"                                                                                                                                                                                                                                                                                                                                                                                                                                                                                                                                                                                                      \n",
              "[31] \"Setting up libcairo-script-interpreter2:amd64 (1.15.10-2ubuntu0.1) ...\\r\"                                                                                                                                                                                                                                                                                                                                                                                                                                                                                                                                                                                      \n",
              "[32] \"Setting up libxcb-shm0-dev:amd64 (1.13-2~ubuntu18.04) ...\\r\"                                                                                                                                                                                                                                                                                                                                                                                                                                                                                                                                                                                                   \n",
              "[33] \"Setting up libpixman-1-dev:amd64 (0.34.0-2) ...\\r\"                                                                                                                                                                                                                                                                                                                                                                                                                                                                                                                                                                                                             \n",
              "[34] \"Setting up libcairo2-dev:amd64 (1.15.10-2ubuntu0.1) ...\\r\"                                                                                                                                                                                                                                                                                                                                                                                                                                                                                                                                                                                                     \n",
              "[35] \"Processing triggers for libc-bin (2.27-3ubuntu1.3) ...\\r\"                                                                                                                                                                                                                                                                                                                                                                                                                                                                                                                                                                                                      \n",
              "[36] \"/sbin/ldconfig.real: /usr/local/lib/python3.7/dist-packages/ideep4py/lib/libmkldnn.so.0 is not a symbolic link\\r\"                                                                                                                                                                                                                                                                                                                                                                                                                                                                                                                                              \n",
              "[37] \"\\r\"                                                                                                                                                                                                                                                                                                                                                                                                                                                                                                                                                                                                                                                            "
            ]
          },
          "metadata": {}
        }
      ]
    },
    {
      "cell_type": "markdown",
      "metadata": {
        "id": "uY3cIu62WZd0"
      },
      "source": [
        "### Install R packages from CRAN"
      ]
    },
    {
      "cell_type": "code",
      "metadata": {
        "colab": {
          "base_uri": "https://localhost:8080/"
        },
        "id": "yfBnWIqfWZd0",
        "outputId": "2334854e-f203-4490-aafa-69e15358f7f2"
      },
      "source": [
        "install.packages('BiocManager')"
      ],
      "execution_count": null,
      "outputs": [
        {
          "output_type": "stream",
          "name": "stderr",
          "text": [
            "Installing package into ‘/usr/local/lib/R/site-library’\n",
            "(as ‘lib’ is unspecified)\n",
            "\n"
          ]
        }
      ]
    },
    {
      "cell_type": "code",
      "metadata": {
        "id": "e5KbNCmTWZd0"
      },
      "source": [
        "required_packages <- c(\n",
        "  \"GenomicAlignments\",\n",
        "  'BSgenome.Mmusculus.UCSC.mm10',\n",
        "  'motifmatchr',\n",
        "  'uwot',\n",
        "  'igraph',\n",
        "  'VennDiagram',\n",
        "  'patchwork'\n",
        " )"
      ],
      "execution_count": null,
      "outputs": []
    },
    {
      "cell_type": "code",
      "metadata": {
        "id": "FzhTYT3EWZd0",
        "colab": {
          "base_uri": "https://localhost:8080/"
        },
        "outputId": "d6a5d344-d517-43fd-fba7-2aa4ace51bfb"
      },
      "source": [
        "missing_packages <- required_packages[!required_packages %in% rownames(installed.packages())]\n",
        "if (length(missing_packages) > 0){\n",
        "    BiocManager::install(missing_packages)\n",
        "}"
      ],
      "execution_count": null,
      "outputs": [
        {
          "output_type": "stream",
          "name": "stderr",
          "text": [
            "'getOption(\"repos\")' replaces Bioconductor standard repositories, see\n",
            "'?repositories' for details\n",
            "\n",
            "replacement repositories:\n",
            "    CRAN: https://cran.rstudio.com\n",
            "\n",
            "\n",
            "Bioconductor version 3.14 (BiocManager 1.30.16), R 4.1.3 (2022-03-10)\n",
            "\n",
            "Installing package(s) 'BiocVersion', 'GenomicAlignments',\n",
            "  'BSgenome.Mmusculus.UCSC.mm10', 'motifmatchr', 'uwot', 'igraph',\n",
            "  'VennDiagram', 'patchwork'\n",
            "\n",
            "also installing the dependencies ‘rjson’, ‘plyr’, ‘pracma’, ‘AnnotationDbi’, ‘xtable’, ‘R.oo’, ‘R.methodsS3’, ‘png’, ‘BiocIO’, ‘restfulr’, ‘reshape2’, ‘poweRlaw’, ‘annotate’, ‘GO.db’, ‘R.utils’, ‘KEGGREST’, ‘plogr’, ‘formatR’, ‘RCurl’, ‘GenomeInfoDbData’, ‘XVector’, ‘MatrixGenerics’, ‘Biobase’, ‘DelayedArray’, ‘zlibbioc’, ‘bitops’, ‘Rhtslib’, ‘snow’, ‘BH’, ‘rtracklayer’, ‘matrixStats’, ‘caTools’, ‘CNEr’, ‘DirichletMultinomial’, ‘gtools’, ‘RSQLite’, ‘seqLogo’, ‘TFMPvalue’, ‘XML’, ‘RcppEigen’, ‘sitmo’, ‘lambda.r’, ‘futile.options’, ‘BiocGenerics’, ‘S4Vectors’, ‘IRanges’, ‘GenomeInfoDb’, ‘GenomicRanges’, ‘SummarizedExperiment’, ‘Biostrings’, ‘Rsamtools’, ‘BiocParallel’, ‘BSgenome’, ‘TFBSTools’, ‘RcppArmadillo’, ‘FNN’, ‘RSpectra’, ‘RcppAnnoy’, ‘irlba’, ‘RcppProgress’, ‘dqrng’, ‘futile.logger’\n",
            "\n",
            "\n",
            "Old packages: 'crayon', 'fansi', 'gert', 'knitr', 'magrittr', 'processx',\n",
            "  'RColorBrewer', 'readxl', 'rprojroot', 'sass', 'testthat', 'tinytex', 'tzdb',\n",
            "  'vctrs', 'cluster', 'MASS', 'Matrix', 'mgcv', 'nlme'\n",
            "\n"
          ]
        }
      ]
    },
    {
      "cell_type": "code",
      "metadata": {
        "id": "BMptTKnyWZd1",
        "colab": {
          "base_uri": "https://localhost:8080/"
        },
        "outputId": "ab265e43-1c37-45b9-c921-c9bda1073985"
      },
      "source": [
        "library(devtools)"
      ],
      "execution_count": null,
      "outputs": [
        {
          "output_type": "stream",
          "name": "stderr",
          "text": [
            "Loading required package: usethis\n",
            "\n"
          ]
        }
      ]
    },
    {
      "cell_type": "markdown",
      "metadata": {
        "id": "KHjoODrS2hKo"
      },
      "source": [
        "### Install R packages from github"
      ]
    },
    {
      "cell_type": "code",
      "metadata": {
        "colab": {
          "base_uri": "https://localhost:8080/"
        },
        "id": "30uvd1_Nrpy_",
        "outputId": "1d1680cd-f001-40d7-d913-5ad474e9ddbf"
      },
      "source": [
        "install_github(\"GreenleafLab/chromVARmotifs\")"
      ],
      "execution_count": null,
      "outputs": [
        {
          "output_type": "stream",
          "name": "stderr",
          "text": [
            "Downloading GitHub repo GreenleafLab/chromVARmotifs@HEAD\n",
            "\n"
          ]
        },
        {
          "output_type": "stream",
          "name": "stdout",
          "text": [
            "crayon       (1.5.0 -> 1.5.1) [CRAN]\n",
            "vctrs        (0.3.8 -> 0.4.0) [CRAN]\n",
            "fansi        (1.0.2 -> 1.0.3) [CRAN]\n",
            "magrittr     (2.0.2 -> 2.0.3) [CRAN]\n",
            "RColorBrewer (1.1-2 -> 1.1-3) [CRAN]\n",
            "tzdb         (0.2.0 -> 0.3.0) [CRAN]\n"
          ]
        },
        {
          "output_type": "stream",
          "name": "stderr",
          "text": [
            "Installing 6 packages: crayon, vctrs, fansi, magrittr, RColorBrewer, tzdb\n",
            "\n",
            "Installing packages into ‘/usr/local/lib/R/site-library’\n",
            "(as ‘lib’ is unspecified)\n",
            "\n"
          ]
        },
        {
          "output_type": "stream",
          "name": "stdout",
          "text": [
            "* checking for file ‘/tmp/RtmpGVOZEY/remotes63267a654e/GreenleafLab-chromVARmotifs-38bed55/DESCRIPTION’ ... OK\n",
            "* preparing ‘chromVARmotifs’:\n",
            "* checking DESCRIPTION meta-information ... OK\n",
            "* checking for LF line-endings in source and make files and shell scripts\n",
            "* checking for empty or unneeded directories\n",
            "* building ‘chromVARmotifs_0.2.0.tar.gz’\n",
            "\n"
          ]
        },
        {
          "output_type": "stream",
          "name": "stderr",
          "text": [
            "Installing package into ‘/usr/local/lib/R/site-library’\n",
            "(as ‘lib’ is unspecified)\n",
            "\n"
          ]
        }
      ]
    },
    {
      "cell_type": "markdown",
      "metadata": {
        "id": "FfduHH8aWZd1"
      },
      "source": [
        "### Install `seatac` from github"
      ]
    },
    {
      "cell_type": "code",
      "metadata": {
        "colab": {
          "base_uri": "https://localhost:8080/"
        },
        "id": "6cbnrdk2WZd1",
        "outputId": "5b014955-db1a-4cf1-d815-978243d4a322"
      },
      "source": [
        "install_github('gongx030/seatac', quiet = FALSE, ref = 'v0.4.0') # install from the branch v0.4.0\n",
        "devtools::reload(pkgload::inst(\"seatac\"))\n",
        "library(seatac)"
      ],
      "execution_count": null,
      "outputs": [
        {
          "output_type": "stream",
          "name": "stderr",
          "text": [
            "Downloading GitHub repo gongx030/seatac@v0.4.0\n",
            "\n"
          ]
        },
        {
          "output_type": "stream",
          "name": "stdout",
          "text": [
            "rprojroot    (2.0.2 -> 2.0.3 ) [CRAN]\n",
            "tfautograph  (NA    -> 0.3.2 ) [CRAN]\n",
            "processx     (3.5.2 -> 3.5.3 ) [CRAN]\n",
            "config       (NA    -> 0.3.1 ) [CRAN]\n",
            "here         (NA    -> 1.0.1 ) [CRAN]\n",
            "RcppTOML     (NA    -> 0.1.7 ) [CRAN]\n",
            "zeallot      (NA    -> 0.1.0 ) [CRAN]\n",
            "tfruns       (NA    -> 1.5.0 ) [CRAN]\n",
            "tensorflow   (NA    -> 2.8.0 ) [CRAN]\n",
            "reticulate   (NA    -> 1.24  ) [CRAN]\n",
            "keras        (NA    -> 2.8.0 ) [CRAN]\n",
            "abind        (NA    -> 1.4-5 ) [CRAN]\n",
            "gplots       (NA    -> 3.1.1 ) [CRAN]\n",
            "tfdatasets   (NA    -> 2.7.0 ) [CRAN]\n",
            "tfprobabi... (NA    -> 0.15.0) [CRAN]\n"
          ]
        },
        {
          "output_type": "stream",
          "name": "stderr",
          "text": [
            "Installing 15 packages: rprojroot, tfautograph, processx, config, here, RcppTOML, zeallot, tfruns, tensorflow, reticulate, keras, abind, gplots, tfdatasets, tfprobability\n",
            "\n",
            "Installing packages into ‘/usr/local/lib/R/site-library’\n",
            "(as ‘lib’ is unspecified)\n",
            "\n"
          ]
        },
        {
          "output_type": "stream",
          "name": "stdout",
          "text": [
            "* checking for file ‘/tmp/RtmpGVOZEY/remotes636969d53f/gongx030-seatac-55f9f36/DESCRIPTION’ ... OK\n",
            "* preparing ‘seatac’:\n",
            "* checking DESCRIPTION meta-information ... OK\n",
            "* checking for LF line-endings in source and make files and shell scripts\n",
            "* checking for empty or unneeded directories\n",
            "Omitted ‘LazyData’ from DESCRIPTION\n",
            "* building ‘seatac_0.4.0-010.tar.gz’\n",
            "\n"
          ]
        },
        {
          "output_type": "stream",
          "name": "stderr",
          "text": [
            "Installing package into ‘/usr/local/lib/R/site-library’\n",
            "(as ‘lib’ is unspecified)\n",
            "\n",
            "Loading required package: tensorflow\n",
            "\n",
            "Loading required package: tfprobability\n",
            "\n",
            "Loading required package: tfdatasets\n",
            "\n",
            "Loading required package: GenomicRanges\n",
            "\n",
            "Loading required package: stats4\n",
            "\n",
            "Loading required package: BiocGenerics\n",
            "\n",
            "\n",
            "Attaching package: ‘BiocGenerics’\n",
            "\n",
            "\n",
            "The following objects are masked from ‘package:stats’:\n",
            "\n",
            "    IQR, mad, sd, var, xtabs\n",
            "\n",
            "\n",
            "The following objects are masked from ‘package:base’:\n",
            "\n",
            "    anyDuplicated, append, as.data.frame, basename, cbind, colnames,\n",
            "    dirname, do.call, duplicated, eval, evalq, Filter, Find, get, grep,\n",
            "    grepl, intersect, is.unsorted, lapply, Map, mapply, match, mget,\n",
            "    order, paste, pmax, pmax.int, pmin, pmin.int, Position, rank,\n",
            "    rbind, Reduce, rownames, sapply, setdiff, sort, table, tapply,\n",
            "    union, unique, unsplit, which.max, which.min\n",
            "\n",
            "\n",
            "Loading required package: S4Vectors\n",
            "\n",
            "\n",
            "Attaching package: ‘S4Vectors’\n",
            "\n",
            "\n",
            "The following objects are masked from ‘package:base’:\n",
            "\n",
            "    expand.grid, I, unname\n",
            "\n",
            "\n",
            "Loading required package: IRanges\n",
            "\n",
            "Loading required package: GenomeInfoDb\n",
            "\n",
            "Loading required package: SummarizedExperiment\n",
            "\n",
            "Loading required package: MatrixGenerics\n",
            "\n",
            "Loading required package: matrixStats\n",
            "\n",
            "\n",
            "Attaching package: ‘MatrixGenerics’\n",
            "\n",
            "\n",
            "The following objects are masked from ‘package:matrixStats’:\n",
            "\n",
            "    colAlls, colAnyNAs, colAnys, colAvgsPerRowSet, colCollapse,\n",
            "    colCounts, colCummaxs, colCummins, colCumprods, colCumsums,\n",
            "    colDiffs, colIQRDiffs, colIQRs, colLogSumExps, colMadDiffs,\n",
            "    colMads, colMaxs, colMeans2, colMedians, colMins, colOrderStats,\n",
            "    colProds, colQuantiles, colRanges, colRanks, colSdDiffs, colSds,\n",
            "    colSums2, colTabulates, colVarDiffs, colVars, colWeightedMads,\n",
            "    colWeightedMeans, colWeightedMedians, colWeightedSds,\n",
            "    colWeightedVars, rowAlls, rowAnyNAs, rowAnys, rowAvgsPerColSet,\n",
            "    rowCollapse, rowCounts, rowCummaxs, rowCummins, rowCumprods,\n",
            "    rowCumsums, rowDiffs, rowIQRDiffs, rowIQRs, rowLogSumExps,\n",
            "    rowMadDiffs, rowMads, rowMaxs, rowMeans2, rowMedians, rowMins,\n",
            "    rowOrderStats, rowProds, rowQuantiles, rowRanges, rowRanks,\n",
            "    rowSdDiffs, rowSds, rowSums2, rowTabulates, rowVarDiffs, rowVars,\n",
            "    rowWeightedMads, rowWeightedMeans, rowWeightedMedians,\n",
            "    rowWeightedSds, rowWeightedVars\n",
            "\n",
            "\n",
            "Loading required package: Biobase\n",
            "\n",
            "Welcome to Bioconductor\n",
            "\n",
            "    Vignettes contain introductory material; view with\n",
            "    'browseVignettes()'. To cite Bioconductor, see\n",
            "    'citation(\"Biobase\")', and for packages 'citation(\"pkgname\")'.\n",
            "\n",
            "\n",
            "\n",
            "Attaching package: ‘Biobase’\n",
            "\n",
            "\n",
            "The following object is masked from ‘package:MatrixGenerics’:\n",
            "\n",
            "    rowMedians\n",
            "\n",
            "\n",
            "The following objects are masked from ‘package:matrixStats’:\n",
            "\n",
            "    anyMissing, rowMedians\n",
            "\n",
            "\n",
            "\n",
            "Attaching package: ‘seatac’\n",
            "\n",
            "\n",
            "The following object is masked from ‘package:tfdatasets’:\n",
            "\n",
            "    fit\n",
            "\n",
            "\n",
            "The following object is masked from ‘package:stats’:\n",
            "\n",
            "    predict\n",
            "\n",
            "\n"
          ]
        }
      ]
    },
    {
      "cell_type": "markdown",
      "metadata": {
        "id": "8LRcZG575RIi"
      },
      "source": [
        "### Load R packages"
      ]
    },
    {
      "cell_type": "code",
      "metadata": {
        "id": "xxvI6xd05RIi",
        "colab": {
          "base_uri": "https://localhost:8080/"
        },
        "outputId": "aae7780a-777a-41c2-cfec-e045284670cd"
      },
      "source": [
        "library(BSgenome.Mmusculus.UCSC.mm10)\n",
        "library(dplyr)\n",
        "library(motifmatchr)\n",
        "library(chromVARmotifs)\n",
        "library(igraph)\n",
        "library(VennDiagram)\n",
        "library(ggplot2)\n",
        "library(patchwork)"
      ],
      "execution_count": null,
      "outputs": [
        {
          "output_type": "stream",
          "name": "stderr",
          "text": [
            "Loading required package: BSgenome\n",
            "\n",
            "Loading required package: Biostrings\n",
            "\n",
            "Loading required package: XVector\n",
            "\n",
            "\n",
            "Attaching package: ‘Biostrings’\n",
            "\n",
            "\n",
            "The following object is masked from ‘package:base’:\n",
            "\n",
            "    strsplit\n",
            "\n",
            "\n",
            "Loading required package: rtracklayer\n",
            "\n",
            "\n",
            "Attaching package: ‘dplyr’\n",
            "\n",
            "\n",
            "The following objects are masked from ‘package:Biostrings’:\n",
            "\n",
            "    collapse, intersect, setdiff, setequal, union\n",
            "\n",
            "\n",
            "The following object is masked from ‘package:XVector’:\n",
            "\n",
            "    slice\n",
            "\n",
            "\n",
            "The following object is masked from ‘package:Biobase’:\n",
            "\n",
            "    combine\n",
            "\n",
            "\n",
            "The following object is masked from ‘package:matrixStats’:\n",
            "\n",
            "    count\n",
            "\n",
            "\n",
            "The following objects are masked from ‘package:GenomicRanges’:\n",
            "\n",
            "    intersect, setdiff, union\n",
            "\n",
            "\n",
            "The following object is masked from ‘package:GenomeInfoDb’:\n",
            "\n",
            "    intersect\n",
            "\n",
            "\n",
            "The following objects are masked from ‘package:IRanges’:\n",
            "\n",
            "    collapse, desc, intersect, setdiff, slice, union\n",
            "\n",
            "\n",
            "The following objects are masked from ‘package:S4Vectors’:\n",
            "\n",
            "    first, intersect, rename, setdiff, setequal, union\n",
            "\n",
            "\n",
            "The following objects are masked from ‘package:BiocGenerics’:\n",
            "\n",
            "    combine, intersect, setdiff, union\n",
            "\n",
            "\n",
            "The following objects are masked from ‘package:stats’:\n",
            "\n",
            "    filter, lag\n",
            "\n",
            "\n",
            "The following objects are masked from ‘package:base’:\n",
            "\n",
            "    intersect, setdiff, setequal, union\n",
            "\n",
            "\n",
            "\n",
            "\n",
            "\n",
            "Attaching package: ‘igraph’\n",
            "\n",
            "\n",
            "The following objects are masked from ‘package:dplyr’:\n",
            "\n",
            "    as_data_frame, groups, union\n",
            "\n",
            "\n",
            "The following objects are masked from ‘package:rtracklayer’:\n",
            "\n",
            "    blocks, path\n",
            "\n",
            "\n",
            "The following object is masked from ‘package:Biostrings’:\n",
            "\n",
            "    union\n",
            "\n",
            "\n",
            "The following object is masked from ‘package:XVector’:\n",
            "\n",
            "    path\n",
            "\n",
            "\n",
            "The following object is masked from ‘package:GenomicRanges’:\n",
            "\n",
            "    union\n",
            "\n",
            "\n",
            "The following object is masked from ‘package:IRanges’:\n",
            "\n",
            "    union\n",
            "\n",
            "\n",
            "The following object is masked from ‘package:S4Vectors’:\n",
            "\n",
            "    union\n",
            "\n",
            "\n",
            "The following objects are masked from ‘package:BiocGenerics’:\n",
            "\n",
            "    normalize, path, union\n",
            "\n",
            "\n",
            "The following objects are masked from ‘package:stats’:\n",
            "\n",
            "    decompose, spectrum\n",
            "\n",
            "\n",
            "The following object is masked from ‘package:base’:\n",
            "\n",
            "    union\n",
            "\n",
            "\n",
            "Loading required package: grid\n",
            "\n",
            "\n",
            "Attaching package: ‘grid’\n",
            "\n",
            "\n",
            "The following object is masked from ‘package:Biostrings’:\n",
            "\n",
            "    pattern\n",
            "\n",
            "\n",
            "Loading required package: futile.logger\n",
            "\n"
          ]
        }
      ]
    },
    {
      "cell_type": "markdown",
      "metadata": {
        "id": "j-TPW4ME18Vg"
      },
      "source": [
        "### TensorFlow setup"
      ]
    },
    {
      "cell_type": "code",
      "metadata": {
        "id": "BvMo6o4K18Vh",
        "colab": {
          "base_uri": "https://localhost:8080/"
        },
        "outputId": "7755acca-76b4-48a8-fd9e-b6df276d5b7e"
      },
      "source": [
        "gpus <- tf$config$list_physical_devices('GPU')\n",
        "for (gpu in gpus){\n",
        "  tf$config$experimental$set_memory_growth(gpu, TRUE)\n",
        "}\n",
        "logical_gpus <- tf$config$experimental$list_logical_devices('GPU')\n",
        "sprintf('Physical GPUs: %d', length(gpus)) %>% message()\n",
        "sprintf('Logical GPUs: %d', length(logical_gpus)) %>% message()"
      ],
      "execution_count": null,
      "outputs": [
        {
          "output_type": "stream",
          "name": "stderr",
          "text": [
            "Loaded Tensorflow version 2.8.0\n",
            "\n",
            "Physical GPUs: 1\n",
            "\n",
            "Logical GPUs: 1\n",
            "\n"
          ]
        }
      ]
    },
    {
      "cell_type": "code",
      "metadata": {
        "id": "GfWHODPbHZ0s",
        "colab": {
          "base_uri": "https://localhost:8080/",
          "height": 35
        },
        "outputId": "2b00ecdb-e18e-42fd-c349-dc2fe02c9dc6"
      },
      "source": [
        "Sys.time() - start_time"
      ],
      "execution_count": null,
      "outputs": [
        {
          "output_type": "display_data",
          "data": {
            "text/plain": [
              "Time difference of 25.0648 mins"
            ]
          },
          "metadata": {}
        }
      ]
    },
    {
      "cell_type": "markdown",
      "metadata": {
        "id": "hl2lXOAv9ljx"
      },
      "source": [
        "## Parameters"
      ]
    },
    {
      "cell_type": "code",
      "metadata": {
        "id": "KMfU5_KD9nN9"
      },
      "source": [
        "ARGS <- list(\n",
        "  bin_size = 5L,\n",
        "  fragment_size_range_max = 640L,\n",
        "  fragment_size_interval = 20L,\n",
        "  window_size = 1000L,\n",
        "  block_size = 640L,\n",
        "  sliding_step = 20L,\n",
        "  min_reads = 10L,\n",
        "\n",
        "  vae_num_peaks = 5000L,\n",
        "  vae_latent = c(5L),\n",
        "  vae_filters0 = c(128L),\n",
        "  vae_filters = c(32L),\n",
        "  vae_downsample_layers = 4L,\n",
        "  vae_upsample_layers = 4L,\n",
        "  vae_base_learning_rate = c(1e-2),\n",
        "  vae_epochs = 200L,\n",
        "  vae_beta_schedule_method = c('constant'),\n",
        "  vae_beta0 = 1,\n",
        "  vae_batch_size = c(128L),\n",
        "  vae_warmup_ratio = 0.1,\n",
        "  padjusted_cutoff = 0.05,\n",
        "  log_ratio_cutoff = 0.1,\n",
        "  center_width = 100L # the center width\n",
        ")"
      ],
      "execution_count": null,
      "outputs": []
    },
    {
      "cell_type": "markdown",
      "source": [
        "#EBs"
      ],
      "metadata": {
        "id": "yBMFlKHDoanm"
      }
    },
    {
      "cell_type": "markdown",
      "metadata": {
        "id": "KTlR7IjcYeAI"
      },
      "source": [
        "## Load data"
      ]
    },
    {
      "cell_type": "code",
      "metadata": {
        "id": "4C5C4mrdymmE"
      },
      "source": [
        "remote_bam_files = c(\n",
        " EB_NoDox_D25 = 'https://s3.msi.umn.edu/gongx030/datasets/dataset=Etv2ATAC_version=20190228b/EB_NoDox_D25.bam',\n",
        "  EB_Dox_D25_Flk1pos = 'https://s3.msi.umn.edu/gongx030/datasets/dataset=Etv2ATAC_version=20190228b/EB_Dox_D25_Flk1pos.bam'\n",
        ")\n",
        "for (f in remote_bam_files){\n",
        "  system(sprintf('wget -cx %s', f))\n",
        "}\n",
        "local_bam_files <- gsub('https://', './', remote_bam_files)"
      ],
      "execution_count": null,
      "outputs": []
    },
    {
      "cell_type": "code",
      "metadata": {
        "id": "09ujkOkCyxtv"
      },
      "source": [
        "remote_bed_files <- gsub('.bam', '_summits.bed', remote_bam_files)\n",
        "for (f in remote_bed_files){\n",
        "  system(sprintf('wget -cx %s', f))\n",
        "}\n",
        "local_bed_files <- gsub('https://', './', remote_bed_files)"
      ],
      "execution_count": null,
      "outputs": []
    },
    {
      "cell_type": "markdown",
      "metadata": {
        "id": "pIlGm6CFnr6k"
      },
      "source": [
        "### Read V-plots"
      ]
    },
    {
      "cell_type": "code",
      "metadata": {
        "id": "JnXiPxoSnbMM",
        "colab": {
          "base_uri": "https://localhost:8080/"
        },
        "outputId": "f85a9b69-20e2-4ae0-f40c-fd2822d47cd5"
      },
      "source": [
        "gr0 <- lapply(local_bed_files, function(bed_file){\n",
        "  peaks <- read.table(bed_file, header = FALSE, sep = '\\t')\n",
        "  peaks <- GRanges(seqnames = peaks[, 1], range = IRanges(start = peaks[, 2], end = peaks[, 3]))\n",
        "  peaks <- resize(peaks, fix = 'center', width = 200L)\n",
        "  peaks\n",
        "}) %>%\n",
        "  GRangesList() %>%\n",
        "  coverage() %>%\n",
        "  IRanges::slice(lower = 1, rangesOnly = TRUE) %>%\n",
        "  GRanges() %>%\n",
        "  resize(fix = 'center', width = ARGS[['window_size']])\n",
        "gr0 <- gr0[!seqnames(gr0) %in% c('chrM', 'chrY')]\n",
        "gr <- slidingWindows(gr0, width = ARGS[['block_size']], step = ARGS[['sliding_step']]) %>% unlist()\n",
        "set.seed(1L); gr <- sample(gr, ARGS[['vae_num_peaks']])\n",
        "counts <- count_reads(gr, local_bam_files, genome = BSgenome.Mmusculus.UCSC.mm10,  fragment_size_range = c(0, ARGS[['fragment_size_range_max']]))"
      ],
      "execution_count": null,
      "outputs": [
        {
          "output_type": "stream",
          "name": "stderr",
          "text": [
            "validate_bam | indexing bam files: ./s3.msi.umn.edu/gongx030/datasets/dataset=Etv2ATAC_version=20190228b/EB_NoDox_D25.bam\n",
            "\n",
            "read_bam | reading ./s3.msi.umn.edu/gongx030/datasets/dataset=Etv2ATAC_version=20190228b/EB_NoDox_D25.bam\n",
            "\n",
            "validate_bam | indexing bam files: ./s3.msi.umn.edu/gongx030/datasets/dataset=Etv2ATAC_version=20190228b/EB_Dox_D25_Flk1pos.bam\n",
            "\n",
            "read_bam | reading ./s3.msi.umn.edu/gongx030/datasets/dataset=Etv2ATAC_version=20190228b/EB_Dox_D25_Flk1pos.bam\n",
            "\n"
          ]
        }
      ]
    },
    {
      "cell_type": "code",
      "metadata": {
        "colab": {
          "base_uri": "https://localhost:8080/"
        },
        "id": "999gF9ssDSVk",
        "outputId": "5e7b6e75-f652-4b1a-b9cb-89c63bc95689"
      },
      "source": [
        "valid <- rowSums(counts >= ARGS[['min_reads']]) == length(local_bam_files)\n",
        "gr <- gr[valid]\n",
        "sprintf('number of training peaks for VaeModel: %d', length(gr)) %>% message()\n",
        "x <- read_vplot(gr, filenames = local_bam_files, genome = BSgenome.Mmusculus.UCSC.mm10, bin_size = ARGS[['bin_size']], fragment_size_range = c(0, ARGS[['fragment_size_range_max']]), fragment_size_interval = ARGS[['fragment_size_interval']])"
      ],
      "execution_count": null,
      "outputs": [
        {
          "output_type": "stream",
          "name": "stderr",
          "text": [
            "number of training peaks for VaeModel: 4578\n",
            "\n",
            "read_bam | reading ./s3.msi.umn.edu/gongx030/datasets/dataset=Etv2ATAC_version=20190228b/EB_NoDox_D25.bam\n",
            "\n",
            "read_bam | reading ./s3.msi.umn.edu/gongx030/datasets/dataset=Etv2ATAC_version=20190228b/EB_Dox_D25_Flk1pos.bam\n",
            "\n"
          ]
        }
      ]
    },
    {
      "cell_type": "markdown",
      "metadata": {
        "id": "HcRTNNFJ94xf"
      },
      "source": [
        "### Training VAE model for V-plots"
      ]
    },
    {
      "cell_type": "markdown",
      "source": [
        "As of 1/20/2022, Colab had errors on the first run. Run the cell again will resolve the issue."
      ],
      "metadata": {
        "id": "iuoxZozaIAz3"
      }
    },
    {
      "cell_type": "code",
      "metadata": {
        "id": "BdWzYOndyjhu",
        "colab": {
          "base_uri": "https://localhost:8080/"
        },
        "outputId": "81cf13f0-1711-4744-ca3b-1b6041571f0a"
      },
      "source": [
        "model <- new('VaeModel', model = VaeModel(\n",
        "  n_samples = dim(x)['sample'],\n",
        "  latent_dim = ARGS[['vae_latent']],\n",
        "  block_size = ARGS[['block_size']],\n",
        "  bin_size = ARGS[['bin_size']],\n",
        "  filters0 = ARGS[['vae_filters0']],\n",
        "  filters = ARGS[['vae_filters']],\n",
        "  upsample_layers = ARGS[['vae_upsample_layers']],\n",
        "  downsample_layers = ARGS[['vae_downsample_layers']],\n",
        "  fragment_size_range  = c(0, ARGS[['fragment_size_range_max']]),\n",
        "  fragment_size_interval = ARGS[['fragment_size_interval']]\n",
        "))\n",
        "lr <- WarmUpAndCosineDecay(\n",
        "  base_learning_rate = ARGS[['vae_base_learning_rate']],\n",
        "  num_examples = nrow(x),\n",
        "  batch_size = ARGS[['vae_batch_size']],\n",
        "  epochs = ARGS[['vae_epochs']],\n",
        "  warmup_epochs = as.integer(ARGS[['vae_epochs']] * ARGS[['vae_warmup_ratio']])\n",
        ")\n",
        "beta <- beta_schedule(\n",
        "  method = ARGS[['vae_beta_schedule_method']],\n",
        "  beta0 = ARGS[['vae_beta0']],\n",
        "  epochs = ARGS[['vae_epochs']]\n",
        ")\n",
        "d <- model %>% prepare_data(x)\n",
        "d <- d %>% tensor_slices_dataset()\n",
        "model <- model %>% fit(d, batch_size =  ARGS[['vae_batch_size']], epochs = ARGS[['vae_epochs']], learning_rate = lr, compile = TRUE, beta = beta)"
      ],
      "execution_count": null,
      "outputs": [
        {
          "output_type": "stream",
          "name": "stderr",
          "text": [
            "epoch=     1/   200 | beta=1.000e+00 | loss= 3394.2957086 | loss_reconstruction= 3393.7833049 | loss_kl=    0.5123850\n",
            "\n",
            "epoch=     2/   200 | beta=1.000e+00 | loss= 2768.1549683 | loss_reconstruction= 2767.2422621 | loss_kl=    0.9126834\n",
            "\n",
            "epoch=     3/   200 | beta=1.000e+00 | loss= 2426.4933811 | loss_reconstruction= 2425.0721164 | loss_kl=    1.4212851\n",
            "\n",
            "epoch=     4/   200 | beta=1.000e+00 | loss= 2025.4348077 | loss_reconstruction= 2024.6889648 | loss_kl=    0.7458339\n",
            "\n",
            "epoch=     5/   200 | beta=1.000e+00 | loss= 1496.3942939 | loss_reconstruction= 1495.8885227 | loss_kl=    0.5057661\n",
            "\n",
            "epoch=     6/   200 | beta=1.000e+00 | loss=  962.6030019 | loss_reconstruction=  962.4991167 | loss_kl=    0.1038822\n",
            "\n",
            "epoch=     7/   200 | beta=1.000e+00 | loss=  604.9345924 | loss_reconstruction=  604.8988605 | loss_kl=    0.0357283\n",
            "\n",
            "epoch=     8/   200 | beta=1.000e+00 | loss=  436.2041965 | loss_reconstruction=  436.1489071 | loss_kl=    0.0552864\n",
            "\n",
            "epoch=     9/   200 | beta=1.000e+00 | loss=  366.3773473 | loss_reconstruction=  365.8502740 | loss_kl=    0.5270721\n",
            "\n",
            "epoch=    10/   200 | beta=1.000e+00 | loss=  334.7921719 | loss_reconstruction=  333.6810074 | loss_kl=    1.1111636\n",
            "\n",
            "epoch=    11/   200 | beta=1.000e+00 | loss=  319.6305542 | loss_reconstruction=  317.9908541 | loss_kl=    1.6396998\n",
            "\n",
            "epoch=    12/   200 | beta=1.000e+00 | loss=  311.1435971 | loss_reconstruction=  308.8096458 | loss_kl=    2.3339505\n",
            "\n",
            "epoch=    13/   200 | beta=1.000e+00 | loss=  304.6339544 | loss_reconstruction=  300.7627852 | loss_kl=    3.8711673\n",
            "\n",
            "epoch=    14/   200 | beta=1.000e+00 | loss=  299.0168279 | loss_reconstruction=  294.5362032 | loss_kl=    4.4806261\n",
            "\n",
            "epoch=    15/   200 | beta=1.000e+00 | loss=  295.3189566 | loss_reconstruction=  290.3982353 | loss_kl=    4.9207189\n",
            "\n",
            "epoch=    16/   200 | beta=1.000e+00 | loss=  293.3678881 | loss_reconstruction=  288.2536316 | loss_kl=    5.1142571\n",
            "\n",
            "epoch=    17/   200 | beta=1.000e+00 | loss=  292.3446829 | loss_reconstruction=  287.1242405 | loss_kl=    5.2204445\n",
            "\n",
            "epoch=    18/   200 | beta=1.000e+00 | loss=  291.7221078 | loss_reconstruction=  286.4065933 | loss_kl=    5.3155149\n",
            "\n",
            "epoch=    19/   200 | beta=1.000e+00 | loss=  291.3999040 | loss_reconstruction=  286.0120591 | loss_kl=    5.3878430\n",
            "\n",
            "epoch=    20/   200 | beta=1.000e+00 | loss=  290.8187222 | loss_reconstruction=  285.3772337 | loss_kl=    5.4414891\n",
            "\n",
            "epoch=    21/   200 | beta=1.000e+00 | loss=  290.2602327 | loss_reconstruction=  284.7137689 | loss_kl=    5.5464629\n",
            "\n",
            "epoch=    22/   200 | beta=1.000e+00 | loss=  290.2611716 | loss_reconstruction=  284.6564039 | loss_kl=    5.6047687\n",
            "\n",
            "epoch=    23/   200 | beta=1.000e+00 | loss=  289.2768406 | loss_reconstruction=  283.6214663 | loss_kl=    5.6553751\n",
            "\n",
            "epoch=    24/   200 | beta=1.000e+00 | loss=  288.8978335 | loss_reconstruction=  283.1945173 | loss_kl=    5.7033148\n",
            "\n",
            "epoch=    25/   200 | beta=1.000e+00 | loss=  288.5480321 | loss_reconstruction=  282.7624991 | loss_kl=    5.7855317\n",
            "\n",
            "epoch=    26/   200 | beta=1.000e+00 | loss=  288.4114939 | loss_reconstruction=  282.5999773 | loss_kl=    5.8115144\n",
            "\n",
            "epoch=    27/   200 | beta=1.000e+00 | loss=  288.1761911 | loss_reconstruction=  282.3091134 | loss_kl=    5.8670775\n",
            "\n",
            "epoch=    28/   200 | beta=1.000e+00 | loss=  288.3060125 | loss_reconstruction=  282.3980882 | loss_kl=    5.9079228\n",
            "\n",
            "epoch=    29/   200 | beta=1.000e+00 | loss=  287.9767253 | loss_reconstruction=  282.1058384 | loss_kl=    5.8708861\n",
            "\n",
            "epoch=    30/   200 | beta=1.000e+00 | loss=  287.5316463 | loss_reconstruction=  281.5617426 | loss_kl=    5.9699015\n",
            "\n",
            "epoch=    31/   200 | beta=1.000e+00 | loss=  287.5274200 | loss_reconstruction=  281.5834147 | loss_kl=    5.9440064\n",
            "\n",
            "epoch=    32/   200 | beta=1.000e+00 | loss=  287.6548839 | loss_reconstruction=  281.6469269 | loss_kl=    6.0079594\n",
            "\n",
            "epoch=    33/   200 | beta=1.000e+00 | loss=  287.2316060 | loss_reconstruction=  281.2347162 | loss_kl=    5.9968875\n",
            "\n",
            "epoch=    34/   200 | beta=1.000e+00 | loss=  287.1777051 | loss_reconstruction=  281.1562725 | loss_kl=    6.0214337\n",
            "\n",
            "epoch=    35/   200 | beta=1.000e+00 | loss=  287.2268028 | loss_reconstruction=  281.1939824 | loss_kl=    6.0328199\n",
            "\n",
            "epoch=    36/   200 | beta=1.000e+00 | loss=  287.0781695 | loss_reconstruction=  281.0341780 | loss_kl=    6.0439921\n",
            "\n",
            "epoch=    37/   200 | beta=1.000e+00 | loss=  286.9257011 | loss_reconstruction=  280.8044425 | loss_kl=    6.1212594\n",
            "\n",
            "epoch=    38/   200 | beta=1.000e+00 | loss=  286.8493771 | loss_reconstruction=  280.7514233 | loss_kl=    6.0979549\n",
            "\n",
            "epoch=    39/   200 | beta=1.000e+00 | loss=  286.6535670 | loss_reconstruction=  280.5559574 | loss_kl=    6.0976116\n",
            "\n",
            "epoch=    40/   200 | beta=1.000e+00 | loss=  286.6564865 | loss_reconstruction=  280.5003743 | loss_kl=    6.1561139\n",
            "\n",
            "epoch=    41/   200 | beta=1.000e+00 | loss=  286.5940488 | loss_reconstruction=  280.4351781 | loss_kl=    6.1588690\n",
            "\n",
            "epoch=    42/   200 | beta=1.000e+00 | loss=  286.8881382 | loss_reconstruction=  280.7390667 | loss_kl=    6.1490713\n",
            "\n",
            "epoch=    43/   200 | beta=1.000e+00 | loss=  286.5266024 | loss_reconstruction=  280.3314671 | loss_kl=    6.1951339\n",
            "\n",
            "epoch=    44/   200 | beta=1.000e+00 | loss=  286.3961873 | loss_reconstruction=  280.2200898 | loss_kl=    6.1760987\n",
            "\n",
            "epoch=    45/   200 | beta=1.000e+00 | loss=  286.4251569 | loss_reconstruction=  280.2179883 | loss_kl=    6.2071666\n",
            "\n",
            "epoch=    46/   200 | beta=1.000e+00 | loss=  286.4990561 | loss_reconstruction=  280.3090405 | loss_kl=    6.1900162\n",
            "\n",
            "epoch=    47/   200 | beta=1.000e+00 | loss=  286.5573620 | loss_reconstruction=  280.3545460 | loss_kl=    6.2028138\n",
            "\n",
            "epoch=    48/   200 | beta=1.000e+00 | loss=  286.2014520 | loss_reconstruction=  279.9577048 | loss_kl=    6.2437463\n",
            "\n",
            "epoch=    49/   200 | beta=1.000e+00 | loss=  286.1901622 | loss_reconstruction=  279.9607900 | loss_kl=    6.2293708\n",
            "\n",
            "epoch=    50/   200 | beta=1.000e+00 | loss=  286.0460303 | loss_reconstruction=  279.7519675 | loss_kl=    6.2940635\n",
            "\n",
            "epoch=    51/   200 | beta=1.000e+00 | loss=  286.0169957 | loss_reconstruction=  279.7588654 | loss_kl=    6.2581317\n",
            "\n",
            "epoch=    52/   200 | beta=1.000e+00 | loss=  286.2617018 | loss_reconstruction=  279.9558563 | loss_kl=    6.3058439\n",
            "\n",
            "epoch=    53/   200 | beta=1.000e+00 | loss=  286.0630578 | loss_reconstruction=  279.7676824 | loss_kl=    6.2953746\n",
            "\n",
            "epoch=    54/   200 | beta=1.000e+00 | loss=  285.8937458 | loss_reconstruction=  279.5867551 | loss_kl=    6.3069912\n",
            "\n",
            "epoch=    55/   200 | beta=1.000e+00 | loss=  285.7303492 | loss_reconstruction=  279.3895827 | loss_kl=    6.3407662\n",
            "\n",
            "epoch=    56/   200 | beta=1.000e+00 | loss=  285.8257073 | loss_reconstruction=  279.5068046 | loss_kl=    6.3189007\n",
            "\n",
            "epoch=    57/   200 | beta=1.000e+00 | loss=  285.7225011 | loss_reconstruction=  279.3705372 | loss_kl=    6.3519654\n",
            "\n",
            "epoch=    58/   200 | beta=1.000e+00 | loss=  285.5890554 | loss_reconstruction=  279.2118378 | loss_kl=    6.3772158\n",
            "\n",
            "epoch=    59/   200 | beta=1.000e+00 | loss=  285.4117135 | loss_reconstruction=  279.0508821 | loss_kl=    6.3608333\n",
            "\n",
            "epoch=    60/   200 | beta=1.000e+00 | loss=  285.6154103 | loss_reconstruction=  279.2241872 | loss_kl=    6.3912231\n",
            "\n",
            "epoch=    61/   200 | beta=1.000e+00 | loss=  285.3291533 | loss_reconstruction=  278.9255723 | loss_kl=    6.4035816\n",
            "\n",
            "epoch=    62/   200 | beta=1.000e+00 | loss=  285.2635197 | loss_reconstruction=  278.8360057 | loss_kl=    6.4275144\n",
            "\n",
            "epoch=    63/   200 | beta=1.000e+00 | loss=  285.2002496 | loss_reconstruction=  278.7759577 | loss_kl=    6.4242918\n",
            "\n",
            "epoch=    64/   200 | beta=1.000e+00 | loss=  285.5079269 | loss_reconstruction=  279.1061885 | loss_kl=    6.4017379\n",
            "\n",
            "epoch=    65/   200 | beta=1.000e+00 | loss=  285.2687827 | loss_reconstruction=  278.8670608 | loss_kl=    6.4017234\n",
            "\n",
            "epoch=    66/   200 | beta=1.000e+00 | loss=  285.2847930 | loss_reconstruction=  278.8227743 | loss_kl=    6.4620171\n",
            "\n",
            "epoch=    67/   200 | beta=1.000e+00 | loss=  285.2407362 | loss_reconstruction=  278.7589476 | loss_kl=    6.4817867\n",
            "\n",
            "epoch=    68/   200 | beta=1.000e+00 | loss=  285.0576418 | loss_reconstruction=  278.5332226 | loss_kl=    6.5244187\n",
            "\n",
            "epoch=    69/   200 | beta=1.000e+00 | loss=  285.1398799 | loss_reconstruction=  278.6735975 | loss_kl=    6.4662851\n",
            "\n",
            "epoch=    70/   200 | beta=1.000e+00 | loss=  285.0257178 | loss_reconstruction=  278.5234651 | loss_kl=    6.5022542\n",
            "\n",
            "epoch=    71/   200 | beta=1.000e+00 | loss=  284.9284092 | loss_reconstruction=  278.4053773 | loss_kl=    6.5230305\n",
            "\n",
            "epoch=    72/   200 | beta=1.000e+00 | loss=  284.8329404 | loss_reconstruction=  278.3181979 | loss_kl=    6.5147421\n",
            "\n",
            "epoch=    73/   200 | beta=1.000e+00 | loss=  284.8499620 | loss_reconstruction=  278.3205753 | loss_kl=    6.5293852\n",
            "\n",
            "epoch=    74/   200 | beta=1.000e+00 | loss=  284.9947620 | loss_reconstruction=  278.4338116 | loss_kl=    6.5609526\n",
            "\n",
            "epoch=    75/   200 | beta=1.000e+00 | loss=  284.6588241 | loss_reconstruction=  278.1197005 | loss_kl=    6.5391243\n",
            "\n",
            "epoch=    76/   200 | beta=1.000e+00 | loss=  284.6579556 | loss_reconstruction=  278.1007453 | loss_kl=    6.5572097\n",
            "\n",
            "epoch=    77/   200 | beta=1.000e+00 | loss=  284.5697767 | loss_reconstruction=  277.9877688 | loss_kl=    6.5820083\n",
            "\n",
            "epoch=    78/   200 | beta=1.000e+00 | loss=  284.5522135 | loss_reconstruction=  277.9680015 | loss_kl=    6.5842142\n",
            "\n",
            "epoch=    79/   200 | beta=1.000e+00 | loss=  284.4197951 | loss_reconstruction=  277.8337097 | loss_kl=    6.5860874\n",
            "\n",
            "epoch=    80/   200 | beta=1.000e+00 | loss=  284.4391285 | loss_reconstruction=  277.8452407 | loss_kl=    6.5938879\n",
            "\n",
            "epoch=    81/   200 | beta=1.000e+00 | loss=  284.3326018 | loss_reconstruction=  277.7260064 | loss_kl=    6.6065959\n",
            "\n",
            "epoch=    82/   200 | beta=1.000e+00 | loss=  284.4622862 | loss_reconstruction=  277.8431575 | loss_kl=    6.6191279\n",
            "\n",
            "epoch=    83/   200 | beta=1.000e+00 | loss=  284.2689222 | loss_reconstruction=  277.6032418 | loss_kl=    6.6656790\n",
            "\n",
            "epoch=    84/   200 | beta=1.000e+00 | loss=  284.1960496 | loss_reconstruction=  277.5500145 | loss_kl=    6.6460366\n",
            "\n",
            "epoch=    85/   200 | beta=1.000e+00 | loss=  284.1388075 | loss_reconstruction=  277.4518411 | loss_kl=    6.6869670\n",
            "\n",
            "epoch=    86/   200 | beta=1.000e+00 | loss=  284.1692861 | loss_reconstruction=  277.5299810 | loss_kl=    6.6393083\n",
            "\n",
            "epoch=    87/   200 | beta=1.000e+00 | loss=  284.4845060 | loss_reconstruction=  277.8018833 | loss_kl=    6.6826213\n",
            "\n",
            "epoch=    88/   200 | beta=1.000e+00 | loss=  283.9406865 | loss_reconstruction=  277.2237672 | loss_kl=    6.7169229\n",
            "\n",
            "epoch=    89/   200 | beta=1.000e+00 | loss=  284.0088136 | loss_reconstruction=  277.3076223 | loss_kl=    6.7011907\n",
            "\n",
            "epoch=    90/   200 | beta=1.000e+00 | loss=  283.9399579 | loss_reconstruction=  277.2141385 | loss_kl=    6.7258182\n",
            "\n",
            "epoch=    91/   200 | beta=1.000e+00 | loss=  283.8976449 | loss_reconstruction=  277.1490139 | loss_kl=    6.7486308\n",
            "\n",
            "epoch=    92/   200 | beta=1.000e+00 | loss=  283.8008130 | loss_reconstruction=  277.0553856 | loss_kl=    6.7454271\n",
            "\n",
            "epoch=    93/   200 | beta=1.000e+00 | loss=  283.6853591 | loss_reconstruction=  276.9349052 | loss_kl=    6.7504530\n",
            "\n",
            "epoch=    94/   200 | beta=1.000e+00 | loss=  283.8568827 | loss_reconstruction=  277.0954352 | loss_kl=    6.7614468\n",
            "\n",
            "epoch=    95/   200 | beta=1.000e+00 | loss=  283.8726514 | loss_reconstruction=  277.0869670 | loss_kl=    6.7856855\n",
            "\n",
            "epoch=    96/   200 | beta=1.000e+00 | loss=  283.4859170 | loss_reconstruction=  276.7060716 | loss_kl=    6.7798439\n",
            "\n",
            "epoch=    97/   200 | beta=1.000e+00 | loss=  283.5408262 | loss_reconstruction=  276.7505044 | loss_kl=    6.7903244\n",
            "\n",
            "epoch=    98/   200 | beta=1.000e+00 | loss=  283.5314806 | loss_reconstruction=  276.7365735 | loss_kl=    6.7949070\n",
            "\n",
            "epoch=    99/   200 | beta=1.000e+00 | loss=  283.5486887 | loss_reconstruction=  276.6817008 | loss_kl=    6.8669882\n",
            "\n",
            "epoch=   100/   200 | beta=1.000e+00 | loss=  283.4390119 | loss_reconstruction=  276.6057735 | loss_kl=    6.8332412\n",
            "\n",
            "epoch=   101/   200 | beta=1.000e+00 | loss=  283.4370181 | loss_reconstruction=  276.6174045 | loss_kl=    6.8196133\n",
            "\n",
            "epoch=   102/   200 | beta=1.000e+00 | loss=  283.3195144 | loss_reconstruction=  276.4546878 | loss_kl=    6.8648270\n",
            "\n",
            "epoch=   103/   200 | beta=1.000e+00 | loss=  283.2039469 | loss_reconstruction=  276.3312463 | loss_kl=    6.8727011\n",
            "\n",
            "epoch=   104/   200 | beta=1.000e+00 | loss=  283.1656511 | loss_reconstruction=  276.2681190 | loss_kl=    6.8975338\n",
            "\n",
            "epoch=   105/   200 | beta=1.000e+00 | loss=  283.1008169 | loss_reconstruction=  276.2414369 | loss_kl=    6.8593810\n",
            "\n",
            "epoch=   106/   200 | beta=1.000e+00 | loss=  283.1127836 | loss_reconstruction=  276.2312046 | loss_kl=    6.8815790\n",
            "\n",
            "epoch=   107/   200 | beta=1.000e+00 | loss=  283.0576541 | loss_reconstruction=  276.0986688 | loss_kl=    6.9589845\n",
            "\n",
            "epoch=   108/   200 | beta=1.000e+00 | loss=  282.9728720 | loss_reconstruction=  276.0522626 | loss_kl=    6.9206136\n",
            "\n",
            "epoch=   109/   200 | beta=1.000e+00 | loss=  282.8732363 | loss_reconstruction=  275.9612651 | loss_kl=    6.9119708\n",
            "\n",
            "epoch=   110/   200 | beta=1.000e+00 | loss=  282.9180171 | loss_reconstruction=  275.9933616 | loss_kl=    6.9246573\n",
            "\n",
            "epoch=   111/   200 | beta=1.000e+00 | loss=  282.8257730 | loss_reconstruction=  275.8650352 | loss_kl=    6.9607359\n",
            "\n",
            "epoch=   112/   200 | beta=1.000e+00 | loss=  282.8794412 | loss_reconstruction=  275.9269986 | loss_kl=    6.9524422\n",
            "\n",
            "epoch=   113/   200 | beta=1.000e+00 | loss=  282.7191060 | loss_reconstruction=  275.7752597 | loss_kl=    6.9438442\n",
            "\n",
            "epoch=   114/   200 | beta=1.000e+00 | loss=  282.6260020 | loss_reconstruction=  275.6549166 | loss_kl=    6.9710851\n",
            "\n",
            "epoch=   115/   200 | beta=1.000e+00 | loss=  282.6220953 | loss_reconstruction=  275.6309980 | loss_kl=    6.9910981\n",
            "\n",
            "epoch=   116/   200 | beta=1.000e+00 | loss=  282.7154431 | loss_reconstruction=  275.7311584 | loss_kl=    6.9842838\n",
            "\n",
            "epoch=   117/   200 | beta=1.000e+00 | loss=  282.4897393 | loss_reconstruction=  275.4790221 | loss_kl=    7.0107156\n",
            "\n",
            "epoch=   118/   200 | beta=1.000e+00 | loss=  282.5325690 | loss_reconstruction=  275.5014653 | loss_kl=    7.0311053\n",
            "\n",
            "epoch=   119/   200 | beta=1.000e+00 | loss=  282.4602911 | loss_reconstruction=  275.4305149 | loss_kl=    7.0297783\n",
            "\n",
            "epoch=   120/   200 | beta=1.000e+00 | loss=  282.3860482 | loss_reconstruction=  275.3427213 | loss_kl=    7.0433267\n",
            "\n",
            "epoch=   121/   200 | beta=1.000e+00 | loss=  282.3043073 | loss_reconstruction=  275.2320527 | loss_kl=    7.0722542\n",
            "\n",
            "epoch=   122/   200 | beta=1.000e+00 | loss=  282.2750562 | loss_reconstruction=  275.1945055 | loss_kl=    7.0805516\n",
            "\n",
            "epoch=   123/   200 | beta=1.000e+00 | loss=  282.2032878 | loss_reconstruction=  275.1380077 | loss_kl=    7.0652825\n",
            "\n",
            "epoch=   124/   200 | beta=1.000e+00 | loss=  282.2048013 | loss_reconstruction=  275.1085587 | loss_kl=    7.0962431\n",
            "\n",
            "epoch=   125/   200 | beta=1.000e+00 | loss=  282.3229535 | loss_reconstruction=  275.2097499 | loss_kl=    7.1132026\n",
            "\n",
            "epoch=   126/   200 | beta=1.000e+00 | loss=  282.1135661 | loss_reconstruction=  275.0018332 | loss_kl=    7.1117319\n",
            "\n",
            "epoch=   127/   200 | beta=1.000e+00 | loss=  282.0013474 | loss_reconstruction=  274.8745461 | loss_kl=    7.1268003\n",
            "\n",
            "epoch=   128/   200 | beta=1.000e+00 | loss=  281.8451517 | loss_reconstruction=  274.6941817 | loss_kl=    7.1509695\n",
            "\n",
            "epoch=   129/   200 | beta=1.000e+00 | loss=  281.8488871 | loss_reconstruction=  274.7110142 | loss_kl=    7.1378719\n",
            "\n",
            "epoch=   130/   200 | beta=1.000e+00 | loss=  281.8809586 | loss_reconstruction=  274.6917742 | loss_kl=    7.1891861\n",
            "\n",
            "epoch=   131/   200 | beta=1.000e+00 | loss=  281.8091159 | loss_reconstruction=  274.5925424 | loss_kl=    7.2165725\n",
            "\n",
            "epoch=   132/   200 | beta=1.000e+00 | loss=  281.8133439 | loss_reconstruction=  274.6456053 | loss_kl=    7.1677390\n",
            "\n",
            "epoch=   133/   200 | beta=1.000e+00 | loss=  281.6943919 | loss_reconstruction=  274.5099419 | loss_kl=    7.1844524\n",
            "\n",
            "epoch=   134/   200 | beta=1.000e+00 | loss=  281.7412537 | loss_reconstruction=  274.5408304 | loss_kl=    7.2004239\n",
            "\n",
            "epoch=   135/   200 | beta=1.000e+00 | loss=  281.5773866 | loss_reconstruction=  274.3768654 | loss_kl=    7.2005195\n",
            "\n",
            "epoch=   136/   200 | beta=1.000e+00 | loss=  281.5155780 | loss_reconstruction=  274.2579176 | loss_kl=    7.2576591\n",
            "\n",
            "epoch=   137/   200 | beta=1.000e+00 | loss=  281.5653284 | loss_reconstruction=  274.3356692 | loss_kl=    7.2296607\n",
            "\n",
            "epoch=   138/   200 | beta=1.000e+00 | loss=  281.3847546 | loss_reconstruction=  274.1767404 | loss_kl=    7.2080112\n",
            "\n",
            "epoch=   139/   200 | beta=1.000e+00 | loss=  281.3201336 | loss_reconstruction=  274.0238024 | loss_kl=    7.2963332\n",
            "\n",
            "epoch=   140/   200 | beta=1.000e+00 | loss=  281.2873404 | loss_reconstruction=  274.0125427 | loss_kl=    7.2747974\n",
            "\n",
            "epoch=   141/   200 | beta=1.000e+00 | loss=  281.2454300 | loss_reconstruction=  273.9529783 | loss_kl=    7.2924503\n",
            "\n",
            "epoch=   142/   200 | beta=1.000e+00 | loss=  281.1512036 | loss_reconstruction=  273.8467941 | loss_kl=    7.3044095\n",
            "\n",
            "epoch=   143/   200 | beta=1.000e+00 | loss=  281.1919611 | loss_reconstruction=  273.9001189 | loss_kl=    7.2918435\n",
            "\n",
            "epoch=   144/   200 | beta=1.000e+00 | loss=  281.0535825 | loss_reconstruction=  273.7587166 | loss_kl=    7.2948639\n",
            "\n",
            "epoch=   145/   200 | beta=1.000e+00 | loss=  281.1349314 | loss_reconstruction=  273.7988858 | loss_kl=    7.3360454\n",
            "\n",
            "epoch=   146/   200 | beta=1.000e+00 | loss=  281.0469793 | loss_reconstruction=  273.7236159 | loss_kl=    7.3233648\n",
            "\n",
            "epoch=   147/   200 | beta=1.000e+00 | loss=  280.9681316 | loss_reconstruction=  273.5806690 | loss_kl=    7.3874637\n",
            "\n",
            "epoch=   148/   200 | beta=1.000e+00 | loss=  280.8815083 | loss_reconstruction=  273.5355072 | loss_kl=    7.3460013\n",
            "\n",
            "epoch=   149/   200 | beta=1.000e+00 | loss=  280.8562033 | loss_reconstruction=  273.4764129 | loss_kl=    7.3797930\n",
            "\n",
            "epoch=   150/   200 | beta=1.000e+00 | loss=  280.7288089 | loss_reconstruction=  273.3800290 | loss_kl=    7.3487779\n",
            "\n",
            "epoch=   151/   200 | beta=1.000e+00 | loss=  280.7641178 | loss_reconstruction=  273.3752598 | loss_kl=    7.3888569\n",
            "\n",
            "epoch=   152/   200 | beta=1.000e+00 | loss=  280.7249485 | loss_reconstruction=  273.3040369 | loss_kl=    7.4209114\n",
            "\n",
            "epoch=   153/   200 | beta=1.000e+00 | loss=  280.6469875 | loss_reconstruction=  273.2578303 | loss_kl=    7.3891569\n",
            "\n",
            "epoch=   154/   200 | beta=1.000e+00 | loss=  280.6050483 | loss_reconstruction=  273.2159212 | loss_kl=    7.3891273\n",
            "\n",
            "epoch=   155/   200 | beta=1.000e+00 | loss=  280.5567746 | loss_reconstruction=  273.1236148 | loss_kl=    7.4331611\n",
            "\n",
            "epoch=   156/   200 | beta=1.000e+00 | loss=  280.5129013 | loss_reconstruction=  273.0820474 | loss_kl=    7.4308527\n",
            "\n",
            "epoch=   157/   200 | beta=1.000e+00 | loss=  280.5096639 | loss_reconstruction=  273.0102514 | loss_kl=    7.4994108\n",
            "\n",
            "epoch=   158/   200 | beta=1.000e+00 | loss=  280.4478756 | loss_reconstruction=  273.0014657 | loss_kl=    7.4464100\n",
            "\n",
            "epoch=   159/   200 | beta=1.000e+00 | loss=  280.3512281 | loss_reconstruction=  272.8910323 | loss_kl=    7.4601929\n",
            "\n",
            "epoch=   160/   200 | beta=1.000e+00 | loss=  280.3488757 | loss_reconstruction=  272.8878170 | loss_kl=    7.4610584\n",
            "\n",
            "epoch=   161/   200 | beta=1.000e+00 | loss=  280.2872310 | loss_reconstruction=  272.8061604 | loss_kl=    7.4810692\n",
            "\n",
            "epoch=   162/   200 | beta=1.000e+00 | loss=  280.2609914 | loss_reconstruction=  272.7446539 | loss_kl=    7.5163377\n",
            "\n",
            "epoch=   163/   200 | beta=1.000e+00 | loss=  280.1897642 | loss_reconstruction=  272.7158229 | loss_kl=    7.4739404\n",
            "\n",
            "epoch=   164/   200 | beta=1.000e+00 | loss=  280.1449068 | loss_reconstruction=  272.6519313 | loss_kl=    7.4929749\n",
            "\n",
            "epoch=   165/   200 | beta=1.000e+00 | loss=  280.1597294 | loss_reconstruction=  272.6380242 | loss_kl=    7.5217066\n",
            "\n",
            "epoch=   166/   200 | beta=1.000e+00 | loss=  280.1096056 | loss_reconstruction=  272.6341710 | loss_kl=    7.4754368\n",
            "\n",
            "epoch=   167/   200 | beta=1.000e+00 | loss=  280.0488731 | loss_reconstruction=  272.5036596 | loss_kl=    7.5452154\n",
            "\n",
            "epoch=   168/   200 | beta=1.000e+00 | loss=  280.0364681 | loss_reconstruction=  272.5098796 | loss_kl=    7.5265877\n",
            "\n",
            "epoch=   169/   200 | beta=1.000e+00 | loss=  280.0126584 | loss_reconstruction=  272.4916178 | loss_kl=    7.5210384\n",
            "\n",
            "epoch=   170/   200 | beta=1.000e+00 | loss=  279.9258592 | loss_reconstruction=  272.3820398 | loss_kl=    7.5438193\n",
            "\n",
            "epoch=   171/   200 | beta=1.000e+00 | loss=  279.9240367 | loss_reconstruction=  272.3827023 | loss_kl=    7.5413327\n",
            "\n",
            "epoch=   172/   200 | beta=1.000e+00 | loss=  279.8929893 | loss_reconstruction=  272.3262266 | loss_kl=    7.5667622\n",
            "\n",
            "epoch=   173/   200 | beta=1.000e+00 | loss=  279.8606754 | loss_reconstruction=  272.2796525 | loss_kl=    7.5810234\n",
            "\n",
            "epoch=   174/   200 | beta=1.000e+00 | loss=  279.8558545 | loss_reconstruction=  272.3032354 | loss_kl=    7.5526182\n",
            "\n",
            "epoch=   175/   200 | beta=1.000e+00 | loss=  279.7916361 | loss_reconstruction=  272.2011299 | loss_kl=    7.5905040\n",
            "\n",
            "epoch=   176/   200 | beta=1.000e+00 | loss=  279.8136970 | loss_reconstruction=  272.2123201 | loss_kl=    7.6013747\n",
            "\n",
            "epoch=   177/   200 | beta=1.000e+00 | loss=  279.7991672 | loss_reconstruction=  272.2109324 | loss_kl=    7.5882353\n",
            "\n",
            "epoch=   178/   200 | beta=1.000e+00 | loss=  279.7170520 | loss_reconstruction=  272.0798009 | loss_kl=    7.6372506\n",
            "\n",
            "epoch=   179/   200 | beta=1.000e+00 | loss=  279.6789178 | loss_reconstruction=  272.0987218 | loss_kl=    7.5801959\n",
            "\n",
            "epoch=   180/   200 | beta=1.000e+00 | loss=  279.6709620 | loss_reconstruction=  272.1001460 | loss_kl=    7.5708179\n",
            "\n",
            "epoch=   181/   200 | beta=1.000e+00 | loss=  279.6720577 | loss_reconstruction=  272.0478270 | loss_kl=    7.6242304\n",
            "\n",
            "epoch=   182/   200 | beta=1.000e+00 | loss=  279.6436140 | loss_reconstruction=  272.0497975 | loss_kl=    7.5938162\n",
            "\n",
            "epoch=   183/   200 | beta=1.000e+00 | loss=  279.6307954 | loss_reconstruction=  272.0182368 | loss_kl=    7.6125571\n",
            "\n",
            "epoch=   184/   200 | beta=1.000e+00 | loss=  279.5966051 | loss_reconstruction=  272.0076866 | loss_kl=    7.5889191\n",
            "\n",
            "epoch=   185/   200 | beta=1.000e+00 | loss=  279.6285451 | loss_reconstruction=  271.9885512 | loss_kl=    7.6399947\n",
            "\n",
            "epoch=   186/   200 | beta=1.000e+00 | loss=  279.5603481 | loss_reconstruction=  271.9688916 | loss_kl=    7.5914544\n",
            "\n",
            "epoch=   187/   200 | beta=1.000e+00 | loss=  279.5670009 | loss_reconstruction=  271.9825906 | loss_kl=    7.5844084\n",
            "\n",
            "epoch=   188/   200 | beta=1.000e+00 | loss=  279.5479130 | loss_reconstruction=  271.9388347 | loss_kl=    7.6090791\n",
            "\n",
            "epoch=   189/   200 | beta=1.000e+00 | loss=  279.5232349 | loss_reconstruction=  271.8973821 | loss_kl=    7.6258518\n",
            "\n",
            "epoch=   190/   200 | beta=1.000e+00 | loss=  279.5373065 | loss_reconstruction=  271.9282646 | loss_kl=    7.6090426\n",
            "\n",
            "epoch=   191/   200 | beta=1.000e+00 | loss=  279.5368284 | loss_reconstruction=  271.9070062 | loss_kl=    7.6298225\n",
            "\n",
            "epoch=   192/   200 | beta=1.000e+00 | loss=  279.5040754 | loss_reconstruction=  271.8740997 | loss_kl=    7.6299794\n",
            "\n",
            "epoch=   193/   200 | beta=1.000e+00 | loss=  279.5273306 | loss_reconstruction=  271.9063615 | loss_kl=    7.6209711\n",
            "\n",
            "epoch=   194/   200 | beta=1.000e+00 | loss=  279.4691277 | loss_reconstruction=  271.8267818 | loss_kl=    7.6423466\n",
            "\n",
            "epoch=   195/   200 | beta=1.000e+00 | loss=  279.4904107 | loss_reconstruction=  271.8711060 | loss_kl=    7.6193041\n",
            "\n",
            "epoch=   196/   200 | beta=1.000e+00 | loss=  279.4769279 | loss_reconstruction=  271.8499527 | loss_kl=    7.6269762\n",
            "\n",
            "epoch=   197/   200 | beta=1.000e+00 | loss=  279.5352419 | loss_reconstruction=  271.9370418 | loss_kl=    7.5981975\n",
            "\n",
            "epoch=   198/   200 | beta=1.000e+00 | loss=  279.4820985 | loss_reconstruction=  271.8764369 | loss_kl=    7.6056627\n",
            "\n",
            "epoch=   199/   200 | beta=1.000e+00 | loss=  279.4628309 | loss_reconstruction=  271.8414832 | loss_kl=    7.6213509\n",
            "\n",
            "epoch=   200/   200 | beta=1.000e+00 | loss=  279.4952087 | loss_reconstruction=  271.8743846 | loss_kl=    7.6208243\n",
            "\n"
          ]
        }
      ]
    },
    {
      "cell_type": "markdown",
      "metadata": {
        "id": "Tys_iLvnjlun"
      },
      "source": [
        "## Call differential Etv2 motif centric V-plots between MEF and D7 MEF by SeATAC"
      ]
    },
    {
      "cell_type": "markdown",
      "metadata": {
        "id": "HFi3FyWGes3d"
      },
      "source": [
        "### Extract motif centric regions"
      ]
    },
    {
      "cell_type": "code",
      "metadata": {
        "id": "DGqCiI2reZzF"
      },
      "source": [
        "data('homer_pwms') # 321 TF motifs from Homer database"
      ],
      "execution_count": null,
      "outputs": []
    },
    {
      "cell_type": "code",
      "metadata": {
        "id": "pRnZ76W5eh2T",
        "colab": {
          "base_uri": "https://localhost:8080/",
          "height": 54
        },
        "outputId": "025bffb6-37eb-4ef5-fae6-81c1727713e6"
      },
      "source": [
        "j <- 82 # Etv2\n",
        "homer_pwms[j]"
      ],
      "execution_count": null,
      "outputs": [
        {
          "output_type": "display_data",
          "data": {
            "text/plain": [
              "PWMatrixList of length 1\n",
              "names(1): Etv2(ETS)/ES-ER71-ChIP-Seq(GSE59402)/Homer(0.967)"
            ]
          },
          "metadata": {}
        }
      ]
    },
    {
      "cell_type": "code",
      "metadata": {
        "id": "y92NANobehIy"
      },
      "source": [
        "gr <- matchMotifs(homer_pwms[j], gr0, genome = BSgenome.Mmusculus.UCSC.mm10, out = 'positions')[[1]] %>%\n",
        "  resize(width = ARGS[['block_size']], fix = 'center')"
      ],
      "execution_count": null,
      "outputs": []
    },
    {
      "cell_type": "code",
      "metadata": {
        "colab": {
          "base_uri": "https://localhost:8080/"
        },
        "outputId": "6e8ead5a-49dc-49dd-f9ed-5ca30b8e8374",
        "id": "JMolvvp_gqb5"
      },
      "source": [
        "sprintf('number of motif-centric regions: %s', length(gr)) %>% message()"
      ],
      "execution_count": null,
      "outputs": [
        {
          "output_type": "stream",
          "name": "stderr",
          "text": [
            "number of motif-centric regions: 24935\n",
            "\n"
          ]
        }
      ]
    },
    {
      "cell_type": "markdown",
      "metadata": {
        "id": "W1s_MLEnfeNW"
      },
      "source": [
        "### Read V-plots"
      ]
    },
    {
      "cell_type": "code",
      "metadata": {
        "id": "YZKSTzZ0V3gR",
        "colab": {
          "base_uri": "https://localhost:8080/"
        },
        "outputId": "51a5d02c-5247-44ce-cb45-e419b9d3c743"
      },
      "source": [
        "x <- read_vplot(gr, filenames = local_bam_files, genome = BSgenome.Mmusculus.UCSC.mm10, bin_size = ARGS[['bin_size']], fragment_size_range = c(0, ARGS[['fragment_size_range_max']]), fragment_size_interval = ARGS[['fragment_size_interval']])"
      ],
      "execution_count": null,
      "outputs": [
        {
          "output_type": "stream",
          "name": "stderr",
          "text": [
            "read_bam | reading ./s3.msi.umn.edu/gongx030/datasets/dataset=Etv2ATAC_version=20190228b/EB_NoDox_D25.bam\n",
            "\n",
            "read_bam | reading ./s3.msi.umn.edu/gongx030/datasets/dataset=Etv2ATAC_version=20190228b/EB_Dox_D25_Flk1pos.bam\n",
            "\n"
          ]
        }
      ]
    },
    {
      "cell_type": "markdown",
      "metadata": {
        "id": "h6lhLCtYfhqw"
      },
      "source": [
        "### Get the latent representations of the V-plots"
      ]
    },
    {
      "cell_type": "code",
      "metadata": {
        "id": "qnCyKD4iwpFG"
      },
      "source": [
        "x <- model %>% predict(x, batch_size = ARGS[['vae_batch_size']], vplots = TRUE)"
      ],
      "execution_count": null,
      "outputs": []
    },
    {
      "cell_type": "markdown",
      "source": [
        "#Read the regions for Vplots"
      ],
      "metadata": {
        "id": "28_WCAtZ6ZG6"
      }
    },
    {
      "cell_type": "code",
      "source": [
        "remote_res <- c(res = 'https://s3.msi.umn.edu/dsouz072/projects/seatac_project/config/seatac_EB_Etv2/Flk1pos_down_EB_regions.rds')\n",
        "for (f in remote_res){\n",
        "  system(sprintf('wget -cx %s', f))\n",
        "}\n",
        "res <- gsub('https://', './', remote_res)"
      ],
      "metadata": {
        "id": "y7jHZkZYClC2"
      },
      "execution_count": null,
      "outputs": []
    },
    {
      "cell_type": "code",
      "source": [
        "res <- readRDS(res[['res']])"
      ],
      "metadata": {
        "id": "KveFIDUxCuNe"
      },
      "execution_count": null,
      "outputs": []
    },
    {
      "cell_type": "code",
      "metadata": {
        "colab": {
          "base_uri": "https://localhost:8080/"
        },
        "id": "QijS2vz2fJAI",
        "outputId": "ba66c82e-761a-4239-c493-e8f215030469"
      },
      "source": [
        "sprintf('number of motif-centric regions: %s', length(res)) %>% message()"
      ],
      "execution_count": null,
      "outputs": [
        {
          "output_type": "stream",
          "name": "stderr",
          "text": [
            "number of motif-centric regions: 24935\n",
            "\n"
          ]
        }
      ]
    },
    {
      "cell_type": "code",
      "source": [
        "is_signif <- res$padj < 0.05\n",
        "sprintf('# of significantly differential V-plots called by SeATAC: %d', sum(is_signif)) %>% message()"
      ],
      "metadata": {
        "colab": {
          "base_uri": "https://localhost:8080/"
        },
        "id": "aKcjBPE6E9Rb",
        "outputId": "b571be62-eebd-4737-a1e7-8ce025f92180"
      },
      "execution_count": null,
      "outputs": [
        {
          "output_type": "stream",
          "name": "stderr",
          "text": [
            "# of significantly differential V-plots called by SeATAC: 6275\n",
            "\n"
          ]
        }
      ]
    },
    {
      "cell_type": "markdown",
      "source": [
        "#Annotation"
      ],
      "metadata": {
        "id": "eRX5AIsg0DyJ"
      }
    },
    {
      "cell_type": "code",
      "source": [
        "  BiocManager::install(c('TxDb.Mmusculus.UCSC.mm10.knownGene',\n",
        "  'org.Mm.eg.db',\n",
        "  'clusterProfiler'\n",
        " ))"
      ],
      "metadata": {
        "colab": {
          "base_uri": "https://localhost:8080/"
        },
        "id": "pHymgSWZZtow",
        "outputId": "f2dac462-2f7a-4c38-a836-fe3a07f8e393"
      },
      "execution_count": null,
      "outputs": [
        {
          "output_type": "stream",
          "name": "stderr",
          "text": [
            "'getOption(\"repos\")' replaces Bioconductor standard repositories, see\n",
            "'?repositories' for details\n",
            "\n",
            "replacement repositories:\n",
            "    CRAN: https://cran.rstudio.com\n",
            "\n",
            "\n",
            "Bioconductor version 3.14 (BiocManager 1.30.16), R 4.1.3 (2022-03-10)\n",
            "\n",
            "Installing package(s) 'TxDb.Mmusculus.UCSC.mm10.knownGene', 'org.Mm.eg.db',\n",
            "  'clusterProfiler'\n",
            "\n",
            "also installing the dependencies ‘filelock’, ‘gridGraphics’, ‘tweenr’, ‘polyclip’, ‘lazyeval’, ‘BiocFileCache’, ‘gridExtra’, ‘fastmatch’, ‘ggfun’, ‘ggplotify’, ‘ggforce’, ‘ggrepel’, ‘viridis’, ‘tidygraph’, ‘graphlayouts’, ‘ape’, ‘tidytree’, ‘treeio’, ‘biomaRt’, ‘DO.db’, ‘fgsea’, ‘aplot’, ‘ggraph’, ‘scatterpie’, ‘shadowtext’, ‘ggtree’, ‘GenomicFeatures’, ‘downloader’, ‘DOSE’, ‘enrichplot’, ‘GOSemSim’, ‘qvalue’, ‘yulab.utils’\n",
            "\n",
            "\n",
            "Old packages: 'crayon', 'fansi', 'gert', 'knitr', 'magrittr', 'processx',\n",
            "  'RColorBrewer', 'readxl', 'rprojroot', 'sass', 'testthat', 'tinytex', 'tzdb',\n",
            "  'vctrs', 'cluster', 'MASS', 'Matrix', 'mgcv', 'nlme'\n",
            "\n"
          ]
        }
      ]
    },
    {
      "cell_type": "code",
      "source": [
        "devtools::install_github(\"GuangchuangYu/ChIPseeker\")"
      ],
      "metadata": {
        "colab": {
          "base_uri": "https://localhost:8080/"
        },
        "id": "Tal1Qux-ZqHI",
        "outputId": "66b7a6ce-38d5-490d-9625-047869fa5d0c"
      },
      "execution_count": null,
      "outputs": [
        {
          "output_type": "stream",
          "name": "stderr",
          "text": [
            "Downloading GitHub repo GuangchuangYu/ChIPseeker@HEAD\n",
            "\n"
          ]
        },
        {
          "output_type": "stream",
          "name": "stdout",
          "text": [
            "enrichplot   (1.14.2 -> d11b60bb6...) [GitHub]\n",
            "TxDb.Hsap... (NA     -> 3.2.2       ) [CRAN]\n",
            "plotrix      (NA     -> 3.8-2       ) [CRAN]\n"
          ]
        },
        {
          "output_type": "stream",
          "name": "stderr",
          "text": [
            "Installing 2 packages: TxDb.Hsapiens.UCSC.hg19.knownGene, plotrix\n",
            "\n",
            "Installing packages into ‘/usr/local/lib/R/site-library’\n",
            "(as ‘lib’ is unspecified)\n",
            "\n",
            "Downloading GitHub repo GuangchuangYu/enrichplot@HEAD\n",
            "\n"
          ]
        },
        {
          "output_type": "stream",
          "name": "stdout",
          "text": [
            "\n",
            "* checking for file ‘/tmp/RtmpGVOZEY/remotes63c971a68/GuangchuangYu-enrichplot-d11b60b/DESCRIPTION’ ... OK\n",
            "* preparing ‘enrichplot’:\n",
            "* checking DESCRIPTION meta-information ... OK\n",
            "* checking for LF line-endings in source and make files and shell scripts\n",
            "* checking for empty or unneeded directories\n",
            "* building ‘enrichplot_1.13.1.992.tar.gz’\n",
            "\n"
          ]
        },
        {
          "output_type": "stream",
          "name": "stderr",
          "text": [
            "Installing package into ‘/usr/local/lib/R/site-library’\n",
            "(as ‘lib’ is unspecified)\n",
            "\n"
          ]
        },
        {
          "output_type": "stream",
          "name": "stdout",
          "text": [
            "* checking for file ‘/tmp/RtmpGVOZEY/remotes633e228cf/YuLab-SMU-ChIPseeker-5371322/DESCRIPTION’ ... OK\n",
            "* preparing ‘ChIPseeker’:\n",
            "* checking DESCRIPTION meta-information ... OK\n",
            "* checking for LF line-endings in source and make files and shell scripts\n",
            "* checking for empty or unneeded directories\n",
            "* looking to see if a ‘data/datalist’ file should be added\n",
            "* building ‘ChIPseeker_1.31.3.900.tar.gz’\n",
            "\n"
          ]
        },
        {
          "output_type": "stream",
          "name": "stderr",
          "text": [
            "Installing package into ‘/usr/local/lib/R/site-library’\n",
            "(as ‘lib’ is unspecified)\n",
            "\n"
          ]
        }
      ]
    },
    {
      "cell_type": "code",
      "source": [
        "library(ChIPseeker)\n",
        "library(clusterProfiler)\n",
        "library(TxDb.Mmusculus.UCSC.mm10.knownGene)\n",
        "library(org.Mm.eg.db)"
      ],
      "metadata": {
        "colab": {
          "base_uri": "https://localhost:8080/"
        },
        "id": "UanDfFTWeirF",
        "outputId": "e357868a-ae9d-4d67-a73e-d62ceb6312e4"
      },
      "execution_count": null,
      "outputs": [
        {
          "output_type": "stream",
          "name": "stderr",
          "text": [
            "Registered S3 method overwritten by 'ggtree':\n",
            "  method      from \n",
            "  identify.gg ggfun\n",
            "\n",
            "ChIPseeker v1.31.3.900  For help: https://guangchuangyu.github.io/software/ChIPseeker\n",
            "\n",
            "If you use ChIPseeker in published research, please cite:\n",
            "Guangchuang Yu, Li-Gen Wang, Qing-Yu He. ChIPseeker: an R/Bioconductor package for ChIP peak annotation, comparison and visualization. Bioinformatics 2015, 31(14):2382-2383\n",
            "\n",
            "clusterProfiler v4.2.2  For help: https://yulab-smu.top/biomedical-knowledge-mining-book/\n",
            "\n",
            "If you use clusterProfiler in published research, please cite:\n",
            "T Wu, E Hu, S Xu, M Chen, P Guo, Z Dai, T Feng, L Zhou, W Tang, L Zhan, X Fu, S Liu, X Bo, and G Yu. clusterProfiler 4.0: A universal enrichment tool for interpreting omics data. The Innovation. 2021, 2(3):100141\n",
            "\n",
            "\n",
            "Attaching package: ‘clusterProfiler’\n",
            "\n",
            "\n",
            "The following object is masked from ‘package:igraph’:\n",
            "\n",
            "    simplify\n",
            "\n",
            "\n",
            "The following object is masked from ‘package:XVector’:\n",
            "\n",
            "    slice\n",
            "\n",
            "\n",
            "The following object is masked from ‘package:IRanges’:\n",
            "\n",
            "    slice\n",
            "\n",
            "\n",
            "The following object is masked from ‘package:S4Vectors’:\n",
            "\n",
            "    rename\n",
            "\n",
            "\n",
            "The following object is masked from ‘package:stats’:\n",
            "\n",
            "    filter\n",
            "\n",
            "\n",
            "Loading required package: GenomicFeatures\n",
            "\n",
            "Loading required package: AnnotationDbi\n",
            "\n",
            "\n",
            "Attaching package: ‘AnnotationDbi’\n",
            "\n",
            "\n",
            "The following object is masked from ‘package:clusterProfiler’:\n",
            "\n",
            "    select\n",
            "\n",
            "\n",
            "The following object is masked from ‘package:dplyr’:\n",
            "\n",
            "    select\n",
            "\n",
            "\n",
            "\n",
            "\n"
          ]
        }
      ]
    },
    {
      "cell_type": "code",
      "source": [
        "anno <- annotatePeak(res, tssRegion = c(-5000, 1000),TxDb = TxDb.Mmusculus.UCSC.mm10.knownGene,\n",
        "        annoDb = 'org.Mm.eg.db')"
      ],
      "metadata": {
        "colab": {
          "base_uri": "https://localhost:8080/"
        },
        "id": "g-I6i-nxdA_P",
        "outputId": "712a1e4c-794d-4a2e-8e24-3571165b052c"
      },
      "execution_count": null,
      "outputs": [
        {
          "output_type": "stream",
          "name": "stdout",
          "text": [
            ">> preparing features information...\t\t 2022-04-04 09:31:30 PM \n",
            ">> identifying nearest features...\t\t 2022-04-04 09:31:30 PM \n",
            ">> calculating distance from peak to TSS...\t 2022-04-04 09:31:31 PM \n",
            ">> assigning genomic annotation...\t\t 2022-04-04 09:31:31 PM \n",
            ">> adding gene annotation...\t\t\t 2022-04-04 09:31:46 PM \n"
          ]
        },
        {
          "output_type": "stream",
          "name": "stderr",
          "text": [
            "'select()' returned 1:many mapping between keys and columns\n",
            "\n"
          ]
        },
        {
          "output_type": "stream",
          "name": "stdout",
          "text": [
            ">> assigning chromosome lengths\t\t\t 2022-04-04 09:31:46 PM \n",
            ">> done...\t\t\t\t\t 2022-04-04 09:31:46 PM \n"
          ]
        }
      ]
    },
    {
      "cell_type": "code",
      "source": [
        "dat <- data.frame(anno)"
      ],
      "metadata": {
        "id": "sa4DbMJJfccF"
      },
      "execution_count": null,
      "outputs": []
    },
    {
      "cell_type": "code",
      "source": [
        "anno_res <- GRanges(dat)"
      ],
      "metadata": {
        "id": "oiLQBEEsfgZ0"
      },
      "execution_count": null,
      "outputs": []
    },
    {
      "cell_type": "markdown",
      "source": [
        "#T"
      ],
      "metadata": {
        "id": "NyzNQa1vjkoN"
      }
    },
    {
      "cell_type": "code",
      "source": [
        "anno_res[!is.na(anno_res$SYMBOL) & \n",
        "  anno_res$SYMBOL == 'T' &\n",
        "  anno_res$padj < 0.05 &\n",
        "  anno_res$log_ratio > 0.1]"
      ],
      "metadata": {
        "colab": {
          "base_uri": "https://localhost:8080/",
          "height": 348
        },
        "id": "iCpOVfyHfj_s",
        "outputId": "4521a748-5b8d-4375-83b4-ce96bb66d015"
      },
      "execution_count": null,
      "outputs": [
        {
          "output_type": "display_data",
          "data": {
            "text/plain": [
              "GRanges object with 1 range and 21 metadata columns:\n",
              "      seqnames          ranges strand |    pvalue_z      padj\n",
              "         <Rle>       <IRanges>  <Rle> |   <numeric> <numeric>\n",
              "  [1]    chr17 8433088-8433727      * | 1.35324e-06 0.0257345\n",
              "      nucleosome_treatment nucleosome_control log_ratio     macs2    seatac\n",
              "                 <numeric>          <numeric> <numeric> <numeric> <numeric>\n",
              "  [1]             0.883699           0.649578  0.307793         0   1.58948\n",
              "      difference          eb       annotation   geneChr geneStart   geneEnd\n",
              "       <numeric> <character>      <character> <integer> <integer> <integer>\n",
              "  [1]  0.0974239        TRUE Promoter (<=1kb)        17   8434423   8442496\n",
              "      geneLength geneStrand      geneId         transcriptId distanceToTSS\n",
              "       <integer>  <integer> <character>          <character>     <numeric>\n",
              "  [1]       8074          1       20997 ENSMUST00000074667.8          -696\n",
              "                 ENSEMBL      SYMBOL               GENENAME\n",
              "             <character> <character>            <character>\n",
              "  [1] ENSMUSG00000062327           T brachyury, T-box tra..\n",
              "  -------\n",
              "  seqinfo: 20 sequences from an unspecified genome; no seqlengths"
            ]
          },
          "metadata": {}
        }
      ]
    },
    {
      "cell_type": "code",
      "source": [
        "brachury <- !is.na(anno_res$SYMBOL) & \n",
        "  anno_res$SYMBOL == 'T' &\n",
        "  anno_res$padj < 0.05 &\n",
        "  anno_res$log_ratio > 0.1"
      ],
      "metadata": {
        "id": "nEqSmeROgknV"
      },
      "execution_count": null,
      "outputs": []
    },
    {
      "cell_type": "code",
      "source": [
        "x2 <- model %>% predict(x[brachury], batch_size = ARGS[['vae_batch_size']], vplots = TRUE)\n",
        "p1 <- vplot(x2, 'counts', ncol = 2L) +ggtitle('counts                                        Brachury') \n",
        "p2 <- vplot(x2, 'predicted_counts', ncol = 2L)"
      ],
      "metadata": {
        "id": "qgjo4LYFwHeP"
      },
      "execution_count": null,
      "outputs": []
    },
    {
      "cell_type": "code",
      "source": [
        "options(repr.plot.width = 8, repr.plot.height = 8)\n",
        "p1 / p2  + plot_annotation(tag_levels = 'A')"
      ],
      "metadata": {
        "colab": {
          "base_uri": "https://localhost:8080/",
          "height": 570
        },
        "id": "UOqkgh47lSEW",
        "outputId": "dbbe6785-929f-43f8-d6d7-c9e4496a8f25"
      },
      "execution_count": null,
      "outputs": [
        {
          "output_type": "stream",
          "name": "stderr",
          "text": [
            "Warning message:\n",
            "“Removed 64 rows containing missing values (geom_raster).”\n",
            "Warning message:\n",
            "“Removed 64 rows containing missing values (geom_raster).”\n"
          ]
        },
        {
          "output_type": "display_data",
          "data": {
            "text/plain": [
              "plot without title"
            ],
            "image/png": "[encoded data removed]"
          },
          "metadata": {
            "image/png": {
              "width": 480,
              "height": 480
            }
          }
        }
      ]
    },
    {
      "cell_type": "markdown",
      "source": [
        "#Mycn"
      ],
      "metadata": {
        "id": "1KhGndLajfRc"
      }
    },
    {
      "cell_type": "code",
      "source": [
        "anno_res[!is.na(anno_res$SYMBOL) & \n",
        "  anno_res$SYMBOL == 'Mycn' &\n",
        "  anno_res$padj < 0.05 &\n",
        "  anno_res$log_ratio > 0.1]"
      ],
      "metadata": {
        "colab": {
          "base_uri": "https://localhost:8080/",
          "height": 348
        },
        "outputId": "1424142b-37c0-4673-99bf-4883ffd23fd4",
        "id": "CYGVmzkUhbRD"
      },
      "execution_count": null,
      "outputs": [
        {
          "output_type": "display_data",
          "data": {
            "text/plain": [
              "GRanges object with 1 range and 21 metadata columns:\n",
              "      seqnames            ranges strand |    pvalue_z        padj\n",
              "         <Rle>         <IRanges>  <Rle> |   <numeric>   <numeric>\n",
              "  [1]    chr12 12927323-12927962      * | 9.20042e-13 2.07939e-08\n",
              "      nucleosome_treatment nucleosome_control log_ratio     macs2    seatac\n",
              "                 <numeric>          <numeric> <numeric> <numeric> <numeric>\n",
              "  [1]             0.776677           0.590343  0.274321         0   7.68206\n",
              "      difference          eb        annotation   geneChr geneStart   geneEnd\n",
              "       <numeric> <character>       <character> <integer> <integer> <integer>\n",
              "  [1] 0.00795449        TRUE Distal Intergenic        12  12936096  12940616\n",
              "      geneLength geneStrand      geneId         transcriptId distanceToTSS\n",
              "       <integer>  <integer> <character>          <character>     <numeric>\n",
              "  [1]       4521          2       18109 ENSMUST00000130990.1         12654\n",
              "                 ENSEMBL      SYMBOL               GENENAME\n",
              "             <character> <character>            <character>\n",
              "  [1] ENSMUSG00000037169        Mycn v-myc avian myelocyt..\n",
              "  -------\n",
              "  seqinfo: 20 sequences from an unspecified genome; no seqlengths"
            ]
          },
          "metadata": {}
        }
      ]
    },
    {
      "cell_type": "code",
      "source": [
        "mycn <- !is.na(anno_res$SYMBOL) & \n",
        "  anno_res$SYMBOL == 'Mycn' &\n",
        "  anno_res$padj < 0.05 &\n",
        "  anno_res$log_ratio > 0.1"
      ],
      "metadata": {
        "id": "W9b4zHrLhbRE"
      },
      "execution_count": null,
      "outputs": []
    },
    {
      "cell_type": "code",
      "source": [
        "x2 <- model %>% predict(x[mycn], batch_size = ARGS[['vae_batch_size']], vplots = TRUE)\n",
        "p1 <- vplot(x2, 'counts', ncol = 2L) +ggtitle('counts                                        Mycn') \n",
        "p2 <- vplot(x2, 'predicted_counts', ncol = 2L)"
      ],
      "metadata": {
        "id": "ic0coEjmhbRG"
      },
      "execution_count": null,
      "outputs": []
    },
    {
      "cell_type": "code",
      "source": [
        "options(repr.plot.width = 8, repr.plot.height = 8)\n",
        "p1 / p2  + plot_annotation(tag_levels = 'A')"
      ],
      "metadata": {
        "colab": {
          "base_uri": "https://localhost:8080/",
          "height": 570
        },
        "outputId": "493649af-6b74-4312-a5fc-80395849dce4",
        "id": "L0TMyxtlhbRG"
      },
      "execution_count": null,
      "outputs": [
        {
          "output_type": "stream",
          "name": "stderr",
          "text": [
            "Warning message:\n",
            "“Removed 64 rows containing missing values (geom_raster).”\n",
            "Warning message:\n",
            "“Removed 64 rows containing missing values (geom_raster).”\n"
          ]
        },
        {
          "output_type": "display_data",
          "data": {
            "text/plain": [
              "plot without title"
            ],
            "image/png": "[encoded data removed]"
          },
          "metadata": {
            "image/png": {
              "width": 480,
              "height": 480
            }
          }
        }
      ]
    },
    {
      "cell_type": "markdown",
      "metadata": {
        "id": "wjg4jMFjHz_P"
      },
      "source": [
        "## SessionInfo"
      ]
    },
    {
      "cell_type": "code",
      "metadata": {
        "id": "1O6H0QYdIBSN",
        "colab": {
          "base_uri": "https://localhost:8080/",
          "height": 1000
        },
        "outputId": "01a7c858-536e-4ac3-9e8e-5032154853bf"
      },
      "source": [
        "sessionInfo()"
      ],
      "execution_count": null,
      "outputs": [
        {
          "output_type": "display_data",
          "data": {
            "text/plain": [
              "R version 4.1.2 (2021-11-01)\n",
              "Platform: x86_64-pc-linux-gnu (64-bit)\n",
              "Running under: Ubuntu 18.04.5 LTS\n",
              "\n",
              "Matrix products: default\n",
              "BLAS:   /usr/lib/x86_64-linux-gnu/openblas/libblas.so.3\n",
              "LAPACK: /usr/lib/x86_64-linux-gnu/libopenblasp-r0.2.20.so\n",
              "\n",
              "locale:\n",
              " [1] LC_CTYPE=en_US.UTF-8       LC_NUMERIC=C              \n",
              " [3] LC_TIME=en_US.UTF-8        LC_COLLATE=en_US.UTF-8    \n",
              " [5] LC_MONETARY=en_US.UTF-8    LC_MESSAGES=en_US.UTF-8   \n",
              " [7] LC_PAPER=en_US.UTF-8       LC_NAME=C                 \n",
              " [9] LC_ADDRESS=C               LC_TELEPHONE=C            \n",
              "[11] LC_MEASUREMENT=en_US.UTF-8 LC_IDENTIFICATION=C       \n",
              "\n",
              "attached base packages:\n",
              "[1] grid      stats4    stats     graphics  grDevices utils     datasets \n",
              "[8] methods   base     \n",
              "\n",
              "other attached packages:\n",
              " [1] patchwork_1.1.1                    ggplot2_3.3.5                     \n",
              " [3] VennDiagram_1.7.1                  futile.logger_1.4.3               \n",
              " [5] igraph_1.2.11                      chromVARmotifs_0.2.0              \n",
              " [7] motifmatchr_1.16.0                 dplyr_1.0.8                       \n",
              " [9] BSgenome.Mmusculus.UCSC.mm10_1.4.3 BSgenome_1.62.0                   \n",
              "[11] rtracklayer_1.54.0                 Biostrings_2.62.0                 \n",
              "[13] XVector_0.34.0                     seatac_0.4.0006                   \n",
              "[15] SummarizedExperiment_1.24.0        Biobase_2.54.0                    \n",
              "[17] MatrixGenerics_1.6.0               matrixStats_0.61.0                \n",
              "[19] GenomicRanges_1.46.1               GenomeInfoDb_1.30.1               \n",
              "[21] IRanges_2.28.0                     S4Vectors_0.32.3                  \n",
              "[23] BiocGenerics_0.40.0                tfdatasets_2.7.0                  \n",
              "[25] tfprobability_0.15.0               tensorflow_2.8.0                  \n",
              "[27] devtools_2.4.3                     usethis_2.1.5                     \n",
              "\n",
              "loaded via a namespace (and not attached):\n",
              "  [1] uuid_1.0-3                  backports_1.4.1            \n",
              "  [3] plyr_1.8.6                  repr_1.1.4                 \n",
              "  [5] BiocParallel_1.28.3         tfruns_1.5.0               \n",
              "  [7] TFBSTools_1.32.0            digest_0.6.29              \n",
              "  [9] htmltools_0.5.2             GO.db_3.14.0               \n",
              " [11] fansi_1.0.2                 magrittr_2.0.2             \n",
              " [13] memoise_2.0.1               tzdb_0.2.0                 \n",
              " [15] remotes_2.4.2               readr_2.1.2                \n",
              " [17] annotate_1.72.0             R.utils_2.11.0             \n",
              " [19] prettyunits_1.1.1           colorspace_2.0-3           \n",
              " [21] blob_1.2.2                  rappdirs_0.3.3             \n",
              " [23] callr_3.7.0                 crayon_1.5.0               \n",
              " [25] RCurl_1.98-1.6              jsonlite_1.8.0             \n",
              " [27] TFMPvalue_0.0.8             zeallot_0.1.0              \n",
              " [29] glue_1.6.2                  gtable_0.3.0               \n",
              " [31] zlibbioc_1.40.0             DelayedArray_0.20.0        \n",
              " [33] pkgbuild_1.3.1              abind_1.4-5                \n",
              " [35] scales_1.1.1                futile.options_1.0.1       \n",
              " [37] DBI_1.1.2                   Rcpp_1.0.8                 \n",
              " [39] xtable_1.8-4                reticulate_1.24            \n",
              " [41] bit_4.0.4                   httr_1.4.2                 \n",
              " [43] gplots_3.1.1                ellipsis_0.3.2             \n",
              " [45] farver_2.1.0                pkgconfig_2.0.3            \n",
              " [47] XML_3.99-0.9                R.methodsS3_1.8.1          \n",
              " [49] utf8_1.2.2                  here_1.0.1                 \n",
              " [51] labeling_0.4.2              tidyselect_1.1.2           \n",
              " [53] rlang_1.0.1                 reshape2_1.4.4             \n",
              " [55] AnnotationDbi_1.56.2        munsell_0.5.0              \n",
              " [57] tools_4.1.2                 cachem_1.0.6               \n",
              " [59] cli_3.2.0                   DirichletMultinomial_1.36.0\n",
              " [61] generics_0.1.2              RSQLite_2.2.10             \n",
              " [63] evaluate_0.15               stringr_1.4.0              \n",
              " [65] fastmap_1.1.0               yaml_2.3.5                 \n",
              " [67] processx_3.5.2              bit64_4.0.5                \n",
              " [69] fs_1.5.2                    caTools_1.18.2             \n",
              " [71] purrr_0.3.4                 KEGGREST_1.34.0            \n",
              " [73] whisker_0.4                 formatR_1.11               \n",
              " [75] R.oo_1.24.0                 poweRlaw_0.70.6            \n",
              " [77] pracma_2.3.8                brio_1.1.3                 \n",
              " [79] compiler_4.1.2              curl_4.3.2                 \n",
              " [81] png_0.1-7                   testthat_3.1.2             \n",
              " [83] tibble_3.1.6                stringi_1.7.6              \n",
              " [85] ps_1.6.0                    desc_1.4.0                 \n",
              " [87] lattice_0.20-45             IRdisplay_1.1              \n",
              " [89] CNEr_1.30.0                 Matrix_1.4-0               \n",
              " [91] keras_2.8.0                 vctrs_0.3.8                \n",
              " [93] pillar_1.7.0                lifecycle_1.0.1            \n",
              " [95] tfautograph_0.3.2           BiocManager_1.30.16        \n",
              " [97] bitops_1.0-7                R6_2.5.1                   \n",
              " [99] BiocIO_1.4.0                KernSmooth_2.23-20         \n",
              "[101] sessioninfo_1.2.2           lambda.r_1.2.4             \n",
              "[103] gtools_3.9.2                assertthat_0.2.1           \n",
              "[105] seqLogo_1.60.0              pkgload_1.2.4              \n",
              "[107] rprojroot_2.0.2             rjson_0.2.21               \n",
              "[109] withr_2.4.3                 GenomicAlignments_1.30.0   \n",
              "[111] Rsamtools_2.10.0            GenomeInfoDbData_1.2.7     \n",
              "[113] parallel_4.1.2              hms_1.1.1                  \n",
              "[115] IRkernel_1.3                pbdZMQ_0.3-7               \n",
              "[117] base64enc_0.1-3             restfulr_0.0.13            "
            ]
          },
          "metadata": {}
        }
      ]
    },
    {
      "cell_type": "code",
      "metadata": {
        "id": "-4pQeVrGHxXr",
        "colab": {
          "base_uri": "https://localhost:8080/",
          "height": 35
        },
        "outputId": "d29f2648-ce3b-43a0-bf7e-137e0bcaa7e9"
      },
      "source": [
        "Sys.time() - start_time"
      ],
      "execution_count": null,
      "outputs": [
        {
          "output_type": "display_data",
          "data": {
            "text/plain": [
              "Time difference of 49.17502 mins"
            ]
          },
          "metadata": {}
        }
      ]
    },
    {
      "cell_type": "code",
      "source": [
        "dsouz072/projects/seatac_project/config/seatac_MEF_Etv2/Flk1pos_up_MEF_regions.rds\n",
        "dsouz072/projects/seatac_project/config/seatac_MEF_Etv2/Flk1pos_down_MEF_regions.rds\n",
        "dsouz072/projects/seatac_project/config/seatac_EB_Etv2/Flk1pos_down_EB_regions.rds\n",
        "dsouz072/projects/seatac_project/config/seatac_EB_Etv2/Flk1pos_Up_EB_regions.rds\n"
      ],
      "metadata": {
        "id": "v3fq5bznPXhj"
      },
      "execution_count": null,
      "outputs": []
    }
  ]
}