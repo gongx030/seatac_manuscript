{
  "nbformat": 4,
  "nbformat_minor": 0,
  "metadata": {
    "kernelspec": {
      "display_name": "R",
      "language": "R",
      "name": "ir"
    },
    "language_info": {
      "codemirror_mode": "r",
      "file_extension": ".r",
      "mimetype": "text/x-r-source",
      "name": "R",
      "pygments_lexer": "r",
      "version": "3.3.1"
    },
    "colab": {
      "name": "SeATAC_Ascl1_MEFs_D22_specific_genes_sf5e.ipynb",
      "provenance": [],
      "collapsed_sections": [],
      "machine_shape": "hm",
      "toc_visible": true,
      "include_colab_link": true
    },
    "accelerator": "GPU"
  },
  "cells": [
    {
      "cell_type": "markdown",
      "metadata": {
        "id": "view-in-github",
        "colab_type": "text"
      },
      "source": [
        "<a href=\"https://colab.research.google.com/github/gongx030/seatac_manuscript/blob/main/SeATAC_Ascl1_MEFs_D22_specific_genes_sf5e.ipynb\" target=\"_parent\"><img src=\"https://colab.research.google.com/assets/colab-badge.svg\" alt=\"Open In Colab\"/></a>"
      ]
    },
    {
      "cell_type": "markdown",
      "metadata": {
        "id": "M0jDe-m_5aq4"
      },
      "source": [
        "# Differential V-plots of ATAC-seq data between MEFs and MEFs at day22 post Ascl1 induction to see specific genes with Ascl1 motif being more nucleosome occupied post Ascl1 induction"
      ]
    },
    {
      "cell_type": "markdown",
      "source": [
        "This task runs on SeATAC `v0.4.0`"
      ],
      "metadata": {
        "id": "oi1drasoVjW4"
      }
    },
    {
      "cell_type": "code",
      "metadata": {
        "id": "6OhqEEeZHroa"
      },
      "source": [
        "start_time <- Sys.time()"
      ],
      "execution_count": 10,
      "outputs": []
    },
    {
      "cell_type": "markdown",
      "metadata": {
        "id": "obcf6pAcw6TQ"
      },
      "source": [
        "### Install external packages"
      ]
    },
    {
      "cell_type": "code",
      "metadata": {
        "id": "99vS8MZUxApi",
        "colab": {
          "base_uri": "https://localhost:8080/",
          "height": 34
        },
        "outputId": "53620215-e7c3-47e4-c073-caa7e60509ab"
      },
      "source": [
        "system('apt-get -q install libgsl-dev', intern = TRUE)"
      ],
      "execution_count": 11,
      "outputs": [
        {
          "output_type": "display_data",
          "data": {
            "text/html": [
              "<style>\n",
              ".list-inline {list-style: none; margin:0; padding: 0}\n",
              ".list-inline>li {display: inline-block}\n",
              ".list-inline>li:not(:last-child)::after {content: \"\\00b7\"; padding: 0 .5ex}\n",
              "</style>\n",
              "<ol class=list-inline><li>'Reading package lists...'</li><li>'Building dependency tree...'</li><li>'Reading state information...'</li><li>'libgsl-dev is already the newest version (2.4+dfsg-6).'</li><li>'0 upgraded, 0 newly installed, 0 to remove and 39 not upgraded.'</li></ol>\n"
            ],
            "text/markdown": "1. 'Reading package lists...'\n2. 'Building dependency tree...'\n3. 'Reading state information...'\n4. 'libgsl-dev is already the newest version (2.4+dfsg-6).'\n5. '0 upgraded, 0 newly installed, 0 to remove and 39 not upgraded.'\n\n\n",
            "text/latex": "\\begin{enumerate*}\n\\item 'Reading package lists...'\n\\item 'Building dependency tree...'\n\\item 'Reading state information...'\n\\item 'libgsl-dev is already the newest version (2.4+dfsg-6).'\n\\item '0 upgraded, 0 newly installed, 0 to remove and 39 not upgraded.'\n\\end{enumerate*}\n",
            "text/plain": [
              "[1] \"Reading package lists...\"                                       \n",
              "[2] \"Building dependency tree...\"                                    \n",
              "[3] \"Reading state information...\"                                   \n",
              "[4] \"libgsl-dev is already the newest version (2.4+dfsg-6).\"         \n",
              "[5] \"0 upgraded, 0 newly installed, 0 to remove and 39 not upgraded.\""
            ]
          },
          "metadata": {}
        }
      ]
    },
    {
      "cell_type": "code",
      "metadata": {
        "id": "HgPXAFx1xZHE",
        "colab": {
          "base_uri": "https://localhost:8080/",
          "height": 34
        },
        "outputId": "132ec7e3-bb1d-4978-d926-7f5b8e9ed924"
      },
      "source": [
        "system('apt-get install libcairo2-dev', intern = TRUE) # for Cairo package that is required by ComplexHeatmap package"
      ],
      "execution_count": 12,
      "outputs": [
        {
          "output_type": "display_data",
          "data": {
            "text/html": [
              "<style>\n",
              ".list-inline {list-style: none; margin:0; padding: 0}\n",
              ".list-inline>li {display: inline-block}\n",
              ".list-inline>li:not(:last-child)::after {content: \"\\00b7\"; padding: 0 .5ex}\n",
              "</style>\n",
              "<ol class=list-inline><li>'Reading package lists...'</li><li>'Building dependency tree...'</li><li>'Reading state information...'</li><li>'libcairo2-dev is already the newest version (1.15.10-2ubuntu0.1).'</li><li>'0 upgraded, 0 newly installed, 0 to remove and 39 not upgraded.'</li></ol>\n"
            ],
            "text/markdown": "1. 'Reading package lists...'\n2. 'Building dependency tree...'\n3. 'Reading state information...'\n4. 'libcairo2-dev is already the newest version (1.15.10-2ubuntu0.1).'\n5. '0 upgraded, 0 newly installed, 0 to remove and 39 not upgraded.'\n\n\n",
            "text/latex": "\\begin{enumerate*}\n\\item 'Reading package lists...'\n\\item 'Building dependency tree...'\n\\item 'Reading state information...'\n\\item 'libcairo2-dev is already the newest version (1.15.10-2ubuntu0.1).'\n\\item '0 upgraded, 0 newly installed, 0 to remove and 39 not upgraded.'\n\\end{enumerate*}\n",
            "text/plain": [
              "[1] \"Reading package lists...\"                                         \n",
              "[2] \"Building dependency tree...\"                                      \n",
              "[3] \"Reading state information...\"                                     \n",
              "[4] \"libcairo2-dev is already the newest version (1.15.10-2ubuntu0.1).\"\n",
              "[5] \"0 upgraded, 0 newly installed, 0 to remove and 39 not upgraded.\"  "
            ]
          },
          "metadata": {}
        }
      ]
    },
    {
      "cell_type": "markdown",
      "metadata": {
        "id": "uY3cIu62WZd0"
      },
      "source": [
        "### Install R packages from CRAN"
      ]
    },
    {
      "cell_type": "code",
      "metadata": {
        "colab": {
          "base_uri": "https://localhost:8080/"
        },
        "id": "yfBnWIqfWZd0",
        "outputId": "5cdfc7a9-637e-486b-827f-82edb539d438"
      },
      "source": [
        "install.packages('BiocManager')"
      ],
      "execution_count": 13,
      "outputs": [
        {
          "output_type": "stream",
          "name": "stderr",
          "text": [
            "Installing package into ‘/usr/local/lib/R/site-library’\n",
            "(as ‘lib’ is unspecified)\n",
            "\n"
          ]
        }
      ]
    },
    {
      "cell_type": "code",
      "metadata": {
        "id": "e5KbNCmTWZd0"
      },
      "source": [
        "required_packages <- c(\n",
        "  \"GenomicAlignments\",\n",
        "  'BSgenome.Mmusculus.UCSC.mm10',\n",
        "  'motifmatchr',\n",
        "  'uwot',\n",
        "  'igraph',\n",
        "  'VennDiagram',\n",
        "  'TxDb.Mmusculus.UCSC.mm10.knownGene',\n",
        "  'org.Mm.eg.db',\n",
        "  'clusterProfiler',\n",
        "  'patchwork'\n",
        " )"
      ],
      "execution_count": 14,
      "outputs": []
    },
    {
      "cell_type": "code",
      "metadata": {
        "id": "FzhTYT3EWZd0",
        "colab": {
          "base_uri": "https://localhost:8080/"
        },
        "outputId": "477341f5-7b04-4586-e9a5-39059eabbd11"
      },
      "source": [
        "missing_packages <- required_packages[!required_packages %in% rownames(installed.packages())]\n",
        "if (length(missing_packages) > 0){\n",
        "    BiocManager::install(missing_packages)\n",
        "}"
      ],
      "execution_count": 15,
      "outputs": [
        {
          "output_type": "stream",
          "name": "stderr",
          "text": [
            "'getOption(\"repos\")' replaces Bioconductor standard repositories, see\n",
            "'?repositories' for details\n",
            "\n",
            "replacement repositories:\n",
            "    CRAN: https://cran.rstudio.com\n",
            "\n",
            "\n",
            "Bioconductor version 3.14 (BiocManager 1.30.16), R 4.1.3 (2022-03-10)\n",
            "\n",
            "Installing package(s) 'BSgenome.Mmusculus.UCSC.mm10', 'motifmatchr', 'uwot',\n",
            "  'VennDiagram'\n",
            "\n",
            "also installing the dependencies ‘pracma’, ‘xtable’, ‘R.oo’, ‘R.methodsS3’, ‘poweRlaw’, ‘annotate’, ‘R.utils’, ‘CNEr’, ‘DirichletMultinomial’, ‘seqLogo’, ‘TFMPvalue’, ‘sitmo’, ‘BSgenome’, ‘TFBSTools’, ‘FNN’, ‘RSpectra’, ‘RcppAnnoy’, ‘irlba’, ‘RcppProgress’, ‘dqrng’\n",
            "\n",
            "\n",
            "Old packages: 'enrichplot', 'blob', 'broom', 'haven', 'RColorBrewer', 'scales',\n",
            "  'vctrs'\n",
            "\n"
          ]
        }
      ]
    },
    {
      "cell_type": "code",
      "metadata": {
        "id": "BMptTKnyWZd1",
        "colab": {
          "base_uri": "https://localhost:8080/"
        },
        "outputId": "a28c5a17-a3ea-4224-ea6e-5850ad805ac9"
      },
      "source": [
        "library(devtools)"
      ],
      "execution_count": 16,
      "outputs": [
        {
          "output_type": "stream",
          "name": "stderr",
          "text": [
            "Loading required package: usethis\n",
            "\n"
          ]
        }
      ]
    },
    {
      "cell_type": "markdown",
      "metadata": {
        "id": "KHjoODrS2hKo"
      },
      "source": [
        "### Install R packages from github"
      ]
    },
    {
      "cell_type": "code",
      "metadata": {
        "colab": {
          "base_uri": "https://localhost:8080/"
        },
        "id": "30uvd1_Nrpy_",
        "outputId": "18de7bd7-2d80-46bf-d3e2-64ad6b815312"
      },
      "source": [
        "install_github(\"GreenleafLab/chromVARmotifs\")"
      ],
      "execution_count": 17,
      "outputs": [
        {
          "output_type": "stream",
          "name": "stderr",
          "text": [
            "Downloading GitHub repo GreenleafLab/chromVARmotifs@HEAD\n",
            "\n"
          ]
        },
        {
          "output_type": "stream",
          "name": "stdout",
          "text": [
            "\n",
            "* checking for file ‘/tmp/RtmpUA6M1M/remotes61475e2995/GreenleafLab-chromVARmotifs-38bed55/DESCRIPTION’ ... OK\n",
            "* preparing ‘chromVARmotifs’:\n",
            "* checking DESCRIPTION meta-information ... OK\n",
            "* checking for LF line-endings in source and make files and shell scripts\n",
            "* checking for empty or unneeded directories\n",
            "* building ‘chromVARmotifs_0.2.0.tar.gz’\n",
            "\n"
          ]
        },
        {
          "output_type": "stream",
          "name": "stderr",
          "text": [
            "Installing package into ‘/usr/local/lib/R/site-library’\n",
            "(as ‘lib’ is unspecified)\n",
            "\n"
          ]
        }
      ]
    },
    {
      "cell_type": "code",
      "source": [
        "devtools::install_github(\"GuangchuangYu/ChIPseeker\")"
      ],
      "metadata": {
        "colab": {
          "base_uri": "https://localhost:8080/"
        },
        "id": "Pq83ZwDBKJA-",
        "outputId": "b1f66931-c8e0-4cb4-933e-da2bf037e1c1"
      },
      "execution_count": 18,
      "outputs": [
        {
          "output_type": "stream",
          "name": "stderr",
          "text": [
            "Skipping install of 'ChIPseeker' from a github remote, the SHA1 (59452691) has not changed since last install.\n",
            "  Use `force = TRUE` to force installation\n",
            "\n"
          ]
        }
      ]
    },
    {
      "cell_type": "markdown",
      "metadata": {
        "id": "FfduHH8aWZd1"
      },
      "source": [
        "### Install `seatac` from github"
      ]
    },
    {
      "cell_type": "code",
      "metadata": {
        "colab": {
          "base_uri": "https://localhost:8080/"
        },
        "id": "6cbnrdk2WZd1",
        "outputId": "86c2d816-efbe-4732-b815-e0c2724bc757"
      },
      "source": [
        "install_github('gongx030/seatac', quiet = FALSE, ref = 'v0.4.0') # install from the branch v0.4.0\n",
        "devtools::reload(pkgload::inst(\"seatac\"))\n",
        "library(seatac)"
      ],
      "execution_count": 19,
      "outputs": [
        {
          "output_type": "stream",
          "name": "stderr",
          "text": [
            "Downloading GitHub repo gongx030/seatac@v0.4.0\n",
            "\n"
          ]
        },
        {
          "output_type": "stream",
          "name": "stdout",
          "text": [
            "tfautograph  (NA -> 0.3.2 ) [CRAN]\n",
            "config       (NA -> 0.3.1 ) [CRAN]\n",
            "here         (NA -> 1.0.1 ) [CRAN]\n",
            "RcppTOML     (NA -> 0.1.7 ) [CRAN]\n",
            "zeallot      (NA -> 0.1.0 ) [CRAN]\n",
            "tfruns       (NA -> 1.5.0 ) [CRAN]\n",
            "tensorflow   (NA -> 2.8.0 ) [CRAN]\n",
            "reticulate   (NA -> 1.24  ) [CRAN]\n",
            "keras        (NA -> 2.8.0 ) [CRAN]\n",
            "abind        (NA -> 1.4-5 ) [CRAN]\n",
            "tfdatasets   (NA -> 2.7.0 ) [CRAN]\n",
            "tfprobabi... (NA -> 0.15.0) [CRAN]\n"
          ]
        },
        {
          "output_type": "stream",
          "name": "stderr",
          "text": [
            "Installing 12 packages: tfautograph, config, here, RcppTOML, zeallot, tfruns, tensorflow, reticulate, keras, abind, tfdatasets, tfprobability\n",
            "\n",
            "Installing packages into ‘/usr/local/lib/R/site-library’\n",
            "(as ‘lib’ is unspecified)\n",
            "\n"
          ]
        },
        {
          "output_type": "stream",
          "name": "stdout",
          "text": [
            "* checking for file ‘/tmp/RtmpUA6M1M/remotes6144528f3c/gongx030-seatac-55f9f36/DESCRIPTION’ ... OK\n",
            "* preparing ‘seatac’:\n",
            "* checking DESCRIPTION meta-information ... OK\n",
            "* checking for LF line-endings in source and make files and shell scripts\n",
            "* checking for empty or unneeded directories\n",
            "Omitted ‘LazyData’ from DESCRIPTION\n",
            "* building ‘seatac_0.4.0-010.tar.gz’\n",
            "\n"
          ]
        },
        {
          "output_type": "stream",
          "name": "stderr",
          "text": [
            "Installing package into ‘/usr/local/lib/R/site-library’\n",
            "(as ‘lib’ is unspecified)\n",
            "\n",
            "Loading required package: tensorflow\n",
            "\n",
            "Loading required package: tfprobability\n",
            "\n",
            "Loading required package: tfdatasets\n",
            "\n",
            "Loading required package: SummarizedExperiment\n",
            "\n",
            "Loading required package: MatrixGenerics\n",
            "\n",
            "Loading required package: matrixStats\n",
            "\n",
            "\n",
            "Attaching package: ‘matrixStats’\n",
            "\n",
            "\n",
            "The following objects are masked from ‘package:Biobase’:\n",
            "\n",
            "    anyMissing, rowMedians\n",
            "\n",
            "\n",
            "The following object is masked from ‘package:dplyr’:\n",
            "\n",
            "    count\n",
            "\n",
            "\n",
            "\n",
            "Attaching package: ‘MatrixGenerics’\n",
            "\n",
            "\n",
            "The following objects are masked from ‘package:matrixStats’:\n",
            "\n",
            "    colAlls, colAnyNAs, colAnys, colAvgsPerRowSet, colCollapse,\n",
            "    colCounts, colCummaxs, colCummins, colCumprods, colCumsums,\n",
            "    colDiffs, colIQRDiffs, colIQRs, colLogSumExps, colMadDiffs,\n",
            "    colMads, colMaxs, colMeans2, colMedians, colMins, colOrderStats,\n",
            "    colProds, colQuantiles, colRanges, colRanks, colSdDiffs, colSds,\n",
            "    colSums2, colTabulates, colVarDiffs, colVars, colWeightedMads,\n",
            "    colWeightedMeans, colWeightedMedians, colWeightedSds,\n",
            "    colWeightedVars, rowAlls, rowAnyNAs, rowAnys, rowAvgsPerColSet,\n",
            "    rowCollapse, rowCounts, rowCummaxs, rowCummins, rowCumprods,\n",
            "    rowCumsums, rowDiffs, rowIQRDiffs, rowIQRs, rowLogSumExps,\n",
            "    rowMadDiffs, rowMads, rowMaxs, rowMeans2, rowMedians, rowMins,\n",
            "    rowOrderStats, rowProds, rowQuantiles, rowRanges, rowRanks,\n",
            "    rowSdDiffs, rowSds, rowSums2, rowTabulates, rowVarDiffs, rowVars,\n",
            "    rowWeightedMads, rowWeightedMeans, rowWeightedMedians,\n",
            "    rowWeightedSds, rowWeightedVars\n",
            "\n",
            "\n",
            "The following object is masked from ‘package:Biobase’:\n",
            "\n",
            "    rowMedians\n",
            "\n",
            "\n",
            "\n",
            "Attaching package: ‘seatac’\n",
            "\n",
            "\n",
            "The following object is masked from ‘package:tfdatasets’:\n",
            "\n",
            "    fit\n",
            "\n",
            "\n",
            "The following object is masked from ‘package:stats’:\n",
            "\n",
            "    predict\n",
            "\n",
            "\n"
          ]
        }
      ]
    },
    {
      "cell_type": "markdown",
      "metadata": {
        "id": "8LRcZG575RIi"
      },
      "source": [
        "### Load R packages"
      ]
    },
    {
      "cell_type": "code",
      "metadata": {
        "id": "xxvI6xd05RIi",
        "colab": {
          "base_uri": "https://localhost:8080/"
        },
        "outputId": "3975c4d3-859d-4483-a23f-2b137499a9f9"
      },
      "source": [
        "library(BSgenome.Mmusculus.UCSC.mm10)\n",
        "library(dplyr)\n",
        "library(motifmatchr)\n",
        "library(chromVARmotifs)\n",
        "library(igraph)\n",
        "library(VennDiagram)\n",
        "library(ggplot2)\n",
        "library(patchwork)\n",
        "library(ChIPseeker)\n",
        "library(TxDb.Mmusculus.UCSC.mm10.knownGene)\n",
        "library(org.Mm.eg.db)\n",
        "library(clusterProfiler)"
      ],
      "execution_count": 20,
      "outputs": [
        {
          "output_type": "stream",
          "name": "stderr",
          "text": [
            "Loading required package: BSgenome\n",
            "\n",
            "Loading required package: Biostrings\n",
            "\n",
            "Loading required package: XVector\n",
            "\n",
            "\n",
            "Attaching package: ‘Biostrings’\n",
            "\n",
            "\n",
            "The following object is masked from ‘package:base’:\n",
            "\n",
            "    strsplit\n",
            "\n",
            "\n",
            "Loading required package: rtracklayer\n",
            "\n",
            "\n",
            "Attaching package: ‘igraph’\n",
            "\n",
            "\n",
            "The following objects are masked from ‘package:rtracklayer’:\n",
            "\n",
            "    blocks, path\n",
            "\n",
            "\n",
            "The following object is masked from ‘package:Biostrings’:\n",
            "\n",
            "    union\n",
            "\n",
            "\n",
            "The following object is masked from ‘package:XVector’:\n",
            "\n",
            "    path\n",
            "\n",
            "\n",
            "The following object is masked from ‘package:clusterProfiler’:\n",
            "\n",
            "    simplify\n",
            "\n",
            "\n",
            "The following object is masked from ‘package:GenomicRanges’:\n",
            "\n",
            "    union\n",
            "\n",
            "\n",
            "The following object is masked from ‘package:IRanges’:\n",
            "\n",
            "    union\n",
            "\n",
            "\n",
            "The following object is masked from ‘package:S4Vectors’:\n",
            "\n",
            "    union\n",
            "\n",
            "\n",
            "The following objects are masked from ‘package:BiocGenerics’:\n",
            "\n",
            "    normalize, path, union\n",
            "\n",
            "\n",
            "The following objects are masked from ‘package:dplyr’:\n",
            "\n",
            "    as_data_frame, groups, union\n",
            "\n",
            "\n",
            "The following objects are masked from ‘package:stats’:\n",
            "\n",
            "    decompose, spectrum\n",
            "\n",
            "\n",
            "The following object is masked from ‘package:base’:\n",
            "\n",
            "    union\n",
            "\n",
            "\n",
            "Loading required package: grid\n",
            "\n",
            "\n",
            "Attaching package: ‘grid’\n",
            "\n",
            "\n",
            "The following object is masked from ‘package:Biostrings’:\n",
            "\n",
            "    pattern\n",
            "\n",
            "\n",
            "Loading required package: futile.logger\n",
            "\n"
          ]
        }
      ]
    },
    {
      "cell_type": "markdown",
      "metadata": {
        "id": "j-TPW4ME18Vg"
      },
      "source": [
        "### TensorFlow setup"
      ]
    },
    {
      "cell_type": "code",
      "metadata": {
        "id": "BvMo6o4K18Vh",
        "colab": {
          "base_uri": "https://localhost:8080/"
        },
        "outputId": "92a84c95-0fc4-4457-e073-9aefdb934c2d"
      },
      "source": [
        "gpus <- tf$config$list_physical_devices('GPU')\n",
        "for (gpu in gpus){\n",
        "  tf$config$experimental$set_memory_growth(gpu, TRUE)\n",
        "}\n",
        "logical_gpus <- tf$config$experimental$list_logical_devices('GPU')\n",
        "sprintf('Physical GPUs: %d', length(gpus)) %>% message()\n",
        "sprintf('Logical GPUs: %d', length(logical_gpus)) %>% message()"
      ],
      "execution_count": 21,
      "outputs": [
        {
          "output_type": "stream",
          "name": "stderr",
          "text": [
            "Loaded Tensorflow version 2.8.0\n",
            "\n",
            "Physical GPUs: 1\n",
            "\n",
            "Logical GPUs: 1\n",
            "\n"
          ]
        }
      ]
    },
    {
      "cell_type": "code",
      "metadata": {
        "id": "GfWHODPbHZ0s",
        "colab": {
          "base_uri": "https://localhost:8080/",
          "height": 35
        },
        "outputId": "5e67f18c-ae56-434c-b472-bfa75166c349"
      },
      "source": [
        "Sys.time() - start_time"
      ],
      "execution_count": 22,
      "outputs": [
        {
          "output_type": "display_data",
          "data": {
            "text/plain": [
              "Time difference of 10.74142 mins"
            ]
          },
          "metadata": {}
        }
      ]
    },
    {
      "cell_type": "markdown",
      "metadata": {
        "id": "hl2lXOAv9ljx"
      },
      "source": [
        "## Parameters"
      ]
    },
    {
      "cell_type": "code",
      "metadata": {
        "id": "KMfU5_KD9nN9"
      },
      "source": [
        "ARGS <- list(\n",
        "  bin_size = 5L,\n",
        "  fragment_size_range_max = 640L,\n",
        "  fragment_size_interval = 20L,\n",
        "  window_size = 1000L,\n",
        "  block_size = 640L,\n",
        "  sliding_step = 20L,\n",
        "  min_reads = 10L,\n",
        "  vae_num_peaks = 5000L,\n",
        "  vae_latent = c(5L),\n",
        "  vae_filters0 = c(128L),\n",
        "  vae_filters = c(32L),\n",
        "  vae_downsample_layers = 4L,\n",
        "  vae_upsample_layers = 4L,\n",
        "  vae_base_learning_rate = c(1e-2),\n",
        "  vae_epochs = 200L,\n",
        "  vae_beta_schedule_method = c('constant'),\n",
        "  vae_beta0 = 1,\n",
        "  vae_batch_size = c(128L),\n",
        "  vae_warmup_ratio = 0.1,\n",
        "  padjusted_cutoff = 0.05,\n",
        "  log_ratio_cutoff = 0.1,\n",
        "  upstream = -5000,\n",
        "  downstream = 1000,\n",
        "  pvalueCutoff = 1,\n",
        "  qvalueCutoff = 1,\n",
        "  nucleoatac_cutoff = 0.1,\n",
        "  center_width = 100L # the center width\n",
        ")"
      ],
      "execution_count": 23,
      "outputs": []
    },
    {
      "cell_type": "markdown",
      "source": [
        "#MEFs"
      ],
      "metadata": {
        "id": "yBMFlKHDoanm"
      }
    },
    {
      "cell_type": "markdown",
      "metadata": {
        "id": "KTlR7IjcYeAI"
      },
      "source": [
        "## Load data"
      ]
    },
    {
      "cell_type": "code",
      "metadata": {
        "id": "4C5C4mrdymmE"
      },
      "source": [
        "remote_bam_files = c(\n",
        "  MEF = 'https://s3.msi.umn.edu/dsouz072/datasets/dataset=Ascl1_version=20200128a/MEF.bam',\n",
        "  MEF_Ascl1_D22 = 'https://s3.msi.umn.edu/dsouz072/datasets/dataset=Ascl1_version=20200128a/MEF_Ascl1_22d.bam'\n",
        ")\n",
        "for (f in remote_bam_files){\n",
        "  system(sprintf('wget -cx %s', f))\n",
        "}\n",
        "local_bam_files <- gsub('https://', './', remote_bam_files)"
      ],
      "execution_count": 24,
      "outputs": []
    },
    {
      "cell_type": "code",
      "metadata": {
        "id": "09ujkOkCyxtv"
      },
      "source": [
        "remote_bed_files <- gsub('.bam', '_summits.bed', remote_bam_files)\n",
        "for (f in remote_bed_files){\n",
        "  system(sprintf('wget -cx %s', f))\n",
        "}\n",
        "local_bed_files <- gsub('https://', './', remote_bed_files)"
      ],
      "execution_count": 25,
      "outputs": []
    },
    {
      "cell_type": "markdown",
      "metadata": {
        "id": "pIlGm6CFnr6k"
      },
      "source": [
        "### Read V-plots"
      ]
    },
    {
      "cell_type": "code",
      "metadata": {
        "id": "JnXiPxoSnbMM",
        "colab": {
          "base_uri": "https://localhost:8080/"
        },
        "outputId": "3d270ab1-bc31-4631-abb7-9481e45a36e7"
      },
      "source": [
        "gr0 <- lapply(local_bed_files, function(bed_file){\n",
        "  peaks <- read.table(bed_file, header = FALSE, sep = '\\t')\n",
        "  peaks <- GRanges(seqnames = peaks[, 1], range = IRanges(start = peaks[, 2], end = peaks[, 3]))\n",
        "  peaks <- resize(peaks, fix = 'center', width = 200L)\n",
        "  peaks\n",
        "}) %>%\n",
        "  GRangesList() %>%\n",
        "  coverage() %>%\n",
        "  IRanges::slice(lower = 1, rangesOnly = TRUE) %>%\n",
        "  GRanges() %>%\n",
        "  resize(fix = 'center', width = ARGS[['window_size']])\n",
        "gr0 <- gr0[!seqnames(gr0) %in% c('chrM', 'chrY')]\n",
        "gr <- slidingWindows(gr0, width = ARGS[['block_size']], step = ARGS[['sliding_step']]) %>% unlist()\n",
        "set.seed(1L); gr <- sample(gr, ARGS[['vae_num_peaks']])\n",
        "counts <- count_reads(gr, local_bam_files, genome = BSgenome.Mmusculus.UCSC.mm10,  fragment_size_range = c(0, ARGS[['fragment_size_range_max']]))"
      ],
      "execution_count": 26,
      "outputs": [
        {
          "output_type": "stream",
          "name": "stderr",
          "text": [
            "validate_bam | indexing bam files: ./s3.msi.umn.edu/dsouz072/datasets/dataset=Ascl1_version=20200128a/MEF.bam\n",
            "\n",
            "read_bam | reading ./s3.msi.umn.edu/dsouz072/datasets/dataset=Ascl1_version=20200128a/MEF.bam\n",
            "\n",
            "validate_bam | indexing bam files: ./s3.msi.umn.edu/dsouz072/datasets/dataset=Ascl1_version=20200128a/MEF_Ascl1_22d.bam\n",
            "\n",
            "read_bam | reading ./s3.msi.umn.edu/dsouz072/datasets/dataset=Ascl1_version=20200128a/MEF_Ascl1_22d.bam\n",
            "\n"
          ]
        }
      ]
    },
    {
      "cell_type": "code",
      "metadata": {
        "id": "999gF9ssDSVk",
        "colab": {
          "base_uri": "https://localhost:8080/"
        },
        "outputId": "5a15068d-3618-469e-c61c-1d6938a29ef3"
      },
      "source": [
        "valid <- rowSums(counts >= ARGS[['min_reads']]) == length(local_bam_files)\n",
        "gr <- gr[valid]\n",
        "sprintf('number of training peaks for VaeModel: %d', length(gr)) %>% message()\n",
        "x <- read_vplot(gr, filenames = local_bam_files, genome = BSgenome.Mmusculus.UCSC.mm10, bin_size = ARGS[['bin_size']], fragment_size_range = c(0, ARGS[['fragment_size_range_max']]), fragment_size_interval = ARGS[['fragment_size_interval']])"
      ],
      "execution_count": 27,
      "outputs": [
        {
          "output_type": "stream",
          "name": "stderr",
          "text": [
            "number of training peaks for VaeModel: 4266\n",
            "\n",
            "read_bam | reading ./s3.msi.umn.edu/dsouz072/datasets/dataset=Ascl1_version=20200128a/MEF.bam\n",
            "\n",
            "read_bam | reading ./s3.msi.umn.edu/dsouz072/datasets/dataset=Ascl1_version=20200128a/MEF_Ascl1_22d.bam\n",
            "\n"
          ]
        }
      ]
    },
    {
      "cell_type": "markdown",
      "metadata": {
        "id": "HcRTNNFJ94xf"
      },
      "source": [
        "### Training VAE model for V-plots"
      ]
    },
    {
      "cell_type": "markdown",
      "source": [
        "As of 1/20/2022, Colab had errors on the first run. Run the cell again will resolve the issue."
      ],
      "metadata": {
        "id": "iuoxZozaIAz3"
      }
    },
    {
      "cell_type": "code",
      "metadata": {
        "id": "BdWzYOndyjhu",
        "colab": {
          "base_uri": "https://localhost:8080/"
        },
        "outputId": "fc8e485e-5b64-4941-ba4f-36aeba9a45da"
      },
      "source": [
        "model <- new('VaeModel', model = VaeModel(\n",
        "  n_samples = dim(x)['sample'],\n",
        "  latent_dim = ARGS[['vae_latent']],\n",
        "  block_size = ARGS[['block_size']],\n",
        "  bin_size = ARGS[['bin_size']],\n",
        "  filters0 = ARGS[['vae_filters0']],\n",
        "  filters = ARGS[['vae_filters']],\n",
        "  upsample_layers = ARGS[['vae_upsample_layers']],\n",
        "  downsample_layers = ARGS[['vae_downsample_layers']],\n",
        "  fragment_size_range  = c(0, ARGS[['fragment_size_range_max']]),\n",
        "  fragment_size_interval = ARGS[['fragment_size_interval']]\n",
        "))\n",
        "lr <- WarmUpAndCosineDecay(\n",
        "  base_learning_rate = ARGS[['vae_base_learning_rate']],\n",
        "  num_examples = nrow(x),\n",
        "  batch_size = ARGS[['vae_batch_size']],\n",
        "  epochs = ARGS[['vae_epochs']],\n",
        "  warmup_epochs = as.integer(ARGS[['vae_epochs']] * ARGS[['vae_warmup_ratio']])\n",
        ")\n",
        "beta <- beta_schedule(\n",
        "  method = ARGS[['vae_beta_schedule_method']],\n",
        "  beta0 = ARGS[['vae_beta0']],\n",
        "  epochs = ARGS[['vae_epochs']]\n",
        ")\n",
        "d <- model %>% prepare_data(x)\n",
        "d <- d %>% tensor_slices_dataset()\n",
        "model <- model %>% fit(d, batch_size =  ARGS[['vae_batch_size']], epochs = ARGS[['vae_epochs']], learning_rate = lr, compile = TRUE, beta = beta)"
      ],
      "execution_count": 28,
      "outputs": [
        {
          "output_type": "stream",
          "name": "stderr",
          "text": [
            "epoch=     1/   200 | beta=1.000e+00 | loss= 3478.9967256 | loss_reconstruction= 3478.4729148 | loss_kl=    0.5238023\n",
            "\n",
            "epoch=     2/   200 | beta=1.000e+00 | loss= 2779.7100256 | loss_reconstruction= 2777.9309728 | loss_kl=    1.7790430\n",
            "\n",
            "epoch=     3/   200 | beta=1.000e+00 | loss= 2421.3223231 | loss_reconstruction= 2418.3525103 | loss_kl=    2.9698111\n",
            "\n",
            "epoch=     4/   200 | beta=1.000e+00 | loss= 2018.2187033 | loss_reconstruction= 2016.4905288 | loss_kl=    1.7281813\n",
            "\n",
            "epoch=     5/   200 | beta=1.000e+00 | loss= 1498.5299072 | loss_reconstruction= 1497.4675652 | loss_kl=    1.0623490\n",
            "\n",
            "epoch=     6/   200 | beta=1.000e+00 | loss=  976.2948896 | loss_reconstruction=  975.6705969 | loss_kl=    0.6242978\n",
            "\n",
            "epoch=     7/   200 | beta=1.000e+00 | loss=  611.9693675 | loss_reconstruction=  611.6894558 | loss_kl=    0.2799147\n",
            "\n",
            "epoch=     8/   200 | beta=1.000e+00 | loss=  426.8502152 | loss_reconstruction=  426.7101907 | loss_kl=    0.1400218\n",
            "\n",
            "epoch=     9/   200 | beta=1.000e+00 | loss=  345.0437721 | loss_reconstruction=  344.9467504 | loss_kl=    0.0970235\n",
            "\n",
            "epoch=    10/   200 | beta=1.000e+00 | loss=  305.0742915 | loss_reconstruction=  304.0491369 | loss_kl=    1.0251542\n",
            "\n",
            "epoch=    11/   200 | beta=1.000e+00 | loss=  279.5953046 | loss_reconstruction=  277.3013009 | loss_kl=    2.2940016\n",
            "\n",
            "epoch=    12/   200 | beta=1.000e+00 | loss=  264.9762685 | loss_reconstruction=  262.0245599 | loss_kl=    2.9517081\n",
            "\n",
            "epoch=    13/   200 | beta=1.000e+00 | loss=  255.9582102 | loss_reconstruction=  252.5295087 | loss_kl=    3.4287016\n",
            "\n",
            "epoch=    14/   200 | beta=1.000e+00 | loss=  251.1111082 | loss_reconstruction=  247.2522677 | loss_kl=    3.8588394\n",
            "\n",
            "epoch=    15/   200 | beta=1.000e+00 | loss=  247.9005814 | loss_reconstruction=  243.8182099 | loss_kl=    4.0823718\n",
            "\n",
            "epoch=    16/   200 | beta=1.000e+00 | loss=  246.0187248 | loss_reconstruction=  241.7085962 | loss_kl=    4.3101282\n",
            "\n",
            "epoch=    17/   200 | beta=1.000e+00 | loss=  244.3893213 | loss_reconstruction=  239.8886279 | loss_kl=    4.5006917\n",
            "\n",
            "epoch=    18/   200 | beta=1.000e+00 | loss=  243.7889795 | loss_reconstruction=  239.2238280 | loss_kl=    4.5651519\n",
            "\n",
            "epoch=    19/   200 | beta=1.000e+00 | loss=  243.1424884 | loss_reconstruction=  238.5029427 | loss_kl=    4.6395466\n",
            "\n",
            "epoch=    20/   200 | beta=1.000e+00 | loss=  243.3104194 | loss_reconstruction=  238.5604535 | loss_kl=    4.7499645\n",
            "\n",
            "epoch=    21/   200 | beta=1.000e+00 | loss=  242.0672298 | loss_reconstruction=  237.2783405 | loss_kl=    4.7888903\n",
            "\n",
            "epoch=    22/   200 | beta=1.000e+00 | loss=  242.0338341 | loss_reconstruction=  237.2254239 | loss_kl=    4.8084104\n",
            "\n",
            "epoch=    23/   200 | beta=1.000e+00 | loss=  241.5964849 | loss_reconstruction=  236.7210922 | loss_kl=    4.8753919\n",
            "\n",
            "epoch=    24/   200 | beta=1.000e+00 | loss=  241.2725763 | loss_reconstruction=  236.3453490 | loss_kl=    4.9272282\n",
            "\n",
            "epoch=    25/   200 | beta=1.000e+00 | loss=  241.0392766 | loss_reconstruction=  236.1165758 | loss_kl=    4.9227015\n",
            "\n",
            "epoch=    26/   200 | beta=1.000e+00 | loss=  240.6924860 | loss_reconstruction=  235.7034374 | loss_kl=    4.9890475\n",
            "\n",
            "epoch=    27/   200 | beta=1.000e+00 | loss=  240.7174449 | loss_reconstruction=  235.7427943 | loss_kl=    4.9746514\n",
            "\n",
            "epoch=    28/   200 | beta=1.000e+00 | loss=  240.3727736 | loss_reconstruction=  235.3446803 | loss_kl=    5.0280933\n",
            "\n",
            "epoch=    29/   200 | beta=1.000e+00 | loss=  240.3051753 | loss_reconstruction=  235.2634686 | loss_kl=    5.0417066\n",
            "\n",
            "epoch=    30/   200 | beta=1.000e+00 | loss=  240.1964695 | loss_reconstruction=  235.1668755 | loss_kl=    5.0295929\n",
            "\n",
            "epoch=    31/   200 | beta=1.000e+00 | loss=  239.9751039 | loss_reconstruction=  234.9238227 | loss_kl=    5.0512811\n",
            "\n",
            "epoch=    32/   200 | beta=1.000e+00 | loss=  239.8715425 | loss_reconstruction=  234.7760719 | loss_kl=    5.0954705\n",
            "\n",
            "epoch=    33/   200 | beta=1.000e+00 | loss=  239.9902968 | loss_reconstruction=  234.8908732 | loss_kl=    5.0994241\n",
            "\n",
            "epoch=    34/   200 | beta=1.000e+00 | loss=  239.7926205 | loss_reconstruction=  234.6888392 | loss_kl=    5.1037833\n",
            "\n",
            "epoch=    35/   200 | beta=1.000e+00 | loss=  239.8224555 | loss_reconstruction=  234.6940312 | loss_kl=    5.1284248\n",
            "\n",
            "epoch=    36/   200 | beta=1.000e+00 | loss=  239.7068320 | loss_reconstruction=  234.5741770 | loss_kl=    5.1326548\n",
            "\n",
            "epoch=    37/   200 | beta=1.000e+00 | loss=  240.2083130 | loss_reconstruction=  235.0590538 | loss_kl=    5.1492586\n",
            "\n",
            "epoch=    38/   200 | beta=1.000e+00 | loss=  239.7419326 | loss_reconstruction=  234.6213199 | loss_kl=    5.1206136\n",
            "\n",
            "epoch=    39/   200 | beta=1.000e+00 | loss=  239.8524879 | loss_reconstruction=  234.6785036 | loss_kl=    5.1739840\n",
            "\n",
            "epoch=    40/   200 | beta=1.000e+00 | loss=  239.5397617 | loss_reconstruction=  234.4009758 | loss_kl=    5.1387865\n",
            "\n",
            "epoch=    41/   200 | beta=1.000e+00 | loss=  239.3570956 | loss_reconstruction=  234.1560350 | loss_kl=    5.2010588\n",
            "\n",
            "epoch=    42/   200 | beta=1.000e+00 | loss=  239.3527527 | loss_reconstruction=  234.1879344 | loss_kl=    5.1648184\n",
            "\n",
            "epoch=    43/   200 | beta=1.000e+00 | loss=  239.3821999 | loss_reconstruction=  234.1579226 | loss_kl=    5.2242772\n",
            "\n",
            "epoch=    44/   200 | beta=1.000e+00 | loss=  239.2728321 | loss_reconstruction=  234.0444628 | loss_kl=    5.2283682\n",
            "\n",
            "epoch=    45/   200 | beta=1.000e+00 | loss=  239.3862884 | loss_reconstruction=  234.1360586 | loss_kl=    5.2502297\n",
            "\n",
            "epoch=    46/   200 | beta=1.000e+00 | loss=  239.3398873 | loss_reconstruction=  234.1140949 | loss_kl=    5.2257926\n",
            "\n",
            "epoch=    47/   200 | beta=1.000e+00 | loss=  239.3824301 | loss_reconstruction=  234.1465113 | loss_kl=    5.2359188\n",
            "\n",
            "epoch=    48/   200 | beta=1.000e+00 | loss=  239.2097321 | loss_reconstruction=  233.9126452 | loss_kl=    5.2970856\n",
            "\n",
            "epoch=    49/   200 | beta=1.000e+00 | loss=  239.5469311 | loss_reconstruction=  234.2909865 | loss_kl=    5.2559451\n",
            "\n",
            "epoch=    50/   200 | beta=1.000e+00 | loss=  239.3556258 | loss_reconstruction=  234.0947275 | loss_kl=    5.2608974\n",
            "\n",
            "epoch=    51/   200 | beta=1.000e+00 | loss=  239.2270274 | loss_reconstruction=  233.9689919 | loss_kl=    5.2580347\n",
            "\n",
            "epoch=    52/   200 | beta=1.000e+00 | loss=  238.9908761 | loss_reconstruction=  233.7181361 | loss_kl=    5.2727394\n",
            "\n",
            "epoch=    53/   200 | beta=1.000e+00 | loss=  238.9367205 | loss_reconstruction=  233.6461442 | loss_kl=    5.2905760\n",
            "\n",
            "epoch=    54/   200 | beta=1.000e+00 | loss=  239.0949465 | loss_reconstruction=  233.7648917 | loss_kl=    5.3300539\n",
            "\n",
            "epoch=    55/   200 | beta=1.000e+00 | loss=  239.1231308 | loss_reconstruction=  233.8067649 | loss_kl=    5.3163674\n",
            "\n",
            "epoch=    56/   200 | beta=1.000e+00 | loss=  238.8270156 | loss_reconstruction=  233.5148167 | loss_kl=    5.3122004\n",
            "\n",
            "epoch=    57/   200 | beta=1.000e+00 | loss=  238.8969718 | loss_reconstruction=  233.5742188 | loss_kl=    5.3227518\n",
            "\n",
            "epoch=    58/   200 | beta=1.000e+00 | loss=  238.6573980 | loss_reconstruction=  233.3195146 | loss_kl=    5.3378834\n",
            "\n",
            "epoch=    59/   200 | beta=1.000e+00 | loss=  238.6778170 | loss_reconstruction=  233.3036351 | loss_kl=    5.3741818\n",
            "\n",
            "epoch=    60/   200 | beta=1.000e+00 | loss=  238.5854286 | loss_reconstruction=  233.2550363 | loss_kl=    5.3303925\n",
            "\n",
            "epoch=    61/   200 | beta=1.000e+00 | loss=  238.5062260 | loss_reconstruction=  233.1800209 | loss_kl=    5.3262042\n",
            "\n",
            "epoch=    62/   200 | beta=1.000e+00 | loss=  238.6822950 | loss_reconstruction=  233.2835940 | loss_kl=    5.3987011\n",
            "\n",
            "epoch=    63/   200 | beta=1.000e+00 | loss=  238.7685363 | loss_reconstruction=  233.3912407 | loss_kl=    5.3772964\n",
            "\n",
            "epoch=    64/   200 | beta=1.000e+00 | loss=  238.8417242 | loss_reconstruction=  233.4134382 | loss_kl=    5.4282863\n",
            "\n",
            "epoch=    65/   200 | beta=1.000e+00 | loss=  238.5045458 | loss_reconstruction=  233.1107335 | loss_kl=    5.3938129\n",
            "\n",
            "epoch=    66/   200 | beta=1.000e+00 | loss=  238.4498735 | loss_reconstruction=  233.0357504 | loss_kl=    5.4141219\n",
            "\n",
            "epoch=    67/   200 | beta=1.000e+00 | loss=  238.5175193 | loss_reconstruction=  233.0862144 | loss_kl=    5.4313036\n",
            "\n",
            "epoch=    68/   200 | beta=1.000e+00 | loss=  238.4366872 | loss_reconstruction=  233.0082187 | loss_kl=    5.4284700\n",
            "\n",
            "epoch=    69/   200 | beta=1.000e+00 | loss=  238.8332196 | loss_reconstruction=  233.4484132 | loss_kl=    5.3848074\n",
            "\n",
            "epoch=    70/   200 | beta=1.000e+00 | loss=  238.4532735 | loss_reconstruction=  232.9890267 | loss_kl=    5.4642459\n",
            "\n",
            "epoch=    71/   200 | beta=1.000e+00 | loss=  238.3177607 | loss_reconstruction=  232.8876895 | loss_kl=    5.4300710\n",
            "\n",
            "epoch=    72/   200 | beta=1.000e+00 | loss=  238.1786818 | loss_reconstruction=  232.7172111 | loss_kl=    5.4614703\n",
            "\n",
            "epoch=    73/   200 | beta=1.000e+00 | loss=  238.2555524 | loss_reconstruction=  232.7518611 | loss_kl=    5.5036911\n",
            "\n",
            "epoch=    74/   200 | beta=1.000e+00 | loss=  238.1442449 | loss_reconstruction=  232.6772645 | loss_kl=    5.4669810\n",
            "\n",
            "epoch=    75/   200 | beta=1.000e+00 | loss=  238.1009782 | loss_reconstruction=  232.6088822 | loss_kl=    5.4920956\n",
            "\n",
            "epoch=    76/   200 | beta=1.000e+00 | loss=  238.0850045 | loss_reconstruction=  232.5602691 | loss_kl=    5.5247344\n",
            "\n",
            "epoch=    77/   200 | beta=1.000e+00 | loss=  238.1315909 | loss_reconstruction=  232.6632116 | loss_kl=    5.4683806\n",
            "\n",
            "epoch=    78/   200 | beta=1.000e+00 | loss=  238.0369891 | loss_reconstruction=  232.5171455 | loss_kl=    5.5198430\n",
            "\n",
            "epoch=    79/   200 | beta=1.000e+00 | loss=  237.9466593 | loss_reconstruction=  232.4360275 | loss_kl=    5.5106320\n",
            "\n",
            "epoch=    80/   200 | beta=1.000e+00 | loss=  237.8762050 | loss_reconstruction=  232.3066976 | loss_kl=    5.5695070\n",
            "\n",
            "epoch=    81/   200 | beta=1.000e+00 | loss=  237.9702472 | loss_reconstruction=  232.4392085 | loss_kl=    5.5310395\n",
            "\n",
            "epoch=    82/   200 | beta=1.000e+00 | loss=  237.8020029 | loss_reconstruction=  232.2705473 | loss_kl=    5.5314547\n",
            "\n",
            "epoch=    83/   200 | beta=1.000e+00 | loss=  238.0559921 | loss_reconstruction=  232.5096830 | loss_kl=    5.5463095\n",
            "\n",
            "epoch=    84/   200 | beta=1.000e+00 | loss=  238.0826973 | loss_reconstruction=  232.5261823 | loss_kl=    5.5565151\n",
            "\n",
            "epoch=    85/   200 | beta=1.000e+00 | loss=  237.9027849 | loss_reconstruction=  232.3479251 | loss_kl=    5.5548585\n",
            "\n",
            "epoch=    86/   200 | beta=1.000e+00 | loss=  237.8769320 | loss_reconstruction=  232.2990242 | loss_kl=    5.5779086\n",
            "\n",
            "epoch=    87/   200 | beta=1.000e+00 | loss=  237.7612933 | loss_reconstruction=  232.1361591 | loss_kl=    5.6251341\n",
            "\n",
            "epoch=    88/   200 | beta=1.000e+00 | loss=  237.6568577 | loss_reconstruction=  232.0853895 | loss_kl=    5.5714689\n",
            "\n",
            "epoch=    89/   200 | beta=1.000e+00 | loss=  237.7641391 | loss_reconstruction=  232.1514650 | loss_kl=    5.6126754\n",
            "\n",
            "epoch=    90/   200 | beta=1.000e+00 | loss=  237.6548054 | loss_reconstruction=  232.0600276 | loss_kl=    5.5947769\n",
            "\n",
            "epoch=    91/   200 | beta=1.000e+00 | loss=  237.8511420 | loss_reconstruction=  232.2655110 | loss_kl=    5.5856310\n",
            "\n",
            "epoch=    92/   200 | beta=1.000e+00 | loss=  237.6608447 | loss_reconstruction=  232.0262734 | loss_kl=    5.6345704\n",
            "\n",
            "epoch=    93/   200 | beta=1.000e+00 | loss=  237.4588816 | loss_reconstruction=  231.8093105 | loss_kl=    5.6495711\n",
            "\n",
            "epoch=    94/   200 | beta=1.000e+00 | loss=  237.4797305 | loss_reconstruction=  231.8151272 | loss_kl=    5.6646024\n",
            "\n",
            "epoch=    95/   200 | beta=1.000e+00 | loss=  237.4226577 | loss_reconstruction=  231.7212278 | loss_kl=    5.7014297\n",
            "\n",
            "epoch=    96/   200 | beta=1.000e+00 | loss=  237.5153903 | loss_reconstruction=  231.8813809 | loss_kl=    5.6340081\n",
            "\n",
            "epoch=    97/   200 | beta=1.000e+00 | loss=  237.4414466 | loss_reconstruction=  231.7583457 | loss_kl=    5.6831010\n",
            "\n",
            "epoch=    98/   200 | beta=1.000e+00 | loss=  237.3189428 | loss_reconstruction=  231.6328619 | loss_kl=    5.6860811\n",
            "\n",
            "epoch=    99/   200 | beta=1.000e+00 | loss=  237.2975217 | loss_reconstruction=  231.6038576 | loss_kl=    5.6936632\n",
            "\n",
            "epoch=   100/   200 | beta=1.000e+00 | loss=  237.2830151 | loss_reconstruction=  231.5670085 | loss_kl=    5.7160066\n",
            "\n",
            "epoch=   101/   200 | beta=1.000e+00 | loss=  237.1986627 | loss_reconstruction=  231.4877638 | loss_kl=    5.7108980\n",
            "\n",
            "epoch=   102/   200 | beta=1.000e+00 | loss=  237.2223933 | loss_reconstruction=  231.4881601 | loss_kl=    5.7342345\n",
            "\n",
            "epoch=   103/   200 | beta=1.000e+00 | loss=  237.1893230 | loss_reconstruction=  231.4568697 | loss_kl=    5.7324541\n",
            "\n",
            "epoch=   104/   200 | beta=1.000e+00 | loss=  237.1835888 | loss_reconstruction=  231.4321688 | loss_kl=    5.7514192\n",
            "\n",
            "epoch=   105/   200 | beta=1.000e+00 | loss=  237.2666348 | loss_reconstruction=  231.5075423 | loss_kl=    5.7590932\n",
            "\n",
            "epoch=   106/   200 | beta=1.000e+00 | loss=  237.1589679 | loss_reconstruction=  231.4002434 | loss_kl=    5.7587246\n",
            "\n",
            "epoch=   107/   200 | beta=1.000e+00 | loss=  237.2666375 | loss_reconstruction=  231.5241031 | loss_kl=    5.7425338\n",
            "\n",
            "epoch=   108/   200 | beta=1.000e+00 | loss=  237.0860605 | loss_reconstruction=  231.3427501 | loss_kl=    5.7433091\n",
            "\n",
            "epoch=   109/   200 | beta=1.000e+00 | loss=  236.9978292 | loss_reconstruction=  231.2171981 | loss_kl=    5.7806312\n",
            "\n",
            "epoch=   110/   200 | beta=1.000e+00 | loss=  236.8601317 | loss_reconstruction=  231.0744651 | loss_kl=    5.7856674\n",
            "\n",
            "epoch=   111/   200 | beta=1.000e+00 | loss=  236.9272474 | loss_reconstruction=  231.0825886 | loss_kl=    5.8446578\n",
            "\n",
            "epoch=   112/   200 | beta=1.000e+00 | loss=  236.7943021 | loss_reconstruction=  231.0014828 | loss_kl=    5.7928188\n",
            "\n",
            "epoch=   113/   200 | beta=1.000e+00 | loss=  236.9026346 | loss_reconstruction=  231.0610899 | loss_kl=    5.8415442\n",
            "\n",
            "epoch=   114/   200 | beta=1.000e+00 | loss=  236.8007148 | loss_reconstruction=  230.9473989 | loss_kl=    5.8533147\n",
            "\n",
            "epoch=   115/   200 | beta=1.000e+00 | loss=  236.7633398 | loss_reconstruction=  230.9363309 | loss_kl=    5.8270092\n",
            "\n",
            "epoch=   116/   200 | beta=1.000e+00 | loss=  236.7821521 | loss_reconstruction=  230.9100454 | loss_kl=    5.8721078\n",
            "\n",
            "epoch=   117/   200 | beta=1.000e+00 | loss=  236.6724351 | loss_reconstruction=  230.8303685 | loss_kl=    5.8420660\n",
            "\n",
            "epoch=   118/   200 | beta=1.000e+00 | loss=  236.7089346 | loss_reconstruction=  230.8438164 | loss_kl=    5.8651180\n",
            "\n",
            "epoch=   119/   200 | beta=1.000e+00 | loss=  236.5666634 | loss_reconstruction=  230.6838536 | loss_kl=    5.8828105\n",
            "\n",
            "epoch=   120/   200 | beta=1.000e+00 | loss=  236.6535173 | loss_reconstruction=  230.7574782 | loss_kl=    5.8960394\n",
            "\n",
            "epoch=   121/   200 | beta=1.000e+00 | loss=  236.5648045 | loss_reconstruction=  230.6842723 | loss_kl=    5.8805330\n",
            "\n",
            "epoch=   122/   200 | beta=1.000e+00 | loss=  236.5341730 | loss_reconstruction=  230.6311583 | loss_kl=    5.9030128\n",
            "\n",
            "epoch=   123/   200 | beta=1.000e+00 | loss=  236.5253843 | loss_reconstruction=  230.6006708 | loss_kl=    5.9247127\n",
            "\n",
            "epoch=   124/   200 | beta=1.000e+00 | loss=  236.5785123 | loss_reconstruction=  230.6507918 | loss_kl=    5.9277200\n",
            "\n",
            "epoch=   125/   200 | beta=1.000e+00 | loss=  236.3478793 | loss_reconstruction=  230.4102824 | loss_kl=    5.9375965\n",
            "\n",
            "epoch=   126/   200 | beta=1.000e+00 | loss=  236.2855193 | loss_reconstruction=  230.3426778 | loss_kl=    5.9428415\n",
            "\n",
            "epoch=   127/   200 | beta=1.000e+00 | loss=  236.2706420 | loss_reconstruction=  230.3151474 | loss_kl=    5.9554953\n",
            "\n",
            "epoch=   128/   200 | beta=1.000e+00 | loss=  236.2322881 | loss_reconstruction=  230.3128676 | loss_kl=    5.9194200\n",
            "\n",
            "epoch=   129/   200 | beta=1.000e+00 | loss=  236.3188683 | loss_reconstruction=  230.3094913 | loss_kl=    6.0093766\n",
            "\n",
            "epoch=   130/   200 | beta=1.000e+00 | loss=  236.1719499 | loss_reconstruction=  230.1817349 | loss_kl=    5.9902156\n",
            "\n",
            "epoch=   131/   200 | beta=1.000e+00 | loss=  236.1356093 | loss_reconstruction=  230.1771146 | loss_kl=    5.9584950\n",
            "\n",
            "epoch=   132/   200 | beta=1.000e+00 | loss=  236.0468938 | loss_reconstruction=  230.0147552 | loss_kl=    6.0321392\n",
            "\n",
            "epoch=   133/   200 | beta=1.000e+00 | loss=  236.0194042 | loss_reconstruction=  230.0019293 | loss_kl=    6.0174759\n",
            "\n",
            "epoch=   134/   200 | beta=1.000e+00 | loss=  235.9989395 | loss_reconstruction=  230.0037429 | loss_kl=    5.9951981\n",
            "\n",
            "epoch=   135/   200 | beta=1.000e+00 | loss=  236.0260059 | loss_reconstruction=  229.9519586 | loss_kl=    6.0740465\n",
            "\n",
            "epoch=   136/   200 | beta=1.000e+00 | loss=  235.9330005 | loss_reconstruction=  229.9023505 | loss_kl=    6.0306502\n",
            "\n",
            "epoch=   137/   200 | beta=1.000e+00 | loss=  235.9372913 | loss_reconstruction=  229.8560033 | loss_kl=    6.0812866\n",
            "\n",
            "epoch=   138/   200 | beta=1.000e+00 | loss=  235.8279720 | loss_reconstruction=  229.7720153 | loss_kl=    6.0559575\n",
            "\n",
            "epoch=   139/   200 | beta=1.000e+00 | loss=  235.8912277 | loss_reconstruction=  229.8092808 | loss_kl=    6.0819459\n",
            "\n",
            "epoch=   140/   200 | beta=1.000e+00 | loss=  235.8242573 | loss_reconstruction=  229.7542419 | loss_kl=    6.0700160\n",
            "\n",
            "epoch=   141/   200 | beta=1.000e+00 | loss=  235.7249801 | loss_reconstruction=  229.6582211 | loss_kl=    6.0667575\n",
            "\n",
            "epoch=   142/   200 | beta=1.000e+00 | loss=  235.7070353 | loss_reconstruction=  229.6142695 | loss_kl=    6.0927658\n",
            "\n",
            "epoch=   143/   200 | beta=1.000e+00 | loss=  235.7169885 | loss_reconstruction=  229.5920015 | loss_kl=    6.1249877\n",
            "\n",
            "epoch=   144/   200 | beta=1.000e+00 | loss=  235.6326550 | loss_reconstruction=  229.5023876 | loss_kl=    6.1302675\n",
            "\n",
            "epoch=   145/   200 | beta=1.000e+00 | loss=  235.5383099 | loss_reconstruction=  229.4115991 | loss_kl=    6.1267115\n",
            "\n",
            "epoch=   146/   200 | beta=1.000e+00 | loss=  235.5748565 | loss_reconstruction=  229.4511409 | loss_kl=    6.1237149\n",
            "\n",
            "epoch=   147/   200 | beta=1.000e+00 | loss=  235.4828348 | loss_reconstruction=  229.2898425 | loss_kl=    6.1929919\n",
            "\n",
            "epoch=   148/   200 | beta=1.000e+00 | loss=  235.4585823 | loss_reconstruction=  229.3060455 | loss_kl=    6.1525358\n",
            "\n",
            "epoch=   149/   200 | beta=1.000e+00 | loss=  235.4942250 | loss_reconstruction=  229.3268904 | loss_kl=    6.1673348\n",
            "\n",
            "epoch=   150/   200 | beta=1.000e+00 | loss=  235.3376155 | loss_reconstruction=  229.1777734 | loss_kl=    6.1598424\n",
            "\n",
            "epoch=   151/   200 | beta=1.000e+00 | loss=  235.3274976 | loss_reconstruction=  229.1155122 | loss_kl=    6.2119828\n",
            "\n",
            "epoch=   152/   200 | beta=1.000e+00 | loss=  235.3050268 | loss_reconstruction=  229.1197384 | loss_kl=    6.1852878\n",
            "\n",
            "epoch=   153/   200 | beta=1.000e+00 | loss=  235.2647045 | loss_reconstruction=  229.0571949 | loss_kl=    6.2075099\n",
            "\n",
            "epoch=   154/   200 | beta=1.000e+00 | loss=  235.2310755 | loss_reconstruction=  229.0115572 | loss_kl=    6.2195190\n",
            "\n",
            "epoch=   155/   200 | beta=1.000e+00 | loss=  235.2568952 | loss_reconstruction=  229.0130925 | loss_kl=    6.2438023\n",
            "\n",
            "epoch=   156/   200 | beta=1.000e+00 | loss=  235.1482432 | loss_reconstruction=  228.9516444 | loss_kl=    6.1965983\n",
            "\n",
            "epoch=   157/   200 | beta=1.000e+00 | loss=  235.1402983 | loss_reconstruction=  228.8746441 | loss_kl=    6.2656533\n",
            "\n",
            "epoch=   158/   200 | beta=1.000e+00 | loss=  235.0749916 | loss_reconstruction=  228.8204094 | loss_kl=    6.2545803\n",
            "\n",
            "epoch=   159/   200 | beta=1.000e+00 | loss=  234.9967589 | loss_reconstruction=  228.7762895 | loss_kl=    6.2204693\n",
            "\n",
            "epoch=   160/   200 | beta=1.000e+00 | loss=  234.9907168 | loss_reconstruction=  228.7252036 | loss_kl=    6.2655124\n",
            "\n",
            "epoch=   161/   200 | beta=1.000e+00 | loss=  235.0087967 | loss_reconstruction=  228.7284532 | loss_kl=    6.2803434\n",
            "\n",
            "epoch=   162/   200 | beta=1.000e+00 | loss=  234.9251170 | loss_reconstruction=  228.6618661 | loss_kl=    6.2632507\n",
            "\n",
            "epoch=   163/   200 | beta=1.000e+00 | loss=  234.8994352 | loss_reconstruction=  228.6100244 | loss_kl=    6.2894127\n",
            "\n",
            "epoch=   164/   200 | beta=1.000e+00 | loss=  234.8751786 | loss_reconstruction=  228.5693943 | loss_kl=    6.3057862\n",
            "\n",
            "epoch=   165/   200 | beta=1.000e+00 | loss=  234.8357320 | loss_reconstruction=  228.5330268 | loss_kl=    6.3027052\n",
            "\n",
            "epoch=   166/   200 | beta=1.000e+00 | loss=  234.8418561 | loss_reconstruction=  228.5443928 | loss_kl=    6.2974630\n",
            "\n",
            "epoch=   167/   200 | beta=1.000e+00 | loss=  234.8176974 | loss_reconstruction=  228.4659128 | loss_kl=    6.3517838\n",
            "\n",
            "epoch=   168/   200 | beta=1.000e+00 | loss=  234.7762047 | loss_reconstruction=  228.4569962 | loss_kl=    6.3192084\n",
            "\n",
            "epoch=   169/   200 | beta=1.000e+00 | loss=  234.7222869 | loss_reconstruction=  228.4105521 | loss_kl=    6.3117354\n",
            "\n",
            "epoch=   170/   200 | beta=1.000e+00 | loss=  234.7481353 | loss_reconstruction=  228.3879368 | loss_kl=    6.3601997\n",
            "\n",
            "epoch=   171/   200 | beta=1.000e+00 | loss=  234.6824574 | loss_reconstruction=  228.3583576 | loss_kl=    6.3240999\n",
            "\n",
            "epoch=   172/   200 | beta=1.000e+00 | loss=  234.6578531 | loss_reconstruction=  228.2748642 | loss_kl=    6.3829890\n",
            "\n",
            "epoch=   173/   200 | beta=1.000e+00 | loss=  234.6429672 | loss_reconstruction=  228.2736812 | loss_kl=    6.3692865\n",
            "\n",
            "epoch=   174/   200 | beta=1.000e+00 | loss=  234.6014140 | loss_reconstruction=  228.2605820 | loss_kl=    6.3408325\n",
            "\n",
            "epoch=   175/   200 | beta=1.000e+00 | loss=  234.5734136 | loss_reconstruction=  228.1947062 | loss_kl=    6.3787075\n",
            "\n",
            "epoch=   176/   200 | beta=1.000e+00 | loss=  234.5685613 | loss_reconstruction=  228.1911621 | loss_kl=    6.3773991\n",
            "\n",
            "epoch=   177/   200 | beta=1.000e+00 | loss=  234.5317908 | loss_reconstruction=  228.1539159 | loss_kl=    6.3778752\n",
            "\n",
            "epoch=   178/   200 | beta=1.000e+00 | loss=  234.5299418 | loss_reconstruction=  228.1547430 | loss_kl=    6.3751977\n",
            "\n",
            "epoch=   179/   200 | beta=1.000e+00 | loss=  234.5300809 | loss_reconstruction=  228.1626264 | loss_kl=    6.3674543\n",
            "\n",
            "epoch=   180/   200 | beta=1.000e+00 | loss=  234.4850343 | loss_reconstruction=  228.1123011 | loss_kl=    6.3727336\n",
            "\n",
            "epoch=   181/   200 | beta=1.000e+00 | loss=  234.4667646 | loss_reconstruction=  228.0749090 | loss_kl=    6.3918551\n",
            "\n",
            "epoch=   182/   200 | beta=1.000e+00 | loss=  234.4832028 | loss_reconstruction=  228.0737125 | loss_kl=    6.4094893\n",
            "\n",
            "epoch=   183/   200 | beta=1.000e+00 | loss=  234.4655878 | loss_reconstruction=  228.0760956 | loss_kl=    6.3894907\n",
            "\n",
            "epoch=   184/   200 | beta=1.000e+00 | loss=  234.4250793 | loss_reconstruction=  228.0310911 | loss_kl=    6.3939873\n",
            "\n",
            "epoch=   185/   200 | beta=1.000e+00 | loss=  234.4390420 | loss_reconstruction=  228.0636292 | loss_kl=    6.3754127\n",
            "\n",
            "epoch=   186/   200 | beta=1.000e+00 | loss=  234.4222444 | loss_reconstruction=  228.0336115 | loss_kl=    6.3886330\n",
            "\n",
            "epoch=   187/   200 | beta=1.000e+00 | loss=  234.3890664 | loss_reconstruction=  227.9809202 | loss_kl=    6.4081468\n",
            "\n",
            "epoch=   188/   200 | beta=1.000e+00 | loss=  234.3811583 | loss_reconstruction=  227.9459305 | loss_kl=    6.4352260\n",
            "\n",
            "epoch=   189/   200 | beta=1.000e+00 | loss=  234.3869194 | loss_reconstruction=  227.9958483 | loss_kl=    6.3910714\n",
            "\n",
            "epoch=   190/   200 | beta=1.000e+00 | loss=  234.3687152 | loss_reconstruction=  227.9697849 | loss_kl=    6.3989293\n",
            "\n",
            "epoch=   191/   200 | beta=1.000e+00 | loss=  234.3678957 | loss_reconstruction=  227.9784003 | loss_kl=    6.3894952\n",
            "\n",
            "epoch=   192/   200 | beta=1.000e+00 | loss=  234.3842495 | loss_reconstruction=  227.9939687 | loss_kl=    6.3902814\n",
            "\n",
            "epoch=   193/   200 | beta=1.000e+00 | loss=  234.3645545 | loss_reconstruction=  227.9586096 | loss_kl=    6.4059446\n",
            "\n",
            "epoch=   194/   200 | beta=1.000e+00 | loss=  234.3441979 | loss_reconstruction=  227.9437723 | loss_kl=    6.4004254\n",
            "\n",
            "epoch=   195/   200 | beta=1.000e+00 | loss=  234.3795287 | loss_reconstruction=  227.9523019 | loss_kl=    6.4272277\n",
            "\n",
            "epoch=   196/   200 | beta=1.000e+00 | loss=  234.3479035 | loss_reconstruction=  227.9590795 | loss_kl=    6.3888233\n",
            "\n",
            "epoch=   197/   200 | beta=1.000e+00 | loss=  234.3661477 | loss_reconstruction=  227.9828568 | loss_kl=    6.3832919\n",
            "\n",
            "epoch=   198/   200 | beta=1.000e+00 | loss=  234.3631538 | loss_reconstruction=  227.9560197 | loss_kl=    6.4071357\n",
            "\n",
            "epoch=   199/   200 | beta=1.000e+00 | loss=  234.3758505 | loss_reconstruction=  228.0082137 | loss_kl=    6.3676370\n",
            "\n",
            "epoch=   200/   200 | beta=1.000e+00 | loss=  234.3717037 | loss_reconstruction=  227.9736436 | loss_kl=    6.3980593\n",
            "\n"
          ]
        }
      ]
    },
    {
      "cell_type": "markdown",
      "metadata": {
        "id": "Tys_iLvnjlun"
      },
      "source": [
        "## Call differential Ascl1 motif centric V-plots between MEF and D7 MEF by SeATAC"
      ]
    },
    {
      "cell_type": "markdown",
      "metadata": {
        "id": "HFi3FyWGes3d"
      },
      "source": [
        "### Extract motif centric regions"
      ]
    },
    {
      "cell_type": "code",
      "metadata": {
        "id": "DGqCiI2reZzF"
      },
      "source": [
        "data('homer_pwms') # 321 TF motifs from Homer database"
      ],
      "execution_count": 29,
      "outputs": []
    },
    {
      "cell_type": "code",
      "metadata": {
        "id": "pRnZ76W5eh2T",
        "colab": {
          "base_uri": "https://localhost:8080/",
          "height": 53
        },
        "outputId": "ac56f9cb-02fc-4cf7-dd75-043d64067c48"
      },
      "source": [
        "j <- 9 # Ascl1\n",
        "homer_pwms[j]"
      ],
      "execution_count": 30,
      "outputs": [
        {
          "output_type": "display_data",
          "data": {
            "text/plain": [
              "PWMatrixList of length 1\n",
              "names(1): Ascl1(bHLH)/NeuralTubes-Ascl1-ChIP-Seq(GSE55840)/Homer"
            ]
          },
          "metadata": {}
        }
      ]
    },
    {
      "cell_type": "code",
      "metadata": {
        "id": "y92NANobehIy"
      },
      "source": [
        "gr <- matchMotifs(homer_pwms[j], gr0, genome = BSgenome.Mmusculus.UCSC.mm10, out = 'positions')[[1]] %>%\n",
        "  resize(width = ARGS[['block_size']], fix = 'center')"
      ],
      "execution_count": 31,
      "outputs": []
    },
    {
      "cell_type": "code",
      "metadata": {
        "id": "LhqmKHfnqOi0",
        "colab": {
          "base_uri": "https://localhost:8080/"
        },
        "outputId": "38efc0a3-0560-4592-a494-71e7917f3383"
      },
      "source": [
        "sprintf('number of motif-centric regions: %s', length(gr)) %>% message()"
      ],
      "execution_count": 32,
      "outputs": [
        {
          "output_type": "stream",
          "name": "stderr",
          "text": [
            "number of motif-centric regions: 71616\n",
            "\n"
          ]
        }
      ]
    },
    {
      "cell_type": "markdown",
      "metadata": {
        "id": "W1s_MLEnfeNW"
      },
      "source": [
        "### Read V-plots"
      ]
    },
    {
      "cell_type": "code",
      "metadata": {
        "id": "YZKSTzZ0V3gR",
        "colab": {
          "base_uri": "https://localhost:8080/"
        },
        "outputId": "9d73a378-3471-48af-e9c7-7ed399d65ffe"
      },
      "source": [
        "x <- read_vplot(gr, filenames = local_bam_files, genome = BSgenome.Mmusculus.UCSC.mm10, bin_size = ARGS[['bin_size']], fragment_size_range = c(0, ARGS[['fragment_size_range_max']]), fragment_size_interval = ARGS[['fragment_size_interval']])"
      ],
      "execution_count": 33,
      "outputs": [
        {
          "output_type": "stream",
          "name": "stderr",
          "text": [
            "read_bam | reading ./s3.msi.umn.edu/dsouz072/datasets/dataset=Ascl1_version=20200128a/MEF.bam\n",
            "\n",
            "read_bam | reading ./s3.msi.umn.edu/dsouz072/datasets/dataset=Ascl1_version=20200128a/MEF_Ascl1_22d.bam\n",
            "\n"
          ]
        }
      ]
    },
    {
      "cell_type": "markdown",
      "metadata": {
        "id": "h6lhLCtYfhqw"
      },
      "source": [
        "### Get the latent representations of the V-plots"
      ]
    },
    {
      "cell_type": "code",
      "metadata": {
        "id": "qnCyKD4iwpFG"
      },
      "source": [
        "x <- model %>% predict(x, batch_size = ARGS[['vae_batch_size']], vplots = TRUE)"
      ],
      "execution_count": 34,
      "outputs": []
    },
    {
      "cell_type": "markdown",
      "source": [
        "#Read the regions for Vplots"
      ],
      "metadata": {
        "id": "28_WCAtZ6ZG6"
      }
    },
    {
      "cell_type": "code",
      "source": [
        "res <- read.table('https://s3.msi.umn.edu/dsouz072/projects/seatac_project/config/seatac_Ascl1/name1=MEF_name2=MEF_D22_Ascl1/bin_size=5_fragment_size_range_max=640_fragment_size_interval=10_block_size=640/min_reads=10_vae_num_peaks=5000/vae_latent=5_vae_filters0=128_vae_filters=32_vae_downsample_layers=4_vae_upsample_layers=4_vae_epochs=200.tsv', header = TRUE, sep = '\\t')"
      ],
      "metadata": {
        "id": "3e4o2-LgX0Qg"
      },
      "execution_count": 35,
      "outputs": []
    },
    {
      "cell_type": "code",
      "source": [
        "res <- GRanges(res)"
      ],
      "metadata": {
        "id": "YAZ-TmvPNEQD"
      },
      "execution_count": 36,
      "outputs": []
    },
    {
      "cell_type": "code",
      "metadata": {
        "colab": {
          "base_uri": "https://localhost:8080/"
        },
        "id": "QijS2vz2fJAI",
        "outputId": "5388eb83-9db8-4c3f-b915-cfdb4b1666a1"
      },
      "source": [
        "sprintf('number of motif-centric regions: %s', length(res)) %>% message()"
      ],
      "execution_count": 37,
      "outputs": [
        {
          "output_type": "stream",
          "name": "stderr",
          "text": [
            "number of motif-centric regions: 71616\n",
            "\n"
          ]
        }
      ]
    },
    {
      "cell_type": "code",
      "source": [
        "is_signif <- res$padj < 0.05\n",
        "sprintf('# of significantly differential V-plots called by SeATAC: %d', sum(is_signif)) %>% message()"
      ],
      "metadata": {
        "colab": {
          "base_uri": "https://localhost:8080/"
        },
        "id": "aKcjBPE6E9Rb",
        "outputId": "f2ce40ea-7936-41e6-b762-5bee86ee824d"
      },
      "execution_count": 38,
      "outputs": [
        {
          "output_type": "stream",
          "name": "stderr",
          "text": [
            "# of significantly differential V-plots called by SeATAC: 33594\n",
            "\n"
          ]
        }
      ]
    },
    {
      "cell_type": "markdown",
      "source": [
        "#Vplots for specific genes"
      ],
      "metadata": {
        "id": "Bra0NhVVdYuh"
      }
    },
    {
      "cell_type": "code",
      "source": [
        "anno <- annotatePeak(res, tssRegion = c(-5000, 1000),TxDb = TxDb.Mmusculus.UCSC.mm10.knownGene,\n",
        "        annoDb = 'org.Mm.eg.db')"
      ],
      "metadata": {
        "colab": {
          "base_uri": "https://localhost:8080/"
        },
        "id": "g-I6i-nxdA_P",
        "outputId": "9cd7f7ac-bb9e-4361-8605-9376a3faf16a"
      },
      "execution_count": 39,
      "outputs": [
        {
          "output_type": "stream",
          "name": "stdout",
          "text": [
            ">> preparing features information...\t\t 2022-04-15 08:56:26 PM \n",
            ">> identifying nearest features...\t\t 2022-04-15 08:56:26 PM \n",
            ">> calculating distance from peak to TSS...\t 2022-04-15 08:56:28 PM \n",
            ">> assigning genomic annotation...\t\t 2022-04-15 08:56:28 PM \n",
            ">> adding gene annotation...\t\t\t 2022-04-15 08:56:44 PM \n"
          ]
        },
        {
          "output_type": "stream",
          "name": "stderr",
          "text": [
            "'select()' returned 1:many mapping between keys and columns\n",
            "\n"
          ]
        },
        {
          "output_type": "stream",
          "name": "stdout",
          "text": [
            ">> assigning chromosome lengths\t\t\t 2022-04-15 08:56:44 PM \n",
            ">> done...\t\t\t\t\t 2022-04-15 08:56:44 PM \n"
          ]
        }
      ]
    },
    {
      "cell_type": "code",
      "source": [
        "dat <- data.frame(anno)"
      ],
      "metadata": {
        "id": "sa4DbMJJfccF"
      },
      "execution_count": 40,
      "outputs": []
    },
    {
      "cell_type": "code",
      "source": [
        "anno_res <- GRanges(dat)"
      ],
      "metadata": {
        "id": "oiLQBEEsfgZ0"
      },
      "execution_count": 41,
      "outputs": []
    },
    {
      "cell_type": "markdown",
      "source": [
        "##Hes1"
      ],
      "metadata": {
        "id": "AafnG95Edc4C"
      }
    },
    {
      "cell_type": "code",
      "source": [
        "anno_res[!is.na(anno_res$SYMBOL) & \n",
        "  anno_res$SYMBOL == 'Hes1' &\n",
        "  anno_res$padj < 0.05 &\n",
        "  anno_res$log_ratio > 0.1]"
      ],
      "metadata": {
        "colab": {
          "base_uri": "https://localhost:8080/",
          "height": 344
        },
        "id": "iCpOVfyHfj_s",
        "outputId": "fc0ad233-5d2e-4ee0-a4a1-4f488ef399a5"
      },
      "execution_count": 42,
      "outputs": [
        {
          "output_type": "display_data",
          "data": {
            "text/plain": [
              "GRanges object with 1 range and 17 metadata columns:\n",
              "      seqnames            ranges strand |    pvalue_z        padj\n",
              "         <Rle>         <IRanges>  <Rle> |   <numeric>   <numeric>\n",
              "  [1]    chr16 30070557-30071196      * | 2.67011e-10 1.30072e-05\n",
              "      nucleosome_treatment nucleosome_control log_ratio        annotation\n",
              "                 <numeric>          <numeric> <numeric>       <character>\n",
              "  [1]             0.698415           0.467626  0.401144 Distal Intergenic\n",
              "        geneChr geneStart   geneEnd geneLength geneStrand      geneId\n",
              "      <integer> <integer> <integer>  <integer>  <integer> <character>\n",
              "  [1]        16  30066338  30067319        982          1       15205\n",
              "              transcriptId distanceToTSS            ENSEMBL      SYMBOL\n",
              "               <character>     <numeric>        <character> <character>\n",
              "  [1] ENSMUST00000161839.1          4219 ENSMUSG00000022528        Hes1\n",
              "                    GENENAME\n",
              "                 <character>\n",
              "  [1] hes family bHLH tran..\n",
              "  -------\n",
              "  seqinfo: 20 sequences from an unspecified genome; no seqlengths"
            ]
          },
          "metadata": {}
        }
      ]
    },
    {
      "cell_type": "code",
      "source": [
        "hes1 <- !is.na(anno_res$SYMBOL) & \n",
        "  anno_res$SYMBOL == 'Hes1' &\n",
        "  anno_res$padj < 0.05 &\n",
        "  anno_res$log_ratio > 0.1 "
      ],
      "metadata": {
        "id": "nEqSmeROgknV"
      },
      "execution_count": 43,
      "outputs": []
    },
    {
      "cell_type": "code",
      "source": [
        "x2 <- model %>% predict(x[hes1], batch_size = ARGS[['vae_batch_size']], vplots = TRUE)\n",
        "p1 <- vplot(x2, 'counts', ncol = 2L) +ggtitle('counts                                        Hes1') \n",
        "p2 <- vplot(x2, 'predicted_counts', ncol = 2L)"
      ],
      "metadata": {
        "id": "T6CnFl9NhCec"
      },
      "execution_count": 44,
      "outputs": []
    },
    {
      "cell_type": "code",
      "source": [
        "options(repr.plot.width = 8, repr.plot.height = 8)\n",
        "p1 / p2  + plot_annotation(tag_levels = 'A')"
      ],
      "metadata": {
        "colab": {
          "base_uri": "https://localhost:8080/",
          "height": 570
        },
        "outputId": "92f4e5c7-556a-41f9-b691-ee6bb77f8d83",
        "id": "2LaB3hooda-w"
      },
      "execution_count": 45,
      "outputs": [
        {
          "output_type": "stream",
          "name": "stderr",
          "text": [
            "Warning message:\n",
            "“Removed 64 rows containing missing values (geom_raster).”\n",
            "Warning message:\n",
            "“Removed 64 rows containing missing values (geom_raster).”\n"
          ]
        },
        {
          "output_type": "display_data",
          "data": {
            "text/plain": [
              "plot without title"
            ],
            "image/png": "[encoded data removed]"
          },
          "metadata": {
            "image/png": {
              "width": 480,
              "height": 480
            }
          }
        }
      ]
    },
    {
      "cell_type": "markdown",
      "source": [
        "##Hmga2 "
      ],
      "metadata": {
        "id": "tmg2oYxlhWRC"
      }
    },
    {
      "cell_type": "code",
      "source": [
        "anno_res[!is.na(anno_res$SYMBOL) & \n",
        "  anno_res$SYMBOL == 'Hmga2' &\n",
        "  anno_res$padj < 0.05 &\n",
        "  anno_res$log_ratio > 0.1]"
      ],
      "metadata": {
        "id": "ekJMJXLAhWRD",
        "colab": {
          "base_uri": "https://localhost:8080/",
          "height": 435
        },
        "outputId": "5813db03-bc87-4068-c743-8365cf82f226"
      },
      "execution_count": 46,
      "outputs": [
        {
          "output_type": "display_data",
          "data": {
            "text/plain": [
              "GRanges object with 2 ranges and 17 metadata columns:\n",
              "      seqnames              ranges strand |    pvalue_z       padj\n",
              "         <Rle>           <IRanges>  <Rle> |   <numeric>  <numeric>\n",
              "  [1]    chr10 120558016-120558655      * | 1.32153e-07 0.00550045\n",
              "  [2]    chr10 120558018-120558657      * | 4.49326e-08 0.00193520\n",
              "      nucleosome_treatment nucleosome_control log_ratio        annotation\n",
              "                 <numeric>          <numeric> <numeric>       <character>\n",
              "  [1]             0.544752           0.395510  0.320155 Distal Intergenic\n",
              "  [2]             0.541241           0.426216  0.238919 Distal Intergenic\n",
              "        geneChr geneStart   geneEnd geneLength geneStrand      geneId\n",
              "      <integer> <integer> <integer>  <integer>  <integer> <character>\n",
              "  [1]        10 120361275 120476469     115195          2       15364\n",
              "  [2]        10 120361275 120476469     115195          2       15364\n",
              "              transcriptId distanceToTSS            ENSEMBL      SYMBOL\n",
              "               <character>     <numeric>        <character> <character>\n",
              "  [1] ENSMUST00000159699.1        -81547 ENSMUSG00000056758       Hmga2\n",
              "  [2] ENSMUST00000159699.1        -81549 ENSMUSG00000056758       Hmga2\n",
              "                    GENENAME\n",
              "                 <character>\n",
              "  [1] high mobility group ..\n",
              "  [2] high mobility group ..\n",
              "  -------\n",
              "  seqinfo: 20 sequences from an unspecified genome; no seqlengths"
            ]
          },
          "metadata": {}
        }
      ]
    },
    {
      "cell_type": "code",
      "source": [
        "hmga2 <- !is.na(anno_res$SYMBOL) & \n",
        "  anno_res$SYMBOL == 'Hmga2' &\n",
        "  anno_res$padj < 0.05 &\n",
        "  anno_res$log_ratio > 0.1 &\n",
        "  abs(anno_res$nucleosome_control - 0.395510) < 0.001"
      ],
      "metadata": {
        "id": "g5cVBkJghWRD"
      },
      "execution_count": 47,
      "outputs": []
    },
    {
      "cell_type": "code",
      "source": [
        "x2 <- model %>% predict(x[hmga2], batch_size = ARGS[['vae_batch_size']], vplots = TRUE)\n",
        "p1 <- vplot(x2, 'counts', ncol = 2L) +ggtitle('counts                                        Hmga2') \n",
        "p2 <- vplot(x2, 'predicted_counts', ncol = 2L)"
      ],
      "metadata": {
        "id": "_-8iAuKKhWRD"
      },
      "execution_count": 48,
      "outputs": []
    },
    {
      "cell_type": "code",
      "source": [
        "options(repr.plot.width = 8, repr.plot.height = 8)\n",
        "p1 / p2  + plot_annotation(tag_levels = 'A')"
      ],
      "metadata": {
        "colab": {
          "base_uri": "https://localhost:8080/",
          "height": 570
        },
        "outputId": "20e57e9f-d69c-4976-d752-b68f12de59de",
        "id": "OTrjCHXzhWRE"
      },
      "execution_count": 49,
      "outputs": [
        {
          "output_type": "stream",
          "name": "stderr",
          "text": [
            "Warning message:\n",
            "“Removed 64 rows containing missing values (geom_raster).”\n",
            "Warning message:\n",
            "“Removed 64 rows containing missing values (geom_raster).”\n"
          ]
        },
        {
          "output_type": "display_data",
          "data": {
            "text/plain": [
              "plot without title"
            ],
            "image/png": "[encoded data removed]"
          },
          "metadata": {
            "image/png": {
              "width": 480,
              "height": 480
            }
          }
        }
      ]
    },
    {
      "cell_type": "markdown",
      "source": [
        "##Egfr "
      ],
      "metadata": {
        "id": "T6JUHPIKlnfa"
      }
    },
    {
      "cell_type": "code",
      "source": [
        "anno_res[!is.na(anno_res$SYMBOL) & \n",
        "  anno_res$SYMBOL == 'Egfr' &\n",
        "  anno_res$padj < 0.05 &\n",
        "  anno_res$log_ratio > 0.1]"
      ],
      "metadata": {
        "colab": {
          "base_uri": "https://localhost:8080/",
          "height": 617
        },
        "outputId": "35d57389-1e60-4150-d776-6b2489919191",
        "id": "Je6mOBH0lngB"
      },
      "execution_count": 50,
      "outputs": [
        {
          "output_type": "display_data",
          "data": {
            "text/plain": [
              "GRanges object with 4 ranges and 17 metadata columns:\n",
              "      seqnames            ranges strand |    pvalue_z        padj\n",
              "         <Rle>         <IRanges>  <Rle> |   <numeric>   <numeric>\n",
              "  [1]    chr11 16769775-16770414      * | 2.22045e-16 1.28138e-11\n",
              "  [2]    chr11 16895256-16895895      * | 3.33067e-15 1.87736e-10\n",
              "  [3]    chr11 16895256-16895895      * | 3.33067e-15 1.87736e-10\n",
              "  [4]    chr11 16904433-16905072      * | 5.26055e-09 2.40634e-04\n",
              "      nucleosome_treatment nucleosome_control log_ratio             annotation\n",
              "                 <numeric>          <numeric> <numeric>            <character>\n",
              "  [1]             0.726498           0.460146  0.456692 Intron (ENSMUST00000..\n",
              "  [2]             0.622667           0.524949  0.170710 Intron (ENSMUST00000..\n",
              "  [3]             0.622667           0.524949  0.170710 Intron (ENSMUST00000..\n",
              "  [4]             0.629113           0.433060  0.373435       Promoter (<=1kb)\n",
              "        geneChr geneStart   geneEnd geneLength geneStrand      geneId\n",
              "      <integer> <integer> <integer>  <integer>  <integer> <character>\n",
              "  [1]        11  16752230  16793744      41515          1       13649\n",
              "  [2]        11  16905185  16910809       5625          1       13649\n",
              "  [3]        11  16905185  16910809       5625          1       13649\n",
              "  [4]        11  16905185  16910809       5625          1       13649\n",
              "              transcriptId distanceToTSS            ENSEMBL      SYMBOL\n",
              "               <character>     <numeric>        <character> <character>\n",
              "  [1] ENSMUST00000139722.1         17545 ENSMUSG00000020122        Egfr\n",
              "  [2] ENSMUST00000138518.1         -9290 ENSMUSG00000020122        Egfr\n",
              "  [3] ENSMUST00000138518.1         -9290 ENSMUSG00000020122        Egfr\n",
              "  [4] ENSMUST00000138518.1          -113 ENSMUSG00000020122        Egfr\n",
              "                    GENENAME\n",
              "                 <character>\n",
              "  [1] epidermal growth fac..\n",
              "  [2] epidermal growth fac..\n",
              "  [3] epidermal growth fac..\n",
              "  [4] epidermal growth fac..\n",
              "  -------\n",
              "  seqinfo: 20 sequences from an unspecified genome; no seqlengths"
            ]
          },
          "metadata": {}
        }
      ]
    },
    {
      "cell_type": "code",
      "source": [
        "egfr <- !is.na(anno_res$SYMBOL) & \n",
        "  anno_res$SYMBOL == 'Egfr' &\n",
        "  anno_res$padj < 0.05 &\n",
        "  anno_res$log_ratio > 0.1 &\n",
        "  anno_res$annotation == 'Promoter (<=1kb)'"
      ],
      "metadata": {
        "id": "CpvJ2ifGlngk"
      },
      "execution_count": 51,
      "outputs": []
    },
    {
      "cell_type": "code",
      "source": [
        "x2 <- model %>% predict(x[egfr], batch_size = ARGS[['vae_batch_size']], vplots = TRUE)\n",
        "p1 <- vplot(x2, 'counts', ncol = 2L) +ggtitle('counts                                        Egfr') \n",
        "p2 <- vplot(x2, 'predicted_counts', ncol = 2L)"
      ],
      "metadata": {
        "id": "ljyOttYElngk"
      },
      "execution_count": 52,
      "outputs": []
    },
    {
      "cell_type": "code",
      "source": [
        "options(repr.plot.width = 8, repr.plot.height = 8)\n",
        "p1 / p2  + plot_annotation(tag_levels = 'A')"
      ],
      "metadata": {
        "colab": {
          "base_uri": "https://localhost:8080/",
          "height": 570
        },
        "outputId": "56ac795a-66db-4b36-9ee7-bf82b033cecb",
        "id": "BbMj2upYlngl"
      },
      "execution_count": 53,
      "outputs": [
        {
          "output_type": "stream",
          "name": "stderr",
          "text": [
            "Warning message:\n",
            "“Removed 64 rows containing missing values (geom_raster).”\n",
            "Warning message:\n",
            "“Removed 64 rows containing missing values (geom_raster).”\n"
          ]
        },
        {
          "output_type": "display_data",
          "data": {
            "text/plain": [
              "plot without title"
            ],
            "image/png": "[encoded data removed]"
          },
          "metadata": {
            "image/png": {
              "width": 480,
              "height": 480
            }
          }
        }
      ]
    },
    {
      "cell_type": "markdown",
      "source": [
        "##Elf4 "
      ],
      "metadata": {
        "id": "1V6YBUMlm24n"
      }
    },
    {
      "cell_type": "code",
      "source": [
        "anno_res[!is.na(anno_res$SYMBOL) & \n",
        "  anno_res$SYMBOL == 'Elf4' &\n",
        "  anno_res$padj < 0.05 &\n",
        "  anno_res$log_ratio > 0.1]"
      ],
      "metadata": {
        "id": "4Bak2t1Lm24u",
        "colab": {
          "base_uri": "https://localhost:8080/",
          "height": 435
        },
        "outputId": "83a44d36-96fa-4fcd-bccf-ffa8c89e83af"
      },
      "execution_count": 54,
      "outputs": [
        {
          "output_type": "display_data",
          "data": {
            "text/plain": [
              "GRanges object with 2 ranges and 17 metadata columns:\n",
              "      seqnames            ranges strand |    pvalue_z       padj\n",
              "         <Rle>         <IRanges>  <Rle> |   <numeric>  <numeric>\n",
              "  [1]     chrX 48463009-48463648      * | 2.29692e-08 0.00100959\n",
              "  [2]     chrX 48463009-48463648      * | 2.29692e-08 0.00100959\n",
              "      nucleosome_treatment nucleosome_control log_ratio       annotation\n",
              "                 <numeric>          <numeric> <numeric>      <character>\n",
              "  [1]             0.677472           0.551334  0.206027 Promoter (<=1kb)\n",
              "  [2]             0.677472           0.551334  0.206027 Promoter (<=1kb)\n",
              "        geneChr geneStart   geneEnd geneLength geneStrand      geneId\n",
              "      <integer> <integer> <integer>  <integer>  <integer> <character>\n",
              "  [1]        20  48411049  48463132      52084          2       56501\n",
              "  [2]        20  48411049  48463132      52084          2       56501\n",
              "              transcriptId distanceToTSS            ENSEMBL      SYMBOL\n",
              "               <character>     <numeric>        <character> <character>\n",
              "  [1] ENSMUST00000033429.8             0 ENSMUSG00000031103        Elf4\n",
              "  [2] ENSMUST00000033429.8             0 ENSMUSG00000031103        Elf4\n",
              "                    GENENAME\n",
              "                 <character>\n",
              "  [1] E74-like factor 4 (e..\n",
              "  [2] E74-like factor 4 (e..\n",
              "  -------\n",
              "  seqinfo: 20 sequences from an unspecified genome; no seqlengths"
            ]
          },
          "metadata": {}
        }
      ]
    },
    {
      "cell_type": "code",
      "source": [
        "elf4 <- !is.na(anno_res$SYMBOL) & \n",
        "  anno_res$SYMBOL == 'Elf4' &\n",
        "  anno_res$padj < 0.05 &\n",
        "  anno_res$log_ratio > 0.1 "
      ],
      "metadata": {
        "id": "GF8b034Fm24x"
      },
      "execution_count": 55,
      "outputs": []
    },
    {
      "cell_type": "code",
      "source": [
        "x2 <- model %>% predict(x[elf4], batch_size = ARGS[['vae_batch_size']], vplots = TRUE)\n",
        "p1 <- vplot(x2, 'counts', ncol = 2L) +ggtitle('counts                                        Elf4') \n",
        "p2 <- vplot(x2, 'predicted_counts', ncol = 2L)"
      ],
      "metadata": {
        "id": "XvkD2dM6m240"
      },
      "execution_count": 56,
      "outputs": []
    },
    {
      "cell_type": "code",
      "source": [
        "options(repr.plot.width = 8, repr.plot.height = 8)\n",
        "p1 / p2  + plot_annotation(tag_levels = 'A')"
      ],
      "metadata": {
        "colab": {
          "base_uri": "https://localhost:8080/",
          "height": 570
        },
        "outputId": "5934b668-76f3-4029-dae8-b14b432b8f29",
        "id": "BGq18JcIm241"
      },
      "execution_count": 57,
      "outputs": [
        {
          "output_type": "stream",
          "name": "stderr",
          "text": [
            "Warning message:\n",
            "“Removed 64 rows containing missing values (geom_raster).”\n",
            "Warning message:\n",
            "“Removed 64 rows containing missing values (geom_raster).”\n"
          ]
        },
        {
          "output_type": "display_data",
          "data": {
            "text/plain": [
              "plot without title"
            ],
            "image/png": "[encoded data removed]"
          },
          "metadata": {
            "image/png": {
              "width": 480,
              "height": 480
            }
          }
        }
      ]
    },
    {
      "cell_type": "markdown",
      "metadata": {
        "id": "wjg4jMFjHz_P"
      },
      "source": [
        "## SessionInfo"
      ]
    },
    {
      "cell_type": "code",
      "metadata": {
        "id": "1O6H0QYdIBSN",
        "colab": {
          "base_uri": "https://localhost:8080/",
          "height": 1000
        },
        "outputId": "8e1d8c07-3129-455b-fa55-eba2be640daa"
      },
      "source": [
        "sessionInfo()"
      ],
      "execution_count": 58,
      "outputs": [
        {
          "output_type": "display_data",
          "data": {
            "text/plain": [
              "R version 4.1.3 (2022-03-10)\n",
              "Platform: x86_64-pc-linux-gnu (64-bit)\n",
              "Running under: Ubuntu 18.04.5 LTS\n",
              "\n",
              "Matrix products: default\n",
              "BLAS:   /usr/lib/x86_64-linux-gnu/openblas/libblas.so.3\n",
              "LAPACK: /usr/lib/x86_64-linux-gnu/libopenblasp-r0.2.20.so\n",
              "\n",
              "locale:\n",
              " [1] LC_CTYPE=en_US.UTF-8       LC_NUMERIC=C              \n",
              " [3] LC_TIME=en_US.UTF-8        LC_COLLATE=en_US.UTF-8    \n",
              " [5] LC_MONETARY=en_US.UTF-8    LC_MESSAGES=en_US.UTF-8   \n",
              " [7] LC_PAPER=en_US.UTF-8       LC_NAME=C                 \n",
              " [9] LC_ADDRESS=C               LC_TELEPHONE=C            \n",
              "[11] LC_MEASUREMENT=en_US.UTF-8 LC_IDENTIFICATION=C       \n",
              "\n",
              "attached base packages:\n",
              "[1] grid      stats4    stats     graphics  grDevices utils     datasets \n",
              "[8] methods   base     \n",
              "\n",
              "other attached packages:\n",
              " [1] VennDiagram_1.7.3                        \n",
              " [2] futile.logger_1.4.3                      \n",
              " [3] igraph_1.3.0                             \n",
              " [4] chromVARmotifs_0.2.0                     \n",
              " [5] motifmatchr_1.16.0                       \n",
              " [6] BSgenome.Mmusculus.UCSC.mm10_1.4.3       \n",
              " [7] BSgenome_1.62.0                          \n",
              " [8] rtracklayer_1.54.0                       \n",
              " [9] Biostrings_2.62.0                        \n",
              "[10] XVector_0.34.0                           \n",
              "[11] seatac_0.4.0-010                         \n",
              "[12] SummarizedExperiment_1.24.0              \n",
              "[13] MatrixGenerics_1.6.0                     \n",
              "[14] matrixStats_0.61.0                       \n",
              "[15] tfdatasets_2.7.0                         \n",
              "[16] tfprobability_0.15.0                     \n",
              "[17] tensorflow_2.8.0                         \n",
              "[18] devtools_2.4.3                           \n",
              "[19] usethis_2.1.5                            \n",
              "[20] clusterProfiler_4.2.2                    \n",
              "[21] org.Mm.eg.db_3.14.0                      \n",
              "[22] TxDb.Mmusculus.UCSC.mm10.knownGene_3.10.0\n",
              "[23] GenomicFeatures_1.46.5                   \n",
              "[24] AnnotationDbi_1.56.2                     \n",
              "[25] Biobase_2.54.0                           \n",
              "[26] GenomicRanges_1.46.1                     \n",
              "[27] GenomeInfoDb_1.30.1                      \n",
              "[28] IRanges_2.28.0                           \n",
              "[29] S4Vectors_0.32.4                         \n",
              "[30] BiocGenerics_0.40.0                      \n",
              "[31] ChIPseeker_1.31.4                        \n",
              "[32] patchwork_1.1.1                          \n",
              "[33] ggplot2_3.3.5                            \n",
              "[34] dplyr_1.0.8                              \n",
              "\n",
              "loaded via a namespace (and not attached):\n",
              "  [1] utf8_1.2.2                             \n",
              "  [2] R.utils_2.11.0                         \n",
              "  [3] reticulate_1.24                        \n",
              "  [4] tidyselect_1.1.2                       \n",
              "  [5] poweRlaw_0.70.6                        \n",
              "  [6] RSQLite_2.2.12                         \n",
              "  [7] BiocParallel_1.28.3                    \n",
              "  [8] scatterpie_0.1.7                       \n",
              "  [9] munsell_0.5.0                          \n",
              " [10] pbdZMQ_0.3-7                           \n",
              " [11] withr_2.5.0                            \n",
              " [12] keras_2.8.0                            \n",
              " [13] colorspace_2.0-3                       \n",
              " [14] GOSemSim_2.20.0                        \n",
              " [15] filelock_1.0.2                         \n",
              " [16] uuid_1.0-4                             \n",
              " [17] DOSE_3.20.1                            \n",
              " [18] labeling_0.4.2                         \n",
              " [19] repr_1.1.4                             \n",
              " [20] GenomeInfoDbData_1.2.7                 \n",
              " [21] polyclip_1.10-0                        \n",
              " [22] bit64_4.0.5                            \n",
              " [23] farver_2.1.0                           \n",
              " [24] rprojroot_2.0.3                        \n",
              " [25] downloader_0.4                         \n",
              " [26] vctrs_0.4.0                            \n",
              " [27] treeio_1.18.1                          \n",
              " [28] generics_0.1.2                         \n",
              " [29] lambda.r_1.2.4                         \n",
              " [30] BiocFileCache_2.2.1                    \n",
              " [31] R6_2.5.1                               \n",
              " [32] graphlayouts_0.8.0                     \n",
              " [33] bitops_1.0-7                           \n",
              " [34] cachem_1.0.6                           \n",
              " [35] fgsea_1.20.0                           \n",
              " [36] gridGraphics_0.5-1                     \n",
              " [37] DelayedArray_0.20.0                    \n",
              " [38] assertthat_0.2.1                       \n",
              " [39] BiocIO_1.4.0                           \n",
              " [40] scales_1.1.1                           \n",
              " [41] ggraph_2.0.5                           \n",
              " [42] enrichplot_1.13.1.992                  \n",
              " [43] gtable_0.3.0                           \n",
              " [44] processx_3.5.3                         \n",
              " [45] tidygraph_1.2.1                        \n",
              " [46] seqLogo_1.60.0                         \n",
              " [47] rlang_1.0.2                            \n",
              " [48] zeallot_0.1.0                          \n",
              " [49] splines_4.1.3                          \n",
              " [50] lazyeval_0.2.2                         \n",
              " [51] abind_1.4-5                            \n",
              " [52] BiocManager_1.30.16                    \n",
              " [53] yaml_2.3.5                             \n",
              " [54] reshape2_1.4.4                         \n",
              " [55] backports_1.4.1                        \n",
              " [56] qvalue_2.26.0                          \n",
              " [57] tools_4.1.3                            \n",
              " [58] ggplotify_0.1.0                        \n",
              " [59] ellipsis_0.3.2                         \n",
              " [60] gplots_3.1.1                           \n",
              " [61] RColorBrewer_1.1-3                     \n",
              " [62] sessioninfo_1.2.2                      \n",
              " [63] Rcpp_1.0.8.3                           \n",
              " [64] plyr_1.8.7                             \n",
              " [65] base64enc_0.1-3                        \n",
              " [66] progress_1.2.2                         \n",
              " [67] zlibbioc_1.40.0                        \n",
              " [68] purrr_0.3.4                            \n",
              " [69] RCurl_1.98-1.6                         \n",
              " [70] ps_1.6.0                               \n",
              " [71] prettyunits_1.1.1                      \n",
              " [72] viridis_0.6.2                          \n",
              " [73] ggrepel_0.9.1                          \n",
              " [74] here_1.0.1                             \n",
              " [75] fs_1.5.2                               \n",
              " [76] magrittr_2.0.3                         \n",
              " [77] futile.options_1.0.1                   \n",
              " [78] data.table_1.14.2                      \n",
              " [79] DO.db_2.9                              \n",
              " [80] tfautograph_0.3.2                      \n",
              " [81] whisker_0.4                            \n",
              " [82] pkgload_1.2.4                          \n",
              " [83] xtable_1.8-4                           \n",
              " [84] hms_1.1.1                              \n",
              " [85] evaluate_0.15                          \n",
              " [86] XML_3.99-0.9                           \n",
              " [87] gridExtra_2.3                          \n",
              " [88] tfruns_1.5.0                           \n",
              " [89] testthat_3.1.3                         \n",
              " [90] compiler_4.1.3                         \n",
              " [91] biomaRt_2.50.3                         \n",
              " [92] tibble_3.1.6                           \n",
              " [93] KernSmooth_2.23-20                     \n",
              " [94] crayon_1.5.1                           \n",
              " [95] shadowtext_0.1.1                       \n",
              " [96] R.oo_1.24.0                            \n",
              " [97] htmltools_0.5.2                        \n",
              " [98] tzdb_0.3.0                             \n",
              " [99] ggfun_0.0.6                            \n",
              "[100] TFBSTools_1.32.0                       \n",
              "[101] tidyr_1.2.0                            \n",
              "[102] aplot_0.1.3                            \n",
              "[103] DBI_1.1.2                              \n",
              "[104] formatR_1.12                           \n",
              "[105] tweenr_1.0.2                           \n",
              "[106] dbplyr_2.1.1                           \n",
              "[107] MASS_7.3-56                            \n",
              "[108] rappdirs_0.3.3                         \n",
              "[109] boot_1.3-28                            \n",
              "[110] readr_2.1.2                            \n",
              "[111] Matrix_1.4-1                           \n",
              "[112] brio_1.1.3                             \n",
              "[113] cli_3.2.0                              \n",
              "[114] R.methodsS3_1.8.1                      \n",
              "[115] parallel_4.1.3                         \n",
              "[116] pkgconfig_2.0.3                        \n",
              "[117] TxDb.Hsapiens.UCSC.hg19.knownGene_3.2.2\n",
              "[118] TFMPvalue_0.0.8                        \n",
              "[119] GenomicAlignments_1.30.0               \n",
              "[120] IRdisplay_1.1                          \n",
              "[121] xml2_1.3.3                             \n",
              "[122] annotate_1.72.0                        \n",
              "[123] ggtree_3.2.1                           \n",
              "[124] DirichletMultinomial_1.36.0            \n",
              "[125] yulab.utils_0.0.4                      \n",
              "[126] stringr_1.4.0                          \n",
              "[127] callr_3.7.0                            \n",
              "[128] digest_0.6.29                          \n",
              "[129] pracma_2.3.8                           \n",
              "[130] CNEr_1.30.0                            \n",
              "[131] fastmatch_1.1-3                        \n",
              "[132] tidytree_0.3.9                         \n",
              "[133] restfulr_0.0.13                        \n",
              "[134] curl_4.3.2                             \n",
              "[135] Rsamtools_2.10.0                       \n",
              "[136] gtools_3.9.2                           \n",
              "[137] rjson_0.2.21                           \n",
              "[138] lifecycle_1.0.1                        \n",
              "[139] nlme_3.1-157                           \n",
              "[140] jsonlite_1.8.0                         \n",
              "[141] desc_1.4.1                             \n",
              "[142] viridisLite_0.4.0                      \n",
              "[143] fansi_1.0.3                            \n",
              "[144] pillar_1.7.0                           \n",
              "[145] lattice_0.20-45                        \n",
              "[146] KEGGREST_1.34.0                        \n",
              "[147] fastmap_1.1.0                          \n",
              "[148] httr_1.4.2                             \n",
              "[149] plotrix_3.8-2                          \n",
              "[150] pkgbuild_1.3.1                         \n",
              "[151] GO.db_3.14.0                           \n",
              "[152] glue_1.6.2                             \n",
              "[153] remotes_2.4.2                          \n",
              "[154] png_0.1-7                              \n",
              "[155] bit_4.0.4                              \n",
              "[156] ggforce_0.3.3                          \n",
              "[157] stringi_1.7.6                          \n",
              "[158] blob_1.2.3                             \n",
              "[159] caTools_1.18.2                         \n",
              "[160] memoise_2.0.1                          \n",
              "[161] IRkernel_1.3                           \n",
              "[162] ape_5.6-2                              "
            ]
          },
          "metadata": {}
        }
      ]
    },
    {
      "cell_type": "code",
      "metadata": {
        "id": "-4pQeVrGHxXr",
        "colab": {
          "base_uri": "https://localhost:8080/",
          "height": 35
        },
        "outputId": "1734cc75-e529-47da-af4b-689a38a9d368"
      },
      "source": [
        "Sys.time() - start_time"
      ],
      "execution_count": 59,
      "outputs": [
        {
          "output_type": "display_data",
          "data": {
            "text/plain": [
              "Time difference of 36.05009 mins"
            ]
          },
          "metadata": {}
        }
      ]
    }
  ]
}